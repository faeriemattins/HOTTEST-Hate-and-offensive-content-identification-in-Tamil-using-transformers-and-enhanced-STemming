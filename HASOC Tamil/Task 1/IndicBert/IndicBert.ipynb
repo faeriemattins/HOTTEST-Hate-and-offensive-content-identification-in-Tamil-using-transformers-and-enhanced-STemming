{
 "cells": [
  {
   "cell_type": "markdown",
   "metadata": {
    "id": "WQuHH8lFOLcP"
   },
   "source": [
    "## **Setting up Development Environment**"
   ]
  },
  {
   "cell_type": "code",
   "execution_count": 1,
   "metadata": {
    "colab": {
     "base_uri": "https://localhost:8080/"
    },
    "executionInfo": {
     "elapsed": 17,
     "status": "ok",
     "timestamp": 1633497464685,
     "user": {
      "displayName": "Srivarshan 19BAI1078",
      "photoUrl": "https://lh3.googleusercontent.com/a/default-user=s64",
      "userId": "03718411517360748676"
     },
     "user_tz": -330
    },
    "id": "uu4Du1Kh3cFa",
    "outputId": "d8d9a0ea-8ea2-4ae2-a2d4-42259b1e65d4"
   },
   "outputs": [
    {
     "name": "stdout",
     "output_type": "stream",
     "text": [
      "Drive already mounted at /content/drive; to attempt to forcibly remount, call drive.mount(\"/content/drive\", force_remount=True).\n"
     ]
    }
   ],
   "source": [
    "from google.colab import drive\n",
    "drive.mount('/content/drive')"
   ]
  },
  {
   "cell_type": "code",
   "execution_count": 2,
   "metadata": {
    "colab": {
     "base_uri": "https://localhost:8080/"
    },
    "executionInfo": {
     "elapsed": 360,
     "status": "ok",
     "timestamp": 1633497467935,
     "user": {
      "displayName": "Srivarshan 19BAI1078",
      "photoUrl": "https://lh3.googleusercontent.com/a/default-user=s64",
      "userId": "03718411517360748676"
     },
     "user_tz": -330
    },
    "id": "B85IYp3yOWLc",
    "outputId": "b317c60c-f548-4ceb-90b1-4b198f675759"
   },
   "outputs": [
    {
     "name": "stdout",
     "output_type": "stream",
     "text": [
      "/content/drive/MyDrive/Colab Notebooks/Hate-Speech-Detection-in-Tamil/HASOC Tamil/Task 1\n"
     ]
    }
   ],
   "source": [
    "% cd /content/drive/MyDrive/Colab Notebooks/Hate-Speech-Detection-in-Tamil/HASOC Tamil/Task 1"
   ]
  },
  {
   "cell_type": "code",
   "execution_count": 3,
   "metadata": {
    "executionInfo": {
     "elapsed": 7224,
     "status": "ok",
     "timestamp": 1633497475784,
     "user": {
      "displayName": "Srivarshan 19BAI1078",
      "photoUrl": "https://lh3.googleusercontent.com/a/default-user=s64",
      "userId": "03718411517360748676"
     },
     "user_tz": -330
    },
    "id": "ZDshMJ7-fkmL"
   },
   "outputs": [],
   "source": [
    "! pip install -U -q transformers\n",
    "! pip install -U -q sentencepiece"
   ]
  },
  {
   "cell_type": "markdown",
   "metadata": {
    "id": "eRv9-m1JOdQ5"
   },
   "source": [
    "## **Importing Libraries**"
   ]
  },
  {
   "cell_type": "code",
   "execution_count": 4,
   "metadata": {
    "executionInfo": {
     "elapsed": 3591,
     "status": "ok",
     "timestamp": 1633497491906,
     "user": {
      "displayName": "Srivarshan 19BAI1078",
      "photoUrl": "https://lh3.googleusercontent.com/a/default-user=s64",
      "userId": "03718411517360748676"
     },
     "user_tz": -330
    },
    "id": "APy2U3pfObp0"
   },
   "outputs": [],
   "source": [
    "import pandas as pd\n",
    "\n",
    "import numpy as np\n",
    "\n",
    "from sklearn.preprocessing import LabelEncoder\n",
    "from sklearn.feature_extraction.text import TfidfVectorizer\n",
    "from sklearn.model_selection import train_test_split\n",
    "from sklearn.linear_model import LogisticRegression\n",
    "from sklearn.svm import SVC\n",
    "from sklearn.naive_bayes import GaussianNB\n",
    "from sklearn.linear_model import SGDClassifier\n",
    "from sklearn.neighbors import KNeighborsClassifier\n",
    "from sklearn.tree import DecisionTreeClassifier\n",
    "from sklearn.ensemble import RandomForestClassifier\n",
    "from sklearn.metrics import classification_report\n",
    "\n",
    "from transformers import AutoTokenizer, AutoModel\n",
    "\n",
    "import pickle"
   ]
  },
  {
   "cell_type": "markdown",
   "metadata": {
    "id": "LLyGkLztOiDs"
   },
   "source": [
    "## **Setting up Stemmer**"
   ]
  },
  {
   "cell_type": "code",
   "execution_count": 5,
   "metadata": {
    "colab": {
     "base_uri": "https://localhost:8080/"
    },
    "executionInfo": {
     "elapsed": 16319,
     "status": "ok",
     "timestamp": 1633497634555,
     "user": {
      "displayName": "Srivarshan 19BAI1078",
      "photoUrl": "https://lh3.googleusercontent.com/a/default-user=s64",
      "userId": "03718411517360748676"
     },
     "user_tz": -330
    },
    "id": "sY7J1UyGOgZf",
    "outputId": "d6cd017e-9d8c-49fe-e026-94b483a7cce3"
   },
   "outputs": [
    {
     "name": "stdout",
     "output_type": "stream",
     "text": [
      "rm: cannot remove 'input.txt': No such file or directory\n",
      "rm: cannot remove 'output.txt': No such file or directory\n",
      "/content/drive/My Drive/Colab Notebooks/Hate-Speech-Detection-in-Tamil/HASOC Tamil/Task 1/tamil-stemmer-build\n",
      "Cloning into 'tamil-stemmer'...\n",
      "remote: Enumerating objects: 88, done.\u001b[K\n",
      "remote: Total 88 (delta 0), reused 0 (delta 0), pack-reused 88\u001b[K\n",
      "Unpacking objects: 100% (88/88), done.\n",
      "/content/drive/My Drive/Colab Notebooks/Hate-Speech-Detection-in-Tamil/HASOC Tamil/Task 1/tamil-stemmer-build/snowball-with-tamil\n",
      "cc -Iinclude -O2 -W -Wall -Wmissing-prototypes -Wmissing-declarations  -c -o compiler/space.o compiler/space.c\n",
      "cc -Iinclude -O2 -W -Wall -Wmissing-prototypes -Wmissing-declarations  -c -o compiler/tokeniser.o compiler/tokeniser.c\n",
      "In file included from \u001b[01m\u001b[Kcompiler/tokeniser.c:6:0\u001b[m\u001b[K:\n",
      "\u001b[01m\u001b[Kcompiler/tokeniser.c:\u001b[m\u001b[K In function ‘\u001b[01m\u001b[Kread_token\u001b[m\u001b[K’:\n",
      "\u001b[01m\u001b[Kcompiler/header.h:8:21:\u001b[m\u001b[K \u001b[01;35m\u001b[Kwarning: \u001b[m\u001b[Kthis statement may fall through [\u001b[01;35m\u001b[K-Wimplicit-fallthrough=\u001b[m\u001b[K]\n",
      " #define unless(C) if\u001b[01;35m\u001b[K(\u001b[m\u001b[K!(C))\n",
      "                     \u001b[01;35m\u001b[K^\u001b[m\u001b[K\n",
      "\u001b[01m\u001b[Kcompiler/tokeniser.c:390:16:\u001b[m\u001b[K \u001b[01;36m\u001b[Knote: \u001b[m\u001b[Kin expansion of macro ‘\u001b[01m\u001b[Kunless\u001b[m\u001b[K’\n",
      "                \u001b[01;36m\u001b[Kunless\u001b[m\u001b[K (t->next == 0) {\n",
      "                \u001b[01;36m\u001b[K^~~~~~\u001b[m\u001b[K\n",
      "\u001b[01m\u001b[Kcompiler/tokeniser.c:401:13:\u001b[m\u001b[K \u001b[01;36m\u001b[Knote: \u001b[m\u001b[Khere\n",
      "             \u001b[01;36m\u001b[Kdefault\u001b[m\u001b[K:\n",
      "             \u001b[01;36m\u001b[K^~~~~~~\u001b[m\u001b[K\n",
      "\u001b[01m\u001b[Kcompiler/tokeniser.c:\u001b[m\u001b[K In function ‘\u001b[01m\u001b[Kwhite_space\u001b[m\u001b[K’:\n",
      "\u001b[01m\u001b[Kcompiler/tokeniser.c:106:34:\u001b[m\u001b[K \u001b[01;35m\u001b[Kwarning: \u001b[m\u001b[Kthis statement may fall through [\u001b[01;35m\u001b[K-Wimplicit-fallthrough=\u001b[m\u001b[K]\n",
      "         case '\\n': \u001b[01;35m\u001b[Kt->line_number++\u001b[m\u001b[K;\n",
      "                    \u001b[01;35m\u001b[K~~~~~~~~~~~~~~^~\u001b[m\u001b[K\n",
      "\u001b[01m\u001b[Kcompiler/tokeniser.c:107:9:\u001b[m\u001b[K \u001b[01;36m\u001b[Knote: \u001b[m\u001b[Khere\n",
      "         \u001b[01;36m\u001b[Kcase\u001b[m\u001b[K '\\r':\n",
      "         \u001b[01;36m\u001b[K^~~~\u001b[m\u001b[K\n",
      "cc -Iinclude -O2 -W -Wall -Wmissing-prototypes -Wmissing-declarations  -c -o compiler/analyser.o compiler/analyser.c\n",
      "\u001b[01m\u001b[Kcompiler/analyser.c:\u001b[m\u001b[K In function ‘\u001b[01m\u001b[Kcheck_name_type\u001b[m\u001b[K’:\n",
      "\u001b[01m\u001b[Kcompiler/analyser.c:210:19:\u001b[m\u001b[K \u001b[01;35m\u001b[Kwarning: \u001b[m\u001b[Kthis ‘\u001b[01m\u001b[Kif\u001b[m\u001b[K’ clause does not guard... [\u001b[01;35m\u001b[K-Wmisleading-indentation\u001b[m\u001b[K]\n",
      "         case 'r': \u001b[01;35m\u001b[Kif\u001b[m\u001b[K (p->type == t_routine ||\n",
      "                   \u001b[01;35m\u001b[K^~\u001b[m\u001b[K\n",
      "\u001b[01m\u001b[Kcompiler/analyser.c:211:54:\u001b[m\u001b[K \u001b[01;36m\u001b[Knote: \u001b[m\u001b[K...this statement, but the latter is misleadingly indented as if it were guarded by the ‘\u001b[01m\u001b[Kif\u001b[m\u001b[K’\n",
      "                       p->type == t_external) return; \u001b[01;36m\u001b[Kbreak\u001b[m\u001b[K;\n",
      "                                                      \u001b[01;36m\u001b[K^~~~~\u001b[m\u001b[K\n",
      "\u001b[01m\u001b[Kcompiler/analyser.c:\u001b[m\u001b[K In function ‘\u001b[01m\u001b[Kread_program\u001b[m\u001b[K’:\n",
      "\u001b[01m\u001b[Kcompiler/analyser.c:859:21:\u001b[m\u001b[K \u001b[01;35m\u001b[Kwarning: \u001b[m\u001b[Kthis ‘\u001b[01m\u001b[Kif\u001b[m\u001b[K’ clause does not guard... [\u001b[01;35m\u001b[K-Wmisleading-indentation\u001b[m\u001b[K]\n",
      "                     \u001b[01;35m\u001b[Kif\u001b[m\u001b[K (q->used && q->definition == 0) error4(a, q); break;\n",
      "                     \u001b[01;35m\u001b[K^~\u001b[m\u001b[K\n",
      "\u001b[01m\u001b[Kcompiler/analyser.c:859:70:\u001b[m\u001b[K \u001b[01;36m\u001b[Knote: \u001b[m\u001b[K...this statement, but the latter is misleadingly indented as if it were guarded by the ‘\u001b[01m\u001b[Kif\u001b[m\u001b[K’\n",
      "                     if (q->used && q->definition == 0) error4(a, q); \u001b[01;36m\u001b[Kbreak\u001b[m\u001b[K;\n",
      "                                                                      \u001b[01;36m\u001b[K^~~~~\u001b[m\u001b[K\n",
      "\u001b[01m\u001b[Kcompiler/analyser.c:861:21:\u001b[m\u001b[K \u001b[01;35m\u001b[Kwarning: \u001b[m\u001b[Kthis ‘\u001b[01m\u001b[Kif\u001b[m\u001b[K’ clause does not guard... [\u001b[01;35m\u001b[K-Wmisleading-indentation\u001b[m\u001b[K]\n",
      "                     \u001b[01;35m\u001b[Kif\u001b[m\u001b[K (q->used && q->grouping == 0) error4(a, q); break;\n",
      "                     \u001b[01;35m\u001b[K^~\u001b[m\u001b[K\n",
      "\u001b[01m\u001b[Kcompiler/analyser.c:861:68:\u001b[m\u001b[K \u001b[01;36m\u001b[Knote: \u001b[m\u001b[K...this statement, but the latter is misleadingly indented as if it were guarded by the ‘\u001b[01m\u001b[Kif\u001b[m\u001b[K’\n",
      "                     if (q->used && q->grouping == 0) error4(a, q); \u001b[01;36m\u001b[Kbreak\u001b[m\u001b[K;\n",
      "                                                                    \u001b[01;36m\u001b[K^~~~~\u001b[m\u001b[K\n",
      "\u001b[01m\u001b[Kcompiler/analyser.c:\u001b[m\u001b[K In function ‘\u001b[01m\u001b[Kread_program_\u001b[m\u001b[K’:\n",
      "\u001b[01m\u001b[Kcompiler/analyser.c:842:20:\u001b[m\u001b[K \u001b[01;35m\u001b[Kwarning: \u001b[m\u001b[Kthis statement may fall through [\u001b[01;35m\u001b[K-Wimplicit-fallthrough=\u001b[m\u001b[K]\n",
      "                 if \u001b[01;35m\u001b[K(\u001b[m\u001b[Kterminator == c_ket) return;\n",
      "                    \u001b[01;35m\u001b[K^\u001b[m\u001b[K\n",
      "\u001b[01m\u001b[Kcompiler/analyser.c:843:13:\u001b[m\u001b[K \u001b[01;36m\u001b[Knote: \u001b[m\u001b[Khere\n",
      "             \u001b[01;36m\u001b[Kdefault\u001b[m\u001b[K:\n",
      "             \u001b[01;36m\u001b[K^~~~~~~\u001b[m\u001b[K\n",
      "\u001b[01m\u001b[Kcompiler/analyser.c:\u001b[m\u001b[K In function ‘\u001b[01m\u001b[Kcheck_name_type\u001b[m\u001b[K’:\n",
      "\u001b[01m\u001b[Kcompiler/analyser.c:209:22:\u001b[m\u001b[K \u001b[01;35m\u001b[Kwarning: \u001b[m\u001b[Kthis statement may fall through [\u001b[01;35m\u001b[K-Wimplicit-fallthrough=\u001b[m\u001b[K]\n",
      "         case 'R': if \u001b[01;35m\u001b[K(\u001b[m\u001b[Kp->type == t_grouping) return;\n",
      "                      \u001b[01;35m\u001b[K^\u001b[m\u001b[K\n",
      "\u001b[01m\u001b[Kcompiler/analyser.c:210:9:\u001b[m\u001b[K \u001b[01;36m\u001b[Knote: \u001b[m\u001b[Khere\n",
      "         \u001b[01;36m\u001b[Kcase\u001b[m\u001b[K 'r': if (p->type == t_routine ||\n",
      "         \u001b[01;36m\u001b[K^~~~\u001b[m\u001b[K\n",
      "\u001b[01m\u001b[Kcompiler/analyser.c:\u001b[m\u001b[K In function ‘\u001b[01m\u001b[Kerror2\u001b[m\u001b[K’:\n",
      "\u001b[01m\u001b[Kcompiler/analyser.c:88:13:\u001b[m\u001b[K \u001b[01;35m\u001b[Kwarning: \u001b[m\u001b[Kthis statement may fall through [\u001b[01;35m\u001b[K-Wimplicit-fallthrough=\u001b[m\u001b[K]\n",
      "             \u001b[01;35m\u001b[Kfprintf(stderr, \"in among(...), \")\u001b[m\u001b[K;\n",
      "             \u001b[01;35m\u001b[K^~~~~~~~~~~~~~~~~~~~~~~~~~~~~~~~~~\u001b[m\u001b[K\n",
      "\u001b[01m\u001b[Kcompiler/analyser.c:89:9:\u001b[m\u001b[K \u001b[01;36m\u001b[Knote: \u001b[m\u001b[Khere\n",
      "         \u001b[01;36m\u001b[Kcase\u001b[m\u001b[K 1:\n",
      "         \u001b[01;36m\u001b[K^~~~\u001b[m\u001b[K\n",
      "\u001b[01m\u001b[Kcompiler/analyser.c:\u001b[m\u001b[K In function ‘\u001b[01m\u001b[Kname_of_type\u001b[m\u001b[K’:\n",
      "\u001b[01m\u001b[Kcompiler/analyser.c:64:19:\u001b[m\u001b[K \u001b[01;35m\u001b[Kwarning: \u001b[m\u001b[Kthis statement may fall through [\u001b[01;35m\u001b[K-Wimplicit-fallthrough=\u001b[m\u001b[K]\n",
      "          default: \u001b[01;35m\u001b[Kfault(1)\u001b[m\u001b[K;\n",
      "                   \u001b[01;35m\u001b[K^~~~~~~~\u001b[m\u001b[K\n",
      "\u001b[01m\u001b[Kcompiler/analyser.c:65:10:\u001b[m\u001b[K \u001b[01;36m\u001b[Knote: \u001b[m\u001b[Khere\n",
      "          \u001b[01;36m\u001b[Kcase\u001b[m\u001b[K 's': return \"string\";\n",
      "          \u001b[01;36m\u001b[K^~~~\u001b[m\u001b[K\n",
      "\u001b[01m\u001b[Kcompiler/analyser.c:\u001b[m\u001b[K In function ‘\u001b[01m\u001b[Kname_of_mode\u001b[m\u001b[K’:\n",
      "\u001b[01m\u001b[Kcompiler/analyser.c:55:19:\u001b[m\u001b[K \u001b[01;35m\u001b[Kwarning: \u001b[m\u001b[Kthis statement may fall through [\u001b[01;35m\u001b[K-Wimplicit-fallthrough=\u001b[m\u001b[K]\n",
      "          default: \u001b[01;35m\u001b[Kfault(0)\u001b[m\u001b[K;\n",
      "                   \u001b[01;35m\u001b[K^~~~~~~~\u001b[m\u001b[K\n",
      "\u001b[01m\u001b[Kcompiler/analyser.c:56:10:\u001b[m\u001b[K \u001b[01;36m\u001b[Knote: \u001b[m\u001b[Khere\n",
      "          \u001b[01;36m\u001b[Kcase\u001b[m\u001b[K m_backward: return \"string backward\";\n",
      "          \u001b[01;36m\u001b[K^~~~\u001b[m\u001b[K\n",
      "\u001b[01m\u001b[Kcompiler/analyser.c:\u001b[m\u001b[K In function ‘\u001b[01m\u001b[Kread_C\u001b[m\u001b[K’:\n",
      "\u001b[01m\u001b[Kcompiler/analyser.c:642:30:\u001b[m\u001b[K \u001b[01;35m\u001b[Kwarning: \u001b[m\u001b[Kthis statement may fall through [\u001b[01;35m\u001b[K-Wimplicit-fallthrough=\u001b[m\u001b[K]\n",
      "                     default: \u001b[01;35m\u001b[Kerror(a, 34)\u001b[m\u001b[K;\n",
      "                              \u001b[01;35m\u001b[K^~~~~~~~~~~~\u001b[m\u001b[K\n",
      "\u001b[01m\u001b[Kcompiler/analyser.c:643:21:\u001b[m\u001b[K \u001b[01;36m\u001b[Knote: \u001b[m\u001b[Khere\n",
      "                     \u001b[01;36m\u001b[Kcase\u001b[m\u001b[K t_string:\n",
      "                     \u001b[01;36m\u001b[K^~~~\u001b[m\u001b[K\n",
      "\u001b[01m\u001b[Kcompiler/analyser.c:607:13:\u001b[m\u001b[K \u001b[01;35m\u001b[Kwarning: \u001b[m\u001b[Kthis statement may fall through [\u001b[01;35m\u001b[K-Wimplicit-fallthrough=\u001b[m\u001b[K]\n",
      "             \u001b[01;35m\u001b[Kcheck_modifyable(a)\u001b[m\u001b[K;\n",
      "             \u001b[01;35m\u001b[K^~~~~~~~~~~~~~~~~~~\u001b[m\u001b[K\n",
      "\u001b[01m\u001b[Kcompiler/analyser.c:608:9:\u001b[m\u001b[K \u001b[01;36m\u001b[Knote: \u001b[m\u001b[Khere\n",
      "         \u001b[01;36m\u001b[Kcase\u001b[m\u001b[K c_next:\n",
      "         \u001b[01;36m\u001b[K^~~~\u001b[m\u001b[K\n",
      "\u001b[01m\u001b[Kcompiler/analyser.c:\u001b[m\u001b[K In function ‘\u001b[01m\u001b[Kread_among\u001b[m\u001b[K’:\n",
      "\u001b[01m\u001b[Kcompiler/analyser.c:536:17:\u001b[m\u001b[K \u001b[01;35m\u001b[Kwarning: \u001b[m\u001b[Kthis statement may fall through [\u001b[01;35m\u001b[K-Wimplicit-fallthrough=\u001b[m\u001b[K]\n",
      "                 \u001b[01;35m\u001b[Kerror(a, 3)\u001b[m\u001b[K;\n",
      "                 \u001b[01;35m\u001b[K^~~~~~~~~~~\u001b[m\u001b[K\n",
      "\u001b[01m\u001b[Kcompiler/analyser.c:537:13:\u001b[m\u001b[K \u001b[01;36m\u001b[Knote: \u001b[m\u001b[Khere\n",
      "             \u001b[01;36m\u001b[Kcase\u001b[m\u001b[K c_ket:\n",
      "             \u001b[01;36m\u001b[K^~~~\u001b[m\u001b[K\n",
      "cc -Iinclude -O2 -W -Wall -Wmissing-prototypes -Wmissing-declarations  -c -o compiler/generator.o compiler/generator.c\n",
      "\u001b[01m\u001b[Kcompiler/generator.c:\u001b[m\u001b[K In function ‘\u001b[01m\u001b[Kwlitarray\u001b[m\u001b[K’:\n",
      "\u001b[01m\u001b[Kcompiler/generator.c:97:32:\u001b[m\u001b[K \u001b[01;35m\u001b[Kwarning: \u001b[m\u001b[Kthis statement may fall through [\u001b[01;35m\u001b[K-Wimplicit-fallthrough=\u001b[m\u001b[K]\n",
      "                     case '\\\\': \u001b[01;35m\u001b[Kwch(g, '\\\\')\u001b[m\u001b[K;\n",
      "                                \u001b[01;35m\u001b[K^~~~~~~~~~~~\u001b[m\u001b[K\n",
      "\u001b[01m\u001b[Kcompiler/generator.c:98:21:\u001b[m\u001b[K \u001b[01;36m\u001b[Knote: \u001b[m\u001b[Khere\n",
      "                     \u001b[01;36m\u001b[Kdefault\u001b[m\u001b[K:   wch(g, ch);\n",
      "                     \u001b[01;36m\u001b[K^~~~~~~\u001b[m\u001b[K\n",
      "cc -Iinclude -O2 -W -Wall -Wmissing-prototypes -Wmissing-declarations  -c -o compiler/driver.o compiler/driver.c\n",
      "cc -Iinclude -O2 -W -Wall -Wmissing-prototypes -Wmissing-declarations  -c -o compiler/generator_java.o compiler/generator_java.c\n",
      "cc -o snowball compiler/space.o compiler/tokeniser.o compiler/analyser.o compiler/generator.o compiler/driver.o compiler/generator_java.o\n",
      "sed 's/@MODULES_H@/modules.h/' libstemmer/libstemmer_c.in >libstemmer/libstemmer.c\n",
      "libstemmer/mkmodules.pl libstemmer/modules.h src_c libstemmer/modules.txt libstemmer/mkinc.mak\n",
      "cp algorithms/danish/stem_ISO_8859_1.sbl algorithms/danish/stem_Unicode.sbl\n",
      "./snowball algorithms/danish/stem_Unicode.sbl -o src_c/stem_UTF_8_danish -eprefix danish_UTF_8_ -r ../runtime -u\n",
      "cp algorithms/dutch/stem_ISO_8859_1.sbl algorithms/dutch/stem_Unicode.sbl\n",
      "./snowball algorithms/dutch/stem_Unicode.sbl -o src_c/stem_UTF_8_dutch -eprefix dutch_UTF_8_ -r ../runtime -u\n",
      "cp algorithms/english/stem_ISO_8859_1.sbl algorithms/english/stem_Unicode.sbl\n",
      "./snowball algorithms/english/stem_Unicode.sbl -o src_c/stem_UTF_8_english -eprefix english_UTF_8_ -r ../runtime -u\n",
      "cp algorithms/finnish/stem_ISO_8859_1.sbl algorithms/finnish/stem_Unicode.sbl\n",
      "./snowball algorithms/finnish/stem_Unicode.sbl -o src_c/stem_UTF_8_finnish -eprefix finnish_UTF_8_ -r ../runtime -u\n",
      "cp algorithms/french/stem_ISO_8859_1.sbl algorithms/french/stem_Unicode.sbl\n",
      "./snowball algorithms/french/stem_Unicode.sbl -o src_c/stem_UTF_8_french -eprefix french_UTF_8_ -r ../runtime -u\n",
      "cp algorithms/german/stem_ISO_8859_1.sbl algorithms/german/stem_Unicode.sbl\n",
      "./snowball algorithms/german/stem_Unicode.sbl -o src_c/stem_UTF_8_german -eprefix german_UTF_8_ -r ../runtime -u\n",
      "cp algorithms/hungarian/stem_ISO_8859_1.sbl algorithms/hungarian/stem_Unicode.sbl\n",
      "./snowball algorithms/hungarian/stem_Unicode.sbl -o src_c/stem_UTF_8_hungarian -eprefix hungarian_UTF_8_ -r ../runtime -u\n",
      "cp algorithms/italian/stem_ISO_8859_1.sbl algorithms/italian/stem_Unicode.sbl\n",
      "./snowball algorithms/italian/stem_Unicode.sbl -o src_c/stem_UTF_8_italian -eprefix italian_UTF_8_ -r ../runtime -u\n",
      "cp algorithms/norwegian/stem_ISO_8859_1.sbl algorithms/norwegian/stem_Unicode.sbl\n",
      "./snowball algorithms/norwegian/stem_Unicode.sbl -o src_c/stem_UTF_8_norwegian -eprefix norwegian_UTF_8_ -r ../runtime -u\n",
      "cp algorithms/porter/stem_ISO_8859_1.sbl algorithms/porter/stem_Unicode.sbl\n",
      "./snowball algorithms/porter/stem_Unicode.sbl -o src_c/stem_UTF_8_porter -eprefix porter_UTF_8_ -r ../runtime -u\n",
      "cp algorithms/portuguese/stem_ISO_8859_1.sbl algorithms/portuguese/stem_Unicode.sbl\n",
      "./snowball algorithms/portuguese/stem_Unicode.sbl -o src_c/stem_UTF_8_portuguese -eprefix portuguese_UTF_8_ -r ../runtime -u\n",
      "./snowball algorithms/romanian/stem_Unicode.sbl -o src_c/stem_UTF_8_romanian -eprefix romanian_UTF_8_ -r ../runtime -u\n",
      "./snowball algorithms/russian/stem_Unicode.sbl -o src_c/stem_UTF_8_russian -eprefix russian_UTF_8_ -r ../runtime -u\n",
      "cp algorithms/spanish/stem_ISO_8859_1.sbl algorithms/spanish/stem_Unicode.sbl\n",
      "./snowball algorithms/spanish/stem_Unicode.sbl -o src_c/stem_UTF_8_spanish -eprefix spanish_UTF_8_ -r ../runtime -u\n",
      "cp algorithms/swedish/stem_ISO_8859_1.sbl algorithms/swedish/stem_Unicode.sbl\n",
      "./snowball algorithms/swedish/stem_Unicode.sbl -o src_c/stem_UTF_8_swedish -eprefix swedish_UTF_8_ -r ../runtime -u\n",
      "./snowball algorithms/tamil/stem_Unicode.sbl -o src_c/stem_UTF_8_tamil -eprefix tamil_UTF_8_ -r ../runtime -u\n",
      "Declared but not used: was_stripped found_vallinam_doubling mark2 mark\n",
      "Declared and defined but not used: vowel_signs uyir itaiyinam mellinam vallinam word_starter q_prefixes q_suffixes suttezhuthu\n",
      "./snowball algorithms/turkish/stem_Unicode.sbl -o src_c/stem_UTF_8_turkish -eprefix turkish_UTF_8_ -r ../runtime -u\n",
      "./snowball algorithms/russian/stem_KOI8_R.sbl -o src_c/stem_KOI8_R_russian -eprefix russian_KOI8_R_ -r ../runtime\n",
      "./snowball algorithms/danish/stem_ISO_8859_1.sbl -o src_c/stem_ISO_8859_1_danish -eprefix danish_ISO_8859_1_ -r ../runtime\n",
      "./snowball algorithms/dutch/stem_ISO_8859_1.sbl -o src_c/stem_ISO_8859_1_dutch -eprefix dutch_ISO_8859_1_ -r ../runtime\n",
      "./snowball algorithms/english/stem_ISO_8859_1.sbl -o src_c/stem_ISO_8859_1_english -eprefix english_ISO_8859_1_ -r ../runtime\n",
      "./snowball algorithms/finnish/stem_ISO_8859_1.sbl -o src_c/stem_ISO_8859_1_finnish -eprefix finnish_ISO_8859_1_ -r ../runtime\n",
      "./snowball algorithms/french/stem_ISO_8859_1.sbl -o src_c/stem_ISO_8859_1_french -eprefix french_ISO_8859_1_ -r ../runtime\n",
      "./snowball algorithms/german/stem_ISO_8859_1.sbl -o src_c/stem_ISO_8859_1_german -eprefix german_ISO_8859_1_ -r ../runtime\n",
      "./snowball algorithms/hungarian/stem_ISO_8859_1.sbl -o src_c/stem_ISO_8859_1_hungarian -eprefix hungarian_ISO_8859_1_ -r ../runtime\n",
      "./snowball algorithms/italian/stem_ISO_8859_1.sbl -o src_c/stem_ISO_8859_1_italian -eprefix italian_ISO_8859_1_ -r ../runtime\n",
      "./snowball algorithms/norwegian/stem_ISO_8859_1.sbl -o src_c/stem_ISO_8859_1_norwegian -eprefix norwegian_ISO_8859_1_ -r ../runtime\n",
      "./snowball algorithms/porter/stem_ISO_8859_1.sbl -o src_c/stem_ISO_8859_1_porter -eprefix porter_ISO_8859_1_ -r ../runtime\n",
      "./snowball algorithms/portuguese/stem_ISO_8859_1.sbl -o src_c/stem_ISO_8859_1_portuguese -eprefix portuguese_ISO_8859_1_ -r ../runtime\n",
      "./snowball algorithms/spanish/stem_ISO_8859_1.sbl -o src_c/stem_ISO_8859_1_spanish -eprefix spanish_ISO_8859_1_ -r ../runtime\n",
      "./snowball algorithms/swedish/stem_ISO_8859_1.sbl -o src_c/stem_ISO_8859_1_swedish -eprefix swedish_ISO_8859_1_ -r ../runtime\n",
      "./snowball algorithms/romanian/stem_ISO_8859_2.sbl -o src_c/stem_ISO_8859_2_romanian -eprefix romanian_ISO_8859_2_ -r ../runtime\n",
      "cc -Iinclude -O2 -W -Wall -Wmissing-prototypes -Wmissing-declarations  -c -o libstemmer/libstemmer.o libstemmer/libstemmer.c\n",
      "cc -Iinclude -O2 -W -Wall -Wmissing-prototypes -Wmissing-declarations  -c -o runtime/api.o runtime/api.c\n",
      "cc -Iinclude -O2 -W -Wall -Wmissing-prototypes -Wmissing-declarations  -c -o runtime/utilities.o runtime/utilities.c\n",
      "cc -Iinclude -O2 -O2 -c -o src_c/stem_UTF_8_danish.o src_c/stem_UTF_8_danish.c -Wall\n",
      "cc -Iinclude -O2 -O2 -c -o src_c/stem_UTF_8_dutch.o src_c/stem_UTF_8_dutch.c -Wall\n",
      "cc -Iinclude -O2 -O2 -c -o src_c/stem_UTF_8_english.o src_c/stem_UTF_8_english.c -Wall\n",
      "cc -Iinclude -O2 -O2 -c -o src_c/stem_UTF_8_finnish.o src_c/stem_UTF_8_finnish.c -Wall\n",
      "cc -Iinclude -O2 -O2 -c -o src_c/stem_UTF_8_french.o src_c/stem_UTF_8_french.c -Wall\n",
      "cc -Iinclude -O2 -O2 -c -o src_c/stem_UTF_8_german.o src_c/stem_UTF_8_german.c -Wall\n",
      "cc -Iinclude -O2 -O2 -c -o src_c/stem_UTF_8_hungarian.o src_c/stem_UTF_8_hungarian.c -Wall\n",
      "cc -Iinclude -O2 -O2 -c -o src_c/stem_UTF_8_italian.o src_c/stem_UTF_8_italian.c -Wall\n",
      "cc -Iinclude -O2 -O2 -c -o src_c/stem_UTF_8_norwegian.o src_c/stem_UTF_8_norwegian.c -Wall\n",
      "cc -Iinclude -O2 -O2 -c -o src_c/stem_UTF_8_porter.o src_c/stem_UTF_8_porter.c -Wall\n",
      "cc -Iinclude -O2 -O2 -c -o src_c/stem_UTF_8_portuguese.o src_c/stem_UTF_8_portuguese.c -Wall\n",
      "cc -Iinclude -O2 -O2 -c -o src_c/stem_UTF_8_romanian.o src_c/stem_UTF_8_romanian.c -Wall\n",
      "cc -Iinclude -O2 -O2 -c -o src_c/stem_UTF_8_russian.o src_c/stem_UTF_8_russian.c -Wall\n",
      "cc -Iinclude -O2 -O2 -c -o src_c/stem_UTF_8_spanish.o src_c/stem_UTF_8_spanish.c -Wall\n",
      "cc -Iinclude -O2 -O2 -c -o src_c/stem_UTF_8_swedish.o src_c/stem_UTF_8_swedish.c -Wall\n",
      "cc -Iinclude -O2 -O2 -c -o src_c/stem_UTF_8_tamil.o src_c/stem_UTF_8_tamil.c -Wall\n",
      "\u001b[01m\u001b[Ksrc_c/stem_UTF_8_tamil.c:56:28:\u001b[m\u001b[K \u001b[01;35m\u001b[Kwarning: \u001b[m\u001b[K‘\u001b[01m\u001b[Kg_uyir\u001b[m\u001b[K’ defined but not used [\u001b[01;35m\u001b[K-Wunused-const-variable=\u001b[m\u001b[K]\n",
      " static const unsigned char \u001b[01;35m\u001b[Kg_uyir\u001b[m\u001b[K[] = { 63, 238 };\n",
      "                            \u001b[01;35m\u001b[K^~~~~~\u001b[m\u001b[K\n",
      "\u001b[01m\u001b[Ksrc_c/stem_UTF_8_tamil.c:54:28:\u001b[m\u001b[K \u001b[01;35m\u001b[Kwarning: \u001b[m\u001b[K‘\u001b[01m\u001b[Kg_vowel_signs\u001b[m\u001b[K’ defined but not used [\u001b[01;35m\u001b[K-Wunused-const-variable=\u001b[m\u001b[K]\n",
      " static const unsigned char \u001b[01;35m\u001b[Kg_vowel_signs\u001b[m\u001b[K[] = { 31, 7 };\n",
      "                            \u001b[01;35m\u001b[K^~~~~~~~~~~~~\u001b[m\u001b[K\n",
      "\u001b[01m\u001b[Ksrc_c/stem_UTF_8_tamil.c:52:28:\u001b[m\u001b[K \u001b[01;35m\u001b[Kwarning: \u001b[m\u001b[K‘\u001b[01m\u001b[Kg_itaiyinam\u001b[m\u001b[K’ defined but not used [\u001b[01;35m\u001b[K-Wunused-const-variable=\u001b[m\u001b[K]\n",
      " static const unsigned char \u001b[01;35m\u001b[Kg_itaiyinam\u001b[m\u001b[K[] = { 123 };\n",
      "                            \u001b[01;35m\u001b[K^~~~~~~~~~~\u001b[m\u001b[K\n",
      "\u001b[01m\u001b[Ksrc_c/stem_UTF_8_tamil.c:50:28:\u001b[m\u001b[K \u001b[01;35m\u001b[Kwarning: \u001b[m\u001b[K‘\u001b[01m\u001b[Kg_mellinam\u001b[m\u001b[K’ defined but not used [\u001b[01;35m\u001b[K-Wunused-const-variable=\u001b[m\u001b[K]\n",
      " static const unsigned char \u001b[01;35m\u001b[Kg_mellinam\u001b[m\u001b[K[] = { 33, 132, 33 };\n",
      "                            \u001b[01;35m\u001b[K^~~~~~~~~~\u001b[m\u001b[K\n",
      "\u001b[01m\u001b[Ksrc_c/stem_UTF_8_tamil.c:48:28:\u001b[m\u001b[K \u001b[01;35m\u001b[Kwarning: \u001b[m\u001b[K‘\u001b[01m\u001b[Kg_vallinam\u001b[m\u001b[K’ defined but not used [\u001b[01;35m\u001b[K-Wunused-const-variable=\u001b[m\u001b[K]\n",
      " static const unsigned char \u001b[01;35m\u001b[Kg_vallinam\u001b[m\u001b[K[] = { 33, 132, 32, 16 };\n",
      "                            \u001b[01;35m\u001b[K^~~~~~~~~~\u001b[m\u001b[K\n",
      "\u001b[01m\u001b[Ksrc_c/stem_UTF_8_tamil.c:46:28:\u001b[m\u001b[K \u001b[01;35m\u001b[Kwarning: \u001b[m\u001b[K‘\u001b[01m\u001b[Kg_suttezhuthu\u001b[m\u001b[K’ defined but not used [\u001b[01;35m\u001b[K-Wunused-const-variable=\u001b[m\u001b[K]\n",
      " static const unsigned char \u001b[01;35m\u001b[Kg_suttezhuthu\u001b[m\u001b[K[] = { 21 };\n",
      "                            \u001b[01;35m\u001b[K^~~~~~~~~~~~~\u001b[m\u001b[K\n",
      "\u001b[01m\u001b[Ksrc_c/stem_UTF_8_tamil.c:44:28:\u001b[m\u001b[K \u001b[01;35m\u001b[Kwarning: \u001b[m\u001b[K‘\u001b[01m\u001b[Kg_word_starter\u001b[m\u001b[K’ defined but not used [\u001b[01;35m\u001b[K-Wunused-const-variable=\u001b[m\u001b[K]\n",
      " static const unsigned char \u001b[01;35m\u001b[Kg_word_starter\u001b[m\u001b[K[] = { 49, 130, 40, 6, 1 };\n",
      "                            \u001b[01;35m\u001b[K^~~~~~~~~~~~~~\u001b[m\u001b[K\n",
      "\u001b[01m\u001b[Ksrc_c/stem_UTF_8_tamil.c:42:28:\u001b[m\u001b[K \u001b[01;35m\u001b[Kwarning: \u001b[m\u001b[K‘\u001b[01m\u001b[Kg_q_prefixes\u001b[m\u001b[K’ defined but not used [\u001b[01;35m\u001b[K-Wunused-const-variable=\u001b[m\u001b[K]\n",
      " static const unsigned char \u001b[01;35m\u001b[Kg_q_prefixes\u001b[m\u001b[K[] = { 1 };\n",
      "                            \u001b[01;35m\u001b[K^~~~~~~~~~~~\u001b[m\u001b[K\n",
      "\u001b[01m\u001b[Ksrc_c/stem_UTF_8_tamil.c:40:28:\u001b[m\u001b[K \u001b[01;35m\u001b[Kwarning: \u001b[m\u001b[K‘\u001b[01m\u001b[Kg_q_suffixes\u001b[m\u001b[K’ defined but not used [\u001b[01;35m\u001b[K-Wunused-const-variable=\u001b[m\u001b[K]\n",
      " static const unsigned char \u001b[01;35m\u001b[Kg_q_suffixes\u001b[m\u001b[K[] = { 1, 34 };\n",
      "                            \u001b[01;35m\u001b[K^~~~~~~~~~~~\u001b[m\u001b[K\n",
      "cc -Iinclude -O2 -O2 -c -o src_c/stem_UTF_8_turkish.o src_c/stem_UTF_8_turkish.c -Wall\n",
      "cc -Iinclude -O2 -O2 -c -o src_c/stem_KOI8_R_russian.o src_c/stem_KOI8_R_russian.c -Wall\n",
      "cc -Iinclude -O2 -O2 -c -o src_c/stem_ISO_8859_1_danish.o src_c/stem_ISO_8859_1_danish.c -Wall\n",
      "cc -Iinclude -O2 -O2 -c -o src_c/stem_ISO_8859_1_dutch.o src_c/stem_ISO_8859_1_dutch.c -Wall\n",
      "cc -Iinclude -O2 -O2 -c -o src_c/stem_ISO_8859_1_english.o src_c/stem_ISO_8859_1_english.c -Wall\n",
      "cc -Iinclude -O2 -O2 -c -o src_c/stem_ISO_8859_1_finnish.o src_c/stem_ISO_8859_1_finnish.c -Wall\n",
      "cc -Iinclude -O2 -O2 -c -o src_c/stem_ISO_8859_1_french.o src_c/stem_ISO_8859_1_french.c -Wall\n",
      "cc -Iinclude -O2 -O2 -c -o src_c/stem_ISO_8859_1_german.o src_c/stem_ISO_8859_1_german.c -Wall\n",
      "cc -Iinclude -O2 -O2 -c -o src_c/stem_ISO_8859_1_hungarian.o src_c/stem_ISO_8859_1_hungarian.c -Wall\n",
      "cc -Iinclude -O2 -O2 -c -o src_c/stem_ISO_8859_1_italian.o src_c/stem_ISO_8859_1_italian.c -Wall\n",
      "cc -Iinclude -O2 -O2 -c -o src_c/stem_ISO_8859_1_norwegian.o src_c/stem_ISO_8859_1_norwegian.c -Wall\n",
      "cc -Iinclude -O2 -O2 -c -o src_c/stem_ISO_8859_1_porter.o src_c/stem_ISO_8859_1_porter.c -Wall\n",
      "cc -Iinclude -O2 -O2 -c -o src_c/stem_ISO_8859_1_portuguese.o src_c/stem_ISO_8859_1_portuguese.c -Wall\n",
      "cc -Iinclude -O2 -O2 -c -o src_c/stem_ISO_8859_1_spanish.o src_c/stem_ISO_8859_1_spanish.c -Wall\n",
      "cc -Iinclude -O2 -O2 -c -o src_c/stem_ISO_8859_1_swedish.o src_c/stem_ISO_8859_1_swedish.c -Wall\n",
      "cc -Iinclude -O2 -O2 -c -o src_c/stem_ISO_8859_2_romanian.o src_c/stem_ISO_8859_2_romanian.c -Wall\n",
      "ar -cru libstemmer.o libstemmer/libstemmer.o runtime/api.o runtime/utilities.o src_c/stem_UTF_8_danish.o src_c/stem_UTF_8_dutch.o src_c/stem_UTF_8_english.o src_c/stem_UTF_8_finnish.o src_c/stem_UTF_8_french.o src_c/stem_UTF_8_german.o src_c/stem_UTF_8_hungarian.o src_c/stem_UTF_8_italian.o src_c/stem_UTF_8_norwegian.o src_c/stem_UTF_8_porter.o src_c/stem_UTF_8_portuguese.o src_c/stem_UTF_8_romanian.o src_c/stem_UTF_8_russian.o src_c/stem_UTF_8_spanish.o src_c/stem_UTF_8_swedish.o src_c/stem_UTF_8_tamil.o src_c/stem_UTF_8_turkish.o src_c/stem_KOI8_R_russian.o src_c/stem_ISO_8859_1_danish.o src_c/stem_ISO_8859_1_dutch.o src_c/stem_ISO_8859_1_english.o src_c/stem_ISO_8859_1_finnish.o src_c/stem_ISO_8859_1_french.o src_c/stem_ISO_8859_1_german.o src_c/stem_ISO_8859_1_hungarian.o src_c/stem_ISO_8859_1_italian.o src_c/stem_ISO_8859_1_norwegian.o src_c/stem_ISO_8859_1_porter.o src_c/stem_ISO_8859_1_portuguese.o src_c/stem_ISO_8859_1_spanish.o src_c/stem_ISO_8859_1_swedish.o src_c/stem_ISO_8859_2_romanian.o\n",
      "ar: `u' modifier ignored since `D' is the default (see `U')\n",
      "cc -Iinclude -O2 -W -Wall -Wmissing-prototypes -Wmissing-declarations  -c -o examples/stemwords.o examples/stemwords.c\n",
      "cc -o stemwords examples/stemwords.o libstemmer.o\n",
      "cp algorithms/german2/stem_ISO_8859_1.sbl algorithms/german2/stem_Unicode.sbl\n",
      "./snowball algorithms/german2/stem_Unicode.sbl -o src_c/stem_UTF_8_german2 -eprefix german2_UTF_8_ -r ../runtime -u\n",
      "cp algorithms/kraaij_pohlmann/stem_ISO_8859_1.sbl algorithms/kraaij_pohlmann/stem_Unicode.sbl\n",
      "./snowball algorithms/kraaij_pohlmann/stem_Unicode.sbl -o src_c/stem_UTF_8_kraaij_pohlmann -eprefix kraaij_pohlmann_UTF_8_ -r ../runtime -u\n",
      "cp algorithms/lovins/stem_ISO_8859_1.sbl algorithms/lovins/stem_Unicode.sbl\n",
      "./snowball algorithms/lovins/stem_Unicode.sbl -o src_c/stem_UTF_8_lovins -eprefix lovins_UTF_8_ -r ../runtime -u\n",
      "cc -Iinclude -O2 -O2 -c -o src_c/stem_UTF_8_german2.o src_c/stem_UTF_8_german2.c -Wall\n",
      "cc -Iinclude -O2 -O2 -c -o src_c/stem_UTF_8_kraaij_pohlmann.o src_c/stem_UTF_8_kraaij_pohlmann.c -Wall\n",
      "cc -Iinclude -O2 -O2 -c -o src_c/stem_UTF_8_lovins.o src_c/stem_UTF_8_lovins.c -Wall\n",
      "rm algorithms/spanish/stem_Unicode.sbl algorithms/porter/stem_Unicode.sbl algorithms/dutch/stem_Unicode.sbl algorithms/kraaij_pohlmann/stem_Unicode.sbl algorithms/danish/stem_Unicode.sbl algorithms/finnish/stem_Unicode.sbl algorithms/hungarian/stem_Unicode.sbl algorithms/italian/stem_Unicode.sbl algorithms/swedish/stem_Unicode.sbl algorithms/lovins/stem_Unicode.sbl algorithms/english/stem_Unicode.sbl algorithms/german/stem_Unicode.sbl algorithms/norwegian/stem_Unicode.sbl algorithms/portuguese/stem_Unicode.sbl algorithms/german2/stem_Unicode.sbl algorithms/french/stem_Unicode.sbl\n",
      "/content/drive/MyDrive/Colab Notebooks/Hate-Speech-Detection-in-Tamil/HASOC Tamil/Task 1\n"
     ]
    }
   ],
   "source": [
    "! rm -r tamil-stemmer-build\n",
    "! rm input.txt\n",
    "! rm output.txt\n",
    "\n",
    "! mkdir tamil-stemmer-build\n",
    "% cd tamil-stemmer-build\n",
    "! git clone https://github.com/rdamodharan/tamil-stemmer.git\n",
    "! tar -zxf tamil-stemmer/snowball-with-tamil.tgz\n",
    "% cd snowball-with-tamil\n",
    "! make\n",
    "\n",
    "% cd /content/drive/MyDrive/Colab Notebooks/Hate-Speech-Detection-in-Tamil/HASOC Tamil/Task 1"
   ]
  },
  {
   "cell_type": "markdown",
   "metadata": {
    "id": "Ob6l5HOZOsZ7"
   },
   "source": [
    "## **Loading Data**"
   ]
  },
  {
   "cell_type": "code",
   "execution_count": 6,
   "metadata": {
    "executionInfo": {
     "elapsed": 456,
     "status": "ok",
     "timestamp": 1633497650808,
     "user": {
      "displayName": "Srivarshan 19BAI1078",
      "photoUrl": "https://lh3.googleusercontent.com/a/default-user=s64",
      "userId": "03718411517360748676"
     },
     "user_tz": -330
    },
    "id": "_MKm6-4eOpNF"
   },
   "outputs": [],
   "source": [
    "dataframe = pd.read_csv(\"Dataset/tamil_offensive_train.tsv\", sep='\\t')"
   ]
  },
  {
   "cell_type": "code",
   "execution_count": 7,
   "metadata": {
    "colab": {
     "base_uri": "https://localhost:8080/",
     "height": 206
    },
    "executionInfo": {
     "elapsed": 428,
     "status": "ok",
     "timestamp": 1633497656186,
     "user": {
      "displayName": "Srivarshan 19BAI1078",
      "photoUrl": "https://lh3.googleusercontent.com/a/default-user=s64",
      "userId": "03718411517360748676"
     },
     "user_tz": -330
    },
    "id": "9krG1I0nOv4s",
    "outputId": "eb7f71ac-84dd-4ee5-849f-6d29a00a627d"
   },
   "outputs": [
    {
     "data": {
      "text/html": [
       "<div>\n",
       "<style scoped>\n",
       "    .dataframe tbody tr th:only-of-type {\n",
       "        vertical-align: middle;\n",
       "    }\n",
       "\n",
       "    .dataframe tbody tr th {\n",
       "        vertical-align: top;\n",
       "    }\n",
       "\n",
       "    .dataframe thead th {\n",
       "        text-align: right;\n",
       "    }\n",
       "</style>\n",
       "<table border=\"1\" class=\"dataframe\">\n",
       "  <thead>\n",
       "    <tr style=\"text-align: right;\">\n",
       "      <th></th>\n",
       "      <th>id</th>\n",
       "      <th>text</th>\n",
       "      <th>category</th>\n",
       "    </tr>\n",
       "  </thead>\n",
       "  <tbody>\n",
       "    <tr>\n",
       "      <th>0</th>\n",
       "      <td>tam1</td>\n",
       "      <td>திருமலை நாயக்கர் பேரவை சார்பாக படம் வெற்றி பெற...</td>\n",
       "      <td>NOT</td>\n",
       "    </tr>\n",
       "    <tr>\n",
       "      <th>1</th>\n",
       "      <td>tam2</td>\n",
       "      <td>இந்த ட்ரெய்லர் கூட பார்க்கிற மாதிரி இல்லை.. இத...</td>\n",
       "      <td>OFF</td>\n",
       "    </tr>\n",
       "    <tr>\n",
       "      <th>2</th>\n",
       "      <td>tam3</td>\n",
       "      <td>மைசூரு செட்டியார் சமூகத்தின் சார்பாக இப்படம் வ...</td>\n",
       "      <td>NOT</td>\n",
       "    </tr>\n",
       "    <tr>\n",
       "      <th>3</th>\n",
       "      <td>tam4</td>\n",
       "      <td>மொத்த சாதியும் ஒரு சாதிக்கு எதிரா நிக்குது.......</td>\n",
       "      <td>OFF</td>\n",
       "    </tr>\n",
       "    <tr>\n",
       "      <th>4</th>\n",
       "      <td>tam5</td>\n",
       "      <td>only for விஜய் சேதுபதி and STR</td>\n",
       "      <td>NOT</td>\n",
       "    </tr>\n",
       "  </tbody>\n",
       "</table>\n",
       "</div>"
      ],
      "text/plain": [
       "     id                                               text category\n",
       "0  tam1  திருமலை நாயக்கர் பேரவை சார்பாக படம் வெற்றி பெற...      NOT\n",
       "1  tam2  இந்த ட்ரெய்லர் கூட பார்க்கிற மாதிரி இல்லை.. இத...      OFF\n",
       "2  tam3  மைசூரு செட்டியார் சமூகத்தின் சார்பாக இப்படம் வ...      NOT\n",
       "3  tam4  மொத்த சாதியும் ஒரு சாதிக்கு எதிரா நிக்குது.......      OFF\n",
       "4  tam5                     only for விஜய் சேதுபதி and STR      NOT"
      ]
     },
     "execution_count": 7,
     "metadata": {},
     "output_type": "execute_result"
    }
   ],
   "source": [
    "dataframe.head()"
   ]
  },
  {
   "cell_type": "code",
   "execution_count": 8,
   "metadata": {
    "colab": {
     "base_uri": "https://localhost:8080/",
     "height": 175
    },
    "executionInfo": {
     "elapsed": 363,
     "status": "ok",
     "timestamp": 1633497951479,
     "user": {
      "displayName": "Srivarshan 19BAI1078",
      "photoUrl": "https://lh3.googleusercontent.com/a/default-user=s64",
      "userId": "03718411517360748676"
     },
     "user_tz": -330
    },
    "id": "GG8d6pJzOxjX",
    "outputId": "4097a923-d043-460c-d467-931bc11121ad"
   },
   "outputs": [
    {
     "data": {
      "text/html": [
       "<div>\n",
       "<style scoped>\n",
       "    .dataframe tbody tr th:only-of-type {\n",
       "        vertical-align: middle;\n",
       "    }\n",
       "\n",
       "    .dataframe tbody tr th {\n",
       "        vertical-align: top;\n",
       "    }\n",
       "\n",
       "    .dataframe thead th {\n",
       "        text-align: right;\n",
       "    }\n",
       "</style>\n",
       "<table border=\"1\" class=\"dataframe\">\n",
       "  <thead>\n",
       "    <tr style=\"text-align: right;\">\n",
       "      <th></th>\n",
       "      <th>id</th>\n",
       "      <th>text</th>\n",
       "      <th>category</th>\n",
       "    </tr>\n",
       "  </thead>\n",
       "  <tbody>\n",
       "    <tr>\n",
       "      <th>count</th>\n",
       "      <td>5880</td>\n",
       "      <td>5880</td>\n",
       "      <td>5880</td>\n",
       "    </tr>\n",
       "    <tr>\n",
       "      <th>unique</th>\n",
       "      <td>5880</td>\n",
       "      <td>5812</td>\n",
       "      <td>3</td>\n",
       "    </tr>\n",
       "    <tr>\n",
       "      <th>top</th>\n",
       "      <td>tam1455</td>\n",
       "      <td>வந்தா ராஜாவா தான் வருவேன்........ ராஜாவா வந்தா...</td>\n",
       "      <td>NOT</td>\n",
       "    </tr>\n",
       "    <tr>\n",
       "      <th>freq</th>\n",
       "      <td>1</td>\n",
       "      <td>5</td>\n",
       "      <td>4724</td>\n",
       "    </tr>\n",
       "  </tbody>\n",
       "</table>\n",
       "</div>"
      ],
      "text/plain": [
       "             id                                               text category\n",
       "count      5880                                               5880     5880\n",
       "unique     5880                                               5812        3\n",
       "top     tam1455  வந்தா ராஜாவா தான் வருவேன்........ ராஜாவா வந்தா...      NOT\n",
       "freq          1                                                  5     4724"
      ]
     },
     "execution_count": 8,
     "metadata": {},
     "output_type": "execute_result"
    }
   ],
   "source": [
    "dataframe.describe()"
   ]
  },
  {
   "cell_type": "code",
   "execution_count": 9,
   "metadata": {
    "colab": {
     "base_uri": "https://localhost:8080/"
    },
    "executionInfo": {
     "elapsed": 8,
     "status": "ok",
     "timestamp": 1633497952086,
     "user": {
      "displayName": "Srivarshan 19BAI1078",
      "photoUrl": "https://lh3.googleusercontent.com/a/default-user=s64",
      "userId": "03718411517360748676"
     },
     "user_tz": -330
    },
    "id": "eN25yq9qOzRE",
    "outputId": "ec9f887b-d6b1-4f0a-c8c4-e9d876576153"
   },
   "outputs": [
    {
     "data": {
      "text/plain": [
       "array(['NOT', 'OFF', 'not-Tamil'], dtype=object)"
      ]
     },
     "execution_count": 9,
     "metadata": {},
     "output_type": "execute_result"
    }
   ],
   "source": [
    "dataframe['category'].unique()"
   ]
  },
  {
   "cell_type": "code",
   "execution_count": 10,
   "metadata": {
    "colab": {
     "base_uri": "https://localhost:8080/"
    },
    "executionInfo": {
     "elapsed": 16,
     "status": "ok",
     "timestamp": 1633497953629,
     "user": {
      "displayName": "Srivarshan 19BAI1078",
      "photoUrl": "https://lh3.googleusercontent.com/a/default-user=s64",
      "userId": "03718411517360748676"
     },
     "user_tz": -330
    },
    "id": "aZv2qX_IO1cg",
    "outputId": "b76f0053-a19b-4696-f74a-245b2dbba177"
   },
   "outputs": [
    {
     "data": {
      "text/plain": [
       "(5880, 3)"
      ]
     },
     "execution_count": 10,
     "metadata": {},
     "output_type": "execute_result"
    }
   ],
   "source": [
    "dataframe.shape"
   ]
  },
  {
   "cell_type": "code",
   "execution_count": 11,
   "metadata": {
    "colab": {
     "base_uri": "https://localhost:8080/"
    },
    "executionInfo": {
     "elapsed": 8,
     "status": "ok",
     "timestamp": 1633497954034,
     "user": {
      "displayName": "Srivarshan 19BAI1078",
      "photoUrl": "https://lh3.googleusercontent.com/a/default-user=s64",
      "userId": "03718411517360748676"
     },
     "user_tz": -330
    },
    "id": "_p2ZI6V9O3S6",
    "outputId": "4a8cc16f-80e1-4e49-eb91-dafabd8f0c15"
   },
   "outputs": [
    {
     "data": {
      "text/plain": [
       "array(['NOT', 'OFF'], dtype=object)"
      ]
     },
     "execution_count": 11,
     "metadata": {},
     "output_type": "execute_result"
    }
   ],
   "source": [
    "dataframe = dataframe.loc[dataframe['category'] != 'not-Tamil']\n",
    "dataframe['category'].unique()"
   ]
  },
  {
   "cell_type": "code",
   "execution_count": 12,
   "metadata": {
    "colab": {
     "base_uri": "https://localhost:8080/"
    },
    "executionInfo": {
     "elapsed": 12,
     "status": "ok",
     "timestamp": 1633497955129,
     "user": {
      "displayName": "Srivarshan 19BAI1078",
      "photoUrl": "https://lh3.googleusercontent.com/a/default-user=s64",
      "userId": "03718411517360748676"
     },
     "user_tz": -330
    },
    "id": "vbXmfXW2O5UG",
    "outputId": "ffc25e77-c8a5-4c25-8db7-1d9342c2b7df"
   },
   "outputs": [
    {
     "data": {
      "text/plain": [
       "(5877, 3)"
      ]
     },
     "execution_count": 12,
     "metadata": {},
     "output_type": "execute_result"
    }
   ],
   "source": [
    "dataframe.shape"
   ]
  },
  {
   "cell_type": "code",
   "execution_count": 13,
   "metadata": {
    "executionInfo": {
     "elapsed": 523,
     "status": "ok",
     "timestamp": 1633497957173,
     "user": {
      "displayName": "Srivarshan 19BAI1078",
      "photoUrl": "https://lh3.googleusercontent.com/a/default-user=s64",
      "userId": "03718411517360748676"
     },
     "user_tz": -330
    },
    "id": "NK_0OsM8PBD1"
   },
   "outputs": [],
   "source": [
    "text = dataframe['text']"
   ]
  },
  {
   "cell_type": "code",
   "execution_count": 14,
   "metadata": {
    "colab": {
     "base_uri": "https://localhost:8080/"
    },
    "executionInfo": {
     "elapsed": 9,
     "status": "ok",
     "timestamp": 1633497957789,
     "user": {
      "displayName": "Srivarshan 19BAI1078",
      "photoUrl": "https://lh3.googleusercontent.com/a/default-user=s64",
      "userId": "03718411517360748676"
     },
     "user_tz": -330
    },
    "id": "Y0Pca_2EPCvx",
    "outputId": "0fd4e0c4-294e-4f85-8ee2-2a66b56e981d"
   },
   "outputs": [
    {
     "data": {
      "text/plain": [
       "0       திருமலை நாயக்கர் பேரவை சார்பாக படம் வெற்றி பெற...\n",
       "1       இந்த ட்ரெய்லர் கூட பார்க்கிற மாதிரி இல்லை.. இத...\n",
       "2       மைசூரு செட்டியார் சமூகத்தின் சார்பாக இப்படம் வ...\n",
       "3       மொத்த சாதியும் ஒரு சாதிக்கு எதிரா நிக்குது.......\n",
       "4                          only for விஜய் சேதுபதி and STR\n",
       "                              ...                        \n",
       "5875    இப்போதான் ஜாதி பிரச்சினை இல்லாம இருக்கு இப்போ ...\n",
       "5876    இது ஒரு சாதி ரீதியான படம் இல்லை தான் செல்லும் ...\n",
       "5877    கதை தெரியவில்லை  இருந்தாலும் மாறுபட்ட சிந்தனை ...\n",
       "5878    அட பரவால்லையே 8.5 டிஸ்லைக்ஸ் போட்ருக்கானுங்க.....\n",
       "5879    உதயநிதிக்கு நடிப்பு வரலனு சொல்ரவங்க லைக் போடுங...\n",
       "Name: text, Length: 5877, dtype: object"
      ]
     },
     "execution_count": 14,
     "metadata": {},
     "output_type": "execute_result"
    }
   ],
   "source": [
    "text"
   ]
  },
  {
   "cell_type": "code",
   "execution_count": 15,
   "metadata": {
    "executionInfo": {
     "elapsed": 14,
     "status": "ok",
     "timestamp": 1633497958239,
     "user": {
      "displayName": "Srivarshan 19BAI1078",
      "photoUrl": "https://lh3.googleusercontent.com/a/default-user=s64",
      "userId": "03718411517360748676"
     },
     "user_tz": -330
    },
    "id": "pr3rfJryPEnq"
   },
   "outputs": [],
   "source": [
    "label = dataframe['category']"
   ]
  },
  {
   "cell_type": "code",
   "execution_count": 16,
   "metadata": {
    "colab": {
     "base_uri": "https://localhost:8080/"
    },
    "executionInfo": {
     "elapsed": 25,
     "status": "ok",
     "timestamp": 1633497959864,
     "user": {
      "displayName": "Srivarshan 19BAI1078",
      "photoUrl": "https://lh3.googleusercontent.com/a/default-user=s64",
      "userId": "03718411517360748676"
     },
     "user_tz": -330
    },
    "id": "vaoHyNetPGMC",
    "outputId": "94a2c82f-753e-4ff3-8c70-6e24adc8c958"
   },
   "outputs": [
    {
     "data": {
      "text/plain": [
       "0       NOT\n",
       "1       OFF\n",
       "2       NOT\n",
       "3       OFF\n",
       "4       NOT\n",
       "       ... \n",
       "5875    NOT\n",
       "5876    NOT\n",
       "5877    NOT\n",
       "5878    OFF\n",
       "5879    NOT\n",
       "Name: category, Length: 5877, dtype: object"
      ]
     },
     "execution_count": 16,
     "metadata": {},
     "output_type": "execute_result"
    }
   ],
   "source": [
    "label"
   ]
  },
  {
   "cell_type": "markdown",
   "metadata": {
    "id": "eUnm-JhVPJ2F"
   },
   "source": [
    "## **Data Preprocessing**"
   ]
  },
  {
   "cell_type": "code",
   "execution_count": 17,
   "metadata": {
    "colab": {
     "base_uri": "https://localhost:8080/"
    },
    "executionInfo": {
     "elapsed": 15,
     "status": "ok",
     "timestamp": 1633497961195,
     "user": {
      "displayName": "Srivarshan 19BAI1078",
      "photoUrl": "https://lh3.googleusercontent.com/a/default-user=s64",
      "userId": "03718411517360748676"
     },
     "user_tz": -330
    },
    "id": "nUI5zKCsPHs5",
    "outputId": "d30a46ac-239d-44b7-f101-87ee68c73d1d"
   },
   "outputs": [
    {
     "data": {
      "text/plain": [
       "array([0, 1, 0, ..., 0, 1, 0])"
      ]
     },
     "execution_count": 17,
     "metadata": {},
     "output_type": "execute_result"
    }
   ],
   "source": [
    "le = LabelEncoder()\n",
    "label = le.fit_transform(label)\n",
    "label"
   ]
  },
  {
   "cell_type": "code",
   "execution_count": 18,
   "metadata": {
    "colab": {
     "base_uri": "https://localhost:8080/"
    },
    "executionInfo": {
     "elapsed": 43,
     "status": "ok",
     "timestamp": 1633489281364,
     "user": {
      "displayName": "Srivarshan 19BAI1078",
      "photoUrl": "https://lh3.googleusercontent.com/a/default-user=s64",
      "userId": "03718411517360748676"
     },
     "user_tz": -330
    },
    "id": "eoEYaji1PNeN",
    "outputId": "04e3141c-518c-47f1-e6fb-85857b9a68e5"
   },
   "outputs": [
    {
     "data": {
      "text/plain": [
       "array(['திருமலை நாயக்கர் பேரவை சார்பாக படம் வெற்றி பெற வாழ்த்துக்கள்',\n",
       "       'இந்த ட்ரெய்லர் கூட பார்க்கிற மாதிரி இல்லை.. இதை தியேட்டர் ல போய் பார்க்கனுமா.. .',\n",
       "       'மைசூரு செட்டியார் சமூகத்தின் சார்பாக இப்படம் வெற்றிபெற வாழ்த்துகிறேன்',\n",
       "       ...,\n",
       "       'கதை தெரியவில்லை  இருந்தாலும் மாறுபட்ட சிந்தனை வாழ்த்துக்கள்  பறையர் சார்பாக  நன்றி மோகன் ஜி',\n",
       "       'அட பரவால்லையே 8.5 டிஸ்லைக்ஸ் போட்ருக்கானுங்க.. பரவால வயிறு எறிஞ்சி சாவுங்கடா சாவுங்கடா சாக்காடை நாய்ங்களா..இன்னும் நிறைய டிஸ்லைக்ஸ் எதிர் பாக்குறன்..',\n",
       "       'உதயநிதிக்கு நடிப்பு வரலனு சொல்ரவங்க லைக் போடுங்கள் ...'],\n",
       "      dtype=object)"
      ]
     },
     "execution_count": 18,
     "metadata": {},
     "output_type": "execute_result"
    }
   ],
   "source": [
    "text = text.str.replace(r\"[+/#@&*$%:]\",'')\n",
    "text = text.to_numpy()\n",
    "text"
   ]
  },
  {
   "cell_type": "code",
   "execution_count": 19,
   "metadata": {
    "colab": {
     "base_uri": "https://localhost:8080/"
    },
    "executionInfo": {
     "elapsed": 40408,
     "status": "ok",
     "timestamp": 1633489321733,
     "user": {
      "displayName": "Srivarshan 19BAI1078",
      "photoUrl": "https://lh3.googleusercontent.com/a/default-user=s64",
      "userId": "03718411517360748676"
     },
     "user_tz": -330
    },
    "id": "RLeP6SmNPPC2",
    "outputId": "d0c47cca-b3bb-4761-8ff6-99e29d8ab694"
   },
   "outputs": [
    {
     "name": "stdout",
     "output_type": "stream",
     "text": [
      "rm: cannot remove 'input.txt': No such file or directory\n",
      "rm: cannot remove 'output.txt': No such file or directory\n"
     ]
    }
   ],
   "source": [
    "text = text.tolist()\n",
    "\n",
    "! rm input.txt\n",
    "! rm output.txt\n",
    "\n",
    "for i in text:\n",
    "    text_file = open(\"input.txt\", \"a\")\n",
    "    text_file.write(i + '\\n')\n",
    "    text_file.close()"
   ]
  },
  {
   "cell_type": "code",
   "execution_count": 20,
   "metadata": {
    "executionInfo": {
     "elapsed": 1160,
     "status": "ok",
     "timestamp": 1633489322887,
     "user": {
      "displayName": "Srivarshan 19BAI1078",
      "photoUrl": "https://lh3.googleusercontent.com/a/default-user=s64",
      "userId": "03718411517360748676"
     },
     "user_tz": -330
    },
    "id": "ZcHu02w9PQ3G"
   },
   "outputs": [],
   "source": [
    "! ./tamil-stemmer-build/snowball-with-tamil/stemwords -l ta -i input.txt -o output.txt"
   ]
  },
  {
   "cell_type": "code",
   "execution_count": 21,
   "metadata": {
    "executionInfo": {
     "elapsed": 12,
     "status": "ok",
     "timestamp": 1633489322890,
     "user": {
      "displayName": "Srivarshan 19BAI1078",
      "photoUrl": "https://lh3.googleusercontent.com/a/default-user=s64",
      "userId": "03718411517360748676"
     },
     "user_tz": -330
    },
    "id": "ztseOfdPPS-U"
   },
   "outputs": [],
   "source": [
    "text_file = open(\"output.txt\", \"r\")\n",
    "\n",
    "text = []\n",
    "\n",
    "for line in text_file:\n",
    "    text.append(line.strip())"
   ]
  },
  {
   "cell_type": "code",
   "execution_count": 22,
   "metadata": {
    "executionInfo": {
     "elapsed": 11,
     "status": "ok",
     "timestamp": 1633489322892,
     "user": {
      "displayName": "Srivarshan 19BAI1078",
      "photoUrl": "https://lh3.googleusercontent.com/a/default-user=s64",
      "userId": "03718411517360748676"
     },
     "user_tz": -330
    },
    "id": "t8BoauyXPe9H"
   },
   "outputs": [],
   "source": [
    "# text = np.array(text)\n",
    "# text"
   ]
  },
  {
   "cell_type": "markdown",
   "metadata": {
    "id": "pPrWujPhfLrM"
   },
   "source": [
    "## **Feature Extraction**"
   ]
  },
  {
   "cell_type": "code",
   "execution_count": 23,
   "metadata": {
    "colab": {
     "base_uri": "https://localhost:8080/"
    },
    "executionInfo": {
     "elapsed": 7410,
     "status": "ok",
     "timestamp": 1633489330292,
     "user": {
      "displayName": "Srivarshan 19BAI1078",
      "photoUrl": "https://lh3.googleusercontent.com/a/default-user=s64",
      "userId": "03718411517360748676"
     },
     "user_tz": -330
    },
    "id": "QKuBIR01fHXW",
    "outputId": "b40cd079-31fe-4986-c442-99f24412281b"
   },
   "outputs": [
    {
     "name": "stderr",
     "output_type": "stream",
     "text": [
      "Some weights of the model checkpoint at ai4bharat/indic-bert were not used when initializing AlbertModel: ['predictions.dense.weight', 'sop_classifier.classifier.weight', 'predictions.dense.bias', 'predictions.LayerNorm.bias', 'predictions.LayerNorm.weight', 'sop_classifier.classifier.bias', 'predictions.bias', 'predictions.decoder.bias', 'predictions.decoder.weight']\n",
      "- This IS expected if you are initializing AlbertModel from the checkpoint of a model trained on another task or with another architecture (e.g. initializing a BertForSequenceClassification model from a BertForPreTraining model).\n",
      "- This IS NOT expected if you are initializing AlbertModel from the checkpoint of a model that you expect to be exactly identical (initializing a BertForSequenceClassification model from a BertForSequenceClassification model).\n"
     ]
    }
   ],
   "source": [
    "# Load Transformer Model\n",
    "\n",
    "tokenizer = AutoTokenizer.from_pretrained(\"ai4bharat/indic-bert\")\n",
    "model = AutoModel.from_pretrained(\"ai4bharat/indic-bert\")"
   ]
  },
  {
   "cell_type": "code",
   "execution_count": 29,
   "metadata": {
    "executionInfo": {
     "elapsed": 290,
     "status": "ok",
     "timestamp": 1633489597105,
     "user": {
      "displayName": "Srivarshan 19BAI1078",
      "photoUrl": "https://lh3.googleusercontent.com/a/default-user=s64",
      "userId": "03718411517360748676"
     },
     "user_tz": -330
    },
    "id": "uZ8EYHrmgZBa"
   },
   "outputs": [],
   "source": [
    "# Sample Output\n",
    "\n",
    "tokenized_input = tokenizer(\n",
    "        text[0],\n",
    "        padding=True,\n",
    "        truncation=False,\n",
    "        return_tensors='pt'\n",
    "    )\n",
    "\n",
    "sample_output = model(**tokenized_input)"
   ]
  },
  {
   "cell_type": "code",
   "execution_count": 30,
   "metadata": {
    "colab": {
     "base_uri": "https://localhost:8080/"
    },
    "executionInfo": {
     "elapsed": 6,
     "status": "ok",
     "timestamp": 1633489598237,
     "user": {
      "displayName": "Srivarshan 19BAI1078",
      "photoUrl": "https://lh3.googleusercontent.com/a/default-user=s64",
      "userId": "03718411517360748676"
     },
     "user_tz": -330
    },
    "id": "xmPnzKAJkD5k",
    "outputId": "dd7a8c9c-619d-4470-f021-0d83c865fcfc"
   },
   "outputs": [
    {
     "name": "stdout",
     "output_type": "stream",
     "text": [
      "{'input_ids': tensor([[     2,   4436, 139013, 105466,   1385,  30231,  40291,  39555,  82156,\n",
      "         150078, 194115,   5343, 104252,  82076,      3]]), 'token_type_ids': tensor([[0, 0, 0, 0, 0, 0, 0, 0, 0, 0, 0, 0, 0, 0, 0]]), 'attention_mask': tensor([[1, 1, 1, 1, 1, 1, 1, 1, 1, 1, 1, 1, 1, 1, 1]])}\n"
     ]
    }
   ],
   "source": [
    "print(tokenized_input)"
   ]
  },
  {
   "cell_type": "code",
   "execution_count": 31,
   "metadata": {
    "colab": {
     "base_uri": "https://localhost:8080/"
    },
    "executionInfo": {
     "elapsed": 4,
     "status": "ok",
     "timestamp": 1633489599510,
     "user": {
      "displayName": "Srivarshan 19BAI1078",
      "photoUrl": "https://lh3.googleusercontent.com/a/default-user=s64",
      "userId": "03718411517360748676"
     },
     "user_tz": -330
    },
    "id": "FSOktuaVkRr6",
    "outputId": "7433fae1-d48a-457b-d59e-3c5071dd2c20"
   },
   "outputs": [
    {
     "name": "stdout",
     "output_type": "stream",
     "text": [
      "BaseModelOutputWithPooling(last_hidden_state=tensor([[[-0.0101, -0.0098, -0.0160,  ..., -0.0302, -0.0208, -0.0186],\n",
      "         [ 0.2039,  0.1569, -0.2342,  ..., -0.1102,  0.2575,  0.0765],\n",
      "         [ 0.6726, -0.2458, -0.0159,  ...,  0.3238,  0.2636, -0.0796],\n",
      "         ...,\n",
      "         [ 0.9273, -0.2617, -0.1268,  ...,  0.2491,  0.1701,  0.0846],\n",
      "         [ 0.5355, -0.0578, -0.0928,  ...,  0.2653,  0.0409, -0.5193],\n",
      "         [-0.0101, -0.0098, -0.0160,  ..., -0.0302, -0.0208, -0.0186]]],\n",
      "       grad_fn=<NativeLayerNormBackward>), pooler_output=tensor([[-5.2381e-02,  5.5714e-02,  1.6412e-02,  6.1748e-04,  5.0623e-02,\n",
      "          8.1442e-02,  4.2414e-02, -7.5105e-03, -1.2329e-02,  6.2801e-02,\n",
      "         -1.0946e-02,  4.8848e-02,  1.6424e-02, -2.0096e-02,  4.9712e-02,\n",
      "         -1.5399e-02, -4.3242e-02,  2.2940e-03, -1.2076e-01, -8.4439e-02,\n",
      "          7.8570e-02,  7.2158e-02, -3.3552e-02, -9.9965e-02,  9.4612e-04,\n",
      "         -3.3801e-02, -5.7639e-02, -6.0294e-03,  2.2355e-02,  7.2021e-03,\n",
      "          2.7081e-02, -2.2260e-04,  1.5589e-02,  3.5870e-02,  3.9741e-03,\n",
      "         -4.0720e-02, -2.1225e-02, -2.8443e-02,  1.1252e-01,  2.7163e-02,\n",
      "          3.0428e-02, -1.5482e-02, -1.1579e-01,  3.7147e-02, -6.7270e-02,\n",
      "         -2.8865e-02,  2.2667e-02, -6.6035e-02, -4.6882e-02,  5.8278e-03,\n",
      "         -5.0292e-02, -1.4038e-02,  1.7638e-02, -2.9495e-02, -2.3325e-02,\n",
      "          5.1469e-02, -1.2877e-02, -2.6432e-02,  5.0210e-02, -9.1596e-03,\n",
      "          3.8031e-03,  1.3626e-02,  6.8124e-02,  1.0080e-01,  3.1348e-02,\n",
      "         -2.0602e-02,  8.1705e-02,  1.0335e-01,  7.1731e-02,  2.4893e-02,\n",
      "          3.9095e-02, -1.8610e-02,  1.0609e-02,  1.5805e-01,  2.7384e-02,\n",
      "          3.0533e-02,  1.4535e-02,  5.8124e-03, -9.0536e-02,  5.7740e-02,\n",
      "          3.1570e-02, -4.3033e-02,  3.8254e-02,  1.7448e-02, -4.4887e-02,\n",
      "          2.9097e-02,  9.4680e-03,  5.5524e-02, -4.4399e-03, -2.2688e-02,\n",
      "          2.5022e-02, -1.0359e-01,  8.8071e-02,  8.6632e-02,  6.0380e-02,\n",
      "          9.1550e-03,  1.5021e-02, -6.4910e-03, -3.7190e-02,  4.8288e-02,\n",
      "         -5.6125e-02,  1.2276e-01, -6.9166e-02,  8.3588e-02,  6.1590e-02,\n",
      "         -4.0021e-02,  4.2019e-02, -5.0612e-02,  3.6394e-02,  5.6946e-02,\n",
      "         -2.1818e-02,  4.7321e-02,  3.0616e-02, -2.0720e-02, -6.7421e-02,\n",
      "          7.2075e-02, -1.2160e-01, -8.7425e-02, -6.6313e-02,  5.3493e-02,\n",
      "         -1.2264e-02,  6.3383e-02,  1.1132e-02, -6.6048e-02, -7.9610e-02,\n",
      "          6.1416e-02,  8.5154e-02,  9.5960e-02,  3.2809e-02, -1.4255e-02,\n",
      "         -4.8065e-02,  3.0868e-02, -1.8649e-02,  3.4923e-02,  9.0565e-02,\n",
      "         -5.6935e-02, -5.7769e-03, -3.5481e-04, -8.5942e-03,  1.1348e-02,\n",
      "         -3.6566e-02, -1.3180e-02, -7.4663e-02, -1.1502e-02, -1.0107e-02,\n",
      "         -3.1352e-03, -2.5269e-02, -3.9445e-02, -3.5206e-02,  4.5450e-02,\n",
      "          7.6342e-02,  9.6165e-03,  9.4697e-03, -9.4051e-03, -8.2192e-02,\n",
      "         -1.0199e-02,  3.9133e-02, -1.0632e-01,  5.0075e-02,  8.2636e-02,\n",
      "          3.2352e-02,  7.6330e-02, -5.9079e-02,  2.6495e-02,  4.1092e-02,\n",
      "         -6.5216e-02, -2.3806e-03, -9.4832e-02,  9.4463e-02, -8.6279e-02,\n",
      "          2.2207e-02,  2.4209e-02,  3.3490e-02, -4.3538e-02, -4.5633e-02,\n",
      "         -2.5668e-02,  1.9248e-02, -1.3725e-04, -6.3612e-02, -2.1941e-02,\n",
      "         -8.3765e-03,  6.0062e-02,  5.4612e-02,  3.6967e-02, -5.6941e-02,\n",
      "          1.9280e-02,  5.0657e-02, -6.7809e-02,  2.9542e-04, -8.2336e-02,\n",
      "         -7.3411e-02,  7.3497e-02,  4.4774e-02, -8.4260e-02,  1.5391e-02,\n",
      "         -8.5684e-03,  3.6274e-02,  1.8749e-02,  9.8478e-02, -5.8821e-02,\n",
      "         -2.8765e-02,  8.7421e-02, -2.7005e-02, -6.8560e-02, -5.3569e-02,\n",
      "         -2.1484e-02, -9.0732e-02,  5.1421e-02, -9.3156e-03,  3.1814e-02,\n",
      "          2.7744e-02, -1.7537e-02,  5.6234e-02,  3.9691e-02, -3.7933e-02,\n",
      "          1.4028e-03, -6.3596e-02,  3.5865e-02,  3.8918e-02,  4.0142e-02,\n",
      "          1.2670e-03, -9.3251e-02, -3.8809e-02, -4.4510e-02,  9.3330e-03,\n",
      "         -2.4025e-02, -8.6148e-02, -3.5755e-02,  7.7810e-03,  7.8529e-03,\n",
      "         -4.4836e-02, -1.4812e-01,  3.0883e-02, -2.4235e-02, -7.3239e-02,\n",
      "          3.2869e-03,  4.7503e-03,  2.8503e-02,  3.8736e-02, -6.4190e-03,\n",
      "          3.4871e-02,  8.8324e-03,  8.5448e-03, -1.9278e-02, -6.9984e-02,\n",
      "          6.6946e-02,  1.5198e-02, -9.8991e-02,  5.0377e-02,  5.3034e-03,\n",
      "          1.2616e-01,  3.0631e-02, -4.2006e-02,  3.5051e-02,  5.7498e-02,\n",
      "          7.1825e-02,  4.2403e-02,  3.7135e-02, -1.1081e-02, -4.6025e-02,\n",
      "          2.9822e-02,  1.0469e-02, -3.8175e-02, -2.4255e-03,  3.4397e-02,\n",
      "         -2.4515e-02, -1.4087e-02,  5.6613e-02,  3.8357e-02, -5.9886e-02,\n",
      "         -6.5371e-02,  7.8974e-02,  7.6889e-02,  4.7284e-02, -2.7765e-02,\n",
      "          8.2692e-02, -1.6175e-02,  5.2246e-02,  1.1624e-01,  6.0432e-02,\n",
      "          6.5343e-02, -6.8100e-02, -8.5073e-02, -6.0779e-02,  5.7679e-02,\n",
      "         -1.1014e-02,  5.9812e-02,  4.0665e-02, -5.7264e-02,  5.2533e-02,\n",
      "          7.7145e-02,  6.2614e-02, -6.2713e-02,  2.6216e-02, -7.9063e-03,\n",
      "         -4.0257e-02,  1.1014e-01,  9.8689e-02,  1.0331e-01, -1.1853e-02,\n",
      "          3.5848e-03,  1.5159e-02,  4.6201e-02, -6.7437e-03, -8.0820e-02,\n",
      "         -6.4724e-03, -3.9529e-02,  3.0737e-03, -4.4475e-02,  6.7415e-02,\n",
      "          8.2816e-03,  5.0729e-02,  1.0096e-01, -5.5744e-02,  1.1491e-02,\n",
      "          1.2178e-01, -7.0484e-02,  3.3052e-03, -7.0151e-04,  1.4705e-02,\n",
      "          5.5279e-02, -6.9768e-02, -7.1207e-02, -6.4804e-04, -6.1310e-03,\n",
      "          1.3202e-02,  2.8404e-02, -9.9932e-03, -2.8187e-02, -8.2583e-02,\n",
      "          5.8550e-02, -8.0925e-03, -7.0833e-02, -1.9152e-02, -2.3532e-02,\n",
      "          1.5210e-02,  1.3833e-02,  5.4421e-02,  4.4195e-02, -1.8273e-02,\n",
      "         -6.9777e-02, -4.4735e-02, -4.2018e-02, -2.4625e-02,  2.8587e-02,\n",
      "          5.3904e-02,  8.9348e-03,  1.2200e-02, -4.9728e-02, -6.3741e-02,\n",
      "         -1.0002e-01,  4.9367e-02, -5.2923e-02,  7.4037e-02, -4.2130e-02,\n",
      "          3.5342e-02, -2.7281e-02, -9.7877e-02, -1.9088e-02, -3.9640e-02,\n",
      "          1.6886e-02, -5.7310e-03, -4.5695e-02,  2.6782e-02,  4.2427e-02,\n",
      "         -6.2043e-02, -2.8752e-02,  1.0005e-01,  1.1472e-02,  5.3012e-02,\n",
      "          7.6369e-02,  1.2498e-02,  4.5191e-02, -1.3672e-01,  3.3075e-02,\n",
      "          1.3209e-03,  2.4942e-02, -4.5203e-02,  4.9683e-02,  2.8283e-02,\n",
      "          6.7515e-02, -3.0801e-03,  3.0654e-02, -3.9534e-02, -9.4773e-03,\n",
      "         -2.7657e-02,  4.2550e-02, -2.4152e-03,  2.9342e-02,  6.5760e-02,\n",
      "         -7.7257e-03,  1.5086e-02, -6.5076e-02, -4.5538e-03,  1.3689e-02,\n",
      "          3.9982e-02,  8.8602e-02, -3.5648e-02, -2.5476e-03, -3.9636e-03,\n",
      "          1.2246e-02,  2.2539e-02, -1.2364e-02,  4.0893e-02, -2.8004e-02,\n",
      "         -1.4777e-01,  4.1282e-02,  9.3038e-02, -4.7744e-02, -5.3965e-02,\n",
      "         -5.6141e-02, -1.3504e-02,  3.9129e-02,  9.3541e-02, -2.0214e-02,\n",
      "          8.4472e-02,  2.2154e-02,  9.0948e-02, -1.5618e-02,  3.2051e-03,\n",
      "          6.5714e-02,  5.0940e-02,  3.7477e-02, -2.1911e-02,  7.7675e-02,\n",
      "          7.7430e-02,  7.0493e-03,  5.1416e-02,  1.1743e-03,  5.6027e-02,\n",
      "         -1.5128e-02,  5.0153e-02,  7.2058e-02,  7.8339e-02, -2.1226e-02,\n",
      "          2.0862e-02, -4.5677e-03,  1.3170e-03,  6.0731e-02,  1.0946e-01,\n",
      "         -7.7434e-02,  1.5719e-02,  4.2678e-02, -4.4256e-02, -6.7341e-02,\n",
      "         -2.6884e-02,  1.2460e-02, -6.2886e-03, -2.8774e-02, -7.8100e-02,\n",
      "         -1.0606e-01, -1.8771e-02,  9.1329e-02, -5.7525e-02,  1.1745e-02,\n",
      "         -5.4097e-02, -1.4512e-01, -1.0100e-02, -1.1297e-02, -4.6251e-02,\n",
      "         -3.9744e-02,  1.5558e-02, -7.6081e-03,  1.0229e-02,  5.5704e-03,\n",
      "          6.2826e-02,  1.0445e-02,  6.4424e-02, -2.7418e-02,  8.3668e-02,\n",
      "         -1.3371e-01, -3.1718e-02,  3.6384e-02,  2.1231e-02, -1.6839e-02,\n",
      "          1.3948e-03,  2.4554e-02, -1.0000e-04, -2.1033e-02,  2.9497e-02,\n",
      "          3.2730e-02, -9.7301e-03, -6.3946e-02,  4.7033e-02, -3.9372e-02,\n",
      "         -1.0593e-02,  4.9909e-02, -1.3263e-02, -2.6837e-02, -6.6852e-02,\n",
      "         -8.7098e-03, -4.3573e-02,  9.2831e-02, -3.9351e-02,  1.0242e-01,\n",
      "         -7.5976e-03,  6.1410e-02, -6.9136e-02,  3.7189e-02, -1.0176e-01,\n",
      "         -1.4960e-03, -4.0972e-02, -6.9469e-02,  4.8364e-02,  4.8804e-03,\n",
      "         -1.3558e-02, -5.1245e-02,  7.9100e-02, -7.2010e-02,  1.3910e-02,\n",
      "          7.0905e-02, -1.3395e-02, -2.7534e-02, -6.9965e-02,  4.9505e-02,\n",
      "         -6.6792e-02, -6.3610e-03, -5.1141e-02,  4.3228e-02,  2.8119e-02,\n",
      "          2.5408e-02, -2.1089e-02,  2.5091e-02,  1.7300e-02, -1.9002e-02,\n",
      "          1.0547e-02, -1.3142e-01, -4.0384e-02, -2.9816e-02, -5.8988e-02,\n",
      "         -2.7284e-03,  2.6081e-02,  1.7201e-02, -2.5877e-02, -4.4373e-02,\n",
      "         -9.5525e-02, -2.6851e-02, -8.3357e-03, -3.3950e-02,  4.3914e-02,\n",
      "          2.3991e-02,  4.7160e-02,  2.5077e-02,  1.2206e-02, -1.5013e-02,\n",
      "         -3.4857e-02, -6.6281e-02,  6.4203e-02, -1.9394e-02,  1.4407e-02,\n",
      "         -4.9778e-02,  4.7532e-02, -4.7117e-03, -4.7929e-02,  1.0253e-01,\n",
      "         -3.3826e-02, -1.6223e-02, -3.7745e-02, -6.5247e-02,  3.4563e-02,\n",
      "         -2.3255e-02, -7.2421e-02,  8.7563e-02, -7.1414e-03,  1.5845e-02,\n",
      "          7.8987e-03,  1.2990e-02,  1.7091e-02, -4.1181e-02, -4.4557e-02,\n",
      "         -4.7374e-02,  2.8928e-03,  5.6987e-02, -2.9969e-02,  3.9924e-02,\n",
      "         -1.9274e-02, -6.8842e-02,  7.7249e-02,  1.0984e-02,  5.5671e-02,\n",
      "          3.4226e-02, -9.6158e-02,  6.5786e-03, -2.7072e-02,  1.0316e-01,\n",
      "          4.2844e-03, -2.4390e-02,  4.2648e-02,  1.5633e-02, -2.1762e-02,\n",
      "         -7.3261e-02,  6.7948e-02,  2.5684e-02, -4.7313e-02,  2.8655e-02,\n",
      "          8.1691e-02, -7.7516e-03,  7.9672e-02, -1.1487e-02, -4.2774e-02,\n",
      "          5.6992e-02,  1.9334e-02,  1.5324e-02, -3.3651e-03, -1.5550e-02,\n",
      "          4.2226e-02, -9.1169e-03,  2.4225e-02,  7.1953e-02, -2.4091e-02,\n",
      "          1.8690e-02, -8.3342e-02,  6.7240e-02,  1.1955e-02, -3.1262e-02,\n",
      "         -7.2910e-04, -6.0581e-02, -6.1040e-02, -6.8449e-02,  7.1404e-02,\n",
      "         -1.1441e-02, -2.4304e-02, -3.9695e-02, -2.9093e-02, -4.7756e-02,\n",
      "         -1.7632e-03,  4.1323e-02,  4.2499e-02, -7.0444e-02,  2.4054e-02,\n",
      "         -6.8059e-03, -5.8455e-02,  1.1103e-02, -2.7606e-02, -1.0552e-01,\n",
      "         -1.1665e-02, -2.8117e-02,  1.3024e-03,  3.0768e-03, -7.2924e-02,\n",
      "          6.4444e-03, -2.6020e-02, -5.8386e-02, -1.1134e-01, -8.4733e-02,\n",
      "          1.7112e-02,  2.8761e-02,  1.3563e-01, -1.0157e-02,  8.4163e-02,\n",
      "         -1.7933e-02,  8.7889e-02,  3.4988e-02, -3.0924e-02,  4.7247e-02,\n",
      "         -9.6769e-02,  1.9230e-02,  4.2540e-04, -4.0345e-02, -1.0306e-01,\n",
      "         -8.4389e-02,  3.6751e-02, -8.3913e-03,  4.8617e-02,  9.0066e-02,\n",
      "         -1.1582e-01,  4.7677e-02,  5.5997e-02, -2.6057e-02,  3.9207e-02,\n",
      "          5.1926e-02, -5.8461e-02,  5.2632e-02,  4.2238e-02, -2.9833e-02,\n",
      "         -3.5611e-02, -8.5943e-02, -6.8738e-02, -6.8143e-03, -5.6956e-02,\n",
      "         -2.2714e-02, -7.3159e-02,  8.4611e-02, -5.1025e-02, -4.1234e-02,\n",
      "         -8.5747e-02, -3.4256e-02, -1.7977e-02,  2.8955e-02,  2.5521e-02,\n",
      "         -2.2014e-02,  4.0790e-03,  3.3275e-03,  1.0031e-01,  7.7297e-02,\n",
      "         -6.8344e-03, -1.2775e-02, -5.8746e-02,  4.8333e-02,  4.5475e-02,\n",
      "          7.2165e-02, -6.2472e-03,  1.0099e-02,  1.2588e-01, -4.2303e-02,\n",
      "          3.8337e-02,  9.4738e-03, -8.7015e-03, -4.2014e-02, -3.4407e-02,\n",
      "         -5.4861e-02, -1.0161e-01,  9.6485e-04, -9.6348e-03, -5.6852e-02,\n",
      "          6.7023e-04, -9.2821e-02,  4.1789e-02,  7.5343e-02, -3.5611e-02,\n",
      "         -4.4798e-02,  7.0413e-02,  3.2597e-02,  4.8648e-02, -1.2711e-02,\n",
      "          2.6894e-02,  3.4452e-02,  1.3665e-02,  2.6755e-02, -7.2891e-02,\n",
      "         -8.0550e-02,  2.2422e-02,  3.1241e-02, -8.3923e-03,  4.4273e-02,\n",
      "          4.4154e-02, -1.5314e-02,  4.2734e-02, -3.6595e-02,  6.0038e-02,\n",
      "          2.8487e-02,  6.1818e-02,  4.0008e-02,  7.5563e-03, -4.7811e-02,\n",
      "          4.9352e-03, -2.6030e-02,  8.2260e-02,  5.5322e-02,  9.8761e-03,\n",
      "         -3.8759e-02, -6.0021e-02, -8.4048e-02, -4.9654e-02,  8.3498e-02,\n",
      "          1.7194e-03,  6.8920e-03, -1.0876e-02,  6.5133e-02, -2.2777e-02,\n",
      "          5.7982e-02,  1.3546e-01, -5.9107e-02, -5.7398e-02, -5.7511e-02,\n",
      "         -2.4573e-02,  2.5782e-02,  1.7286e-02]], grad_fn=<TanhBackward>), hidden_states=None, attentions=None)\n"
     ]
    }
   ],
   "source": [
    "print(sample_output)"
   ]
  },
  {
   "cell_type": "code",
   "execution_count": 32,
   "metadata": {
    "colab": {
     "base_uri": "https://localhost:8080/"
    },
    "executionInfo": {
     "elapsed": 294,
     "status": "ok",
     "timestamp": 1633489604916,
     "user": {
      "displayName": "Srivarshan 19BAI1078",
      "photoUrl": "https://lh3.googleusercontent.com/a/default-user=s64",
      "userId": "03718411517360748676"
     },
     "user_tz": -330
    },
    "id": "WPN52SytkMYv",
    "outputId": "28bb46c6-8a32-414f-f7b9-a2a177f1ef71"
   },
   "outputs": [
    {
     "name": "stdout",
     "output_type": "stream",
     "text": [
      "(1, 768)\n"
     ]
    }
   ],
   "source": [
    "print(sample_output.pooler_output.cpu().detach().numpy().shape)"
   ]
  },
  {
   "cell_type": "code",
   "execution_count": 33,
   "metadata": {
    "executionInfo": {
     "elapsed": 2633,
     "status": "ok",
     "timestamp": 1633489684624,
     "user": {
      "displayName": "Srivarshan 19BAI1078",
      "photoUrl": "https://lh3.googleusercontent.com/a/default-user=s64",
      "userId": "03718411517360748676"
     },
     "user_tz": -330
    },
    "id": "DSjkcWpAirTg"
   },
   "outputs": [],
   "source": [
    "# Tokenizing Input Data\n",
    "\n",
    "input = []\n",
    "\n",
    "for i in text:\n",
    "    tokenized_input = tokenizer(\n",
    "        i,\n",
    "        padding=True,\n",
    "        truncation=False,\n",
    "        return_tensors='pt'\n",
    "    )\n",
    "    input.append(tokenized_input)"
   ]
  },
  {
   "cell_type": "code",
   "execution_count": 36,
   "metadata": {
    "colab": {
     "base_uri": "https://localhost:8080/"
    },
    "executionInfo": {
     "elapsed": 991391,
     "status": "ok",
     "timestamp": 1633491244277,
     "user": {
      "displayName": "Srivarshan 19BAI1078",
      "photoUrl": "https://lh3.googleusercontent.com/a/default-user=s64",
      "userId": "03718411517360748676"
     },
     "user_tz": -330
    },
    "id": "04wzA-Qmknyx",
    "outputId": "5d346157-784c-41ee-c5f7-d7fdc99e13a4"
   },
   "outputs": [
    {
     "name": "stdout",
     "output_type": "stream",
     "text": [
      "./IndicBert-Embedded-TrainData/output1.pickle done\n",
      "./IndicBert-Embedded-TrainData/output2.pickle done\n",
      "./IndicBert-Embedded-TrainData/output3.pickle done\n",
      "./IndicBert-Embedded-TrainData/output4.pickle done\n",
      "./IndicBert-Embedded-TrainData/output5.pickle done\n",
      "./IndicBert-Embedded-TrainData/output6.pickle done\n",
      "./IndicBert-Embedded-TrainData/output7.pickle done\n",
      "./IndicBert-Embedded-TrainData/output8.pickle done\n",
      "./IndicBert-Embedded-TrainData/output9.pickle done\n",
      "./IndicBert-Embedded-TrainData/output10.pickle done\n",
      "./IndicBert-Embedded-TrainData/output11.pickle done\n",
      "./IndicBert-Embedded-TrainData/output12.pickle done\n",
      "./IndicBert-Embedded-TrainData/output13.pickle done\n",
      "./IndicBert-Embedded-TrainData/output14.pickle done\n",
      "./IndicBert-Embedded-TrainData/output15.pickle done\n",
      "./IndicBert-Embedded-TrainData/output16.pickle done\n",
      "./IndicBert-Embedded-TrainData/output17.pickle done\n",
      "./IndicBert-Embedded-TrainData/output18.pickle done\n",
      "./IndicBert-Embedded-TrainData/output19.pickle done\n",
      "./IndicBert-Embedded-TrainData/output20.pickle done\n",
      "./IndicBert-Embedded-TrainData/output21.pickle done\n",
      "./IndicBert-Embedded-TrainData/output22.pickle done\n",
      "./IndicBert-Embedded-TrainData/output23.pickle done\n",
      "./IndicBert-Embedded-TrainData/output24.pickle done\n",
      "./IndicBert-Embedded-TrainData/output25.pickle done\n",
      "./IndicBert-Embedded-TrainData/output26.pickle done\n",
      "./IndicBert-Embedded-TrainData/output27.pickle done\n",
      "./IndicBert-Embedded-TrainData/output28.pickle done\n",
      "./IndicBert-Embedded-TrainData/output29.pickle done\n",
      "./IndicBert-Embedded-TrainData/output30.pickle done\n"
     ]
    }
   ],
   "source": [
    "# Embedding the Input Data\n",
    "\n",
    "output = []\n",
    "\n",
    "j = 1\n",
    "\n",
    "for i in range(len(input)):\n",
    "    \n",
    "    model_output = model(**input[i])\n",
    "    model_output = model_output.pooler_output.cpu().detach().numpy()\n",
    "    output.append(model_output)\n",
    "    \n",
    "    # Saving Embedded Input Data to Disk\n",
    "\n",
    "    if ((i + 1) % 200) == 0:\n",
    "        \n",
    "        file_name = \"./IndicBert-Embedded-TrainData/output\" + str(j) + \".pickle\"\n",
    "        \n",
    "        with open(file_name, \"wb\") as fp:   \n",
    "            # Pickling\n",
    "            pickle.dump(output, fp)\n",
    "        \n",
    "        print(file_name + \" done\")\n",
    "        output = []\n",
    "        j += 1\n",
    "        \n",
    "file_name = \"./IndicBert-Embedded-TrainData/output\" + str(j) + \".pickle\"\n",
    "\n",
    "with open(file_name, \"wb\") as fp:   \n",
    "    # Pickling\n",
    "    pickle.dump(output, fp)\n",
    "\n",
    "print(file_name + \" done\")\n",
    "output = []"
   ]
  },
  {
   "cell_type": "code",
   "execution_count": 18,
   "metadata": {
    "colab": {
     "base_uri": "https://localhost:8080/"
    },
    "executionInfo": {
     "elapsed": 354,
     "status": "ok",
     "timestamp": 1633497972053,
     "user": {
      "displayName": "Srivarshan 19BAI1078",
      "photoUrl": "https://lh3.googleusercontent.com/a/default-user=s64",
      "userId": "03718411517360748676"
     },
     "user_tz": -330
    },
    "id": "JiGIzqtKmjeP",
    "outputId": "8c60de11-82ac-4d55-a06d-ff7ab442ead7"
   },
   "outputs": [
    {
     "name": "stdout",
     "output_type": "stream",
     "text": [
      "./IndicBert-Embedded-TrainData/output1.pickle done\n",
      "./IndicBert-Embedded-TrainData/output2.pickle done\n",
      "./IndicBert-Embedded-TrainData/output3.pickle done\n",
      "./IndicBert-Embedded-TrainData/output4.pickle done\n",
      "./IndicBert-Embedded-TrainData/output5.pickle done\n",
      "./IndicBert-Embedded-TrainData/output6.pickle done\n",
      "./IndicBert-Embedded-TrainData/output7.pickle done\n",
      "./IndicBert-Embedded-TrainData/output8.pickle done\n",
      "./IndicBert-Embedded-TrainData/output9.pickle done\n",
      "./IndicBert-Embedded-TrainData/output10.pickle done\n",
      "./IndicBert-Embedded-TrainData/output11.pickle done\n",
      "./IndicBert-Embedded-TrainData/output12.pickle done\n",
      "./IndicBert-Embedded-TrainData/output13.pickle done\n",
      "./IndicBert-Embedded-TrainData/output14.pickle done\n",
      "./IndicBert-Embedded-TrainData/output15.pickle done\n",
      "./IndicBert-Embedded-TrainData/output16.pickle done\n",
      "./IndicBert-Embedded-TrainData/output17.pickle done\n",
      "./IndicBert-Embedded-TrainData/output18.pickle done\n",
      "./IndicBert-Embedded-TrainData/output19.pickle done\n",
      "./IndicBert-Embedded-TrainData/output20.pickle done\n",
      "./IndicBert-Embedded-TrainData/output21.pickle done\n",
      "./IndicBert-Embedded-TrainData/output22.pickle done\n",
      "./IndicBert-Embedded-TrainData/output23.pickle done\n",
      "./IndicBert-Embedded-TrainData/output24.pickle done\n",
      "./IndicBert-Embedded-TrainData/output25.pickle done\n",
      "./IndicBert-Embedded-TrainData/output26.pickle done\n",
      "./IndicBert-Embedded-TrainData/output27.pickle done\n",
      "./IndicBert-Embedded-TrainData/output28.pickle done\n",
      "./IndicBert-Embedded-TrainData/output29.pickle done\n",
      "./IndicBert-Embedded-TrainData/output30.pickle done\n"
     ]
    }
   ],
   "source": [
    "# Loading Embedded Input Data from Disk\n",
    "\n",
    "output = []\n",
    "\n",
    "for i in range(30):\n",
    "    file_name = \"./IndicBert-Embedded-TrainData/output\" + str(i + 1) + \".pickle\"\n",
    "    with open(file_name, \"rb\") as fp:   #Pickling\n",
    "        file_output = pickle.load(fp)\n",
    "        for x in file_output:\n",
    "            output.append(x)\n",
    "    print(file_name + \" done\")\n",
    "\n",
    "X = output\n",
    "output = []"
   ]
  },
  {
   "cell_type": "code",
   "execution_count": 19,
   "metadata": {
    "colab": {
     "base_uri": "https://localhost:8080/"
    },
    "executionInfo": {
     "elapsed": 338,
     "status": "ok",
     "timestamp": 1633497974576,
     "user": {
      "displayName": "Srivarshan 19BAI1078",
      "photoUrl": "https://lh3.googleusercontent.com/a/default-user=s64",
      "userId": "03718411517360748676"
     },
     "user_tz": -330
    },
    "id": "D8GZw0G4snib",
    "outputId": "77a4c608-0de4-4f85-acf5-2d0d39bd7674"
   },
   "outputs": [
    {
     "data": {
      "text/plain": [
       "(5877, 1, 768)"
      ]
     },
     "execution_count": 19,
     "metadata": {},
     "output_type": "execute_result"
    }
   ],
   "source": [
    "X = np.array(X)\n",
    "X.shape"
   ]
  },
  {
   "cell_type": "code",
   "execution_count": 20,
   "metadata": {
    "colab": {
     "base_uri": "https://localhost:8080/"
    },
    "executionInfo": {
     "elapsed": 9,
     "status": "ok",
     "timestamp": 1633497976066,
     "user": {
      "displayName": "Srivarshan 19BAI1078",
      "photoUrl": "https://lh3.googleusercontent.com/a/default-user=s64",
      "userId": "03718411517360748676"
     },
     "user_tz": -330
    },
    "id": "RVY644kz3fmY",
    "outputId": "a7235bfe-ab9d-4557-8fab-59d7dc62087a"
   },
   "outputs": [
    {
     "data": {
      "text/plain": [
       "(5877, 768)"
      ]
     },
     "execution_count": 20,
     "metadata": {},
     "output_type": "execute_result"
    }
   ],
   "source": [
    "X = X.reshape(5877, 768)\n",
    "X.shape"
   ]
  },
  {
   "cell_type": "code",
   "execution_count": 21,
   "metadata": {
    "colab": {
     "base_uri": "https://localhost:8080/"
    },
    "executionInfo": {
     "elapsed": 337,
     "status": "ok",
     "timestamp": 1633497977936,
     "user": {
      "displayName": "Srivarshan 19BAI1078",
      "photoUrl": "https://lh3.googleusercontent.com/a/default-user=s64",
      "userId": "03718411517360748676"
     },
     "user_tz": -330
    },
    "id": "Afj3ktv4sh_n",
    "outputId": "f31a9dff-5d2d-4600-9d73-02fae3f2cf3b"
   },
   "outputs": [
    {
     "data": {
      "text/plain": [
       "(5877,)"
      ]
     },
     "execution_count": 21,
     "metadata": {},
     "output_type": "execute_result"
    }
   ],
   "source": [
    "y = label\n",
    "y.shape"
   ]
  },
  {
   "cell_type": "markdown",
   "metadata": {
    "id": "Yx-irLz_1zqa"
   },
   "source": [
    "## **Train Test Split**"
   ]
  },
  {
   "cell_type": "code",
   "execution_count": 22,
   "metadata": {
    "executionInfo": {
     "elapsed": 347,
     "status": "ok",
     "timestamp": 1633497981820,
     "user": {
      "displayName": "Srivarshan 19BAI1078",
      "photoUrl": "https://lh3.googleusercontent.com/a/default-user=s64",
      "userId": "03718411517360748676"
     },
     "user_tz": -330
    },
    "id": "kKPsOhmVsm6d"
   },
   "outputs": [],
   "source": [
    "X_train, X_val, y_train, y_val = train_test_split(X, y, test_size=0.2, random_state=42)"
   ]
  },
  {
   "cell_type": "code",
   "execution_count": 23,
   "metadata": {
    "colab": {
     "base_uri": "https://localhost:8080/"
    },
    "executionInfo": {
     "elapsed": 7,
     "status": "ok",
     "timestamp": 1633497983139,
     "user": {
      "displayName": "Srivarshan 19BAI1078",
      "photoUrl": "https://lh3.googleusercontent.com/a/default-user=s64",
      "userId": "03718411517360748676"
     },
     "user_tz": -330
    },
    "id": "sLgRQz2K187N",
    "outputId": "77e09c43-fe0f-4945-c7ee-9615e21e28ce"
   },
   "outputs": [
    {
     "data": {
      "text/plain": [
       "(4701, 768)"
      ]
     },
     "execution_count": 23,
     "metadata": {},
     "output_type": "execute_result"
    }
   ],
   "source": [
    "X_train.shape"
   ]
  },
  {
   "cell_type": "code",
   "execution_count": 24,
   "metadata": {
    "colab": {
     "base_uri": "https://localhost:8080/"
    },
    "executionInfo": {
     "elapsed": 8,
     "status": "ok",
     "timestamp": 1633497984464,
     "user": {
      "displayName": "Srivarshan 19BAI1078",
      "photoUrl": "https://lh3.googleusercontent.com/a/default-user=s64",
      "userId": "03718411517360748676"
     },
     "user_tz": -330
    },
    "id": "jvmxkn1Z1-ij",
    "outputId": "8b3188b3-6982-41b0-8017-bc6289cbee37"
   },
   "outputs": [
    {
     "data": {
      "text/plain": [
       "(1176, 768)"
      ]
     },
     "execution_count": 24,
     "metadata": {},
     "output_type": "execute_result"
    }
   ],
   "source": [
    "X_val.shape"
   ]
  },
  {
   "cell_type": "markdown",
   "metadata": {
    "id": "SCu6BNbhBg7J"
   },
   "source": [
    "## **Logistic Regression**"
   ]
  },
  {
   "cell_type": "code",
   "execution_count": 25,
   "metadata": {
    "colab": {
     "base_uri": "https://localhost:8080/"
    },
    "executionInfo": {
     "elapsed": 338,
     "status": "ok",
     "timestamp": 1633497987210,
     "user": {
      "displayName": "Srivarshan 19BAI1078",
      "photoUrl": "https://lh3.googleusercontent.com/a/default-user=s64",
      "userId": "03718411517360748676"
     },
     "user_tz": -330
    },
    "id": "ywNZ89i9BQn8",
    "outputId": "052c7db0-af6c-4e17-9fed-c79f47a9d84a"
   },
   "outputs": [
    {
     "name": "stdout",
     "output_type": "stream",
     "text": [
      "              precision    recall  f1-score   support\n",
      "\n",
      "           0       0.81      1.00      0.89       950\n",
      "           1       0.00      0.00      0.00       226\n",
      "\n",
      "    accuracy                           0.81      1176\n",
      "   macro avg       0.40      0.50      0.45      1176\n",
      "weighted avg       0.65      0.81      0.72      1176\n",
      "\n"
     ]
    },
    {
     "name": "stderr",
     "output_type": "stream",
     "text": [
      "/usr/local/lib/python3.7/dist-packages/sklearn/metrics/_classification.py:1272: UndefinedMetricWarning: Precision and F-score are ill-defined and being set to 0.0 in labels with no predicted samples. Use `zero_division` parameter to control this behavior.\n",
      "  _warn_prf(average, modifier, msg_start, len(result))\n"
     ]
    }
   ],
   "source": [
    "lr = LogisticRegression()\n",
    "lr.fit(X_train, y_train)\n",
    "lr_pred = lr.predict(X_val)\n",
    "print(classification_report(y_val, lr_pred))"
   ]
  },
  {
   "cell_type": "markdown",
   "metadata": {
    "id": "Ee_0Tw0oEW6y"
   },
   "source": [
    "## **Support Vector Machine**"
   ]
  },
  {
   "cell_type": "code",
   "execution_count": 26,
   "metadata": {
    "colab": {
     "base_uri": "https://localhost:8080/"
    },
    "executionInfo": {
     "elapsed": 11410,
     "status": "ok",
     "timestamp": 1633498037678,
     "user": {
      "displayName": "Srivarshan 19BAI1078",
      "photoUrl": "https://lh3.googleusercontent.com/a/default-user=s64",
      "userId": "03718411517360748676"
     },
     "user_tz": -330
    },
    "id": "mYA73k6CB_Mf",
    "outputId": "d444ad10-65f8-44a6-addf-5716152aab5d"
   },
   "outputs": [
    {
     "name": "stdout",
     "output_type": "stream",
     "text": [
      "              precision    recall  f1-score   support\n",
      "\n",
      "           0       0.81      1.00      0.89       950\n",
      "           1       0.00      0.00      0.00       226\n",
      "\n",
      "    accuracy                           0.81      1176\n",
      "   macro avg       0.40      0.50      0.45      1176\n",
      "weighted avg       0.65      0.81      0.72      1176\n",
      "\n"
     ]
    },
    {
     "name": "stderr",
     "output_type": "stream",
     "text": [
      "/usr/local/lib/python3.7/dist-packages/sklearn/metrics/_classification.py:1272: UndefinedMetricWarning: Precision and F-score are ill-defined and being set to 0.0 in labels with no predicted samples. Use `zero_division` parameter to control this behavior.\n",
      "  _warn_prf(average, modifier, msg_start, len(result))\n"
     ]
    }
   ],
   "source": [
    "svm = SVC()\n",
    "svm.fit(X_train, y_train)\n",
    "svm_pred = svm.predict(X_val)\n",
    "print(classification_report(y_val, svm_pred))"
   ]
  },
  {
   "cell_type": "markdown",
   "metadata": {
    "id": "Z9CCgjxuEe3P"
   },
   "source": [
    "## **Naive Bayes**"
   ]
  },
  {
   "cell_type": "code",
   "execution_count": 27,
   "metadata": {
    "colab": {
     "base_uri": "https://localhost:8080/"
    },
    "executionInfo": {
     "elapsed": 363,
     "status": "ok",
     "timestamp": 1633498053066,
     "user": {
      "displayName": "Srivarshan 19BAI1078",
      "photoUrl": "https://lh3.googleusercontent.com/a/default-user=s64",
      "userId": "03718411517360748676"
     },
     "user_tz": -330
    },
    "id": "RqPoOLKMEc8H",
    "outputId": "56fb60da-1761-423e-e70c-c8bdeab65988"
   },
   "outputs": [
    {
     "name": "stdout",
     "output_type": "stream",
     "text": [
      "              precision    recall  f1-score   support\n",
      "\n",
      "           0       0.85      0.69      0.76       950\n",
      "           1       0.27      0.50      0.35       226\n",
      "\n",
      "    accuracy                           0.65      1176\n",
      "   macro avg       0.56      0.59      0.56      1176\n",
      "weighted avg       0.74      0.65      0.68      1176\n",
      "\n"
     ]
    }
   ],
   "source": [
    "nb = GaussianNB()\n",
    "nb.fit(X_train, y_train)\n",
    "nb_pred = nb.predict(X_val)\n",
    "print(classification_report(y_val, nb_pred))"
   ]
  },
  {
   "cell_type": "markdown",
   "metadata": {
    "id": "LGUczbe8ElKR"
   },
   "source": [
    "## **Stochastic Gradient Descent**"
   ]
  },
  {
   "cell_type": "code",
   "execution_count": 28,
   "metadata": {
    "colab": {
     "base_uri": "https://localhost:8080/"
    },
    "executionInfo": {
     "elapsed": 941,
     "status": "ok",
     "timestamp": 1633498079147,
     "user": {
      "displayName": "Srivarshan 19BAI1078",
      "photoUrl": "https://lh3.googleusercontent.com/a/default-user=s64",
      "userId": "03718411517360748676"
     },
     "user_tz": -330
    },
    "id": "CAkE_j_XEjat",
    "outputId": "a11bc6d1-0da8-4089-d512-845b59febaf0"
   },
   "outputs": [
    {
     "name": "stdout",
     "output_type": "stream",
     "text": [
      "              precision    recall  f1-score   support\n",
      "\n",
      "           0       0.81      1.00      0.89       950\n",
      "           1       0.00      0.00      0.00       226\n",
      "\n",
      "    accuracy                           0.81      1176\n",
      "   macro avg       0.40      0.50      0.45      1176\n",
      "weighted avg       0.65      0.81      0.72      1176\n",
      "\n"
     ]
    },
    {
     "name": "stderr",
     "output_type": "stream",
     "text": [
      "/usr/local/lib/python3.7/dist-packages/sklearn/metrics/_classification.py:1272: UndefinedMetricWarning: Precision and F-score are ill-defined and being set to 0.0 in labels with no predicted samples. Use `zero_division` parameter to control this behavior.\n",
      "  _warn_prf(average, modifier, msg_start, len(result))\n"
     ]
    }
   ],
   "source": [
    "sgd = SGDClassifier()\n",
    "sgd.fit(X_train, y_train)\n",
    "sgd_pred = sgd.predict(X_val)\n",
    "print(classification_report(y_val, sgd_pred))"
   ]
  },
  {
   "cell_type": "markdown",
   "metadata": {
    "id": "5zlPYaOGErfQ"
   },
   "source": [
    "## **K Nearest Neighbours**"
   ]
  },
  {
   "cell_type": "code",
   "execution_count": 29,
   "metadata": {
    "colab": {
     "base_uri": "https://localhost:8080/"
    },
    "executionInfo": {
     "elapsed": 7730,
     "status": "ok",
     "timestamp": 1633498108928,
     "user": {
      "displayName": "Srivarshan 19BAI1078",
      "photoUrl": "https://lh3.googleusercontent.com/a/default-user=s64",
      "userId": "03718411517360748676"
     },
     "user_tz": -330
    },
    "id": "xbIZOhSeEppS",
    "outputId": "d999277c-e051-4707-c66b-309113c01068"
   },
   "outputs": [
    {
     "name": "stdout",
     "output_type": "stream",
     "text": [
      "              precision    recall  f1-score   support\n",
      "\n",
      "           0       0.82      0.93      0.87       950\n",
      "           1       0.36      0.16      0.23       226\n",
      "\n",
      "    accuracy                           0.78      1176\n",
      "   macro avg       0.59      0.55      0.55      1176\n",
      "weighted avg       0.74      0.78      0.75      1176\n",
      "\n"
     ]
    }
   ],
   "source": [
    "knn = KNeighborsClassifier()\n",
    "knn.fit(X_train, y_train)\n",
    "knn_pred = knn.predict(X_val)\n",
    "print(classification_report(y_val, knn_pred))"
   ]
  },
  {
   "cell_type": "markdown",
   "metadata": {
    "id": "7bEDDBXFEv5E"
   },
   "source": [
    "## **Decision tree**"
   ]
  },
  {
   "cell_type": "code",
   "execution_count": 30,
   "metadata": {
    "colab": {
     "base_uri": "https://localhost:8080/"
    },
    "executionInfo": {
     "elapsed": 8421,
     "status": "ok",
     "timestamp": 1633498130050,
     "user": {
      "displayName": "Srivarshan 19BAI1078",
      "photoUrl": "https://lh3.googleusercontent.com/a/default-user=s64",
      "userId": "03718411517360748676"
     },
     "user_tz": -330
    },
    "id": "65p7HgRWEvP4",
    "outputId": "776dd8b3-e780-41fa-e018-2b9aee658eac"
   },
   "outputs": [
    {
     "name": "stdout",
     "output_type": "stream",
     "text": [
      "              precision    recall  f1-score   support\n",
      "\n",
      "           0       0.84      0.81      0.82       950\n",
      "           1       0.30      0.35      0.32       226\n",
      "\n",
      "    accuracy                           0.72      1176\n",
      "   macro avg       0.57      0.58      0.57      1176\n",
      "weighted avg       0.73      0.72      0.73      1176\n",
      "\n"
     ]
    }
   ],
   "source": [
    "dt = DecisionTreeClassifier()\n",
    "dt.fit(X_train, y_train)\n",
    "dt_pred = dt.predict(X_val)\n",
    "print(classification_report(y_val, dt_pred))"
   ]
  },
  {
   "cell_type": "markdown",
   "metadata": {
    "id": "wA2EAKkxE1c1"
   },
   "source": [
    "## **Random Forest**"
   ]
  },
  {
   "cell_type": "code",
   "execution_count": 31,
   "metadata": {
    "colab": {
     "base_uri": "https://localhost:8080/"
    },
    "executionInfo": {
     "elapsed": 12650,
     "status": "ok",
     "timestamp": 1633498154986,
     "user": {
      "displayName": "Srivarshan 19BAI1078",
      "photoUrl": "https://lh3.googleusercontent.com/a/default-user=s64",
      "userId": "03718411517360748676"
     },
     "user_tz": -330
    },
    "id": "GwpEKhCmEzzE",
    "outputId": "d1e38e22-0d08-4402-ddf7-b1b8878fd867"
   },
   "outputs": [
    {
     "name": "stdout",
     "output_type": "stream",
     "text": [
      "              precision    recall  f1-score   support\n",
      "\n",
      "           0       0.82      0.99      0.90       950\n",
      "           1       0.69      0.10      0.17       226\n",
      "\n",
      "    accuracy                           0.82      1176\n",
      "   macro avg       0.75      0.54      0.53      1176\n",
      "weighted avg       0.80      0.82      0.76      1176\n",
      "\n"
     ]
    }
   ],
   "source": [
    "rf = RandomForestClassifier()\n",
    "rf.fit(X_train, y_train)\n",
    "rf_pred = rf.predict(X_val)\n",
    "print(classification_report(y_val, rf_pred))"
   ]
  },
  {
   "cell_type": "markdown",
   "metadata": {
    "id": "owkuc16dE7OZ"
   },
   "source": [
    "## **Majority Voting**"
   ]
  },
  {
   "cell_type": "code",
   "execution_count": 32,
   "metadata": {
    "colab": {
     "base_uri": "https://localhost:8080/"
    },
    "executionInfo": {
     "elapsed": 337,
     "status": "ok",
     "timestamp": 1633498851664,
     "user": {
      "displayName": "Srivarshan 19BAI1078",
      "photoUrl": "https://lh3.googleusercontent.com/a/default-user=s64",
      "userId": "03718411517360748676"
     },
     "user_tz": -330
    },
    "id": "oocbjm49E5Sq",
    "outputId": "7e271d5d-cdc5-484b-e635-1715ba1f7a61"
   },
   "outputs": [
    {
     "name": "stdout",
     "output_type": "stream",
     "text": [
      "              precision    recall  f1-score   support\n",
      "\n",
      "           0       0.84      0.87      0.85       950\n",
      "           1       0.35      0.29      0.32       226\n",
      "\n",
      "    accuracy                           0.76      1176\n",
      "   macro avg       0.59      0.58      0.58      1176\n",
      "weighted avg       0.74      0.76      0.75      1176\n",
      "\n"
     ]
    }
   ],
   "source": [
    "mv_pred = []\n",
    "\n",
    "for i in range(len(lr_pred)):\n",
    "    one = 0\n",
    "    zero = 0\n",
    "    # Keeping only KNN, NB & DT in predictions due to poor performance\n",
    "    predictions = [nb_pred[i], knn_pred[i], dt_pred[i]]\n",
    "    for pred in predictions:\n",
    "        if pred == 1: one += 1\n",
    "        if pred == 0: zero +=1\n",
    "    if one > zero: mv_pred.append(1)\n",
    "    else: mv_pred.append(0)\n",
    "\n",
    "mv_pred = np.array(mv_pred)\n",
    "\n",
    "print(classification_report(y_val, mv_pred))    "
   ]
  },
  {
   "cell_type": "markdown",
   "metadata": {
    "id": "z-EIDfZKHrVj"
   },
   "source": [
    "## **Loading Testing Data**"
   ]
  },
  {
   "cell_type": "code",
   "execution_count": 33,
   "metadata": {
    "colab": {
     "base_uri": "https://localhost:8080/",
     "height": 206
    },
    "executionInfo": {
     "elapsed": 951,
     "status": "ok",
     "timestamp": 1633498888647,
     "user": {
      "displayName": "Srivarshan 19BAI1078",
      "photoUrl": "https://lh3.googleusercontent.com/a/default-user=s64",
      "userId": "03718411517360748676"
     },
     "user_tz": -330
    },
    "id": "8Bm4WHV2HmYo",
    "outputId": "17c2f429-a09b-418a-c459-93f8f4fd666c"
   },
   "outputs": [
    {
     "data": {
      "text/html": [
       "<div>\n",
       "<style scoped>\n",
       "    .dataframe tbody tr th:only-of-type {\n",
       "        vertical-align: middle;\n",
       "    }\n",
       "\n",
       "    .dataframe tbody tr th {\n",
       "        vertical-align: top;\n",
       "    }\n",
       "\n",
       "    .dataframe thead th {\n",
       "        text-align: right;\n",
       "    }\n",
       "</style>\n",
       "<table border=\"1\" class=\"dataframe\">\n",
       "  <thead>\n",
       "    <tr style=\"text-align: right;\">\n",
       "      <th></th>\n",
       "      <th>id</th>\n",
       "      <th>text</th>\n",
       "    </tr>\n",
       "  </thead>\n",
       "  <tbody>\n",
       "    <tr>\n",
       "      <th>0</th>\n",
       "      <td>tam_test_1</td>\n",
       "      <td>தலைவா STR இதுக்குதான் கதுருந்தோம் மாஸ் தலைவா t...</td>\n",
       "    </tr>\n",
       "    <tr>\n",
       "      <th>1</th>\n",
       "      <td>tam_test_2</td>\n",
       "      <td>நாயுடு மக்கள் சார்பாக திரைப்படம் வெற்றி பெற வா...</td>\n",
       "    </tr>\n",
       "    <tr>\n",
       "      <th>2</th>\n",
       "      <td>tam_test_3</td>\n",
       "      <td>தில்லானா முயற்சி  தஞ்சை கோனார்</td>\n",
       "    </tr>\n",
       "    <tr>\n",
       "      <th>3</th>\n",
       "      <td>tam_test_4</td>\n",
       "      <td>திரௌபதியின் துகிலுறித்த போது காத்த கண்ணனின் யா...</td>\n",
       "    </tr>\n",
       "    <tr>\n",
       "      <th>4</th>\n",
       "      <td>tam_test_5</td>\n",
       "      <td>நான் தியேட்டர்லே படம் பார்த்து 35 வருஷமாச்சு! ...</td>\n",
       "    </tr>\n",
       "  </tbody>\n",
       "</table>\n",
       "</div>"
      ],
      "text/plain": [
       "           id                                               text\n",
       "0  tam_test_1  தலைவா STR இதுக்குதான் கதுருந்தோம் மாஸ் தலைவா t...\n",
       "1  tam_test_2  நாயுடு மக்கள் சார்பாக திரைப்படம் வெற்றி பெற வா...\n",
       "2  tam_test_3                     தில்லானா முயற்சி  தஞ்சை கோனார்\n",
       "3  tam_test_4  திரௌபதியின் துகிலுறித்த போது காத்த கண்ணனின் யா...\n",
       "4  tam_test_5  நான் தியேட்டர்லே படம் பார்த்து 35 வருஷமாச்சு! ..."
      ]
     },
     "execution_count": 33,
     "metadata": {},
     "output_type": "execute_result"
    }
   ],
   "source": [
    "dataframe_test = pd.read_csv(\n",
    "    \"Dataset/tam_offesive_withoutlabels_test.tsv\", \n",
    "    sep='\\t'\n",
    ")\n",
    "dataframe_test.head()"
   ]
  },
  {
   "cell_type": "code",
   "execution_count": 34,
   "metadata": {
    "colab": {
     "base_uri": "https://localhost:8080/",
     "height": 175
    },
    "executionInfo": {
     "elapsed": 348,
     "status": "ok",
     "timestamp": 1633498895392,
     "user": {
      "displayName": "Srivarshan 19BAI1078",
      "photoUrl": "https://lh3.googleusercontent.com/a/default-user=s64",
      "userId": "03718411517360748676"
     },
     "user_tz": -330
    },
    "id": "laZqSRuNHvQz",
    "outputId": "e9a04878-3a07-4c04-f935-d521557566ac"
   },
   "outputs": [
    {
     "data": {
      "text/html": [
       "<div>\n",
       "<style scoped>\n",
       "    .dataframe tbody tr th:only-of-type {\n",
       "        vertical-align: middle;\n",
       "    }\n",
       "\n",
       "    .dataframe tbody tr th {\n",
       "        vertical-align: top;\n",
       "    }\n",
       "\n",
       "    .dataframe thead th {\n",
       "        text-align: right;\n",
       "    }\n",
       "</style>\n",
       "<table border=\"1\" class=\"dataframe\">\n",
       "  <thead>\n",
       "    <tr style=\"text-align: right;\">\n",
       "      <th></th>\n",
       "      <th>id</th>\n",
       "      <th>text</th>\n",
       "    </tr>\n",
       "  </thead>\n",
       "  <tbody>\n",
       "    <tr>\n",
       "      <th>count</th>\n",
       "      <td>654</td>\n",
       "      <td>654</td>\n",
       "    </tr>\n",
       "    <tr>\n",
       "      <th>unique</th>\n",
       "      <td>654</td>\n",
       "      <td>654</td>\n",
       "    </tr>\n",
       "    <tr>\n",
       "      <th>top</th>\n",
       "      <td>tam_test_325</td>\n",
       "      <td>௧டலூர் மாவட்டம் புவனகிரி வட்டம் தெற்க்குதிட்டை...</td>\n",
       "    </tr>\n",
       "    <tr>\n",
       "      <th>freq</th>\n",
       "      <td>1</td>\n",
       "      <td>1</td>\n",
       "    </tr>\n",
       "  </tbody>\n",
       "</table>\n",
       "</div>"
      ],
      "text/plain": [
       "                  id                                               text\n",
       "count            654                                                654\n",
       "unique           654                                                654\n",
       "top     tam_test_325  ௧டலூர் மாவட்டம் புவனகிரி வட்டம் தெற்க்குதிட்டை...\n",
       "freq               1                                                  1"
      ]
     },
     "execution_count": 34,
     "metadata": {},
     "output_type": "execute_result"
    }
   ],
   "source": [
    "dataframe_test.describe()"
   ]
  },
  {
   "cell_type": "code",
   "execution_count": 35,
   "metadata": {
    "executionInfo": {
     "elapsed": 367,
     "status": "ok",
     "timestamp": 1633499049705,
     "user": {
      "displayName": "Srivarshan 19BAI1078",
      "photoUrl": "https://lh3.googleusercontent.com/a/default-user=s64",
      "userId": "03718411517360748676"
     },
     "user_tz": -330
    },
    "id": "781biQVoHxCq"
   },
   "outputs": [],
   "source": [
    "text_test = dataframe_test['text']"
   ]
  },
  {
   "cell_type": "markdown",
   "metadata": {
    "id": "Ymi3Y32-IYH0"
   },
   "source": [
    "## **Test Data Preprocessing**"
   ]
  },
  {
   "cell_type": "code",
   "execution_count": 36,
   "metadata": {
    "executionInfo": {
     "elapsed": 353,
     "status": "ok",
     "timestamp": 1633499073317,
     "user": {
      "displayName": "Srivarshan 19BAI1078",
      "photoUrl": "https://lh3.googleusercontent.com/a/default-user=s64",
      "userId": "03718411517360748676"
     },
     "user_tz": -330
    },
    "id": "vpcPA6csIWu2"
   },
   "outputs": [],
   "source": [
    "text_test = text_test.str.replace(r\"[+/#@&*$%:]\",'')\n",
    "text_test = text_test.to_numpy()"
   ]
  },
  {
   "cell_type": "code",
   "execution_count": 37,
   "metadata": {
    "colab": {
     "base_uri": "https://localhost:8080/"
    },
    "executionInfo": {
     "elapsed": 4788,
     "status": "ok",
     "timestamp": 1633499085101,
     "user": {
      "displayName": "Srivarshan 19BAI1078",
      "photoUrl": "https://lh3.googleusercontent.com/a/default-user=s64",
      "userId": "03718411517360748676"
     },
     "user_tz": -330
    },
    "id": "hqNAhwfuIcgL",
    "outputId": "6de84ca3-6678-4932-9300-357c411f4548"
   },
   "outputs": [
    {
     "name": "stdout",
     "output_type": "stream",
     "text": [
      "rm: cannot remove 'input.txt': No such file or directory\n",
      "rm: cannot remove 'output.txt': No such file or directory\n"
     ]
    }
   ],
   "source": [
    "text_test = text_test.tolist()\n",
    "\n",
    "! rm input.txt\n",
    "! rm output.txt\n",
    "\n",
    "for i in text_test:\n",
    "    text_file = open(\"input.txt\", \"a\")\n",
    "    text_file.write(i + '\\n')\n",
    "    text_file.close()"
   ]
  },
  {
   "cell_type": "code",
   "execution_count": 38,
   "metadata": {
    "executionInfo": {
     "elapsed": 973,
     "status": "ok",
     "timestamp": 1633499092800,
     "user": {
      "displayName": "Srivarshan 19BAI1078",
      "photoUrl": "https://lh3.googleusercontent.com/a/default-user=s64",
      "userId": "03718411517360748676"
     },
     "user_tz": -330
    },
    "id": "vpCsoAX0IeTG"
   },
   "outputs": [],
   "source": [
    "! ./tamil-stemmer-build/snowball-with-tamil/stemwords -l ta -i input.txt -o output.txt"
   ]
  },
  {
   "cell_type": "code",
   "execution_count": 39,
   "metadata": {
    "executionInfo": {
     "elapsed": 341,
     "status": "ok",
     "timestamp": 1633499100732,
     "user": {
      "displayName": "Srivarshan 19BAI1078",
      "photoUrl": "https://lh3.googleusercontent.com/a/default-user=s64",
      "userId": "03718411517360748676"
     },
     "user_tz": -330
    },
    "id": "012bYE92IhF1"
   },
   "outputs": [],
   "source": [
    "text_file = open(\"output.txt\", \"r\")\n",
    "\n",
    "text_test = []\n",
    "\n",
    "for line in text_file:\n",
    "    text_test.append(line.strip())\n",
    "\n",
    "text_test = np.array(text_test)"
   ]
  },
  {
   "cell_type": "markdown",
   "metadata": {
    "id": "xA2vfLvcIkpU"
   },
   "source": [
    "## **Test Feature Extraction**"
   ]
  },
  {
   "cell_type": "code",
   "execution_count": 40,
   "metadata": {
    "colab": {
     "base_uri": "https://localhost:8080/"
    },
    "executionInfo": {
     "elapsed": 4584,
     "status": "ok",
     "timestamp": 1633499156305,
     "user": {
      "displayName": "Srivarshan 19BAI1078",
      "photoUrl": "https://lh3.googleusercontent.com/a/default-user=s64",
      "userId": "03718411517360748676"
     },
     "user_tz": -330
    },
    "id": "e9ZvZq5FIjMS",
    "outputId": "98a3e4b8-61fd-4f60-a4ee-1ae89edf1fd4"
   },
   "outputs": [
    {
     "name": "stderr",
     "output_type": "stream",
     "text": [
      "Some weights of the model checkpoint at ai4bharat/indic-bert were not used when initializing AlbertModel: ['predictions.decoder.bias', 'predictions.decoder.weight', 'predictions.bias', 'predictions.dense.weight', 'sop_classifier.classifier.weight', 'sop_classifier.classifier.bias', 'predictions.LayerNorm.weight', 'predictions.LayerNorm.bias', 'predictions.dense.bias']\n",
      "- This IS expected if you are initializing AlbertModel from the checkpoint of a model trained on another task or with another architecture (e.g. initializing a BertForSequenceClassification model from a BertForPreTraining model).\n",
      "- This IS NOT expected if you are initializing AlbertModel from the checkpoint of a model that you expect to be exactly identical (initializing a BertForSequenceClassification model from a BertForSequenceClassification model).\n"
     ]
    }
   ],
   "source": [
    "# Load Transformer Model\n",
    "\n",
    "tokenizer = AutoTokenizer.from_pretrained(\"ai4bharat/indic-bert\")\n",
    "model = AutoModel.from_pretrained(\"ai4bharat/indic-bert\")"
   ]
  },
  {
   "cell_type": "code",
   "execution_count": 41,
   "metadata": {
    "executionInfo": {
     "elapsed": 558,
     "status": "ok",
     "timestamp": 1633499176647,
     "user": {
      "displayName": "Srivarshan 19BAI1078",
      "photoUrl": "https://lh3.googleusercontent.com/a/default-user=s64",
      "userId": "03718411517360748676"
     },
     "user_tz": -330
    },
    "id": "9MeZTCfrIvuG"
   },
   "outputs": [],
   "source": [
    "# Sample Output\n",
    "\n",
    "tokenized_input = tokenizer(\n",
    "        text_test[0],\n",
    "        padding=True,\n",
    "        truncation=False,\n",
    "        return_tensors='pt'\n",
    "    )\n",
    "\n",
    "sample_output = model(**tokenized_input)"
   ]
  },
  {
   "cell_type": "code",
   "execution_count": 42,
   "metadata": {
    "colab": {
     "base_uri": "https://localhost:8080/"
    },
    "executionInfo": {
     "elapsed": 409,
     "status": "ok",
     "timestamp": 1633499194086,
     "user": {
      "displayName": "Srivarshan 19BAI1078",
      "photoUrl": "https://lh3.googleusercontent.com/a/default-user=s64",
      "userId": "03718411517360748676"
     },
     "user_tz": -330
    },
    "id": "3C_ZSq9iI1rS",
    "outputId": "9b2480f4-834a-4dfd-89d8-97871f8ad3f5"
   },
   "outputs": [
    {
     "name": "stdout",
     "output_type": "stream",
     "text": [
      "{'input_ids': tensor([[     2,  20264,   3048,  92072,  52721,   1385,   1385,  49940,   1657,\n",
      "          32885,  13143, 124420,   3941,  10885,  20264,   3048,  34875,  15528,\n",
      "              8,  41858,   6119,  14359,   3534,      3]]), 'token_type_ids': tensor([[0, 0, 0, 0, 0, 0, 0, 0, 0, 0, 0, 0, 0, 0, 0, 0, 0, 0, 0, 0, 0, 0, 0, 0]]), 'attention_mask': tensor([[1, 1, 1, 1, 1, 1, 1, 1, 1, 1, 1, 1, 1, 1, 1, 1, 1, 1, 1, 1, 1, 1, 1, 1]])}\n"
     ]
    }
   ],
   "source": [
    "print(tokenized_input)"
   ]
  },
  {
   "cell_type": "code",
   "execution_count": 43,
   "metadata": {
    "colab": {
     "base_uri": "https://localhost:8080/"
    },
    "executionInfo": {
     "elapsed": 369,
     "status": "ok",
     "timestamp": 1633499242954,
     "user": {
      "displayName": "Srivarshan 19BAI1078",
      "photoUrl": "https://lh3.googleusercontent.com/a/default-user=s64",
      "userId": "03718411517360748676"
     },
     "user_tz": -330
    },
    "id": "cgDXMGPYI5-T",
    "outputId": "ce8be9ce-bd92-4c54-c4bb-da7a615841c6"
   },
   "outputs": [
    {
     "name": "stdout",
     "output_type": "stream",
     "text": [
      "BaseModelOutputWithPooling(last_hidden_state=tensor([[[-0.0220, -0.0103, -0.0184,  ..., -0.0277, -0.0151, -0.0177],\n",
      "         [ 0.1349,  0.2533, -0.5680,  ..., -0.0561, -0.0241,  0.1819],\n",
      "         [ 0.3869,  0.3930, -0.0643,  ...,  0.1082,  0.0555,  0.2692],\n",
      "         ...,\n",
      "         [ 0.5151,  0.1412, -0.3426,  ..., -0.0786,  0.3912,  0.5449],\n",
      "         [ 0.6777, -0.0342,  0.0573,  ..., -0.0871,  0.1859,  0.0947],\n",
      "         [-0.0220, -0.0103, -0.0184,  ..., -0.0277, -0.0151, -0.0177]]],\n",
      "       grad_fn=<NativeLayerNormBackward>), pooler_output=tensor([[-5.1660e-02,  5.3390e-02,  1.7966e-02, -4.3926e-03,  4.7348e-02,\n",
      "          8.4199e-02,  3.7961e-02, -7.8548e-03, -1.4522e-02,  5.7318e-02,\n",
      "         -9.9887e-03,  4.9222e-02,  1.3639e-02, -2.0439e-02,  5.5387e-02,\n",
      "         -1.7512e-02, -4.5300e-02,  4.5599e-03, -1.1802e-01, -8.8100e-02,\n",
      "          8.2153e-02,  7.8851e-02, -3.3273e-02, -9.7838e-02,  9.7679e-04,\n",
      "         -3.3552e-02, -5.4551e-02, -7.7867e-03,  2.3278e-02,  1.1118e-02,\n",
      "          2.8429e-02,  7.0758e-04,  1.6892e-02,  3.6506e-02,  4.1275e-03,\n",
      "         -4.1311e-02, -2.1937e-02, -2.8469e-02,  1.1458e-01,  2.4928e-02,\n",
      "          2.8675e-02, -1.5533e-02, -1.1584e-01,  4.0260e-02, -7.2757e-02,\n",
      "         -3.1587e-02,  2.6556e-02, -7.2804e-02, -4.0641e-02,  4.9633e-03,\n",
      "         -4.4519e-02, -1.1591e-02,  1.7352e-02, -2.4043e-02, -1.9068e-02,\n",
      "          5.0068e-02, -1.5147e-02, -2.2438e-02,  5.2189e-02, -1.2043e-02,\n",
      "          4.2134e-03,  1.4462e-02,  6.4648e-02,  1.0106e-01,  3.1055e-02,\n",
      "         -2.5504e-02,  8.2857e-02,  1.0558e-01,  6.9282e-02,  2.7359e-02,\n",
      "          3.9326e-02, -1.5745e-02,  4.0006e-03,  1.5894e-01,  2.7233e-02,\n",
      "          2.9921e-02,  1.8072e-02,  1.3172e-02, -9.1176e-02,  5.8955e-02,\n",
      "          3.1588e-02, -4.2032e-02,  4.0912e-02,  1.8585e-02, -4.5368e-02,\n",
      "          2.9849e-02,  1.3212e-02,  5.4726e-02, -6.0645e-03, -2.0927e-02,\n",
      "          2.5798e-02, -1.0317e-01,  8.7721e-02,  9.2306e-02,  6.1550e-02,\n",
      "          1.7664e-02,  1.0189e-02, -1.1036e-02, -3.9075e-02,  4.7330e-02,\n",
      "         -5.6795e-02,  1.1838e-01, -6.8713e-02,  8.0861e-02,  6.0917e-02,\n",
      "         -4.1784e-02,  4.1700e-02, -4.6083e-02,  3.5527e-02,  5.5235e-02,\n",
      "         -2.0450e-02,  4.4272e-02,  2.7468e-02, -2.2991e-02, -7.0500e-02,\n",
      "          7.3836e-02, -1.2335e-01, -8.3908e-02, -6.7073e-02,  5.4160e-02,\n",
      "         -1.1061e-02,  6.3894e-02,  2.1948e-02, -7.0655e-02, -7.4621e-02,\n",
      "          5.5479e-02,  8.7832e-02,  9.4634e-02,  3.2182e-02, -9.9810e-03,\n",
      "         -5.0686e-02,  3.2541e-02, -1.6882e-02,  3.1606e-02,  8.7288e-02,\n",
      "         -5.5089e-02, -9.1171e-03,  2.0735e-03, -3.6434e-03,  7.5120e-03,\n",
      "         -3.8688e-02, -7.4653e-03, -7.3562e-02, -1.2260e-02, -1.0357e-02,\n",
      "         -5.3700e-03, -2.7169e-02, -4.4104e-02, -2.9797e-02,  5.0190e-02,\n",
      "          7.7899e-02,  1.1057e-02,  8.0785e-03, -9.2457e-03, -8.5153e-02,\n",
      "         -1.0523e-02,  3.9382e-02, -1.0149e-01,  4.9034e-02,  8.1012e-02,\n",
      "          3.3144e-02,  7.1427e-02, -5.4934e-02,  2.4852e-02,  3.9003e-02,\n",
      "         -6.2647e-02,  1.5289e-05, -9.5411e-02,  9.1693e-02, -8.1693e-02,\n",
      "          2.1426e-02,  2.1357e-02,  3.2515e-02, -4.2855e-02, -4.9937e-02,\n",
      "         -2.5057e-02,  1.7126e-02, -3.6861e-03, -6.1841e-02, -2.5692e-02,\n",
      "         -9.6952e-03,  5.1034e-02,  5.8564e-02,  3.6241e-02, -5.9608e-02,\n",
      "          1.3298e-02,  5.5899e-02, -6.8144e-02, -2.1988e-03, -8.1362e-02,\n",
      "         -7.2012e-02,  7.2543e-02,  4.4483e-02, -8.0533e-02,  1.4892e-02,\n",
      "         -9.4778e-03,  3.6954e-02,  1.8016e-02,  9.3733e-02, -6.1401e-02,\n",
      "         -2.9032e-02,  8.7696e-02, -2.7339e-02, -6.7233e-02, -5.1309e-02,\n",
      "         -1.6264e-02, -9.0862e-02,  5.1144e-02, -5.9321e-03,  3.8912e-02,\n",
      "          3.1766e-02, -9.9743e-03,  5.9755e-02,  3.9625e-02, -3.5496e-02,\n",
      "         -1.8304e-03, -7.3563e-02,  3.5332e-02,  4.1431e-02,  3.6993e-02,\n",
      "         -1.2672e-03, -9.2132e-02, -3.7097e-02, -4.7670e-02,  1.2541e-02,\n",
      "         -2.7617e-02, -8.4870e-02, -3.3716e-02,  8.9288e-03,  9.0605e-03,\n",
      "         -4.8892e-02, -1.4351e-01,  3.1796e-02, -2.3556e-02, -7.7024e-02,\n",
      "          8.6133e-03,  7.3516e-03,  2.6444e-02,  3.9950e-02, -5.4548e-03,\n",
      "          3.8110e-02,  7.0344e-03,  1.1294e-02, -1.9053e-02, -7.2579e-02,\n",
      "          6.7461e-02,  1.7831e-02, -9.6178e-02,  5.1273e-02,  8.8232e-03,\n",
      "          1.2857e-01,  3.1994e-02, -3.7232e-02,  3.8084e-02,  5.7083e-02,\n",
      "          7.2304e-02,  4.4791e-02,  3.6265e-02, -1.0948e-02, -4.8014e-02,\n",
      "          2.6642e-02,  1.3058e-02, -3.2361e-02, -3.0653e-03,  3.5850e-02,\n",
      "         -2.7377e-02, -1.0879e-02,  5.3656e-02,  3.5938e-02, -6.2630e-02,\n",
      "         -6.5994e-02,  7.6403e-02,  7.7193e-02,  4.9324e-02, -2.1839e-02,\n",
      "          8.0088e-02, -1.1229e-02,  5.5732e-02,  1.1527e-01,  6.0776e-02,\n",
      "          6.2160e-02, -6.4350e-02, -8.6494e-02, -6.1141e-02,  5.9861e-02,\n",
      "         -7.5537e-03,  6.1461e-02,  4.5209e-02, -6.1533e-02,  5.0056e-02,\n",
      "          7.8597e-02,  6.9621e-02, -6.5808e-02,  2.4329e-02, -1.1056e-02,\n",
      "         -4.3650e-02,  1.1111e-01,  9.6756e-02,  1.0492e-01, -1.6124e-02,\n",
      "          2.7274e-03,  1.2635e-02,  5.0472e-02, -3.8686e-03, -8.1338e-02,\n",
      "         -9.4684e-03, -3.6344e-02, -4.6162e-05, -4.2827e-02,  7.4779e-02,\n",
      "          1.1836e-02,  5.6829e-02,  9.8063e-02, -5.6287e-02,  1.6974e-02,\n",
      "          1.1953e-01, -7.1506e-02,  3.5169e-03,  8.2154e-04,  1.2014e-02,\n",
      "          5.5893e-02, -7.1441e-02, -7.0722e-02,  6.3147e-03, -7.8399e-03,\n",
      "          1.3367e-02,  3.3151e-02, -7.1108e-03, -3.3182e-02, -8.5942e-02,\n",
      "          5.5816e-02, -2.2512e-03, -6.7497e-02, -2.3000e-02, -1.8339e-02,\n",
      "          1.6717e-02,  1.4412e-02,  5.3359e-02,  4.0461e-02, -1.4743e-02,\n",
      "         -7.4905e-02, -4.8673e-02, -4.3212e-02, -2.5264e-02,  2.7355e-02,\n",
      "          5.3416e-02,  9.3156e-03,  1.5127e-02, -5.3049e-02, -5.8775e-02,\n",
      "         -1.0026e-01,  5.0474e-02, -5.1255e-02,  7.3597e-02, -4.3982e-02,\n",
      "          3.5040e-02, -2.5906e-02, -9.9529e-02, -1.7855e-02, -3.9619e-02,\n",
      "          2.1135e-02, -1.0670e-02, -4.3420e-02,  2.3520e-02,  4.7125e-02,\n",
      "         -6.4036e-02, -3.0190e-02,  9.8529e-02,  1.3774e-02,  4.9916e-02,\n",
      "          7.2066e-02,  5.7122e-03,  4.8191e-02, -1.3816e-01,  3.3069e-02,\n",
      "          1.5910e-03,  2.0716e-02, -4.2821e-02,  4.8454e-02,  2.8025e-02,\n",
      "          6.9166e-02, -5.8797e-03,  2.7365e-02, -3.5756e-02, -1.0055e-02,\n",
      "         -2.8007e-02,  4.3497e-02, -3.8910e-03,  2.5617e-02,  6.5743e-02,\n",
      "         -8.2737e-03,  1.4270e-02, -6.3021e-02, -3.8788e-03,  1.5540e-02,\n",
      "          3.5947e-02,  9.0649e-02, -3.6191e-02, -2.9553e-03,  2.4233e-04,\n",
      "          1.1036e-02,  2.9506e-02, -1.1803e-02,  3.7006e-02, -3.1309e-02,\n",
      "         -1.4994e-01,  4.5537e-02,  8.6899e-02, -4.7083e-02, -5.2794e-02,\n",
      "         -5.1991e-02, -1.4558e-02,  4.1060e-02,  9.4207e-02, -2.2064e-02,\n",
      "          8.6187e-02,  2.1761e-02,  8.6264e-02, -1.4353e-02,  3.8257e-03,\n",
      "          6.2237e-02,  5.3931e-02,  3.6297e-02, -2.0597e-02,  7.5540e-02,\n",
      "          7.2775e-02,  9.1807e-03,  5.2596e-02,  1.8728e-04,  5.7488e-02,\n",
      "         -1.5891e-02,  5.5753e-02,  7.5032e-02,  7.9090e-02, -2.1063e-02,\n",
      "          2.2121e-02, -6.6066e-03, -1.0494e-03,  5.9567e-02,  1.1117e-01,\n",
      "         -8.0090e-02,  1.4657e-02,  4.3718e-02, -4.3587e-02, -7.0245e-02,\n",
      "         -2.4951e-02,  1.0634e-02, -4.4142e-03, -2.6372e-02, -8.1260e-02,\n",
      "         -1.0106e-01, -1.6591e-02,  8.8009e-02, -5.4839e-02,  8.4299e-03,\n",
      "         -4.6708e-02, -1.3769e-01, -1.5392e-02, -8.5109e-03, -4.4319e-02,\n",
      "         -4.0602e-02,  1.9984e-02, -1.2917e-02,  1.2475e-02, -5.0206e-05,\n",
      "          6.6091e-02,  7.9841e-03,  6.5381e-02, -2.8804e-02,  8.2165e-02,\n",
      "         -1.3575e-01, -3.2161e-02,  3.8985e-02,  2.5469e-02, -1.8192e-02,\n",
      "          3.8895e-03,  2.8006e-02,  2.8114e-03, -2.3936e-02,  2.7560e-02,\n",
      "          3.8512e-02, -1.0822e-02, -6.9171e-02,  4.4752e-02, -4.2239e-02,\n",
      "         -1.0417e-02,  5.1389e-02, -3.1853e-03, -1.9936e-02, -6.7649e-02,\n",
      "         -7.7359e-03, -4.0384e-02,  9.3454e-02, -4.0225e-02,  1.0701e-01,\n",
      "         -5.7599e-03,  6.2165e-02, -7.1190e-02,  3.4450e-02, -1.0039e-01,\n",
      "         -1.3571e-03, -3.7247e-02, -6.0671e-02,  5.1042e-02,  4.3723e-03,\n",
      "         -1.9836e-02, -5.1057e-02,  7.9670e-02, -6.9957e-02,  1.6309e-02,\n",
      "          7.0087e-02, -7.9022e-03, -3.6849e-02, -7.2478e-02,  4.9069e-02,\n",
      "         -6.5355e-02, -6.8928e-03, -5.0195e-02,  4.1455e-02,  2.8262e-02,\n",
      "          2.3364e-02, -2.8392e-02,  3.4220e-02,  2.1456e-02, -1.9591e-02,\n",
      "          1.0391e-02, -1.3285e-01, -4.0864e-02, -2.3772e-02, -6.0456e-02,\n",
      "         -1.6370e-03,  2.9021e-02,  1.6675e-02, -2.6914e-02, -4.1694e-02,\n",
      "         -9.7614e-02, -3.1388e-02, -6.7282e-03, -3.4905e-02,  4.7709e-02,\n",
      "          2.3195e-02,  4.6269e-02,  2.4678e-02,  1.1854e-02, -1.4753e-02,\n",
      "         -4.0497e-02, -6.5871e-02,  6.2931e-02, -1.3328e-02,  1.6807e-02,\n",
      "         -4.9339e-02,  4.7050e-02, -1.0245e-03, -4.5211e-02,  1.0326e-01,\n",
      "         -3.0647e-02, -1.4486e-02, -4.1604e-02, -6.5673e-02,  3.9931e-02,\n",
      "         -2.6658e-02, -7.3556e-02,  8.6500e-02, -7.8881e-03,  1.7738e-02,\n",
      "          6.2112e-03,  7.3841e-03,  2.0371e-02, -4.4078e-02, -4.8228e-02,\n",
      "         -4.7645e-02,  8.9209e-03,  5.3926e-02, -2.6132e-02,  3.8052e-02,\n",
      "         -1.9740e-02, -7.1297e-02,  7.6714e-02,  9.9594e-03,  5.5301e-02,\n",
      "          3.7074e-02, -9.9370e-02,  2.2920e-03, -2.8371e-02,  1.0588e-01,\n",
      "          9.0162e-03, -2.6136e-02,  4.3673e-02,  1.5538e-02, -2.1404e-02,\n",
      "         -7.8390e-02,  6.8054e-02,  2.7186e-02, -4.6716e-02,  2.5132e-02,\n",
      "          7.9595e-02, -2.0763e-03,  8.0867e-02, -4.2470e-03, -4.2890e-02,\n",
      "          5.3798e-02,  1.4358e-02,  1.0813e-02, -8.4154e-03, -1.8006e-02,\n",
      "          3.4993e-02, -1.4270e-02,  2.4514e-02,  7.5295e-02, -2.1889e-02,\n",
      "          1.5212e-02, -8.3897e-02,  6.6352e-02,  1.3290e-02, -2.8669e-02,\n",
      "          8.7940e-04, -6.2195e-02, -5.3476e-02, -6.8447e-02,  6.4980e-02,\n",
      "         -1.1108e-02, -2.2593e-02, -4.0897e-02, -3.1207e-02, -4.7220e-02,\n",
      "         -1.7530e-03,  4.0494e-02,  4.2742e-02, -7.3362e-02,  2.3788e-02,\n",
      "         -1.5516e-03, -5.8891e-02,  1.4743e-02, -2.8829e-02, -1.0851e-01,\n",
      "         -1.0858e-02, -2.8223e-02,  1.7573e-03,  3.7058e-03, -7.4624e-02,\n",
      "          6.2140e-03, -2.1019e-02, -5.7698e-02, -1.0896e-01, -8.7552e-02,\n",
      "          1.3286e-02,  2.3327e-02,  1.3110e-01, -1.0291e-02,  8.6201e-02,\n",
      "         -1.8268e-02,  8.6640e-02,  3.6215e-02, -2.9111e-02,  4.7571e-02,\n",
      "         -9.8188e-02,  1.8419e-02,  2.8371e-03, -3.8679e-02, -9.9487e-02,\n",
      "         -8.6133e-02,  3.8951e-02, -8.7612e-03,  4.7709e-02,  9.0265e-02,\n",
      "         -1.1169e-01,  4.6698e-02,  5.5105e-02, -3.1042e-02,  3.7854e-02,\n",
      "          5.1832e-02, -6.3958e-02,  5.3207e-02,  4.0439e-02, -3.0291e-02,\n",
      "         -3.7121e-02, -8.6322e-02, -7.1838e-02, -6.0839e-03, -5.1101e-02,\n",
      "         -2.3338e-02, -6.9395e-02,  8.3598e-02, -5.4285e-02, -4.1580e-02,\n",
      "         -8.7103e-02, -3.9148e-02, -1.9106e-02,  2.7882e-02,  3.2759e-02,\n",
      "         -2.3481e-02,  6.8970e-03,  2.4854e-03,  1.0237e-01,  7.5673e-02,\n",
      "         -5.1989e-03, -1.2918e-02, -5.4629e-02,  5.1908e-02,  4.0070e-02,\n",
      "          7.3151e-02, -1.3274e-02,  1.5465e-02,  1.2026e-01, -4.3321e-02,\n",
      "          4.1335e-02,  1.2730e-02, -7.4064e-03, -4.1000e-02, -3.6051e-02,\n",
      "         -6.1258e-02, -1.0174e-01,  4.0471e-03, -7.4918e-03, -6.0993e-02,\n",
      "         -8.6048e-04, -8.9386e-02,  4.3213e-02,  7.3312e-02, -3.4547e-02,\n",
      "         -4.5930e-02,  6.9393e-02,  3.0343e-02,  4.5518e-02, -1.4099e-02,\n",
      "          2.2053e-02,  3.4094e-02,  1.0453e-02,  2.2153e-02, -7.4199e-02,\n",
      "         -7.9521e-02,  2.6514e-02,  3.4048e-02, -8.8837e-03,  4.3880e-02,\n",
      "          5.2382e-02, -1.6897e-02,  4.4988e-02, -3.7341e-02,  5.8230e-02,\n",
      "          2.8520e-02,  6.0760e-02,  3.6359e-02,  1.0210e-02, -4.8871e-02,\n",
      "          6.0537e-03, -2.3211e-02,  8.1463e-02,  5.8194e-02,  1.1452e-02,\n",
      "         -3.5480e-02, -5.6555e-02, -8.3593e-02, -4.5515e-02,  7.5272e-02,\n",
      "          4.2085e-03,  2.8593e-03, -9.3613e-03,  6.7480e-02, -2.2942e-02,\n",
      "          5.7447e-02,  1.3812e-01, -5.6240e-02, -5.8948e-02, -6.0386e-02,\n",
      "         -2.7285e-02,  2.5874e-02,  1.5327e-02]], grad_fn=<TanhBackward>), hidden_states=None, attentions=None)\n"
     ]
    }
   ],
   "source": [
    "print(sample_output)"
   ]
  },
  {
   "cell_type": "code",
   "execution_count": 44,
   "metadata": {
    "colab": {
     "base_uri": "https://localhost:8080/"
    },
    "executionInfo": {
     "elapsed": 349,
     "status": "ok",
     "timestamp": 1633499249511,
     "user": {
      "displayName": "Srivarshan 19BAI1078",
      "photoUrl": "https://lh3.googleusercontent.com/a/default-user=s64",
      "userId": "03718411517360748676"
     },
     "user_tz": -330
    },
    "id": "hmz0ugkzJF4a",
    "outputId": "2b3147eb-e5a1-4b3a-f3e8-9ec05da4cd04"
   },
   "outputs": [
    {
     "name": "stdout",
     "output_type": "stream",
     "text": [
      "(1, 768)\n"
     ]
    }
   ],
   "source": [
    "print(sample_output.pooler_output.cpu().detach().numpy().shape)"
   ]
  },
  {
   "cell_type": "code",
   "execution_count": 45,
   "metadata": {
    "executionInfo": {
     "elapsed": 341,
     "status": "ok",
     "timestamp": 1633499269811,
     "user": {
      "displayName": "Srivarshan 19BAI1078",
      "photoUrl": "https://lh3.googleusercontent.com/a/default-user=s64",
      "userId": "03718411517360748676"
     },
     "user_tz": -330
    },
    "id": "uu5rNQCnJHhW"
   },
   "outputs": [],
   "source": [
    "# Tokenizing Test Input Data\n",
    "\n",
    "input = []\n",
    "\n",
    "for i in text_test:\n",
    "    tokenized_input = tokenizer(\n",
    "        i,\n",
    "        padding=True,\n",
    "        truncation=False,\n",
    "        return_tensors='pt'\n",
    "    )\n",
    "    input.append(tokenized_input)"
   ]
  },
  {
   "cell_type": "code",
   "execution_count": 46,
   "metadata": {
    "colab": {
     "base_uri": "https://localhost:8080/"
    },
    "executionInfo": {
     "elapsed": 117205,
     "status": "ok",
     "timestamp": 1633499754162,
     "user": {
      "displayName": "Srivarshan 19BAI1078",
      "photoUrl": "https://lh3.googleusercontent.com/a/default-user=s64",
      "userId": "03718411517360748676"
     },
     "user_tz": -330
    },
    "id": "4uGocE2BJMcp",
    "outputId": "c6e6f9b0-452d-4666-d661-f1bf3f4e1403"
   },
   "outputs": [
    {
     "name": "stdout",
     "output_type": "stream",
     "text": [
      "./IndicBert-Embedded-TestData/output1.pickle done\n",
      "./IndicBert-Embedded-TestData/output2.pickle done\n",
      "./IndicBert-Embedded-TestData/output3.pickle done\n",
      "./IndicBert-Embedded-TestData/output4.pickle done\n"
     ]
    }
   ],
   "source": [
    "# Embedding the Test Input Data\n",
    "\n",
    "output = []\n",
    "\n",
    "j = 1\n",
    "\n",
    "for i in range(len(input)):\n",
    "    \n",
    "    model_output = model(**input[i])\n",
    "    model_output = model_output.pooler_output.cpu().detach().numpy()\n",
    "    output.append(model_output)\n",
    "    \n",
    "    # Saving Embedded Test Input Data to Disk\n",
    "\n",
    "    if ((i + 1) % 200) == 0:\n",
    "        \n",
    "        file_name = \"./IndicBert-Embedded-TestData/output\" + str(j) + \".pickle\"\n",
    "        \n",
    "        with open(file_name, \"wb\") as fp:   \n",
    "            # Pickling\n",
    "            pickle.dump(output, fp)\n",
    "        \n",
    "        print(file_name + \" done\")\n",
    "        output = []\n",
    "        j += 1\n",
    "        \n",
    "file_name = \"./IndicBert-Embedded-TestData/output\" + str(j) + \".pickle\"\n",
    "\n",
    "with open(file_name, \"wb\") as fp:   \n",
    "    # Pickling\n",
    "    pickle.dump(output, fp)\n",
    "\n",
    "print(file_name + \" done\")\n",
    "output = []"
   ]
  },
  {
   "cell_type": "code",
   "execution_count": 47,
   "metadata": {
    "colab": {
     "base_uri": "https://localhost:8080/"
    },
    "executionInfo": {
     "elapsed": 360,
     "status": "ok",
     "timestamp": 1633500271880,
     "user": {
      "displayName": "Srivarshan 19BAI1078",
      "photoUrl": "https://lh3.googleusercontent.com/a/default-user=s64",
      "userId": "03718411517360748676"
     },
     "user_tz": -330
    },
    "id": "autP-jUzKmLm",
    "outputId": "cc3bb3b9-66cd-43d6-adcf-448fdee493f2"
   },
   "outputs": [
    {
     "name": "stdout",
     "output_type": "stream",
     "text": [
      "./IndicBert-Embedded-TestData/output1.pickle done\n",
      "./IndicBert-Embedded-TestData/output2.pickle done\n",
      "./IndicBert-Embedded-TestData/output3.pickle done\n",
      "./IndicBert-Embedded-TestData/output4.pickle done\n"
     ]
    }
   ],
   "source": [
    "# Loading Embedded Input Test Data from Disk\n",
    "\n",
    "output = []\n",
    "\n",
    "for i in range(4):\n",
    "    file_name = \"./IndicBert-Embedded-TestData/output\" + str(i + 1) + \".pickle\"\n",
    "    with open(file_name, \"rb\") as fp:   #Pickling\n",
    "        file_output = pickle.load(fp)\n",
    "        for x in file_output:\n",
    "            output.append(x)\n",
    "    print(file_name + \" done\")\n",
    "\n",
    "X_test = output\n",
    "output = []"
   ]
  },
  {
   "cell_type": "code",
   "execution_count": 48,
   "metadata": {
    "colab": {
     "base_uri": "https://localhost:8080/"
    },
    "executionInfo": {
     "elapsed": 346,
     "status": "ok",
     "timestamp": 1633500286876,
     "user": {
      "displayName": "Srivarshan 19BAI1078",
      "photoUrl": "https://lh3.googleusercontent.com/a/default-user=s64",
      "userId": "03718411517360748676"
     },
     "user_tz": -330
    },
    "id": "iCTb8MZrNBHJ",
    "outputId": "b5259450-0084-41be-8410-2d97675f2578"
   },
   "outputs": [
    {
     "data": {
      "text/plain": [
       "(654, 1, 768)"
      ]
     },
     "execution_count": 48,
     "metadata": {},
     "output_type": "execute_result"
    }
   ],
   "source": [
    "X_test = np.array(X_test)\n",
    "X_test.shape"
   ]
  },
  {
   "cell_type": "code",
   "execution_count": 49,
   "metadata": {
    "colab": {
     "base_uri": "https://localhost:8080/"
    },
    "executionInfo": {
     "elapsed": 337,
     "status": "ok",
     "timestamp": 1633500310077,
     "user": {
      "displayName": "Srivarshan 19BAI1078",
      "photoUrl": "https://lh3.googleusercontent.com/a/default-user=s64",
      "userId": "03718411517360748676"
     },
     "user_tz": -330
    },
    "id": "ElFbLnhCNEw_",
    "outputId": "bc27bc8e-3c60-41a7-cfd2-b0c107b27c63"
   },
   "outputs": [
    {
     "data": {
      "text/plain": [
       "(654, 768)"
      ]
     },
     "execution_count": 49,
     "metadata": {},
     "output_type": "execute_result"
    }
   ],
   "source": [
    "X_test = X_test.reshape(654, 768)\n",
    "X_test.shape"
   ]
  },
  {
   "cell_type": "markdown",
   "metadata": {
    "id": "wNDrYlgMNMCG"
   },
   "source": [
    "## **Getting Predictions**"
   ]
  },
  {
   "cell_type": "code",
   "execution_count": 50,
   "metadata": {
    "executionInfo": {
     "elapsed": 5480,
     "status": "ok",
     "timestamp": 1633500343287,
     "user": {
      "displayName": "Srivarshan 19BAI1078",
      "photoUrl": "https://lh3.googleusercontent.com/a/default-user=s64",
      "userId": "03718411517360748676"
     },
     "user_tz": -330
    },
    "id": "SGEem_mrNKcK"
   },
   "outputs": [],
   "source": [
    "# Logistic Regression\n",
    "lr_test_pred = lr.predict(X_test)\n",
    "\n",
    "# Support Vector Machine\n",
    "svm_test_pred = svm.predict(X_test)\n",
    "\n",
    "# Naive Bayes\n",
    "nb_test_pred = nb.predict(X_test)\n",
    "\n",
    "# Stochastic Gradient Descent\n",
    "sgd_test_pred = sgd.predict(X_test)\n",
    "\n",
    "# K Nearest Neighbours\n",
    "knn_test_pred = knn.predict(X_test)\n",
    "\n",
    "# Decision Tree\n",
    "dt_test_pred = dt.predict(X_test)\n",
    "\n",
    "# Random Forest\n",
    "rf_test_pred = rf.predict(X_test)"
   ]
  },
  {
   "cell_type": "code",
   "execution_count": 51,
   "metadata": {
    "executionInfo": {
     "elapsed": 1451,
     "status": "ok",
     "timestamp": 1633500393720,
     "user": {
      "displayName": "Srivarshan 19BAI1078",
      "photoUrl": "https://lh3.googleusercontent.com/a/default-user=s64",
      "userId": "03718411517360748676"
     },
     "user_tz": -330
    },
    "id": "25FeqaRANRS4"
   },
   "outputs": [],
   "source": [
    "# Majority Voting\n",
    "mv_test_pred = []\n",
    "\n",
    "for i in range(len(lr_test_pred)):\n",
    "    one = 0\n",
    "    zero = 0\n",
    "    predictions = [nb_test_pred[i], knn_test_pred[i], dt_test_pred[i]]\n",
    "    for pred in predictions:\n",
    "        if pred == 1: one += 1\n",
    "        if pred == 0: zero +=1\n",
    "    if one > zero: mv_test_pred.append(1)\n",
    "    else: mv_test_pred.append(0)\n",
    "\n",
    "mv_test_pred = np.array(mv_test_pred)"
   ]
  },
  {
   "cell_type": "markdown",
   "metadata": {
    "id": "LDn6XGBxNgiQ"
   },
   "source": [
    "## **Evaluating the Predictions**"
   ]
  },
  {
   "cell_type": "code",
   "execution_count": 52,
   "metadata": {
    "executionInfo": {
     "elapsed": 1129,
     "status": "ok",
     "timestamp": 1633500419278,
     "user": {
      "displayName": "Srivarshan 19BAI1078",
      "photoUrl": "https://lh3.googleusercontent.com/a/default-user=s64",
      "userId": "03718411517360748676"
     },
     "user_tz": -330
    },
    "id": "E6Z9uog3Nele"
   },
   "outputs": [],
   "source": [
    "dataframe_eval = pd.read_csv(\n",
    "    \"Dataset/tamil_offensive_test task 1 with labels.tsv\", \n",
    "    sep='\\t'\n",
    ")"
   ]
  },
  {
   "cell_type": "code",
   "execution_count": 53,
   "metadata": {
    "executionInfo": {
     "elapsed": 1270,
     "status": "ok",
     "timestamp": 1633500428165,
     "user": {
      "displayName": "Srivarshan 19BAI1078",
      "photoUrl": "https://lh3.googleusercontent.com/a/default-user=s64",
      "userId": "03718411517360748676"
     },
     "user_tz": -330
    },
    "id": "QQKEuIXSNk65"
   },
   "outputs": [],
   "source": [
    "y_test = dataframe_eval['category']\n",
    "y_test = LabelEncoder().fit_transform(y_test)"
   ]
  },
  {
   "cell_type": "code",
   "execution_count": 54,
   "metadata": {
    "colab": {
     "base_uri": "https://localhost:8080/"
    },
    "executionInfo": {
     "elapsed": 533,
     "status": "ok",
     "timestamp": 1633500437115,
     "user": {
      "displayName": "Srivarshan 19BAI1078",
      "photoUrl": "https://lh3.googleusercontent.com/a/default-user=s64",
      "userId": "03718411517360748676"
     },
     "user_tz": -330
    },
    "id": "Q80-1PAMNmn9",
    "outputId": "4784f9e8-9ce7-4396-8a23-46e66b1a038e"
   },
   "outputs": [
    {
     "name": "stdout",
     "output_type": "stream",
     "text": [
      "Logistic Regression\n",
      "              precision    recall  f1-score   support\n",
      "\n",
      "           0       0.82      1.00      0.90       536\n",
      "           1       0.00      0.00      0.00       118\n",
      "\n",
      "    accuracy                           0.82       654\n",
      "   macro avg       0.41      0.50      0.45       654\n",
      "weighted avg       0.67      0.82      0.74       654\n",
      "\n"
     ]
    },
    {
     "name": "stderr",
     "output_type": "stream",
     "text": [
      "/usr/local/lib/python3.7/dist-packages/sklearn/metrics/_classification.py:1272: UndefinedMetricWarning: Precision and F-score are ill-defined and being set to 0.0 in labels with no predicted samples. Use `zero_division` parameter to control this behavior.\n",
      "  _warn_prf(average, modifier, msg_start, len(result))\n"
     ]
    }
   ],
   "source": [
    "print('Logistic Regression')\n",
    "print(classification_report(y_test, lr_test_pred))"
   ]
  },
  {
   "cell_type": "code",
   "execution_count": 55,
   "metadata": {
    "colab": {
     "base_uri": "https://localhost:8080/"
    },
    "executionInfo": {
     "elapsed": 317,
     "status": "ok",
     "timestamp": 1633500447175,
     "user": {
      "displayName": "Srivarshan 19BAI1078",
      "photoUrl": "https://lh3.googleusercontent.com/a/default-user=s64",
      "userId": "03718411517360748676"
     },
     "user_tz": -330
    },
    "id": "evQC4UmHNpRy",
    "outputId": "da508e35-d39c-400c-bd84-9fb0d6cc267b"
   },
   "outputs": [
    {
     "name": "stdout",
     "output_type": "stream",
     "text": [
      "Support Vector Machine\n",
      "              precision    recall  f1-score   support\n",
      "\n",
      "           0       0.82      1.00      0.90       536\n",
      "           1       0.00      0.00      0.00       118\n",
      "\n",
      "    accuracy                           0.82       654\n",
      "   macro avg       0.41      0.50      0.45       654\n",
      "weighted avg       0.67      0.82      0.74       654\n",
      "\n"
     ]
    },
    {
     "name": "stderr",
     "output_type": "stream",
     "text": [
      "/usr/local/lib/python3.7/dist-packages/sklearn/metrics/_classification.py:1272: UndefinedMetricWarning: Precision and F-score are ill-defined and being set to 0.0 in labels with no predicted samples. Use `zero_division` parameter to control this behavior.\n",
      "  _warn_prf(average, modifier, msg_start, len(result))\n"
     ]
    }
   ],
   "source": [
    "print('Support Vector Machine')\n",
    "print(classification_report(y_test, svm_test_pred))"
   ]
  },
  {
   "cell_type": "code",
   "execution_count": 56,
   "metadata": {
    "colab": {
     "base_uri": "https://localhost:8080/"
    },
    "executionInfo": {
     "elapsed": 542,
     "status": "ok",
     "timestamp": 1633500455218,
     "user": {
      "displayName": "Srivarshan 19BAI1078",
      "photoUrl": "https://lh3.googleusercontent.com/a/default-user=s64",
      "userId": "03718411517360748676"
     },
     "user_tz": -330
    },
    "id": "gdpoHKmFNruS",
    "outputId": "530ea991-32b3-4f19-b51c-f312a6ba858e"
   },
   "outputs": [
    {
     "name": "stdout",
     "output_type": "stream",
     "text": [
      "Naive Bayes\n",
      "              precision    recall  f1-score   support\n",
      "\n",
      "           0       0.90      0.71      0.80       536\n",
      "           1       0.33      0.66      0.44       118\n",
      "\n",
      "    accuracy                           0.70       654\n",
      "   macro avg       0.62      0.69      0.62       654\n",
      "weighted avg       0.80      0.70      0.73       654\n",
      "\n"
     ]
    }
   ],
   "source": [
    "print('Naive Bayes')\n",
    "print(classification_report(y_test, nb_test_pred))"
   ]
  },
  {
   "cell_type": "code",
   "execution_count": 57,
   "metadata": {
    "colab": {
     "base_uri": "https://localhost:8080/"
    },
    "executionInfo": {
     "elapsed": 294,
     "status": "ok",
     "timestamp": 1633500464348,
     "user": {
      "displayName": "Srivarshan 19BAI1078",
      "photoUrl": "https://lh3.googleusercontent.com/a/default-user=s64",
      "userId": "03718411517360748676"
     },
     "user_tz": -330
    },
    "id": "9hVax89INtsD",
    "outputId": "bd280539-2f16-449c-8264-1899a61b6f0f"
   },
   "outputs": [
    {
     "name": "stdout",
     "output_type": "stream",
     "text": [
      "Stochastic Gradient Descent\n",
      "              precision    recall  f1-score   support\n",
      "\n",
      "           0       0.82      1.00      0.90       536\n",
      "           1       0.00      0.00      0.00       118\n",
      "\n",
      "    accuracy                           0.82       654\n",
      "   macro avg       0.41      0.50      0.45       654\n",
      "weighted avg       0.67      0.82      0.74       654\n",
      "\n"
     ]
    },
    {
     "name": "stderr",
     "output_type": "stream",
     "text": [
      "/usr/local/lib/python3.7/dist-packages/sklearn/metrics/_classification.py:1272: UndefinedMetricWarning: Precision and F-score are ill-defined and being set to 0.0 in labels with no predicted samples. Use `zero_division` parameter to control this behavior.\n",
      "  _warn_prf(average, modifier, msg_start, len(result))\n"
     ]
    }
   ],
   "source": [
    "print('Stochastic Gradient Descent')\n",
    "print(classification_report(y_test, sgd_test_pred))"
   ]
  },
  {
   "cell_type": "code",
   "execution_count": 58,
   "metadata": {
    "colab": {
     "base_uri": "https://localhost:8080/"
    },
    "executionInfo": {
     "elapsed": 296,
     "status": "ok",
     "timestamp": 1633500471822,
     "user": {
      "displayName": "Srivarshan 19BAI1078",
      "photoUrl": "https://lh3.googleusercontent.com/a/default-user=s64",
      "userId": "03718411517360748676"
     },
     "user_tz": -330
    },
    "id": "NcwoRB_bNwH9",
    "outputId": "fec2fe8e-14b9-44be-de33-a98989e1c285"
   },
   "outputs": [
    {
     "name": "stdout",
     "output_type": "stream",
     "text": [
      "K Nearest Neighbours\n",
      "              precision    recall  f1-score   support\n",
      "\n",
      "           0       0.84      0.94      0.89       536\n",
      "           1       0.45      0.21      0.29       118\n",
      "\n",
      "    accuracy                           0.81       654\n",
      "   macro avg       0.65      0.58      0.59       654\n",
      "weighted avg       0.77      0.81      0.78       654\n",
      "\n"
     ]
    }
   ],
   "source": [
    "print('K Nearest Neighbours')\n",
    "print(classification_report(y_test, knn_test_pred))"
   ]
  },
  {
   "cell_type": "code",
   "execution_count": 59,
   "metadata": {
    "colab": {
     "base_uri": "https://localhost:8080/"
    },
    "executionInfo": {
     "elapsed": 339,
     "status": "ok",
     "timestamp": 1633500479116,
     "user": {
      "displayName": "Srivarshan 19BAI1078",
      "photoUrl": "https://lh3.googleusercontent.com/a/default-user=s64",
      "userId": "03718411517360748676"
     },
     "user_tz": -330
    },
    "id": "mTFbtvuPNx9C",
    "outputId": "0267f0e5-e777-40d6-83e8-cf1097452020"
   },
   "outputs": [
    {
     "name": "stdout",
     "output_type": "stream",
     "text": [
      "Decision Tree\n",
      "              precision    recall  f1-score   support\n",
      "\n",
      "           0       0.85      0.83      0.84       536\n",
      "           1       0.30      0.34      0.32       118\n",
      "\n",
      "    accuracy                           0.74       654\n",
      "   macro avg       0.58      0.58      0.58       654\n",
      "weighted avg       0.75      0.74      0.75       654\n",
      "\n"
     ]
    }
   ],
   "source": [
    "print('Decision Tree')\n",
    "print(classification_report(y_test, dt_test_pred))"
   ]
  },
  {
   "cell_type": "code",
   "execution_count": 60,
   "metadata": {
    "colab": {
     "base_uri": "https://localhost:8080/"
    },
    "executionInfo": {
     "elapsed": 389,
     "status": "ok",
     "timestamp": 1633500488202,
     "user": {
      "displayName": "Srivarshan 19BAI1078",
      "photoUrl": "https://lh3.googleusercontent.com/a/default-user=s64",
      "userId": "03718411517360748676"
     },
     "user_tz": -330
    },
    "id": "0TfnO-ZINztQ",
    "outputId": "2ccb33a6-7280-48dc-f056-352ac5486d88"
   },
   "outputs": [
    {
     "name": "stdout",
     "output_type": "stream",
     "text": [
      "Random Forest\n",
      "              precision    recall  f1-score   support\n",
      "\n",
      "           0       0.83      0.99      0.91       536\n",
      "           1       0.68      0.11      0.19       118\n",
      "\n",
      "    accuracy                           0.83       654\n",
      "   macro avg       0.76      0.55      0.55       654\n",
      "weighted avg       0.81      0.83      0.78       654\n",
      "\n"
     ]
    }
   ],
   "source": [
    "print('Random Forest')\n",
    "print(classification_report(y_test, rf_test_pred))"
   ]
  },
  {
   "cell_type": "code",
   "execution_count": 61,
   "metadata": {
    "colab": {
     "base_uri": "https://localhost:8080/"
    },
    "executionInfo": {
     "elapsed": 321,
     "status": "ok",
     "timestamp": 1633500505651,
     "user": {
      "displayName": "Srivarshan 19BAI1078",
      "photoUrl": "https://lh3.googleusercontent.com/a/default-user=s64",
      "userId": "03718411517360748676"
     },
     "user_tz": -330
    },
    "id": "zIy9SNkaN17N",
    "outputId": "11abe912-7600-4faa-b9ab-d4357e6ef685"
   },
   "outputs": [
    {
     "name": "stdout",
     "output_type": "stream",
     "text": [
      "Majority Voting\n",
      "              precision    recall  f1-score   support\n",
      "\n",
      "           0       0.88      0.89      0.88       536\n",
      "           1       0.47      0.43      0.45       118\n",
      "\n",
      "    accuracy                           0.81       654\n",
      "   macro avg       0.67      0.66      0.67       654\n",
      "weighted avg       0.80      0.81      0.81       654\n",
      "\n"
     ]
    }
   ],
   "source": [
    "print('Majority Voting')\n",
    "print(classification_report(y_test, mv_test_pred))"
   ]
  },
  {
   "cell_type": "markdown",
   "metadata": {
    "id": "4LwXIdR1N_00"
   },
   "source": [
    "## **Saving the Predictions**"
   ]
  },
  {
   "cell_type": "code",
   "execution_count": 62,
   "metadata": {
    "colab": {
     "base_uri": "https://localhost:8080/",
     "height": 424
    },
    "executionInfo": {
     "elapsed": 308,
     "status": "ok",
     "timestamp": 1633500556842,
     "user": {
      "displayName": "Srivarshan 19BAI1078",
      "photoUrl": "https://lh3.googleusercontent.com/a/default-user=s64",
      "userId": "03718411517360748676"
     },
     "user_tz": -330
    },
    "id": "OQmTRFCyN6M-",
    "outputId": "2f373ed1-e564-4d5b-9955-a51ff0ae4e3c"
   },
   "outputs": [
    {
     "data": {
      "text/html": [
       "<div>\n",
       "<style scoped>\n",
       "    .dataframe tbody tr th:only-of-type {\n",
       "        vertical-align: middle;\n",
       "    }\n",
       "\n",
       "    .dataframe tbody tr th {\n",
       "        vertical-align: top;\n",
       "    }\n",
       "\n",
       "    .dataframe thead th {\n",
       "        text-align: right;\n",
       "    }\n",
       "</style>\n",
       "<table border=\"1\" class=\"dataframe\">\n",
       "  <thead>\n",
       "    <tr style=\"text-align: right;\">\n",
       "      <th></th>\n",
       "      <th>id</th>\n",
       "      <th>text</th>\n",
       "      <th>category</th>\n",
       "    </tr>\n",
       "  </thead>\n",
       "  <tbody>\n",
       "    <tr>\n",
       "      <th>0</th>\n",
       "      <td>tam_test_1</td>\n",
       "      <td>தலைவா STR இதுக்குதான் கதுருந்தோம் மாஸ் தலைவா t...</td>\n",
       "      <td>NOT</td>\n",
       "    </tr>\n",
       "    <tr>\n",
       "      <th>1</th>\n",
       "      <td>tam_test_2</td>\n",
       "      <td>நாயுடு மக்கள் சார்பாக திரைப்படம் வெற்றி பெற வா...</td>\n",
       "      <td>NOT</td>\n",
       "    </tr>\n",
       "    <tr>\n",
       "      <th>2</th>\n",
       "      <td>tam_test_3</td>\n",
       "      <td>தில்லானா முயற்சி  தஞ்சை கோனார்</td>\n",
       "      <td>NOT</td>\n",
       "    </tr>\n",
       "    <tr>\n",
       "      <th>3</th>\n",
       "      <td>tam_test_4</td>\n",
       "      <td>திரௌபதியின் துகிலுறித்த போது காத்த கண்ணனின் யா...</td>\n",
       "      <td>NOT</td>\n",
       "    </tr>\n",
       "    <tr>\n",
       "      <th>4</th>\n",
       "      <td>tam_test_5</td>\n",
       "      <td>நான் தியேட்டர்லே படம் பார்த்து 35 வருஷமாச்சு! ...</td>\n",
       "      <td>NOT</td>\n",
       "    </tr>\n",
       "    <tr>\n",
       "      <th>...</th>\n",
       "      <td>...</td>\n",
       "      <td>...</td>\n",
       "      <td>...</td>\n",
       "    </tr>\n",
       "    <tr>\n",
       "      <th>649</th>\n",
       "      <td>tam_test_650</td>\n",
       "      <td>நான் தலைவரோட ரசிகன்னு சொல்லிடு தலைவரை ஒடசல் போ...</td>\n",
       "      <td>NOT</td>\n",
       "    </tr>\n",
       "    <tr>\n",
       "      <th>650</th>\n",
       "      <td>tam_test_651</td>\n",
       "      <td>வாழ்த்துக்கள்,உண்மை கதை உலகத்துக்கு காட்டிய மோ...</td>\n",
       "      <td>NOT</td>\n",
       "    </tr>\n",
       "    <tr>\n",
       "      <th>651</th>\n",
       "      <td>tam_test_652</td>\n",
       "      <td>குருமா and பா..குஞ்சித் பயலுக கதர்ரது இன்னும் ...</td>\n",
       "      <td>NOT</td>\n",
       "    </tr>\n",
       "    <tr>\n",
       "      <th>652</th>\n",
       "      <td>tam_test_653</td>\n",
       "      <td>வெள்ளார்கள் சார்பாக படம் வெற்றி பெற வாழ்த்துக்...</td>\n",
       "      <td>NOT</td>\n",
       "    </tr>\n",
       "    <tr>\n",
       "      <th>653</th>\n",
       "      <td>tam_test_654</td>\n",
       "      <td>சமீபகாலமாக கால்பந்தாட்டத்தை மையப்படுத்தி தமிழ்...</td>\n",
       "      <td>NOT</td>\n",
       "    </tr>\n",
       "  </tbody>\n",
       "</table>\n",
       "<p>654 rows × 3 columns</p>\n",
       "</div>"
      ],
      "text/plain": [
       "               id                                               text category\n",
       "0      tam_test_1  தலைவா STR இதுக்குதான் கதுருந்தோம் மாஸ் தலைவா t...      NOT\n",
       "1      tam_test_2  நாயுடு மக்கள் சார்பாக திரைப்படம் வெற்றி பெற வா...      NOT\n",
       "2      tam_test_3                     தில்லானா முயற்சி  தஞ்சை கோனார்      NOT\n",
       "3      tam_test_4  திரௌபதியின் துகிலுறித்த போது காத்த கண்ணனின் யா...      NOT\n",
       "4      tam_test_5  நான் தியேட்டர்லே படம் பார்த்து 35 வருஷமாச்சு! ...      NOT\n",
       "..            ...                                                ...      ...\n",
       "649  tam_test_650  நான் தலைவரோட ரசிகன்னு சொல்லிடு தலைவரை ஒடசல் போ...      NOT\n",
       "650  tam_test_651  வாழ்த்துக்கள்,உண்மை கதை உலகத்துக்கு காட்டிய மோ...      NOT\n",
       "651  tam_test_652  குருமா and பா..குஞ்சித் பயலுக கதர்ரது இன்னும் ...      NOT\n",
       "652  tam_test_653  வெள்ளார்கள் சார்பாக படம் வெற்றி பெற வாழ்த்துக்...      NOT\n",
       "653  tam_test_654  சமீபகாலமாக கால்பந்தாட்டத்தை மையப்படுத்தி தமிழ்...      NOT\n",
       "\n",
       "[654 rows x 3 columns]"
      ]
     },
     "execution_count": 62,
     "metadata": {},
     "output_type": "execute_result"
    }
   ],
   "source": [
    "# Logistic Regression\n",
    "\n",
    "predictions = le.inverse_transform(lr_test_pred)\n",
    "\n",
    "dataframe_test_lr = {\n",
    "    'id': dataframe_test['id'],\n",
    "    'text': dataframe_test['text'],\n",
    "    'category': predictions\n",
    "}\n",
    "\n",
    "dataframe_test_lr = pd.DataFrame(dataframe_test_lr)\n",
    "dataframe_test_lr.to_csv(\"Output/IndicBert-LogisticRegression.csv\")\n",
    "dataframe_test_lr"
   ]
  },
  {
   "cell_type": "code",
   "execution_count": 63,
   "metadata": {
    "colab": {
     "base_uri": "https://localhost:8080/",
     "height": 424
    },
    "executionInfo": {
     "elapsed": 317,
     "status": "ok",
     "timestamp": 1633500581721,
     "user": {
      "displayName": "Srivarshan 19BAI1078",
      "photoUrl": "https://lh3.googleusercontent.com/a/default-user=s64",
      "userId": "03718411517360748676"
     },
     "user_tz": -330
    },
    "id": "2SB12KdmOGsr",
    "outputId": "0bb26059-d476-4e38-9322-59177677354a"
   },
   "outputs": [
    {
     "data": {
      "text/html": [
       "<div>\n",
       "<style scoped>\n",
       "    .dataframe tbody tr th:only-of-type {\n",
       "        vertical-align: middle;\n",
       "    }\n",
       "\n",
       "    .dataframe tbody tr th {\n",
       "        vertical-align: top;\n",
       "    }\n",
       "\n",
       "    .dataframe thead th {\n",
       "        text-align: right;\n",
       "    }\n",
       "</style>\n",
       "<table border=\"1\" class=\"dataframe\">\n",
       "  <thead>\n",
       "    <tr style=\"text-align: right;\">\n",
       "      <th></th>\n",
       "      <th>id</th>\n",
       "      <th>text</th>\n",
       "      <th>category</th>\n",
       "    </tr>\n",
       "  </thead>\n",
       "  <tbody>\n",
       "    <tr>\n",
       "      <th>0</th>\n",
       "      <td>tam_test_1</td>\n",
       "      <td>தலைவா STR இதுக்குதான் கதுருந்தோம் மாஸ் தலைவா t...</td>\n",
       "      <td>NOT</td>\n",
       "    </tr>\n",
       "    <tr>\n",
       "      <th>1</th>\n",
       "      <td>tam_test_2</td>\n",
       "      <td>நாயுடு மக்கள் சார்பாக திரைப்படம் வெற்றி பெற வா...</td>\n",
       "      <td>NOT</td>\n",
       "    </tr>\n",
       "    <tr>\n",
       "      <th>2</th>\n",
       "      <td>tam_test_3</td>\n",
       "      <td>தில்லானா முயற்சி  தஞ்சை கோனார்</td>\n",
       "      <td>NOT</td>\n",
       "    </tr>\n",
       "    <tr>\n",
       "      <th>3</th>\n",
       "      <td>tam_test_4</td>\n",
       "      <td>திரௌபதியின் துகிலுறித்த போது காத்த கண்ணனின் யா...</td>\n",
       "      <td>NOT</td>\n",
       "    </tr>\n",
       "    <tr>\n",
       "      <th>4</th>\n",
       "      <td>tam_test_5</td>\n",
       "      <td>நான் தியேட்டர்லே படம் பார்த்து 35 வருஷமாச்சு! ...</td>\n",
       "      <td>NOT</td>\n",
       "    </tr>\n",
       "    <tr>\n",
       "      <th>...</th>\n",
       "      <td>...</td>\n",
       "      <td>...</td>\n",
       "      <td>...</td>\n",
       "    </tr>\n",
       "    <tr>\n",
       "      <th>649</th>\n",
       "      <td>tam_test_650</td>\n",
       "      <td>நான் தலைவரோட ரசிகன்னு சொல்லிடு தலைவரை ஒடசல் போ...</td>\n",
       "      <td>NOT</td>\n",
       "    </tr>\n",
       "    <tr>\n",
       "      <th>650</th>\n",
       "      <td>tam_test_651</td>\n",
       "      <td>வாழ்த்துக்கள்,உண்மை கதை உலகத்துக்கு காட்டிய மோ...</td>\n",
       "      <td>NOT</td>\n",
       "    </tr>\n",
       "    <tr>\n",
       "      <th>651</th>\n",
       "      <td>tam_test_652</td>\n",
       "      <td>குருமா and பா..குஞ்சித் பயலுக கதர்ரது இன்னும் ...</td>\n",
       "      <td>NOT</td>\n",
       "    </tr>\n",
       "    <tr>\n",
       "      <th>652</th>\n",
       "      <td>tam_test_653</td>\n",
       "      <td>வெள்ளார்கள் சார்பாக படம் வெற்றி பெற வாழ்த்துக்...</td>\n",
       "      <td>NOT</td>\n",
       "    </tr>\n",
       "    <tr>\n",
       "      <th>653</th>\n",
       "      <td>tam_test_654</td>\n",
       "      <td>சமீபகாலமாக கால்பந்தாட்டத்தை மையப்படுத்தி தமிழ்...</td>\n",
       "      <td>NOT</td>\n",
       "    </tr>\n",
       "  </tbody>\n",
       "</table>\n",
       "<p>654 rows × 3 columns</p>\n",
       "</div>"
      ],
      "text/plain": [
       "               id                                               text category\n",
       "0      tam_test_1  தலைவா STR இதுக்குதான் கதுருந்தோம் மாஸ் தலைவா t...      NOT\n",
       "1      tam_test_2  நாயுடு மக்கள் சார்பாக திரைப்படம் வெற்றி பெற வா...      NOT\n",
       "2      tam_test_3                     தில்லானா முயற்சி  தஞ்சை கோனார்      NOT\n",
       "3      tam_test_4  திரௌபதியின் துகிலுறித்த போது காத்த கண்ணனின் யா...      NOT\n",
       "4      tam_test_5  நான் தியேட்டர்லே படம் பார்த்து 35 வருஷமாச்சு! ...      NOT\n",
       "..            ...                                                ...      ...\n",
       "649  tam_test_650  நான் தலைவரோட ரசிகன்னு சொல்லிடு தலைவரை ஒடசல் போ...      NOT\n",
       "650  tam_test_651  வாழ்த்துக்கள்,உண்மை கதை உலகத்துக்கு காட்டிய மோ...      NOT\n",
       "651  tam_test_652  குருமா and பா..குஞ்சித் பயலுக கதர்ரது இன்னும் ...      NOT\n",
       "652  tam_test_653  வெள்ளார்கள் சார்பாக படம் வெற்றி பெற வாழ்த்துக்...      NOT\n",
       "653  tam_test_654  சமீபகாலமாக கால்பந்தாட்டத்தை மையப்படுத்தி தமிழ்...      NOT\n",
       "\n",
       "[654 rows x 3 columns]"
      ]
     },
     "execution_count": 63,
     "metadata": {},
     "output_type": "execute_result"
    }
   ],
   "source": [
    "# Support Vector Machine\n",
    "\n",
    "predictions = le.inverse_transform(svm_test_pred)\n",
    "\n",
    "dataframe_test_svm = {\n",
    "    'id': dataframe_test['id'],\n",
    "    'text': dataframe_test['text'],\n",
    "    'category': predictions\n",
    "}\n",
    "\n",
    "dataframe_test_svm = pd.DataFrame(dataframe_test_svm)\n",
    "dataframe_test_svm.to_csv(\"Output/IndicBert-SupportVectorMachine.csv\")\n",
    "dataframe_test_svm"
   ]
  },
  {
   "cell_type": "code",
   "execution_count": 64,
   "metadata": {
    "colab": {
     "base_uri": "https://localhost:8080/",
     "height": 424
    },
    "executionInfo": {
     "elapsed": 327,
     "status": "ok",
     "timestamp": 1633500596991,
     "user": {
      "displayName": "Srivarshan 19BAI1078",
      "photoUrl": "https://lh3.googleusercontent.com/a/default-user=s64",
      "userId": "03718411517360748676"
     },
     "user_tz": -330
    },
    "id": "yBatwZUvOMxG",
    "outputId": "f53cc862-28d0-4c36-9cf7-cb2e0dcf4829"
   },
   "outputs": [
    {
     "data": {
      "text/html": [
       "<div>\n",
       "<style scoped>\n",
       "    .dataframe tbody tr th:only-of-type {\n",
       "        vertical-align: middle;\n",
       "    }\n",
       "\n",
       "    .dataframe tbody tr th {\n",
       "        vertical-align: top;\n",
       "    }\n",
       "\n",
       "    .dataframe thead th {\n",
       "        text-align: right;\n",
       "    }\n",
       "</style>\n",
       "<table border=\"1\" class=\"dataframe\">\n",
       "  <thead>\n",
       "    <tr style=\"text-align: right;\">\n",
       "      <th></th>\n",
       "      <th>id</th>\n",
       "      <th>text</th>\n",
       "      <th>category</th>\n",
       "    </tr>\n",
       "  </thead>\n",
       "  <tbody>\n",
       "    <tr>\n",
       "      <th>0</th>\n",
       "      <td>tam_test_1</td>\n",
       "      <td>தலைவா STR இதுக்குதான் கதுருந்தோம் மாஸ் தலைவா t...</td>\n",
       "      <td>NOT</td>\n",
       "    </tr>\n",
       "    <tr>\n",
       "      <th>1</th>\n",
       "      <td>tam_test_2</td>\n",
       "      <td>நாயுடு மக்கள் சார்பாக திரைப்படம் வெற்றி பெற வா...</td>\n",
       "      <td>NOT</td>\n",
       "    </tr>\n",
       "    <tr>\n",
       "      <th>2</th>\n",
       "      <td>tam_test_3</td>\n",
       "      <td>தில்லானா முயற்சி  தஞ்சை கோனார்</td>\n",
       "      <td>NOT</td>\n",
       "    </tr>\n",
       "    <tr>\n",
       "      <th>3</th>\n",
       "      <td>tam_test_4</td>\n",
       "      <td>திரௌபதியின் துகிலுறித்த போது காத்த கண்ணனின் யா...</td>\n",
       "      <td>NOT</td>\n",
       "    </tr>\n",
       "    <tr>\n",
       "      <th>4</th>\n",
       "      <td>tam_test_5</td>\n",
       "      <td>நான் தியேட்டர்லே படம் பார்த்து 35 வருஷமாச்சு! ...</td>\n",
       "      <td>OFF</td>\n",
       "    </tr>\n",
       "    <tr>\n",
       "      <th>...</th>\n",
       "      <td>...</td>\n",
       "      <td>...</td>\n",
       "      <td>...</td>\n",
       "    </tr>\n",
       "    <tr>\n",
       "      <th>649</th>\n",
       "      <td>tam_test_650</td>\n",
       "      <td>நான் தலைவரோட ரசிகன்னு சொல்லிடு தலைவரை ஒடசல் போ...</td>\n",
       "      <td>OFF</td>\n",
       "    </tr>\n",
       "    <tr>\n",
       "      <th>650</th>\n",
       "      <td>tam_test_651</td>\n",
       "      <td>வாழ்த்துக்கள்,உண்மை கதை உலகத்துக்கு காட்டிய மோ...</td>\n",
       "      <td>OFF</td>\n",
       "    </tr>\n",
       "    <tr>\n",
       "      <th>651</th>\n",
       "      <td>tam_test_652</td>\n",
       "      <td>குருமா and பா..குஞ்சித் பயலுக கதர்ரது இன்னும் ...</td>\n",
       "      <td>OFF</td>\n",
       "    </tr>\n",
       "    <tr>\n",
       "      <th>652</th>\n",
       "      <td>tam_test_653</td>\n",
       "      <td>வெள்ளார்கள் சார்பாக படம் வெற்றி பெற வாழ்த்துக்...</td>\n",
       "      <td>NOT</td>\n",
       "    </tr>\n",
       "    <tr>\n",
       "      <th>653</th>\n",
       "      <td>tam_test_654</td>\n",
       "      <td>சமீபகாலமாக கால்பந்தாட்டத்தை மையப்படுத்தி தமிழ்...</td>\n",
       "      <td>NOT</td>\n",
       "    </tr>\n",
       "  </tbody>\n",
       "</table>\n",
       "<p>654 rows × 3 columns</p>\n",
       "</div>"
      ],
      "text/plain": [
       "               id                                               text category\n",
       "0      tam_test_1  தலைவா STR இதுக்குதான் கதுருந்தோம் மாஸ் தலைவா t...      NOT\n",
       "1      tam_test_2  நாயுடு மக்கள் சார்பாக திரைப்படம் வெற்றி பெற வா...      NOT\n",
       "2      tam_test_3                     தில்லானா முயற்சி  தஞ்சை கோனார்      NOT\n",
       "3      tam_test_4  திரௌபதியின் துகிலுறித்த போது காத்த கண்ணனின் யா...      NOT\n",
       "4      tam_test_5  நான் தியேட்டர்லே படம் பார்த்து 35 வருஷமாச்சு! ...      OFF\n",
       "..            ...                                                ...      ...\n",
       "649  tam_test_650  நான் தலைவரோட ரசிகன்னு சொல்லிடு தலைவரை ஒடசல் போ...      OFF\n",
       "650  tam_test_651  வாழ்த்துக்கள்,உண்மை கதை உலகத்துக்கு காட்டிய மோ...      OFF\n",
       "651  tam_test_652  குருமா and பா..குஞ்சித் பயலுக கதர்ரது இன்னும் ...      OFF\n",
       "652  tam_test_653  வெள்ளார்கள் சார்பாக படம் வெற்றி பெற வாழ்த்துக்...      NOT\n",
       "653  tam_test_654  சமீபகாலமாக கால்பந்தாட்டத்தை மையப்படுத்தி தமிழ்...      NOT\n",
       "\n",
       "[654 rows x 3 columns]"
      ]
     },
     "execution_count": 64,
     "metadata": {},
     "output_type": "execute_result"
    }
   ],
   "source": [
    "# Naive Bayes\n",
    "\n",
    "predictions = le.inverse_transform(nb_test_pred)\n",
    "\n",
    "dataframe_test_nb = {\n",
    "    'id': dataframe_test['id'],\n",
    "    'text': dataframe_test['text'],\n",
    "    'category': predictions\n",
    "}\n",
    "\n",
    "dataframe_test_nb = pd.DataFrame(dataframe_test_nb)\n",
    "dataframe_test_nb.to_csv(\"Output/IndicBert-NaiveBayes.csv\")\n",
    "dataframe_test_nb"
   ]
  },
  {
   "cell_type": "code",
   "execution_count": 65,
   "metadata": {
    "colab": {
     "base_uri": "https://localhost:8080/",
     "height": 424
    },
    "executionInfo": {
     "elapsed": 300,
     "status": "ok",
     "timestamp": 1633500611860,
     "user": {
      "displayName": "Srivarshan 19BAI1078",
      "photoUrl": "https://lh3.googleusercontent.com/a/default-user=s64",
      "userId": "03718411517360748676"
     },
     "user_tz": -330
    },
    "id": "GhNcLJ4tOQgB",
    "outputId": "f6a1ae85-f1dd-48bf-affc-b7fbd1a9bfea"
   },
   "outputs": [
    {
     "data": {
      "text/html": [
       "<div>\n",
       "<style scoped>\n",
       "    .dataframe tbody tr th:only-of-type {\n",
       "        vertical-align: middle;\n",
       "    }\n",
       "\n",
       "    .dataframe tbody tr th {\n",
       "        vertical-align: top;\n",
       "    }\n",
       "\n",
       "    .dataframe thead th {\n",
       "        text-align: right;\n",
       "    }\n",
       "</style>\n",
       "<table border=\"1\" class=\"dataframe\">\n",
       "  <thead>\n",
       "    <tr style=\"text-align: right;\">\n",
       "      <th></th>\n",
       "      <th>id</th>\n",
       "      <th>text</th>\n",
       "      <th>category</th>\n",
       "    </tr>\n",
       "  </thead>\n",
       "  <tbody>\n",
       "    <tr>\n",
       "      <th>0</th>\n",
       "      <td>tam_test_1</td>\n",
       "      <td>தலைவா STR இதுக்குதான் கதுருந்தோம் மாஸ் தலைவா t...</td>\n",
       "      <td>NOT</td>\n",
       "    </tr>\n",
       "    <tr>\n",
       "      <th>1</th>\n",
       "      <td>tam_test_2</td>\n",
       "      <td>நாயுடு மக்கள் சார்பாக திரைப்படம் வெற்றி பெற வா...</td>\n",
       "      <td>NOT</td>\n",
       "    </tr>\n",
       "    <tr>\n",
       "      <th>2</th>\n",
       "      <td>tam_test_3</td>\n",
       "      <td>தில்லானா முயற்சி  தஞ்சை கோனார்</td>\n",
       "      <td>NOT</td>\n",
       "    </tr>\n",
       "    <tr>\n",
       "      <th>3</th>\n",
       "      <td>tam_test_4</td>\n",
       "      <td>திரௌபதியின் துகிலுறித்த போது காத்த கண்ணனின் யா...</td>\n",
       "      <td>NOT</td>\n",
       "    </tr>\n",
       "    <tr>\n",
       "      <th>4</th>\n",
       "      <td>tam_test_5</td>\n",
       "      <td>நான் தியேட்டர்லே படம் பார்த்து 35 வருஷமாச்சு! ...</td>\n",
       "      <td>NOT</td>\n",
       "    </tr>\n",
       "    <tr>\n",
       "      <th>...</th>\n",
       "      <td>...</td>\n",
       "      <td>...</td>\n",
       "      <td>...</td>\n",
       "    </tr>\n",
       "    <tr>\n",
       "      <th>649</th>\n",
       "      <td>tam_test_650</td>\n",
       "      <td>நான் தலைவரோட ரசிகன்னு சொல்லிடு தலைவரை ஒடசல் போ...</td>\n",
       "      <td>NOT</td>\n",
       "    </tr>\n",
       "    <tr>\n",
       "      <th>650</th>\n",
       "      <td>tam_test_651</td>\n",
       "      <td>வாழ்த்துக்கள்,உண்மை கதை உலகத்துக்கு காட்டிய மோ...</td>\n",
       "      <td>NOT</td>\n",
       "    </tr>\n",
       "    <tr>\n",
       "      <th>651</th>\n",
       "      <td>tam_test_652</td>\n",
       "      <td>குருமா and பா..குஞ்சித் பயலுக கதர்ரது இன்னும் ...</td>\n",
       "      <td>NOT</td>\n",
       "    </tr>\n",
       "    <tr>\n",
       "      <th>652</th>\n",
       "      <td>tam_test_653</td>\n",
       "      <td>வெள்ளார்கள் சார்பாக படம் வெற்றி பெற வாழ்த்துக்...</td>\n",
       "      <td>NOT</td>\n",
       "    </tr>\n",
       "    <tr>\n",
       "      <th>653</th>\n",
       "      <td>tam_test_654</td>\n",
       "      <td>சமீபகாலமாக கால்பந்தாட்டத்தை மையப்படுத்தி தமிழ்...</td>\n",
       "      <td>NOT</td>\n",
       "    </tr>\n",
       "  </tbody>\n",
       "</table>\n",
       "<p>654 rows × 3 columns</p>\n",
       "</div>"
      ],
      "text/plain": [
       "               id                                               text category\n",
       "0      tam_test_1  தலைவா STR இதுக்குதான் கதுருந்தோம் மாஸ் தலைவா t...      NOT\n",
       "1      tam_test_2  நாயுடு மக்கள் சார்பாக திரைப்படம் வெற்றி பெற வா...      NOT\n",
       "2      tam_test_3                     தில்லானா முயற்சி  தஞ்சை கோனார்      NOT\n",
       "3      tam_test_4  திரௌபதியின் துகிலுறித்த போது காத்த கண்ணனின் யா...      NOT\n",
       "4      tam_test_5  நான் தியேட்டர்லே படம் பார்த்து 35 வருஷமாச்சு! ...      NOT\n",
       "..            ...                                                ...      ...\n",
       "649  tam_test_650  நான் தலைவரோட ரசிகன்னு சொல்லிடு தலைவரை ஒடசல் போ...      NOT\n",
       "650  tam_test_651  வாழ்த்துக்கள்,உண்மை கதை உலகத்துக்கு காட்டிய மோ...      NOT\n",
       "651  tam_test_652  குருமா and பா..குஞ்சித் பயலுக கதர்ரது இன்னும் ...      NOT\n",
       "652  tam_test_653  வெள்ளார்கள் சார்பாக படம் வெற்றி பெற வாழ்த்துக்...      NOT\n",
       "653  tam_test_654  சமீபகாலமாக கால்பந்தாட்டத்தை மையப்படுத்தி தமிழ்...      NOT\n",
       "\n",
       "[654 rows x 3 columns]"
      ]
     },
     "execution_count": 65,
     "metadata": {},
     "output_type": "execute_result"
    }
   ],
   "source": [
    "# Stochastic Gradient Descent\n",
    "\n",
    "predictions = le.inverse_transform(sgd_test_pred)\n",
    "\n",
    "dataframe_test_sgd = {\n",
    "    'id': dataframe_test['id'],\n",
    "    'text': dataframe_test['text'],\n",
    "    'category': predictions\n",
    "}\n",
    "\n",
    "dataframe_test_sgd = pd.DataFrame(dataframe_test_sgd)\n",
    "dataframe_test_sgd.to_csv(\"Output/IndicBert-StochasticGradientDescent.csv\")\n",
    "dataframe_test_sgd"
   ]
  },
  {
   "cell_type": "code",
   "execution_count": 66,
   "metadata": {
    "colab": {
     "base_uri": "https://localhost:8080/",
     "height": 424
    },
    "executionInfo": {
     "elapsed": 303,
     "status": "ok",
     "timestamp": 1633500625710,
     "user": {
      "displayName": "Srivarshan 19BAI1078",
      "photoUrl": "https://lh3.googleusercontent.com/a/default-user=s64",
      "userId": "03718411517360748676"
     },
     "user_tz": -330
    },
    "id": "WhoRZ4atOUIp",
    "outputId": "987a7c1a-587a-43dc-c0ee-30b8449dc009"
   },
   "outputs": [
    {
     "data": {
      "text/html": [
       "<div>\n",
       "<style scoped>\n",
       "    .dataframe tbody tr th:only-of-type {\n",
       "        vertical-align: middle;\n",
       "    }\n",
       "\n",
       "    .dataframe tbody tr th {\n",
       "        vertical-align: top;\n",
       "    }\n",
       "\n",
       "    .dataframe thead th {\n",
       "        text-align: right;\n",
       "    }\n",
       "</style>\n",
       "<table border=\"1\" class=\"dataframe\">\n",
       "  <thead>\n",
       "    <tr style=\"text-align: right;\">\n",
       "      <th></th>\n",
       "      <th>id</th>\n",
       "      <th>text</th>\n",
       "      <th>category</th>\n",
       "    </tr>\n",
       "  </thead>\n",
       "  <tbody>\n",
       "    <tr>\n",
       "      <th>0</th>\n",
       "      <td>tam_test_1</td>\n",
       "      <td>தலைவா STR இதுக்குதான் கதுருந்தோம் மாஸ் தலைவா t...</td>\n",
       "      <td>NOT</td>\n",
       "    </tr>\n",
       "    <tr>\n",
       "      <th>1</th>\n",
       "      <td>tam_test_2</td>\n",
       "      <td>நாயுடு மக்கள் சார்பாக திரைப்படம் வெற்றி பெற வா...</td>\n",
       "      <td>NOT</td>\n",
       "    </tr>\n",
       "    <tr>\n",
       "      <th>2</th>\n",
       "      <td>tam_test_3</td>\n",
       "      <td>தில்லானா முயற்சி  தஞ்சை கோனார்</td>\n",
       "      <td>NOT</td>\n",
       "    </tr>\n",
       "    <tr>\n",
       "      <th>3</th>\n",
       "      <td>tam_test_4</td>\n",
       "      <td>திரௌபதியின் துகிலுறித்த போது காத்த கண்ணனின் யா...</td>\n",
       "      <td>NOT</td>\n",
       "    </tr>\n",
       "    <tr>\n",
       "      <th>4</th>\n",
       "      <td>tam_test_5</td>\n",
       "      <td>நான் தியேட்டர்லே படம் பார்த்து 35 வருஷமாச்சு! ...</td>\n",
       "      <td>OFF</td>\n",
       "    </tr>\n",
       "    <tr>\n",
       "      <th>...</th>\n",
       "      <td>...</td>\n",
       "      <td>...</td>\n",
       "      <td>...</td>\n",
       "    </tr>\n",
       "    <tr>\n",
       "      <th>649</th>\n",
       "      <td>tam_test_650</td>\n",
       "      <td>நான் தலைவரோட ரசிகன்னு சொல்லிடு தலைவரை ஒடசல் போ...</td>\n",
       "      <td>OFF</td>\n",
       "    </tr>\n",
       "    <tr>\n",
       "      <th>650</th>\n",
       "      <td>tam_test_651</td>\n",
       "      <td>வாழ்த்துக்கள்,உண்மை கதை உலகத்துக்கு காட்டிய மோ...</td>\n",
       "      <td>NOT</td>\n",
       "    </tr>\n",
       "    <tr>\n",
       "      <th>651</th>\n",
       "      <td>tam_test_652</td>\n",
       "      <td>குருமா and பா..குஞ்சித் பயலுக கதர்ரது இன்னும் ...</td>\n",
       "      <td>OFF</td>\n",
       "    </tr>\n",
       "    <tr>\n",
       "      <th>652</th>\n",
       "      <td>tam_test_653</td>\n",
       "      <td>வெள்ளார்கள் சார்பாக படம் வெற்றி பெற வாழ்த்துக்...</td>\n",
       "      <td>NOT</td>\n",
       "    </tr>\n",
       "    <tr>\n",
       "      <th>653</th>\n",
       "      <td>tam_test_654</td>\n",
       "      <td>சமீபகாலமாக கால்பந்தாட்டத்தை மையப்படுத்தி தமிழ்...</td>\n",
       "      <td>NOT</td>\n",
       "    </tr>\n",
       "  </tbody>\n",
       "</table>\n",
       "<p>654 rows × 3 columns</p>\n",
       "</div>"
      ],
      "text/plain": [
       "               id                                               text category\n",
       "0      tam_test_1  தலைவா STR இதுக்குதான் கதுருந்தோம் மாஸ் தலைவா t...      NOT\n",
       "1      tam_test_2  நாயுடு மக்கள் சார்பாக திரைப்படம் வெற்றி பெற வா...      NOT\n",
       "2      tam_test_3                     தில்லானா முயற்சி  தஞ்சை கோனார்      NOT\n",
       "3      tam_test_4  திரௌபதியின் துகிலுறித்த போது காத்த கண்ணனின் யா...      NOT\n",
       "4      tam_test_5  நான் தியேட்டர்லே படம் பார்த்து 35 வருஷமாச்சு! ...      OFF\n",
       "..            ...                                                ...      ...\n",
       "649  tam_test_650  நான் தலைவரோட ரசிகன்னு சொல்லிடு தலைவரை ஒடசல் போ...      OFF\n",
       "650  tam_test_651  வாழ்த்துக்கள்,உண்மை கதை உலகத்துக்கு காட்டிய மோ...      NOT\n",
       "651  tam_test_652  குருமா and பா..குஞ்சித் பயலுக கதர்ரது இன்னும் ...      OFF\n",
       "652  tam_test_653  வெள்ளார்கள் சார்பாக படம் வெற்றி பெற வாழ்த்துக்...      NOT\n",
       "653  tam_test_654  சமீபகாலமாக கால்பந்தாட்டத்தை மையப்படுத்தி தமிழ்...      NOT\n",
       "\n",
       "[654 rows x 3 columns]"
      ]
     },
     "execution_count": 66,
     "metadata": {},
     "output_type": "execute_result"
    }
   ],
   "source": [
    "# K Nearest Neighbours\n",
    "\n",
    "predictions = le.inverse_transform(knn_test_pred)\n",
    "\n",
    "dataframe_test_knn = {\n",
    "    'id': dataframe_test['id'],\n",
    "    'text': dataframe_test['text'],\n",
    "    'category': predictions\n",
    "}\n",
    "\n",
    "dataframe_test_knn = pd.DataFrame(dataframe_test_knn)\n",
    "dataframe_test_knn.to_csv(\"Output/IndicBert-KNearestNeighbours.csv\")\n",
    "dataframe_test_knn"
   ]
  },
  {
   "cell_type": "code",
   "execution_count": 67,
   "metadata": {
    "colab": {
     "base_uri": "https://localhost:8080/",
     "height": 424
    },
    "executionInfo": {
     "elapsed": 301,
     "status": "ok",
     "timestamp": 1633500649360,
     "user": {
      "displayName": "Srivarshan 19BAI1078",
      "photoUrl": "https://lh3.googleusercontent.com/a/default-user=s64",
      "userId": "03718411517360748676"
     },
     "user_tz": -330
    },
    "id": "QKxZREKAOXgR",
    "outputId": "20e4abc2-ad18-40f9-d44e-e4ad2ee5cf83"
   },
   "outputs": [
    {
     "data": {
      "text/html": [
       "<div>\n",
       "<style scoped>\n",
       "    .dataframe tbody tr th:only-of-type {\n",
       "        vertical-align: middle;\n",
       "    }\n",
       "\n",
       "    .dataframe tbody tr th {\n",
       "        vertical-align: top;\n",
       "    }\n",
       "\n",
       "    .dataframe thead th {\n",
       "        text-align: right;\n",
       "    }\n",
       "</style>\n",
       "<table border=\"1\" class=\"dataframe\">\n",
       "  <thead>\n",
       "    <tr style=\"text-align: right;\">\n",
       "      <th></th>\n",
       "      <th>id</th>\n",
       "      <th>text</th>\n",
       "      <th>category</th>\n",
       "    </tr>\n",
       "  </thead>\n",
       "  <tbody>\n",
       "    <tr>\n",
       "      <th>0</th>\n",
       "      <td>tam_test_1</td>\n",
       "      <td>தலைவா STR இதுக்குதான் கதுருந்தோம் மாஸ் தலைவா t...</td>\n",
       "      <td>OFF</td>\n",
       "    </tr>\n",
       "    <tr>\n",
       "      <th>1</th>\n",
       "      <td>tam_test_2</td>\n",
       "      <td>நாயுடு மக்கள் சார்பாக திரைப்படம் வெற்றி பெற வா...</td>\n",
       "      <td>OFF</td>\n",
       "    </tr>\n",
       "    <tr>\n",
       "      <th>2</th>\n",
       "      <td>tam_test_3</td>\n",
       "      <td>தில்லானா முயற்சி  தஞ்சை கோனார்</td>\n",
       "      <td>NOT</td>\n",
       "    </tr>\n",
       "    <tr>\n",
       "      <th>3</th>\n",
       "      <td>tam_test_4</td>\n",
       "      <td>திரௌபதியின் துகிலுறித்த போது காத்த கண்ணனின் யா...</td>\n",
       "      <td>NOT</td>\n",
       "    </tr>\n",
       "    <tr>\n",
       "      <th>4</th>\n",
       "      <td>tam_test_5</td>\n",
       "      <td>நான் தியேட்டர்லே படம் பார்த்து 35 வருஷமாச்சு! ...</td>\n",
       "      <td>OFF</td>\n",
       "    </tr>\n",
       "    <tr>\n",
       "      <th>...</th>\n",
       "      <td>...</td>\n",
       "      <td>...</td>\n",
       "      <td>...</td>\n",
       "    </tr>\n",
       "    <tr>\n",
       "      <th>649</th>\n",
       "      <td>tam_test_650</td>\n",
       "      <td>நான் தலைவரோட ரசிகன்னு சொல்லிடு தலைவரை ஒடசல் போ...</td>\n",
       "      <td>NOT</td>\n",
       "    </tr>\n",
       "    <tr>\n",
       "      <th>650</th>\n",
       "      <td>tam_test_651</td>\n",
       "      <td>வாழ்த்துக்கள்,உண்மை கதை உலகத்துக்கு காட்டிய மோ...</td>\n",
       "      <td>NOT</td>\n",
       "    </tr>\n",
       "    <tr>\n",
       "      <th>651</th>\n",
       "      <td>tam_test_652</td>\n",
       "      <td>குருமா and பா..குஞ்சித் பயலுக கதர்ரது இன்னும் ...</td>\n",
       "      <td>NOT</td>\n",
       "    </tr>\n",
       "    <tr>\n",
       "      <th>652</th>\n",
       "      <td>tam_test_653</td>\n",
       "      <td>வெள்ளார்கள் சார்பாக படம் வெற்றி பெற வாழ்த்துக்...</td>\n",
       "      <td>NOT</td>\n",
       "    </tr>\n",
       "    <tr>\n",
       "      <th>653</th>\n",
       "      <td>tam_test_654</td>\n",
       "      <td>சமீபகாலமாக கால்பந்தாட்டத்தை மையப்படுத்தி தமிழ்...</td>\n",
       "      <td>OFF</td>\n",
       "    </tr>\n",
       "  </tbody>\n",
       "</table>\n",
       "<p>654 rows × 3 columns</p>\n",
       "</div>"
      ],
      "text/plain": [
       "               id                                               text category\n",
       "0      tam_test_1  தலைவா STR இதுக்குதான் கதுருந்தோம் மாஸ் தலைவா t...      OFF\n",
       "1      tam_test_2  நாயுடு மக்கள் சார்பாக திரைப்படம் வெற்றி பெற வா...      OFF\n",
       "2      tam_test_3                     தில்லானா முயற்சி  தஞ்சை கோனார்      NOT\n",
       "3      tam_test_4  திரௌபதியின் துகிலுறித்த போது காத்த கண்ணனின் யா...      NOT\n",
       "4      tam_test_5  நான் தியேட்டர்லே படம் பார்த்து 35 வருஷமாச்சு! ...      OFF\n",
       "..            ...                                                ...      ...\n",
       "649  tam_test_650  நான் தலைவரோட ரசிகன்னு சொல்லிடு தலைவரை ஒடசல் போ...      NOT\n",
       "650  tam_test_651  வாழ்த்துக்கள்,உண்மை கதை உலகத்துக்கு காட்டிய மோ...      NOT\n",
       "651  tam_test_652  குருமா and பா..குஞ்சித் பயலுக கதர்ரது இன்னும் ...      NOT\n",
       "652  tam_test_653  வெள்ளார்கள் சார்பாக படம் வெற்றி பெற வாழ்த்துக்...      NOT\n",
       "653  tam_test_654  சமீபகாலமாக கால்பந்தாட்டத்தை மையப்படுத்தி தமிழ்...      OFF\n",
       "\n",
       "[654 rows x 3 columns]"
      ]
     },
     "execution_count": 67,
     "metadata": {},
     "output_type": "execute_result"
    }
   ],
   "source": [
    "# Decision Tree\n",
    "\n",
    "predictions = le.inverse_transform(dt_test_pred)\n",
    "\n",
    "dataframe_test_dt = {\n",
    "    'id': dataframe_test['id'],\n",
    "    'text': dataframe_test['text'],\n",
    "    'category': predictions\n",
    "}\n",
    "\n",
    "dataframe_test_dt = pd.DataFrame(dataframe_test_dt)\n",
    "dataframe_test_dt.to_csv(\"Output/IndicBert-DecisionTree.csv\")\n",
    "dataframe_test_dt"
   ]
  },
  {
   "cell_type": "code",
   "execution_count": 68,
   "metadata": {
    "colab": {
     "base_uri": "https://localhost:8080/",
     "height": 424
    },
    "executionInfo": {
     "elapsed": 297,
     "status": "ok",
     "timestamp": 1633500664700,
     "user": {
      "displayName": "Srivarshan 19BAI1078",
      "photoUrl": "https://lh3.googleusercontent.com/a/default-user=s64",
      "userId": "03718411517360748676"
     },
     "user_tz": -330
    },
    "id": "AtEa4WtzOdQn",
    "outputId": "424c6d0e-24ee-4323-82f4-069284992840"
   },
   "outputs": [
    {
     "data": {
      "text/html": [
       "<div>\n",
       "<style scoped>\n",
       "    .dataframe tbody tr th:only-of-type {\n",
       "        vertical-align: middle;\n",
       "    }\n",
       "\n",
       "    .dataframe tbody tr th {\n",
       "        vertical-align: top;\n",
       "    }\n",
       "\n",
       "    .dataframe thead th {\n",
       "        text-align: right;\n",
       "    }\n",
       "</style>\n",
       "<table border=\"1\" class=\"dataframe\">\n",
       "  <thead>\n",
       "    <tr style=\"text-align: right;\">\n",
       "      <th></th>\n",
       "      <th>id</th>\n",
       "      <th>text</th>\n",
       "      <th>category</th>\n",
       "    </tr>\n",
       "  </thead>\n",
       "  <tbody>\n",
       "    <tr>\n",
       "      <th>0</th>\n",
       "      <td>tam_test_1</td>\n",
       "      <td>தலைவா STR இதுக்குதான் கதுருந்தோம் மாஸ் தலைவா t...</td>\n",
       "      <td>NOT</td>\n",
       "    </tr>\n",
       "    <tr>\n",
       "      <th>1</th>\n",
       "      <td>tam_test_2</td>\n",
       "      <td>நாயுடு மக்கள் சார்பாக திரைப்படம் வெற்றி பெற வா...</td>\n",
       "      <td>NOT</td>\n",
       "    </tr>\n",
       "    <tr>\n",
       "      <th>2</th>\n",
       "      <td>tam_test_3</td>\n",
       "      <td>தில்லானா முயற்சி  தஞ்சை கோனார்</td>\n",
       "      <td>NOT</td>\n",
       "    </tr>\n",
       "    <tr>\n",
       "      <th>3</th>\n",
       "      <td>tam_test_4</td>\n",
       "      <td>திரௌபதியின் துகிலுறித்த போது காத்த கண்ணனின் யா...</td>\n",
       "      <td>NOT</td>\n",
       "    </tr>\n",
       "    <tr>\n",
       "      <th>4</th>\n",
       "      <td>tam_test_5</td>\n",
       "      <td>நான் தியேட்டர்லே படம் பார்த்து 35 வருஷமாச்சு! ...</td>\n",
       "      <td>NOT</td>\n",
       "    </tr>\n",
       "    <tr>\n",
       "      <th>...</th>\n",
       "      <td>...</td>\n",
       "      <td>...</td>\n",
       "      <td>...</td>\n",
       "    </tr>\n",
       "    <tr>\n",
       "      <th>649</th>\n",
       "      <td>tam_test_650</td>\n",
       "      <td>நான் தலைவரோட ரசிகன்னு சொல்லிடு தலைவரை ஒடசல் போ...</td>\n",
       "      <td>NOT</td>\n",
       "    </tr>\n",
       "    <tr>\n",
       "      <th>650</th>\n",
       "      <td>tam_test_651</td>\n",
       "      <td>வாழ்த்துக்கள்,உண்மை கதை உலகத்துக்கு காட்டிய மோ...</td>\n",
       "      <td>NOT</td>\n",
       "    </tr>\n",
       "    <tr>\n",
       "      <th>651</th>\n",
       "      <td>tam_test_652</td>\n",
       "      <td>குருமா and பா..குஞ்சித் பயலுக கதர்ரது இன்னும் ...</td>\n",
       "      <td>NOT</td>\n",
       "    </tr>\n",
       "    <tr>\n",
       "      <th>652</th>\n",
       "      <td>tam_test_653</td>\n",
       "      <td>வெள்ளார்கள் சார்பாக படம் வெற்றி பெற வாழ்த்துக்...</td>\n",
       "      <td>NOT</td>\n",
       "    </tr>\n",
       "    <tr>\n",
       "      <th>653</th>\n",
       "      <td>tam_test_654</td>\n",
       "      <td>சமீபகாலமாக கால்பந்தாட்டத்தை மையப்படுத்தி தமிழ்...</td>\n",
       "      <td>NOT</td>\n",
       "    </tr>\n",
       "  </tbody>\n",
       "</table>\n",
       "<p>654 rows × 3 columns</p>\n",
       "</div>"
      ],
      "text/plain": [
       "               id                                               text category\n",
       "0      tam_test_1  தலைவா STR இதுக்குதான் கதுருந்தோம் மாஸ் தலைவா t...      NOT\n",
       "1      tam_test_2  நாயுடு மக்கள் சார்பாக திரைப்படம் வெற்றி பெற வா...      NOT\n",
       "2      tam_test_3                     தில்லானா முயற்சி  தஞ்சை கோனார்      NOT\n",
       "3      tam_test_4  திரௌபதியின் துகிலுறித்த போது காத்த கண்ணனின் யா...      NOT\n",
       "4      tam_test_5  நான் தியேட்டர்லே படம் பார்த்து 35 வருஷமாச்சு! ...      NOT\n",
       "..            ...                                                ...      ...\n",
       "649  tam_test_650  நான் தலைவரோட ரசிகன்னு சொல்லிடு தலைவரை ஒடசல் போ...      NOT\n",
       "650  tam_test_651  வாழ்த்துக்கள்,உண்மை கதை உலகத்துக்கு காட்டிய மோ...      NOT\n",
       "651  tam_test_652  குருமா and பா..குஞ்சித் பயலுக கதர்ரது இன்னும் ...      NOT\n",
       "652  tam_test_653  வெள்ளார்கள் சார்பாக படம் வெற்றி பெற வாழ்த்துக்...      NOT\n",
       "653  tam_test_654  சமீபகாலமாக கால்பந்தாட்டத்தை மையப்படுத்தி தமிழ்...      NOT\n",
       "\n",
       "[654 rows x 3 columns]"
      ]
     },
     "execution_count": 68,
     "metadata": {},
     "output_type": "execute_result"
    }
   ],
   "source": [
    "# Random Forest\n",
    "\n",
    "predictions = le.inverse_transform(rf_test_pred)\n",
    "\n",
    "dataframe_test_rf = {\n",
    "    'id': dataframe_test['id'],\n",
    "    'text': dataframe_test['text'],\n",
    "    'category': predictions\n",
    "}\n",
    "\n",
    "dataframe_test_rf = pd.DataFrame(dataframe_test_rf)\n",
    "dataframe_test_rf.to_csv(\"Output/IndicBert-RandomForest.csv\")\n",
    "dataframe_test_rf"
   ]
  },
  {
   "cell_type": "code",
   "execution_count": 69,
   "metadata": {
    "colab": {
     "base_uri": "https://localhost:8080/",
     "height": 424
    },
    "executionInfo": {
     "elapsed": 324,
     "status": "ok",
     "timestamp": 1633500676765,
     "user": {
      "displayName": "Srivarshan 19BAI1078",
      "photoUrl": "https://lh3.googleusercontent.com/a/default-user=s64",
      "userId": "03718411517360748676"
     },
     "user_tz": -330
    },
    "id": "pZdEL3mSOhBk",
    "outputId": "8e5d7eb4-8bf9-4af9-a8f5-47947cbe8c98"
   },
   "outputs": [
    {
     "data": {
      "text/html": [
       "<div>\n",
       "<style scoped>\n",
       "    .dataframe tbody tr th:only-of-type {\n",
       "        vertical-align: middle;\n",
       "    }\n",
       "\n",
       "    .dataframe tbody tr th {\n",
       "        vertical-align: top;\n",
       "    }\n",
       "\n",
       "    .dataframe thead th {\n",
       "        text-align: right;\n",
       "    }\n",
       "</style>\n",
       "<table border=\"1\" class=\"dataframe\">\n",
       "  <thead>\n",
       "    <tr style=\"text-align: right;\">\n",
       "      <th></th>\n",
       "      <th>id</th>\n",
       "      <th>text</th>\n",
       "      <th>category</th>\n",
       "    </tr>\n",
       "  </thead>\n",
       "  <tbody>\n",
       "    <tr>\n",
       "      <th>0</th>\n",
       "      <td>tam_test_1</td>\n",
       "      <td>தலைவா STR இதுக்குதான் கதுருந்தோம் மாஸ் தலைவா t...</td>\n",
       "      <td>NOT</td>\n",
       "    </tr>\n",
       "    <tr>\n",
       "      <th>1</th>\n",
       "      <td>tam_test_2</td>\n",
       "      <td>நாயுடு மக்கள் சார்பாக திரைப்படம் வெற்றி பெற வா...</td>\n",
       "      <td>NOT</td>\n",
       "    </tr>\n",
       "    <tr>\n",
       "      <th>2</th>\n",
       "      <td>tam_test_3</td>\n",
       "      <td>தில்லானா முயற்சி  தஞ்சை கோனார்</td>\n",
       "      <td>NOT</td>\n",
       "    </tr>\n",
       "    <tr>\n",
       "      <th>3</th>\n",
       "      <td>tam_test_4</td>\n",
       "      <td>திரௌபதியின் துகிலுறித்த போது காத்த கண்ணனின் யா...</td>\n",
       "      <td>NOT</td>\n",
       "    </tr>\n",
       "    <tr>\n",
       "      <th>4</th>\n",
       "      <td>tam_test_5</td>\n",
       "      <td>நான் தியேட்டர்லே படம் பார்த்து 35 வருஷமாச்சு! ...</td>\n",
       "      <td>OFF</td>\n",
       "    </tr>\n",
       "    <tr>\n",
       "      <th>...</th>\n",
       "      <td>...</td>\n",
       "      <td>...</td>\n",
       "      <td>...</td>\n",
       "    </tr>\n",
       "    <tr>\n",
       "      <th>649</th>\n",
       "      <td>tam_test_650</td>\n",
       "      <td>நான் தலைவரோட ரசிகன்னு சொல்லிடு தலைவரை ஒடசல் போ...</td>\n",
       "      <td>OFF</td>\n",
       "    </tr>\n",
       "    <tr>\n",
       "      <th>650</th>\n",
       "      <td>tam_test_651</td>\n",
       "      <td>வாழ்த்துக்கள்,உண்மை கதை உலகத்துக்கு காட்டிய மோ...</td>\n",
       "      <td>NOT</td>\n",
       "    </tr>\n",
       "    <tr>\n",
       "      <th>651</th>\n",
       "      <td>tam_test_652</td>\n",
       "      <td>குருமா and பா..குஞ்சித் பயலுக கதர்ரது இன்னும் ...</td>\n",
       "      <td>OFF</td>\n",
       "    </tr>\n",
       "    <tr>\n",
       "      <th>652</th>\n",
       "      <td>tam_test_653</td>\n",
       "      <td>வெள்ளார்கள் சார்பாக படம் வெற்றி பெற வாழ்த்துக்...</td>\n",
       "      <td>NOT</td>\n",
       "    </tr>\n",
       "    <tr>\n",
       "      <th>653</th>\n",
       "      <td>tam_test_654</td>\n",
       "      <td>சமீபகாலமாக கால்பந்தாட்டத்தை மையப்படுத்தி தமிழ்...</td>\n",
       "      <td>NOT</td>\n",
       "    </tr>\n",
       "  </tbody>\n",
       "</table>\n",
       "<p>654 rows × 3 columns</p>\n",
       "</div>"
      ],
      "text/plain": [
       "               id                                               text category\n",
       "0      tam_test_1  தலைவா STR இதுக்குதான் கதுருந்தோம் மாஸ் தலைவா t...      NOT\n",
       "1      tam_test_2  நாயுடு மக்கள் சார்பாக திரைப்படம் வெற்றி பெற வா...      NOT\n",
       "2      tam_test_3                     தில்லானா முயற்சி  தஞ்சை கோனார்      NOT\n",
       "3      tam_test_4  திரௌபதியின் துகிலுறித்த போது காத்த கண்ணனின் யா...      NOT\n",
       "4      tam_test_5  நான் தியேட்டர்லே படம் பார்த்து 35 வருஷமாச்சு! ...      OFF\n",
       "..            ...                                                ...      ...\n",
       "649  tam_test_650  நான் தலைவரோட ரசிகன்னு சொல்லிடு தலைவரை ஒடசல் போ...      OFF\n",
       "650  tam_test_651  வாழ்த்துக்கள்,உண்மை கதை உலகத்துக்கு காட்டிய மோ...      NOT\n",
       "651  tam_test_652  குருமா and பா..குஞ்சித் பயலுக கதர்ரது இன்னும் ...      OFF\n",
       "652  tam_test_653  வெள்ளார்கள் சார்பாக படம் வெற்றி பெற வாழ்த்துக்...      NOT\n",
       "653  tam_test_654  சமீபகாலமாக கால்பந்தாட்டத்தை மையப்படுத்தி தமிழ்...      NOT\n",
       "\n",
       "[654 rows x 3 columns]"
      ]
     },
     "execution_count": 69,
     "metadata": {},
     "output_type": "execute_result"
    }
   ],
   "source": [
    "# Majority Voting\n",
    "\n",
    "predictions = le.inverse_transform(mv_test_pred)\n",
    "\n",
    "dataframe_test_mv = {\n",
    "    'id': dataframe_test['id'],\n",
    "    'text': dataframe_test['text'],\n",
    "    'category': predictions\n",
    "}\n",
    "\n",
    "dataframe_test_mv = pd.DataFrame(dataframe_test_mv)\n",
    "dataframe_test_mv.to_csv(\"Output/IndicBert-MajorityVoting.csv\")\n",
    "dataframe_test_mv"
   ]
  },
  {
   "cell_type": "code",
   "execution_count": null,
   "metadata": {
    "id": "4MLaa5ZBOj-g"
   },
   "outputs": [],
   "source": []
  }
 ],
 "metadata": {
  "accelerator": "GPU",
  "colab": {
   "authorship_tag": "ABX9TyPAvige3CHgMWngtbp/NFM5",
   "collapsed_sections": [],
   "mount_file_id": "1EX38qhNi1UCK-6JcHMLrQOHKf3CwQKEN",
   "name": "IndicBert.ipynb",
   "provenance": []
  },
  "kernelspec": {
   "display_name": "Python 3 (ipykernel)",
   "language": "python",
   "name": "python3"
  },
  "language_info": {
   "codemirror_mode": {
    "name": "ipython",
    "version": 3
   },
   "file_extension": ".py",
   "mimetype": "text/x-python",
   "name": "python",
   "nbconvert_exporter": "python",
   "pygments_lexer": "ipython3",
   "version": "3.10.1"
  }
 },
 "nbformat": 4,
 "nbformat_minor": 4
}
