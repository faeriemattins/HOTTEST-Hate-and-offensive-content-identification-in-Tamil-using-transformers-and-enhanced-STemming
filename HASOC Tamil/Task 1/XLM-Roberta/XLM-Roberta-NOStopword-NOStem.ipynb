{
  "cells": [
    {
      "cell_type": "markdown",
      "metadata": {
        "id": "WQuHH8lFOLcP"
      },
      "source": [
        "## **Setting up Development Environment**"
      ]
    },
    {
      "cell_type": "code",
      "execution_count": 2,
      "metadata": {
        "colab": {
          "base_uri": "https://localhost:8080/"
        },
        "id": "uu4Du1Kh3cFa",
        "outputId": "8ee29f7d-0d33-45c1-8a9d-6825dc74fc61"
      },
      "outputs": [
        {
          "output_type": "stream",
          "name": "stdout",
          "text": [
            "Drive already mounted at /content/drive; to attempt to forcibly remount, call drive.mount(\"/content/drive\", force_remount=True).\n"
          ]
        }
      ],
      "source": [
        "from google.colab import drive\n",
        "drive.mount('/content/drive')"
      ]
    },
    {
      "cell_type": "code",
      "execution_count": 3,
      "metadata": {
        "colab": {
          "base_uri": "https://localhost:8080/"
        },
        "id": "B85IYp3yOWLc",
        "outputId": "0ecdb5f2-f2ca-4378-b918-518d961d10a3"
      },
      "outputs": [
        {
          "output_type": "stream",
          "name": "stdout",
          "text": [
            "/content/drive/MyDrive/Colab Notebooks/Hate-Speech-Detection-in-Tamil/HASOC Tamil/Task 1\n"
          ]
        }
      ],
      "source": [
        "% cd /content/drive/MyDrive/Colab Notebooks/Hate-Speech-Detection-in-Tamil/HASOC Tamil/Task 1"
      ]
    },
    {
      "cell_type": "code",
      "execution_count": 4,
      "metadata": {
        "colab": {
          "base_uri": "https://localhost:8080/"
        },
        "id": "ZDshMJ7-fkmL",
        "outputId": "61d6cc7b-975f-43f0-942c-a2dd7766aec3"
      },
      "outputs": [
        {
          "output_type": "stream",
          "name": "stdout",
          "text": [
            "\u001b[K     |████████████████████████████████| 3.4 MB 12.6 MB/s \n",
            "\u001b[K     |████████████████████████████████| 596 kB 46.8 MB/s \n",
            "\u001b[K     |████████████████████████████████| 3.3 MB 43.4 MB/s \n",
            "\u001b[K     |████████████████████████████████| 61 kB 541 kB/s \n",
            "\u001b[K     |████████████████████████████████| 895 kB 51.9 MB/s \n",
            "\u001b[K     |████████████████████████████████| 1.2 MB 9.1 MB/s \n",
            "\u001b[?25h"
          ]
        }
      ],
      "source": [
        "! pip install -U -q transformers\n",
        "! pip install -U -q sentencepiece"
      ]
    },
    {
      "cell_type": "markdown",
      "metadata": {
        "id": "eRv9-m1JOdQ5"
      },
      "source": [
        "## **Importing Libraries**"
      ]
    },
    {
      "cell_type": "code",
      "execution_count": 5,
      "metadata": {
        "id": "APy2U3pfObp0"
      },
      "outputs": [],
      "source": [
        "import pandas as pd\n",
        "\n",
        "import numpy as np\n",
        "\n",
        "from sklearn.preprocessing import LabelEncoder\n",
        "from sklearn.feature_extraction.text import TfidfVectorizer\n",
        "from sklearn.model_selection import train_test_split\n",
        "from sklearn.linear_model import LogisticRegression\n",
        "from sklearn.svm import SVC\n",
        "from sklearn.naive_bayes import GaussianNB\n",
        "from sklearn.linear_model import SGDClassifier\n",
        "from sklearn.neighbors import KNeighborsClassifier\n",
        "from sklearn.tree import DecisionTreeClassifier\n",
        "from sklearn.ensemble import RandomForestClassifier\n",
        "from sklearn.metrics import classification_report\n",
        "\n",
        "from transformers import RobertaTokenizer, RobertaModel\n",
        "\n",
        "import pickle"
      ]
    },
    {
      "cell_type": "markdown",
      "metadata": {
        "id": "Ob6l5HOZOsZ7"
      },
      "source": [
        "## **Loading Data**"
      ]
    },
    {
      "cell_type": "code",
      "execution_count": 6,
      "metadata": {
        "id": "_MKm6-4eOpNF"
      },
      "outputs": [],
      "source": [
        "dataframe = pd.read_csv(\"Dataset/tamil_offensive_train.tsv\", sep='\\t')"
      ]
    },
    {
      "cell_type": "code",
      "execution_count": 7,
      "metadata": {
        "colab": {
          "base_uri": "https://localhost:8080/",
          "height": 206
        },
        "id": "9krG1I0nOv4s",
        "outputId": "21128ae9-37b3-4e07-8734-3e5c65a959b9"
      },
      "outputs": [
        {
          "output_type": "execute_result",
          "data": {
            "text/html": [
              "\n",
              "  <div id=\"df-976025e1-5090-4d1d-81b0-c966a66a14cc\">\n",
              "    <div class=\"colab-df-container\">\n",
              "      <div>\n",
              "<style scoped>\n",
              "    .dataframe tbody tr th:only-of-type {\n",
              "        vertical-align: middle;\n",
              "    }\n",
              "\n",
              "    .dataframe tbody tr th {\n",
              "        vertical-align: top;\n",
              "    }\n",
              "\n",
              "    .dataframe thead th {\n",
              "        text-align: right;\n",
              "    }\n",
              "</style>\n",
              "<table border=\"1\" class=\"dataframe\">\n",
              "  <thead>\n",
              "    <tr style=\"text-align: right;\">\n",
              "      <th></th>\n",
              "      <th>id</th>\n",
              "      <th>text</th>\n",
              "      <th>category</th>\n",
              "    </tr>\n",
              "  </thead>\n",
              "  <tbody>\n",
              "    <tr>\n",
              "      <th>0</th>\n",
              "      <td>tam1</td>\n",
              "      <td>திருமலை நாயக்கர் பேரவை சார்பாக படம் வெற்றி பெற...</td>\n",
              "      <td>NOT</td>\n",
              "    </tr>\n",
              "    <tr>\n",
              "      <th>1</th>\n",
              "      <td>tam2</td>\n",
              "      <td>இந்த ட்ரெய்லர் கூட பார்க்கிற மாதிரி இல்லை.. இத...</td>\n",
              "      <td>OFF</td>\n",
              "    </tr>\n",
              "    <tr>\n",
              "      <th>2</th>\n",
              "      <td>tam3</td>\n",
              "      <td>மைசூரு செட்டியார் சமூகத்தின் சார்பாக இப்படம் வ...</td>\n",
              "      <td>NOT</td>\n",
              "    </tr>\n",
              "    <tr>\n",
              "      <th>3</th>\n",
              "      <td>tam4</td>\n",
              "      <td>மொத்த சாதியும் ஒரு சாதிக்கு எதிரா நிக்குது.......</td>\n",
              "      <td>OFF</td>\n",
              "    </tr>\n",
              "    <tr>\n",
              "      <th>4</th>\n",
              "      <td>tam5</td>\n",
              "      <td>only for விஜய் சேதுபதி and STR</td>\n",
              "      <td>NOT</td>\n",
              "    </tr>\n",
              "  </tbody>\n",
              "</table>\n",
              "</div>\n",
              "      <button class=\"colab-df-convert\" onclick=\"convertToInteractive('df-976025e1-5090-4d1d-81b0-c966a66a14cc')\"\n",
              "              title=\"Convert this dataframe to an interactive table.\"\n",
              "              style=\"display:none;\">\n",
              "        \n",
              "  <svg xmlns=\"http://www.w3.org/2000/svg\" height=\"24px\"viewBox=\"0 0 24 24\"\n",
              "       width=\"24px\">\n",
              "    <path d=\"M0 0h24v24H0V0z\" fill=\"none\"/>\n",
              "    <path d=\"M18.56 5.44l.94 2.06.94-2.06 2.06-.94-2.06-.94-.94-2.06-.94 2.06-2.06.94zm-11 1L8.5 8.5l.94-2.06 2.06-.94-2.06-.94L8.5 2.5l-.94 2.06-2.06.94zm10 10l.94 2.06.94-2.06 2.06-.94-2.06-.94-.94-2.06-.94 2.06-2.06.94z\"/><path d=\"M17.41 7.96l-1.37-1.37c-.4-.4-.92-.59-1.43-.59-.52 0-1.04.2-1.43.59L10.3 9.45l-7.72 7.72c-.78.78-.78 2.05 0 2.83L4 21.41c.39.39.9.59 1.41.59.51 0 1.02-.2 1.41-.59l7.78-7.78 2.81-2.81c.8-.78.8-2.07 0-2.86zM5.41 20L4 18.59l7.72-7.72 1.47 1.35L5.41 20z\"/>\n",
              "  </svg>\n",
              "      </button>\n",
              "      \n",
              "  <style>\n",
              "    .colab-df-container {\n",
              "      display:flex;\n",
              "      flex-wrap:wrap;\n",
              "      gap: 12px;\n",
              "    }\n",
              "\n",
              "    .colab-df-convert {\n",
              "      background-color: #E8F0FE;\n",
              "      border: none;\n",
              "      border-radius: 50%;\n",
              "      cursor: pointer;\n",
              "      display: none;\n",
              "      fill: #1967D2;\n",
              "      height: 32px;\n",
              "      padding: 0 0 0 0;\n",
              "      width: 32px;\n",
              "    }\n",
              "\n",
              "    .colab-df-convert:hover {\n",
              "      background-color: #E2EBFA;\n",
              "      box-shadow: 0px 1px 2px rgba(60, 64, 67, 0.3), 0px 1px 3px 1px rgba(60, 64, 67, 0.15);\n",
              "      fill: #174EA6;\n",
              "    }\n",
              "\n",
              "    [theme=dark] .colab-df-convert {\n",
              "      background-color: #3B4455;\n",
              "      fill: #D2E3FC;\n",
              "    }\n",
              "\n",
              "    [theme=dark] .colab-df-convert:hover {\n",
              "      background-color: #434B5C;\n",
              "      box-shadow: 0px 1px 3px 1px rgba(0, 0, 0, 0.15);\n",
              "      filter: drop-shadow(0px 1px 2px rgba(0, 0, 0, 0.3));\n",
              "      fill: #FFFFFF;\n",
              "    }\n",
              "  </style>\n",
              "\n",
              "      <script>\n",
              "        const buttonEl =\n",
              "          document.querySelector('#df-976025e1-5090-4d1d-81b0-c966a66a14cc button.colab-df-convert');\n",
              "        buttonEl.style.display =\n",
              "          google.colab.kernel.accessAllowed ? 'block' : 'none';\n",
              "\n",
              "        async function convertToInteractive(key) {\n",
              "          const element = document.querySelector('#df-976025e1-5090-4d1d-81b0-c966a66a14cc');\n",
              "          const dataTable =\n",
              "            await google.colab.kernel.invokeFunction('convertToInteractive',\n",
              "                                                     [key], {});\n",
              "          if (!dataTable) return;\n",
              "\n",
              "          const docLinkHtml = 'Like what you see? Visit the ' +\n",
              "            '<a target=\"_blank\" href=https://colab.research.google.com/notebooks/data_table.ipynb>data table notebook</a>'\n",
              "            + ' to learn more about interactive tables.';\n",
              "          element.innerHTML = '';\n",
              "          dataTable['output_type'] = 'display_data';\n",
              "          await google.colab.output.renderOutput(dataTable, element);\n",
              "          const docLink = document.createElement('div');\n",
              "          docLink.innerHTML = docLinkHtml;\n",
              "          element.appendChild(docLink);\n",
              "        }\n",
              "      </script>\n",
              "    </div>\n",
              "  </div>\n",
              "  "
            ],
            "text/plain": [
              "     id                                               text category\n",
              "0  tam1  திருமலை நாயக்கர் பேரவை சார்பாக படம் வெற்றி பெற...      NOT\n",
              "1  tam2  இந்த ட்ரெய்லர் கூட பார்க்கிற மாதிரி இல்லை.. இத...      OFF\n",
              "2  tam3  மைசூரு செட்டியார் சமூகத்தின் சார்பாக இப்படம் வ...      NOT\n",
              "3  tam4  மொத்த சாதியும் ஒரு சாதிக்கு எதிரா நிக்குது.......      OFF\n",
              "4  tam5                     only for விஜய் சேதுபதி and STR      NOT"
            ]
          },
          "metadata": {},
          "execution_count": 7
        }
      ],
      "source": [
        "dataframe.head()"
      ]
    },
    {
      "cell_type": "code",
      "execution_count": 8,
      "metadata": {
        "colab": {
          "base_uri": "https://localhost:8080/",
          "height": 174
        },
        "id": "GG8d6pJzOxjX",
        "outputId": "45c5ae26-0af8-48dc-c661-e43710e757e2"
      },
      "outputs": [
        {
          "output_type": "execute_result",
          "data": {
            "text/html": [
              "\n",
              "  <div id=\"df-0057cf6e-d8a1-40d9-8b91-b0ccb0776f3c\">\n",
              "    <div class=\"colab-df-container\">\n",
              "      <div>\n",
              "<style scoped>\n",
              "    .dataframe tbody tr th:only-of-type {\n",
              "        vertical-align: middle;\n",
              "    }\n",
              "\n",
              "    .dataframe tbody tr th {\n",
              "        vertical-align: top;\n",
              "    }\n",
              "\n",
              "    .dataframe thead th {\n",
              "        text-align: right;\n",
              "    }\n",
              "</style>\n",
              "<table border=\"1\" class=\"dataframe\">\n",
              "  <thead>\n",
              "    <tr style=\"text-align: right;\">\n",
              "      <th></th>\n",
              "      <th>id</th>\n",
              "      <th>text</th>\n",
              "      <th>category</th>\n",
              "    </tr>\n",
              "  </thead>\n",
              "  <tbody>\n",
              "    <tr>\n",
              "      <th>count</th>\n",
              "      <td>5880</td>\n",
              "      <td>5880</td>\n",
              "      <td>5880</td>\n",
              "    </tr>\n",
              "    <tr>\n",
              "      <th>unique</th>\n",
              "      <td>5880</td>\n",
              "      <td>5812</td>\n",
              "      <td>3</td>\n",
              "    </tr>\n",
              "    <tr>\n",
              "      <th>top</th>\n",
              "      <td>tam2541</td>\n",
              "      <td>வந்தா ராஜாவா தான் வருவேன்........ ராஜாவா வந்தா...</td>\n",
              "      <td>NOT</td>\n",
              "    </tr>\n",
              "    <tr>\n",
              "      <th>freq</th>\n",
              "      <td>1</td>\n",
              "      <td>5</td>\n",
              "      <td>4724</td>\n",
              "    </tr>\n",
              "  </tbody>\n",
              "</table>\n",
              "</div>\n",
              "      <button class=\"colab-df-convert\" onclick=\"convertToInteractive('df-0057cf6e-d8a1-40d9-8b91-b0ccb0776f3c')\"\n",
              "              title=\"Convert this dataframe to an interactive table.\"\n",
              "              style=\"display:none;\">\n",
              "        \n",
              "  <svg xmlns=\"http://www.w3.org/2000/svg\" height=\"24px\"viewBox=\"0 0 24 24\"\n",
              "       width=\"24px\">\n",
              "    <path d=\"M0 0h24v24H0V0z\" fill=\"none\"/>\n",
              "    <path d=\"M18.56 5.44l.94 2.06.94-2.06 2.06-.94-2.06-.94-.94-2.06-.94 2.06-2.06.94zm-11 1L8.5 8.5l.94-2.06 2.06-.94-2.06-.94L8.5 2.5l-.94 2.06-2.06.94zm10 10l.94 2.06.94-2.06 2.06-.94-2.06-.94-.94-2.06-.94 2.06-2.06.94z\"/><path d=\"M17.41 7.96l-1.37-1.37c-.4-.4-.92-.59-1.43-.59-.52 0-1.04.2-1.43.59L10.3 9.45l-7.72 7.72c-.78.78-.78 2.05 0 2.83L4 21.41c.39.39.9.59 1.41.59.51 0 1.02-.2 1.41-.59l7.78-7.78 2.81-2.81c.8-.78.8-2.07 0-2.86zM5.41 20L4 18.59l7.72-7.72 1.47 1.35L5.41 20z\"/>\n",
              "  </svg>\n",
              "      </button>\n",
              "      \n",
              "  <style>\n",
              "    .colab-df-container {\n",
              "      display:flex;\n",
              "      flex-wrap:wrap;\n",
              "      gap: 12px;\n",
              "    }\n",
              "\n",
              "    .colab-df-convert {\n",
              "      background-color: #E8F0FE;\n",
              "      border: none;\n",
              "      border-radius: 50%;\n",
              "      cursor: pointer;\n",
              "      display: none;\n",
              "      fill: #1967D2;\n",
              "      height: 32px;\n",
              "      padding: 0 0 0 0;\n",
              "      width: 32px;\n",
              "    }\n",
              "\n",
              "    .colab-df-convert:hover {\n",
              "      background-color: #E2EBFA;\n",
              "      box-shadow: 0px 1px 2px rgba(60, 64, 67, 0.3), 0px 1px 3px 1px rgba(60, 64, 67, 0.15);\n",
              "      fill: #174EA6;\n",
              "    }\n",
              "\n",
              "    [theme=dark] .colab-df-convert {\n",
              "      background-color: #3B4455;\n",
              "      fill: #D2E3FC;\n",
              "    }\n",
              "\n",
              "    [theme=dark] .colab-df-convert:hover {\n",
              "      background-color: #434B5C;\n",
              "      box-shadow: 0px 1px 3px 1px rgba(0, 0, 0, 0.15);\n",
              "      filter: drop-shadow(0px 1px 2px rgba(0, 0, 0, 0.3));\n",
              "      fill: #FFFFFF;\n",
              "    }\n",
              "  </style>\n",
              "\n",
              "      <script>\n",
              "        const buttonEl =\n",
              "          document.querySelector('#df-0057cf6e-d8a1-40d9-8b91-b0ccb0776f3c button.colab-df-convert');\n",
              "        buttonEl.style.display =\n",
              "          google.colab.kernel.accessAllowed ? 'block' : 'none';\n",
              "\n",
              "        async function convertToInteractive(key) {\n",
              "          const element = document.querySelector('#df-0057cf6e-d8a1-40d9-8b91-b0ccb0776f3c');\n",
              "          const dataTable =\n",
              "            await google.colab.kernel.invokeFunction('convertToInteractive',\n",
              "                                                     [key], {});\n",
              "          if (!dataTable) return;\n",
              "\n",
              "          const docLinkHtml = 'Like what you see? Visit the ' +\n",
              "            '<a target=\"_blank\" href=https://colab.research.google.com/notebooks/data_table.ipynb>data table notebook</a>'\n",
              "            + ' to learn more about interactive tables.';\n",
              "          element.innerHTML = '';\n",
              "          dataTable['output_type'] = 'display_data';\n",
              "          await google.colab.output.renderOutput(dataTable, element);\n",
              "          const docLink = document.createElement('div');\n",
              "          docLink.innerHTML = docLinkHtml;\n",
              "          element.appendChild(docLink);\n",
              "        }\n",
              "      </script>\n",
              "    </div>\n",
              "  </div>\n",
              "  "
            ],
            "text/plain": [
              "             id                                               text category\n",
              "count      5880                                               5880     5880\n",
              "unique     5880                                               5812        3\n",
              "top     tam2541  வந்தா ராஜாவா தான் வருவேன்........ ராஜாவா வந்தா...      NOT\n",
              "freq          1                                                  5     4724"
            ]
          },
          "metadata": {},
          "execution_count": 8
        }
      ],
      "source": [
        "dataframe.describe()"
      ]
    },
    {
      "cell_type": "code",
      "execution_count": 9,
      "metadata": {
        "colab": {
          "base_uri": "https://localhost:8080/"
        },
        "id": "eN25yq9qOzRE",
        "outputId": "489b5a98-6dd6-4dc8-8bf9-c26b567c08f9"
      },
      "outputs": [
        {
          "output_type": "execute_result",
          "data": {
            "text/plain": [
              "array(['NOT', 'OFF', 'not-Tamil'], dtype=object)"
            ]
          },
          "metadata": {},
          "execution_count": 9
        }
      ],
      "source": [
        "dataframe['category'].unique()"
      ]
    },
    {
      "cell_type": "code",
      "execution_count": 10,
      "metadata": {
        "colab": {
          "base_uri": "https://localhost:8080/"
        },
        "id": "aZv2qX_IO1cg",
        "outputId": "4c6669af-65e8-46af-978e-289e83dbf2b5"
      },
      "outputs": [
        {
          "output_type": "execute_result",
          "data": {
            "text/plain": [
              "(5880, 3)"
            ]
          },
          "metadata": {},
          "execution_count": 10
        }
      ],
      "source": [
        "dataframe.shape"
      ]
    },
    {
      "cell_type": "code",
      "execution_count": 11,
      "metadata": {
        "colab": {
          "base_uri": "https://localhost:8080/"
        },
        "id": "_p2ZI6V9O3S6",
        "outputId": "ee0c684f-bedb-4b98-e6ed-4bf9de591050"
      },
      "outputs": [
        {
          "output_type": "execute_result",
          "data": {
            "text/plain": [
              "array(['NOT', 'OFF'], dtype=object)"
            ]
          },
          "metadata": {},
          "execution_count": 11
        }
      ],
      "source": [
        "dataframe = dataframe.loc[dataframe['category'] != 'not-Tamil']\n",
        "dataframe['category'].unique()"
      ]
    },
    {
      "cell_type": "code",
      "execution_count": 12,
      "metadata": {
        "colab": {
          "base_uri": "https://localhost:8080/"
        },
        "id": "vbXmfXW2O5UG",
        "outputId": "2c43e856-9bcb-401c-fc26-9d300b3779d9"
      },
      "outputs": [
        {
          "output_type": "execute_result",
          "data": {
            "text/plain": [
              "(5877, 3)"
            ]
          },
          "metadata": {},
          "execution_count": 12
        }
      ],
      "source": [
        "dataframe.shape"
      ]
    },
    {
      "cell_type": "code",
      "execution_count": 13,
      "metadata": {
        "id": "NK_0OsM8PBD1"
      },
      "outputs": [],
      "source": [
        "text = dataframe['text']"
      ]
    },
    {
      "cell_type": "code",
      "execution_count": 14,
      "metadata": {
        "colab": {
          "base_uri": "https://localhost:8080/"
        },
        "id": "Y0Pca_2EPCvx",
        "outputId": "afaa5009-e9da-499e-a228-aeb3f4aba2c1"
      },
      "outputs": [
        {
          "output_type": "execute_result",
          "data": {
            "text/plain": [
              "0       திருமலை நாயக்கர் பேரவை சார்பாக படம் வெற்றி பெற...\n",
              "1       இந்த ட்ரெய்லர் கூட பார்க்கிற மாதிரி இல்லை.. இத...\n",
              "2       மைசூரு செட்டியார் சமூகத்தின் சார்பாக இப்படம் வ...\n",
              "3       மொத்த சாதியும் ஒரு சாதிக்கு எதிரா நிக்குது.......\n",
              "4                          only for விஜய் சேதுபதி and STR\n",
              "                              ...                        \n",
              "5875    இப்போதான் ஜாதி பிரச்சினை இல்லாம இருக்கு இப்போ ...\n",
              "5876    இது ஒரு சாதி ரீதியான படம் இல்லை தான் செல்லும் ...\n",
              "5877    கதை தெரியவில்லை  இருந்தாலும் மாறுபட்ட சிந்தனை ...\n",
              "5878    அட பரவால்லையே 8.5 டிஸ்லைக்ஸ் போட்ருக்கானுங்க.....\n",
              "5879    உதயநிதிக்கு நடிப்பு வரலனு சொல்ரவங்க லைக் போடுங...\n",
              "Name: text, Length: 5877, dtype: object"
            ]
          },
          "metadata": {},
          "execution_count": 14
        }
      ],
      "source": [
        "text"
      ]
    },
    {
      "cell_type": "code",
      "execution_count": 15,
      "metadata": {
        "id": "pr3rfJryPEnq"
      },
      "outputs": [],
      "source": [
        "label = dataframe['category']"
      ]
    },
    {
      "cell_type": "code",
      "execution_count": 16,
      "metadata": {
        "colab": {
          "base_uri": "https://localhost:8080/"
        },
        "id": "vaoHyNetPGMC",
        "outputId": "5f3e0f7d-c24e-4d52-ec49-d3388962f95f"
      },
      "outputs": [
        {
          "output_type": "execute_result",
          "data": {
            "text/plain": [
              "0       NOT\n",
              "1       OFF\n",
              "2       NOT\n",
              "3       OFF\n",
              "4       NOT\n",
              "       ... \n",
              "5875    NOT\n",
              "5876    NOT\n",
              "5877    NOT\n",
              "5878    OFF\n",
              "5879    NOT\n",
              "Name: category, Length: 5877, dtype: object"
            ]
          },
          "metadata": {},
          "execution_count": 16
        }
      ],
      "source": [
        "label"
      ]
    },
    {
      "cell_type": "markdown",
      "metadata": {
        "id": "eUnm-JhVPJ2F"
      },
      "source": [
        "## **Data Preprocessing**"
      ]
    },
    {
      "cell_type": "code",
      "execution_count": 17,
      "metadata": {
        "colab": {
          "base_uri": "https://localhost:8080/"
        },
        "id": "nUI5zKCsPHs5",
        "outputId": "26346c3b-f65e-4305-81d9-718fbff9f83e"
      },
      "outputs": [
        {
          "output_type": "execute_result",
          "data": {
            "text/plain": [
              "array([0, 1, 0, ..., 0, 1, 0])"
            ]
          },
          "metadata": {},
          "execution_count": 17
        }
      ],
      "source": [
        "le = LabelEncoder()\n",
        "label = le.fit_transform(label)\n",
        "label"
      ]
    },
    {
      "cell_type": "code",
      "execution_count": 18,
      "metadata": {
        "colab": {
          "base_uri": "https://localhost:8080/"
        },
        "id": "eoEYaji1PNeN",
        "outputId": "2a948c3e-fa2d-4200-d7f1-ee3e54e3fed8"
      },
      "outputs": [
        {
          "output_type": "execute_result",
          "data": {
            "text/plain": [
              "array(['திருமலை நாயக்கர் பேரவை சார்பாக படம் வெற்றி பெற வாழ்த்துக்கள்',\n",
              "       'இந்த ட்ரெய்லர் கூட பார்க்கிற மாதிரி இல்லை.. இதை தியேட்டர் ல போய் பார்க்கனுமா.. .',\n",
              "       'மைசூரு செட்டியார் சமூகத்தின் சார்பாக இப்படம் வெற்றிபெற வாழ்த்துகிறேன்',\n",
              "       ...,\n",
              "       'கதை தெரியவில்லை  இருந்தாலும் மாறுபட்ட சிந்தனை வாழ்த்துக்கள்  பறையர் சார்பாக  நன்றி மோகன் ஜி',\n",
              "       'அட பரவால்லையே 8.5 டிஸ்லைக்ஸ் போட்ருக்கானுங்க.. பரவால வயிறு எறிஞ்சி சாவுங்கடா சாவுங்கடா சாக்காடை நாய்ங்களா..இன்னும் நிறைய டிஸ்லைக்ஸ் எதிர் பாக்குறன்..',\n",
              "       'உதயநிதிக்கு நடிப்பு வரலனு சொல்ரவங்க லைக் போடுங்கள் ...'],\n",
              "      dtype=object)"
            ]
          },
          "metadata": {},
          "execution_count": 18
        }
      ],
      "source": [
        "text = text.str.replace(r\"[+/#@&*$%:]\",'')\n",
        "text = text.to_numpy()\n",
        "text"
      ]
    },
    {
      "cell_type": "markdown",
      "metadata": {
        "id": "pPrWujPhfLrM"
      },
      "source": [
        "## **Feature Extraction**"
      ]
    },
    {
      "cell_type": "code",
      "execution_count": 19,
      "metadata": {
        "colab": {
          "base_uri": "https://localhost:8080/",
          "height": 251,
          "referenced_widgets": [
            "660da3e56f97436a914485e560cd5d4f",
            "0f747df77c184e25b2873b9cbfd0a8a1",
            "ea0b3e7d0f094fc3a2cb1001aa4f9319",
            "5a8b316c91cd46a4a7ec753730cd450a",
            "809cd0c5a9ab450eb8fd3537772dd282",
            "13ce4a59eddf4846a3804d48c041dd64",
            "2690c8b75e10441cb01abf376c1e09e7",
            "b3c921e14d4e4a708dea6c784843fe5d",
            "a693066fd73343b8bb8338e63a88da63",
            "28cede15ded54c2497511364e7ccf1a5",
            "cbb1585edbcb4069a2c2c9ac220398d1",
            "4288f2c85e4641bfb8eb1a3fca9dd108",
            "ef994e149e4e49dbb65d7644ac6da3db",
            "429fec637c3840209a08eee377959b6e",
            "8168f5aac783499c9b27de2a5a34f3bd",
            "e979ce8191864d958f7f86003cabba14",
            "222914812c864c5c8d300ef07120f7a5",
            "7afe30fa5b8f456e88b6cab155378d8a",
            "46ef5021f67f41ae80d7a6ccbfd7f965",
            "76142ce415f94ff29e364219aa7eccc1",
            "09a0e95ca41f45e6883d5f297f6145a5",
            "4ff8b5dd94164a9f8fa964af6286b666",
            "d79f497e49d54bc89829b9fdd397e449",
            "15624429fa3c4b41a428a63d03a53d2f",
            "ba85dc12670a4ae9ba6eb0a91119cdda",
            "e9401028d1cd4aca9bd18da49c4d8032",
            "611718b2bcfe4af7bb931877d9bd6c55",
            "dc5b031a1efe4ecfb39fd328c400f39c",
            "1709b3c9879544d6b71df9f11c562432",
            "f78070405f8447c2ad259fe40f1ed728",
            "e8354b5cbd614a1ebac75cf311de3be4",
            "2bfa02d015064a98b0d49198acbfb658",
            "34b45a2f80c745abac3931ab06fdc241",
            "597f2291739f4cd084420508d0815c0e",
            "cdab4576971340e2a9a65f723986aea1",
            "f16d0578a92946888fee0b81180215fc",
            "6bda25f949da4379ac448a5ee6978a13",
            "60951e123f204d7e844c390d493a9305",
            "244bea53db3a47ed94901659a6a73d4d",
            "84ab1cd337074b289a1cab9c10c7cf8b",
            "3775da5207a6421fb016c8b3a10475bd",
            "f7032cf5c5f54d4c81d8a0fdc05a6fb7",
            "777ade4831504b85a00d6c02f81215e4",
            "d52f5ab693bb4a17b9626d6470727de2",
            "12af27b2b1e6496aba9f6b8ff3807337",
            "26b9ea0368f5417980da15380f5877ed",
            "c230df2d927745b996995724a7795f51",
            "8c6af6bc8ec44995ace481e6f40c94a7",
            "fae838e5ca89446286964aaa2418ba5b",
            "f0d0398393e740ff849ee6218e5004cb",
            "a58c79424de941768aab0f830e266b27",
            "5fa236be810545f6a057d1d641f24f19",
            "3da0c3010c7b42b4a5756f8d038a0701",
            "dead67d1e5814e5c935ea17ce986cbc9",
            "346e9042ba934288894cf185a107dd36"
          ]
        },
        "id": "QKuBIR01fHXW",
        "outputId": "64bd8097-3075-4265-d57f-27a330a629ca"
      },
      "outputs": [
        {
          "output_type": "display_data",
          "data": {
            "application/vnd.jupyter.widget-view+json": {
              "model_id": "660da3e56f97436a914485e560cd5d4f",
              "version_minor": 0,
              "version_major": 2
            },
            "text/plain": [
              "Downloading:   0%|          | 0.00/878k [00:00<?, ?B/s]"
            ]
          },
          "metadata": {}
        },
        {
          "output_type": "display_data",
          "data": {
            "application/vnd.jupyter.widget-view+json": {
              "model_id": "4288f2c85e4641bfb8eb1a3fca9dd108",
              "version_minor": 0,
              "version_major": 2
            },
            "text/plain": [
              "Downloading:   0%|          | 0.00/446k [00:00<?, ?B/s]"
            ]
          },
          "metadata": {}
        },
        {
          "output_type": "display_data",
          "data": {
            "application/vnd.jupyter.widget-view+json": {
              "model_id": "d79f497e49d54bc89829b9fdd397e449",
              "version_minor": 0,
              "version_major": 2
            },
            "text/plain": [
              "Downloading:   0%|          | 0.00/1.29M [00:00<?, ?B/s]"
            ]
          },
          "metadata": {}
        },
        {
          "output_type": "display_data",
          "data": {
            "application/vnd.jupyter.widget-view+json": {
              "model_id": "597f2291739f4cd084420508d0815c0e",
              "version_minor": 0,
              "version_major": 2
            },
            "text/plain": [
              "Downloading:   0%|          | 0.00/481 [00:00<?, ?B/s]"
            ]
          },
          "metadata": {}
        },
        {
          "output_type": "display_data",
          "data": {
            "application/vnd.jupyter.widget-view+json": {
              "model_id": "12af27b2b1e6496aba9f6b8ff3807337",
              "version_minor": 0,
              "version_major": 2
            },
            "text/plain": [
              "Downloading:   0%|          | 0.00/478M [00:00<?, ?B/s]"
            ]
          },
          "metadata": {}
        },
        {
          "output_type": "stream",
          "name": "stderr",
          "text": [
            "Some weights of the model checkpoint at roberta-base were not used when initializing RobertaModel: ['lm_head.layer_norm.weight', 'lm_head.dense.bias', 'lm_head.decoder.weight', 'lm_head.dense.weight', 'lm_head.bias', 'lm_head.layer_norm.bias']\n",
            "- This IS expected if you are initializing RobertaModel from the checkpoint of a model trained on another task or with another architecture (e.g. initializing a BertForSequenceClassification model from a BertForPreTraining model).\n",
            "- This IS NOT expected if you are initializing RobertaModel from the checkpoint of a model that you expect to be exactly identical (initializing a BertForSequenceClassification model from a BertForSequenceClassification model).\n"
          ]
        }
      ],
      "source": [
        "# Load Transformer Model\n",
        "\n",
        "tokenizer = RobertaTokenizer.from_pretrained('roberta-base')\n",
        "model = RobertaModel.from_pretrained('roberta-base')"
      ]
    },
    {
      "cell_type": "code",
      "execution_count": 20,
      "metadata": {
        "id": "uZ8EYHrmgZBa"
      },
      "outputs": [],
      "source": [
        "# Sample Output\n",
        "\n",
        "tokenized_input = tokenizer(\n",
        "        text[0],\n",
        "        padding=True,\n",
        "        truncation=False,\n",
        "        return_tensors='pt'\n",
        "    )\n",
        "\n",
        "sample_output = model(**tokenized_input)"
      ]
    },
    {
      "cell_type": "code",
      "execution_count": 21,
      "metadata": {
        "colab": {
          "base_uri": "https://localhost:8080/"
        },
        "id": "xmPnzKAJkD5k",
        "outputId": "294699fa-3235-4f86-f577-4ff855d30a52"
      },
      "outputs": [
        {
          "output_type": "stream",
          "name": "stdout",
          "text": [
            "{'input_ids': tensor([[    0, 12798,  2840, 10470, 12798,  2840,  9470, 12798,  2840,  7487,\n",
            "         12798, 10965, 10172, 12798,  2840,  2840, 12798,  2840, 14292, 12798,\n",
            "         10965, 23133,  1437, 12798,  2840, 11423, 12798,  2840,  4726, 12798,\n",
            "          2840, 10965, 12798,  2840, 15722, 12798, 10965,  8384, 12798,  2840,\n",
            "         15722, 12798,  2840,  7487, 12798, 10965,  8384,  1437, 12798,  2840,\n",
            "         10278, 12798, 10965,  6382, 12798,  2840,  7487, 12798,  2840,  8906,\n",
            "         12798, 10965, 23133,  1437, 12798,  2840, 15113, 12798,  2840,  4726,\n",
            "         12798,  2840,  7487, 12798, 10965,  8384, 12798,  2840, 10278, 12798,\n",
            "          2840,  4726, 12798,  2840, 15722,  1437, 12798,  2840, 10278, 12798,\n",
            "          2840,  4333, 12798,  2840,  2840, 12798, 10965,  8384,  1437, 12798,\n",
            "          2840,  8906, 12798, 10965, 27819, 12798,  2840, 15389, 12798, 10965,\n",
            "          8384, 12798,  2840, 15389, 12798,  2840,  9470,  1437, 12798,  2840,\n",
            "         10278, 12798, 10965, 27819, 12798,  2840, 15389,  1437, 12798,  2840,\n",
            "          8906, 12798,  2840,  4726, 12798,  2840, 20024, 12798, 10965,  8384,\n",
            "         12798,  2840, 10470, 12798, 10965,  8384, 12798,  2840, 10470, 12798,\n",
            "         10965, 10172, 12798,  2840, 15722, 12798, 10965,  8384, 12798,  2840,\n",
            "         15722, 12798,  2840, 15264, 12798, 10965,  8384,     2]]), 'attention_mask': tensor([[1, 1, 1, 1, 1, 1, 1, 1, 1, 1, 1, 1, 1, 1, 1, 1, 1, 1, 1, 1, 1, 1, 1, 1,\n",
            "         1, 1, 1, 1, 1, 1, 1, 1, 1, 1, 1, 1, 1, 1, 1, 1, 1, 1, 1, 1, 1, 1, 1, 1,\n",
            "         1, 1, 1, 1, 1, 1, 1, 1, 1, 1, 1, 1, 1, 1, 1, 1, 1, 1, 1, 1, 1, 1, 1, 1,\n",
            "         1, 1, 1, 1, 1, 1, 1, 1, 1, 1, 1, 1, 1, 1, 1, 1, 1, 1, 1, 1, 1, 1, 1, 1,\n",
            "         1, 1, 1, 1, 1, 1, 1, 1, 1, 1, 1, 1, 1, 1, 1, 1, 1, 1, 1, 1, 1, 1, 1, 1,\n",
            "         1, 1, 1, 1, 1, 1, 1, 1, 1, 1, 1, 1, 1, 1, 1, 1, 1, 1, 1, 1, 1, 1, 1, 1,\n",
            "         1, 1, 1, 1, 1, 1, 1, 1, 1, 1, 1, 1, 1, 1, 1, 1, 1, 1, 1, 1, 1, 1, 1, 1]])}\n"
          ]
        }
      ],
      "source": [
        "print(tokenized_input)"
      ]
    },
    {
      "cell_type": "code",
      "execution_count": 22,
      "metadata": {
        "colab": {
          "base_uri": "https://localhost:8080/"
        },
        "id": "FSOktuaVkRr6",
        "outputId": "074fdb4d-a732-420c-f90e-4295837af2c4"
      },
      "outputs": [
        {
          "output_type": "stream",
          "name": "stdout",
          "text": [
            "BaseModelOutputWithPoolingAndCrossAttentions(last_hidden_state=tensor([[[-0.0063,  0.0794, -0.0413,  ..., -0.0326, -0.0405, -0.0223],\n",
            "         [-0.1587, -0.4954, -0.1216,  ..., -0.0949,  0.0450,  0.1873],\n",
            "         [-0.0410,  0.1313, -0.1700,  ..., -0.0965,  0.1742,  0.2042],\n",
            "         ...,\n",
            "         [ 0.2087, -0.2437,  0.0554,  ..., -0.0412, -0.2684,  0.4072],\n",
            "         [ 0.1189, -0.1301,  0.1034,  ...,  0.3891,  0.2017,  0.2436],\n",
            "         [ 0.0078,  0.0743, -0.0805,  ..., -0.0624, -0.0360, -0.0457]]],\n",
            "       grad_fn=<NativeLayerNormBackward0>), pooler_output=tensor([[ 2.1562e-02, -1.9498e-01, -2.0079e-01, -6.8163e-02,  1.2238e-01,\n",
            "          2.0125e-01,  2.6808e-01, -1.1759e-01, -1.3763e-01, -1.9818e-01,\n",
            "          2.7310e-01, -4.7037e-03, -1.4203e-01,  1.2373e-01, -1.4511e-01,\n",
            "          4.8426e-01,  1.9507e-01, -4.9102e-01, -3.5521e-03, -3.7451e-02,\n",
            "         -2.5936e-01,  5.8937e-02,  4.6942e-01,  3.6696e-01,  1.3080e-01,\n",
            "          3.6175e-02, -1.8173e-01, -1.3128e-02,  1.9493e-01,  2.6734e-01,\n",
            "          3.0811e-01,  4.9311e-02,  9.3302e-02,  2.5512e-01, -2.4444e-01,\n",
            "          6.0420e-02, -3.1040e-01,  2.0010e-03,  3.3438e-01, -2.2827e-01,\n",
            "         -3.6809e-02,  1.5592e-01,  2.3094e-01, -1.7378e-01, -1.4511e-01,\n",
            "          4.4112e-01,  3.0105e-01,  1.5809e-02, -1.4515e-01, -6.9725e-02,\n",
            "         -3.6344e-01,  3.5778e-01,  2.5732e-01,  1.8308e-01, -5.6295e-04,\n",
            "          4.7361e-02, -1.6407e-01,  2.6515e-01, -9.3161e-02, -1.4916e-01,\n",
            "         -1.0859e-01, -2.1438e-01, -3.0046e-02, -6.2458e-02,  5.1333e-02,\n",
            "         -1.5249e-01,  6.9916e-02, -1.6990e-01, -1.2880e-01,  6.0442e-02,\n",
            "         -1.3433e-01,  1.5190e-01,  2.1136e-01, -3.1137e-01, -2.6069e-01,\n",
            "          8.0786e-03, -6.1794e-01, -1.3041e-01,  3.1550e-01,  4.4120e-01,\n",
            "         -1.6318e-01,  2.0090e-01,  7.1346e-03,  2.1460e-01,  1.1273e-02,\n",
            "         -5.4959e-02, -1.7335e-02, -1.0858e-01,  1.7707e-01,  2.6992e-01,\n",
            "         -1.6842e-01, -4.0647e-01, -2.0080e-02, -3.2450e-03, -1.3270e-01,\n",
            "          2.6344e-02, -4.8238e-02, -4.2723e-02, -1.7784e-01, -2.3838e-01,\n",
            "          9.2747e-02, -2.8255e-01, -1.5644e-01,  3.0754e-01, -2.8747e-03,\n",
            "         -1.5785e-01, -1.7271e-02,  3.0868e-01,  6.6958e-02, -1.3493e-01,\n",
            "         -1.4365e-01,  4.0310e-01,  3.7318e-01,  2.0063e-02,  1.2215e-02,\n",
            "          1.7092e-01,  1.1270e-01, -2.8710e-01,  4.6308e-01, -3.6604e-01,\n",
            "         -1.1367e-02, -1.2760e-01,  9.4491e-02,  1.9765e-01, -2.3819e-01,\n",
            "          2.6956e-01,  1.5237e-01,  2.2012e-01,  1.5746e-01,  1.4363e-01,\n",
            "         -5.2568e-02,  1.5668e-01, -1.1958e-01,  1.3065e-01,  2.4229e-01,\n",
            "          1.5593e-01,  1.0684e-02, -3.5155e-01, -2.3575e-01,  2.6265e-01,\n",
            "          3.0707e-01,  1.6860e-01, -6.8132e-02,  1.7866e-01,  1.3906e-01,\n",
            "          2.1484e-01,  1.2458e-01, -4.2032e-01,  3.7849e-02,  3.4671e-01,\n",
            "          1.2998e-01,  1.8965e-01, -4.7340e-02, -2.0894e-01, -2.4324e-01,\n",
            "         -7.0637e-02,  6.0710e-02, -2.8861e-01, -1.3137e-01,  3.7348e-01,\n",
            "          2.6209e-03, -1.7525e-03, -1.6121e-01, -2.5680e-01, -1.9522e-03,\n",
            "         -8.6144e-02,  3.4584e-02,  8.6099e-02, -8.5688e-02, -4.5020e-01,\n",
            "         -6.0019e-02, -5.8272e-01, -1.2829e-01,  1.6192e-01, -3.6332e-01,\n",
            "          2.3472e-01, -2.8882e-01,  1.1842e-01,  3.8463e-01,  5.5425e-02,\n",
            "          1.4432e-02, -1.7244e-01,  1.1635e-03,  7.0067e-02,  3.5803e-01,\n",
            "          2.5250e-01, -4.3676e-01,  8.3134e-02,  1.2543e-01,  2.8627e-01,\n",
            "          1.2226e-01, -5.6401e-02, -1.1091e-01,  1.4026e-01, -2.2241e-01,\n",
            "          1.7454e-01, -2.2958e-01,  2.1640e-01, -2.6861e-01, -2.4621e-01,\n",
            "          3.2738e-01, -4.3012e-01, -3.6020e-02,  3.9489e-02,  2.5077e-01,\n",
            "          9.7198e-03, -6.3783e-02, -1.2179e-01,  1.4944e-01,  1.7071e-01,\n",
            "          1.2516e-01, -3.8038e-01,  2.6604e-01, -4.6370e-02, -6.8140e-03,\n",
            "         -2.0915e-02,  1.7440e-01,  2.7207e-01,  5.8211e-02, -3.9999e-01,\n",
            "         -1.4852e-01,  1.1064e-01,  2.4243e-01, -2.2839e-01,  2.1568e-01,\n",
            "         -3.0662e-01, -4.1303e-01, -1.7041e-01,  2.2739e-01,  2.0984e-01,\n",
            "          1.6722e-01, -2.5977e-01,  2.1541e-01, -1.3949e-01, -4.0552e-01,\n",
            "         -3.9345e-01, -1.2510e-01,  2.1771e-01,  1.4050e-01,  1.9359e-01,\n",
            "          2.6163e-01, -5.1197e-03,  1.3917e-01,  1.1749e-01,  1.6242e-01,\n",
            "         -1.5813e-01,  2.5146e-01, -3.7730e-01, -7.3404e-02, -2.5134e-01,\n",
            "         -2.1024e-01, -2.0579e-01,  4.0077e-01, -2.4101e-01,  2.1171e-01,\n",
            "          4.1440e-01, -2.7898e-01, -1.0003e-01,  1.9265e-01,  7.6571e-02,\n",
            "          1.7500e-02, -1.4326e-01,  1.7087e-01,  1.8268e-01, -1.3397e-01,\n",
            "          2.3203e-01,  4.2878e-02,  2.5856e-01,  1.3517e-01,  1.1008e-01,\n",
            "          1.9120e-01,  1.6102e-01, -1.3449e-01,  7.6864e-02, -2.9407e-03,\n",
            "         -6.4769e-03, -2.2633e-01, -1.4750e-01,  1.8807e-01, -4.4264e-02,\n",
            "          5.6792e-02, -1.9947e-01, -1.0735e-01,  6.0814e-02,  4.2833e-01,\n",
            "         -3.7066e-01,  2.2932e-01,  1.2053e-01,  1.7005e-01, -2.5146e-01,\n",
            "         -2.3905e-01,  6.6924e-02,  1.5514e-01, -4.2166e-01,  2.8149e-03,\n",
            "          2.0454e-01,  8.1851e-02,  2.5842e-01,  2.6199e-01, -2.1712e-02,\n",
            "         -1.1062e-01,  5.0085e-01, -1.6256e-01, -1.1543e-01,  2.8377e-01,\n",
            "         -2.4404e-01, -2.4591e-01,  2.8823e-01,  2.3213e-02,  3.0027e-01,\n",
            "          1.2520e-01,  2.8359e-02,  6.6198e-02, -6.0753e-01,  8.1703e-02,\n",
            "         -4.2914e-01, -1.8457e-02,  3.0884e-02, -1.2381e-01, -2.4844e-01,\n",
            "          1.2124e-01,  2.8570e-01, -2.7239e-01, -2.9540e-02,  1.6489e-01,\n",
            "          5.1040e-02, -6.1330e-02,  4.8306e-01, -1.0771e-03,  2.6457e-01,\n",
            "         -5.2944e-02,  2.8937e-01, -2.1492e-01,  2.7651e-01, -2.6248e-01,\n",
            "         -1.1501e-01,  2.9413e-02,  6.0976e-02,  5.9099e-02, -4.9170e-02,\n",
            "         -3.5506e-01,  2.7322e-01, -3.2613e-02, -3.7242e-02, -1.1972e-02,\n",
            "          1.2032e-01,  2.1480e-02,  5.2426e-02,  6.0187e-02,  3.3050e-01,\n",
            "          1.8064e-01,  1.1687e-02, -3.9421e-01, -6.4481e-02, -1.3651e-01,\n",
            "          2.1767e-02,  6.0762e-02, -4.0503e-02,  4.6472e-01, -7.9990e-02,\n",
            "         -1.1289e-02, -1.0618e-01,  2.5464e-01,  1.8618e-01,  1.9377e-01,\n",
            "          9.4619e-02,  7.7958e-02,  1.8838e-01, -1.4194e-02, -1.8946e-02,\n",
            "         -1.7304e-01, -2.4251e-01, -3.2511e-01,  2.0749e-01, -2.9574e-01,\n",
            "         -1.7402e-01,  1.6876e-01,  2.1668e-01, -1.4559e-01,  1.5249e-01,\n",
            "          3.5929e-01,  9.1082e-02, -1.3792e-01,  2.8570e-01, -1.5257e-01,\n",
            "          6.4329e-02,  3.4713e-01, -4.3886e-02,  2.0478e-01,  4.9644e-01,\n",
            "          1.9353e-01, -3.6437e-01, -2.5847e-02, -2.3288e-01,  1.6340e-02,\n",
            "          2.4462e-01, -1.9143e-01,  2.0454e-01,  3.7371e-01,  3.2893e-01,\n",
            "          4.3260e-01,  4.6547e-03, -1.7807e-01,  1.0180e-01,  2.3283e-01,\n",
            "         -6.3372e-03, -1.4695e-01, -1.3329e-01,  2.7280e-01, -6.9617e-03,\n",
            "         -1.1016e-01, -5.1913e-02, -1.2833e-01,  4.8845e-02, -1.2003e-01,\n",
            "         -4.2879e-01,  2.0127e-02,  2.1213e-01, -4.9251e-01,  1.2662e-01,\n",
            "         -2.7205e-01,  7.3164e-02, -2.5303e-01,  1.9412e-01, -2.4193e-01,\n",
            "         -1.4680e-01,  4.0172e-01, -1.4776e-01,  4.9078e-03, -1.9088e-01,\n",
            "         -1.5913e-01,  5.9706e-02, -5.7589e-03,  1.0500e-02,  4.6642e-03,\n",
            "          3.6798e-01, -1.7880e-01, -2.3116e-04,  3.8102e-02,  2.0528e-01,\n",
            "         -9.6423e-02,  2.1922e-01, -3.3780e-03, -1.3368e-01, -4.0790e-01,\n",
            "          1.9870e-01, -2.1220e-01, -4.1078e-01, -3.7482e-01,  4.0337e-01,\n",
            "         -1.5486e-01, -2.7297e-01, -2.3166e-01, -2.8404e-01,  7.4555e-02,\n",
            "          1.8303e-01,  4.4292e-01, -3.9843e-01, -1.1556e-01,  5.1518e-01,\n",
            "         -5.0426e-02, -1.3941e-01,  2.9494e-01,  2.2293e-01, -3.6166e-01,\n",
            "          3.4422e-01,  2.8148e-01, -4.5506e-02,  4.4462e-02,  5.4156e-01,\n",
            "          1.0998e-01,  1.8686e-01, -1.9729e-01,  4.4718e-01, -2.1173e-01,\n",
            "          3.0406e-01, -1.1797e-01, -2.1611e-01, -2.3619e-01,  4.2787e-02,\n",
            "          3.6020e-01,  2.1198e-01, -4.3319e-01, -1.5393e-01,  5.2819e-02,\n",
            "          3.3743e-01, -4.3202e-01, -9.8215e-02, -2.3094e-02, -3.4546e-01,\n",
            "          1.0092e-01,  8.9147e-02,  2.1878e-01, -4.3182e-01,  4.3690e-02,\n",
            "          4.2504e-01, -3.0873e-01,  1.0949e-01,  3.0361e-01,  1.1850e-01,\n",
            "          3.4275e-01, -4.7022e-02, -2.0985e-02,  8.1397e-02, -2.5059e-01,\n",
            "         -6.8917e-02,  1.7745e-01,  5.7463e-01,  1.4844e-01, -3.7887e-01,\n",
            "          8.3876e-02,  2.8509e-01, -1.8554e-01,  3.2999e-01, -1.2332e-01,\n",
            "         -1.6715e-02,  2.5586e-01, -3.0421e-02,  1.5419e-01, -1.1439e-01,\n",
            "         -2.6274e-01, -3.1696e-01,  4.2491e-01, -2.0369e-01, -9.4411e-02,\n",
            "         -1.3228e-01, -7.9385e-02, -1.8138e-01,  2.3070e-02, -3.8672e-01,\n",
            "          3.7048e-01,  1.3882e-01, -1.9336e-01, -1.8113e-01, -4.1196e-02,\n",
            "         -1.9085e-01, -2.4949e-01, -2.4974e-01,  4.3639e-01, -1.9941e-01,\n",
            "         -4.7886e-01,  2.1872e-01,  4.5766e-02,  3.8219e-01,  1.0456e-02,\n",
            "          1.0117e-01, -5.9260e-02,  1.8557e-01,  1.1525e-01, -1.3858e-01,\n",
            "          3.1151e-01,  5.8471e-02, -6.0178e-01, -1.6482e-01, -2.3990e-01,\n",
            "          8.2820e-02,  2.1200e-01, -3.4660e-01,  1.8435e-02,  5.2493e-02,\n",
            "          9.5889e-02,  1.6265e-02, -9.4610e-02, -8.9924e-02,  3.8394e-01,\n",
            "          2.7999e-01,  3.4646e-01,  1.0360e-01,  2.1590e-01, -5.2094e-02,\n",
            "         -3.6629e-01,  4.3964e-02,  9.4772e-02, -1.7708e-01,  4.7348e-01,\n",
            "         -1.0935e-01, -4.3898e-01, -3.2208e-02,  4.0261e-01,  8.4042e-02,\n",
            "         -2.0786e-03, -5.3653e-02,  2.0841e-01,  1.4920e-01, -1.3338e-01,\n",
            "          1.7468e-01,  2.7202e-03, -1.1848e-01, -1.0339e-01,  1.0266e-01,\n",
            "         -2.2377e-01,  1.1702e-02, -1.5848e-01,  8.7037e-03, -1.9834e-01,\n",
            "          1.3954e-02, -2.2519e-01,  3.0990e-01, -3.4501e-01,  1.2458e-01,\n",
            "          2.6346e-02,  2.8723e-01, -3.5027e-01, -1.3099e-01, -5.5915e-02,\n",
            "          1.7491e-01,  2.9610e-01,  3.6752e-01,  6.3362e-02,  4.8073e-02,\n",
            "         -1.6935e-01, -2.7188e-01,  3.1010e-02, -2.0911e-01,  1.4856e-01,\n",
            "          9.2395e-02,  3.1345e-01, -2.8798e-01, -1.7054e-01,  2.2843e-01,\n",
            "         -1.5175e-01, -1.3223e-01,  3.9997e-01,  2.5154e-01,  2.0917e-01,\n",
            "          1.3757e-02,  2.5728e-01, -2.2868e-02, -1.8363e-01, -1.5220e-01,\n",
            "         -2.7497e-01,  9.7820e-02, -1.1579e-01, -8.6728e-02, -7.9228e-02,\n",
            "         -1.2847e-01, -1.9325e-01, -1.6002e-01,  1.1234e-01,  1.1537e-01,\n",
            "         -3.9679e-02, -1.5033e-02, -5.4950e-02, -3.0185e-01,  3.3008e-01,\n",
            "         -2.8153e-03,  7.6663e-02, -5.9721e-02,  3.8258e-02, -1.4041e-01,\n",
            "          2.5959e-01,  2.3906e-01,  1.2626e-01, -2.5880e-01, -5.4172e-02,\n",
            "         -2.8850e-01, -3.5637e-01,  6.6597e-02,  1.8137e-01,  1.5156e-01,\n",
            "         -1.2758e-01, -2.9567e-01,  3.0304e-02, -1.8052e-01,  2.2490e-01,\n",
            "         -1.1392e-02, -1.3133e-01, -1.0696e-01, -6.2210e-02, -8.6475e-02,\n",
            "          7.7470e-02, -2.0281e-01, -2.4583e-01, -7.1527e-02, -1.3384e-01,\n",
            "         -1.2714e-01,  3.8650e-01, -5.7062e-02,  2.9671e-01, -1.8129e-01,\n",
            "          4.8351e-02, -1.9370e-01,  7.3609e-02, -6.9658e-02,  8.3314e-02,\n",
            "          2.7877e-01, -4.4255e-01, -1.3468e-01, -3.7786e-02, -1.8482e-01,\n",
            "         -1.6594e-01, -3.9389e-02, -3.9923e-03,  2.6104e-01, -4.1914e-01,\n",
            "          2.2662e-01, -7.4518e-02,  2.1451e-01, -1.0762e-01, -3.0571e-01,\n",
            "         -1.5082e-01,  1.4700e-02,  2.1602e-01, -3.4476e-01, -2.5595e-01,\n",
            "         -2.8752e-01, -8.9713e-02, -7.2903e-02, -3.1234e-01,  4.4502e-01,\n",
            "         -1.4124e-01, -1.1596e-01,  6.9881e-03,  4.4511e-01,  2.0706e-01,\n",
            "          1.0647e-01,  2.2518e-01,  1.6039e-02,  6.6043e-02,  8.2908e-02,\n",
            "         -4.9447e-01,  2.6733e-01, -2.8829e-01, -1.3350e-01, -4.9407e-02,\n",
            "          1.1790e-01, -4.8463e-02,  3.0462e-02, -1.4690e-01, -1.0725e-01,\n",
            "          2.1796e-01, -3.7882e-01,  8.4688e-03,  2.9256e-01,  1.7431e-01,\n",
            "         -2.7143e-01,  5.5568e-02,  1.4719e-01,  3.5174e-01,  1.3394e-01,\n",
            "         -2.1619e-01,  6.4546e-02, -3.3165e-01, -9.4335e-03, -1.6933e-01,\n",
            "         -3.1205e-01,  2.0350e-01, -9.8026e-02,  9.8537e-02, -1.1185e-01,\n",
            "         -3.0455e-01,  1.9344e-01, -1.3823e-01, -7.0229e-02,  4.1684e-01,\n",
            "          2.4372e-02, -1.0220e-01,  1.2082e-01,  7.0040e-02, -1.2652e-02,\n",
            "         -1.2117e-01,  3.0508e-01,  1.9490e-01, -2.7170e-01,  1.3431e-01,\n",
            "         -1.4884e-01, -7.3436e-02, -1.1956e-01]], grad_fn=<TanhBackward0>), hidden_states=None, past_key_values=None, attentions=None, cross_attentions=None)\n"
          ]
        }
      ],
      "source": [
        "print(sample_output)"
      ]
    },
    {
      "cell_type": "code",
      "execution_count": 23,
      "metadata": {
        "colab": {
          "base_uri": "https://localhost:8080/"
        },
        "id": "WPN52SytkMYv",
        "outputId": "64284569-9d70-47b8-dc36-1fb3c7882cbe"
      },
      "outputs": [
        {
          "output_type": "stream",
          "name": "stdout",
          "text": [
            "(1, 768)\n"
          ]
        }
      ],
      "source": [
        "print(sample_output.pooler_output.cpu().detach().numpy().shape)"
      ]
    },
    {
      "cell_type": "code",
      "execution_count": 24,
      "metadata": {
        "id": "DSjkcWpAirTg"
      },
      "outputs": [],
      "source": [
        "# Tokenizing Input Data\n",
        "\n",
        "input = []\n",
        "\n",
        "for i in text:\n",
        "    tokenized_input = tokenizer(\n",
        "        i,\n",
        "        padding=True,\n",
        "        truncation=True,\n",
        "        return_tensors='pt'\n",
        "    )\n",
        "    input.append(tokenized_input)"
      ]
    },
    {
      "cell_type": "code",
      "execution_count": 25,
      "metadata": {
        "colab": {
          "base_uri": "https://localhost:8080/"
        },
        "id": "04wzA-Qmknyx",
        "outputId": "26c08454-377d-427e-ae87-0a280693058c"
      },
      "outputs": [
        {
          "output_type": "stream",
          "name": "stdout",
          "text": [
            "./XLM-Roberta-No-Stem-Embedded-TrainData/output1.pickle done\n",
            "./XLM-Roberta-No-Stem-Embedded-TrainData/output2.pickle done\n",
            "./XLM-Roberta-No-Stem-Embedded-TrainData/output3.pickle done\n",
            "./XLM-Roberta-No-Stem-Embedded-TrainData/output4.pickle done\n",
            "./XLM-Roberta-No-Stem-Embedded-TrainData/output5.pickle done\n",
            "./XLM-Roberta-No-Stem-Embedded-TrainData/output6.pickle done\n",
            "./XLM-Roberta-No-Stem-Embedded-TrainData/output7.pickle done\n",
            "./XLM-Roberta-No-Stem-Embedded-TrainData/output8.pickle done\n",
            "./XLM-Roberta-No-Stem-Embedded-TrainData/output9.pickle done\n",
            "./XLM-Roberta-No-Stem-Embedded-TrainData/output10.pickle done\n",
            "./XLM-Roberta-No-Stem-Embedded-TrainData/output11.pickle done\n",
            "./XLM-Roberta-No-Stem-Embedded-TrainData/output12.pickle done\n",
            "./XLM-Roberta-No-Stem-Embedded-TrainData/output13.pickle done\n",
            "./XLM-Roberta-No-Stem-Embedded-TrainData/output14.pickle done\n",
            "./XLM-Roberta-No-Stem-Embedded-TrainData/output15.pickle done\n",
            "./XLM-Roberta-No-Stem-Embedded-TrainData/output16.pickle done\n",
            "./XLM-Roberta-No-Stem-Embedded-TrainData/output17.pickle done\n",
            "./XLM-Roberta-No-Stem-Embedded-TrainData/output18.pickle done\n",
            "./XLM-Roberta-No-Stem-Embedded-TrainData/output19.pickle done\n",
            "./XLM-Roberta-No-Stem-Embedded-TrainData/output20.pickle done\n",
            "./XLM-Roberta-No-Stem-Embedded-TrainData/output21.pickle done\n",
            "./XLM-Roberta-No-Stem-Embedded-TrainData/output22.pickle done\n",
            "./XLM-Roberta-No-Stem-Embedded-TrainData/output23.pickle done\n",
            "./XLM-Roberta-No-Stem-Embedded-TrainData/output24.pickle done\n",
            "./XLM-Roberta-No-Stem-Embedded-TrainData/output25.pickle done\n",
            "./XLM-Roberta-No-Stem-Embedded-TrainData/output26.pickle done\n",
            "./XLM-Roberta-No-Stem-Embedded-TrainData/output27.pickle done\n",
            "./XLM-Roberta-No-Stem-Embedded-TrainData/output28.pickle done\n",
            "./XLM-Roberta-No-Stem-Embedded-TrainData/output29.pickle done\n",
            "./XLM-Roberta-No-Stem-Embedded-TrainData/output30.pickle done\n"
          ]
        }
      ],
      "source": [
        "# Embedding the Input Data\n",
        "\n",
        "output = []\n",
        "\n",
        "j = 1\n",
        "\n",
        "for i in range(len(input)):\n",
        "    \n",
        "    model_output = model(**input[i])\n",
        "    model_output = model_output.pooler_output.cpu().detach().numpy()\n",
        "    output.append(model_output)\n",
        "    \n",
        "    # Saving Embedded Input Data to Disk\n",
        "\n",
        "    if ((i + 1) % 200) == 0:\n",
        "        \n",
        "        file_name = \"./XLM-Roberta-No-Stem-Embedded-TrainData/output\" + str(j) + \".pickle\"\n",
        "        \n",
        "        with open(file_name, \"wb\") as fp:   \n",
        "            # Pickling\n",
        "            pickle.dump(output, fp)\n",
        "        \n",
        "        print(file_name + \" done\")\n",
        "        output = []\n",
        "        j += 1\n",
        "        \n",
        "file_name = \"./XLM-Roberta-No-Stem-Embedded-TrainData/output\" + str(j) + \".pickle\"\n",
        "\n",
        "with open(file_name, \"wb\") as fp:   \n",
        "    # Pickling\n",
        "    pickle.dump(output, fp)\n",
        "\n",
        "print(file_name + \" done\")\n",
        "output = []"
      ]
    },
    {
      "cell_type": "code",
      "execution_count": 26,
      "metadata": {
        "colab": {
          "base_uri": "https://localhost:8080/"
        },
        "id": "JiGIzqtKmjeP",
        "outputId": "7d5ce66b-8851-4bd3-e35f-6eb7bfbf35b1"
      },
      "outputs": [
        {
          "output_type": "stream",
          "name": "stdout",
          "text": [
            "./XLM-Roberta-No-Stem-Embedded-TrainData/output1.pickle done\n",
            "./XLM-Roberta-No-Stem-Embedded-TrainData/output2.pickle done\n",
            "./XLM-Roberta-No-Stem-Embedded-TrainData/output3.pickle done\n",
            "./XLM-Roberta-No-Stem-Embedded-TrainData/output4.pickle done\n",
            "./XLM-Roberta-No-Stem-Embedded-TrainData/output5.pickle done\n",
            "./XLM-Roberta-No-Stem-Embedded-TrainData/output6.pickle done\n",
            "./XLM-Roberta-No-Stem-Embedded-TrainData/output7.pickle done\n",
            "./XLM-Roberta-No-Stem-Embedded-TrainData/output8.pickle done\n",
            "./XLM-Roberta-No-Stem-Embedded-TrainData/output9.pickle done\n",
            "./XLM-Roberta-No-Stem-Embedded-TrainData/output10.pickle done\n",
            "./XLM-Roberta-No-Stem-Embedded-TrainData/output11.pickle done\n",
            "./XLM-Roberta-No-Stem-Embedded-TrainData/output12.pickle done\n",
            "./XLM-Roberta-No-Stem-Embedded-TrainData/output13.pickle done\n",
            "./XLM-Roberta-No-Stem-Embedded-TrainData/output14.pickle done\n",
            "./XLM-Roberta-No-Stem-Embedded-TrainData/output15.pickle done\n",
            "./XLM-Roberta-No-Stem-Embedded-TrainData/output16.pickle done\n",
            "./XLM-Roberta-No-Stem-Embedded-TrainData/output17.pickle done\n",
            "./XLM-Roberta-No-Stem-Embedded-TrainData/output18.pickle done\n",
            "./XLM-Roberta-No-Stem-Embedded-TrainData/output19.pickle done\n",
            "./XLM-Roberta-No-Stem-Embedded-TrainData/output20.pickle done\n",
            "./XLM-Roberta-No-Stem-Embedded-TrainData/output21.pickle done\n",
            "./XLM-Roberta-No-Stem-Embedded-TrainData/output22.pickle done\n",
            "./XLM-Roberta-No-Stem-Embedded-TrainData/output23.pickle done\n",
            "./XLM-Roberta-No-Stem-Embedded-TrainData/output24.pickle done\n",
            "./XLM-Roberta-No-Stem-Embedded-TrainData/output25.pickle done\n",
            "./XLM-Roberta-No-Stem-Embedded-TrainData/output26.pickle done\n",
            "./XLM-Roberta-No-Stem-Embedded-TrainData/output27.pickle done\n",
            "./XLM-Roberta-No-Stem-Embedded-TrainData/output28.pickle done\n",
            "./XLM-Roberta-No-Stem-Embedded-TrainData/output29.pickle done\n",
            "./XLM-Roberta-No-Stem-Embedded-TrainData/output30.pickle done\n"
          ]
        }
      ],
      "source": [
        "# Loading Embedded Input Data from Disk\n",
        "\n",
        "output = []\n",
        "\n",
        "for i in range(30):\n",
        "    file_name = \"./XLM-Roberta-No-Stem-Embedded-TrainData/output\" + str(i + 1) + \".pickle\"\n",
        "    with open(file_name, \"rb\") as fp:   #Pickling\n",
        "        file_output = pickle.load(fp)\n",
        "        for x in file_output:\n",
        "            output.append(x)\n",
        "    print(file_name + \" done\")\n",
        "\n",
        "X = output\n",
        "output = []"
      ]
    },
    {
      "cell_type": "code",
      "execution_count": 27,
      "metadata": {
        "colab": {
          "base_uri": "https://localhost:8080/"
        },
        "id": "D8GZw0G4snib",
        "outputId": "430bf5ec-c0b6-4554-8487-4d3068ed5282"
      },
      "outputs": [
        {
          "output_type": "execute_result",
          "data": {
            "text/plain": [
              "(5877, 1, 768)"
            ]
          },
          "metadata": {},
          "execution_count": 27
        }
      ],
      "source": [
        "X = np.array(X)\n",
        "X.shape"
      ]
    },
    {
      "cell_type": "code",
      "execution_count": 28,
      "metadata": {
        "colab": {
          "base_uri": "https://localhost:8080/"
        },
        "id": "RVY644kz3fmY",
        "outputId": "dfd8037b-6d7b-4454-d45f-913301b82775"
      },
      "outputs": [
        {
          "output_type": "execute_result",
          "data": {
            "text/plain": [
              "(5877, 768)"
            ]
          },
          "metadata": {},
          "execution_count": 28
        }
      ],
      "source": [
        "X = X.reshape(5877, 768)\n",
        "X.shape"
      ]
    },
    {
      "cell_type": "code",
      "execution_count": 29,
      "metadata": {
        "colab": {
          "base_uri": "https://localhost:8080/"
        },
        "id": "Afj3ktv4sh_n",
        "outputId": "3914fd54-4ae7-4202-913a-64d6b8129955"
      },
      "outputs": [
        {
          "output_type": "execute_result",
          "data": {
            "text/plain": [
              "(5877,)"
            ]
          },
          "metadata": {},
          "execution_count": 29
        }
      ],
      "source": [
        "y = label\n",
        "y.shape"
      ]
    },
    {
      "cell_type": "markdown",
      "metadata": {
        "id": "Yx-irLz_1zqa"
      },
      "source": [
        "## **Train Test Split**"
      ]
    },
    {
      "cell_type": "code",
      "execution_count": 30,
      "metadata": {
        "id": "kKPsOhmVsm6d"
      },
      "outputs": [],
      "source": [
        "X_train, X_val, y_train, y_val = train_test_split(X, y, test_size=0.2, random_state=42)"
      ]
    },
    {
      "cell_type": "code",
      "execution_count": 31,
      "metadata": {
        "colab": {
          "base_uri": "https://localhost:8080/"
        },
        "id": "sLgRQz2K187N",
        "outputId": "002e4ca8-4307-416a-cdf7-bb01507a9722"
      },
      "outputs": [
        {
          "output_type": "execute_result",
          "data": {
            "text/plain": [
              "(4701, 768)"
            ]
          },
          "metadata": {},
          "execution_count": 31
        }
      ],
      "source": [
        "X_train.shape"
      ]
    },
    {
      "cell_type": "code",
      "execution_count": 32,
      "metadata": {
        "colab": {
          "base_uri": "https://localhost:8080/"
        },
        "id": "jvmxkn1Z1-ij",
        "outputId": "9f1198e8-2e91-4357-a36b-d8bc7f073bc3"
      },
      "outputs": [
        {
          "output_type": "execute_result",
          "data": {
            "text/plain": [
              "(1176, 768)"
            ]
          },
          "metadata": {},
          "execution_count": 32
        }
      ],
      "source": [
        "X_val.shape"
      ]
    },
    {
      "cell_type": "markdown",
      "metadata": {
        "id": "SCu6BNbhBg7J"
      },
      "source": [
        "## **Logistic Regression**"
      ]
    },
    {
      "cell_type": "code",
      "execution_count": 33,
      "metadata": {
        "colab": {
          "base_uri": "https://localhost:8080/"
        },
        "id": "ywNZ89i9BQn8",
        "outputId": "28ed9239-b6dd-4500-d7dc-c96d5b198065"
      },
      "outputs": [
        {
          "output_type": "stream",
          "name": "stdout",
          "text": [
            "              precision    recall  f1-score   support\n",
            "\n",
            "           0       0.81      1.00      0.89       950\n",
            "           1       0.00      0.00      0.00       226\n",
            "\n",
            "    accuracy                           0.81      1176\n",
            "   macro avg       0.40      0.50      0.45      1176\n",
            "weighted avg       0.65      0.81      0.72      1176\n",
            "\n"
          ]
        },
        {
          "output_type": "stream",
          "name": "stderr",
          "text": [
            "/usr/local/lib/python3.7/dist-packages/sklearn/linear_model/_logistic.py:818: ConvergenceWarning: lbfgs failed to converge (status=1):\n",
            "STOP: TOTAL NO. of ITERATIONS REACHED LIMIT.\n",
            "\n",
            "Increase the number of iterations (max_iter) or scale the data as shown in:\n",
            "    https://scikit-learn.org/stable/modules/preprocessing.html\n",
            "Please also refer to the documentation for alternative solver options:\n",
            "    https://scikit-learn.org/stable/modules/linear_model.html#logistic-regression\n",
            "  extra_warning_msg=_LOGISTIC_SOLVER_CONVERGENCE_MSG,\n",
            "/usr/local/lib/python3.7/dist-packages/sklearn/metrics/_classification.py:1308: UndefinedMetricWarning: Precision and F-score are ill-defined and being set to 0.0 in labels with no predicted samples. Use `zero_division` parameter to control this behavior.\n",
            "  _warn_prf(average, modifier, msg_start, len(result))\n",
            "/usr/local/lib/python3.7/dist-packages/sklearn/metrics/_classification.py:1308: UndefinedMetricWarning: Precision and F-score are ill-defined and being set to 0.0 in labels with no predicted samples. Use `zero_division` parameter to control this behavior.\n",
            "  _warn_prf(average, modifier, msg_start, len(result))\n",
            "/usr/local/lib/python3.7/dist-packages/sklearn/metrics/_classification.py:1308: UndefinedMetricWarning: Precision and F-score are ill-defined and being set to 0.0 in labels with no predicted samples. Use `zero_division` parameter to control this behavior.\n",
            "  _warn_prf(average, modifier, msg_start, len(result))\n"
          ]
        }
      ],
      "source": [
        "lr = LogisticRegression()\n",
        "lr.fit(X_train, y_train)\n",
        "lr_pred = lr.predict(X_val)\n",
        "print(classification_report(y_val, lr_pred))"
      ]
    },
    {
      "cell_type": "markdown",
      "metadata": {
        "id": "Ee_0Tw0oEW6y"
      },
      "source": [
        "## **Support Vector Machine**"
      ]
    },
    {
      "cell_type": "code",
      "execution_count": 34,
      "metadata": {
        "colab": {
          "base_uri": "https://localhost:8080/"
        },
        "id": "mYA73k6CB_Mf",
        "outputId": "dbc5d026-aceb-4a66-abf9-3dad90dc8a13"
      },
      "outputs": [
        {
          "output_type": "stream",
          "name": "stdout",
          "text": [
            "              precision    recall  f1-score   support\n",
            "\n",
            "           0       0.81      1.00      0.89       950\n",
            "           1       0.00      0.00      0.00       226\n",
            "\n",
            "    accuracy                           0.81      1176\n",
            "   macro avg       0.40      0.50      0.45      1176\n",
            "weighted avg       0.65      0.81      0.72      1176\n",
            "\n"
          ]
        },
        {
          "output_type": "stream",
          "name": "stderr",
          "text": [
            "/usr/local/lib/python3.7/dist-packages/sklearn/metrics/_classification.py:1308: UndefinedMetricWarning: Precision and F-score are ill-defined and being set to 0.0 in labels with no predicted samples. Use `zero_division` parameter to control this behavior.\n",
            "  _warn_prf(average, modifier, msg_start, len(result))\n",
            "/usr/local/lib/python3.7/dist-packages/sklearn/metrics/_classification.py:1308: UndefinedMetricWarning: Precision and F-score are ill-defined and being set to 0.0 in labels with no predicted samples. Use `zero_division` parameter to control this behavior.\n",
            "  _warn_prf(average, modifier, msg_start, len(result))\n",
            "/usr/local/lib/python3.7/dist-packages/sklearn/metrics/_classification.py:1308: UndefinedMetricWarning: Precision and F-score are ill-defined and being set to 0.0 in labels with no predicted samples. Use `zero_division` parameter to control this behavior.\n",
            "  _warn_prf(average, modifier, msg_start, len(result))\n"
          ]
        }
      ],
      "source": [
        "svm = SVC()\n",
        "svm.fit(X_train, y_train)\n",
        "svm_pred = svm.predict(X_val)\n",
        "print(classification_report(y_val, svm_pred))"
      ]
    },
    {
      "cell_type": "markdown",
      "metadata": {
        "id": "Z9CCgjxuEe3P"
      },
      "source": [
        "## **Naive Bayes**"
      ]
    },
    {
      "cell_type": "code",
      "execution_count": 35,
      "metadata": {
        "colab": {
          "base_uri": "https://localhost:8080/"
        },
        "id": "RqPoOLKMEc8H",
        "outputId": "c7215d77-bb4d-4ff0-ef6a-471409ec17da"
      },
      "outputs": [
        {
          "output_type": "stream",
          "name": "stdout",
          "text": [
            "              precision    recall  f1-score   support\n",
            "\n",
            "           0       0.84      0.67      0.75       950\n",
            "           1       0.25      0.46      0.33       226\n",
            "\n",
            "    accuracy                           0.63      1176\n",
            "   macro avg       0.55      0.57      0.54      1176\n",
            "weighted avg       0.73      0.63      0.67      1176\n",
            "\n"
          ]
        }
      ],
      "source": [
        "nb = GaussianNB()\n",
        "nb.fit(X_train, y_train)\n",
        "nb_pred = nb.predict(X_val)\n",
        "print(classification_report(y_val, nb_pred))"
      ]
    },
    {
      "cell_type": "markdown",
      "metadata": {
        "id": "LGUczbe8ElKR"
      },
      "source": [
        "## **Stochastic Gradient Descent**"
      ]
    },
    {
      "cell_type": "code",
      "execution_count": 36,
      "metadata": {
        "colab": {
          "base_uri": "https://localhost:8080/"
        },
        "id": "CAkE_j_XEjat",
        "outputId": "c6a0df97-97f5-49c8-c376-df29e59acfcc"
      },
      "outputs": [
        {
          "output_type": "stream",
          "name": "stdout",
          "text": [
            "              precision    recall  f1-score   support\n",
            "\n",
            "           0       0.81      1.00      0.89       950\n",
            "           1       0.40      0.01      0.02       226\n",
            "\n",
            "    accuracy                           0.81      1176\n",
            "   macro avg       0.60      0.50      0.46      1176\n",
            "weighted avg       0.73      0.81      0.72      1176\n",
            "\n"
          ]
        }
      ],
      "source": [
        "sgd = SGDClassifier()\n",
        "sgd.fit(X_train, y_train)\n",
        "sgd_pred = sgd.predict(X_val)\n",
        "print(classification_report(y_val, sgd_pred))"
      ]
    },
    {
      "cell_type": "markdown",
      "metadata": {
        "id": "5zlPYaOGErfQ"
      },
      "source": [
        "## **K Nearest Neighbours**"
      ]
    },
    {
      "cell_type": "code",
      "execution_count": 37,
      "metadata": {
        "colab": {
          "base_uri": "https://localhost:8080/"
        },
        "id": "xbIZOhSeEppS",
        "outputId": "75fc3b53-b2ef-467b-9f50-7529e57b03b8"
      },
      "outputs": [
        {
          "output_type": "stream",
          "name": "stdout",
          "text": [
            "              precision    recall  f1-score   support\n",
            "\n",
            "           0       0.82      0.93      0.87       950\n",
            "           1       0.32      0.14      0.19       226\n",
            "\n",
            "    accuracy                           0.78      1176\n",
            "   macro avg       0.57      0.53      0.53      1176\n",
            "weighted avg       0.72      0.78      0.74      1176\n",
            "\n"
          ]
        }
      ],
      "source": [
        "knn = KNeighborsClassifier()\n",
        "knn.fit(X_train, y_train)\n",
        "knn_pred = knn.predict(X_val)\n",
        "print(classification_report(y_val, knn_pred))"
      ]
    },
    {
      "cell_type": "markdown",
      "metadata": {
        "id": "7bEDDBXFEv5E"
      },
      "source": [
        "## **Decision tree**"
      ]
    },
    {
      "cell_type": "code",
      "execution_count": 38,
      "metadata": {
        "colab": {
          "base_uri": "https://localhost:8080/"
        },
        "id": "65p7HgRWEvP4",
        "outputId": "244777da-aefe-4725-ba11-fae277c60512"
      },
      "outputs": [
        {
          "output_type": "stream",
          "name": "stdout",
          "text": [
            "              precision    recall  f1-score   support\n",
            "\n",
            "           0       0.84      0.82      0.83       950\n",
            "           1       0.30      0.32      0.31       226\n",
            "\n",
            "    accuracy                           0.73      1176\n",
            "   macro avg       0.57      0.57      0.57      1176\n",
            "weighted avg       0.73      0.73      0.73      1176\n",
            "\n"
          ]
        }
      ],
      "source": [
        "dt = DecisionTreeClassifier()\n",
        "dt.fit(X_train, y_train)\n",
        "dt_pred = dt.predict(X_val)\n",
        "print(classification_report(y_val, dt_pred))"
      ]
    },
    {
      "cell_type": "markdown",
      "metadata": {
        "id": "wA2EAKkxE1c1"
      },
      "source": [
        "## **Random Forest**"
      ]
    },
    {
      "cell_type": "code",
      "execution_count": 39,
      "metadata": {
        "colab": {
          "base_uri": "https://localhost:8080/"
        },
        "id": "GwpEKhCmEzzE",
        "outputId": "311d5aec-dde6-441b-cebf-4573d38a7d20"
      },
      "outputs": [
        {
          "output_type": "stream",
          "name": "stdout",
          "text": [
            "              precision    recall  f1-score   support\n",
            "\n",
            "           0       0.81      0.99      0.89       950\n",
            "           1       0.55      0.05      0.10       226\n",
            "\n",
            "    accuracy                           0.81      1176\n",
            "   macro avg       0.68      0.52      0.50      1176\n",
            "weighted avg       0.76      0.81      0.74      1176\n",
            "\n"
          ]
        }
      ],
      "source": [
        "rf = RandomForestClassifier()\n",
        "rf.fit(X_train, y_train)\n",
        "rf_pred = rf.predict(X_val)\n",
        "print(classification_report(y_val, rf_pred))"
      ]
    },
    {
      "cell_type": "markdown",
      "metadata": {
        "id": "owkuc16dE7OZ"
      },
      "source": [
        "## **Majority Voting**"
      ]
    },
    {
      "cell_type": "code",
      "execution_count": 40,
      "metadata": {
        "colab": {
          "base_uri": "https://localhost:8080/"
        },
        "id": "oocbjm49E5Sq",
        "outputId": "6b60d5d2-845c-4422-ec05-b37806be9146"
      },
      "outputs": [
        {
          "output_type": "stream",
          "name": "stdout",
          "text": [
            "              precision    recall  f1-score   support\n",
            "\n",
            "           0       0.82      0.97      0.89       950\n",
            "           1       0.50      0.11      0.18       226\n",
            "\n",
            "    accuracy                           0.81      1176\n",
            "   macro avg       0.66      0.54      0.53      1176\n",
            "weighted avg       0.76      0.81      0.75      1176\n",
            "\n"
          ]
        }
      ],
      "source": [
        "mv_pred = []\n",
        "\n",
        "for i in range(len(lr_pred)):\n",
        "    one = 0\n",
        "    zero = 0\n",
        "    # Using only KNN, DT & RF in predictions due to poor performance of other models\n",
        "    predictions = [knn_pred[i], dt_pred[i], rf_pred[i]]\n",
        "    for pred in predictions:\n",
        "        if pred == 1: one += 1\n",
        "        if pred == 0: zero +=1\n",
        "    if one > zero: mv_pred.append(1)\n",
        "    else: mv_pred.append(0)\n",
        "\n",
        "mv_pred = np.array(mv_pred)\n",
        "\n",
        "print(classification_report(y_val, mv_pred))    "
      ]
    },
    {
      "cell_type": "markdown",
      "metadata": {
        "id": "z-EIDfZKHrVj"
      },
      "source": [
        "## **Loading Testing Data**"
      ]
    },
    {
      "cell_type": "code",
      "execution_count": 41,
      "metadata": {
        "colab": {
          "base_uri": "https://localhost:8080/",
          "height": 206
        },
        "id": "8Bm4WHV2HmYo",
        "outputId": "8c6b0f37-c251-49db-9adc-8d1d27186a60"
      },
      "outputs": [
        {
          "output_type": "execute_result",
          "data": {
            "text/html": [
              "\n",
              "  <div id=\"df-15fcbf0c-9d8c-4492-984c-5b960eb25a36\">\n",
              "    <div class=\"colab-df-container\">\n",
              "      <div>\n",
              "<style scoped>\n",
              "    .dataframe tbody tr th:only-of-type {\n",
              "        vertical-align: middle;\n",
              "    }\n",
              "\n",
              "    .dataframe tbody tr th {\n",
              "        vertical-align: top;\n",
              "    }\n",
              "\n",
              "    .dataframe thead th {\n",
              "        text-align: right;\n",
              "    }\n",
              "</style>\n",
              "<table border=\"1\" class=\"dataframe\">\n",
              "  <thead>\n",
              "    <tr style=\"text-align: right;\">\n",
              "      <th></th>\n",
              "      <th>id</th>\n",
              "      <th>text</th>\n",
              "    </tr>\n",
              "  </thead>\n",
              "  <tbody>\n",
              "    <tr>\n",
              "      <th>0</th>\n",
              "      <td>tam_test_1</td>\n",
              "      <td>தலைவா STR இதுக்குதான் கதுருந்தோம் மாஸ் தலைவா t...</td>\n",
              "    </tr>\n",
              "    <tr>\n",
              "      <th>1</th>\n",
              "      <td>tam_test_2</td>\n",
              "      <td>நாயுடு மக்கள் சார்பாக திரைப்படம் வெற்றி பெற வா...</td>\n",
              "    </tr>\n",
              "    <tr>\n",
              "      <th>2</th>\n",
              "      <td>tam_test_3</td>\n",
              "      <td>தில்லானா முயற்சி  தஞ்சை கோனார்</td>\n",
              "    </tr>\n",
              "    <tr>\n",
              "      <th>3</th>\n",
              "      <td>tam_test_4</td>\n",
              "      <td>திரௌபதியின் துகிலுறித்த போது காத்த கண்ணனின் யா...</td>\n",
              "    </tr>\n",
              "    <tr>\n",
              "      <th>4</th>\n",
              "      <td>tam_test_5</td>\n",
              "      <td>நான் தியேட்டர்லே படம் பார்த்து 35 வருஷமாச்சு! ...</td>\n",
              "    </tr>\n",
              "  </tbody>\n",
              "</table>\n",
              "</div>\n",
              "      <button class=\"colab-df-convert\" onclick=\"convertToInteractive('df-15fcbf0c-9d8c-4492-984c-5b960eb25a36')\"\n",
              "              title=\"Convert this dataframe to an interactive table.\"\n",
              "              style=\"display:none;\">\n",
              "        \n",
              "  <svg xmlns=\"http://www.w3.org/2000/svg\" height=\"24px\"viewBox=\"0 0 24 24\"\n",
              "       width=\"24px\">\n",
              "    <path d=\"M0 0h24v24H0V0z\" fill=\"none\"/>\n",
              "    <path d=\"M18.56 5.44l.94 2.06.94-2.06 2.06-.94-2.06-.94-.94-2.06-.94 2.06-2.06.94zm-11 1L8.5 8.5l.94-2.06 2.06-.94-2.06-.94L8.5 2.5l-.94 2.06-2.06.94zm10 10l.94 2.06.94-2.06 2.06-.94-2.06-.94-.94-2.06-.94 2.06-2.06.94z\"/><path d=\"M17.41 7.96l-1.37-1.37c-.4-.4-.92-.59-1.43-.59-.52 0-1.04.2-1.43.59L10.3 9.45l-7.72 7.72c-.78.78-.78 2.05 0 2.83L4 21.41c.39.39.9.59 1.41.59.51 0 1.02-.2 1.41-.59l7.78-7.78 2.81-2.81c.8-.78.8-2.07 0-2.86zM5.41 20L4 18.59l7.72-7.72 1.47 1.35L5.41 20z\"/>\n",
              "  </svg>\n",
              "      </button>\n",
              "      \n",
              "  <style>\n",
              "    .colab-df-container {\n",
              "      display:flex;\n",
              "      flex-wrap:wrap;\n",
              "      gap: 12px;\n",
              "    }\n",
              "\n",
              "    .colab-df-convert {\n",
              "      background-color: #E8F0FE;\n",
              "      border: none;\n",
              "      border-radius: 50%;\n",
              "      cursor: pointer;\n",
              "      display: none;\n",
              "      fill: #1967D2;\n",
              "      height: 32px;\n",
              "      padding: 0 0 0 0;\n",
              "      width: 32px;\n",
              "    }\n",
              "\n",
              "    .colab-df-convert:hover {\n",
              "      background-color: #E2EBFA;\n",
              "      box-shadow: 0px 1px 2px rgba(60, 64, 67, 0.3), 0px 1px 3px 1px rgba(60, 64, 67, 0.15);\n",
              "      fill: #174EA6;\n",
              "    }\n",
              "\n",
              "    [theme=dark] .colab-df-convert {\n",
              "      background-color: #3B4455;\n",
              "      fill: #D2E3FC;\n",
              "    }\n",
              "\n",
              "    [theme=dark] .colab-df-convert:hover {\n",
              "      background-color: #434B5C;\n",
              "      box-shadow: 0px 1px 3px 1px rgba(0, 0, 0, 0.15);\n",
              "      filter: drop-shadow(0px 1px 2px rgba(0, 0, 0, 0.3));\n",
              "      fill: #FFFFFF;\n",
              "    }\n",
              "  </style>\n",
              "\n",
              "      <script>\n",
              "        const buttonEl =\n",
              "          document.querySelector('#df-15fcbf0c-9d8c-4492-984c-5b960eb25a36 button.colab-df-convert');\n",
              "        buttonEl.style.display =\n",
              "          google.colab.kernel.accessAllowed ? 'block' : 'none';\n",
              "\n",
              "        async function convertToInteractive(key) {\n",
              "          const element = document.querySelector('#df-15fcbf0c-9d8c-4492-984c-5b960eb25a36');\n",
              "          const dataTable =\n",
              "            await google.colab.kernel.invokeFunction('convertToInteractive',\n",
              "                                                     [key], {});\n",
              "          if (!dataTable) return;\n",
              "\n",
              "          const docLinkHtml = 'Like what you see? Visit the ' +\n",
              "            '<a target=\"_blank\" href=https://colab.research.google.com/notebooks/data_table.ipynb>data table notebook</a>'\n",
              "            + ' to learn more about interactive tables.';\n",
              "          element.innerHTML = '';\n",
              "          dataTable['output_type'] = 'display_data';\n",
              "          await google.colab.output.renderOutput(dataTable, element);\n",
              "          const docLink = document.createElement('div');\n",
              "          docLink.innerHTML = docLinkHtml;\n",
              "          element.appendChild(docLink);\n",
              "        }\n",
              "      </script>\n",
              "    </div>\n",
              "  </div>\n",
              "  "
            ],
            "text/plain": [
              "           id                                               text\n",
              "0  tam_test_1  தலைவா STR இதுக்குதான் கதுருந்தோம் மாஸ் தலைவா t...\n",
              "1  tam_test_2  நாயுடு மக்கள் சார்பாக திரைப்படம் வெற்றி பெற வா...\n",
              "2  tam_test_3                     தில்லானா முயற்சி  தஞ்சை கோனார்\n",
              "3  tam_test_4  திரௌபதியின் துகிலுறித்த போது காத்த கண்ணனின் யா...\n",
              "4  tam_test_5  நான் தியேட்டர்லே படம் பார்த்து 35 வருஷமாச்சு! ..."
            ]
          },
          "metadata": {},
          "execution_count": 41
        }
      ],
      "source": [
        "dataframe_test = pd.read_csv(\n",
        "    \"Dataset/tam_offesive_withoutlabels_test.tsv\", \n",
        "    sep='\\t'\n",
        ")\n",
        "dataframe_test.head()"
      ]
    },
    {
      "cell_type": "code",
      "execution_count": 42,
      "metadata": {
        "colab": {
          "base_uri": "https://localhost:8080/",
          "height": 174
        },
        "id": "laZqSRuNHvQz",
        "outputId": "73318599-48dc-4734-83af-aa6da20b9567"
      },
      "outputs": [
        {
          "output_type": "execute_result",
          "data": {
            "text/html": [
              "\n",
              "  <div id=\"df-63a93a4f-df38-4b68-a9c4-60dd733ff646\">\n",
              "    <div class=\"colab-df-container\">\n",
              "      <div>\n",
              "<style scoped>\n",
              "    .dataframe tbody tr th:only-of-type {\n",
              "        vertical-align: middle;\n",
              "    }\n",
              "\n",
              "    .dataframe tbody tr th {\n",
              "        vertical-align: top;\n",
              "    }\n",
              "\n",
              "    .dataframe thead th {\n",
              "        text-align: right;\n",
              "    }\n",
              "</style>\n",
              "<table border=\"1\" class=\"dataframe\">\n",
              "  <thead>\n",
              "    <tr style=\"text-align: right;\">\n",
              "      <th></th>\n",
              "      <th>id</th>\n",
              "      <th>text</th>\n",
              "    </tr>\n",
              "  </thead>\n",
              "  <tbody>\n",
              "    <tr>\n",
              "      <th>count</th>\n",
              "      <td>654</td>\n",
              "      <td>654</td>\n",
              "    </tr>\n",
              "    <tr>\n",
              "      <th>unique</th>\n",
              "      <td>654</td>\n",
              "      <td>654</td>\n",
              "    </tr>\n",
              "    <tr>\n",
              "      <th>top</th>\n",
              "      <td>tam_test_245</td>\n",
              "      <td>கலகலப்பு அப்புறம் . நான் ரசிச்சு சிரிச்சு ஆழுத...</td>\n",
              "    </tr>\n",
              "    <tr>\n",
              "      <th>freq</th>\n",
              "      <td>1</td>\n",
              "      <td>1</td>\n",
              "    </tr>\n",
              "  </tbody>\n",
              "</table>\n",
              "</div>\n",
              "      <button class=\"colab-df-convert\" onclick=\"convertToInteractive('df-63a93a4f-df38-4b68-a9c4-60dd733ff646')\"\n",
              "              title=\"Convert this dataframe to an interactive table.\"\n",
              "              style=\"display:none;\">\n",
              "        \n",
              "  <svg xmlns=\"http://www.w3.org/2000/svg\" height=\"24px\"viewBox=\"0 0 24 24\"\n",
              "       width=\"24px\">\n",
              "    <path d=\"M0 0h24v24H0V0z\" fill=\"none\"/>\n",
              "    <path d=\"M18.56 5.44l.94 2.06.94-2.06 2.06-.94-2.06-.94-.94-2.06-.94 2.06-2.06.94zm-11 1L8.5 8.5l.94-2.06 2.06-.94-2.06-.94L8.5 2.5l-.94 2.06-2.06.94zm10 10l.94 2.06.94-2.06 2.06-.94-2.06-.94-.94-2.06-.94 2.06-2.06.94z\"/><path d=\"M17.41 7.96l-1.37-1.37c-.4-.4-.92-.59-1.43-.59-.52 0-1.04.2-1.43.59L10.3 9.45l-7.72 7.72c-.78.78-.78 2.05 0 2.83L4 21.41c.39.39.9.59 1.41.59.51 0 1.02-.2 1.41-.59l7.78-7.78 2.81-2.81c.8-.78.8-2.07 0-2.86zM5.41 20L4 18.59l7.72-7.72 1.47 1.35L5.41 20z\"/>\n",
              "  </svg>\n",
              "      </button>\n",
              "      \n",
              "  <style>\n",
              "    .colab-df-container {\n",
              "      display:flex;\n",
              "      flex-wrap:wrap;\n",
              "      gap: 12px;\n",
              "    }\n",
              "\n",
              "    .colab-df-convert {\n",
              "      background-color: #E8F0FE;\n",
              "      border: none;\n",
              "      border-radius: 50%;\n",
              "      cursor: pointer;\n",
              "      display: none;\n",
              "      fill: #1967D2;\n",
              "      height: 32px;\n",
              "      padding: 0 0 0 0;\n",
              "      width: 32px;\n",
              "    }\n",
              "\n",
              "    .colab-df-convert:hover {\n",
              "      background-color: #E2EBFA;\n",
              "      box-shadow: 0px 1px 2px rgba(60, 64, 67, 0.3), 0px 1px 3px 1px rgba(60, 64, 67, 0.15);\n",
              "      fill: #174EA6;\n",
              "    }\n",
              "\n",
              "    [theme=dark] .colab-df-convert {\n",
              "      background-color: #3B4455;\n",
              "      fill: #D2E3FC;\n",
              "    }\n",
              "\n",
              "    [theme=dark] .colab-df-convert:hover {\n",
              "      background-color: #434B5C;\n",
              "      box-shadow: 0px 1px 3px 1px rgba(0, 0, 0, 0.15);\n",
              "      filter: drop-shadow(0px 1px 2px rgba(0, 0, 0, 0.3));\n",
              "      fill: #FFFFFF;\n",
              "    }\n",
              "  </style>\n",
              "\n",
              "      <script>\n",
              "        const buttonEl =\n",
              "          document.querySelector('#df-63a93a4f-df38-4b68-a9c4-60dd733ff646 button.colab-df-convert');\n",
              "        buttonEl.style.display =\n",
              "          google.colab.kernel.accessAllowed ? 'block' : 'none';\n",
              "\n",
              "        async function convertToInteractive(key) {\n",
              "          const element = document.querySelector('#df-63a93a4f-df38-4b68-a9c4-60dd733ff646');\n",
              "          const dataTable =\n",
              "            await google.colab.kernel.invokeFunction('convertToInteractive',\n",
              "                                                     [key], {});\n",
              "          if (!dataTable) return;\n",
              "\n",
              "          const docLinkHtml = 'Like what you see? Visit the ' +\n",
              "            '<a target=\"_blank\" href=https://colab.research.google.com/notebooks/data_table.ipynb>data table notebook</a>'\n",
              "            + ' to learn more about interactive tables.';\n",
              "          element.innerHTML = '';\n",
              "          dataTable['output_type'] = 'display_data';\n",
              "          await google.colab.output.renderOutput(dataTable, element);\n",
              "          const docLink = document.createElement('div');\n",
              "          docLink.innerHTML = docLinkHtml;\n",
              "          element.appendChild(docLink);\n",
              "        }\n",
              "      </script>\n",
              "    </div>\n",
              "  </div>\n",
              "  "
            ],
            "text/plain": [
              "                  id                                               text\n",
              "count            654                                                654\n",
              "unique           654                                                654\n",
              "top     tam_test_245  கலகலப்பு அப்புறம் . நான் ரசிச்சு சிரிச்சு ஆழுத...\n",
              "freq               1                                                  1"
            ]
          },
          "metadata": {},
          "execution_count": 42
        }
      ],
      "source": [
        "dataframe_test.describe()"
      ]
    },
    {
      "cell_type": "code",
      "execution_count": 43,
      "metadata": {
        "id": "781biQVoHxCq"
      },
      "outputs": [],
      "source": [
        "text_test = dataframe_test['text']"
      ]
    },
    {
      "cell_type": "markdown",
      "metadata": {
        "id": "Ymi3Y32-IYH0"
      },
      "source": [
        "## **Test Data Preprocessing**"
      ]
    },
    {
      "cell_type": "code",
      "execution_count": 44,
      "metadata": {
        "id": "vpcPA6csIWu2"
      },
      "outputs": [],
      "source": [
        "text_test = text_test.str.replace(r\"[+/#@&*$%:]\",'')\n",
        "text_test = text_test.to_numpy()"
      ]
    },
    {
      "cell_type": "markdown",
      "metadata": {
        "id": "xA2vfLvcIkpU"
      },
      "source": [
        "## **Test Feature Extraction**"
      ]
    },
    {
      "cell_type": "code",
      "execution_count": 45,
      "metadata": {
        "colab": {
          "base_uri": "https://localhost:8080/"
        },
        "id": "e9ZvZq5FIjMS",
        "outputId": "52207d5d-99d4-4318-f869-a105d378f637"
      },
      "outputs": [
        {
          "output_type": "stream",
          "name": "stderr",
          "text": [
            "Some weights of the model checkpoint at roberta-base were not used when initializing RobertaModel: ['lm_head.layer_norm.weight', 'lm_head.dense.bias', 'lm_head.decoder.weight', 'lm_head.dense.weight', 'lm_head.bias', 'lm_head.layer_norm.bias']\n",
            "- This IS expected if you are initializing RobertaModel from the checkpoint of a model trained on another task or with another architecture (e.g. initializing a BertForSequenceClassification model from a BertForPreTraining model).\n",
            "- This IS NOT expected if you are initializing RobertaModel from the checkpoint of a model that you expect to be exactly identical (initializing a BertForSequenceClassification model from a BertForSequenceClassification model).\n"
          ]
        }
      ],
      "source": [
        "# Load Transformer Model\n",
        "\n",
        "tokenizer = RobertaTokenizer.from_pretrained('roberta-base')\n",
        "model = RobertaModel.from_pretrained('roberta-base')"
      ]
    },
    {
      "cell_type": "code",
      "execution_count": 46,
      "metadata": {
        "id": "9MeZTCfrIvuG"
      },
      "outputs": [],
      "source": [
        "# Sample Output\n",
        "\n",
        "tokenized_input = tokenizer(\n",
        "        text_test[0],\n",
        "        padding=True,\n",
        "        truncation=False,\n",
        "        return_tensors='pt'\n",
        "    )\n",
        "\n",
        "sample_output = model(**tokenized_input)"
      ]
    },
    {
      "cell_type": "code",
      "execution_count": 47,
      "metadata": {
        "colab": {
          "base_uri": "https://localhost:8080/"
        },
        "id": "3C_ZSq9iI1rS",
        "outputId": "b57cfd6f-8466-40d9-8f29-2ab4d5f7e375"
      },
      "outputs": [
        {
          "output_type": "stream",
          "name": "stdout",
          "text": [
            "{'input_ids': tensor([[    0, 12798,  2840, 10470, 12798,  2840, 14292, 12798, 10965, 23133,\n",
            "         12798,  2840,  8906, 12798,  2840,  4726, 20857,  1437, 12798,  2840,\n",
            "          6382, 12798,  2840, 10470, 12798, 10965, 10172, 12798,  2840, 15722,\n",
            "         12798, 10965,  8384, 12798,  2840, 15722, 12798, 10965, 10172, 12798,\n",
            "          2840, 10470, 12798,  2840,  4726, 12798,  2840, 15375, 12798, 10965,\n",
            "          8384,  1437, 12798,  2840, 15722, 12798,  2840, 10470, 12798, 10965,\n",
            "         10172, 12798,  2840,  7487, 12798, 10965, 10172, 12798,  2840, 11423,\n",
            "         12798, 10965,  8384, 12798,  2840, 10470, 12798, 10965, 13859, 12798,\n",
            "          2840,  2840, 12798, 10965,  8384,  1437, 12798,  2840,  2840, 12798,\n",
            "          2840,  4726, 12798,  2840, 18537, 12798, 10965,  8384,  1437, 12798,\n",
            "          2840, 10470, 12798,  2840, 14292, 12798, 10965, 23133, 12798,  2840,\n",
            "          8906, 12798,  2840,  4726,  3392,  1343,   740, 38635,  1437, 12798,\n",
            "          2840,  4333, 12798, 10965,  7471, 12798,  2840,  2840, 12798, 10965,\n",
            "          8384,     2]]), 'attention_mask': tensor([[1, 1, 1, 1, 1, 1, 1, 1, 1, 1, 1, 1, 1, 1, 1, 1, 1, 1, 1, 1, 1, 1, 1, 1,\n",
            "         1, 1, 1, 1, 1, 1, 1, 1, 1, 1, 1, 1, 1, 1, 1, 1, 1, 1, 1, 1, 1, 1, 1, 1,\n",
            "         1, 1, 1, 1, 1, 1, 1, 1, 1, 1, 1, 1, 1, 1, 1, 1, 1, 1, 1, 1, 1, 1, 1, 1,\n",
            "         1, 1, 1, 1, 1, 1, 1, 1, 1, 1, 1, 1, 1, 1, 1, 1, 1, 1, 1, 1, 1, 1, 1, 1,\n",
            "         1, 1, 1, 1, 1, 1, 1, 1, 1, 1, 1, 1, 1, 1, 1, 1, 1, 1, 1, 1, 1, 1, 1, 1,\n",
            "         1, 1, 1, 1, 1, 1, 1, 1, 1, 1, 1, 1]])}\n"
          ]
        }
      ],
      "source": [
        "print(tokenized_input)"
      ]
    },
    {
      "cell_type": "code",
      "execution_count": 48,
      "metadata": {
        "colab": {
          "base_uri": "https://localhost:8080/"
        },
        "id": "cgDXMGPYI5-T",
        "outputId": "04d2cc55-4ab4-4a03-cab1-49e628cf1040"
      },
      "outputs": [
        {
          "output_type": "stream",
          "name": "stdout",
          "text": [
            "BaseModelOutputWithPoolingAndCrossAttentions(last_hidden_state=tensor([[[-0.0090,  0.0436, -0.0383,  ..., -0.0351, -0.0521, -0.0062],\n",
            "         [-0.1702, -0.5530, -0.1372,  ..., -0.1650,  0.0284,  0.1762],\n",
            "         [-0.0318,  0.1725, -0.2036,  ..., -0.1959,  0.1403,  0.2386],\n",
            "         ...,\n",
            "         [ 0.2144, -0.2416, -0.0509,  ..., -0.0717, -0.3014,  0.3329],\n",
            "         [ 0.1936, -0.1306,  0.1359,  ...,  0.4561,  0.1976,  0.2199],\n",
            "         [ 0.0075,  0.0362, -0.0778,  ..., -0.0733, -0.0464, -0.0274]]],\n",
            "       grad_fn=<NativeLayerNormBackward0>), pooler_output=tensor([[ 1.9013e-02, -1.9538e-01, -1.9757e-01, -7.6823e-02,  1.1885e-01,\n",
            "          1.9734e-01,  2.6451e-01, -1.3043e-01, -1.3822e-01, -1.9336e-01,\n",
            "          2.5696e-01, -5.6764e-03, -1.3216e-01,  1.0346e-01, -1.2139e-01,\n",
            "          4.8883e-01,  1.9706e-01, -4.8506e-01, -5.7173e-03, -3.1739e-02,\n",
            "         -2.5866e-01,  6.9922e-02,  4.6872e-01,  3.6401e-01,  1.3497e-01,\n",
            "          4.7366e-02, -1.7746e-01, -1.2801e-02,  1.7901e-01,  2.5005e-01,\n",
            "          2.9234e-01,  4.3160e-02,  1.1125e-01,  2.5489e-01, -2.4931e-01,\n",
            "          6.5819e-02, -3.1169e-01,  2.1136e-03,  3.2393e-01, -2.2184e-01,\n",
            "         -4.5045e-02,  1.5919e-01,  2.3212e-01, -1.7451e-01, -1.3472e-01,\n",
            "          4.2849e-01,  2.8356e-01,  2.5209e-02, -1.3759e-01, -8.7192e-02,\n",
            "         -3.6570e-01,  3.4795e-01,  2.4576e-01,  1.8812e-01, -2.8488e-04,\n",
            "          3.8628e-02, -1.5902e-01,  2.7210e-01, -9.3019e-02, -1.5405e-01,\n",
            "         -1.0105e-01, -2.0431e-01, -2.0857e-02, -4.8649e-02,  6.3055e-02,\n",
            "         -1.4748e-01,  6.7258e-02, -1.6405e-01, -1.3365e-01,  6.0431e-02,\n",
            "         -1.3377e-01,  1.6015e-01,  2.0812e-01, -3.0433e-01, -2.6596e-01,\n",
            "          1.3818e-02, -6.1960e-01, -1.2492e-01,  3.1888e-01,  4.2799e-01,\n",
            "         -1.6118e-01,  1.9319e-01,  6.1835e-03,  2.0192e-01,  8.6533e-03,\n",
            "         -4.3805e-02, -6.1056e-03, -1.0261e-01,  1.7568e-01,  2.6847e-01,\n",
            "         -1.6788e-01, -4.1223e-01, -7.9809e-03,  9.3530e-03, -1.4124e-01,\n",
            "          2.6803e-02, -2.8989e-02, -4.5022e-02, -1.7547e-01, -2.2779e-01,\n",
            "          9.7766e-02, -2.6926e-01, -1.4912e-01,  3.0416e-01, -3.9607e-03,\n",
            "         -1.7288e-01, -1.1755e-02,  2.9816e-01,  7.8920e-02, -1.3844e-01,\n",
            "         -1.4594e-01,  4.0751e-01,  3.6469e-01,  2.7615e-02,  1.4819e-02,\n",
            "          1.7714e-01,  1.1664e-01, -2.8678e-01,  4.7211e-01, -3.6935e-01,\n",
            "         -1.2321e-02, -1.3273e-01,  9.9650e-02,  2.0310e-01, -2.4170e-01,\n",
            "          2.5806e-01,  1.5889e-01,  2.2575e-01,  1.6885e-01,  1.3259e-01,\n",
            "         -4.2992e-02,  1.5437e-01, -1.2533e-01,  1.3612e-01,  2.4499e-01,\n",
            "          1.5697e-01,  1.1755e-02, -3.3722e-01, -2.3962e-01,  2.5566e-01,\n",
            "          3.2173e-01,  1.8311e-01, -5.8121e-02,  1.8643e-01,  1.3972e-01,\n",
            "          2.1586e-01,  1.2765e-01, -4.1645e-01,  2.4614e-02,  3.5409e-01,\n",
            "          1.1890e-01,  1.8151e-01, -5.1774e-02, -2.2126e-01, -2.4177e-01,\n",
            "         -8.1509e-02,  6.2145e-02, -2.9022e-01, -1.1131e-01,  3.5865e-01,\n",
            "         -2.5336e-03, -1.5233e-03, -1.5710e-01, -2.5738e-01, -1.6660e-03,\n",
            "         -8.1829e-02,  3.0148e-02,  8.6629e-02, -8.6521e-02, -4.3164e-01,\n",
            "         -6.5527e-02, -5.7245e-01, -1.3709e-01,  1.7125e-01, -3.6763e-01,\n",
            "          2.3892e-01, -2.9258e-01,  1.1139e-01,  3.8359e-01,  5.0853e-02,\n",
            "          1.7957e-02, -1.7109e-01,  1.2852e-02,  8.1730e-02,  3.7087e-01,\n",
            "          2.4997e-01, -4.3374e-01,  9.6695e-02,  1.3888e-01,  2.7622e-01,\n",
            "          1.4418e-01, -5.8604e-02, -1.1252e-01,  1.3493e-01, -2.1650e-01,\n",
            "          1.7286e-01, -2.3729e-01,  2.1353e-01, -2.6275e-01, -2.3298e-01,\n",
            "          3.1988e-01, -4.2425e-01, -3.6466e-02,  4.2252e-02,  2.5257e-01,\n",
            "          1.8297e-02, -6.3571e-02, -1.2781e-01,  1.5706e-01,  1.5390e-01,\n",
            "          1.2610e-01, -3.7873e-01,  2.7176e-01, -4.2264e-02, -7.4904e-03,\n",
            "         -2.7506e-02,  1.7031e-01,  2.8128e-01,  6.6825e-02, -4.0007e-01,\n",
            "         -1.4716e-01,  1.0649e-01,  2.4211e-01, -2.3753e-01,  2.1137e-01,\n",
            "         -2.9243e-01, -4.1124e-01, -1.6531e-01,  2.2393e-01,  2.0704e-01,\n",
            "          1.6771e-01, -2.5427e-01,  2.0240e-01, -1.2941e-01, -3.9633e-01,\n",
            "         -3.8239e-01, -1.1702e-01,  2.3171e-01,  1.4917e-01,  2.0282e-01,\n",
            "          2.7195e-01,  6.2364e-03,  1.4589e-01,  1.0954e-01,  1.5574e-01,\n",
            "         -1.6691e-01,  2.5046e-01, -3.8016e-01, -6.6453e-02, -2.4843e-01,\n",
            "         -1.9917e-01, -2.0142e-01,  3.9875e-01, -2.4232e-01,  2.1149e-01,\n",
            "          4.0440e-01, -2.6693e-01, -1.0288e-01,  1.8512e-01,  7.1504e-02,\n",
            "          2.5414e-02, -1.4217e-01,  1.7854e-01,  1.9131e-01, -1.3277e-01,\n",
            "          2.3443e-01,  3.9317e-02,  2.6212e-01,  1.4830e-01,  1.1680e-01,\n",
            "          1.8251e-01,  1.4769e-01, -1.4038e-01,  5.8831e-02, -1.1311e-02,\n",
            "         -5.8789e-03, -2.2927e-01, -1.5023e-01,  1.9982e-01, -5.2296e-02,\n",
            "          5.6256e-02, -2.0709e-01, -1.0647e-01,  5.7717e-02,  4.1783e-01,\n",
            "         -3.6822e-01,  2.2026e-01,  1.0934e-01,  1.6427e-01, -2.5229e-01,\n",
            "         -2.3880e-01,  7.2593e-02,  1.6401e-01, -4.1534e-01, -2.3520e-03,\n",
            "          2.0482e-01,  7.5959e-02,  2.5216e-01,  2.5982e-01, -1.7680e-02,\n",
            "         -1.0634e-01,  4.9213e-01, -1.5934e-01, -1.0837e-01,  2.8980e-01,\n",
            "         -2.4682e-01, -2.4740e-01,  2.7610e-01,  1.9730e-02,  2.9519e-01,\n",
            "          1.1900e-01,  1.9970e-02,  5.8394e-02, -6.0058e-01,  8.2567e-02,\n",
            "         -4.2968e-01, -2.7384e-02,  2.4914e-02, -1.1573e-01, -2.5428e-01,\n",
            "          1.1908e-01,  2.7671e-01, -2.7289e-01, -3.9519e-02,  1.6976e-01,\n",
            "          4.5254e-02, -5.6577e-02,  4.8309e-01, -1.7002e-03,  2.6035e-01,\n",
            "         -4.4426e-02,  2.9593e-01, -2.0894e-01,  2.6766e-01, -2.5474e-01,\n",
            "         -1.1104e-01,  2.8082e-02,  4.8130e-02,  6.3703e-02, -4.9636e-02,\n",
            "         -3.5957e-01,  2.7648e-01, -3.7120e-02, -5.5876e-02, -2.6545e-02,\n",
            "          1.2056e-01,  2.0080e-02,  5.4441e-02,  4.4977e-02,  3.3719e-01,\n",
            "          1.8662e-01,  1.0744e-02, -3.8863e-01, -4.7050e-02, -1.3983e-01,\n",
            "          3.1567e-02,  6.2199e-02, -2.0043e-02,  4.6360e-01, -7.4603e-02,\n",
            "         -3.1419e-03, -1.1143e-01,  2.5229e-01,  1.7686e-01,  1.9381e-01,\n",
            "          8.9972e-02,  6.1293e-02,  1.8016e-01, -2.7842e-02, -1.9427e-02,\n",
            "         -1.6041e-01, -2.3833e-01, -3.1141e-01,  2.1031e-01, -2.9947e-01,\n",
            "         -1.8293e-01,  1.5957e-01,  2.2753e-01, -1.4070e-01,  1.4477e-01,\n",
            "          3.4835e-01,  8.1461e-02, -1.3959e-01,  2.8343e-01, -1.5135e-01,\n",
            "          5.8614e-02,  3.3886e-01, -4.5358e-02,  2.1083e-01,  5.0072e-01,\n",
            "          2.0414e-01, -3.7033e-01, -2.0896e-02, -2.4176e-01,  1.0117e-02,\n",
            "          2.4646e-01, -1.8115e-01,  1.9193e-01,  3.7773e-01,  3.1714e-01,\n",
            "          4.2820e-01, -4.8078e-03, -1.7225e-01,  1.0354e-01,  2.4001e-01,\n",
            "          4.2039e-03, -1.4937e-01, -1.4503e-01,  2.8085e-01, -5.3685e-03,\n",
            "         -1.0673e-01, -5.2330e-02, -1.3199e-01,  5.3746e-02, -1.2580e-01,\n",
            "         -4.1893e-01,  2.2399e-03,  2.2082e-01, -4.8370e-01,  1.3164e-01,\n",
            "         -2.7966e-01,  6.0999e-02, -2.3711e-01,  1.9425e-01, -2.5153e-01,\n",
            "         -1.3530e-01,  3.9815e-01, -1.5635e-01,  1.0128e-03, -1.8933e-01,\n",
            "         -1.5427e-01,  5.8915e-02, -6.4555e-03,  1.6524e-02,  4.3092e-03,\n",
            "          3.6593e-01, -1.7606e-01,  1.7659e-03,  3.8787e-02,  2.0665e-01,\n",
            "         -9.4948e-02,  2.0801e-01, -1.3772e-03, -1.3102e-01, -4.0418e-01,\n",
            "          2.0093e-01, -2.2076e-01, -4.2434e-01, -3.7451e-01,  3.9317e-01,\n",
            "         -1.4212e-01, -2.7329e-01, -2.4007e-01, -2.8723e-01,  7.4564e-02,\n",
            "          1.6996e-01,  4.5834e-01, -3.8824e-01, -1.0056e-01,  5.1267e-01,\n",
            "         -5.3703e-02, -1.5050e-01,  3.0277e-01,  2.3038e-01, -3.5661e-01,\n",
            "          3.4138e-01,  2.7607e-01, -4.6907e-02,  3.5242e-02,  5.3615e-01,\n",
            "          1.1618e-01,  1.7625e-01, -1.9745e-01,  4.4642e-01, -1.9760e-01,\n",
            "          3.1183e-01, -1.1574e-01, -2.1177e-01, -2.4716e-01,  3.8313e-02,\n",
            "          3.5850e-01,  2.0425e-01, -4.3100e-01, -1.4162e-01,  6.9262e-02,\n",
            "          3.3968e-01, -4.1651e-01, -9.0036e-02, -2.2931e-02, -3.3917e-01,\n",
            "          1.0481e-01,  9.5678e-02,  2.2237e-01, -4.3321e-01,  3.1861e-02,\n",
            "          4.2589e-01, -3.0116e-01,  1.0622e-01,  3.1500e-01,  1.0988e-01,\n",
            "          3.4220e-01, -3.0406e-02, -7.2244e-03,  8.0423e-02, -2.5692e-01,\n",
            "         -6.7675e-02,  1.8252e-01,  5.7573e-01,  1.6174e-01, -3.7175e-01,\n",
            "          9.2491e-02,  2.7739e-01, -1.6079e-01,  3.3064e-01, -1.2209e-01,\n",
            "         -2.1109e-02,  2.5960e-01, -3.0826e-02,  1.5155e-01, -1.1290e-01,\n",
            "         -2.5346e-01, -3.2282e-01,  4.1218e-01, -2.0423e-01, -1.0292e-01,\n",
            "         -1.3845e-01, -8.8372e-02, -1.8195e-01,  2.6288e-02, -3.9467e-01,\n",
            "          3.7286e-01,  1.3609e-01, -1.7895e-01, -1.7673e-01, -4.4570e-02,\n",
            "         -1.7541e-01, -2.3935e-01, -2.4443e-01,  4.2998e-01, -1.9581e-01,\n",
            "         -4.7421e-01,  2.2339e-01,  4.8283e-02,  3.8278e-01,  1.4638e-02,\n",
            "          9.3730e-02, -5.3068e-02,  1.7959e-01,  1.0422e-01, -1.3587e-01,\n",
            "          3.1098e-01,  5.2615e-02, -5.9604e-01, -1.5886e-01, -2.3640e-01,\n",
            "          9.1510e-02,  2.0119e-01, -3.5037e-01,  1.5246e-02,  6.5364e-02,\n",
            "          1.0133e-01,  1.3961e-02, -8.6877e-02, -8.7371e-02,  3.8730e-01,\n",
            "          2.6233e-01,  3.3905e-01,  1.0240e-01,  2.1285e-01, -5.0163e-02,\n",
            "         -3.7617e-01,  4.8900e-02,  8.7228e-02, -1.6673e-01,  4.5337e-01,\n",
            "         -1.0911e-01, -4.3907e-01, -3.5546e-02,  4.0177e-01,  9.3503e-02,\n",
            "         -2.3043e-02, -4.3446e-02,  2.1060e-01,  1.5460e-01, -1.2312e-01,\n",
            "          1.6769e-01, -1.6561e-03, -1.2640e-01, -9.3096e-02,  1.2734e-01,\n",
            "         -2.2594e-01,  1.6974e-02, -1.6299e-01, -3.0020e-03, -2.0322e-01,\n",
            "          1.4857e-02, -2.2456e-01,  2.9296e-01, -3.3207e-01,  1.3411e-01,\n",
            "          4.1063e-02,  2.9265e-01, -3.5108e-01, -1.1652e-01, -6.5982e-02,\n",
            "          1.7451e-01,  2.9041e-01,  3.7077e-01,  7.1657e-02,  3.9497e-02,\n",
            "         -1.7530e-01, -2.6953e-01,  5.2745e-02, -1.9982e-01,  1.4516e-01,\n",
            "          9.8219e-02,  3.0319e-01, -2.8260e-01, -1.6885e-01,  2.2365e-01,\n",
            "         -1.4257e-01, -1.4131e-01,  3.9927e-01,  2.5910e-01,  2.0395e-01,\n",
            "          1.3708e-02,  2.6649e-01, -1.1603e-02, -1.9104e-01, -1.4808e-01,\n",
            "         -2.6784e-01,  8.7265e-02, -1.1224e-01, -7.6408e-02, -6.6711e-02,\n",
            "         -1.1464e-01, -1.8095e-01, -1.5527e-01,  1.2681e-01,  9.2475e-02,\n",
            "         -4.2482e-02, -2.0505e-02, -5.8005e-02, -2.8904e-01,  3.2932e-01,\n",
            "         -2.0663e-03,  6.5483e-02, -6.2180e-02,  3.0964e-02, -1.3871e-01,\n",
            "          2.5879e-01,  2.4357e-01,  1.1720e-01, -2.5523e-01, -4.4589e-02,\n",
            "         -2.8494e-01, -3.4457e-01,  6.5601e-02,  1.8258e-01,  1.3583e-01,\n",
            "         -1.2670e-01, -2.7810e-01,  3.2872e-02, -1.8044e-01,  2.2220e-01,\n",
            "         -6.7922e-03, -1.3002e-01, -1.0163e-01, -6.2759e-02, -9.3301e-02,\n",
            "          7.7095e-02, -1.8815e-01, -2.4856e-01, -8.4359e-02, -1.1365e-01,\n",
            "         -1.2076e-01,  3.9181e-01, -6.9585e-02,  3.0291e-01, -1.7856e-01,\n",
            "          3.7192e-02, -1.9409e-01,  8.3231e-02, -6.9263e-02,  9.8794e-02,\n",
            "          2.7351e-01, -4.4278e-01, -1.3919e-01, -3.2809e-02, -1.8982e-01,\n",
            "         -1.7410e-01, -5.0941e-02, -9.7117e-04,  2.5922e-01, -4.1794e-01,\n",
            "          2.2078e-01, -8.1537e-02,  2.0848e-01, -1.0920e-01, -3.0165e-01,\n",
            "         -1.5808e-01,  1.3313e-02,  2.2555e-01, -3.3745e-01, -2.4839e-01,\n",
            "         -2.8247e-01, -7.9482e-02, -6.1713e-02, -3.0140e-01,  4.4259e-01,\n",
            "         -1.5607e-01, -1.1720e-01,  1.5133e-02,  4.5223e-01,  2.0648e-01,\n",
            "          1.0985e-01,  2.3320e-01,  1.7628e-03,  5.6297e-02,  8.8378e-02,\n",
            "         -4.8373e-01,  2.6182e-01, -2.8179e-01, -1.3017e-01, -4.5477e-02,\n",
            "          1.1716e-01, -5.1677e-02,  3.4433e-02, -1.2822e-01, -8.9182e-02,\n",
            "          2.1537e-01, -3.7159e-01,  1.7079e-02,  2.9592e-01,  1.6263e-01,\n",
            "         -2.6428e-01,  6.1568e-02,  1.4542e-01,  3.5277e-01,  1.2833e-01,\n",
            "         -2.1542e-01,  7.1716e-02, -3.2642e-01, -1.8674e-03, -1.7357e-01,\n",
            "         -3.0331e-01,  1.9534e-01, -9.3251e-02,  1.1137e-01, -9.5937e-02,\n",
            "         -3.0774e-01,  1.9860e-01, -1.2509e-01, -8.0271e-02,  4.1778e-01,\n",
            "          1.1640e-02, -9.1782e-02,  1.2621e-01,  6.2177e-02, -4.4769e-03,\n",
            "         -1.1886e-01,  2.9327e-01,  1.9517e-01, -2.7220e-01,  1.3750e-01,\n",
            "         -1.6154e-01, -7.0318e-02, -1.0319e-01]], grad_fn=<TanhBackward0>), hidden_states=None, past_key_values=None, attentions=None, cross_attentions=None)\n"
          ]
        }
      ],
      "source": [
        "print(sample_output)"
      ]
    },
    {
      "cell_type": "code",
      "execution_count": 49,
      "metadata": {
        "colab": {
          "base_uri": "https://localhost:8080/"
        },
        "id": "hmz0ugkzJF4a",
        "outputId": "251adf04-4851-47e7-dbb7-513d66075dda"
      },
      "outputs": [
        {
          "output_type": "stream",
          "name": "stdout",
          "text": [
            "(1, 768)\n"
          ]
        }
      ],
      "source": [
        "print(sample_output.pooler_output.cpu().detach().numpy().shape)"
      ]
    },
    {
      "cell_type": "code",
      "execution_count": 50,
      "metadata": {
        "id": "uu5rNQCnJHhW"
      },
      "outputs": [],
      "source": [
        "# Tokenizing Test Input Data\n",
        "\n",
        "input = []\n",
        "\n",
        "for i in text_test:\n",
        "    tokenized_input = tokenizer(\n",
        "        i,\n",
        "        padding=True,\n",
        "        truncation=True,\n",
        "        return_tensors='pt'\n",
        "    )\n",
        "    input.append(tokenized_input)"
      ]
    },
    {
      "cell_type": "code",
      "execution_count": 51,
      "metadata": {
        "colab": {
          "base_uri": "https://localhost:8080/"
        },
        "id": "4uGocE2BJMcp",
        "outputId": "d62ad45d-fada-4aa9-ba7e-f5f743f5c0e6"
      },
      "outputs": [
        {
          "output_type": "stream",
          "name": "stdout",
          "text": [
            "./XLM-Roberta-No-Stem-Embedded-TestData/output1.pickle done\n",
            "./XLM-Roberta-No-Stem-Embedded-TestData/output2.pickle done\n",
            "./XLM-Roberta-No-Stem-Embedded-TestData/output3.pickle done\n",
            "./XLM-Roberta-No-Stem-Embedded-TestData/output4.pickle done\n"
          ]
        }
      ],
      "source": [
        "# Embedding the Test Input Data\n",
        "\n",
        "output = []\n",
        "\n",
        "j = 1\n",
        "\n",
        "for i in range(len(input)):\n",
        "    \n",
        "    model_output = model(**input[i])\n",
        "    model_output = model_output.pooler_output.cpu().detach().numpy()\n",
        "    output.append(model_output)\n",
        "    \n",
        "    # Saving Embedded Test Input Data to Disk\n",
        "\n",
        "    if ((i + 1) % 200) == 0:\n",
        "        \n",
        "        file_name = \"./XLM-Roberta-No-Stem-Embedded-TestData/output\" + str(j) + \".pickle\"\n",
        "        \n",
        "        with open(file_name, \"wb\") as fp:   \n",
        "            # Pickling\n",
        "            pickle.dump(output, fp)\n",
        "        \n",
        "        print(file_name + \" done\")\n",
        "        output = []\n",
        "        j += 1\n",
        "        \n",
        "file_name = \"./XLM-Roberta-No-Stem-Embedded-TestData/output\" + str(j) + \".pickle\"\n",
        "\n",
        "with open(file_name, \"wb\") as fp:   \n",
        "    # Pickling\n",
        "    pickle.dump(output, fp)\n",
        "\n",
        "print(file_name + \" done\")\n",
        "output = []"
      ]
    },
    {
      "cell_type": "code",
      "execution_count": 52,
      "metadata": {
        "colab": {
          "base_uri": "https://localhost:8080/"
        },
        "id": "autP-jUzKmLm",
        "outputId": "e86d173d-5407-4327-fc77-aff93464c2a6"
      },
      "outputs": [
        {
          "output_type": "stream",
          "name": "stdout",
          "text": [
            "./XLM-Roberta-No-Stem-Embedded-TestData/output1.pickle done\n",
            "./XLM-Roberta-No-Stem-Embedded-TestData/output2.pickle done\n",
            "./XLM-Roberta-No-Stem-Embedded-TestData/output3.pickle done\n",
            "./XLM-Roberta-No-Stem-Embedded-TestData/output4.pickle done\n"
          ]
        }
      ],
      "source": [
        "# Loading Embedded Input Test Data from Disk\n",
        "\n",
        "output = []\n",
        "\n",
        "for i in range(4):\n",
        "    file_name = \"./XLM-Roberta-No-Stem-Embedded-TestData/output\" + str(i + 1) + \".pickle\"\n",
        "    with open(file_name, \"rb\") as fp:   #Pickling\n",
        "        file_output = pickle.load(fp)\n",
        "        for x in file_output:\n",
        "            output.append(x)\n",
        "    print(file_name + \" done\")\n",
        "\n",
        "X_test = output\n",
        "output = []"
      ]
    },
    {
      "cell_type": "code",
      "execution_count": 53,
      "metadata": {
        "colab": {
          "base_uri": "https://localhost:8080/"
        },
        "id": "iCTb8MZrNBHJ",
        "outputId": "0bec4424-e147-4fd7-c217-ee8c2c0cb119"
      },
      "outputs": [
        {
          "output_type": "execute_result",
          "data": {
            "text/plain": [
              "(654, 1, 768)"
            ]
          },
          "metadata": {},
          "execution_count": 53
        }
      ],
      "source": [
        "X_test = np.array(X_test)\n",
        "X_test.shape"
      ]
    },
    {
      "cell_type": "code",
      "execution_count": 54,
      "metadata": {
        "colab": {
          "base_uri": "https://localhost:8080/"
        },
        "id": "ElFbLnhCNEw_",
        "outputId": "0b7b7e5e-aa98-489f-906b-ae44c96579d7"
      },
      "outputs": [
        {
          "output_type": "execute_result",
          "data": {
            "text/plain": [
              "(654, 768)"
            ]
          },
          "metadata": {},
          "execution_count": 54
        }
      ],
      "source": [
        "X_test = X_test.reshape(654, 768)\n",
        "X_test.shape"
      ]
    },
    {
      "cell_type": "markdown",
      "metadata": {
        "id": "wNDrYlgMNMCG"
      },
      "source": [
        "## **Getting Predictions**"
      ]
    },
    {
      "cell_type": "code",
      "execution_count": 55,
      "metadata": {
        "id": "SGEem_mrNKcK"
      },
      "outputs": [],
      "source": [
        "# Logistic Regression\n",
        "lr_test_pred = lr.predict(X_test)\n",
        "\n",
        "# Support Vector Machine\n",
        "svm_test_pred = svm.predict(X_test)\n",
        "\n",
        "# Naive Bayes\n",
        "nb_test_pred = nb.predict(X_test)\n",
        "\n",
        "# Stochastic Gradient Descent\n",
        "sgd_test_pred = sgd.predict(X_test)\n",
        "\n",
        "# K Nearest Neighbours\n",
        "knn_test_pred = knn.predict(X_test)\n",
        "\n",
        "# Decision Tree\n",
        "dt_test_pred = dt.predict(X_test)\n",
        "\n",
        "# Random Forest\n",
        "rf_test_pred = rf.predict(X_test)"
      ]
    },
    {
      "cell_type": "code",
      "execution_count": 56,
      "metadata": {
        "id": "25FeqaRANRS4"
      },
      "outputs": [],
      "source": [
        "# Majority Voting\n",
        "mv_test_pred = []\n",
        "\n",
        "for i in range(len(lr_test_pred)):\n",
        "    one = 0\n",
        "    zero = 0\n",
        "    predictions = [knn_test_pred[i], dt_test_pred[i], rf_test_pred[i]]\n",
        "    for pred in predictions:\n",
        "        if pred == 1: one += 1\n",
        "        if pred == 0: zero +=1\n",
        "    if one > zero: mv_test_pred.append(1)\n",
        "    else: mv_test_pred.append(0)\n",
        "\n",
        "mv_test_pred = np.array(mv_test_pred)"
      ]
    },
    {
      "cell_type": "markdown",
      "metadata": {
        "id": "LDn6XGBxNgiQ"
      },
      "source": [
        "## **Evaluating the Predictions**"
      ]
    },
    {
      "cell_type": "code",
      "execution_count": 57,
      "metadata": {
        "id": "E6Z9uog3Nele"
      },
      "outputs": [],
      "source": [
        "dataframe_eval = pd.read_csv(\n",
        "    \"Dataset/tamil_offensive_test task 1 with labels.tsv\", \n",
        "    sep='\\t'\n",
        ")"
      ]
    },
    {
      "cell_type": "code",
      "execution_count": 58,
      "metadata": {
        "id": "QQKEuIXSNk65"
      },
      "outputs": [],
      "source": [
        "y_test = dataframe_eval['category']\n",
        "y_test = LabelEncoder().fit_transform(y_test)"
      ]
    },
    {
      "cell_type": "code",
      "execution_count": 59,
      "metadata": {
        "colab": {
          "base_uri": "https://localhost:8080/"
        },
        "id": "Q80-1PAMNmn9",
        "outputId": "68f6d684-62e2-4922-a616-8aaf03512275"
      },
      "outputs": [
        {
          "output_type": "stream",
          "name": "stdout",
          "text": [
            "Logistic Regression\n",
            "              precision    recall  f1-score   support\n",
            "\n",
            "           0       0.82      1.00      0.90       536\n",
            "           1       0.00      0.00      0.00       118\n",
            "\n",
            "    accuracy                           0.82       654\n",
            "   macro avg       0.41      0.50      0.45       654\n",
            "weighted avg       0.67      0.82      0.74       654\n",
            "\n"
          ]
        },
        {
          "output_type": "stream",
          "name": "stderr",
          "text": [
            "/usr/local/lib/python3.7/dist-packages/sklearn/metrics/_classification.py:1308: UndefinedMetricWarning: Precision and F-score are ill-defined and being set to 0.0 in labels with no predicted samples. Use `zero_division` parameter to control this behavior.\n",
            "  _warn_prf(average, modifier, msg_start, len(result))\n",
            "/usr/local/lib/python3.7/dist-packages/sklearn/metrics/_classification.py:1308: UndefinedMetricWarning: Precision and F-score are ill-defined and being set to 0.0 in labels with no predicted samples. Use `zero_division` parameter to control this behavior.\n",
            "  _warn_prf(average, modifier, msg_start, len(result))\n",
            "/usr/local/lib/python3.7/dist-packages/sklearn/metrics/_classification.py:1308: UndefinedMetricWarning: Precision and F-score are ill-defined and being set to 0.0 in labels with no predicted samples. Use `zero_division` parameter to control this behavior.\n",
            "  _warn_prf(average, modifier, msg_start, len(result))\n"
          ]
        }
      ],
      "source": [
        "print('Logistic Regression')\n",
        "print(classification_report(y_test, lr_test_pred))"
      ]
    },
    {
      "cell_type": "code",
      "execution_count": 60,
      "metadata": {
        "colab": {
          "base_uri": "https://localhost:8080/"
        },
        "id": "evQC4UmHNpRy",
        "outputId": "22cf2bed-a8b1-4943-fbee-c683c30089ef"
      },
      "outputs": [
        {
          "output_type": "stream",
          "name": "stdout",
          "text": [
            "Support Vector Machine\n",
            "              precision    recall  f1-score   support\n",
            "\n",
            "           0       0.82      1.00      0.90       536\n",
            "           1       0.00      0.00      0.00       118\n",
            "\n",
            "    accuracy                           0.82       654\n",
            "   macro avg       0.41      0.50      0.45       654\n",
            "weighted avg       0.67      0.82      0.74       654\n",
            "\n"
          ]
        },
        {
          "output_type": "stream",
          "name": "stderr",
          "text": [
            "/usr/local/lib/python3.7/dist-packages/sklearn/metrics/_classification.py:1308: UndefinedMetricWarning: Precision and F-score are ill-defined and being set to 0.0 in labels with no predicted samples. Use `zero_division` parameter to control this behavior.\n",
            "  _warn_prf(average, modifier, msg_start, len(result))\n",
            "/usr/local/lib/python3.7/dist-packages/sklearn/metrics/_classification.py:1308: UndefinedMetricWarning: Precision and F-score are ill-defined and being set to 0.0 in labels with no predicted samples. Use `zero_division` parameter to control this behavior.\n",
            "  _warn_prf(average, modifier, msg_start, len(result))\n",
            "/usr/local/lib/python3.7/dist-packages/sklearn/metrics/_classification.py:1308: UndefinedMetricWarning: Precision and F-score are ill-defined and being set to 0.0 in labels with no predicted samples. Use `zero_division` parameter to control this behavior.\n",
            "  _warn_prf(average, modifier, msg_start, len(result))\n"
          ]
        }
      ],
      "source": [
        "print('Support Vector Machine')\n",
        "print(classification_report(y_test, svm_test_pred))"
      ]
    },
    {
      "cell_type": "code",
      "execution_count": 61,
      "metadata": {
        "colab": {
          "base_uri": "https://localhost:8080/"
        },
        "id": "gdpoHKmFNruS",
        "outputId": "9186e47e-2fd4-47f0-c1e1-9b1c31778c95"
      },
      "outputs": [
        {
          "output_type": "stream",
          "name": "stdout",
          "text": [
            "Naive Bayes\n",
            "              precision    recall  f1-score   support\n",
            "\n",
            "           0       0.88      0.68      0.77       536\n",
            "           1       0.29      0.58      0.39       118\n",
            "\n",
            "    accuracy                           0.66       654\n",
            "   macro avg       0.58      0.63      0.58       654\n",
            "weighted avg       0.77      0.66      0.70       654\n",
            "\n"
          ]
        }
      ],
      "source": [
        "print('Naive Bayes')\n",
        "print(classification_report(y_test, nb_test_pred))"
      ]
    },
    {
      "cell_type": "code",
      "execution_count": 62,
      "metadata": {
        "colab": {
          "base_uri": "https://localhost:8080/"
        },
        "id": "9hVax89INtsD",
        "outputId": "c356b4d3-ddae-44ce-e108-3b3c55204f7a"
      },
      "outputs": [
        {
          "output_type": "stream",
          "name": "stdout",
          "text": [
            "Stochastic Gradient Descent\n",
            "              precision    recall  f1-score   support\n",
            "\n",
            "           0       0.82      1.00      0.90       536\n",
            "           1       0.50      0.01      0.02       118\n",
            "\n",
            "    accuracy                           0.82       654\n",
            "   macro avg       0.66      0.50      0.46       654\n",
            "weighted avg       0.76      0.82      0.74       654\n",
            "\n"
          ]
        }
      ],
      "source": [
        "print('Stochastic Gradient Descent')\n",
        "print(classification_report(y_test, sgd_test_pred))"
      ]
    },
    {
      "cell_type": "code",
      "execution_count": 63,
      "metadata": {
        "colab": {
          "base_uri": "https://localhost:8080/"
        },
        "id": "NcwoRB_bNwH9",
        "outputId": "b776f6dd-fe62-4943-bc57-f8fd8b6f2b35"
      },
      "outputs": [
        {
          "output_type": "stream",
          "name": "stdout",
          "text": [
            "K Nearest Neighbours\n",
            "              precision    recall  f1-score   support\n",
            "\n",
            "           0       0.83      0.95      0.89       536\n",
            "           1       0.33      0.11      0.16       118\n",
            "\n",
            "    accuracy                           0.80       654\n",
            "   macro avg       0.58      0.53      0.52       654\n",
            "weighted avg       0.74      0.80      0.76       654\n",
            "\n"
          ]
        }
      ],
      "source": [
        "print('K Nearest Neighbours')\n",
        "print(classification_report(y_test, knn_test_pred))"
      ]
    },
    {
      "cell_type": "code",
      "execution_count": 64,
      "metadata": {
        "colab": {
          "base_uri": "https://localhost:8080/"
        },
        "id": "mTFbtvuPNx9C",
        "outputId": "696c6886-fc11-4774-dca5-fd3a4910440c"
      },
      "outputs": [
        {
          "output_type": "stream",
          "name": "stdout",
          "text": [
            "Decision Tree\n",
            "              precision    recall  f1-score   support\n",
            "\n",
            "           0       0.85      0.81      0.83       536\n",
            "           1       0.29      0.34      0.31       118\n",
            "\n",
            "    accuracy                           0.73       654\n",
            "   macro avg       0.57      0.58      0.57       654\n",
            "weighted avg       0.75      0.73      0.74       654\n",
            "\n"
          ]
        }
      ],
      "source": [
        "print('Decision Tree')\n",
        "print(classification_report(y_test, dt_test_pred))"
      ]
    },
    {
      "cell_type": "code",
      "execution_count": 65,
      "metadata": {
        "colab": {
          "base_uri": "https://localhost:8080/"
        },
        "id": "0TfnO-ZINztQ",
        "outputId": "acac8f7f-3298-4d71-e968-24829778090d"
      },
      "outputs": [
        {
          "output_type": "stream",
          "name": "stdout",
          "text": [
            "Random Forest\n",
            "              precision    recall  f1-score   support\n",
            "\n",
            "           0       0.82      0.99      0.90       536\n",
            "           1       0.45      0.04      0.08       118\n",
            "\n",
            "    accuracy                           0.82       654\n",
            "   macro avg       0.64      0.52      0.49       654\n",
            "weighted avg       0.76      0.82      0.75       654\n",
            "\n"
          ]
        }
      ],
      "source": [
        "print('Random Forest')\n",
        "print(classification_report(y_test, rf_test_pred))"
      ]
    },
    {
      "cell_type": "code",
      "execution_count": 66,
      "metadata": {
        "colab": {
          "base_uri": "https://localhost:8080/"
        },
        "id": "zIy9SNkaN17N",
        "outputId": "3f928829-9938-4d02-95be-c088b506cff9"
      },
      "outputs": [
        {
          "output_type": "stream",
          "name": "stdout",
          "text": [
            "Majority Voting\n",
            "              precision    recall  f1-score   support\n",
            "\n",
            "           0       0.82      0.98      0.89       536\n",
            "           1       0.32      0.05      0.09       118\n",
            "\n",
            "    accuracy                           0.81       654\n",
            "   macro avg       0.57      0.51      0.49       654\n",
            "weighted avg       0.73      0.81      0.75       654\n",
            "\n"
          ]
        }
      ],
      "source": [
        "print('Majority Voting')\n",
        "print(classification_report(y_test, mv_test_pred))"
      ]
    },
    {
      "cell_type": "markdown",
      "metadata": {
        "id": "4LwXIdR1N_00"
      },
      "source": [
        "## **Saving the Predictions**"
      ]
    },
    {
      "cell_type": "code",
      "execution_count": 67,
      "metadata": {
        "colab": {
          "base_uri": "https://localhost:8080/",
          "height": 423
        },
        "id": "OQmTRFCyN6M-",
        "outputId": "2d9038a8-7456-4c23-e905-b1601ca9b33a"
      },
      "outputs": [
        {
          "output_type": "execute_result",
          "data": {
            "text/html": [
              "\n",
              "  <div id=\"df-0ea552a1-cc54-4202-a5de-95c15bb304d6\">\n",
              "    <div class=\"colab-df-container\">\n",
              "      <div>\n",
              "<style scoped>\n",
              "    .dataframe tbody tr th:only-of-type {\n",
              "        vertical-align: middle;\n",
              "    }\n",
              "\n",
              "    .dataframe tbody tr th {\n",
              "        vertical-align: top;\n",
              "    }\n",
              "\n",
              "    .dataframe thead th {\n",
              "        text-align: right;\n",
              "    }\n",
              "</style>\n",
              "<table border=\"1\" class=\"dataframe\">\n",
              "  <thead>\n",
              "    <tr style=\"text-align: right;\">\n",
              "      <th></th>\n",
              "      <th>id</th>\n",
              "      <th>text</th>\n",
              "      <th>category</th>\n",
              "    </tr>\n",
              "  </thead>\n",
              "  <tbody>\n",
              "    <tr>\n",
              "      <th>0</th>\n",
              "      <td>tam_test_1</td>\n",
              "      <td>தலைவா STR இதுக்குதான் கதுருந்தோம் மாஸ் தலைவா t...</td>\n",
              "      <td>NOT</td>\n",
              "    </tr>\n",
              "    <tr>\n",
              "      <th>1</th>\n",
              "      <td>tam_test_2</td>\n",
              "      <td>நாயுடு மக்கள் சார்பாக திரைப்படம் வெற்றி பெற வா...</td>\n",
              "      <td>NOT</td>\n",
              "    </tr>\n",
              "    <tr>\n",
              "      <th>2</th>\n",
              "      <td>tam_test_3</td>\n",
              "      <td>தில்லானா முயற்சி  தஞ்சை கோனார்</td>\n",
              "      <td>NOT</td>\n",
              "    </tr>\n",
              "    <tr>\n",
              "      <th>3</th>\n",
              "      <td>tam_test_4</td>\n",
              "      <td>திரௌபதியின் துகிலுறித்த போது காத்த கண்ணனின் யா...</td>\n",
              "      <td>NOT</td>\n",
              "    </tr>\n",
              "    <tr>\n",
              "      <th>4</th>\n",
              "      <td>tam_test_5</td>\n",
              "      <td>நான் தியேட்டர்லே படம் பார்த்து 35 வருஷமாச்சு! ...</td>\n",
              "      <td>NOT</td>\n",
              "    </tr>\n",
              "    <tr>\n",
              "      <th>...</th>\n",
              "      <td>...</td>\n",
              "      <td>...</td>\n",
              "      <td>...</td>\n",
              "    </tr>\n",
              "    <tr>\n",
              "      <th>649</th>\n",
              "      <td>tam_test_650</td>\n",
              "      <td>நான் தலைவரோட ரசிகன்னு சொல்லிடு தலைவரை ஒடசல் போ...</td>\n",
              "      <td>NOT</td>\n",
              "    </tr>\n",
              "    <tr>\n",
              "      <th>650</th>\n",
              "      <td>tam_test_651</td>\n",
              "      <td>வாழ்த்துக்கள்,உண்மை கதை உலகத்துக்கு காட்டிய மோ...</td>\n",
              "      <td>NOT</td>\n",
              "    </tr>\n",
              "    <tr>\n",
              "      <th>651</th>\n",
              "      <td>tam_test_652</td>\n",
              "      <td>குருமா and பா..குஞ்சித் பயலுக கதர்ரது இன்னும் ...</td>\n",
              "      <td>NOT</td>\n",
              "    </tr>\n",
              "    <tr>\n",
              "      <th>652</th>\n",
              "      <td>tam_test_653</td>\n",
              "      <td>வெள்ளார்கள் சார்பாக படம் வெற்றி பெற வாழ்த்துக்...</td>\n",
              "      <td>NOT</td>\n",
              "    </tr>\n",
              "    <tr>\n",
              "      <th>653</th>\n",
              "      <td>tam_test_654</td>\n",
              "      <td>சமீபகாலமாக கால்பந்தாட்டத்தை மையப்படுத்தி தமிழ்...</td>\n",
              "      <td>NOT</td>\n",
              "    </tr>\n",
              "  </tbody>\n",
              "</table>\n",
              "<p>654 rows × 3 columns</p>\n",
              "</div>\n",
              "      <button class=\"colab-df-convert\" onclick=\"convertToInteractive('df-0ea552a1-cc54-4202-a5de-95c15bb304d6')\"\n",
              "              title=\"Convert this dataframe to an interactive table.\"\n",
              "              style=\"display:none;\">\n",
              "        \n",
              "  <svg xmlns=\"http://www.w3.org/2000/svg\" height=\"24px\"viewBox=\"0 0 24 24\"\n",
              "       width=\"24px\">\n",
              "    <path d=\"M0 0h24v24H0V0z\" fill=\"none\"/>\n",
              "    <path d=\"M18.56 5.44l.94 2.06.94-2.06 2.06-.94-2.06-.94-.94-2.06-.94 2.06-2.06.94zm-11 1L8.5 8.5l.94-2.06 2.06-.94-2.06-.94L8.5 2.5l-.94 2.06-2.06.94zm10 10l.94 2.06.94-2.06 2.06-.94-2.06-.94-.94-2.06-.94 2.06-2.06.94z\"/><path d=\"M17.41 7.96l-1.37-1.37c-.4-.4-.92-.59-1.43-.59-.52 0-1.04.2-1.43.59L10.3 9.45l-7.72 7.72c-.78.78-.78 2.05 0 2.83L4 21.41c.39.39.9.59 1.41.59.51 0 1.02-.2 1.41-.59l7.78-7.78 2.81-2.81c.8-.78.8-2.07 0-2.86zM5.41 20L4 18.59l7.72-7.72 1.47 1.35L5.41 20z\"/>\n",
              "  </svg>\n",
              "      </button>\n",
              "      \n",
              "  <style>\n",
              "    .colab-df-container {\n",
              "      display:flex;\n",
              "      flex-wrap:wrap;\n",
              "      gap: 12px;\n",
              "    }\n",
              "\n",
              "    .colab-df-convert {\n",
              "      background-color: #E8F0FE;\n",
              "      border: none;\n",
              "      border-radius: 50%;\n",
              "      cursor: pointer;\n",
              "      display: none;\n",
              "      fill: #1967D2;\n",
              "      height: 32px;\n",
              "      padding: 0 0 0 0;\n",
              "      width: 32px;\n",
              "    }\n",
              "\n",
              "    .colab-df-convert:hover {\n",
              "      background-color: #E2EBFA;\n",
              "      box-shadow: 0px 1px 2px rgba(60, 64, 67, 0.3), 0px 1px 3px 1px rgba(60, 64, 67, 0.15);\n",
              "      fill: #174EA6;\n",
              "    }\n",
              "\n",
              "    [theme=dark] .colab-df-convert {\n",
              "      background-color: #3B4455;\n",
              "      fill: #D2E3FC;\n",
              "    }\n",
              "\n",
              "    [theme=dark] .colab-df-convert:hover {\n",
              "      background-color: #434B5C;\n",
              "      box-shadow: 0px 1px 3px 1px rgba(0, 0, 0, 0.15);\n",
              "      filter: drop-shadow(0px 1px 2px rgba(0, 0, 0, 0.3));\n",
              "      fill: #FFFFFF;\n",
              "    }\n",
              "  </style>\n",
              "\n",
              "      <script>\n",
              "        const buttonEl =\n",
              "          document.querySelector('#df-0ea552a1-cc54-4202-a5de-95c15bb304d6 button.colab-df-convert');\n",
              "        buttonEl.style.display =\n",
              "          google.colab.kernel.accessAllowed ? 'block' : 'none';\n",
              "\n",
              "        async function convertToInteractive(key) {\n",
              "          const element = document.querySelector('#df-0ea552a1-cc54-4202-a5de-95c15bb304d6');\n",
              "          const dataTable =\n",
              "            await google.colab.kernel.invokeFunction('convertToInteractive',\n",
              "                                                     [key], {});\n",
              "          if (!dataTable) return;\n",
              "\n",
              "          const docLinkHtml = 'Like what you see? Visit the ' +\n",
              "            '<a target=\"_blank\" href=https://colab.research.google.com/notebooks/data_table.ipynb>data table notebook</a>'\n",
              "            + ' to learn more about interactive tables.';\n",
              "          element.innerHTML = '';\n",
              "          dataTable['output_type'] = 'display_data';\n",
              "          await google.colab.output.renderOutput(dataTable, element);\n",
              "          const docLink = document.createElement('div');\n",
              "          docLink.innerHTML = docLinkHtml;\n",
              "          element.appendChild(docLink);\n",
              "        }\n",
              "      </script>\n",
              "    </div>\n",
              "  </div>\n",
              "  "
            ],
            "text/plain": [
              "               id                                               text category\n",
              "0      tam_test_1  தலைவா STR இதுக்குதான் கதுருந்தோம் மாஸ் தலைவா t...      NOT\n",
              "1      tam_test_2  நாயுடு மக்கள் சார்பாக திரைப்படம் வெற்றி பெற வா...      NOT\n",
              "2      tam_test_3                     தில்லானா முயற்சி  தஞ்சை கோனார்      NOT\n",
              "3      tam_test_4  திரௌபதியின் துகிலுறித்த போது காத்த கண்ணனின் யா...      NOT\n",
              "4      tam_test_5  நான் தியேட்டர்லே படம் பார்த்து 35 வருஷமாச்சு! ...      NOT\n",
              "..            ...                                                ...      ...\n",
              "649  tam_test_650  நான் தலைவரோட ரசிகன்னு சொல்லிடு தலைவரை ஒடசல் போ...      NOT\n",
              "650  tam_test_651  வாழ்த்துக்கள்,உண்மை கதை உலகத்துக்கு காட்டிய மோ...      NOT\n",
              "651  tam_test_652  குருமா and பா..குஞ்சித் பயலுக கதர்ரது இன்னும் ...      NOT\n",
              "652  tam_test_653  வெள்ளார்கள் சார்பாக படம் வெற்றி பெற வாழ்த்துக்...      NOT\n",
              "653  tam_test_654  சமீபகாலமாக கால்பந்தாட்டத்தை மையப்படுத்தி தமிழ்...      NOT\n",
              "\n",
              "[654 rows x 3 columns]"
            ]
          },
          "metadata": {},
          "execution_count": 67
        }
      ],
      "source": [
        "# Logistic Regression\n",
        "\n",
        "predictions = le.inverse_transform(lr_test_pred)\n",
        "\n",
        "dataframe_test_lr = {\n",
        "    'id': dataframe_test['id'],\n",
        "    'text': dataframe_test['text'],\n",
        "    'category': predictions\n",
        "}\n",
        "\n",
        "dataframe_test_lr = pd.DataFrame(dataframe_test_lr)\n",
        "dataframe_test_lr.to_csv(\"Output/XLM-Roberta-No-Stem-LogisticRegression.csv\")\n",
        "dataframe_test_lr"
      ]
    },
    {
      "cell_type": "code",
      "execution_count": 68,
      "metadata": {
        "colab": {
          "base_uri": "https://localhost:8080/",
          "height": 423
        },
        "id": "2SB12KdmOGsr",
        "outputId": "6578935b-2cfa-4545-cbef-1458c27bc865"
      },
      "outputs": [
        {
          "output_type": "execute_result",
          "data": {
            "text/html": [
              "\n",
              "  <div id=\"df-981a7382-231a-48b3-9345-590e31602dbc\">\n",
              "    <div class=\"colab-df-container\">\n",
              "      <div>\n",
              "<style scoped>\n",
              "    .dataframe tbody tr th:only-of-type {\n",
              "        vertical-align: middle;\n",
              "    }\n",
              "\n",
              "    .dataframe tbody tr th {\n",
              "        vertical-align: top;\n",
              "    }\n",
              "\n",
              "    .dataframe thead th {\n",
              "        text-align: right;\n",
              "    }\n",
              "</style>\n",
              "<table border=\"1\" class=\"dataframe\">\n",
              "  <thead>\n",
              "    <tr style=\"text-align: right;\">\n",
              "      <th></th>\n",
              "      <th>id</th>\n",
              "      <th>text</th>\n",
              "      <th>category</th>\n",
              "    </tr>\n",
              "  </thead>\n",
              "  <tbody>\n",
              "    <tr>\n",
              "      <th>0</th>\n",
              "      <td>tam_test_1</td>\n",
              "      <td>தலைவா STR இதுக்குதான் கதுருந்தோம் மாஸ் தலைவா t...</td>\n",
              "      <td>NOT</td>\n",
              "    </tr>\n",
              "    <tr>\n",
              "      <th>1</th>\n",
              "      <td>tam_test_2</td>\n",
              "      <td>நாயுடு மக்கள் சார்பாக திரைப்படம் வெற்றி பெற வா...</td>\n",
              "      <td>NOT</td>\n",
              "    </tr>\n",
              "    <tr>\n",
              "      <th>2</th>\n",
              "      <td>tam_test_3</td>\n",
              "      <td>தில்லானா முயற்சி  தஞ்சை கோனார்</td>\n",
              "      <td>NOT</td>\n",
              "    </tr>\n",
              "    <tr>\n",
              "      <th>3</th>\n",
              "      <td>tam_test_4</td>\n",
              "      <td>திரௌபதியின் துகிலுறித்த போது காத்த கண்ணனின் யா...</td>\n",
              "      <td>NOT</td>\n",
              "    </tr>\n",
              "    <tr>\n",
              "      <th>4</th>\n",
              "      <td>tam_test_5</td>\n",
              "      <td>நான் தியேட்டர்லே படம் பார்த்து 35 வருஷமாச்சு! ...</td>\n",
              "      <td>NOT</td>\n",
              "    </tr>\n",
              "    <tr>\n",
              "      <th>...</th>\n",
              "      <td>...</td>\n",
              "      <td>...</td>\n",
              "      <td>...</td>\n",
              "    </tr>\n",
              "    <tr>\n",
              "      <th>649</th>\n",
              "      <td>tam_test_650</td>\n",
              "      <td>நான் தலைவரோட ரசிகன்னு சொல்லிடு தலைவரை ஒடசல் போ...</td>\n",
              "      <td>NOT</td>\n",
              "    </tr>\n",
              "    <tr>\n",
              "      <th>650</th>\n",
              "      <td>tam_test_651</td>\n",
              "      <td>வாழ்த்துக்கள்,உண்மை கதை உலகத்துக்கு காட்டிய மோ...</td>\n",
              "      <td>NOT</td>\n",
              "    </tr>\n",
              "    <tr>\n",
              "      <th>651</th>\n",
              "      <td>tam_test_652</td>\n",
              "      <td>குருமா and பா..குஞ்சித் பயலுக கதர்ரது இன்னும் ...</td>\n",
              "      <td>NOT</td>\n",
              "    </tr>\n",
              "    <tr>\n",
              "      <th>652</th>\n",
              "      <td>tam_test_653</td>\n",
              "      <td>வெள்ளார்கள் சார்பாக படம் வெற்றி பெற வாழ்த்துக்...</td>\n",
              "      <td>NOT</td>\n",
              "    </tr>\n",
              "    <tr>\n",
              "      <th>653</th>\n",
              "      <td>tam_test_654</td>\n",
              "      <td>சமீபகாலமாக கால்பந்தாட்டத்தை மையப்படுத்தி தமிழ்...</td>\n",
              "      <td>NOT</td>\n",
              "    </tr>\n",
              "  </tbody>\n",
              "</table>\n",
              "<p>654 rows × 3 columns</p>\n",
              "</div>\n",
              "      <button class=\"colab-df-convert\" onclick=\"convertToInteractive('df-981a7382-231a-48b3-9345-590e31602dbc')\"\n",
              "              title=\"Convert this dataframe to an interactive table.\"\n",
              "              style=\"display:none;\">\n",
              "        \n",
              "  <svg xmlns=\"http://www.w3.org/2000/svg\" height=\"24px\"viewBox=\"0 0 24 24\"\n",
              "       width=\"24px\">\n",
              "    <path d=\"M0 0h24v24H0V0z\" fill=\"none\"/>\n",
              "    <path d=\"M18.56 5.44l.94 2.06.94-2.06 2.06-.94-2.06-.94-.94-2.06-.94 2.06-2.06.94zm-11 1L8.5 8.5l.94-2.06 2.06-.94-2.06-.94L8.5 2.5l-.94 2.06-2.06.94zm10 10l.94 2.06.94-2.06 2.06-.94-2.06-.94-.94-2.06-.94 2.06-2.06.94z\"/><path d=\"M17.41 7.96l-1.37-1.37c-.4-.4-.92-.59-1.43-.59-.52 0-1.04.2-1.43.59L10.3 9.45l-7.72 7.72c-.78.78-.78 2.05 0 2.83L4 21.41c.39.39.9.59 1.41.59.51 0 1.02-.2 1.41-.59l7.78-7.78 2.81-2.81c.8-.78.8-2.07 0-2.86zM5.41 20L4 18.59l7.72-7.72 1.47 1.35L5.41 20z\"/>\n",
              "  </svg>\n",
              "      </button>\n",
              "      \n",
              "  <style>\n",
              "    .colab-df-container {\n",
              "      display:flex;\n",
              "      flex-wrap:wrap;\n",
              "      gap: 12px;\n",
              "    }\n",
              "\n",
              "    .colab-df-convert {\n",
              "      background-color: #E8F0FE;\n",
              "      border: none;\n",
              "      border-radius: 50%;\n",
              "      cursor: pointer;\n",
              "      display: none;\n",
              "      fill: #1967D2;\n",
              "      height: 32px;\n",
              "      padding: 0 0 0 0;\n",
              "      width: 32px;\n",
              "    }\n",
              "\n",
              "    .colab-df-convert:hover {\n",
              "      background-color: #E2EBFA;\n",
              "      box-shadow: 0px 1px 2px rgba(60, 64, 67, 0.3), 0px 1px 3px 1px rgba(60, 64, 67, 0.15);\n",
              "      fill: #174EA6;\n",
              "    }\n",
              "\n",
              "    [theme=dark] .colab-df-convert {\n",
              "      background-color: #3B4455;\n",
              "      fill: #D2E3FC;\n",
              "    }\n",
              "\n",
              "    [theme=dark] .colab-df-convert:hover {\n",
              "      background-color: #434B5C;\n",
              "      box-shadow: 0px 1px 3px 1px rgba(0, 0, 0, 0.15);\n",
              "      filter: drop-shadow(0px 1px 2px rgba(0, 0, 0, 0.3));\n",
              "      fill: #FFFFFF;\n",
              "    }\n",
              "  </style>\n",
              "\n",
              "      <script>\n",
              "        const buttonEl =\n",
              "          document.querySelector('#df-981a7382-231a-48b3-9345-590e31602dbc button.colab-df-convert');\n",
              "        buttonEl.style.display =\n",
              "          google.colab.kernel.accessAllowed ? 'block' : 'none';\n",
              "\n",
              "        async function convertToInteractive(key) {\n",
              "          const element = document.querySelector('#df-981a7382-231a-48b3-9345-590e31602dbc');\n",
              "          const dataTable =\n",
              "            await google.colab.kernel.invokeFunction('convertToInteractive',\n",
              "                                                     [key], {});\n",
              "          if (!dataTable) return;\n",
              "\n",
              "          const docLinkHtml = 'Like what you see? Visit the ' +\n",
              "            '<a target=\"_blank\" href=https://colab.research.google.com/notebooks/data_table.ipynb>data table notebook</a>'\n",
              "            + ' to learn more about interactive tables.';\n",
              "          element.innerHTML = '';\n",
              "          dataTable['output_type'] = 'display_data';\n",
              "          await google.colab.output.renderOutput(dataTable, element);\n",
              "          const docLink = document.createElement('div');\n",
              "          docLink.innerHTML = docLinkHtml;\n",
              "          element.appendChild(docLink);\n",
              "        }\n",
              "      </script>\n",
              "    </div>\n",
              "  </div>\n",
              "  "
            ],
            "text/plain": [
              "               id                                               text category\n",
              "0      tam_test_1  தலைவா STR இதுக்குதான் கதுருந்தோம் மாஸ் தலைவா t...      NOT\n",
              "1      tam_test_2  நாயுடு மக்கள் சார்பாக திரைப்படம் வெற்றி பெற வா...      NOT\n",
              "2      tam_test_3                     தில்லானா முயற்சி  தஞ்சை கோனார்      NOT\n",
              "3      tam_test_4  திரௌபதியின் துகிலுறித்த போது காத்த கண்ணனின் யா...      NOT\n",
              "4      tam_test_5  நான் தியேட்டர்லே படம் பார்த்து 35 வருஷமாச்சு! ...      NOT\n",
              "..            ...                                                ...      ...\n",
              "649  tam_test_650  நான் தலைவரோட ரசிகன்னு சொல்லிடு தலைவரை ஒடசல் போ...      NOT\n",
              "650  tam_test_651  வாழ்த்துக்கள்,உண்மை கதை உலகத்துக்கு காட்டிய மோ...      NOT\n",
              "651  tam_test_652  குருமா and பா..குஞ்சித் பயலுக கதர்ரது இன்னும் ...      NOT\n",
              "652  tam_test_653  வெள்ளார்கள் சார்பாக படம் வெற்றி பெற வாழ்த்துக்...      NOT\n",
              "653  tam_test_654  சமீபகாலமாக கால்பந்தாட்டத்தை மையப்படுத்தி தமிழ்...      NOT\n",
              "\n",
              "[654 rows x 3 columns]"
            ]
          },
          "metadata": {},
          "execution_count": 68
        }
      ],
      "source": [
        "# Support Vector Machine\n",
        "\n",
        "predictions = le.inverse_transform(svm_test_pred)\n",
        "\n",
        "dataframe_test_svm = {\n",
        "    'id': dataframe_test['id'],\n",
        "    'text': dataframe_test['text'],\n",
        "    'category': predictions\n",
        "}\n",
        "\n",
        "dataframe_test_svm = pd.DataFrame(dataframe_test_svm)\n",
        "dataframe_test_svm.to_csv(\"Output/XLM-Roberta-No-Stem-SupportVectorMachine.csv\")\n",
        "dataframe_test_svm"
      ]
    },
    {
      "cell_type": "code",
      "execution_count": 69,
      "metadata": {
        "colab": {
          "base_uri": "https://localhost:8080/",
          "height": 423
        },
        "id": "yBatwZUvOMxG",
        "outputId": "5c60fcf2-7a3a-46d3-847d-64561c94a33d"
      },
      "outputs": [
        {
          "output_type": "execute_result",
          "data": {
            "text/html": [
              "\n",
              "  <div id=\"df-f38df9b0-2c03-4e10-a040-b275709fd439\">\n",
              "    <div class=\"colab-df-container\">\n",
              "      <div>\n",
              "<style scoped>\n",
              "    .dataframe tbody tr th:only-of-type {\n",
              "        vertical-align: middle;\n",
              "    }\n",
              "\n",
              "    .dataframe tbody tr th {\n",
              "        vertical-align: top;\n",
              "    }\n",
              "\n",
              "    .dataframe thead th {\n",
              "        text-align: right;\n",
              "    }\n",
              "</style>\n",
              "<table border=\"1\" class=\"dataframe\">\n",
              "  <thead>\n",
              "    <tr style=\"text-align: right;\">\n",
              "      <th></th>\n",
              "      <th>id</th>\n",
              "      <th>text</th>\n",
              "      <th>category</th>\n",
              "    </tr>\n",
              "  </thead>\n",
              "  <tbody>\n",
              "    <tr>\n",
              "      <th>0</th>\n",
              "      <td>tam_test_1</td>\n",
              "      <td>தலைவா STR இதுக்குதான் கதுருந்தோம் மாஸ் தலைவா t...</td>\n",
              "      <td>NOT</td>\n",
              "    </tr>\n",
              "    <tr>\n",
              "      <th>1</th>\n",
              "      <td>tam_test_2</td>\n",
              "      <td>நாயுடு மக்கள் சார்பாக திரைப்படம் வெற்றி பெற வா...</td>\n",
              "      <td>NOT</td>\n",
              "    </tr>\n",
              "    <tr>\n",
              "      <th>2</th>\n",
              "      <td>tam_test_3</td>\n",
              "      <td>தில்லானா முயற்சி  தஞ்சை கோனார்</td>\n",
              "      <td>NOT</td>\n",
              "    </tr>\n",
              "    <tr>\n",
              "      <th>3</th>\n",
              "      <td>tam_test_4</td>\n",
              "      <td>திரௌபதியின் துகிலுறித்த போது காத்த கண்ணனின் யா...</td>\n",
              "      <td>NOT</td>\n",
              "    </tr>\n",
              "    <tr>\n",
              "      <th>4</th>\n",
              "      <td>tam_test_5</td>\n",
              "      <td>நான் தியேட்டர்லே படம் பார்த்து 35 வருஷமாச்சு! ...</td>\n",
              "      <td>NOT</td>\n",
              "    </tr>\n",
              "    <tr>\n",
              "      <th>...</th>\n",
              "      <td>...</td>\n",
              "      <td>...</td>\n",
              "      <td>...</td>\n",
              "    </tr>\n",
              "    <tr>\n",
              "      <th>649</th>\n",
              "      <td>tam_test_650</td>\n",
              "      <td>நான் தலைவரோட ரசிகன்னு சொல்லிடு தலைவரை ஒடசல் போ...</td>\n",
              "      <td>OFF</td>\n",
              "    </tr>\n",
              "    <tr>\n",
              "      <th>650</th>\n",
              "      <td>tam_test_651</td>\n",
              "      <td>வாழ்த்துக்கள்,உண்மை கதை உலகத்துக்கு காட்டிய மோ...</td>\n",
              "      <td>OFF</td>\n",
              "    </tr>\n",
              "    <tr>\n",
              "      <th>651</th>\n",
              "      <td>tam_test_652</td>\n",
              "      <td>குருமா and பா..குஞ்சித் பயலுக கதர்ரது இன்னும் ...</td>\n",
              "      <td>OFF</td>\n",
              "    </tr>\n",
              "    <tr>\n",
              "      <th>652</th>\n",
              "      <td>tam_test_653</td>\n",
              "      <td>வெள்ளார்கள் சார்பாக படம் வெற்றி பெற வாழ்த்துக்...</td>\n",
              "      <td>NOT</td>\n",
              "    </tr>\n",
              "    <tr>\n",
              "      <th>653</th>\n",
              "      <td>tam_test_654</td>\n",
              "      <td>சமீபகாலமாக கால்பந்தாட்டத்தை மையப்படுத்தி தமிழ்...</td>\n",
              "      <td>NOT</td>\n",
              "    </tr>\n",
              "  </tbody>\n",
              "</table>\n",
              "<p>654 rows × 3 columns</p>\n",
              "</div>\n",
              "      <button class=\"colab-df-convert\" onclick=\"convertToInteractive('df-f38df9b0-2c03-4e10-a040-b275709fd439')\"\n",
              "              title=\"Convert this dataframe to an interactive table.\"\n",
              "              style=\"display:none;\">\n",
              "        \n",
              "  <svg xmlns=\"http://www.w3.org/2000/svg\" height=\"24px\"viewBox=\"0 0 24 24\"\n",
              "       width=\"24px\">\n",
              "    <path d=\"M0 0h24v24H0V0z\" fill=\"none\"/>\n",
              "    <path d=\"M18.56 5.44l.94 2.06.94-2.06 2.06-.94-2.06-.94-.94-2.06-.94 2.06-2.06.94zm-11 1L8.5 8.5l.94-2.06 2.06-.94-2.06-.94L8.5 2.5l-.94 2.06-2.06.94zm10 10l.94 2.06.94-2.06 2.06-.94-2.06-.94-.94-2.06-.94 2.06-2.06.94z\"/><path d=\"M17.41 7.96l-1.37-1.37c-.4-.4-.92-.59-1.43-.59-.52 0-1.04.2-1.43.59L10.3 9.45l-7.72 7.72c-.78.78-.78 2.05 0 2.83L4 21.41c.39.39.9.59 1.41.59.51 0 1.02-.2 1.41-.59l7.78-7.78 2.81-2.81c.8-.78.8-2.07 0-2.86zM5.41 20L4 18.59l7.72-7.72 1.47 1.35L5.41 20z\"/>\n",
              "  </svg>\n",
              "      </button>\n",
              "      \n",
              "  <style>\n",
              "    .colab-df-container {\n",
              "      display:flex;\n",
              "      flex-wrap:wrap;\n",
              "      gap: 12px;\n",
              "    }\n",
              "\n",
              "    .colab-df-convert {\n",
              "      background-color: #E8F0FE;\n",
              "      border: none;\n",
              "      border-radius: 50%;\n",
              "      cursor: pointer;\n",
              "      display: none;\n",
              "      fill: #1967D2;\n",
              "      height: 32px;\n",
              "      padding: 0 0 0 0;\n",
              "      width: 32px;\n",
              "    }\n",
              "\n",
              "    .colab-df-convert:hover {\n",
              "      background-color: #E2EBFA;\n",
              "      box-shadow: 0px 1px 2px rgba(60, 64, 67, 0.3), 0px 1px 3px 1px rgba(60, 64, 67, 0.15);\n",
              "      fill: #174EA6;\n",
              "    }\n",
              "\n",
              "    [theme=dark] .colab-df-convert {\n",
              "      background-color: #3B4455;\n",
              "      fill: #D2E3FC;\n",
              "    }\n",
              "\n",
              "    [theme=dark] .colab-df-convert:hover {\n",
              "      background-color: #434B5C;\n",
              "      box-shadow: 0px 1px 3px 1px rgba(0, 0, 0, 0.15);\n",
              "      filter: drop-shadow(0px 1px 2px rgba(0, 0, 0, 0.3));\n",
              "      fill: #FFFFFF;\n",
              "    }\n",
              "  </style>\n",
              "\n",
              "      <script>\n",
              "        const buttonEl =\n",
              "          document.querySelector('#df-f38df9b0-2c03-4e10-a040-b275709fd439 button.colab-df-convert');\n",
              "        buttonEl.style.display =\n",
              "          google.colab.kernel.accessAllowed ? 'block' : 'none';\n",
              "\n",
              "        async function convertToInteractive(key) {\n",
              "          const element = document.querySelector('#df-f38df9b0-2c03-4e10-a040-b275709fd439');\n",
              "          const dataTable =\n",
              "            await google.colab.kernel.invokeFunction('convertToInteractive',\n",
              "                                                     [key], {});\n",
              "          if (!dataTable) return;\n",
              "\n",
              "          const docLinkHtml = 'Like what you see? Visit the ' +\n",
              "            '<a target=\"_blank\" href=https://colab.research.google.com/notebooks/data_table.ipynb>data table notebook</a>'\n",
              "            + ' to learn more about interactive tables.';\n",
              "          element.innerHTML = '';\n",
              "          dataTable['output_type'] = 'display_data';\n",
              "          await google.colab.output.renderOutput(dataTable, element);\n",
              "          const docLink = document.createElement('div');\n",
              "          docLink.innerHTML = docLinkHtml;\n",
              "          element.appendChild(docLink);\n",
              "        }\n",
              "      </script>\n",
              "    </div>\n",
              "  </div>\n",
              "  "
            ],
            "text/plain": [
              "               id                                               text category\n",
              "0      tam_test_1  தலைவா STR இதுக்குதான் கதுருந்தோம் மாஸ் தலைவா t...      NOT\n",
              "1      tam_test_2  நாயுடு மக்கள் சார்பாக திரைப்படம் வெற்றி பெற வா...      NOT\n",
              "2      tam_test_3                     தில்லானா முயற்சி  தஞ்சை கோனார்      NOT\n",
              "3      tam_test_4  திரௌபதியின் துகிலுறித்த போது காத்த கண்ணனின் யா...      NOT\n",
              "4      tam_test_5  நான் தியேட்டர்லே படம் பார்த்து 35 வருஷமாச்சு! ...      NOT\n",
              "..            ...                                                ...      ...\n",
              "649  tam_test_650  நான் தலைவரோட ரசிகன்னு சொல்லிடு தலைவரை ஒடசல் போ...      OFF\n",
              "650  tam_test_651  வாழ்த்துக்கள்,உண்மை கதை உலகத்துக்கு காட்டிய மோ...      OFF\n",
              "651  tam_test_652  குருமா and பா..குஞ்சித் பயலுக கதர்ரது இன்னும் ...      OFF\n",
              "652  tam_test_653  வெள்ளார்கள் சார்பாக படம் வெற்றி பெற வாழ்த்துக்...      NOT\n",
              "653  tam_test_654  சமீபகாலமாக கால்பந்தாட்டத்தை மையப்படுத்தி தமிழ்...      NOT\n",
              "\n",
              "[654 rows x 3 columns]"
            ]
          },
          "metadata": {},
          "execution_count": 69
        }
      ],
      "source": [
        "# Naive Bayes\n",
        "\n",
        "predictions = le.inverse_transform(nb_test_pred)\n",
        "\n",
        "dataframe_test_nb = {\n",
        "    'id': dataframe_test['id'],\n",
        "    'text': dataframe_test['text'],\n",
        "    'category': predictions\n",
        "}\n",
        "\n",
        "dataframe_test_nb = pd.DataFrame(dataframe_test_nb)\n",
        "dataframe_test_nb.to_csv(\"Output/XLM-Roberta-No-Stem-NaiveBayes.csv\")\n",
        "dataframe_test_nb"
      ]
    },
    {
      "cell_type": "code",
      "execution_count": 70,
      "metadata": {
        "colab": {
          "base_uri": "https://localhost:8080/",
          "height": 423
        },
        "id": "GhNcLJ4tOQgB",
        "outputId": "703530dc-1611-4e9d-a798-0946f7befc12"
      },
      "outputs": [
        {
          "output_type": "execute_result",
          "data": {
            "text/html": [
              "\n",
              "  <div id=\"df-24a20694-f332-46fa-9db4-7c01740250da\">\n",
              "    <div class=\"colab-df-container\">\n",
              "      <div>\n",
              "<style scoped>\n",
              "    .dataframe tbody tr th:only-of-type {\n",
              "        vertical-align: middle;\n",
              "    }\n",
              "\n",
              "    .dataframe tbody tr th {\n",
              "        vertical-align: top;\n",
              "    }\n",
              "\n",
              "    .dataframe thead th {\n",
              "        text-align: right;\n",
              "    }\n",
              "</style>\n",
              "<table border=\"1\" class=\"dataframe\">\n",
              "  <thead>\n",
              "    <tr style=\"text-align: right;\">\n",
              "      <th></th>\n",
              "      <th>id</th>\n",
              "      <th>text</th>\n",
              "      <th>category</th>\n",
              "    </tr>\n",
              "  </thead>\n",
              "  <tbody>\n",
              "    <tr>\n",
              "      <th>0</th>\n",
              "      <td>tam_test_1</td>\n",
              "      <td>தலைவா STR இதுக்குதான் கதுருந்தோம் மாஸ் தலைவா t...</td>\n",
              "      <td>NOT</td>\n",
              "    </tr>\n",
              "    <tr>\n",
              "      <th>1</th>\n",
              "      <td>tam_test_2</td>\n",
              "      <td>நாயுடு மக்கள் சார்பாக திரைப்படம் வெற்றி பெற வா...</td>\n",
              "      <td>NOT</td>\n",
              "    </tr>\n",
              "    <tr>\n",
              "      <th>2</th>\n",
              "      <td>tam_test_3</td>\n",
              "      <td>தில்லானா முயற்சி  தஞ்சை கோனார்</td>\n",
              "      <td>NOT</td>\n",
              "    </tr>\n",
              "    <tr>\n",
              "      <th>3</th>\n",
              "      <td>tam_test_4</td>\n",
              "      <td>திரௌபதியின் துகிலுறித்த போது காத்த கண்ணனின் யா...</td>\n",
              "      <td>NOT</td>\n",
              "    </tr>\n",
              "    <tr>\n",
              "      <th>4</th>\n",
              "      <td>tam_test_5</td>\n",
              "      <td>நான் தியேட்டர்லே படம் பார்த்து 35 வருஷமாச்சு! ...</td>\n",
              "      <td>NOT</td>\n",
              "    </tr>\n",
              "    <tr>\n",
              "      <th>...</th>\n",
              "      <td>...</td>\n",
              "      <td>...</td>\n",
              "      <td>...</td>\n",
              "    </tr>\n",
              "    <tr>\n",
              "      <th>649</th>\n",
              "      <td>tam_test_650</td>\n",
              "      <td>நான் தலைவரோட ரசிகன்னு சொல்லிடு தலைவரை ஒடசல் போ...</td>\n",
              "      <td>NOT</td>\n",
              "    </tr>\n",
              "    <tr>\n",
              "      <th>650</th>\n",
              "      <td>tam_test_651</td>\n",
              "      <td>வாழ்த்துக்கள்,உண்மை கதை உலகத்துக்கு காட்டிய மோ...</td>\n",
              "      <td>NOT</td>\n",
              "    </tr>\n",
              "    <tr>\n",
              "      <th>651</th>\n",
              "      <td>tam_test_652</td>\n",
              "      <td>குருமா and பா..குஞ்சித் பயலுக கதர்ரது இன்னும் ...</td>\n",
              "      <td>NOT</td>\n",
              "    </tr>\n",
              "    <tr>\n",
              "      <th>652</th>\n",
              "      <td>tam_test_653</td>\n",
              "      <td>வெள்ளார்கள் சார்பாக படம் வெற்றி பெற வாழ்த்துக்...</td>\n",
              "      <td>NOT</td>\n",
              "    </tr>\n",
              "    <tr>\n",
              "      <th>653</th>\n",
              "      <td>tam_test_654</td>\n",
              "      <td>சமீபகாலமாக கால்பந்தாட்டத்தை மையப்படுத்தி தமிழ்...</td>\n",
              "      <td>NOT</td>\n",
              "    </tr>\n",
              "  </tbody>\n",
              "</table>\n",
              "<p>654 rows × 3 columns</p>\n",
              "</div>\n",
              "      <button class=\"colab-df-convert\" onclick=\"convertToInteractive('df-24a20694-f332-46fa-9db4-7c01740250da')\"\n",
              "              title=\"Convert this dataframe to an interactive table.\"\n",
              "              style=\"display:none;\">\n",
              "        \n",
              "  <svg xmlns=\"http://www.w3.org/2000/svg\" height=\"24px\"viewBox=\"0 0 24 24\"\n",
              "       width=\"24px\">\n",
              "    <path d=\"M0 0h24v24H0V0z\" fill=\"none\"/>\n",
              "    <path d=\"M18.56 5.44l.94 2.06.94-2.06 2.06-.94-2.06-.94-.94-2.06-.94 2.06-2.06.94zm-11 1L8.5 8.5l.94-2.06 2.06-.94-2.06-.94L8.5 2.5l-.94 2.06-2.06.94zm10 10l.94 2.06.94-2.06 2.06-.94-2.06-.94-.94-2.06-.94 2.06-2.06.94z\"/><path d=\"M17.41 7.96l-1.37-1.37c-.4-.4-.92-.59-1.43-.59-.52 0-1.04.2-1.43.59L10.3 9.45l-7.72 7.72c-.78.78-.78 2.05 0 2.83L4 21.41c.39.39.9.59 1.41.59.51 0 1.02-.2 1.41-.59l7.78-7.78 2.81-2.81c.8-.78.8-2.07 0-2.86zM5.41 20L4 18.59l7.72-7.72 1.47 1.35L5.41 20z\"/>\n",
              "  </svg>\n",
              "      </button>\n",
              "      \n",
              "  <style>\n",
              "    .colab-df-container {\n",
              "      display:flex;\n",
              "      flex-wrap:wrap;\n",
              "      gap: 12px;\n",
              "    }\n",
              "\n",
              "    .colab-df-convert {\n",
              "      background-color: #E8F0FE;\n",
              "      border: none;\n",
              "      border-radius: 50%;\n",
              "      cursor: pointer;\n",
              "      display: none;\n",
              "      fill: #1967D2;\n",
              "      height: 32px;\n",
              "      padding: 0 0 0 0;\n",
              "      width: 32px;\n",
              "    }\n",
              "\n",
              "    .colab-df-convert:hover {\n",
              "      background-color: #E2EBFA;\n",
              "      box-shadow: 0px 1px 2px rgba(60, 64, 67, 0.3), 0px 1px 3px 1px rgba(60, 64, 67, 0.15);\n",
              "      fill: #174EA6;\n",
              "    }\n",
              "\n",
              "    [theme=dark] .colab-df-convert {\n",
              "      background-color: #3B4455;\n",
              "      fill: #D2E3FC;\n",
              "    }\n",
              "\n",
              "    [theme=dark] .colab-df-convert:hover {\n",
              "      background-color: #434B5C;\n",
              "      box-shadow: 0px 1px 3px 1px rgba(0, 0, 0, 0.15);\n",
              "      filter: drop-shadow(0px 1px 2px rgba(0, 0, 0, 0.3));\n",
              "      fill: #FFFFFF;\n",
              "    }\n",
              "  </style>\n",
              "\n",
              "      <script>\n",
              "        const buttonEl =\n",
              "          document.querySelector('#df-24a20694-f332-46fa-9db4-7c01740250da button.colab-df-convert');\n",
              "        buttonEl.style.display =\n",
              "          google.colab.kernel.accessAllowed ? 'block' : 'none';\n",
              "\n",
              "        async function convertToInteractive(key) {\n",
              "          const element = document.querySelector('#df-24a20694-f332-46fa-9db4-7c01740250da');\n",
              "          const dataTable =\n",
              "            await google.colab.kernel.invokeFunction('convertToInteractive',\n",
              "                                                     [key], {});\n",
              "          if (!dataTable) return;\n",
              "\n",
              "          const docLinkHtml = 'Like what you see? Visit the ' +\n",
              "            '<a target=\"_blank\" href=https://colab.research.google.com/notebooks/data_table.ipynb>data table notebook</a>'\n",
              "            + ' to learn more about interactive tables.';\n",
              "          element.innerHTML = '';\n",
              "          dataTable['output_type'] = 'display_data';\n",
              "          await google.colab.output.renderOutput(dataTable, element);\n",
              "          const docLink = document.createElement('div');\n",
              "          docLink.innerHTML = docLinkHtml;\n",
              "          element.appendChild(docLink);\n",
              "        }\n",
              "      </script>\n",
              "    </div>\n",
              "  </div>\n",
              "  "
            ],
            "text/plain": [
              "               id                                               text category\n",
              "0      tam_test_1  தலைவா STR இதுக்குதான் கதுருந்தோம் மாஸ் தலைவா t...      NOT\n",
              "1      tam_test_2  நாயுடு மக்கள் சார்பாக திரைப்படம் வெற்றி பெற வா...      NOT\n",
              "2      tam_test_3                     தில்லானா முயற்சி  தஞ்சை கோனார்      NOT\n",
              "3      tam_test_4  திரௌபதியின் துகிலுறித்த போது காத்த கண்ணனின் யா...      NOT\n",
              "4      tam_test_5  நான் தியேட்டர்லே படம் பார்த்து 35 வருஷமாச்சு! ...      NOT\n",
              "..            ...                                                ...      ...\n",
              "649  tam_test_650  நான் தலைவரோட ரசிகன்னு சொல்லிடு தலைவரை ஒடசல் போ...      NOT\n",
              "650  tam_test_651  வாழ்த்துக்கள்,உண்மை கதை உலகத்துக்கு காட்டிய மோ...      NOT\n",
              "651  tam_test_652  குருமா and பா..குஞ்சித் பயலுக கதர்ரது இன்னும் ...      NOT\n",
              "652  tam_test_653  வெள்ளார்கள் சார்பாக படம் வெற்றி பெற வாழ்த்துக்...      NOT\n",
              "653  tam_test_654  சமீபகாலமாக கால்பந்தாட்டத்தை மையப்படுத்தி தமிழ்...      NOT\n",
              "\n",
              "[654 rows x 3 columns]"
            ]
          },
          "metadata": {},
          "execution_count": 70
        }
      ],
      "source": [
        "# Stochastic Gradient Descent\n",
        "\n",
        "predictions = le.inverse_transform(sgd_test_pred)\n",
        "\n",
        "dataframe_test_sgd = {\n",
        "    'id': dataframe_test['id'],\n",
        "    'text': dataframe_test['text'],\n",
        "    'category': predictions\n",
        "}\n",
        "\n",
        "dataframe_test_sgd = pd.DataFrame(dataframe_test_sgd)\n",
        "dataframe_test_sgd.to_csv(\"Output/XLM-Roberta-No-Stem-StochasticGradientDescent.csv\")\n",
        "dataframe_test_sgd"
      ]
    },
    {
      "cell_type": "code",
      "execution_count": 71,
      "metadata": {
        "colab": {
          "base_uri": "https://localhost:8080/",
          "height": 423
        },
        "id": "WhoRZ4atOUIp",
        "outputId": "9de6e74a-ea94-4eee-81fd-4331eb757c24"
      },
      "outputs": [
        {
          "output_type": "execute_result",
          "data": {
            "text/html": [
              "\n",
              "  <div id=\"df-1d0914ec-5ccd-47a0-8382-c24c9925f411\">\n",
              "    <div class=\"colab-df-container\">\n",
              "      <div>\n",
              "<style scoped>\n",
              "    .dataframe tbody tr th:only-of-type {\n",
              "        vertical-align: middle;\n",
              "    }\n",
              "\n",
              "    .dataframe tbody tr th {\n",
              "        vertical-align: top;\n",
              "    }\n",
              "\n",
              "    .dataframe thead th {\n",
              "        text-align: right;\n",
              "    }\n",
              "</style>\n",
              "<table border=\"1\" class=\"dataframe\">\n",
              "  <thead>\n",
              "    <tr style=\"text-align: right;\">\n",
              "      <th></th>\n",
              "      <th>id</th>\n",
              "      <th>text</th>\n",
              "      <th>category</th>\n",
              "    </tr>\n",
              "  </thead>\n",
              "  <tbody>\n",
              "    <tr>\n",
              "      <th>0</th>\n",
              "      <td>tam_test_1</td>\n",
              "      <td>தலைவா STR இதுக்குதான் கதுருந்தோம் மாஸ் தலைவா t...</td>\n",
              "      <td>NOT</td>\n",
              "    </tr>\n",
              "    <tr>\n",
              "      <th>1</th>\n",
              "      <td>tam_test_2</td>\n",
              "      <td>நாயுடு மக்கள் சார்பாக திரைப்படம் வெற்றி பெற வா...</td>\n",
              "      <td>NOT</td>\n",
              "    </tr>\n",
              "    <tr>\n",
              "      <th>2</th>\n",
              "      <td>tam_test_3</td>\n",
              "      <td>தில்லானா முயற்சி  தஞ்சை கோனார்</td>\n",
              "      <td>NOT</td>\n",
              "    </tr>\n",
              "    <tr>\n",
              "      <th>3</th>\n",
              "      <td>tam_test_4</td>\n",
              "      <td>திரௌபதியின் துகிலுறித்த போது காத்த கண்ணனின் யா...</td>\n",
              "      <td>NOT</td>\n",
              "    </tr>\n",
              "    <tr>\n",
              "      <th>4</th>\n",
              "      <td>tam_test_5</td>\n",
              "      <td>நான் தியேட்டர்லே படம் பார்த்து 35 வருஷமாச்சு! ...</td>\n",
              "      <td>OFF</td>\n",
              "    </tr>\n",
              "    <tr>\n",
              "      <th>...</th>\n",
              "      <td>...</td>\n",
              "      <td>...</td>\n",
              "      <td>...</td>\n",
              "    </tr>\n",
              "    <tr>\n",
              "      <th>649</th>\n",
              "      <td>tam_test_650</td>\n",
              "      <td>நான் தலைவரோட ரசிகன்னு சொல்லிடு தலைவரை ஒடசல் போ...</td>\n",
              "      <td>NOT</td>\n",
              "    </tr>\n",
              "    <tr>\n",
              "      <th>650</th>\n",
              "      <td>tam_test_651</td>\n",
              "      <td>வாழ்த்துக்கள்,உண்மை கதை உலகத்துக்கு காட்டிய மோ...</td>\n",
              "      <td>NOT</td>\n",
              "    </tr>\n",
              "    <tr>\n",
              "      <th>651</th>\n",
              "      <td>tam_test_652</td>\n",
              "      <td>குருமா and பா..குஞ்சித் பயலுக கதர்ரது இன்னும் ...</td>\n",
              "      <td>NOT</td>\n",
              "    </tr>\n",
              "    <tr>\n",
              "      <th>652</th>\n",
              "      <td>tam_test_653</td>\n",
              "      <td>வெள்ளார்கள் சார்பாக படம் வெற்றி பெற வாழ்த்துக்...</td>\n",
              "      <td>NOT</td>\n",
              "    </tr>\n",
              "    <tr>\n",
              "      <th>653</th>\n",
              "      <td>tam_test_654</td>\n",
              "      <td>சமீபகாலமாக கால்பந்தாட்டத்தை மையப்படுத்தி தமிழ்...</td>\n",
              "      <td>OFF</td>\n",
              "    </tr>\n",
              "  </tbody>\n",
              "</table>\n",
              "<p>654 rows × 3 columns</p>\n",
              "</div>\n",
              "      <button class=\"colab-df-convert\" onclick=\"convertToInteractive('df-1d0914ec-5ccd-47a0-8382-c24c9925f411')\"\n",
              "              title=\"Convert this dataframe to an interactive table.\"\n",
              "              style=\"display:none;\">\n",
              "        \n",
              "  <svg xmlns=\"http://www.w3.org/2000/svg\" height=\"24px\"viewBox=\"0 0 24 24\"\n",
              "       width=\"24px\">\n",
              "    <path d=\"M0 0h24v24H0V0z\" fill=\"none\"/>\n",
              "    <path d=\"M18.56 5.44l.94 2.06.94-2.06 2.06-.94-2.06-.94-.94-2.06-.94 2.06-2.06.94zm-11 1L8.5 8.5l.94-2.06 2.06-.94-2.06-.94L8.5 2.5l-.94 2.06-2.06.94zm10 10l.94 2.06.94-2.06 2.06-.94-2.06-.94-.94-2.06-.94 2.06-2.06.94z\"/><path d=\"M17.41 7.96l-1.37-1.37c-.4-.4-.92-.59-1.43-.59-.52 0-1.04.2-1.43.59L10.3 9.45l-7.72 7.72c-.78.78-.78 2.05 0 2.83L4 21.41c.39.39.9.59 1.41.59.51 0 1.02-.2 1.41-.59l7.78-7.78 2.81-2.81c.8-.78.8-2.07 0-2.86zM5.41 20L4 18.59l7.72-7.72 1.47 1.35L5.41 20z\"/>\n",
              "  </svg>\n",
              "      </button>\n",
              "      \n",
              "  <style>\n",
              "    .colab-df-container {\n",
              "      display:flex;\n",
              "      flex-wrap:wrap;\n",
              "      gap: 12px;\n",
              "    }\n",
              "\n",
              "    .colab-df-convert {\n",
              "      background-color: #E8F0FE;\n",
              "      border: none;\n",
              "      border-radius: 50%;\n",
              "      cursor: pointer;\n",
              "      display: none;\n",
              "      fill: #1967D2;\n",
              "      height: 32px;\n",
              "      padding: 0 0 0 0;\n",
              "      width: 32px;\n",
              "    }\n",
              "\n",
              "    .colab-df-convert:hover {\n",
              "      background-color: #E2EBFA;\n",
              "      box-shadow: 0px 1px 2px rgba(60, 64, 67, 0.3), 0px 1px 3px 1px rgba(60, 64, 67, 0.15);\n",
              "      fill: #174EA6;\n",
              "    }\n",
              "\n",
              "    [theme=dark] .colab-df-convert {\n",
              "      background-color: #3B4455;\n",
              "      fill: #D2E3FC;\n",
              "    }\n",
              "\n",
              "    [theme=dark] .colab-df-convert:hover {\n",
              "      background-color: #434B5C;\n",
              "      box-shadow: 0px 1px 3px 1px rgba(0, 0, 0, 0.15);\n",
              "      filter: drop-shadow(0px 1px 2px rgba(0, 0, 0, 0.3));\n",
              "      fill: #FFFFFF;\n",
              "    }\n",
              "  </style>\n",
              "\n",
              "      <script>\n",
              "        const buttonEl =\n",
              "          document.querySelector('#df-1d0914ec-5ccd-47a0-8382-c24c9925f411 button.colab-df-convert');\n",
              "        buttonEl.style.display =\n",
              "          google.colab.kernel.accessAllowed ? 'block' : 'none';\n",
              "\n",
              "        async function convertToInteractive(key) {\n",
              "          const element = document.querySelector('#df-1d0914ec-5ccd-47a0-8382-c24c9925f411');\n",
              "          const dataTable =\n",
              "            await google.colab.kernel.invokeFunction('convertToInteractive',\n",
              "                                                     [key], {});\n",
              "          if (!dataTable) return;\n",
              "\n",
              "          const docLinkHtml = 'Like what you see? Visit the ' +\n",
              "            '<a target=\"_blank\" href=https://colab.research.google.com/notebooks/data_table.ipynb>data table notebook</a>'\n",
              "            + ' to learn more about interactive tables.';\n",
              "          element.innerHTML = '';\n",
              "          dataTable['output_type'] = 'display_data';\n",
              "          await google.colab.output.renderOutput(dataTable, element);\n",
              "          const docLink = document.createElement('div');\n",
              "          docLink.innerHTML = docLinkHtml;\n",
              "          element.appendChild(docLink);\n",
              "        }\n",
              "      </script>\n",
              "    </div>\n",
              "  </div>\n",
              "  "
            ],
            "text/plain": [
              "               id                                               text category\n",
              "0      tam_test_1  தலைவா STR இதுக்குதான் கதுருந்தோம் மாஸ் தலைவா t...      NOT\n",
              "1      tam_test_2  நாயுடு மக்கள் சார்பாக திரைப்படம் வெற்றி பெற வா...      NOT\n",
              "2      tam_test_3                     தில்லானா முயற்சி  தஞ்சை கோனார்      NOT\n",
              "3      tam_test_4  திரௌபதியின் துகிலுறித்த போது காத்த கண்ணனின் யா...      NOT\n",
              "4      tam_test_5  நான் தியேட்டர்லே படம் பார்த்து 35 வருஷமாச்சு! ...      OFF\n",
              "..            ...                                                ...      ...\n",
              "649  tam_test_650  நான் தலைவரோட ரசிகன்னு சொல்லிடு தலைவரை ஒடசல் போ...      NOT\n",
              "650  tam_test_651  வாழ்த்துக்கள்,உண்மை கதை உலகத்துக்கு காட்டிய மோ...      NOT\n",
              "651  tam_test_652  குருமா and பா..குஞ்சித் பயலுக கதர்ரது இன்னும் ...      NOT\n",
              "652  tam_test_653  வெள்ளார்கள் சார்பாக படம் வெற்றி பெற வாழ்த்துக்...      NOT\n",
              "653  tam_test_654  சமீபகாலமாக கால்பந்தாட்டத்தை மையப்படுத்தி தமிழ்...      OFF\n",
              "\n",
              "[654 rows x 3 columns]"
            ]
          },
          "metadata": {},
          "execution_count": 71
        }
      ],
      "source": [
        "# K Nearest Neighbours\n",
        "\n",
        "predictions = le.inverse_transform(knn_test_pred)\n",
        "\n",
        "dataframe_test_knn = {\n",
        "    'id': dataframe_test['id'],\n",
        "    'text': dataframe_test['text'],\n",
        "    'category': predictions\n",
        "}\n",
        "\n",
        "dataframe_test_knn = pd.DataFrame(dataframe_test_knn)\n",
        "dataframe_test_knn.to_csv(\"Output/XLM-Roberta-No-Stem-KNearestNeighbours.csv\")\n",
        "dataframe_test_knn"
      ]
    },
    {
      "cell_type": "code",
      "execution_count": 72,
      "metadata": {
        "colab": {
          "base_uri": "https://localhost:8080/",
          "height": 423
        },
        "id": "QKxZREKAOXgR",
        "outputId": "efba4550-7928-4ea2-c87b-26f8ef913249"
      },
      "outputs": [
        {
          "output_type": "execute_result",
          "data": {
            "text/html": [
              "\n",
              "  <div id=\"df-1e6bdeb2-d86f-4b71-89e8-857152592733\">\n",
              "    <div class=\"colab-df-container\">\n",
              "      <div>\n",
              "<style scoped>\n",
              "    .dataframe tbody tr th:only-of-type {\n",
              "        vertical-align: middle;\n",
              "    }\n",
              "\n",
              "    .dataframe tbody tr th {\n",
              "        vertical-align: top;\n",
              "    }\n",
              "\n",
              "    .dataframe thead th {\n",
              "        text-align: right;\n",
              "    }\n",
              "</style>\n",
              "<table border=\"1\" class=\"dataframe\">\n",
              "  <thead>\n",
              "    <tr style=\"text-align: right;\">\n",
              "      <th></th>\n",
              "      <th>id</th>\n",
              "      <th>text</th>\n",
              "      <th>category</th>\n",
              "    </tr>\n",
              "  </thead>\n",
              "  <tbody>\n",
              "    <tr>\n",
              "      <th>0</th>\n",
              "      <td>tam_test_1</td>\n",
              "      <td>தலைவா STR இதுக்குதான் கதுருந்தோம் மாஸ் தலைவா t...</td>\n",
              "      <td>NOT</td>\n",
              "    </tr>\n",
              "    <tr>\n",
              "      <th>1</th>\n",
              "      <td>tam_test_2</td>\n",
              "      <td>நாயுடு மக்கள் சார்பாக திரைப்படம் வெற்றி பெற வா...</td>\n",
              "      <td>NOT</td>\n",
              "    </tr>\n",
              "    <tr>\n",
              "      <th>2</th>\n",
              "      <td>tam_test_3</td>\n",
              "      <td>தில்லானா முயற்சி  தஞ்சை கோனார்</td>\n",
              "      <td>NOT</td>\n",
              "    </tr>\n",
              "    <tr>\n",
              "      <th>3</th>\n",
              "      <td>tam_test_4</td>\n",
              "      <td>திரௌபதியின் துகிலுறித்த போது காத்த கண்ணனின் யா...</td>\n",
              "      <td>NOT</td>\n",
              "    </tr>\n",
              "    <tr>\n",
              "      <th>4</th>\n",
              "      <td>tam_test_5</td>\n",
              "      <td>நான் தியேட்டர்லே படம் பார்த்து 35 வருஷமாச்சு! ...</td>\n",
              "      <td>NOT</td>\n",
              "    </tr>\n",
              "    <tr>\n",
              "      <th>...</th>\n",
              "      <td>...</td>\n",
              "      <td>...</td>\n",
              "      <td>...</td>\n",
              "    </tr>\n",
              "    <tr>\n",
              "      <th>649</th>\n",
              "      <td>tam_test_650</td>\n",
              "      <td>நான் தலைவரோட ரசிகன்னு சொல்லிடு தலைவரை ஒடசல் போ...</td>\n",
              "      <td>OFF</td>\n",
              "    </tr>\n",
              "    <tr>\n",
              "      <th>650</th>\n",
              "      <td>tam_test_651</td>\n",
              "      <td>வாழ்த்துக்கள்,உண்மை கதை உலகத்துக்கு காட்டிய மோ...</td>\n",
              "      <td>NOT</td>\n",
              "    </tr>\n",
              "    <tr>\n",
              "      <th>651</th>\n",
              "      <td>tam_test_652</td>\n",
              "      <td>குருமா and பா..குஞ்சித் பயலுக கதர்ரது இன்னும் ...</td>\n",
              "      <td>OFF</td>\n",
              "    </tr>\n",
              "    <tr>\n",
              "      <th>652</th>\n",
              "      <td>tam_test_653</td>\n",
              "      <td>வெள்ளார்கள் சார்பாக படம் வெற்றி பெற வாழ்த்துக்...</td>\n",
              "      <td>NOT</td>\n",
              "    </tr>\n",
              "    <tr>\n",
              "      <th>653</th>\n",
              "      <td>tam_test_654</td>\n",
              "      <td>சமீபகாலமாக கால்பந்தாட்டத்தை மையப்படுத்தி தமிழ்...</td>\n",
              "      <td>NOT</td>\n",
              "    </tr>\n",
              "  </tbody>\n",
              "</table>\n",
              "<p>654 rows × 3 columns</p>\n",
              "</div>\n",
              "      <button class=\"colab-df-convert\" onclick=\"convertToInteractive('df-1e6bdeb2-d86f-4b71-89e8-857152592733')\"\n",
              "              title=\"Convert this dataframe to an interactive table.\"\n",
              "              style=\"display:none;\">\n",
              "        \n",
              "  <svg xmlns=\"http://www.w3.org/2000/svg\" height=\"24px\"viewBox=\"0 0 24 24\"\n",
              "       width=\"24px\">\n",
              "    <path d=\"M0 0h24v24H0V0z\" fill=\"none\"/>\n",
              "    <path d=\"M18.56 5.44l.94 2.06.94-2.06 2.06-.94-2.06-.94-.94-2.06-.94 2.06-2.06.94zm-11 1L8.5 8.5l.94-2.06 2.06-.94-2.06-.94L8.5 2.5l-.94 2.06-2.06.94zm10 10l.94 2.06.94-2.06 2.06-.94-2.06-.94-.94-2.06-.94 2.06-2.06.94z\"/><path d=\"M17.41 7.96l-1.37-1.37c-.4-.4-.92-.59-1.43-.59-.52 0-1.04.2-1.43.59L10.3 9.45l-7.72 7.72c-.78.78-.78 2.05 0 2.83L4 21.41c.39.39.9.59 1.41.59.51 0 1.02-.2 1.41-.59l7.78-7.78 2.81-2.81c.8-.78.8-2.07 0-2.86zM5.41 20L4 18.59l7.72-7.72 1.47 1.35L5.41 20z\"/>\n",
              "  </svg>\n",
              "      </button>\n",
              "      \n",
              "  <style>\n",
              "    .colab-df-container {\n",
              "      display:flex;\n",
              "      flex-wrap:wrap;\n",
              "      gap: 12px;\n",
              "    }\n",
              "\n",
              "    .colab-df-convert {\n",
              "      background-color: #E8F0FE;\n",
              "      border: none;\n",
              "      border-radius: 50%;\n",
              "      cursor: pointer;\n",
              "      display: none;\n",
              "      fill: #1967D2;\n",
              "      height: 32px;\n",
              "      padding: 0 0 0 0;\n",
              "      width: 32px;\n",
              "    }\n",
              "\n",
              "    .colab-df-convert:hover {\n",
              "      background-color: #E2EBFA;\n",
              "      box-shadow: 0px 1px 2px rgba(60, 64, 67, 0.3), 0px 1px 3px 1px rgba(60, 64, 67, 0.15);\n",
              "      fill: #174EA6;\n",
              "    }\n",
              "\n",
              "    [theme=dark] .colab-df-convert {\n",
              "      background-color: #3B4455;\n",
              "      fill: #D2E3FC;\n",
              "    }\n",
              "\n",
              "    [theme=dark] .colab-df-convert:hover {\n",
              "      background-color: #434B5C;\n",
              "      box-shadow: 0px 1px 3px 1px rgba(0, 0, 0, 0.15);\n",
              "      filter: drop-shadow(0px 1px 2px rgba(0, 0, 0, 0.3));\n",
              "      fill: #FFFFFF;\n",
              "    }\n",
              "  </style>\n",
              "\n",
              "      <script>\n",
              "        const buttonEl =\n",
              "          document.querySelector('#df-1e6bdeb2-d86f-4b71-89e8-857152592733 button.colab-df-convert');\n",
              "        buttonEl.style.display =\n",
              "          google.colab.kernel.accessAllowed ? 'block' : 'none';\n",
              "\n",
              "        async function convertToInteractive(key) {\n",
              "          const element = document.querySelector('#df-1e6bdeb2-d86f-4b71-89e8-857152592733');\n",
              "          const dataTable =\n",
              "            await google.colab.kernel.invokeFunction('convertToInteractive',\n",
              "                                                     [key], {});\n",
              "          if (!dataTable) return;\n",
              "\n",
              "          const docLinkHtml = 'Like what you see? Visit the ' +\n",
              "            '<a target=\"_blank\" href=https://colab.research.google.com/notebooks/data_table.ipynb>data table notebook</a>'\n",
              "            + ' to learn more about interactive tables.';\n",
              "          element.innerHTML = '';\n",
              "          dataTable['output_type'] = 'display_data';\n",
              "          await google.colab.output.renderOutput(dataTable, element);\n",
              "          const docLink = document.createElement('div');\n",
              "          docLink.innerHTML = docLinkHtml;\n",
              "          element.appendChild(docLink);\n",
              "        }\n",
              "      </script>\n",
              "    </div>\n",
              "  </div>\n",
              "  "
            ],
            "text/plain": [
              "               id                                               text category\n",
              "0      tam_test_1  தலைவா STR இதுக்குதான் கதுருந்தோம் மாஸ் தலைவா t...      NOT\n",
              "1      tam_test_2  நாயுடு மக்கள் சார்பாக திரைப்படம் வெற்றி பெற வா...      NOT\n",
              "2      tam_test_3                     தில்லானா முயற்சி  தஞ்சை கோனார்      NOT\n",
              "3      tam_test_4  திரௌபதியின் துகிலுறித்த போது காத்த கண்ணனின் யா...      NOT\n",
              "4      tam_test_5  நான் தியேட்டர்லே படம் பார்த்து 35 வருஷமாச்சு! ...      NOT\n",
              "..            ...                                                ...      ...\n",
              "649  tam_test_650  நான் தலைவரோட ரசிகன்னு சொல்லிடு தலைவரை ஒடசல் போ...      OFF\n",
              "650  tam_test_651  வாழ்த்துக்கள்,உண்மை கதை உலகத்துக்கு காட்டிய மோ...      NOT\n",
              "651  tam_test_652  குருமா and பா..குஞ்சித் பயலுக கதர்ரது இன்னும் ...      OFF\n",
              "652  tam_test_653  வெள்ளார்கள் சார்பாக படம் வெற்றி பெற வாழ்த்துக்...      NOT\n",
              "653  tam_test_654  சமீபகாலமாக கால்பந்தாட்டத்தை மையப்படுத்தி தமிழ்...      NOT\n",
              "\n",
              "[654 rows x 3 columns]"
            ]
          },
          "metadata": {},
          "execution_count": 72
        }
      ],
      "source": [
        "# Decision Tree\n",
        "\n",
        "predictions = le.inverse_transform(dt_test_pred)\n",
        "\n",
        "dataframe_test_dt = {\n",
        "    'id': dataframe_test['id'],\n",
        "    'text': dataframe_test['text'],\n",
        "    'category': predictions\n",
        "}\n",
        "\n",
        "dataframe_test_dt = pd.DataFrame(dataframe_test_dt)\n",
        "dataframe_test_dt.to_csv(\"Output/XLM-Roberta-No-Stem-DecisionTree.csv\")\n",
        "dataframe_test_dt"
      ]
    },
    {
      "cell_type": "code",
      "execution_count": 73,
      "metadata": {
        "colab": {
          "base_uri": "https://localhost:8080/",
          "height": 423
        },
        "id": "AtEa4WtzOdQn",
        "outputId": "afb25c06-a42d-4684-dad0-d69ba8275e74"
      },
      "outputs": [
        {
          "output_type": "execute_result",
          "data": {
            "text/html": [
              "\n",
              "  <div id=\"df-eebcd2bd-b9aa-4167-8bd0-1165a0f93d8d\">\n",
              "    <div class=\"colab-df-container\">\n",
              "      <div>\n",
              "<style scoped>\n",
              "    .dataframe tbody tr th:only-of-type {\n",
              "        vertical-align: middle;\n",
              "    }\n",
              "\n",
              "    .dataframe tbody tr th {\n",
              "        vertical-align: top;\n",
              "    }\n",
              "\n",
              "    .dataframe thead th {\n",
              "        text-align: right;\n",
              "    }\n",
              "</style>\n",
              "<table border=\"1\" class=\"dataframe\">\n",
              "  <thead>\n",
              "    <tr style=\"text-align: right;\">\n",
              "      <th></th>\n",
              "      <th>id</th>\n",
              "      <th>text</th>\n",
              "      <th>category</th>\n",
              "    </tr>\n",
              "  </thead>\n",
              "  <tbody>\n",
              "    <tr>\n",
              "      <th>0</th>\n",
              "      <td>tam_test_1</td>\n",
              "      <td>தலைவா STR இதுக்குதான் கதுருந்தோம் மாஸ் தலைவா t...</td>\n",
              "      <td>NOT</td>\n",
              "    </tr>\n",
              "    <tr>\n",
              "      <th>1</th>\n",
              "      <td>tam_test_2</td>\n",
              "      <td>நாயுடு மக்கள் சார்பாக திரைப்படம் வெற்றி பெற வா...</td>\n",
              "      <td>NOT</td>\n",
              "    </tr>\n",
              "    <tr>\n",
              "      <th>2</th>\n",
              "      <td>tam_test_3</td>\n",
              "      <td>தில்லானா முயற்சி  தஞ்சை கோனார்</td>\n",
              "      <td>NOT</td>\n",
              "    </tr>\n",
              "    <tr>\n",
              "      <th>3</th>\n",
              "      <td>tam_test_4</td>\n",
              "      <td>திரௌபதியின் துகிலுறித்த போது காத்த கண்ணனின் யா...</td>\n",
              "      <td>NOT</td>\n",
              "    </tr>\n",
              "    <tr>\n",
              "      <th>4</th>\n",
              "      <td>tam_test_5</td>\n",
              "      <td>நான் தியேட்டர்லே படம் பார்த்து 35 வருஷமாச்சு! ...</td>\n",
              "      <td>NOT</td>\n",
              "    </tr>\n",
              "    <tr>\n",
              "      <th>...</th>\n",
              "      <td>...</td>\n",
              "      <td>...</td>\n",
              "      <td>...</td>\n",
              "    </tr>\n",
              "    <tr>\n",
              "      <th>649</th>\n",
              "      <td>tam_test_650</td>\n",
              "      <td>நான் தலைவரோட ரசிகன்னு சொல்லிடு தலைவரை ஒடசல் போ...</td>\n",
              "      <td>NOT</td>\n",
              "    </tr>\n",
              "    <tr>\n",
              "      <th>650</th>\n",
              "      <td>tam_test_651</td>\n",
              "      <td>வாழ்த்துக்கள்,உண்மை கதை உலகத்துக்கு காட்டிய மோ...</td>\n",
              "      <td>NOT</td>\n",
              "    </tr>\n",
              "    <tr>\n",
              "      <th>651</th>\n",
              "      <td>tam_test_652</td>\n",
              "      <td>குருமா and பா..குஞ்சித் பயலுக கதர்ரது இன்னும் ...</td>\n",
              "      <td>NOT</td>\n",
              "    </tr>\n",
              "    <tr>\n",
              "      <th>652</th>\n",
              "      <td>tam_test_653</td>\n",
              "      <td>வெள்ளார்கள் சார்பாக படம் வெற்றி பெற வாழ்த்துக்...</td>\n",
              "      <td>NOT</td>\n",
              "    </tr>\n",
              "    <tr>\n",
              "      <th>653</th>\n",
              "      <td>tam_test_654</td>\n",
              "      <td>சமீபகாலமாக கால்பந்தாட்டத்தை மையப்படுத்தி தமிழ்...</td>\n",
              "      <td>NOT</td>\n",
              "    </tr>\n",
              "  </tbody>\n",
              "</table>\n",
              "<p>654 rows × 3 columns</p>\n",
              "</div>\n",
              "      <button class=\"colab-df-convert\" onclick=\"convertToInteractive('df-eebcd2bd-b9aa-4167-8bd0-1165a0f93d8d')\"\n",
              "              title=\"Convert this dataframe to an interactive table.\"\n",
              "              style=\"display:none;\">\n",
              "        \n",
              "  <svg xmlns=\"http://www.w3.org/2000/svg\" height=\"24px\"viewBox=\"0 0 24 24\"\n",
              "       width=\"24px\">\n",
              "    <path d=\"M0 0h24v24H0V0z\" fill=\"none\"/>\n",
              "    <path d=\"M18.56 5.44l.94 2.06.94-2.06 2.06-.94-2.06-.94-.94-2.06-.94 2.06-2.06.94zm-11 1L8.5 8.5l.94-2.06 2.06-.94-2.06-.94L8.5 2.5l-.94 2.06-2.06.94zm10 10l.94 2.06.94-2.06 2.06-.94-2.06-.94-.94-2.06-.94 2.06-2.06.94z\"/><path d=\"M17.41 7.96l-1.37-1.37c-.4-.4-.92-.59-1.43-.59-.52 0-1.04.2-1.43.59L10.3 9.45l-7.72 7.72c-.78.78-.78 2.05 0 2.83L4 21.41c.39.39.9.59 1.41.59.51 0 1.02-.2 1.41-.59l7.78-7.78 2.81-2.81c.8-.78.8-2.07 0-2.86zM5.41 20L4 18.59l7.72-7.72 1.47 1.35L5.41 20z\"/>\n",
              "  </svg>\n",
              "      </button>\n",
              "      \n",
              "  <style>\n",
              "    .colab-df-container {\n",
              "      display:flex;\n",
              "      flex-wrap:wrap;\n",
              "      gap: 12px;\n",
              "    }\n",
              "\n",
              "    .colab-df-convert {\n",
              "      background-color: #E8F0FE;\n",
              "      border: none;\n",
              "      border-radius: 50%;\n",
              "      cursor: pointer;\n",
              "      display: none;\n",
              "      fill: #1967D2;\n",
              "      height: 32px;\n",
              "      padding: 0 0 0 0;\n",
              "      width: 32px;\n",
              "    }\n",
              "\n",
              "    .colab-df-convert:hover {\n",
              "      background-color: #E2EBFA;\n",
              "      box-shadow: 0px 1px 2px rgba(60, 64, 67, 0.3), 0px 1px 3px 1px rgba(60, 64, 67, 0.15);\n",
              "      fill: #174EA6;\n",
              "    }\n",
              "\n",
              "    [theme=dark] .colab-df-convert {\n",
              "      background-color: #3B4455;\n",
              "      fill: #D2E3FC;\n",
              "    }\n",
              "\n",
              "    [theme=dark] .colab-df-convert:hover {\n",
              "      background-color: #434B5C;\n",
              "      box-shadow: 0px 1px 3px 1px rgba(0, 0, 0, 0.15);\n",
              "      filter: drop-shadow(0px 1px 2px rgba(0, 0, 0, 0.3));\n",
              "      fill: #FFFFFF;\n",
              "    }\n",
              "  </style>\n",
              "\n",
              "      <script>\n",
              "        const buttonEl =\n",
              "          document.querySelector('#df-eebcd2bd-b9aa-4167-8bd0-1165a0f93d8d button.colab-df-convert');\n",
              "        buttonEl.style.display =\n",
              "          google.colab.kernel.accessAllowed ? 'block' : 'none';\n",
              "\n",
              "        async function convertToInteractive(key) {\n",
              "          const element = document.querySelector('#df-eebcd2bd-b9aa-4167-8bd0-1165a0f93d8d');\n",
              "          const dataTable =\n",
              "            await google.colab.kernel.invokeFunction('convertToInteractive',\n",
              "                                                     [key], {});\n",
              "          if (!dataTable) return;\n",
              "\n",
              "          const docLinkHtml = 'Like what you see? Visit the ' +\n",
              "            '<a target=\"_blank\" href=https://colab.research.google.com/notebooks/data_table.ipynb>data table notebook</a>'\n",
              "            + ' to learn more about interactive tables.';\n",
              "          element.innerHTML = '';\n",
              "          dataTable['output_type'] = 'display_data';\n",
              "          await google.colab.output.renderOutput(dataTable, element);\n",
              "          const docLink = document.createElement('div');\n",
              "          docLink.innerHTML = docLinkHtml;\n",
              "          element.appendChild(docLink);\n",
              "        }\n",
              "      </script>\n",
              "    </div>\n",
              "  </div>\n",
              "  "
            ],
            "text/plain": [
              "               id                                               text category\n",
              "0      tam_test_1  தலைவா STR இதுக்குதான் கதுருந்தோம் மாஸ் தலைவா t...      NOT\n",
              "1      tam_test_2  நாயுடு மக்கள் சார்பாக திரைப்படம் வெற்றி பெற வா...      NOT\n",
              "2      tam_test_3                     தில்லானா முயற்சி  தஞ்சை கோனார்      NOT\n",
              "3      tam_test_4  திரௌபதியின் துகிலுறித்த போது காத்த கண்ணனின் யா...      NOT\n",
              "4      tam_test_5  நான் தியேட்டர்லே படம் பார்த்து 35 வருஷமாச்சு! ...      NOT\n",
              "..            ...                                                ...      ...\n",
              "649  tam_test_650  நான் தலைவரோட ரசிகன்னு சொல்லிடு தலைவரை ஒடசல் போ...      NOT\n",
              "650  tam_test_651  வாழ்த்துக்கள்,உண்மை கதை உலகத்துக்கு காட்டிய மோ...      NOT\n",
              "651  tam_test_652  குருமா and பா..குஞ்சித் பயலுக கதர்ரது இன்னும் ...      NOT\n",
              "652  tam_test_653  வெள்ளார்கள் சார்பாக படம் வெற்றி பெற வாழ்த்துக்...      NOT\n",
              "653  tam_test_654  சமீபகாலமாக கால்பந்தாட்டத்தை மையப்படுத்தி தமிழ்...      NOT\n",
              "\n",
              "[654 rows x 3 columns]"
            ]
          },
          "metadata": {},
          "execution_count": 73
        }
      ],
      "source": [
        "# Random Forest\n",
        "\n",
        "predictions = le.inverse_transform(rf_test_pred)\n",
        "\n",
        "dataframe_test_rf = {\n",
        "    'id': dataframe_test['id'],\n",
        "    'text': dataframe_test['text'],\n",
        "    'category': predictions\n",
        "}\n",
        "\n",
        "dataframe_test_rf = pd.DataFrame(dataframe_test_rf)\n",
        "dataframe_test_rf.to_csv(\"Output/XLM-Roberta-No-Stem-RandomForest.csv\")\n",
        "dataframe_test_rf"
      ]
    },
    {
      "cell_type": "code",
      "execution_count": 74,
      "metadata": {
        "colab": {
          "base_uri": "https://localhost:8080/",
          "height": 423
        },
        "id": "pZdEL3mSOhBk",
        "outputId": "fc8cce26-af10-4e1c-cedd-6bc099f1c8f0"
      },
      "outputs": [
        {
          "output_type": "execute_result",
          "data": {
            "text/html": [
              "\n",
              "  <div id=\"df-22d14e57-6018-4067-af82-cc2b67fbabbf\">\n",
              "    <div class=\"colab-df-container\">\n",
              "      <div>\n",
              "<style scoped>\n",
              "    .dataframe tbody tr th:only-of-type {\n",
              "        vertical-align: middle;\n",
              "    }\n",
              "\n",
              "    .dataframe tbody tr th {\n",
              "        vertical-align: top;\n",
              "    }\n",
              "\n",
              "    .dataframe thead th {\n",
              "        text-align: right;\n",
              "    }\n",
              "</style>\n",
              "<table border=\"1\" class=\"dataframe\">\n",
              "  <thead>\n",
              "    <tr style=\"text-align: right;\">\n",
              "      <th></th>\n",
              "      <th>id</th>\n",
              "      <th>text</th>\n",
              "      <th>category</th>\n",
              "    </tr>\n",
              "  </thead>\n",
              "  <tbody>\n",
              "    <tr>\n",
              "      <th>0</th>\n",
              "      <td>tam_test_1</td>\n",
              "      <td>தலைவா STR இதுக்குதான் கதுருந்தோம் மாஸ் தலைவா t...</td>\n",
              "      <td>NOT</td>\n",
              "    </tr>\n",
              "    <tr>\n",
              "      <th>1</th>\n",
              "      <td>tam_test_2</td>\n",
              "      <td>நாயுடு மக்கள் சார்பாக திரைப்படம் வெற்றி பெற வா...</td>\n",
              "      <td>NOT</td>\n",
              "    </tr>\n",
              "    <tr>\n",
              "      <th>2</th>\n",
              "      <td>tam_test_3</td>\n",
              "      <td>தில்லானா முயற்சி  தஞ்சை கோனார்</td>\n",
              "      <td>NOT</td>\n",
              "    </tr>\n",
              "    <tr>\n",
              "      <th>3</th>\n",
              "      <td>tam_test_4</td>\n",
              "      <td>திரௌபதியின் துகிலுறித்த போது காத்த கண்ணனின் யா...</td>\n",
              "      <td>NOT</td>\n",
              "    </tr>\n",
              "    <tr>\n",
              "      <th>4</th>\n",
              "      <td>tam_test_5</td>\n",
              "      <td>நான் தியேட்டர்லே படம் பார்த்து 35 வருஷமாச்சு! ...</td>\n",
              "      <td>NOT</td>\n",
              "    </tr>\n",
              "    <tr>\n",
              "      <th>...</th>\n",
              "      <td>...</td>\n",
              "      <td>...</td>\n",
              "      <td>...</td>\n",
              "    </tr>\n",
              "    <tr>\n",
              "      <th>649</th>\n",
              "      <td>tam_test_650</td>\n",
              "      <td>நான் தலைவரோட ரசிகன்னு சொல்லிடு தலைவரை ஒடசல் போ...</td>\n",
              "      <td>NOT</td>\n",
              "    </tr>\n",
              "    <tr>\n",
              "      <th>650</th>\n",
              "      <td>tam_test_651</td>\n",
              "      <td>வாழ்த்துக்கள்,உண்மை கதை உலகத்துக்கு காட்டிய மோ...</td>\n",
              "      <td>NOT</td>\n",
              "    </tr>\n",
              "    <tr>\n",
              "      <th>651</th>\n",
              "      <td>tam_test_652</td>\n",
              "      <td>குருமா and பா..குஞ்சித் பயலுக கதர்ரது இன்னும் ...</td>\n",
              "      <td>NOT</td>\n",
              "    </tr>\n",
              "    <tr>\n",
              "      <th>652</th>\n",
              "      <td>tam_test_653</td>\n",
              "      <td>வெள்ளார்கள் சார்பாக படம் வெற்றி பெற வாழ்த்துக்...</td>\n",
              "      <td>NOT</td>\n",
              "    </tr>\n",
              "    <tr>\n",
              "      <th>653</th>\n",
              "      <td>tam_test_654</td>\n",
              "      <td>சமீபகாலமாக கால்பந்தாட்டத்தை மையப்படுத்தி தமிழ்...</td>\n",
              "      <td>NOT</td>\n",
              "    </tr>\n",
              "  </tbody>\n",
              "</table>\n",
              "<p>654 rows × 3 columns</p>\n",
              "</div>\n",
              "      <button class=\"colab-df-convert\" onclick=\"convertToInteractive('df-22d14e57-6018-4067-af82-cc2b67fbabbf')\"\n",
              "              title=\"Convert this dataframe to an interactive table.\"\n",
              "              style=\"display:none;\">\n",
              "        \n",
              "  <svg xmlns=\"http://www.w3.org/2000/svg\" height=\"24px\"viewBox=\"0 0 24 24\"\n",
              "       width=\"24px\">\n",
              "    <path d=\"M0 0h24v24H0V0z\" fill=\"none\"/>\n",
              "    <path d=\"M18.56 5.44l.94 2.06.94-2.06 2.06-.94-2.06-.94-.94-2.06-.94 2.06-2.06.94zm-11 1L8.5 8.5l.94-2.06 2.06-.94-2.06-.94L8.5 2.5l-.94 2.06-2.06.94zm10 10l.94 2.06.94-2.06 2.06-.94-2.06-.94-.94-2.06-.94 2.06-2.06.94z\"/><path d=\"M17.41 7.96l-1.37-1.37c-.4-.4-.92-.59-1.43-.59-.52 0-1.04.2-1.43.59L10.3 9.45l-7.72 7.72c-.78.78-.78 2.05 0 2.83L4 21.41c.39.39.9.59 1.41.59.51 0 1.02-.2 1.41-.59l7.78-7.78 2.81-2.81c.8-.78.8-2.07 0-2.86zM5.41 20L4 18.59l7.72-7.72 1.47 1.35L5.41 20z\"/>\n",
              "  </svg>\n",
              "      </button>\n",
              "      \n",
              "  <style>\n",
              "    .colab-df-container {\n",
              "      display:flex;\n",
              "      flex-wrap:wrap;\n",
              "      gap: 12px;\n",
              "    }\n",
              "\n",
              "    .colab-df-convert {\n",
              "      background-color: #E8F0FE;\n",
              "      border: none;\n",
              "      border-radius: 50%;\n",
              "      cursor: pointer;\n",
              "      display: none;\n",
              "      fill: #1967D2;\n",
              "      height: 32px;\n",
              "      padding: 0 0 0 0;\n",
              "      width: 32px;\n",
              "    }\n",
              "\n",
              "    .colab-df-convert:hover {\n",
              "      background-color: #E2EBFA;\n",
              "      box-shadow: 0px 1px 2px rgba(60, 64, 67, 0.3), 0px 1px 3px 1px rgba(60, 64, 67, 0.15);\n",
              "      fill: #174EA6;\n",
              "    }\n",
              "\n",
              "    [theme=dark] .colab-df-convert {\n",
              "      background-color: #3B4455;\n",
              "      fill: #D2E3FC;\n",
              "    }\n",
              "\n",
              "    [theme=dark] .colab-df-convert:hover {\n",
              "      background-color: #434B5C;\n",
              "      box-shadow: 0px 1px 3px 1px rgba(0, 0, 0, 0.15);\n",
              "      filter: drop-shadow(0px 1px 2px rgba(0, 0, 0, 0.3));\n",
              "      fill: #FFFFFF;\n",
              "    }\n",
              "  </style>\n",
              "\n",
              "      <script>\n",
              "        const buttonEl =\n",
              "          document.querySelector('#df-22d14e57-6018-4067-af82-cc2b67fbabbf button.colab-df-convert');\n",
              "        buttonEl.style.display =\n",
              "          google.colab.kernel.accessAllowed ? 'block' : 'none';\n",
              "\n",
              "        async function convertToInteractive(key) {\n",
              "          const element = document.querySelector('#df-22d14e57-6018-4067-af82-cc2b67fbabbf');\n",
              "          const dataTable =\n",
              "            await google.colab.kernel.invokeFunction('convertToInteractive',\n",
              "                                                     [key], {});\n",
              "          if (!dataTable) return;\n",
              "\n",
              "          const docLinkHtml = 'Like what you see? Visit the ' +\n",
              "            '<a target=\"_blank\" href=https://colab.research.google.com/notebooks/data_table.ipynb>data table notebook</a>'\n",
              "            + ' to learn more about interactive tables.';\n",
              "          element.innerHTML = '';\n",
              "          dataTable['output_type'] = 'display_data';\n",
              "          await google.colab.output.renderOutput(dataTable, element);\n",
              "          const docLink = document.createElement('div');\n",
              "          docLink.innerHTML = docLinkHtml;\n",
              "          element.appendChild(docLink);\n",
              "        }\n",
              "      </script>\n",
              "    </div>\n",
              "  </div>\n",
              "  "
            ],
            "text/plain": [
              "               id                                               text category\n",
              "0      tam_test_1  தலைவா STR இதுக்குதான் கதுருந்தோம் மாஸ் தலைவா t...      NOT\n",
              "1      tam_test_2  நாயுடு மக்கள் சார்பாக திரைப்படம் வெற்றி பெற வா...      NOT\n",
              "2      tam_test_3                     தில்லானா முயற்சி  தஞ்சை கோனார்      NOT\n",
              "3      tam_test_4  திரௌபதியின் துகிலுறித்த போது காத்த கண்ணனின் யா...      NOT\n",
              "4      tam_test_5  நான் தியேட்டர்லே படம் பார்த்து 35 வருஷமாச்சு! ...      NOT\n",
              "..            ...                                                ...      ...\n",
              "649  tam_test_650  நான் தலைவரோட ரசிகன்னு சொல்லிடு தலைவரை ஒடசல் போ...      NOT\n",
              "650  tam_test_651  வாழ்த்துக்கள்,உண்மை கதை உலகத்துக்கு காட்டிய மோ...      NOT\n",
              "651  tam_test_652  குருமா and பா..குஞ்சித் பயலுக கதர்ரது இன்னும் ...      NOT\n",
              "652  tam_test_653  வெள்ளார்கள் சார்பாக படம் வெற்றி பெற வாழ்த்துக்...      NOT\n",
              "653  tam_test_654  சமீபகாலமாக கால்பந்தாட்டத்தை மையப்படுத்தி தமிழ்...      NOT\n",
              "\n",
              "[654 rows x 3 columns]"
            ]
          },
          "metadata": {},
          "execution_count": 74
        }
      ],
      "source": [
        "# Majority Voting\n",
        "\n",
        "predictions = le.inverse_transform(mv_test_pred)\n",
        "\n",
        "dataframe_test_mv = {\n",
        "    'id': dataframe_test['id'],\n",
        "    'text': dataframe_test['text'],\n",
        "    'category': predictions\n",
        "}\n",
        "\n",
        "dataframe_test_mv = pd.DataFrame(dataframe_test_mv)\n",
        "dataframe_test_mv.to_csv(\"Output/XLM-Roberta-No-Stem-MajorityVoting.csv\")\n",
        "dataframe_test_mv"
      ]
    }
  ],
  "metadata": {
    "accelerator": "GPU",
    "colab": {
      "collapsed_sections": [],
      "name": "XLM-Roberta-no-stemming.ipynb",
      "provenance": []
    },
    "kernelspec": {
      "display_name": "Python 3",
      "name": "python3"
    },
    "language_info": {
      "name": "python"
    },
    "widgets": {
      "application/vnd.jupyter.widget-state+json": {
        "660da3e56f97436a914485e560cd5d4f": {
          "model_module": "@jupyter-widgets/controls",
          "model_name": "HBoxModel",
          "model_module_version": "1.5.0",
          "state": {
            "_view_name": "HBoxView",
            "_dom_classes": [],
            "_model_name": "HBoxModel",
            "_view_module": "@jupyter-widgets/controls",
            "_model_module_version": "1.5.0",
            "_view_count": null,
            "_view_module_version": "1.5.0",
            "box_style": "",
            "layout": "IPY_MODEL_0f747df77c184e25b2873b9cbfd0a8a1",
            "_model_module": "@jupyter-widgets/controls",
            "children": [
              "IPY_MODEL_ea0b3e7d0f094fc3a2cb1001aa4f9319",
              "IPY_MODEL_5a8b316c91cd46a4a7ec753730cd450a",
              "IPY_MODEL_809cd0c5a9ab450eb8fd3537772dd282"
            ]
          }
        },
        "0f747df77c184e25b2873b9cbfd0a8a1": {
          "model_module": "@jupyter-widgets/base",
          "model_name": "LayoutModel",
          "model_module_version": "1.2.0",
          "state": {
            "_view_name": "LayoutView",
            "grid_template_rows": null,
            "right": null,
            "justify_content": null,
            "_view_module": "@jupyter-widgets/base",
            "overflow": null,
            "_model_module_version": "1.2.0",
            "_view_count": null,
            "flex_flow": null,
            "width": null,
            "min_width": null,
            "border": null,
            "align_items": null,
            "bottom": null,
            "_model_module": "@jupyter-widgets/base",
            "top": null,
            "grid_column": null,
            "overflow_y": null,
            "overflow_x": null,
            "grid_auto_flow": null,
            "grid_area": null,
            "grid_template_columns": null,
            "flex": null,
            "_model_name": "LayoutModel",
            "justify_items": null,
            "grid_row": null,
            "max_height": null,
            "align_content": null,
            "visibility": null,
            "align_self": null,
            "height": null,
            "min_height": null,
            "padding": null,
            "grid_auto_rows": null,
            "grid_gap": null,
            "max_width": null,
            "order": null,
            "_view_module_version": "1.2.0",
            "grid_template_areas": null,
            "object_position": null,
            "object_fit": null,
            "grid_auto_columns": null,
            "margin": null,
            "display": null,
            "left": null
          }
        },
        "ea0b3e7d0f094fc3a2cb1001aa4f9319": {
          "model_module": "@jupyter-widgets/controls",
          "model_name": "HTMLModel",
          "model_module_version": "1.5.0",
          "state": {
            "_view_name": "HTMLView",
            "style": "IPY_MODEL_13ce4a59eddf4846a3804d48c041dd64",
            "_dom_classes": [],
            "description": "",
            "_model_name": "HTMLModel",
            "placeholder": "​",
            "_view_module": "@jupyter-widgets/controls",
            "_model_module_version": "1.5.0",
            "value": "Downloading: 100%",
            "_view_count": null,
            "_view_module_version": "1.5.0",
            "description_tooltip": null,
            "_model_module": "@jupyter-widgets/controls",
            "layout": "IPY_MODEL_2690c8b75e10441cb01abf376c1e09e7"
          }
        },
        "5a8b316c91cd46a4a7ec753730cd450a": {
          "model_module": "@jupyter-widgets/controls",
          "model_name": "FloatProgressModel",
          "model_module_version": "1.5.0",
          "state": {
            "_view_name": "ProgressView",
            "style": "IPY_MODEL_b3c921e14d4e4a708dea6c784843fe5d",
            "_dom_classes": [],
            "description": "",
            "_model_name": "FloatProgressModel",
            "bar_style": "success",
            "max": 898823,
            "_view_module": "@jupyter-widgets/controls",
            "_model_module_version": "1.5.0",
            "value": 898823,
            "_view_count": null,
            "_view_module_version": "1.5.0",
            "orientation": "horizontal",
            "min": 0,
            "description_tooltip": null,
            "_model_module": "@jupyter-widgets/controls",
            "layout": "IPY_MODEL_a693066fd73343b8bb8338e63a88da63"
          }
        },
        "809cd0c5a9ab450eb8fd3537772dd282": {
          "model_module": "@jupyter-widgets/controls",
          "model_name": "HTMLModel",
          "model_module_version": "1.5.0",
          "state": {
            "_view_name": "HTMLView",
            "style": "IPY_MODEL_28cede15ded54c2497511364e7ccf1a5",
            "_dom_classes": [],
            "description": "",
            "_model_name": "HTMLModel",
            "placeholder": "​",
            "_view_module": "@jupyter-widgets/controls",
            "_model_module_version": "1.5.0",
            "value": " 878k/878k [00:00&lt;00:00, 708kB/s]",
            "_view_count": null,
            "_view_module_version": "1.5.0",
            "description_tooltip": null,
            "_model_module": "@jupyter-widgets/controls",
            "layout": "IPY_MODEL_cbb1585edbcb4069a2c2c9ac220398d1"
          }
        },
        "13ce4a59eddf4846a3804d48c041dd64": {
          "model_module": "@jupyter-widgets/controls",
          "model_name": "DescriptionStyleModel",
          "model_module_version": "1.5.0",
          "state": {
            "_view_name": "StyleView",
            "_model_name": "DescriptionStyleModel",
            "description_width": "",
            "_view_module": "@jupyter-widgets/base",
            "_model_module_version": "1.5.0",
            "_view_count": null,
            "_view_module_version": "1.2.0",
            "_model_module": "@jupyter-widgets/controls"
          }
        },
        "2690c8b75e10441cb01abf376c1e09e7": {
          "model_module": "@jupyter-widgets/base",
          "model_name": "LayoutModel",
          "model_module_version": "1.2.0",
          "state": {
            "_view_name": "LayoutView",
            "grid_template_rows": null,
            "right": null,
            "justify_content": null,
            "_view_module": "@jupyter-widgets/base",
            "overflow": null,
            "_model_module_version": "1.2.0",
            "_view_count": null,
            "flex_flow": null,
            "width": null,
            "min_width": null,
            "border": null,
            "align_items": null,
            "bottom": null,
            "_model_module": "@jupyter-widgets/base",
            "top": null,
            "grid_column": null,
            "overflow_y": null,
            "overflow_x": null,
            "grid_auto_flow": null,
            "grid_area": null,
            "grid_template_columns": null,
            "flex": null,
            "_model_name": "LayoutModel",
            "justify_items": null,
            "grid_row": null,
            "max_height": null,
            "align_content": null,
            "visibility": null,
            "align_self": null,
            "height": null,
            "min_height": null,
            "padding": null,
            "grid_auto_rows": null,
            "grid_gap": null,
            "max_width": null,
            "order": null,
            "_view_module_version": "1.2.0",
            "grid_template_areas": null,
            "object_position": null,
            "object_fit": null,
            "grid_auto_columns": null,
            "margin": null,
            "display": null,
            "left": null
          }
        },
        "b3c921e14d4e4a708dea6c784843fe5d": {
          "model_module": "@jupyter-widgets/controls",
          "model_name": "ProgressStyleModel",
          "model_module_version": "1.5.0",
          "state": {
            "_view_name": "StyleView",
            "_model_name": "ProgressStyleModel",
            "description_width": "",
            "_view_module": "@jupyter-widgets/base",
            "_model_module_version": "1.5.0",
            "_view_count": null,
            "_view_module_version": "1.2.0",
            "bar_color": null,
            "_model_module": "@jupyter-widgets/controls"
          }
        },
        "a693066fd73343b8bb8338e63a88da63": {
          "model_module": "@jupyter-widgets/base",
          "model_name": "LayoutModel",
          "model_module_version": "1.2.0",
          "state": {
            "_view_name": "LayoutView",
            "grid_template_rows": null,
            "right": null,
            "justify_content": null,
            "_view_module": "@jupyter-widgets/base",
            "overflow": null,
            "_model_module_version": "1.2.0",
            "_view_count": null,
            "flex_flow": null,
            "width": null,
            "min_width": null,
            "border": null,
            "align_items": null,
            "bottom": null,
            "_model_module": "@jupyter-widgets/base",
            "top": null,
            "grid_column": null,
            "overflow_y": null,
            "overflow_x": null,
            "grid_auto_flow": null,
            "grid_area": null,
            "grid_template_columns": null,
            "flex": null,
            "_model_name": "LayoutModel",
            "justify_items": null,
            "grid_row": null,
            "max_height": null,
            "align_content": null,
            "visibility": null,
            "align_self": null,
            "height": null,
            "min_height": null,
            "padding": null,
            "grid_auto_rows": null,
            "grid_gap": null,
            "max_width": null,
            "order": null,
            "_view_module_version": "1.2.0",
            "grid_template_areas": null,
            "object_position": null,
            "object_fit": null,
            "grid_auto_columns": null,
            "margin": null,
            "display": null,
            "left": null
          }
        },
        "28cede15ded54c2497511364e7ccf1a5": {
          "model_module": "@jupyter-widgets/controls",
          "model_name": "DescriptionStyleModel",
          "model_module_version": "1.5.0",
          "state": {
            "_view_name": "StyleView",
            "_model_name": "DescriptionStyleModel",
            "description_width": "",
            "_view_module": "@jupyter-widgets/base",
            "_model_module_version": "1.5.0",
            "_view_count": null,
            "_view_module_version": "1.2.0",
            "_model_module": "@jupyter-widgets/controls"
          }
        },
        "cbb1585edbcb4069a2c2c9ac220398d1": {
          "model_module": "@jupyter-widgets/base",
          "model_name": "LayoutModel",
          "model_module_version": "1.2.0",
          "state": {
            "_view_name": "LayoutView",
            "grid_template_rows": null,
            "right": null,
            "justify_content": null,
            "_view_module": "@jupyter-widgets/base",
            "overflow": null,
            "_model_module_version": "1.2.0",
            "_view_count": null,
            "flex_flow": null,
            "width": null,
            "min_width": null,
            "border": null,
            "align_items": null,
            "bottom": null,
            "_model_module": "@jupyter-widgets/base",
            "top": null,
            "grid_column": null,
            "overflow_y": null,
            "overflow_x": null,
            "grid_auto_flow": null,
            "grid_area": null,
            "grid_template_columns": null,
            "flex": null,
            "_model_name": "LayoutModel",
            "justify_items": null,
            "grid_row": null,
            "max_height": null,
            "align_content": null,
            "visibility": null,
            "align_self": null,
            "height": null,
            "min_height": null,
            "padding": null,
            "grid_auto_rows": null,
            "grid_gap": null,
            "max_width": null,
            "order": null,
            "_view_module_version": "1.2.0",
            "grid_template_areas": null,
            "object_position": null,
            "object_fit": null,
            "grid_auto_columns": null,
            "margin": null,
            "display": null,
            "left": null
          }
        },
        "4288f2c85e4641bfb8eb1a3fca9dd108": {
          "model_module": "@jupyter-widgets/controls",
          "model_name": "HBoxModel",
          "model_module_version": "1.5.0",
          "state": {
            "_view_name": "HBoxView",
            "_dom_classes": [],
            "_model_name": "HBoxModel",
            "_view_module": "@jupyter-widgets/controls",
            "_model_module_version": "1.5.0",
            "_view_count": null,
            "_view_module_version": "1.5.0",
            "box_style": "",
            "layout": "IPY_MODEL_ef994e149e4e49dbb65d7644ac6da3db",
            "_model_module": "@jupyter-widgets/controls",
            "children": [
              "IPY_MODEL_429fec637c3840209a08eee377959b6e",
              "IPY_MODEL_8168f5aac783499c9b27de2a5a34f3bd",
              "IPY_MODEL_e979ce8191864d958f7f86003cabba14"
            ]
          }
        },
        "ef994e149e4e49dbb65d7644ac6da3db": {
          "model_module": "@jupyter-widgets/base",
          "model_name": "LayoutModel",
          "model_module_version": "1.2.0",
          "state": {
            "_view_name": "LayoutView",
            "grid_template_rows": null,
            "right": null,
            "justify_content": null,
            "_view_module": "@jupyter-widgets/base",
            "overflow": null,
            "_model_module_version": "1.2.0",
            "_view_count": null,
            "flex_flow": null,
            "width": null,
            "min_width": null,
            "border": null,
            "align_items": null,
            "bottom": null,
            "_model_module": "@jupyter-widgets/base",
            "top": null,
            "grid_column": null,
            "overflow_y": null,
            "overflow_x": null,
            "grid_auto_flow": null,
            "grid_area": null,
            "grid_template_columns": null,
            "flex": null,
            "_model_name": "LayoutModel",
            "justify_items": null,
            "grid_row": null,
            "max_height": null,
            "align_content": null,
            "visibility": null,
            "align_self": null,
            "height": null,
            "min_height": null,
            "padding": null,
            "grid_auto_rows": null,
            "grid_gap": null,
            "max_width": null,
            "order": null,
            "_view_module_version": "1.2.0",
            "grid_template_areas": null,
            "object_position": null,
            "object_fit": null,
            "grid_auto_columns": null,
            "margin": null,
            "display": null,
            "left": null
          }
        },
        "429fec637c3840209a08eee377959b6e": {
          "model_module": "@jupyter-widgets/controls",
          "model_name": "HTMLModel",
          "model_module_version": "1.5.0",
          "state": {
            "_view_name": "HTMLView",
            "style": "IPY_MODEL_222914812c864c5c8d300ef07120f7a5",
            "_dom_classes": [],
            "description": "",
            "_model_name": "HTMLModel",
            "placeholder": "​",
            "_view_module": "@jupyter-widgets/controls",
            "_model_module_version": "1.5.0",
            "value": "Downloading: 100%",
            "_view_count": null,
            "_view_module_version": "1.5.0",
            "description_tooltip": null,
            "_model_module": "@jupyter-widgets/controls",
            "layout": "IPY_MODEL_7afe30fa5b8f456e88b6cab155378d8a"
          }
        },
        "8168f5aac783499c9b27de2a5a34f3bd": {
          "model_module": "@jupyter-widgets/controls",
          "model_name": "FloatProgressModel",
          "model_module_version": "1.5.0",
          "state": {
            "_view_name": "ProgressView",
            "style": "IPY_MODEL_46ef5021f67f41ae80d7a6ccbfd7f965",
            "_dom_classes": [],
            "description": "",
            "_model_name": "FloatProgressModel",
            "bar_style": "success",
            "max": 456318,
            "_view_module": "@jupyter-widgets/controls",
            "_model_module_version": "1.5.0",
            "value": 456318,
            "_view_count": null,
            "_view_module_version": "1.5.0",
            "orientation": "horizontal",
            "min": 0,
            "description_tooltip": null,
            "_model_module": "@jupyter-widgets/controls",
            "layout": "IPY_MODEL_76142ce415f94ff29e364219aa7eccc1"
          }
        },
        "e979ce8191864d958f7f86003cabba14": {
          "model_module": "@jupyter-widgets/controls",
          "model_name": "HTMLModel",
          "model_module_version": "1.5.0",
          "state": {
            "_view_name": "HTMLView",
            "style": "IPY_MODEL_09a0e95ca41f45e6883d5f297f6145a5",
            "_dom_classes": [],
            "description": "",
            "_model_name": "HTMLModel",
            "placeholder": "​",
            "_view_module": "@jupyter-widgets/controls",
            "_model_module_version": "1.5.0",
            "value": " 446k/446k [00:00&lt;00:00, 678kB/s]",
            "_view_count": null,
            "_view_module_version": "1.5.0",
            "description_tooltip": null,
            "_model_module": "@jupyter-widgets/controls",
            "layout": "IPY_MODEL_4ff8b5dd94164a9f8fa964af6286b666"
          }
        },
        "222914812c864c5c8d300ef07120f7a5": {
          "model_module": "@jupyter-widgets/controls",
          "model_name": "DescriptionStyleModel",
          "model_module_version": "1.5.0",
          "state": {
            "_view_name": "StyleView",
            "_model_name": "DescriptionStyleModel",
            "description_width": "",
            "_view_module": "@jupyter-widgets/base",
            "_model_module_version": "1.5.0",
            "_view_count": null,
            "_view_module_version": "1.2.0",
            "_model_module": "@jupyter-widgets/controls"
          }
        },
        "7afe30fa5b8f456e88b6cab155378d8a": {
          "model_module": "@jupyter-widgets/base",
          "model_name": "LayoutModel",
          "model_module_version": "1.2.0",
          "state": {
            "_view_name": "LayoutView",
            "grid_template_rows": null,
            "right": null,
            "justify_content": null,
            "_view_module": "@jupyter-widgets/base",
            "overflow": null,
            "_model_module_version": "1.2.0",
            "_view_count": null,
            "flex_flow": null,
            "width": null,
            "min_width": null,
            "border": null,
            "align_items": null,
            "bottom": null,
            "_model_module": "@jupyter-widgets/base",
            "top": null,
            "grid_column": null,
            "overflow_y": null,
            "overflow_x": null,
            "grid_auto_flow": null,
            "grid_area": null,
            "grid_template_columns": null,
            "flex": null,
            "_model_name": "LayoutModel",
            "justify_items": null,
            "grid_row": null,
            "max_height": null,
            "align_content": null,
            "visibility": null,
            "align_self": null,
            "height": null,
            "min_height": null,
            "padding": null,
            "grid_auto_rows": null,
            "grid_gap": null,
            "max_width": null,
            "order": null,
            "_view_module_version": "1.2.0",
            "grid_template_areas": null,
            "object_position": null,
            "object_fit": null,
            "grid_auto_columns": null,
            "margin": null,
            "display": null,
            "left": null
          }
        },
        "46ef5021f67f41ae80d7a6ccbfd7f965": {
          "model_module": "@jupyter-widgets/controls",
          "model_name": "ProgressStyleModel",
          "model_module_version": "1.5.0",
          "state": {
            "_view_name": "StyleView",
            "_model_name": "ProgressStyleModel",
            "description_width": "",
            "_view_module": "@jupyter-widgets/base",
            "_model_module_version": "1.5.0",
            "_view_count": null,
            "_view_module_version": "1.2.0",
            "bar_color": null,
            "_model_module": "@jupyter-widgets/controls"
          }
        },
        "76142ce415f94ff29e364219aa7eccc1": {
          "model_module": "@jupyter-widgets/base",
          "model_name": "LayoutModel",
          "model_module_version": "1.2.0",
          "state": {
            "_view_name": "LayoutView",
            "grid_template_rows": null,
            "right": null,
            "justify_content": null,
            "_view_module": "@jupyter-widgets/base",
            "overflow": null,
            "_model_module_version": "1.2.0",
            "_view_count": null,
            "flex_flow": null,
            "width": null,
            "min_width": null,
            "border": null,
            "align_items": null,
            "bottom": null,
            "_model_module": "@jupyter-widgets/base",
            "top": null,
            "grid_column": null,
            "overflow_y": null,
            "overflow_x": null,
            "grid_auto_flow": null,
            "grid_area": null,
            "grid_template_columns": null,
            "flex": null,
            "_model_name": "LayoutModel",
            "justify_items": null,
            "grid_row": null,
            "max_height": null,
            "align_content": null,
            "visibility": null,
            "align_self": null,
            "height": null,
            "min_height": null,
            "padding": null,
            "grid_auto_rows": null,
            "grid_gap": null,
            "max_width": null,
            "order": null,
            "_view_module_version": "1.2.0",
            "grid_template_areas": null,
            "object_position": null,
            "object_fit": null,
            "grid_auto_columns": null,
            "margin": null,
            "display": null,
            "left": null
          }
        },
        "09a0e95ca41f45e6883d5f297f6145a5": {
          "model_module": "@jupyter-widgets/controls",
          "model_name": "DescriptionStyleModel",
          "model_module_version": "1.5.0",
          "state": {
            "_view_name": "StyleView",
            "_model_name": "DescriptionStyleModel",
            "description_width": "",
            "_view_module": "@jupyter-widgets/base",
            "_model_module_version": "1.5.0",
            "_view_count": null,
            "_view_module_version": "1.2.0",
            "_model_module": "@jupyter-widgets/controls"
          }
        },
        "4ff8b5dd94164a9f8fa964af6286b666": {
          "model_module": "@jupyter-widgets/base",
          "model_name": "LayoutModel",
          "model_module_version": "1.2.0",
          "state": {
            "_view_name": "LayoutView",
            "grid_template_rows": null,
            "right": null,
            "justify_content": null,
            "_view_module": "@jupyter-widgets/base",
            "overflow": null,
            "_model_module_version": "1.2.0",
            "_view_count": null,
            "flex_flow": null,
            "width": null,
            "min_width": null,
            "border": null,
            "align_items": null,
            "bottom": null,
            "_model_module": "@jupyter-widgets/base",
            "top": null,
            "grid_column": null,
            "overflow_y": null,
            "overflow_x": null,
            "grid_auto_flow": null,
            "grid_area": null,
            "grid_template_columns": null,
            "flex": null,
            "_model_name": "LayoutModel",
            "justify_items": null,
            "grid_row": null,
            "max_height": null,
            "align_content": null,
            "visibility": null,
            "align_self": null,
            "height": null,
            "min_height": null,
            "padding": null,
            "grid_auto_rows": null,
            "grid_gap": null,
            "max_width": null,
            "order": null,
            "_view_module_version": "1.2.0",
            "grid_template_areas": null,
            "object_position": null,
            "object_fit": null,
            "grid_auto_columns": null,
            "margin": null,
            "display": null,
            "left": null
          }
        },
        "d79f497e49d54bc89829b9fdd397e449": {
          "model_module": "@jupyter-widgets/controls",
          "model_name": "HBoxModel",
          "model_module_version": "1.5.0",
          "state": {
            "_view_name": "HBoxView",
            "_dom_classes": [],
            "_model_name": "HBoxModel",
            "_view_module": "@jupyter-widgets/controls",
            "_model_module_version": "1.5.0",
            "_view_count": null,
            "_view_module_version": "1.5.0",
            "box_style": "",
            "layout": "IPY_MODEL_15624429fa3c4b41a428a63d03a53d2f",
            "_model_module": "@jupyter-widgets/controls",
            "children": [
              "IPY_MODEL_ba85dc12670a4ae9ba6eb0a91119cdda",
              "IPY_MODEL_e9401028d1cd4aca9bd18da49c4d8032",
              "IPY_MODEL_611718b2bcfe4af7bb931877d9bd6c55"
            ]
          }
        },
        "15624429fa3c4b41a428a63d03a53d2f": {
          "model_module": "@jupyter-widgets/base",
          "model_name": "LayoutModel",
          "model_module_version": "1.2.0",
          "state": {
            "_view_name": "LayoutView",
            "grid_template_rows": null,
            "right": null,
            "justify_content": null,
            "_view_module": "@jupyter-widgets/base",
            "overflow": null,
            "_model_module_version": "1.2.0",
            "_view_count": null,
            "flex_flow": null,
            "width": null,
            "min_width": null,
            "border": null,
            "align_items": null,
            "bottom": null,
            "_model_module": "@jupyter-widgets/base",
            "top": null,
            "grid_column": null,
            "overflow_y": null,
            "overflow_x": null,
            "grid_auto_flow": null,
            "grid_area": null,
            "grid_template_columns": null,
            "flex": null,
            "_model_name": "LayoutModel",
            "justify_items": null,
            "grid_row": null,
            "max_height": null,
            "align_content": null,
            "visibility": null,
            "align_self": null,
            "height": null,
            "min_height": null,
            "padding": null,
            "grid_auto_rows": null,
            "grid_gap": null,
            "max_width": null,
            "order": null,
            "_view_module_version": "1.2.0",
            "grid_template_areas": null,
            "object_position": null,
            "object_fit": null,
            "grid_auto_columns": null,
            "margin": null,
            "display": null,
            "left": null
          }
        },
        "ba85dc12670a4ae9ba6eb0a91119cdda": {
          "model_module": "@jupyter-widgets/controls",
          "model_name": "HTMLModel",
          "model_module_version": "1.5.0",
          "state": {
            "_view_name": "HTMLView",
            "style": "IPY_MODEL_dc5b031a1efe4ecfb39fd328c400f39c",
            "_dom_classes": [],
            "description": "",
            "_model_name": "HTMLModel",
            "placeholder": "​",
            "_view_module": "@jupyter-widgets/controls",
            "_model_module_version": "1.5.0",
            "value": "Downloading: 100%",
            "_view_count": null,
            "_view_module_version": "1.5.0",
            "description_tooltip": null,
            "_model_module": "@jupyter-widgets/controls",
            "layout": "IPY_MODEL_1709b3c9879544d6b71df9f11c562432"
          }
        },
        "e9401028d1cd4aca9bd18da49c4d8032": {
          "model_module": "@jupyter-widgets/controls",
          "model_name": "FloatProgressModel",
          "model_module_version": "1.5.0",
          "state": {
            "_view_name": "ProgressView",
            "style": "IPY_MODEL_f78070405f8447c2ad259fe40f1ed728",
            "_dom_classes": [],
            "description": "",
            "_model_name": "FloatProgressModel",
            "bar_style": "success",
            "max": 1355863,
            "_view_module": "@jupyter-widgets/controls",
            "_model_module_version": "1.5.0",
            "value": 1355863,
            "_view_count": null,
            "_view_module_version": "1.5.0",
            "orientation": "horizontal",
            "min": 0,
            "description_tooltip": null,
            "_model_module": "@jupyter-widgets/controls",
            "layout": "IPY_MODEL_e8354b5cbd614a1ebac75cf311de3be4"
          }
        },
        "611718b2bcfe4af7bb931877d9bd6c55": {
          "model_module": "@jupyter-widgets/controls",
          "model_name": "HTMLModel",
          "model_module_version": "1.5.0",
          "state": {
            "_view_name": "HTMLView",
            "style": "IPY_MODEL_2bfa02d015064a98b0d49198acbfb658",
            "_dom_classes": [],
            "description": "",
            "_model_name": "HTMLModel",
            "placeholder": "​",
            "_view_module": "@jupyter-widgets/controls",
            "_model_module_version": "1.5.0",
            "value": " 1.29M/1.29M [00:00&lt;00:00, 2.22MB/s]",
            "_view_count": null,
            "_view_module_version": "1.5.0",
            "description_tooltip": null,
            "_model_module": "@jupyter-widgets/controls",
            "layout": "IPY_MODEL_34b45a2f80c745abac3931ab06fdc241"
          }
        },
        "dc5b031a1efe4ecfb39fd328c400f39c": {
          "model_module": "@jupyter-widgets/controls",
          "model_name": "DescriptionStyleModel",
          "model_module_version": "1.5.0",
          "state": {
            "_view_name": "StyleView",
            "_model_name": "DescriptionStyleModel",
            "description_width": "",
            "_view_module": "@jupyter-widgets/base",
            "_model_module_version": "1.5.0",
            "_view_count": null,
            "_view_module_version": "1.2.0",
            "_model_module": "@jupyter-widgets/controls"
          }
        },
        "1709b3c9879544d6b71df9f11c562432": {
          "model_module": "@jupyter-widgets/base",
          "model_name": "LayoutModel",
          "model_module_version": "1.2.0",
          "state": {
            "_view_name": "LayoutView",
            "grid_template_rows": null,
            "right": null,
            "justify_content": null,
            "_view_module": "@jupyter-widgets/base",
            "overflow": null,
            "_model_module_version": "1.2.0",
            "_view_count": null,
            "flex_flow": null,
            "width": null,
            "min_width": null,
            "border": null,
            "align_items": null,
            "bottom": null,
            "_model_module": "@jupyter-widgets/base",
            "top": null,
            "grid_column": null,
            "overflow_y": null,
            "overflow_x": null,
            "grid_auto_flow": null,
            "grid_area": null,
            "grid_template_columns": null,
            "flex": null,
            "_model_name": "LayoutModel",
            "justify_items": null,
            "grid_row": null,
            "max_height": null,
            "align_content": null,
            "visibility": null,
            "align_self": null,
            "height": null,
            "min_height": null,
            "padding": null,
            "grid_auto_rows": null,
            "grid_gap": null,
            "max_width": null,
            "order": null,
            "_view_module_version": "1.2.0",
            "grid_template_areas": null,
            "object_position": null,
            "object_fit": null,
            "grid_auto_columns": null,
            "margin": null,
            "display": null,
            "left": null
          }
        },
        "f78070405f8447c2ad259fe40f1ed728": {
          "model_module": "@jupyter-widgets/controls",
          "model_name": "ProgressStyleModel",
          "model_module_version": "1.5.0",
          "state": {
            "_view_name": "StyleView",
            "_model_name": "ProgressStyleModel",
            "description_width": "",
            "_view_module": "@jupyter-widgets/base",
            "_model_module_version": "1.5.0",
            "_view_count": null,
            "_view_module_version": "1.2.0",
            "bar_color": null,
            "_model_module": "@jupyter-widgets/controls"
          }
        },
        "e8354b5cbd614a1ebac75cf311de3be4": {
          "model_module": "@jupyter-widgets/base",
          "model_name": "LayoutModel",
          "model_module_version": "1.2.0",
          "state": {
            "_view_name": "LayoutView",
            "grid_template_rows": null,
            "right": null,
            "justify_content": null,
            "_view_module": "@jupyter-widgets/base",
            "overflow": null,
            "_model_module_version": "1.2.0",
            "_view_count": null,
            "flex_flow": null,
            "width": null,
            "min_width": null,
            "border": null,
            "align_items": null,
            "bottom": null,
            "_model_module": "@jupyter-widgets/base",
            "top": null,
            "grid_column": null,
            "overflow_y": null,
            "overflow_x": null,
            "grid_auto_flow": null,
            "grid_area": null,
            "grid_template_columns": null,
            "flex": null,
            "_model_name": "LayoutModel",
            "justify_items": null,
            "grid_row": null,
            "max_height": null,
            "align_content": null,
            "visibility": null,
            "align_self": null,
            "height": null,
            "min_height": null,
            "padding": null,
            "grid_auto_rows": null,
            "grid_gap": null,
            "max_width": null,
            "order": null,
            "_view_module_version": "1.2.0",
            "grid_template_areas": null,
            "object_position": null,
            "object_fit": null,
            "grid_auto_columns": null,
            "margin": null,
            "display": null,
            "left": null
          }
        },
        "2bfa02d015064a98b0d49198acbfb658": {
          "model_module": "@jupyter-widgets/controls",
          "model_name": "DescriptionStyleModel",
          "model_module_version": "1.5.0",
          "state": {
            "_view_name": "StyleView",
            "_model_name": "DescriptionStyleModel",
            "description_width": "",
            "_view_module": "@jupyter-widgets/base",
            "_model_module_version": "1.5.0",
            "_view_count": null,
            "_view_module_version": "1.2.0",
            "_model_module": "@jupyter-widgets/controls"
          }
        },
        "34b45a2f80c745abac3931ab06fdc241": {
          "model_module": "@jupyter-widgets/base",
          "model_name": "LayoutModel",
          "model_module_version": "1.2.0",
          "state": {
            "_view_name": "LayoutView",
            "grid_template_rows": null,
            "right": null,
            "justify_content": null,
            "_view_module": "@jupyter-widgets/base",
            "overflow": null,
            "_model_module_version": "1.2.0",
            "_view_count": null,
            "flex_flow": null,
            "width": null,
            "min_width": null,
            "border": null,
            "align_items": null,
            "bottom": null,
            "_model_module": "@jupyter-widgets/base",
            "top": null,
            "grid_column": null,
            "overflow_y": null,
            "overflow_x": null,
            "grid_auto_flow": null,
            "grid_area": null,
            "grid_template_columns": null,
            "flex": null,
            "_model_name": "LayoutModel",
            "justify_items": null,
            "grid_row": null,
            "max_height": null,
            "align_content": null,
            "visibility": null,
            "align_self": null,
            "height": null,
            "min_height": null,
            "padding": null,
            "grid_auto_rows": null,
            "grid_gap": null,
            "max_width": null,
            "order": null,
            "_view_module_version": "1.2.0",
            "grid_template_areas": null,
            "object_position": null,
            "object_fit": null,
            "grid_auto_columns": null,
            "margin": null,
            "display": null,
            "left": null
          }
        },
        "597f2291739f4cd084420508d0815c0e": {
          "model_module": "@jupyter-widgets/controls",
          "model_name": "HBoxModel",
          "model_module_version": "1.5.0",
          "state": {
            "_view_name": "HBoxView",
            "_dom_classes": [],
            "_model_name": "HBoxModel",
            "_view_module": "@jupyter-widgets/controls",
            "_model_module_version": "1.5.0",
            "_view_count": null,
            "_view_module_version": "1.5.0",
            "box_style": "",
            "layout": "IPY_MODEL_cdab4576971340e2a9a65f723986aea1",
            "_model_module": "@jupyter-widgets/controls",
            "children": [
              "IPY_MODEL_f16d0578a92946888fee0b81180215fc",
              "IPY_MODEL_6bda25f949da4379ac448a5ee6978a13",
              "IPY_MODEL_60951e123f204d7e844c390d493a9305"
            ]
          }
        },
        "cdab4576971340e2a9a65f723986aea1": {
          "model_module": "@jupyter-widgets/base",
          "model_name": "LayoutModel",
          "model_module_version": "1.2.0",
          "state": {
            "_view_name": "LayoutView",
            "grid_template_rows": null,
            "right": null,
            "justify_content": null,
            "_view_module": "@jupyter-widgets/base",
            "overflow": null,
            "_model_module_version": "1.2.0",
            "_view_count": null,
            "flex_flow": null,
            "width": null,
            "min_width": null,
            "border": null,
            "align_items": null,
            "bottom": null,
            "_model_module": "@jupyter-widgets/base",
            "top": null,
            "grid_column": null,
            "overflow_y": null,
            "overflow_x": null,
            "grid_auto_flow": null,
            "grid_area": null,
            "grid_template_columns": null,
            "flex": null,
            "_model_name": "LayoutModel",
            "justify_items": null,
            "grid_row": null,
            "max_height": null,
            "align_content": null,
            "visibility": null,
            "align_self": null,
            "height": null,
            "min_height": null,
            "padding": null,
            "grid_auto_rows": null,
            "grid_gap": null,
            "max_width": null,
            "order": null,
            "_view_module_version": "1.2.0",
            "grid_template_areas": null,
            "object_position": null,
            "object_fit": null,
            "grid_auto_columns": null,
            "margin": null,
            "display": null,
            "left": null
          }
        },
        "f16d0578a92946888fee0b81180215fc": {
          "model_module": "@jupyter-widgets/controls",
          "model_name": "HTMLModel",
          "model_module_version": "1.5.0",
          "state": {
            "_view_name": "HTMLView",
            "style": "IPY_MODEL_244bea53db3a47ed94901659a6a73d4d",
            "_dom_classes": [],
            "description": "",
            "_model_name": "HTMLModel",
            "placeholder": "​",
            "_view_module": "@jupyter-widgets/controls",
            "_model_module_version": "1.5.0",
            "value": "Downloading: 100%",
            "_view_count": null,
            "_view_module_version": "1.5.0",
            "description_tooltip": null,
            "_model_module": "@jupyter-widgets/controls",
            "layout": "IPY_MODEL_84ab1cd337074b289a1cab9c10c7cf8b"
          }
        },
        "6bda25f949da4379ac448a5ee6978a13": {
          "model_module": "@jupyter-widgets/controls",
          "model_name": "FloatProgressModel",
          "model_module_version": "1.5.0",
          "state": {
            "_view_name": "ProgressView",
            "style": "IPY_MODEL_3775da5207a6421fb016c8b3a10475bd",
            "_dom_classes": [],
            "description": "",
            "_model_name": "FloatProgressModel",
            "bar_style": "success",
            "max": 481,
            "_view_module": "@jupyter-widgets/controls",
            "_model_module_version": "1.5.0",
            "value": 481,
            "_view_count": null,
            "_view_module_version": "1.5.0",
            "orientation": "horizontal",
            "min": 0,
            "description_tooltip": null,
            "_model_module": "@jupyter-widgets/controls",
            "layout": "IPY_MODEL_f7032cf5c5f54d4c81d8a0fdc05a6fb7"
          }
        },
        "60951e123f204d7e844c390d493a9305": {
          "model_module": "@jupyter-widgets/controls",
          "model_name": "HTMLModel",
          "model_module_version": "1.5.0",
          "state": {
            "_view_name": "HTMLView",
            "style": "IPY_MODEL_777ade4831504b85a00d6c02f81215e4",
            "_dom_classes": [],
            "description": "",
            "_model_name": "HTMLModel",
            "placeholder": "​",
            "_view_module": "@jupyter-widgets/controls",
            "_model_module_version": "1.5.0",
            "value": " 481/481 [00:00&lt;00:00, 10.9kB/s]",
            "_view_count": null,
            "_view_module_version": "1.5.0",
            "description_tooltip": null,
            "_model_module": "@jupyter-widgets/controls",
            "layout": "IPY_MODEL_d52f5ab693bb4a17b9626d6470727de2"
          }
        },
        "244bea53db3a47ed94901659a6a73d4d": {
          "model_module": "@jupyter-widgets/controls",
          "model_name": "DescriptionStyleModel",
          "model_module_version": "1.5.0",
          "state": {
            "_view_name": "StyleView",
            "_model_name": "DescriptionStyleModel",
            "description_width": "",
            "_view_module": "@jupyter-widgets/base",
            "_model_module_version": "1.5.0",
            "_view_count": null,
            "_view_module_version": "1.2.0",
            "_model_module": "@jupyter-widgets/controls"
          }
        },
        "84ab1cd337074b289a1cab9c10c7cf8b": {
          "model_module": "@jupyter-widgets/base",
          "model_name": "LayoutModel",
          "model_module_version": "1.2.0",
          "state": {
            "_view_name": "LayoutView",
            "grid_template_rows": null,
            "right": null,
            "justify_content": null,
            "_view_module": "@jupyter-widgets/base",
            "overflow": null,
            "_model_module_version": "1.2.0",
            "_view_count": null,
            "flex_flow": null,
            "width": null,
            "min_width": null,
            "border": null,
            "align_items": null,
            "bottom": null,
            "_model_module": "@jupyter-widgets/base",
            "top": null,
            "grid_column": null,
            "overflow_y": null,
            "overflow_x": null,
            "grid_auto_flow": null,
            "grid_area": null,
            "grid_template_columns": null,
            "flex": null,
            "_model_name": "LayoutModel",
            "justify_items": null,
            "grid_row": null,
            "max_height": null,
            "align_content": null,
            "visibility": null,
            "align_self": null,
            "height": null,
            "min_height": null,
            "padding": null,
            "grid_auto_rows": null,
            "grid_gap": null,
            "max_width": null,
            "order": null,
            "_view_module_version": "1.2.0",
            "grid_template_areas": null,
            "object_position": null,
            "object_fit": null,
            "grid_auto_columns": null,
            "margin": null,
            "display": null,
            "left": null
          }
        },
        "3775da5207a6421fb016c8b3a10475bd": {
          "model_module": "@jupyter-widgets/controls",
          "model_name": "ProgressStyleModel",
          "model_module_version": "1.5.0",
          "state": {
            "_view_name": "StyleView",
            "_model_name": "ProgressStyleModel",
            "description_width": "",
            "_view_module": "@jupyter-widgets/base",
            "_model_module_version": "1.5.0",
            "_view_count": null,
            "_view_module_version": "1.2.0",
            "bar_color": null,
            "_model_module": "@jupyter-widgets/controls"
          }
        },
        "f7032cf5c5f54d4c81d8a0fdc05a6fb7": {
          "model_module": "@jupyter-widgets/base",
          "model_name": "LayoutModel",
          "model_module_version": "1.2.0",
          "state": {
            "_view_name": "LayoutView",
            "grid_template_rows": null,
            "right": null,
            "justify_content": null,
            "_view_module": "@jupyter-widgets/base",
            "overflow": null,
            "_model_module_version": "1.2.0",
            "_view_count": null,
            "flex_flow": null,
            "width": null,
            "min_width": null,
            "border": null,
            "align_items": null,
            "bottom": null,
            "_model_module": "@jupyter-widgets/base",
            "top": null,
            "grid_column": null,
            "overflow_y": null,
            "overflow_x": null,
            "grid_auto_flow": null,
            "grid_area": null,
            "grid_template_columns": null,
            "flex": null,
            "_model_name": "LayoutModel",
            "justify_items": null,
            "grid_row": null,
            "max_height": null,
            "align_content": null,
            "visibility": null,
            "align_self": null,
            "height": null,
            "min_height": null,
            "padding": null,
            "grid_auto_rows": null,
            "grid_gap": null,
            "max_width": null,
            "order": null,
            "_view_module_version": "1.2.0",
            "grid_template_areas": null,
            "object_position": null,
            "object_fit": null,
            "grid_auto_columns": null,
            "margin": null,
            "display": null,
            "left": null
          }
        },
        "777ade4831504b85a00d6c02f81215e4": {
          "model_module": "@jupyter-widgets/controls",
          "model_name": "DescriptionStyleModel",
          "model_module_version": "1.5.0",
          "state": {
            "_view_name": "StyleView",
            "_model_name": "DescriptionStyleModel",
            "description_width": "",
            "_view_module": "@jupyter-widgets/base",
            "_model_module_version": "1.5.0",
            "_view_count": null,
            "_view_module_version": "1.2.0",
            "_model_module": "@jupyter-widgets/controls"
          }
        },
        "d52f5ab693bb4a17b9626d6470727de2": {
          "model_module": "@jupyter-widgets/base",
          "model_name": "LayoutModel",
          "model_module_version": "1.2.0",
          "state": {
            "_view_name": "LayoutView",
            "grid_template_rows": null,
            "right": null,
            "justify_content": null,
            "_view_module": "@jupyter-widgets/base",
            "overflow": null,
            "_model_module_version": "1.2.0",
            "_view_count": null,
            "flex_flow": null,
            "width": null,
            "min_width": null,
            "border": null,
            "align_items": null,
            "bottom": null,
            "_model_module": "@jupyter-widgets/base",
            "top": null,
            "grid_column": null,
            "overflow_y": null,
            "overflow_x": null,
            "grid_auto_flow": null,
            "grid_area": null,
            "grid_template_columns": null,
            "flex": null,
            "_model_name": "LayoutModel",
            "justify_items": null,
            "grid_row": null,
            "max_height": null,
            "align_content": null,
            "visibility": null,
            "align_self": null,
            "height": null,
            "min_height": null,
            "padding": null,
            "grid_auto_rows": null,
            "grid_gap": null,
            "max_width": null,
            "order": null,
            "_view_module_version": "1.2.0",
            "grid_template_areas": null,
            "object_position": null,
            "object_fit": null,
            "grid_auto_columns": null,
            "margin": null,
            "display": null,
            "left": null
          }
        },
        "12af27b2b1e6496aba9f6b8ff3807337": {
          "model_module": "@jupyter-widgets/controls",
          "model_name": "HBoxModel",
          "model_module_version": "1.5.0",
          "state": {
            "_view_name": "HBoxView",
            "_dom_classes": [],
            "_model_name": "HBoxModel",
            "_view_module": "@jupyter-widgets/controls",
            "_model_module_version": "1.5.0",
            "_view_count": null,
            "_view_module_version": "1.5.0",
            "box_style": "",
            "layout": "IPY_MODEL_26b9ea0368f5417980da15380f5877ed",
            "_model_module": "@jupyter-widgets/controls",
            "children": [
              "IPY_MODEL_c230df2d927745b996995724a7795f51",
              "IPY_MODEL_8c6af6bc8ec44995ace481e6f40c94a7",
              "IPY_MODEL_fae838e5ca89446286964aaa2418ba5b"
            ]
          }
        },
        "26b9ea0368f5417980da15380f5877ed": {
          "model_module": "@jupyter-widgets/base",
          "model_name": "LayoutModel",
          "model_module_version": "1.2.0",
          "state": {
            "_view_name": "LayoutView",
            "grid_template_rows": null,
            "right": null,
            "justify_content": null,
            "_view_module": "@jupyter-widgets/base",
            "overflow": null,
            "_model_module_version": "1.2.0",
            "_view_count": null,
            "flex_flow": null,
            "width": null,
            "min_width": null,
            "border": null,
            "align_items": null,
            "bottom": null,
            "_model_module": "@jupyter-widgets/base",
            "top": null,
            "grid_column": null,
            "overflow_y": null,
            "overflow_x": null,
            "grid_auto_flow": null,
            "grid_area": null,
            "grid_template_columns": null,
            "flex": null,
            "_model_name": "LayoutModel",
            "justify_items": null,
            "grid_row": null,
            "max_height": null,
            "align_content": null,
            "visibility": null,
            "align_self": null,
            "height": null,
            "min_height": null,
            "padding": null,
            "grid_auto_rows": null,
            "grid_gap": null,
            "max_width": null,
            "order": null,
            "_view_module_version": "1.2.0",
            "grid_template_areas": null,
            "object_position": null,
            "object_fit": null,
            "grid_auto_columns": null,
            "margin": null,
            "display": null,
            "left": null
          }
        },
        "c230df2d927745b996995724a7795f51": {
          "model_module": "@jupyter-widgets/controls",
          "model_name": "HTMLModel",
          "model_module_version": "1.5.0",
          "state": {
            "_view_name": "HTMLView",
            "style": "IPY_MODEL_f0d0398393e740ff849ee6218e5004cb",
            "_dom_classes": [],
            "description": "",
            "_model_name": "HTMLModel",
            "placeholder": "​",
            "_view_module": "@jupyter-widgets/controls",
            "_model_module_version": "1.5.0",
            "value": "Downloading: 100%",
            "_view_count": null,
            "_view_module_version": "1.5.0",
            "description_tooltip": null,
            "_model_module": "@jupyter-widgets/controls",
            "layout": "IPY_MODEL_a58c79424de941768aab0f830e266b27"
          }
        },
        "8c6af6bc8ec44995ace481e6f40c94a7": {
          "model_module": "@jupyter-widgets/controls",
          "model_name": "FloatProgressModel",
          "model_module_version": "1.5.0",
          "state": {
            "_view_name": "ProgressView",
            "style": "IPY_MODEL_5fa236be810545f6a057d1d641f24f19",
            "_dom_classes": [],
            "description": "",
            "_model_name": "FloatProgressModel",
            "bar_style": "success",
            "max": 501200538,
            "_view_module": "@jupyter-widgets/controls",
            "_model_module_version": "1.5.0",
            "value": 501200538,
            "_view_count": null,
            "_view_module_version": "1.5.0",
            "orientation": "horizontal",
            "min": 0,
            "description_tooltip": null,
            "_model_module": "@jupyter-widgets/controls",
            "layout": "IPY_MODEL_3da0c3010c7b42b4a5756f8d038a0701"
          }
        },
        "fae838e5ca89446286964aaa2418ba5b": {
          "model_module": "@jupyter-widgets/controls",
          "model_name": "HTMLModel",
          "model_module_version": "1.5.0",
          "state": {
            "_view_name": "HTMLView",
            "style": "IPY_MODEL_dead67d1e5814e5c935ea17ce986cbc9",
            "_dom_classes": [],
            "description": "",
            "_model_name": "HTMLModel",
            "placeholder": "​",
            "_view_module": "@jupyter-widgets/controls",
            "_model_module_version": "1.5.0",
            "value": " 478M/478M [00:14&lt;00:00, 36.1MB/s]",
            "_view_count": null,
            "_view_module_version": "1.5.0",
            "description_tooltip": null,
            "_model_module": "@jupyter-widgets/controls",
            "layout": "IPY_MODEL_346e9042ba934288894cf185a107dd36"
          }
        },
        "f0d0398393e740ff849ee6218e5004cb": {
          "model_module": "@jupyter-widgets/controls",
          "model_name": "DescriptionStyleModel",
          "model_module_version": "1.5.0",
          "state": {
            "_view_name": "StyleView",
            "_model_name": "DescriptionStyleModel",
            "description_width": "",
            "_view_module": "@jupyter-widgets/base",
            "_model_module_version": "1.5.0",
            "_view_count": null,
            "_view_module_version": "1.2.0",
            "_model_module": "@jupyter-widgets/controls"
          }
        },
        "a58c79424de941768aab0f830e266b27": {
          "model_module": "@jupyter-widgets/base",
          "model_name": "LayoutModel",
          "model_module_version": "1.2.0",
          "state": {
            "_view_name": "LayoutView",
            "grid_template_rows": null,
            "right": null,
            "justify_content": null,
            "_view_module": "@jupyter-widgets/base",
            "overflow": null,
            "_model_module_version": "1.2.0",
            "_view_count": null,
            "flex_flow": null,
            "width": null,
            "min_width": null,
            "border": null,
            "align_items": null,
            "bottom": null,
            "_model_module": "@jupyter-widgets/base",
            "top": null,
            "grid_column": null,
            "overflow_y": null,
            "overflow_x": null,
            "grid_auto_flow": null,
            "grid_area": null,
            "grid_template_columns": null,
            "flex": null,
            "_model_name": "LayoutModel",
            "justify_items": null,
            "grid_row": null,
            "max_height": null,
            "align_content": null,
            "visibility": null,
            "align_self": null,
            "height": null,
            "min_height": null,
            "padding": null,
            "grid_auto_rows": null,
            "grid_gap": null,
            "max_width": null,
            "order": null,
            "_view_module_version": "1.2.0",
            "grid_template_areas": null,
            "object_position": null,
            "object_fit": null,
            "grid_auto_columns": null,
            "margin": null,
            "display": null,
            "left": null
          }
        },
        "5fa236be810545f6a057d1d641f24f19": {
          "model_module": "@jupyter-widgets/controls",
          "model_name": "ProgressStyleModel",
          "model_module_version": "1.5.0",
          "state": {
            "_view_name": "StyleView",
            "_model_name": "ProgressStyleModel",
            "description_width": "",
            "_view_module": "@jupyter-widgets/base",
            "_model_module_version": "1.5.0",
            "_view_count": null,
            "_view_module_version": "1.2.0",
            "bar_color": null,
            "_model_module": "@jupyter-widgets/controls"
          }
        },
        "3da0c3010c7b42b4a5756f8d038a0701": {
          "model_module": "@jupyter-widgets/base",
          "model_name": "LayoutModel",
          "model_module_version": "1.2.0",
          "state": {
            "_view_name": "LayoutView",
            "grid_template_rows": null,
            "right": null,
            "justify_content": null,
            "_view_module": "@jupyter-widgets/base",
            "overflow": null,
            "_model_module_version": "1.2.0",
            "_view_count": null,
            "flex_flow": null,
            "width": null,
            "min_width": null,
            "border": null,
            "align_items": null,
            "bottom": null,
            "_model_module": "@jupyter-widgets/base",
            "top": null,
            "grid_column": null,
            "overflow_y": null,
            "overflow_x": null,
            "grid_auto_flow": null,
            "grid_area": null,
            "grid_template_columns": null,
            "flex": null,
            "_model_name": "LayoutModel",
            "justify_items": null,
            "grid_row": null,
            "max_height": null,
            "align_content": null,
            "visibility": null,
            "align_self": null,
            "height": null,
            "min_height": null,
            "padding": null,
            "grid_auto_rows": null,
            "grid_gap": null,
            "max_width": null,
            "order": null,
            "_view_module_version": "1.2.0",
            "grid_template_areas": null,
            "object_position": null,
            "object_fit": null,
            "grid_auto_columns": null,
            "margin": null,
            "display": null,
            "left": null
          }
        },
        "dead67d1e5814e5c935ea17ce986cbc9": {
          "model_module": "@jupyter-widgets/controls",
          "model_name": "DescriptionStyleModel",
          "model_module_version": "1.5.0",
          "state": {
            "_view_name": "StyleView",
            "_model_name": "DescriptionStyleModel",
            "description_width": "",
            "_view_module": "@jupyter-widgets/base",
            "_model_module_version": "1.5.0",
            "_view_count": null,
            "_view_module_version": "1.2.0",
            "_model_module": "@jupyter-widgets/controls"
          }
        },
        "346e9042ba934288894cf185a107dd36": {
          "model_module": "@jupyter-widgets/base",
          "model_name": "LayoutModel",
          "model_module_version": "1.2.0",
          "state": {
            "_view_name": "LayoutView",
            "grid_template_rows": null,
            "right": null,
            "justify_content": null,
            "_view_module": "@jupyter-widgets/base",
            "overflow": null,
            "_model_module_version": "1.2.0",
            "_view_count": null,
            "flex_flow": null,
            "width": null,
            "min_width": null,
            "border": null,
            "align_items": null,
            "bottom": null,
            "_model_module": "@jupyter-widgets/base",
            "top": null,
            "grid_column": null,
            "overflow_y": null,
            "overflow_x": null,
            "grid_auto_flow": null,
            "grid_area": null,
            "grid_template_columns": null,
            "flex": null,
            "_model_name": "LayoutModel",
            "justify_items": null,
            "grid_row": null,
            "max_height": null,
            "align_content": null,
            "visibility": null,
            "align_self": null,
            "height": null,
            "min_height": null,
            "padding": null,
            "grid_auto_rows": null,
            "grid_gap": null,
            "max_width": null,
            "order": null,
            "_view_module_version": "1.2.0",
            "grid_template_areas": null,
            "object_position": null,
            "object_fit": null,
            "grid_auto_columns": null,
            "margin": null,
            "display": null,
            "left": null
          }
        }
      }
    }
  },
  "nbformat": 4,
  "nbformat_minor": 0
}