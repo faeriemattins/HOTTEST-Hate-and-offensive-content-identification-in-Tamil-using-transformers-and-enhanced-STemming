{
 "cells": [
  {
   "cell_type": "markdown",
   "metadata": {
    "id": "tnw2XruSMUfw"
   },
   "source": [
    "## **Setting up the Environment**"
   ]
  },
  {
   "cell_type": "code",
   "execution_count": 1,
   "metadata": {
    "colab": {
     "base_uri": "https://localhost:8080/"
    },
    "executionInfo": {
     "elapsed": 21357,
     "status": "ok",
     "timestamp": 1642841393233,
     "user": {
      "displayName": "Faerie Mattins",
      "photoUrl": "https://lh3.googleusercontent.com/a-/AOh14GioC2l5h-WyYv75UEkACBUNdG2iNVemsmA1kWM_HA=s64",
      "userId": "14162521248288859983"
     },
     "user_tz": -330
    },
    "id": "t6waM-ZjYsT_",
    "outputId": "fe41a2f7-5f8a-42d0-f40a-9b6f43bf7b5c"
   },
   "outputs": [
    {
     "name": "stdout",
     "output_type": "stream",
     "text": [
      "Mounted at /content/drive\n"
     ]
    }
   ],
   "source": [
    "from google.colab import drive\n",
    "drive.mount('/content/drive')"
   ]
  },
  {
   "cell_type": "code",
   "execution_count": 2,
   "metadata": {
    "colab": {
     "base_uri": "https://localhost:8080/"
    },
    "executionInfo": {
     "elapsed": 387,
     "status": "ok",
     "timestamp": 1642841395716,
     "user": {
      "displayName": "Faerie Mattins",
      "photoUrl": "https://lh3.googleusercontent.com/a-/AOh14GioC2l5h-WyYv75UEkACBUNdG2iNVemsmA1kWM_HA=s64",
      "userId": "14162521248288859983"
     },
     "user_tz": -330
    },
    "id": "T8RvuzdIMLuq",
    "outputId": "f739e03d-5208-4926-e5f1-2a69b2bac4d2"
   },
   "outputs": [
    {
     "name": "stdout",
     "output_type": "stream",
     "text": [
      "/content/drive/MyDrive/Colab Notebooks/Hate-Speech-Detection-in-Tamil/HASOC Tamil/Task 1\n"
     ]
    }
   ],
   "source": [
    "% cd /content/drive/MyDrive/Colab Notebooks/Hate-Speech-Detection-in-Tamil/HASOC Tamil/Task 1"
   ]
  },
  {
   "cell_type": "markdown",
   "metadata": {
    "id": "frsimxN3WIi9"
   },
   "source": [
    "## **Importing Libraries**"
   ]
  },
  {
   "cell_type": "code",
   "execution_count": 3,
   "metadata": {
    "executionInfo": {
     "elapsed": 992,
     "status": "ok",
     "timestamp": 1642841404303,
     "user": {
      "displayName": "Faerie Mattins",
      "photoUrl": "https://lh3.googleusercontent.com/a-/AOh14GioC2l5h-WyYv75UEkACBUNdG2iNVemsmA1kWM_HA=s64",
      "userId": "14162521248288859983"
     },
     "user_tz": -330
    },
    "id": "FhgD-MP1MvdJ"
   },
   "outputs": [],
   "source": [
    "import pandas as pd\n",
    "\n",
    "import numpy as np\n",
    "import re\n",
    "\n",
    "from sklearn.preprocessing import LabelEncoder\n",
    "from sklearn.feature_extraction.text import TfidfVectorizer\n",
    "from sklearn.model_selection import train_test_split\n",
    "from sklearn.linear_model import LogisticRegression\n",
    "from sklearn.svm import SVC\n",
    "from sklearn.naive_bayes import GaussianNB\n",
    "from sklearn.linear_model import SGDClassifier\n",
    "from sklearn.neighbors import KNeighborsClassifier\n",
    "from sklearn.tree import DecisionTreeClassifier\n",
    "from sklearn.ensemble import RandomForestClassifier\n",
    "from sklearn.metrics import classification_report"
   ]
  },
  {
   "cell_type": "markdown",
   "metadata": {
    "id": "U2vuSnCBWPwP"
   },
   "source": [
    "## **Loading Data**"
   ]
  },
  {
   "cell_type": "code",
   "execution_count": 4,
   "metadata": {
    "executionInfo": {
     "elapsed": 519,
     "status": "ok",
     "timestamp": 1642841451284,
     "user": {
      "displayName": "Faerie Mattins",
      "photoUrl": "https://lh3.googleusercontent.com/a-/AOh14GioC2l5h-WyYv75UEkACBUNdG2iNVemsmA1kWM_HA=s64",
      "userId": "14162521248288859983"
     },
     "user_tz": -330
    },
    "id": "t96ankzGWRyf"
   },
   "outputs": [],
   "source": [
    "dataframe = pd.read_csv(\"Dataset/tamil_offensive_train.tsv\", sep='\\t')"
   ]
  },
  {
   "cell_type": "code",
   "execution_count": 5,
   "metadata": {
    "colab": {
     "base_uri": "https://localhost:8080/",
     "height": 206
    },
    "executionInfo": {
     "elapsed": 6,
     "status": "ok",
     "timestamp": 1642841451761,
     "user": {
      "displayName": "Faerie Mattins",
      "photoUrl": "https://lh3.googleusercontent.com/a-/AOh14GioC2l5h-WyYv75UEkACBUNdG2iNVemsmA1kWM_HA=s64",
      "userId": "14162521248288859983"
     },
     "user_tz": -330
    },
    "id": "bqiD6tqiXIWG",
    "outputId": "f2293977-cd50-43c5-fa69-64bc0fe1f586"
   },
   "outputs": [
    {
     "data": {
      "text/html": [
       "\n",
       "  <div id=\"df-5d5f8679-297e-4c90-9cf5-90f6228f5f65\">\n",
       "    <div class=\"colab-df-container\">\n",
       "      <div>\n",
       "<style scoped>\n",
       "    .dataframe tbody tr th:only-of-type {\n",
       "        vertical-align: middle;\n",
       "    }\n",
       "\n",
       "    .dataframe tbody tr th {\n",
       "        vertical-align: top;\n",
       "    }\n",
       "\n",
       "    .dataframe thead th {\n",
       "        text-align: right;\n",
       "    }\n",
       "</style>\n",
       "<table border=\"1\" class=\"dataframe\">\n",
       "  <thead>\n",
       "    <tr style=\"text-align: right;\">\n",
       "      <th></th>\n",
       "      <th>id</th>\n",
       "      <th>text</th>\n",
       "      <th>category</th>\n",
       "    </tr>\n",
       "  </thead>\n",
       "  <tbody>\n",
       "    <tr>\n",
       "      <th>0</th>\n",
       "      <td>tam1</td>\n",
       "      <td>திருமலை நாயக்கர் பேரவை சார்பாக படம் வெற்றி பெற...</td>\n",
       "      <td>NOT</td>\n",
       "    </tr>\n",
       "    <tr>\n",
       "      <th>1</th>\n",
       "      <td>tam2</td>\n",
       "      <td>இந்த ட்ரெய்லர் கூட பார்க்கிற மாதிரி இல்லை.. இத...</td>\n",
       "      <td>OFF</td>\n",
       "    </tr>\n",
       "    <tr>\n",
       "      <th>2</th>\n",
       "      <td>tam3</td>\n",
       "      <td>மைசூரு செட்டியார் சமூகத்தின் சார்பாக இப்படம் வ...</td>\n",
       "      <td>NOT</td>\n",
       "    </tr>\n",
       "    <tr>\n",
       "      <th>3</th>\n",
       "      <td>tam4</td>\n",
       "      <td>மொத்த சாதியும் ஒரு சாதிக்கு எதிரா நிக்குது.......</td>\n",
       "      <td>OFF</td>\n",
       "    </tr>\n",
       "    <tr>\n",
       "      <th>4</th>\n",
       "      <td>tam5</td>\n",
       "      <td>only for விஜய் சேதுபதி and STR</td>\n",
       "      <td>NOT</td>\n",
       "    </tr>\n",
       "  </tbody>\n",
       "</table>\n",
       "</div>\n",
       "      <button class=\"colab-df-convert\" onclick=\"convertToInteractive('df-5d5f8679-297e-4c90-9cf5-90f6228f5f65')\"\n",
       "              title=\"Convert this dataframe to an interactive table.\"\n",
       "              style=\"display:none;\">\n",
       "        \n",
       "  <svg xmlns=\"http://www.w3.org/2000/svg\" height=\"24px\"viewBox=\"0 0 24 24\"\n",
       "       width=\"24px\">\n",
       "    <path d=\"M0 0h24v24H0V0z\" fill=\"none\"/>\n",
       "    <path d=\"M18.56 5.44l.94 2.06.94-2.06 2.06-.94-2.06-.94-.94-2.06-.94 2.06-2.06.94zm-11 1L8.5 8.5l.94-2.06 2.06-.94-2.06-.94L8.5 2.5l-.94 2.06-2.06.94zm10 10l.94 2.06.94-2.06 2.06-.94-2.06-.94-.94-2.06-.94 2.06-2.06.94z\"/><path d=\"M17.41 7.96l-1.37-1.37c-.4-.4-.92-.59-1.43-.59-.52 0-1.04.2-1.43.59L10.3 9.45l-7.72 7.72c-.78.78-.78 2.05 0 2.83L4 21.41c.39.39.9.59 1.41.59.51 0 1.02-.2 1.41-.59l7.78-7.78 2.81-2.81c.8-.78.8-2.07 0-2.86zM5.41 20L4 18.59l7.72-7.72 1.47 1.35L5.41 20z\"/>\n",
       "  </svg>\n",
       "      </button>\n",
       "      \n",
       "  <style>\n",
       "    .colab-df-container {\n",
       "      display:flex;\n",
       "      flex-wrap:wrap;\n",
       "      gap: 12px;\n",
       "    }\n",
       "\n",
       "    .colab-df-convert {\n",
       "      background-color: #E8F0FE;\n",
       "      border: none;\n",
       "      border-radius: 50%;\n",
       "      cursor: pointer;\n",
       "      display: none;\n",
       "      fill: #1967D2;\n",
       "      height: 32px;\n",
       "      padding: 0 0 0 0;\n",
       "      width: 32px;\n",
       "    }\n",
       "\n",
       "    .colab-df-convert:hover {\n",
       "      background-color: #E2EBFA;\n",
       "      box-shadow: 0px 1px 2px rgba(60, 64, 67, 0.3), 0px 1px 3px 1px rgba(60, 64, 67, 0.15);\n",
       "      fill: #174EA6;\n",
       "    }\n",
       "\n",
       "    [theme=dark] .colab-df-convert {\n",
       "      background-color: #3B4455;\n",
       "      fill: #D2E3FC;\n",
       "    }\n",
       "\n",
       "    [theme=dark] .colab-df-convert:hover {\n",
       "      background-color: #434B5C;\n",
       "      box-shadow: 0px 1px 3px 1px rgba(0, 0, 0, 0.15);\n",
       "      filter: drop-shadow(0px 1px 2px rgba(0, 0, 0, 0.3));\n",
       "      fill: #FFFFFF;\n",
       "    }\n",
       "  </style>\n",
       "\n",
       "      <script>\n",
       "        const buttonEl =\n",
       "          document.querySelector('#df-5d5f8679-297e-4c90-9cf5-90f6228f5f65 button.colab-df-convert');\n",
       "        buttonEl.style.display =\n",
       "          google.colab.kernel.accessAllowed ? 'block' : 'none';\n",
       "\n",
       "        async function convertToInteractive(key) {\n",
       "          const element = document.querySelector('#df-5d5f8679-297e-4c90-9cf5-90f6228f5f65');\n",
       "          const dataTable =\n",
       "            await google.colab.kernel.invokeFunction('convertToInteractive',\n",
       "                                                     [key], {});\n",
       "          if (!dataTable) return;\n",
       "\n",
       "          const docLinkHtml = 'Like what you see? Visit the ' +\n",
       "            '<a target=\"_blank\" href=https://colab.research.google.com/notebooks/data_table.ipynb>data table notebook</a>'\n",
       "            + ' to learn more about interactive tables.';\n",
       "          element.innerHTML = '';\n",
       "          dataTable['output_type'] = 'display_data';\n",
       "          await google.colab.output.renderOutput(dataTable, element);\n",
       "          const docLink = document.createElement('div');\n",
       "          docLink.innerHTML = docLinkHtml;\n",
       "          element.appendChild(docLink);\n",
       "        }\n",
       "      </script>\n",
       "    </div>\n",
       "  </div>\n",
       "  "
      ],
      "text/plain": [
       "     id                                               text category\n",
       "0  tam1  திருமலை நாயக்கர் பேரவை சார்பாக படம் வெற்றி பெற...      NOT\n",
       "1  tam2  இந்த ட்ரெய்லர் கூட பார்க்கிற மாதிரி இல்லை.. இத...      OFF\n",
       "2  tam3  மைசூரு செட்டியார் சமூகத்தின் சார்பாக இப்படம் வ...      NOT\n",
       "3  tam4  மொத்த சாதியும் ஒரு சாதிக்கு எதிரா நிக்குது.......      OFF\n",
       "4  tam5                     only for விஜய் சேதுபதி and STR      NOT"
      ]
     },
     "execution_count": 5,
     "metadata": {},
     "output_type": "execute_result"
    }
   ],
   "source": [
    "dataframe.head()"
   ]
  },
  {
   "cell_type": "code",
   "execution_count": 6,
   "metadata": {
    "colab": {
     "base_uri": "https://localhost:8080/",
     "height": 175
    },
    "executionInfo": {
     "elapsed": 10,
     "status": "ok",
     "timestamp": 1642841452306,
     "user": {
      "displayName": "Faerie Mattins",
      "photoUrl": "https://lh3.googleusercontent.com/a-/AOh14GioC2l5h-WyYv75UEkACBUNdG2iNVemsmA1kWM_HA=s64",
      "userId": "14162521248288859983"
     },
     "user_tz": -330
    },
    "id": "wz9txWy-XScR",
    "outputId": "1ccb98c3-4233-4d11-c745-41e648abe264"
   },
   "outputs": [
    {
     "data": {
      "text/html": [
       "\n",
       "  <div id=\"df-90d869e2-02fb-4fcb-a343-f0c9c194106a\">\n",
       "    <div class=\"colab-df-container\">\n",
       "      <div>\n",
       "<style scoped>\n",
       "    .dataframe tbody tr th:only-of-type {\n",
       "        vertical-align: middle;\n",
       "    }\n",
       "\n",
       "    .dataframe tbody tr th {\n",
       "        vertical-align: top;\n",
       "    }\n",
       "\n",
       "    .dataframe thead th {\n",
       "        text-align: right;\n",
       "    }\n",
       "</style>\n",
       "<table border=\"1\" class=\"dataframe\">\n",
       "  <thead>\n",
       "    <tr style=\"text-align: right;\">\n",
       "      <th></th>\n",
       "      <th>id</th>\n",
       "      <th>text</th>\n",
       "      <th>category</th>\n",
       "    </tr>\n",
       "  </thead>\n",
       "  <tbody>\n",
       "    <tr>\n",
       "      <th>count</th>\n",
       "      <td>5880</td>\n",
       "      <td>5880</td>\n",
       "      <td>5880</td>\n",
       "    </tr>\n",
       "    <tr>\n",
       "      <th>unique</th>\n",
       "      <td>5880</td>\n",
       "      <td>5812</td>\n",
       "      <td>3</td>\n",
       "    </tr>\n",
       "    <tr>\n",
       "      <th>top</th>\n",
       "      <td>tam3295</td>\n",
       "      <td>வந்தா ராஜாவா தான் வருவேன்........ ராஜாவா வந்தா...</td>\n",
       "      <td>NOT</td>\n",
       "    </tr>\n",
       "    <tr>\n",
       "      <th>freq</th>\n",
       "      <td>1</td>\n",
       "      <td>5</td>\n",
       "      <td>4724</td>\n",
       "    </tr>\n",
       "  </tbody>\n",
       "</table>\n",
       "</div>\n",
       "      <button class=\"colab-df-convert\" onclick=\"convertToInteractive('df-90d869e2-02fb-4fcb-a343-f0c9c194106a')\"\n",
       "              title=\"Convert this dataframe to an interactive table.\"\n",
       "              style=\"display:none;\">\n",
       "        \n",
       "  <svg xmlns=\"http://www.w3.org/2000/svg\" height=\"24px\"viewBox=\"0 0 24 24\"\n",
       "       width=\"24px\">\n",
       "    <path d=\"M0 0h24v24H0V0z\" fill=\"none\"/>\n",
       "    <path d=\"M18.56 5.44l.94 2.06.94-2.06 2.06-.94-2.06-.94-.94-2.06-.94 2.06-2.06.94zm-11 1L8.5 8.5l.94-2.06 2.06-.94-2.06-.94L8.5 2.5l-.94 2.06-2.06.94zm10 10l.94 2.06.94-2.06 2.06-.94-2.06-.94-.94-2.06-.94 2.06-2.06.94z\"/><path d=\"M17.41 7.96l-1.37-1.37c-.4-.4-.92-.59-1.43-.59-.52 0-1.04.2-1.43.59L10.3 9.45l-7.72 7.72c-.78.78-.78 2.05 0 2.83L4 21.41c.39.39.9.59 1.41.59.51 0 1.02-.2 1.41-.59l7.78-7.78 2.81-2.81c.8-.78.8-2.07 0-2.86zM5.41 20L4 18.59l7.72-7.72 1.47 1.35L5.41 20z\"/>\n",
       "  </svg>\n",
       "      </button>\n",
       "      \n",
       "  <style>\n",
       "    .colab-df-container {\n",
       "      display:flex;\n",
       "      flex-wrap:wrap;\n",
       "      gap: 12px;\n",
       "    }\n",
       "\n",
       "    .colab-df-convert {\n",
       "      background-color: #E8F0FE;\n",
       "      border: none;\n",
       "      border-radius: 50%;\n",
       "      cursor: pointer;\n",
       "      display: none;\n",
       "      fill: #1967D2;\n",
       "      height: 32px;\n",
       "      padding: 0 0 0 0;\n",
       "      width: 32px;\n",
       "    }\n",
       "\n",
       "    .colab-df-convert:hover {\n",
       "      background-color: #E2EBFA;\n",
       "      box-shadow: 0px 1px 2px rgba(60, 64, 67, 0.3), 0px 1px 3px 1px rgba(60, 64, 67, 0.15);\n",
       "      fill: #174EA6;\n",
       "    }\n",
       "\n",
       "    [theme=dark] .colab-df-convert {\n",
       "      background-color: #3B4455;\n",
       "      fill: #D2E3FC;\n",
       "    }\n",
       "\n",
       "    [theme=dark] .colab-df-convert:hover {\n",
       "      background-color: #434B5C;\n",
       "      box-shadow: 0px 1px 3px 1px rgba(0, 0, 0, 0.15);\n",
       "      filter: drop-shadow(0px 1px 2px rgba(0, 0, 0, 0.3));\n",
       "      fill: #FFFFFF;\n",
       "    }\n",
       "  </style>\n",
       "\n",
       "      <script>\n",
       "        const buttonEl =\n",
       "          document.querySelector('#df-90d869e2-02fb-4fcb-a343-f0c9c194106a button.colab-df-convert');\n",
       "        buttonEl.style.display =\n",
       "          google.colab.kernel.accessAllowed ? 'block' : 'none';\n",
       "\n",
       "        async function convertToInteractive(key) {\n",
       "          const element = document.querySelector('#df-90d869e2-02fb-4fcb-a343-f0c9c194106a');\n",
       "          const dataTable =\n",
       "            await google.colab.kernel.invokeFunction('convertToInteractive',\n",
       "                                                     [key], {});\n",
       "          if (!dataTable) return;\n",
       "\n",
       "          const docLinkHtml = 'Like what you see? Visit the ' +\n",
       "            '<a target=\"_blank\" href=https://colab.research.google.com/notebooks/data_table.ipynb>data table notebook</a>'\n",
       "            + ' to learn more about interactive tables.';\n",
       "          element.innerHTML = '';\n",
       "          dataTable['output_type'] = 'display_data';\n",
       "          await google.colab.output.renderOutput(dataTable, element);\n",
       "          const docLink = document.createElement('div');\n",
       "          docLink.innerHTML = docLinkHtml;\n",
       "          element.appendChild(docLink);\n",
       "        }\n",
       "      </script>\n",
       "    </div>\n",
       "  </div>\n",
       "  "
      ],
      "text/plain": [
       "             id                                               text category\n",
       "count      5880                                               5880     5880\n",
       "unique     5880                                               5812        3\n",
       "top     tam3295  வந்தா ராஜாவா தான் வருவேன்........ ராஜாவா வந்தா...      NOT\n",
       "freq          1                                                  5     4724"
      ]
     },
     "execution_count": 6,
     "metadata": {},
     "output_type": "execute_result"
    }
   ],
   "source": [
    "dataframe.describe()"
   ]
  },
  {
   "cell_type": "code",
   "execution_count": 7,
   "metadata": {
    "colab": {
     "base_uri": "https://localhost:8080/"
    },
    "executionInfo": {
     "elapsed": 9,
     "status": "ok",
     "timestamp": 1642841452307,
     "user": {
      "displayName": "Faerie Mattins",
      "photoUrl": "https://lh3.googleusercontent.com/a-/AOh14GioC2l5h-WyYv75UEkACBUNdG2iNVemsmA1kWM_HA=s64",
      "userId": "14162521248288859983"
     },
     "user_tz": -330
    },
    "id": "vkt5ouYncr9I",
    "outputId": "e4c9622d-875c-4820-fc9e-17a5a6438abd"
   },
   "outputs": [
    {
     "data": {
      "text/plain": [
       "array(['NOT', 'OFF', 'not-Tamil'], dtype=object)"
      ]
     },
     "execution_count": 7,
     "metadata": {},
     "output_type": "execute_result"
    }
   ],
   "source": [
    "dataframe['category'].unique()"
   ]
  },
  {
   "cell_type": "code",
   "execution_count": 8,
   "metadata": {
    "colab": {
     "base_uri": "https://localhost:8080/"
    },
    "executionInfo": {
     "elapsed": 13,
     "status": "ok",
     "timestamp": 1642841452891,
     "user": {
      "displayName": "Faerie Mattins",
      "photoUrl": "https://lh3.googleusercontent.com/a-/AOh14GioC2l5h-WyYv75UEkACBUNdG2iNVemsmA1kWM_HA=s64",
      "userId": "14162521248288859983"
     },
     "user_tz": -330
    },
    "id": "jOEi-dH7fz4h",
    "outputId": "f352fab3-a2f7-4462-8f48-86275614c54a"
   },
   "outputs": [
    {
     "data": {
      "text/plain": [
       "(5880, 3)"
      ]
     },
     "execution_count": 8,
     "metadata": {},
     "output_type": "execute_result"
    }
   ],
   "source": [
    "dataframe.shape"
   ]
  },
  {
   "cell_type": "code",
   "execution_count": 9,
   "metadata": {
    "colab": {
     "base_uri": "https://localhost:8080/"
    },
    "executionInfo": {
     "elapsed": 12,
     "status": "ok",
     "timestamp": 1642841452892,
     "user": {
      "displayName": "Faerie Mattins",
      "photoUrl": "https://lh3.googleusercontent.com/a-/AOh14GioC2l5h-WyYv75UEkACBUNdG2iNVemsmA1kWM_HA=s64",
      "userId": "14162521248288859983"
     },
     "user_tz": -330
    },
    "id": "i9yjOAHifVLx",
    "outputId": "96eaf61c-11df-4b60-dd69-037d5e343d15"
   },
   "outputs": [
    {
     "data": {
      "text/plain": [
       "array(['NOT', 'OFF'], dtype=object)"
      ]
     },
     "execution_count": 9,
     "metadata": {},
     "output_type": "execute_result"
    }
   ],
   "source": [
    "dataframe = dataframe.loc[dataframe['category'] != 'not-Tamil']\n",
    "dataframe['category'].unique()"
   ]
  },
  {
   "cell_type": "code",
   "execution_count": 10,
   "metadata": {
    "colab": {
     "base_uri": "https://localhost:8080/"
    },
    "executionInfo": {
     "elapsed": 6,
     "status": "ok",
     "timestamp": 1642841453267,
     "user": {
      "displayName": "Faerie Mattins",
      "photoUrl": "https://lh3.googleusercontent.com/a-/AOh14GioC2l5h-WyYv75UEkACBUNdG2iNVemsmA1kWM_HA=s64",
      "userId": "14162521248288859983"
     },
     "user_tz": -330
    },
    "id": "jpUQgdEpf3Og",
    "outputId": "f1d43de3-394d-4109-edef-e2c6448cb912"
   },
   "outputs": [
    {
     "data": {
      "text/plain": [
       "(5877, 3)"
      ]
     },
     "execution_count": 10,
     "metadata": {},
     "output_type": "execute_result"
    }
   ],
   "source": [
    "dataframe.shape"
   ]
  },
  {
   "cell_type": "code",
   "execution_count": 11,
   "metadata": {
    "executionInfo": {
     "elapsed": 5,
     "status": "ok",
     "timestamp": 1642841455052,
     "user": {
      "displayName": "Faerie Mattins",
      "photoUrl": "https://lh3.googleusercontent.com/a-/AOh14GioC2l5h-WyYv75UEkACBUNdG2iNVemsmA1kWM_HA=s64",
      "userId": "14162521248288859983"
     },
     "user_tz": -330
    },
    "id": "KWL1S_KhX2Vt"
   },
   "outputs": [],
   "source": [
    "text = dataframe['text']"
   ]
  },
  {
   "cell_type": "code",
   "execution_count": 12,
   "metadata": {
    "colab": {
     "base_uri": "https://localhost:8080/"
    },
    "executionInfo": {
     "elapsed": 4,
     "status": "ok",
     "timestamp": 1642841455433,
     "user": {
      "displayName": "Faerie Mattins",
      "photoUrl": "https://lh3.googleusercontent.com/a-/AOh14GioC2l5h-WyYv75UEkACBUNdG2iNVemsmA1kWM_HA=s64",
      "userId": "14162521248288859983"
     },
     "user_tz": -330
    },
    "id": "dywNEXswbwMA",
    "outputId": "a4bcf22d-be55-43f1-fd12-63074b13dcdc"
   },
   "outputs": [
    {
     "data": {
      "text/plain": [
       "0       திருமலை நாயக்கர் பேரவை சார்பாக படம் வெற்றி பெற...\n",
       "1       இந்த ட்ரெய்லர் கூட பார்க்கிற மாதிரி இல்லை.. இத...\n",
       "2       மைசூரு செட்டியார் சமூகத்தின் சார்பாக இப்படம் வ...\n",
       "3       மொத்த சாதியும் ஒரு சாதிக்கு எதிரா நிக்குது.......\n",
       "4                          only for விஜய் சேதுபதி and STR\n",
       "                              ...                        \n",
       "5875    இப்போதான் ஜாதி பிரச்சினை இல்லாம இருக்கு இப்போ ...\n",
       "5876    இது ஒரு சாதி ரீதியான படம் இல்லை தான் செல்லும் ...\n",
       "5877    கதை தெரியவில்லை  இருந்தாலும் மாறுபட்ட சிந்தனை ...\n",
       "5878    அட பரவால்லையே 8.5 டிஸ்லைக்ஸ் போட்ருக்கானுங்க.....\n",
       "5879    உதயநிதிக்கு நடிப்பு வரலனு சொல்ரவங்க லைக் போடுங...\n",
       "Name: text, Length: 5877, dtype: object"
      ]
     },
     "execution_count": 12,
     "metadata": {},
     "output_type": "execute_result"
    }
   ],
   "source": [
    "text"
   ]
  },
  {
   "cell_type": "code",
   "execution_count": 13,
   "metadata": {
    "executionInfo": {
     "elapsed": 7,
     "status": "ok",
     "timestamp": 1642841456449,
     "user": {
      "displayName": "Faerie Mattins",
      "photoUrl": "https://lh3.googleusercontent.com/a-/AOh14GioC2l5h-WyYv75UEkACBUNdG2iNVemsmA1kWM_HA=s64",
      "userId": "14162521248288859983"
     },
     "user_tz": -330
    },
    "id": "9PWH0DJkb6VM"
   },
   "outputs": [],
   "source": [
    "label = dataframe['category']"
   ]
  },
  {
   "cell_type": "code",
   "execution_count": 14,
   "metadata": {
    "colab": {
     "base_uri": "https://localhost:8080/"
    },
    "executionInfo": {
     "elapsed": 6,
     "status": "ok",
     "timestamp": 1642841456450,
     "user": {
      "displayName": "Faerie Mattins",
      "photoUrl": "https://lh3.googleusercontent.com/a-/AOh14GioC2l5h-WyYv75UEkACBUNdG2iNVemsmA1kWM_HA=s64",
      "userId": "14162521248288859983"
     },
     "user_tz": -330
    },
    "id": "1UzwkQvQcCf5",
    "outputId": "ddec715b-94a5-4c75-b75a-9571bbabeb31"
   },
   "outputs": [
    {
     "data": {
      "text/plain": [
       "0       NOT\n",
       "1       OFF\n",
       "2       NOT\n",
       "3       OFF\n",
       "4       NOT\n",
       "       ... \n",
       "5875    NOT\n",
       "5876    NOT\n",
       "5877    NOT\n",
       "5878    OFF\n",
       "5879    NOT\n",
       "Name: category, Length: 5877, dtype: object"
      ]
     },
     "execution_count": 14,
     "metadata": {},
     "output_type": "execute_result"
    }
   ],
   "source": [
    "label"
   ]
  },
  {
   "cell_type": "markdown",
   "metadata": {
    "id": "RmVxtiA4cLo5"
   },
   "source": [
    "## **Data Preprocessing**"
   ]
  },
  {
   "cell_type": "code",
   "execution_count": 15,
   "metadata": {
    "colab": {
     "base_uri": "https://localhost:8080/"
    },
    "executionInfo": {
     "elapsed": 6,
     "status": "ok",
     "timestamp": 1642841458126,
     "user": {
      "displayName": "Faerie Mattins",
      "photoUrl": "https://lh3.googleusercontent.com/a-/AOh14GioC2l5h-WyYv75UEkACBUNdG2iNVemsmA1kWM_HA=s64",
      "userId": "14162521248288859983"
     },
     "user_tz": -330
    },
    "id": "dgn8Zj_fcDss",
    "outputId": "956cab8e-40fc-4db7-9369-8e7647f3ad40"
   },
   "outputs": [
    {
     "data": {
      "text/plain": [
       "array([0, 1, 0, ..., 0, 1, 0])"
      ]
     },
     "execution_count": 15,
     "metadata": {},
     "output_type": "execute_result"
    }
   ],
   "source": [
    "le = LabelEncoder()\n",
    "label = le.fit_transform(label)\n",
    "label"
   ]
  },
  {
   "cell_type": "code",
   "execution_count": 16,
   "metadata": {
    "colab": {
     "base_uri": "https://localhost:8080/"
    },
    "executionInfo": {
     "elapsed": 4,
     "status": "ok",
     "timestamp": 1642841458713,
     "user": {
      "displayName": "Faerie Mattins",
      "photoUrl": "https://lh3.googleusercontent.com/a-/AOh14GioC2l5h-WyYv75UEkACBUNdG2iNVemsmA1kWM_HA=s64",
      "userId": "14162521248288859983"
     },
     "user_tz": -330
    },
    "id": "ByvQj17ZeIbE",
    "outputId": "08d61fe0-f78f-4666-bd2d-146de27c75a2"
   },
   "outputs": [
    {
     "data": {
      "text/plain": [
       "array(['திருமலை நாயக்கர் பேரவை சார்பாக படம் வெற்றி பெற வாழ்த்துக்கள்',\n",
       "       'இந்த ட்ரெய்லர் கூட பார்க்கிற மாதிரி இல்லை.. இதை தியேட்டர் ல போய் பார்க்கனுமா.. .',\n",
       "       'மைசூரு செட்டியார் சமூகத்தின் சார்பாக இப்படம் வெற்றிபெற வாழ்த்துகிறேன்',\n",
       "       ...,\n",
       "       'கதை தெரியவில்லை  இருந்தாலும் மாறுபட்ட சிந்தனை வாழ்த்துக்கள்  பறையர் சார்பாக  நன்றி மோகன் ஜி',\n",
       "       'அட பரவால்லையே 8.5 டிஸ்லைக்ஸ் போட்ருக்கானுங்க.. பரவால வயிறு எறிஞ்சி சாவுங்கடா சாவுங்கடா சாக்காடை நாய்ங்களா..இன்னும் நிறைய டிஸ்லைக்ஸ் எதிர் பாக்குறன்..',\n",
       "       'உதயநிதிக்கு நடிப்பு வரலனு சொல்ரவங்க லைக் போடுங்கள் ...'],\n",
       "      dtype=object)"
      ]
     },
     "execution_count": 16,
     "metadata": {},
     "output_type": "execute_result"
    }
   ],
   "source": [
    "text = text.str.replace(r\"[+/#@&*$%:]\",'')\n",
    "text = text.to_numpy()\n",
    "text"
   ]
  },
  {
   "cell_type": "code",
   "execution_count": 17,
   "metadata": {
    "executionInfo": {
     "elapsed": 503,
     "status": "ok",
     "timestamp": 1642841479293,
     "user": {
      "displayName": "Faerie Mattins",
      "photoUrl": "https://lh3.googleusercontent.com/a-/AOh14GioC2l5h-WyYv75UEkACBUNdG2iNVemsmA1kWM_HA=s64",
      "userId": "14162521248288859983"
     },
     "user_tz": -330
    },
    "id": "dSf3LPUp-05B"
   },
   "outputs": [],
   "source": [
    "with open('./TF-IDF/tamil_stopwords.txt', encoding = 'utf-8') as f:\n",
    "    tamil_stopwords = f.readlines()\n",
    "    for i in range(len(tamil_stopwords)):\n",
    "        tamil_stopwords[i] = re.sub('\\n','',tamil_stopwords[i])\n",
    "stopwords = tamil_stopwords\n",
    "\n",
    "# Function for removing stop words\n",
    "def stopwords_remove(text):\n",
    "    # Appending words which are not stop words\n",
    "    text = text.split(\" \")\n",
    "    removed = [s for s in text if s not in stopwords]  \n",
    "    return removed"
   ]
  },
  {
   "cell_type": "code",
   "execution_count": 18,
   "metadata": {
    "executionInfo": {
     "elapsed": 613,
     "status": "ok",
     "timestamp": 1642841486565,
     "user": {
      "displayName": "Faerie Mattins",
      "photoUrl": "https://lh3.googleusercontent.com/a-/AOh14GioC2l5h-WyYv75UEkACBUNdG2iNVemsmA1kWM_HA=s64",
      "userId": "14162521248288859983"
     },
     "user_tz": -330
    },
    "id": "GA1p63VX-516"
   },
   "outputs": [],
   "source": [
    "text = [stopwords_remove(s) for s in text]\n",
    "for i in range(len(text)):\n",
    "  text[i] = (\" \".join(text[i]))"
   ]
  },
  {
   "cell_type": "markdown",
   "metadata": {
    "id": "XqLXVYkpi6wp"
   },
   "source": [
    "## **Feature Extraction**"
   ]
  },
  {
   "cell_type": "code",
   "execution_count": 19,
   "metadata": {
    "executionInfo": {
     "elapsed": 385,
     "status": "ok",
     "timestamp": 1642841492884,
     "user": {
      "displayName": "Faerie Mattins",
      "photoUrl": "https://lh3.googleusercontent.com/a-/AOh14GioC2l5h-WyYv75UEkACBUNdG2iNVemsmA1kWM_HA=s64",
      "userId": "14162521248288859983"
     },
     "user_tz": -330
    },
    "id": "XuZ0X3gkgL67"
   },
   "outputs": [],
   "source": [
    "vectorizer = TfidfVectorizer(min_df = 5)\n",
    "X = vectorizer.fit_transform(text)\n",
    "X = X.todense()"
   ]
  },
  {
   "cell_type": "code",
   "execution_count": 20,
   "metadata": {
    "colab": {
     "base_uri": "https://localhost:8080/"
    },
    "executionInfo": {
     "elapsed": 9,
     "status": "ok",
     "timestamp": 1642841494804,
     "user": {
      "displayName": "Faerie Mattins",
      "photoUrl": "https://lh3.googleusercontent.com/a-/AOh14GioC2l5h-WyYv75UEkACBUNdG2iNVemsmA1kWM_HA=s64",
      "userId": "14162521248288859983"
     },
     "user_tz": -330
    },
    "id": "9mbDATAEjNG-",
    "outputId": "1d9ee267-54bb-487d-d6bd-826f09a83d1e"
   },
   "outputs": [
    {
     "data": {
      "text/plain": [
       "(5877, 780)"
      ]
     },
     "execution_count": 20,
     "metadata": {},
     "output_type": "execute_result"
    }
   ],
   "source": [
    "X.shape"
   ]
  },
  {
   "cell_type": "code",
   "execution_count": 21,
   "metadata": {
    "colab": {
     "base_uri": "https://localhost:8080/"
    },
    "executionInfo": {
     "elapsed": 413,
     "status": "ok",
     "timestamp": 1642841497529,
     "user": {
      "displayName": "Faerie Mattins",
      "photoUrl": "https://lh3.googleusercontent.com/a-/AOh14GioC2l5h-WyYv75UEkACBUNdG2iNVemsmA1kWM_HA=s64",
      "userId": "14162521248288859983"
     },
     "user_tz": -330
    },
    "id": "it8rohkQjNyB",
    "outputId": "191574ff-1648-4f22-b9fc-15ce083cf549"
   },
   "outputs": [
    {
     "data": {
      "text/plain": [
       "(5877,)"
      ]
     },
     "execution_count": 21,
     "metadata": {},
     "output_type": "execute_result"
    }
   ],
   "source": [
    "y = label\n",
    "y.shape"
   ]
  },
  {
   "cell_type": "markdown",
   "metadata": {
    "id": "vbkqhGWCkBLd"
   },
   "source": [
    "## **Train Test Split**"
   ]
  },
  {
   "cell_type": "code",
   "execution_count": 22,
   "metadata": {
    "executionInfo": {
     "elapsed": 5,
     "status": "ok",
     "timestamp": 1642841499792,
     "user": {
      "displayName": "Faerie Mattins",
      "photoUrl": "https://lh3.googleusercontent.com/a-/AOh14GioC2l5h-WyYv75UEkACBUNdG2iNVemsmA1kWM_HA=s64",
      "userId": "14162521248288859983"
     },
     "user_tz": -330
    },
    "id": "-HI0k7Nvj_G9"
   },
   "outputs": [],
   "source": [
    "X_train, X_val, y_train, y_val = train_test_split(X, y, test_size=0.2, random_state=42)"
   ]
  },
  {
   "cell_type": "code",
   "execution_count": 23,
   "metadata": {
    "colab": {
     "base_uri": "https://localhost:8080/"
    },
    "executionInfo": {
     "elapsed": 23,
     "status": "ok",
     "timestamp": 1642841501172,
     "user": {
      "displayName": "Faerie Mattins",
      "photoUrl": "https://lh3.googleusercontent.com/a-/AOh14GioC2l5h-WyYv75UEkACBUNdG2iNVemsmA1kWM_HA=s64",
      "userId": "14162521248288859983"
     },
     "user_tz": -330
    },
    "id": "cenFKI0jkOWc",
    "outputId": "6e998145-7753-475a-fe4b-b7f9ed5ae092"
   },
   "outputs": [
    {
     "data": {
      "text/plain": [
       "(4701, 780)"
      ]
     },
     "execution_count": 23,
     "metadata": {},
     "output_type": "execute_result"
    }
   ],
   "source": [
    "X_train.shape"
   ]
  },
  {
   "cell_type": "code",
   "execution_count": 24,
   "metadata": {
    "colab": {
     "base_uri": "https://localhost:8080/"
    },
    "executionInfo": {
     "elapsed": 17,
     "status": "ok",
     "timestamp": 1642841501173,
     "user": {
      "displayName": "Faerie Mattins",
      "photoUrl": "https://lh3.googleusercontent.com/a-/AOh14GioC2l5h-WyYv75UEkACBUNdG2iNVemsmA1kWM_HA=s64",
      "userId": "14162521248288859983"
     },
     "user_tz": -330
    },
    "id": "aYhoZD6TkRef",
    "outputId": "df1f0237-a415-4d5f-9d84-caf13ef1e6ca"
   },
   "outputs": [
    {
     "data": {
      "text/plain": [
       "(1176, 780)"
      ]
     },
     "execution_count": 24,
     "metadata": {},
     "output_type": "execute_result"
    }
   ],
   "source": [
    "X_val.shape"
   ]
  },
  {
   "cell_type": "markdown",
   "metadata": {
    "id": "N5UcvQlXkXVa"
   },
   "source": [
    "## **Logistic Regression**"
   ]
  },
  {
   "cell_type": "code",
   "execution_count": 25,
   "metadata": {
    "colab": {
     "base_uri": "https://localhost:8080/"
    },
    "executionInfo": {
     "elapsed": 579,
     "status": "ok",
     "timestamp": 1642841505889,
     "user": {
      "displayName": "Faerie Mattins",
      "photoUrl": "https://lh3.googleusercontent.com/a-/AOh14GioC2l5h-WyYv75UEkACBUNdG2iNVemsmA1kWM_HA=s64",
      "userId": "14162521248288859983"
     },
     "user_tz": -330
    },
    "id": "HhZsD3YSkTKR",
    "outputId": "9c654491-4762-4b15-fac1-af5ec5f9b045"
   },
   "outputs": [
    {
     "name": "stderr",
     "output_type": "stream",
     "text": [
      "/usr/local/lib/python3.7/dist-packages/sklearn/utils/validation.py:598: FutureWarning: np.matrix usage is deprecated in 1.0 and will raise a TypeError in 1.2. Please convert to a numpy array with np.asarray. For more information see: https://numpy.org/doc/stable/reference/generated/numpy.matrix.html\n",
      "  FutureWarning,\n"
     ]
    },
    {
     "name": "stdout",
     "output_type": "stream",
     "text": [
      "              precision    recall  f1-score   support\n",
      "\n",
      "           0       0.83      0.97      0.90       950\n",
      "           1       0.60      0.18      0.28       226\n",
      "\n",
      "    accuracy                           0.82      1176\n",
      "   macro avg       0.72      0.58      0.59      1176\n",
      "weighted avg       0.79      0.82      0.78      1176\n",
      "\n"
     ]
    },
    {
     "name": "stderr",
     "output_type": "stream",
     "text": [
      "/usr/local/lib/python3.7/dist-packages/sklearn/utils/validation.py:598: FutureWarning: np.matrix usage is deprecated in 1.0 and will raise a TypeError in 1.2. Please convert to a numpy array with np.asarray. For more information see: https://numpy.org/doc/stable/reference/generated/numpy.matrix.html\n",
      "  FutureWarning,\n"
     ]
    }
   ],
   "source": [
    "lr = LogisticRegression()\n",
    "lr.fit(X_train, y_train)\n",
    "lr_pred = lr.predict(X_val)\n",
    "print(classification_report(y_val, lr_pred))"
   ]
  },
  {
   "cell_type": "markdown",
   "metadata": {
    "id": "CdKnWShLk7A9"
   },
   "source": [
    "## **Support Vector Machine**"
   ]
  },
  {
   "cell_type": "code",
   "execution_count": 26,
   "metadata": {
    "colab": {
     "base_uri": "https://localhost:8080/"
    },
    "executionInfo": {
     "elapsed": 11119,
     "status": "ok",
     "timestamp": 1642841519860,
     "user": {
      "displayName": "Faerie Mattins",
      "photoUrl": "https://lh3.googleusercontent.com/a-/AOh14GioC2l5h-WyYv75UEkACBUNdG2iNVemsmA1kWM_HA=s64",
      "userId": "14162521248288859983"
     },
     "user_tz": -330
    },
    "id": "aOcFe8gjkw1B",
    "outputId": "0a815bef-92a2-4e58-ae59-b3e8e57c9d52"
   },
   "outputs": [
    {
     "name": "stderr",
     "output_type": "stream",
     "text": [
      "/usr/local/lib/python3.7/dist-packages/sklearn/utils/validation.py:598: FutureWarning: np.matrix usage is deprecated in 1.0 and will raise a TypeError in 1.2. Please convert to a numpy array with np.asarray. For more information see: https://numpy.org/doc/stable/reference/generated/numpy.matrix.html\n",
      "  FutureWarning,\n",
      "/usr/local/lib/python3.7/dist-packages/sklearn/utils/validation.py:598: FutureWarning: np.matrix usage is deprecated in 1.0 and will raise a TypeError in 1.2. Please convert to a numpy array with np.asarray. For more information see: https://numpy.org/doc/stable/reference/generated/numpy.matrix.html\n",
      "  FutureWarning,\n"
     ]
    },
    {
     "name": "stdout",
     "output_type": "stream",
     "text": [
      "              precision    recall  f1-score   support\n",
      "\n",
      "           0       0.82      0.99      0.90       950\n",
      "           1       0.67      0.11      0.18       226\n",
      "\n",
      "    accuracy                           0.82      1176\n",
      "   macro avg       0.74      0.55      0.54      1176\n",
      "weighted avg       0.79      0.82      0.76      1176\n",
      "\n"
     ]
    }
   ],
   "source": [
    "svm = SVC()\n",
    "svm.fit(X_train, y_train)\n",
    "svm_pred = svm.predict(X_val)\n",
    "print(classification_report(y_val, svm_pred))"
   ]
  },
  {
   "cell_type": "markdown",
   "metadata": {
    "id": "xfkrSN5_lbRf"
   },
   "source": [
    "## **Naive Bayes**"
   ]
  },
  {
   "cell_type": "code",
   "execution_count": 27,
   "metadata": {
    "colab": {
     "base_uri": "https://localhost:8080/"
    },
    "executionInfo": {
     "elapsed": 555,
     "status": "ok",
     "timestamp": 1642841524277,
     "user": {
      "displayName": "Faerie Mattins",
      "photoUrl": "https://lh3.googleusercontent.com/a-/AOh14GioC2l5h-WyYv75UEkACBUNdG2iNVemsmA1kWM_HA=s64",
      "userId": "14162521248288859983"
     },
     "user_tz": -330
    },
    "id": "-kaapWI5lKiK",
    "outputId": "8e7ad795-779b-4d99-acc9-4b63ed6e360e"
   },
   "outputs": [
    {
     "name": "stdout",
     "output_type": "stream",
     "text": [
      "              precision    recall  f1-score   support\n",
      "\n",
      "           0       0.87      0.23      0.37       950\n",
      "           1       0.21      0.86      0.34       226\n",
      "\n",
      "    accuracy                           0.35      1176\n",
      "   macro avg       0.54      0.55      0.35      1176\n",
      "weighted avg       0.75      0.35      0.36      1176\n",
      "\n"
     ]
    },
    {
     "name": "stderr",
     "output_type": "stream",
     "text": [
      "/usr/local/lib/python3.7/dist-packages/sklearn/utils/validation.py:598: FutureWarning: np.matrix usage is deprecated in 1.0 and will raise a TypeError in 1.2. Please convert to a numpy array with np.asarray. For more information see: https://numpy.org/doc/stable/reference/generated/numpy.matrix.html\n",
      "  FutureWarning,\n",
      "/usr/local/lib/python3.7/dist-packages/sklearn/utils/validation.py:598: FutureWarning: np.matrix usage is deprecated in 1.0 and will raise a TypeError in 1.2. Please convert to a numpy array with np.asarray. For more information see: https://numpy.org/doc/stable/reference/generated/numpy.matrix.html\n",
      "  FutureWarning,\n"
     ]
    }
   ],
   "source": [
    "nb = GaussianNB()\n",
    "nb.fit(X_train, y_train)\n",
    "nb_pred = nb.predict(X_val)\n",
    "print(classification_report(y_val, nb_pred))"
   ]
  },
  {
   "cell_type": "markdown",
   "metadata": {
    "id": "YsfjY27Alobo"
   },
   "source": [
    "## **Stochastic Gradient Descent**"
   ]
  },
  {
   "cell_type": "code",
   "execution_count": 28,
   "metadata": {
    "colab": {
     "base_uri": "https://localhost:8080/"
    },
    "executionInfo": {
     "elapsed": 10,
     "status": "ok",
     "timestamp": 1642841526999,
     "user": {
      "displayName": "Faerie Mattins",
      "photoUrl": "https://lh3.googleusercontent.com/a-/AOh14GioC2l5h-WyYv75UEkACBUNdG2iNVemsmA1kWM_HA=s64",
      "userId": "14162521248288859983"
     },
     "user_tz": -330
    },
    "id": "ok42ngKsljSv",
    "outputId": "6f768f83-059d-46d7-96b0-c3b8a99dc2b1"
   },
   "outputs": [
    {
     "name": "stderr",
     "output_type": "stream",
     "text": [
      "/usr/local/lib/python3.7/dist-packages/sklearn/utils/validation.py:598: FutureWarning: np.matrix usage is deprecated in 1.0 and will raise a TypeError in 1.2. Please convert to a numpy array with np.asarray. For more information see: https://numpy.org/doc/stable/reference/generated/numpy.matrix.html\n",
      "  FutureWarning,\n"
     ]
    },
    {
     "name": "stdout",
     "output_type": "stream",
     "text": [
      "              precision    recall  f1-score   support\n",
      "\n",
      "           0       0.85      0.93      0.89       950\n",
      "           1       0.53      0.34      0.41       226\n",
      "\n",
      "    accuracy                           0.81      1176\n",
      "   macro avg       0.69      0.63      0.65      1176\n",
      "weighted avg       0.79      0.81      0.80      1176\n",
      "\n"
     ]
    },
    {
     "name": "stderr",
     "output_type": "stream",
     "text": [
      "/usr/local/lib/python3.7/dist-packages/sklearn/utils/validation.py:598: FutureWarning: np.matrix usage is deprecated in 1.0 and will raise a TypeError in 1.2. Please convert to a numpy array with np.asarray. For more information see: https://numpy.org/doc/stable/reference/generated/numpy.matrix.html\n",
      "  FutureWarning,\n"
     ]
    }
   ],
   "source": [
    "sgd = SGDClassifier()\n",
    "sgd.fit(X_train, y_train)\n",
    "sgd_pred = sgd.predict(X_val)\n",
    "print(classification_report(y_val, sgd_pred))"
   ]
  },
  {
   "cell_type": "markdown",
   "metadata": {
    "id": "Nu2lk2QPlwYQ"
   },
   "source": [
    "## **K Nearest Neighbours**"
   ]
  },
  {
   "cell_type": "code",
   "execution_count": 29,
   "metadata": {
    "colab": {
     "base_uri": "https://localhost:8080/"
    },
    "executionInfo": {
     "elapsed": 350,
     "status": "ok",
     "timestamp": 1642841530156,
     "user": {
      "displayName": "Faerie Mattins",
      "photoUrl": "https://lh3.googleusercontent.com/a-/AOh14GioC2l5h-WyYv75UEkACBUNdG2iNVemsmA1kWM_HA=s64",
      "userId": "14162521248288859983"
     },
     "user_tz": -330
    },
    "id": "AKBoWITmlttl",
    "outputId": "9a80f8d0-c288-46d7-a124-da00aa6b1aae"
   },
   "outputs": [
    {
     "name": "stderr",
     "output_type": "stream",
     "text": [
      "/usr/local/lib/python3.7/dist-packages/sklearn/utils/validation.py:598: FutureWarning: np.matrix usage is deprecated in 1.0 and will raise a TypeError in 1.2. Please convert to a numpy array with np.asarray. For more information see: https://numpy.org/doc/stable/reference/generated/numpy.matrix.html\n",
      "  FutureWarning,\n",
      "/usr/local/lib/python3.7/dist-packages/sklearn/utils/validation.py:598: FutureWarning: np.matrix usage is deprecated in 1.0 and will raise a TypeError in 1.2. Please convert to a numpy array with np.asarray. For more information see: https://numpy.org/doc/stable/reference/generated/numpy.matrix.html\n",
      "  FutureWarning,\n"
     ]
    },
    {
     "name": "stdout",
     "output_type": "stream",
     "text": [
      "              precision    recall  f1-score   support\n",
      "\n",
      "           0       0.81      0.98      0.89       950\n",
      "           1       0.41      0.05      0.09       226\n",
      "\n",
      "    accuracy                           0.80      1176\n",
      "   macro avg       0.61      0.52      0.49      1176\n",
      "weighted avg       0.74      0.80      0.74      1176\n",
      "\n"
     ]
    }
   ],
   "source": [
    "knn = KNeighborsClassifier()\n",
    "knn.fit(X_train, y_train)\n",
    "knn_pred = knn.predict(X_val)\n",
    "print(classification_report(y_val, knn_pred))"
   ]
  },
  {
   "cell_type": "markdown",
   "metadata": {
    "id": "q31wAt-hl77l"
   },
   "source": [
    "## **Decision Tree**"
   ]
  },
  {
   "cell_type": "code",
   "execution_count": 30,
   "metadata": {
    "colab": {
     "base_uri": "https://localhost:8080/"
    },
    "executionInfo": {
     "elapsed": 1128,
     "status": "ok",
     "timestamp": 1642841533666,
     "user": {
      "displayName": "Faerie Mattins",
      "photoUrl": "https://lh3.googleusercontent.com/a-/AOh14GioC2l5h-WyYv75UEkACBUNdG2iNVemsmA1kWM_HA=s64",
      "userId": "14162521248288859983"
     },
     "user_tz": -330
    },
    "id": "myZGSkg8l2Sb",
    "outputId": "68590825-cb64-4095-8863-b1859a4bf89f"
   },
   "outputs": [
    {
     "name": "stderr",
     "output_type": "stream",
     "text": [
      "/usr/local/lib/python3.7/dist-packages/sklearn/utils/validation.py:598: FutureWarning: np.matrix usage is deprecated in 1.0 and will raise a TypeError in 1.2. Please convert to a numpy array with np.asarray. For more information see: https://numpy.org/doc/stable/reference/generated/numpy.matrix.html\n",
      "  FutureWarning,\n"
     ]
    },
    {
     "name": "stdout",
     "output_type": "stream",
     "text": [
      "              precision    recall  f1-score   support\n",
      "\n",
      "           0       0.84      0.85      0.84       950\n",
      "           1       0.32      0.30      0.31       226\n",
      "\n",
      "    accuracy                           0.74      1176\n",
      "   macro avg       0.58      0.57      0.58      1176\n",
      "weighted avg       0.74      0.74      0.74      1176\n",
      "\n"
     ]
    },
    {
     "name": "stderr",
     "output_type": "stream",
     "text": [
      "/usr/local/lib/python3.7/dist-packages/sklearn/utils/validation.py:598: FutureWarning: np.matrix usage is deprecated in 1.0 and will raise a TypeError in 1.2. Please convert to a numpy array with np.asarray. For more information see: https://numpy.org/doc/stable/reference/generated/numpy.matrix.html\n",
      "  FutureWarning,\n"
     ]
    }
   ],
   "source": [
    "dt = DecisionTreeClassifier()\n",
    "dt.fit(X_train, y_train)\n",
    "dt_pred = dt.predict(X_val)\n",
    "print(classification_report(y_val, dt_pred))"
   ]
  },
  {
   "cell_type": "markdown",
   "metadata": {
    "id": "yix34JvXmDmG"
   },
   "source": [
    "## **Random Forest**"
   ]
  },
  {
   "cell_type": "code",
   "execution_count": 31,
   "metadata": {
    "colab": {
     "base_uri": "https://localhost:8080/"
    },
    "executionInfo": {
     "elapsed": 3446,
     "status": "ok",
     "timestamp": 1642841539511,
     "user": {
      "displayName": "Faerie Mattins",
      "photoUrl": "https://lh3.googleusercontent.com/a-/AOh14GioC2l5h-WyYv75UEkACBUNdG2iNVemsmA1kWM_HA=s64",
      "userId": "14162521248288859983"
     },
     "user_tz": -330
    },
    "id": "G05xqtlKmB4O",
    "outputId": "3f8be9df-86ff-41b1-f79b-f6e7e390505b"
   },
   "outputs": [
    {
     "name": "stderr",
     "output_type": "stream",
     "text": [
      "/usr/local/lib/python3.7/dist-packages/sklearn/utils/validation.py:598: FutureWarning: np.matrix usage is deprecated in 1.0 and will raise a TypeError in 1.2. Please convert to a numpy array with np.asarray. For more information see: https://numpy.org/doc/stable/reference/generated/numpy.matrix.html\n",
      "  FutureWarning,\n"
     ]
    },
    {
     "name": "stdout",
     "output_type": "stream",
     "text": [
      "              precision    recall  f1-score   support\n",
      "\n",
      "           0       0.83      0.98      0.90       950\n",
      "           1       0.65      0.14      0.23       226\n",
      "\n",
      "    accuracy                           0.82      1176\n",
      "   macro avg       0.74      0.56      0.57      1176\n",
      "weighted avg       0.79      0.82      0.77      1176\n",
      "\n"
     ]
    },
    {
     "name": "stderr",
     "output_type": "stream",
     "text": [
      "/usr/local/lib/python3.7/dist-packages/sklearn/utils/validation.py:598: FutureWarning: np.matrix usage is deprecated in 1.0 and will raise a TypeError in 1.2. Please convert to a numpy array with np.asarray. For more information see: https://numpy.org/doc/stable/reference/generated/numpy.matrix.html\n",
      "  FutureWarning,\n"
     ]
    }
   ],
   "source": [
    "rf = RandomForestClassifier()\n",
    "rf.fit(X_train, y_train)\n",
    "rf_pred = rf.predict(X_val)\n",
    "print(classification_report(y_val, rf_pred))"
   ]
  },
  {
   "cell_type": "markdown",
   "metadata": {
    "id": "k_Po22I0mR_U"
   },
   "source": [
    "## **Majority Voting**"
   ]
  },
  {
   "cell_type": "code",
   "execution_count": 32,
   "metadata": {
    "colab": {
     "base_uri": "https://localhost:8080/"
    },
    "executionInfo": {
     "elapsed": 7,
     "status": "ok",
     "timestamp": 1642841539512,
     "user": {
      "displayName": "Faerie Mattins",
      "photoUrl": "https://lh3.googleusercontent.com/a-/AOh14GioC2l5h-WyYv75UEkACBUNdG2iNVemsmA1kWM_HA=s64",
      "userId": "14162521248288859983"
     },
     "user_tz": -330
    },
    "id": "o8ilW11CnOC7",
    "outputId": "4db0c9e3-5f86-4fb6-ff4c-5aa960960076"
   },
   "outputs": [
    {
     "name": "stdout",
     "output_type": "stream",
     "text": [
      "              precision    recall  f1-score   support\n",
      "\n",
      "           0       0.83      0.98      0.90       950\n",
      "           1       0.62      0.15      0.25       226\n",
      "\n",
      "    accuracy                           0.82      1176\n",
      "   macro avg       0.73      0.57      0.57      1176\n",
      "weighted avg       0.79      0.82      0.77      1176\n",
      "\n"
     ]
    }
   ],
   "source": [
    "mv_pred = []\n",
    "\n",
    "for i in range(len(lr_pred)):\n",
    "    one = 0\n",
    "    zero = 0\n",
    "    # Removing KNN and NB from predictions due to poor performance\n",
    "    predictions = [lr_pred[i], svm_pred[i], sgd_pred[i], \n",
    "                   dt_pred[i], rf_pred[i]]\n",
    "    for pred in predictions:\n",
    "        if pred == 1: one += 1\n",
    "        if pred == 0: zero +=1\n",
    "    if one > zero: mv_pred.append(1)\n",
    "    else: mv_pred.append(0)\n",
    "\n",
    "mv_pred = np.array(mv_pred)\n",
    "\n",
    "print(classification_report(y_val, mv_pred))"
   ]
  },
  {
   "cell_type": "markdown",
   "metadata": {
    "id": "26_Z6Um4oyXP"
   },
   "source": [
    "## **Loading Testing Data**"
   ]
  },
  {
   "cell_type": "code",
   "execution_count": 33,
   "metadata": {
    "colab": {
     "base_uri": "https://localhost:8080/",
     "height": 206
    },
    "executionInfo": {
     "elapsed": 580,
     "status": "ok",
     "timestamp": 1642841542544,
     "user": {
      "displayName": "Faerie Mattins",
      "photoUrl": "https://lh3.googleusercontent.com/a-/AOh14GioC2l5h-WyYv75UEkACBUNdG2iNVemsmA1kWM_HA=s64",
      "userId": "14162521248288859983"
     },
     "user_tz": -330
    },
    "id": "h341S7V8oFf0",
    "outputId": "5e154b6a-5753-42ed-eaa4-bf7d3969f6c3"
   },
   "outputs": [
    {
     "data": {
      "text/html": [
       "\n",
       "  <div id=\"df-69143cbf-7d18-49e9-8a57-664d9b79a8db\">\n",
       "    <div class=\"colab-df-container\">\n",
       "      <div>\n",
       "<style scoped>\n",
       "    .dataframe tbody tr th:only-of-type {\n",
       "        vertical-align: middle;\n",
       "    }\n",
       "\n",
       "    .dataframe tbody tr th {\n",
       "        vertical-align: top;\n",
       "    }\n",
       "\n",
       "    .dataframe thead th {\n",
       "        text-align: right;\n",
       "    }\n",
       "</style>\n",
       "<table border=\"1\" class=\"dataframe\">\n",
       "  <thead>\n",
       "    <tr style=\"text-align: right;\">\n",
       "      <th></th>\n",
       "      <th>id</th>\n",
       "      <th>text</th>\n",
       "    </tr>\n",
       "  </thead>\n",
       "  <tbody>\n",
       "    <tr>\n",
       "      <th>0</th>\n",
       "      <td>tam_test_1</td>\n",
       "      <td>தலைவா STR இதுக்குதான் கதுருந்தோம் மாஸ் தலைவா t...</td>\n",
       "    </tr>\n",
       "    <tr>\n",
       "      <th>1</th>\n",
       "      <td>tam_test_2</td>\n",
       "      <td>நாயுடு மக்கள் சார்பாக திரைப்படம் வெற்றி பெற வா...</td>\n",
       "    </tr>\n",
       "    <tr>\n",
       "      <th>2</th>\n",
       "      <td>tam_test_3</td>\n",
       "      <td>தில்லானா முயற்சி  தஞ்சை கோனார்</td>\n",
       "    </tr>\n",
       "    <tr>\n",
       "      <th>3</th>\n",
       "      <td>tam_test_4</td>\n",
       "      <td>திரௌபதியின் துகிலுறித்த போது காத்த கண்ணனின் யா...</td>\n",
       "    </tr>\n",
       "    <tr>\n",
       "      <th>4</th>\n",
       "      <td>tam_test_5</td>\n",
       "      <td>நான் தியேட்டர்லே படம் பார்த்து 35 வருஷமாச்சு! ...</td>\n",
       "    </tr>\n",
       "  </tbody>\n",
       "</table>\n",
       "</div>\n",
       "      <button class=\"colab-df-convert\" onclick=\"convertToInteractive('df-69143cbf-7d18-49e9-8a57-664d9b79a8db')\"\n",
       "              title=\"Convert this dataframe to an interactive table.\"\n",
       "              style=\"display:none;\">\n",
       "        \n",
       "  <svg xmlns=\"http://www.w3.org/2000/svg\" height=\"24px\"viewBox=\"0 0 24 24\"\n",
       "       width=\"24px\">\n",
       "    <path d=\"M0 0h24v24H0V0z\" fill=\"none\"/>\n",
       "    <path d=\"M18.56 5.44l.94 2.06.94-2.06 2.06-.94-2.06-.94-.94-2.06-.94 2.06-2.06.94zm-11 1L8.5 8.5l.94-2.06 2.06-.94-2.06-.94L8.5 2.5l-.94 2.06-2.06.94zm10 10l.94 2.06.94-2.06 2.06-.94-2.06-.94-.94-2.06-.94 2.06-2.06.94z\"/><path d=\"M17.41 7.96l-1.37-1.37c-.4-.4-.92-.59-1.43-.59-.52 0-1.04.2-1.43.59L10.3 9.45l-7.72 7.72c-.78.78-.78 2.05 0 2.83L4 21.41c.39.39.9.59 1.41.59.51 0 1.02-.2 1.41-.59l7.78-7.78 2.81-2.81c.8-.78.8-2.07 0-2.86zM5.41 20L4 18.59l7.72-7.72 1.47 1.35L5.41 20z\"/>\n",
       "  </svg>\n",
       "      </button>\n",
       "      \n",
       "  <style>\n",
       "    .colab-df-container {\n",
       "      display:flex;\n",
       "      flex-wrap:wrap;\n",
       "      gap: 12px;\n",
       "    }\n",
       "\n",
       "    .colab-df-convert {\n",
       "      background-color: #E8F0FE;\n",
       "      border: none;\n",
       "      border-radius: 50%;\n",
       "      cursor: pointer;\n",
       "      display: none;\n",
       "      fill: #1967D2;\n",
       "      height: 32px;\n",
       "      padding: 0 0 0 0;\n",
       "      width: 32px;\n",
       "    }\n",
       "\n",
       "    .colab-df-convert:hover {\n",
       "      background-color: #E2EBFA;\n",
       "      box-shadow: 0px 1px 2px rgba(60, 64, 67, 0.3), 0px 1px 3px 1px rgba(60, 64, 67, 0.15);\n",
       "      fill: #174EA6;\n",
       "    }\n",
       "\n",
       "    [theme=dark] .colab-df-convert {\n",
       "      background-color: #3B4455;\n",
       "      fill: #D2E3FC;\n",
       "    }\n",
       "\n",
       "    [theme=dark] .colab-df-convert:hover {\n",
       "      background-color: #434B5C;\n",
       "      box-shadow: 0px 1px 3px 1px rgba(0, 0, 0, 0.15);\n",
       "      filter: drop-shadow(0px 1px 2px rgba(0, 0, 0, 0.3));\n",
       "      fill: #FFFFFF;\n",
       "    }\n",
       "  </style>\n",
       "\n",
       "      <script>\n",
       "        const buttonEl =\n",
       "          document.querySelector('#df-69143cbf-7d18-49e9-8a57-664d9b79a8db button.colab-df-convert');\n",
       "        buttonEl.style.display =\n",
       "          google.colab.kernel.accessAllowed ? 'block' : 'none';\n",
       "\n",
       "        async function convertToInteractive(key) {\n",
       "          const element = document.querySelector('#df-69143cbf-7d18-49e9-8a57-664d9b79a8db');\n",
       "          const dataTable =\n",
       "            await google.colab.kernel.invokeFunction('convertToInteractive',\n",
       "                                                     [key], {});\n",
       "          if (!dataTable) return;\n",
       "\n",
       "          const docLinkHtml = 'Like what you see? Visit the ' +\n",
       "            '<a target=\"_blank\" href=https://colab.research.google.com/notebooks/data_table.ipynb>data table notebook</a>'\n",
       "            + ' to learn more about interactive tables.';\n",
       "          element.innerHTML = '';\n",
       "          dataTable['output_type'] = 'display_data';\n",
       "          await google.colab.output.renderOutput(dataTable, element);\n",
       "          const docLink = document.createElement('div');\n",
       "          docLink.innerHTML = docLinkHtml;\n",
       "          element.appendChild(docLink);\n",
       "        }\n",
       "      </script>\n",
       "    </div>\n",
       "  </div>\n",
       "  "
      ],
      "text/plain": [
       "           id                                               text\n",
       "0  tam_test_1  தலைவா STR இதுக்குதான் கதுருந்தோம் மாஸ் தலைவா t...\n",
       "1  tam_test_2  நாயுடு மக்கள் சார்பாக திரைப்படம் வெற்றி பெற வா...\n",
       "2  tam_test_3                     தில்லானா முயற்சி  தஞ்சை கோனார்\n",
       "3  tam_test_4  திரௌபதியின் துகிலுறித்த போது காத்த கண்ணனின் யா...\n",
       "4  tam_test_5  நான் தியேட்டர்லே படம் பார்த்து 35 வருஷமாச்சு! ..."
      ]
     },
     "execution_count": 33,
     "metadata": {},
     "output_type": "execute_result"
    }
   ],
   "source": [
    "dataframe_test = pd.read_csv(\n",
    "    \"Dataset/tam_offesive_withoutlabels_test.tsv\", \n",
    "    sep='\\t'\n",
    ")\n",
    "dataframe_test.head()"
   ]
  },
  {
   "cell_type": "code",
   "execution_count": 34,
   "metadata": {
    "colab": {
     "base_uri": "https://localhost:8080/",
     "height": 175
    },
    "executionInfo": {
     "elapsed": 7,
     "status": "ok",
     "timestamp": 1642841542948,
     "user": {
      "displayName": "Faerie Mattins",
      "photoUrl": "https://lh3.googleusercontent.com/a-/AOh14GioC2l5h-WyYv75UEkACBUNdG2iNVemsmA1kWM_HA=s64",
      "userId": "14162521248288859983"
     },
     "user_tz": -330
    },
    "id": "FZQ-F7pSpHQM",
    "outputId": "b1bffdc0-9f88-4df3-b2d1-90a573edbb01"
   },
   "outputs": [
    {
     "data": {
      "text/html": [
       "\n",
       "  <div id=\"df-af4ee441-a7ab-482e-a745-ab4e37e8f096\">\n",
       "    <div class=\"colab-df-container\">\n",
       "      <div>\n",
       "<style scoped>\n",
       "    .dataframe tbody tr th:only-of-type {\n",
       "        vertical-align: middle;\n",
       "    }\n",
       "\n",
       "    .dataframe tbody tr th {\n",
       "        vertical-align: top;\n",
       "    }\n",
       "\n",
       "    .dataframe thead th {\n",
       "        text-align: right;\n",
       "    }\n",
       "</style>\n",
       "<table border=\"1\" class=\"dataframe\">\n",
       "  <thead>\n",
       "    <tr style=\"text-align: right;\">\n",
       "      <th></th>\n",
       "      <th>id</th>\n",
       "      <th>text</th>\n",
       "    </tr>\n",
       "  </thead>\n",
       "  <tbody>\n",
       "    <tr>\n",
       "      <th>count</th>\n",
       "      <td>654</td>\n",
       "      <td>654</td>\n",
       "    </tr>\n",
       "    <tr>\n",
       "      <th>unique</th>\n",
       "      <td>654</td>\n",
       "      <td>654</td>\n",
       "    </tr>\n",
       "    <tr>\n",
       "      <th>top</th>\n",
       "      <td>tam_test_384</td>\n",
       "      <td>மனித குலத்தின் சார்பாக படம் மாபெரும் வெற்றி பெ...</td>\n",
       "    </tr>\n",
       "    <tr>\n",
       "      <th>freq</th>\n",
       "      <td>1</td>\n",
       "      <td>1</td>\n",
       "    </tr>\n",
       "  </tbody>\n",
       "</table>\n",
       "</div>\n",
       "      <button class=\"colab-df-convert\" onclick=\"convertToInteractive('df-af4ee441-a7ab-482e-a745-ab4e37e8f096')\"\n",
       "              title=\"Convert this dataframe to an interactive table.\"\n",
       "              style=\"display:none;\">\n",
       "        \n",
       "  <svg xmlns=\"http://www.w3.org/2000/svg\" height=\"24px\"viewBox=\"0 0 24 24\"\n",
       "       width=\"24px\">\n",
       "    <path d=\"M0 0h24v24H0V0z\" fill=\"none\"/>\n",
       "    <path d=\"M18.56 5.44l.94 2.06.94-2.06 2.06-.94-2.06-.94-.94-2.06-.94 2.06-2.06.94zm-11 1L8.5 8.5l.94-2.06 2.06-.94-2.06-.94L8.5 2.5l-.94 2.06-2.06.94zm10 10l.94 2.06.94-2.06 2.06-.94-2.06-.94-.94-2.06-.94 2.06-2.06.94z\"/><path d=\"M17.41 7.96l-1.37-1.37c-.4-.4-.92-.59-1.43-.59-.52 0-1.04.2-1.43.59L10.3 9.45l-7.72 7.72c-.78.78-.78 2.05 0 2.83L4 21.41c.39.39.9.59 1.41.59.51 0 1.02-.2 1.41-.59l7.78-7.78 2.81-2.81c.8-.78.8-2.07 0-2.86zM5.41 20L4 18.59l7.72-7.72 1.47 1.35L5.41 20z\"/>\n",
       "  </svg>\n",
       "      </button>\n",
       "      \n",
       "  <style>\n",
       "    .colab-df-container {\n",
       "      display:flex;\n",
       "      flex-wrap:wrap;\n",
       "      gap: 12px;\n",
       "    }\n",
       "\n",
       "    .colab-df-convert {\n",
       "      background-color: #E8F0FE;\n",
       "      border: none;\n",
       "      border-radius: 50%;\n",
       "      cursor: pointer;\n",
       "      display: none;\n",
       "      fill: #1967D2;\n",
       "      height: 32px;\n",
       "      padding: 0 0 0 0;\n",
       "      width: 32px;\n",
       "    }\n",
       "\n",
       "    .colab-df-convert:hover {\n",
       "      background-color: #E2EBFA;\n",
       "      box-shadow: 0px 1px 2px rgba(60, 64, 67, 0.3), 0px 1px 3px 1px rgba(60, 64, 67, 0.15);\n",
       "      fill: #174EA6;\n",
       "    }\n",
       "\n",
       "    [theme=dark] .colab-df-convert {\n",
       "      background-color: #3B4455;\n",
       "      fill: #D2E3FC;\n",
       "    }\n",
       "\n",
       "    [theme=dark] .colab-df-convert:hover {\n",
       "      background-color: #434B5C;\n",
       "      box-shadow: 0px 1px 3px 1px rgba(0, 0, 0, 0.15);\n",
       "      filter: drop-shadow(0px 1px 2px rgba(0, 0, 0, 0.3));\n",
       "      fill: #FFFFFF;\n",
       "    }\n",
       "  </style>\n",
       "\n",
       "      <script>\n",
       "        const buttonEl =\n",
       "          document.querySelector('#df-af4ee441-a7ab-482e-a745-ab4e37e8f096 button.colab-df-convert');\n",
       "        buttonEl.style.display =\n",
       "          google.colab.kernel.accessAllowed ? 'block' : 'none';\n",
       "\n",
       "        async function convertToInteractive(key) {\n",
       "          const element = document.querySelector('#df-af4ee441-a7ab-482e-a745-ab4e37e8f096');\n",
       "          const dataTable =\n",
       "            await google.colab.kernel.invokeFunction('convertToInteractive',\n",
       "                                                     [key], {});\n",
       "          if (!dataTable) return;\n",
       "\n",
       "          const docLinkHtml = 'Like what you see? Visit the ' +\n",
       "            '<a target=\"_blank\" href=https://colab.research.google.com/notebooks/data_table.ipynb>data table notebook</a>'\n",
       "            + ' to learn more about interactive tables.';\n",
       "          element.innerHTML = '';\n",
       "          dataTable['output_type'] = 'display_data';\n",
       "          await google.colab.output.renderOutput(dataTable, element);\n",
       "          const docLink = document.createElement('div');\n",
       "          docLink.innerHTML = docLinkHtml;\n",
       "          element.appendChild(docLink);\n",
       "        }\n",
       "      </script>\n",
       "    </div>\n",
       "  </div>\n",
       "  "
      ],
      "text/plain": [
       "                  id                                               text\n",
       "count            654                                                654\n",
       "unique           654                                                654\n",
       "top     tam_test_384  மனித குலத்தின் சார்பாக படம் மாபெரும் வெற்றி பெ...\n",
       "freq               1                                                  1"
      ]
     },
     "execution_count": 34,
     "metadata": {},
     "output_type": "execute_result"
    }
   ],
   "source": [
    "dataframe_test.describe()"
   ]
  },
  {
   "cell_type": "code",
   "execution_count": 35,
   "metadata": {
    "executionInfo": {
     "elapsed": 3,
     "status": "ok",
     "timestamp": 1642841543796,
     "user": {
      "displayName": "Faerie Mattins",
      "photoUrl": "https://lh3.googleusercontent.com/a-/AOh14GioC2l5h-WyYv75UEkACBUNdG2iNVemsmA1kWM_HA=s64",
      "userId": "14162521248288859983"
     },
     "user_tz": -330
    },
    "id": "gjM6M2dQpduy"
   },
   "outputs": [],
   "source": [
    "text_test = dataframe_test['text']"
   ]
  },
  {
   "cell_type": "markdown",
   "metadata": {
    "id": "8wyTwsUpp3WC"
   },
   "source": [
    "## **Test Data Preprocessing**"
   ]
  },
  {
   "cell_type": "code",
   "execution_count": 36,
   "metadata": {
    "executionInfo": {
     "elapsed": 4,
     "status": "ok",
     "timestamp": 1642841545094,
     "user": {
      "displayName": "Faerie Mattins",
      "photoUrl": "https://lh3.googleusercontent.com/a-/AOh14GioC2l5h-WyYv75UEkACBUNdG2iNVemsmA1kWM_HA=s64",
      "userId": "14162521248288859983"
     },
     "user_tz": -330
    },
    "id": "TYcNf3kHpl9R"
   },
   "outputs": [],
   "source": [
    "text_test = text_test.str.replace(r\"[+/#@&*$%:]\",'')\n",
    "text_test = text_test.to_numpy()"
   ]
  },
  {
   "cell_type": "code",
   "execution_count": 37,
   "metadata": {
    "executionInfo": {
     "elapsed": 592,
     "status": "ok",
     "timestamp": 1642841556522,
     "user": {
      "displayName": "Faerie Mattins",
      "photoUrl": "https://lh3.googleusercontent.com/a-/AOh14GioC2l5h-WyYv75UEkACBUNdG2iNVemsmA1kWM_HA=s64",
      "userId": "14162521248288859983"
     },
     "user_tz": -330
    },
    "id": "yyH5Vy9i_LwJ"
   },
   "outputs": [],
   "source": [
    "text_test = [stopwords_remove(s) for s in text_test]\n",
    "for i in range(len(text_test)):\n",
    "  text_test[i] = (\" \".join(text_test[i]))"
   ]
  },
  {
   "cell_type": "markdown",
   "metadata": {
    "id": "2-gmFFWLrgLr"
   },
   "source": [
    "## **Test Feature Extraction**"
   ]
  },
  {
   "cell_type": "code",
   "execution_count": 44,
   "metadata": {
    "executionInfo": {
     "elapsed": 647,
     "status": "ok",
     "timestamp": 1642841584680,
     "user": {
      "displayName": "Faerie Mattins",
      "photoUrl": "https://lh3.googleusercontent.com/a-/AOh14GioC2l5h-WyYv75UEkACBUNdG2iNVemsmA1kWM_HA=s64",
      "userId": "14162521248288859983"
     },
     "user_tz": -330
    },
    "id": "4d04uzhhrRtV"
   },
   "outputs": [],
   "source": [
    "vectorizer = TfidfVectorizer(min_df = 5)\n",
    "X_test = vectorizer.fit_transform(text_test)\n",
    "X_test = X_test.todense()"
   ]
  },
  {
   "cell_type": "code",
   "execution_count": 45,
   "metadata": {
    "colab": {
     "base_uri": "https://localhost:8080/"
    },
    "executionInfo": {
     "elapsed": 9,
     "status": "ok",
     "timestamp": 1642841585080,
     "user": {
      "displayName": "Faerie Mattins",
      "photoUrl": "https://lh3.googleusercontent.com/a-/AOh14GioC2l5h-WyYv75UEkACBUNdG2iNVemsmA1kWM_HA=s64",
      "userId": "14162521248288859983"
     },
     "user_tz": -330
    },
    "id": "5orMZBjWr25i",
    "outputId": "22adefe6-560c-44f2-9e60-bc811bb218eb"
   },
   "outputs": [
    {
     "data": {
      "text/plain": [
       "(654, 233)"
      ]
     },
     "execution_count": 45,
     "metadata": {},
     "output_type": "execute_result"
    }
   ],
   "source": [
    "X_test.shape"
   ]
  },
  {
   "cell_type": "code",
   "execution_count": 46,
   "metadata": {
    "executionInfo": {
     "elapsed": 8,
     "status": "ok",
     "timestamp": 1642841585082,
     "user": {
      "displayName": "Faerie Mattins",
      "photoUrl": "https://lh3.googleusercontent.com/a-/AOh14GioC2l5h-WyYv75UEkACBUNdG2iNVemsmA1kWM_HA=s64",
      "userId": "14162521248288859983"
     },
     "user_tz": -330
    },
    "id": "zEbjRMLjiHRz"
   },
   "outputs": [],
   "source": [
    "X_test = X_test.tolist()"
   ]
  },
  {
   "cell_type": "code",
   "execution_count": 47,
   "metadata": {
    "executionInfo": {
     "elapsed": 5,
     "status": "ok",
     "timestamp": 1642841585485,
     "user": {
      "displayName": "Faerie Mattins",
      "photoUrl": "https://lh3.googleusercontent.com/a-/AOh14GioC2l5h-WyYv75UEkACBUNdG2iNVemsmA1kWM_HA=s64",
      "userId": "14162521248288859983"
     },
     "user_tz": -330
    },
    "id": "w65Q1STMiMjG"
   },
   "outputs": [],
   "source": [
    "for i in range(len(X_test)):\n",
    "    for n in range(547):\n",
    "        X_test[i].append(0)"
   ]
  },
  {
   "cell_type": "code",
   "execution_count": 48,
   "metadata": {
    "colab": {
     "base_uri": "https://localhost:8080/"
    },
    "executionInfo": {
     "elapsed": 6,
     "status": "ok",
     "timestamp": 1642841585893,
     "user": {
      "displayName": "Faerie Mattins",
      "photoUrl": "https://lh3.googleusercontent.com/a-/AOh14GioC2l5h-WyYv75UEkACBUNdG2iNVemsmA1kWM_HA=s64",
      "userId": "14162521248288859983"
     },
     "user_tz": -330
    },
    "id": "6DE7KDTLiyvz",
    "outputId": "6a494af0-ab62-42c1-9ba0-051f4b5950aa"
   },
   "outputs": [
    {
     "data": {
      "text/plain": [
       "(654, 780)"
      ]
     },
     "execution_count": 48,
     "metadata": {},
     "output_type": "execute_result"
    }
   ],
   "source": [
    "X_test = np.array(X_test)\n",
    "X_test.shape"
   ]
  },
  {
   "cell_type": "markdown",
   "metadata": {
    "id": "Ty5n_1Zatbaw"
   },
   "source": [
    "## **Getting Predictions**"
   ]
  },
  {
   "cell_type": "code",
   "execution_count": 49,
   "metadata": {
    "executionInfo": {
     "elapsed": 1866,
     "status": "ok",
     "timestamp": 1642841590170,
     "user": {
      "displayName": "Faerie Mattins",
      "photoUrl": "https://lh3.googleusercontent.com/a-/AOh14GioC2l5h-WyYv75UEkACBUNdG2iNVemsmA1kWM_HA=s64",
      "userId": "14162521248288859983"
     },
     "user_tz": -330
    },
    "id": "f91wGmBPr4ca"
   },
   "outputs": [],
   "source": [
    "# Logistic Regression\n",
    "lr_test_pred = lr.predict(X_test)\n",
    "\n",
    "# Support Vector Machine\n",
    "svm_test_pred = svm.predict(X_test)\n",
    "\n",
    "# Naive Bayes\n",
    "nb_test_pred = nb.predict(X_test)\n",
    "\n",
    "# Stochastic Gradient Descent\n",
    "sgd_test_pred = sgd.predict(X_test)\n",
    "\n",
    "# K Nearest Neighbours\n",
    "knn_test_pred = knn.predict(X_test)\n",
    "\n",
    "# Decision Tree\n",
    "dt_test_pred = dt.predict(X_test)\n",
    "\n",
    "# Random Forest\n",
    "rf_test_pred = rf.predict(X_test)"
   ]
  },
  {
   "cell_type": "code",
   "execution_count": 50,
   "metadata": {
    "executionInfo": {
     "elapsed": 4,
     "status": "ok",
     "timestamp": 1642841593040,
     "user": {
      "displayName": "Faerie Mattins",
      "photoUrl": "https://lh3.googleusercontent.com/a-/AOh14GioC2l5h-WyYv75UEkACBUNdG2iNVemsmA1kWM_HA=s64",
      "userId": "14162521248288859983"
     },
     "user_tz": -330
    },
    "id": "B0mPiSmAt2oL"
   },
   "outputs": [],
   "source": [
    "# Majority Voting\n",
    "mv_test_pred = []\n",
    "\n",
    "for i in range(len(lr_test_pred)):\n",
    "    one = 0\n",
    "    zero = 0\n",
    "    predictions = [lr_test_pred[i], svm_test_pred[i], sgd_test_pred[i], \n",
    "                   dt_test_pred[i], rf_test_pred[i]]\n",
    "    for pred in predictions:\n",
    "        if pred == 1: one += 1\n",
    "        if pred == 0: zero +=1\n",
    "    if one > zero: mv_test_pred.append(1)\n",
    "    else: mv_test_pred.append(0)\n",
    "\n",
    "mv_test_pred = np.array(mv_test_pred)"
   ]
  },
  {
   "cell_type": "markdown",
   "metadata": {
    "id": "BVZruN6Kfg2D"
   },
   "source": [
    "## **Evaluating the Predictions**"
   ]
  },
  {
   "cell_type": "code",
   "execution_count": 51,
   "metadata": {
    "executionInfo": {
     "elapsed": 4,
     "status": "ok",
     "timestamp": 1642841595005,
     "user": {
      "displayName": "Faerie Mattins",
      "photoUrl": "https://lh3.googleusercontent.com/a-/AOh14GioC2l5h-WyYv75UEkACBUNdG2iNVemsmA1kWM_HA=s64",
      "userId": "14162521248288859983"
     },
     "user_tz": -330
    },
    "id": "AJlaHSJ0fZbo"
   },
   "outputs": [],
   "source": [
    "dataframe_eval = pd.read_csv(\n",
    "    \"Dataset/tamil_offensive_test task 1 with labels.tsv\", \n",
    "    sep='\\t'\n",
    ")"
   ]
  },
  {
   "cell_type": "code",
   "execution_count": 52,
   "metadata": {
    "executionInfo": {
     "elapsed": 6,
     "status": "ok",
     "timestamp": 1642841596651,
     "user": {
      "displayName": "Faerie Mattins",
      "photoUrl": "https://lh3.googleusercontent.com/a-/AOh14GioC2l5h-WyYv75UEkACBUNdG2iNVemsmA1kWM_HA=s64",
      "userId": "14162521248288859983"
     },
     "user_tz": -330
    },
    "id": "DNk-wIsVgA1t"
   },
   "outputs": [],
   "source": [
    "y_test = dataframe_eval['category']\n",
    "y_test = LabelEncoder().fit_transform(y_test)"
   ]
  },
  {
   "cell_type": "code",
   "execution_count": 53,
   "metadata": {
    "colab": {
     "base_uri": "https://localhost:8080/"
    },
    "executionInfo": {
     "elapsed": 2,
     "status": "ok",
     "timestamp": 1642841596990,
     "user": {
      "displayName": "Faerie Mattins",
      "photoUrl": "https://lh3.googleusercontent.com/a-/AOh14GioC2l5h-WyYv75UEkACBUNdG2iNVemsmA1kWM_HA=s64",
      "userId": "14162521248288859983"
     },
     "user_tz": -330
    },
    "id": "84t3uA9bgSYP",
    "outputId": "c1b3fd26-e734-4cd3-ed94-4acccc13c7df"
   },
   "outputs": [
    {
     "name": "stdout",
     "output_type": "stream",
     "text": [
      "Logistic Regression\n",
      "              precision    recall  f1-score   support\n",
      "\n",
      "           0       0.82      0.99      0.90       536\n",
      "           1       0.00      0.00      0.00       118\n",
      "\n",
      "    accuracy                           0.81       654\n",
      "   macro avg       0.41      0.50      0.45       654\n",
      "weighted avg       0.67      0.81      0.74       654\n",
      "\n"
     ]
    }
   ],
   "source": [
    "print('Logistic Regression')\n",
    "print(classification_report(y_test, lr_test_pred))"
   ]
  },
  {
   "cell_type": "code",
   "execution_count": 54,
   "metadata": {
    "colab": {
     "base_uri": "https://localhost:8080/"
    },
    "executionInfo": {
     "elapsed": 415,
     "status": "ok",
     "timestamp": 1642841600031,
     "user": {
      "displayName": "Faerie Mattins",
      "photoUrl": "https://lh3.googleusercontent.com/a-/AOh14GioC2l5h-WyYv75UEkACBUNdG2iNVemsmA1kWM_HA=s64",
      "userId": "14162521248288859983"
     },
     "user_tz": -330
    },
    "id": "AF5j7LQCga_w",
    "outputId": "a2b6b5a2-6396-4e83-f009-4d5862b55432"
   },
   "outputs": [
    {
     "name": "stdout",
     "output_type": "stream",
     "text": [
      "Support Vector Machine\n",
      "              precision    recall  f1-score   support\n",
      "\n",
      "           0       0.82      1.00      0.90       536\n",
      "           1       0.00      0.00      0.00       118\n",
      "\n",
      "    accuracy                           0.82       654\n",
      "   macro avg       0.41      0.50      0.45       654\n",
      "weighted avg       0.67      0.82      0.74       654\n",
      "\n"
     ]
    }
   ],
   "source": [
    "print('Support Vector Machine')\n",
    "print(classification_report(y_test, svm_test_pred))"
   ]
  },
  {
   "cell_type": "code",
   "execution_count": 55,
   "metadata": {
    "colab": {
     "base_uri": "https://localhost:8080/"
    },
    "executionInfo": {
     "elapsed": 388,
     "status": "ok",
     "timestamp": 1642841603090,
     "user": {
      "displayName": "Faerie Mattins",
      "photoUrl": "https://lh3.googleusercontent.com/a-/AOh14GioC2l5h-WyYv75UEkACBUNdG2iNVemsmA1kWM_HA=s64",
      "userId": "14162521248288859983"
     },
     "user_tz": -330
    },
    "id": "2UYECp9not0B",
    "outputId": "67804a2d-14d9-476e-9e02-91721774c964"
   },
   "outputs": [
    {
     "name": "stdout",
     "output_type": "stream",
     "text": [
      "Naive Bayes\n",
      "              precision    recall  f1-score   support\n",
      "\n",
      "           0       0.80      0.70      0.75       536\n",
      "           1       0.14      0.23      0.18       118\n",
      "\n",
      "    accuracy                           0.61       654\n",
      "   macro avg       0.47      0.46      0.46       654\n",
      "weighted avg       0.69      0.61      0.65       654\n",
      "\n"
     ]
    }
   ],
   "source": [
    "print('Naive Bayes')\n",
    "print(classification_report(y_test, nb_test_pred))"
   ]
  },
  {
   "cell_type": "code",
   "execution_count": 56,
   "metadata": {
    "colab": {
     "base_uri": "https://localhost:8080/"
    },
    "executionInfo": {
     "elapsed": 563,
     "status": "ok",
     "timestamp": 1642841606580,
     "user": {
      "displayName": "Faerie Mattins",
      "photoUrl": "https://lh3.googleusercontent.com/a-/AOh14GioC2l5h-WyYv75UEkACBUNdG2iNVemsmA1kWM_HA=s64",
      "userId": "14162521248288859983"
     },
     "user_tz": -330
    },
    "id": "thKlIWo9o134",
    "outputId": "0ac9b705-5420-4be4-9f6a-458fa54ae8b8"
   },
   "outputs": [
    {
     "name": "stdout",
     "output_type": "stream",
     "text": [
      "Stochastic Gradient Descent\n",
      "              precision    recall  f1-score   support\n",
      "\n",
      "           0       0.80      0.84      0.82       536\n",
      "           1       0.05      0.03      0.04       118\n",
      "\n",
      "    accuracy                           0.70       654\n",
      "   macro avg       0.42      0.44      0.43       654\n",
      "weighted avg       0.66      0.70      0.68       654\n",
      "\n"
     ]
    }
   ],
   "source": [
    "print('Stochastic Gradient Descent')\n",
    "print(classification_report(y_test, sgd_test_pred))"
   ]
  },
  {
   "cell_type": "code",
   "execution_count": 57,
   "metadata": {
    "colab": {
     "base_uri": "https://localhost:8080/"
    },
    "executionInfo": {
     "elapsed": 4,
     "status": "ok",
     "timestamp": 1642841608387,
     "user": {
      "displayName": "Faerie Mattins",
      "photoUrl": "https://lh3.googleusercontent.com/a-/AOh14GioC2l5h-WyYv75UEkACBUNdG2iNVemsmA1kWM_HA=s64",
      "userId": "14162521248288859983"
     },
     "user_tz": -330
    },
    "id": "26jTXtlvpNmf",
    "outputId": "aa853c53-0b5c-406e-f9e2-96e863b011be"
   },
   "outputs": [
    {
     "name": "stdout",
     "output_type": "stream",
     "text": [
      "K Nearest Neighbours\n",
      "              precision    recall  f1-score   support\n",
      "\n",
      "           0       0.82      1.00      0.90       536\n",
      "           1       0.00      0.00      0.00       118\n",
      "\n",
      "    accuracy                           0.82       654\n",
      "   macro avg       0.41      0.50      0.45       654\n",
      "weighted avg       0.67      0.82      0.74       654\n",
      "\n"
     ]
    }
   ],
   "source": [
    "print('K Nearest Neighbours')\n",
    "print(classification_report(y_test, knn_test_pred))"
   ]
  },
  {
   "cell_type": "code",
   "execution_count": 58,
   "metadata": {
    "colab": {
     "base_uri": "https://localhost:8080/"
    },
    "executionInfo": {
     "elapsed": 347,
     "status": "ok",
     "timestamp": 1642841610801,
     "user": {
      "displayName": "Faerie Mattins",
      "photoUrl": "https://lh3.googleusercontent.com/a-/AOh14GioC2l5h-WyYv75UEkACBUNdG2iNVemsmA1kWM_HA=s64",
      "userId": "14162521248288859983"
     },
     "user_tz": -330
    },
    "id": "8tmpPH2EpUAl",
    "outputId": "4ecd4214-33f1-4476-9376-3aa3eafc86c9"
   },
   "outputs": [
    {
     "name": "stdout",
     "output_type": "stream",
     "text": [
      "Decision Tree\n",
      "              precision    recall  f1-score   support\n",
      "\n",
      "           0       0.82      0.81      0.82       536\n",
      "           1       0.20      0.21      0.20       118\n",
      "\n",
      "    accuracy                           0.70       654\n",
      "   macro avg       0.51      0.51      0.51       654\n",
      "weighted avg       0.71      0.70      0.70       654\n",
      "\n"
     ]
    }
   ],
   "source": [
    "print('Decision Tree')\n",
    "print(classification_report(y_test, dt_test_pred))"
   ]
  },
  {
   "cell_type": "code",
   "execution_count": 59,
   "metadata": {
    "colab": {
     "base_uri": "https://localhost:8080/"
    },
    "executionInfo": {
     "elapsed": 14,
     "status": "ok",
     "timestamp": 1642841610803,
     "user": {
      "displayName": "Faerie Mattins",
      "photoUrl": "https://lh3.googleusercontent.com/a-/AOh14GioC2l5h-WyYv75UEkACBUNdG2iNVemsmA1kWM_HA=s64",
      "userId": "14162521248288859983"
     },
     "user_tz": -330
    },
    "id": "dOKPy7GppZ6i",
    "outputId": "2a94c4ae-e1de-463b-a7a9-ca7412535bf0"
   },
   "outputs": [
    {
     "name": "stdout",
     "output_type": "stream",
     "text": [
      "Random Forest\n",
      "              precision    recall  f1-score   support\n",
      "\n",
      "           0       0.82      0.95      0.88       536\n",
      "           1       0.26      0.08      0.13       118\n",
      "\n",
      "    accuracy                           0.79       654\n",
      "   macro avg       0.54      0.52      0.50       654\n",
      "weighted avg       0.72      0.79      0.75       654\n",
      "\n"
     ]
    }
   ],
   "source": [
    "print('Random Forest')\n",
    "print(classification_report(y_test, rf_test_pred))"
   ]
  },
  {
   "cell_type": "code",
   "execution_count": 60,
   "metadata": {
    "colab": {
     "base_uri": "https://localhost:8080/"
    },
    "executionInfo": {
     "elapsed": 5,
     "status": "ok",
     "timestamp": 1642841611921,
     "user": {
      "displayName": "Faerie Mattins",
      "photoUrl": "https://lh3.googleusercontent.com/a-/AOh14GioC2l5h-WyYv75UEkACBUNdG2iNVemsmA1kWM_HA=s64",
      "userId": "14162521248288859983"
     },
     "user_tz": -330
    },
    "id": "mW74ZEfyMJrU",
    "outputId": "a7bd4abe-08b0-4b83-9210-07ce8e76bea8"
   },
   "outputs": [
    {
     "name": "stdout",
     "output_type": "stream",
     "text": [
      "Majority Voting\n",
      "              precision    recall  f1-score   support\n",
      "\n",
      "           0       0.82      0.98      0.89       536\n",
      "           1       0.07      0.01      0.02       118\n",
      "\n",
      "    accuracy                           0.80       654\n",
      "   macro avg       0.44      0.49      0.45       654\n",
      "weighted avg       0.68      0.80      0.73       654\n",
      "\n"
     ]
    }
   ],
   "source": [
    "print('Majority Voting')\n",
    "print(classification_report(y_test, mv_test_pred))"
   ]
  },
  {
   "cell_type": "markdown",
   "metadata": {
    "id": "X0LUcPIaMRz1"
   },
   "source": [
    "## **Saving the Predictions**"
   ]
  },
  {
   "cell_type": "code",
   "execution_count": null,
   "metadata": {
    "colab": {
     "base_uri": "https://localhost:8080/",
     "height": 423
    },
    "id": "y_HVv3UrMNwB",
    "outputId": "1db8209f-f250-4ae0-b068-c8155da4c42e"
   },
   "outputs": [
    {
     "data": {
      "text/html": [
       "\n",
       "  <div id=\"df-f9a9155f-4083-432a-856e-f1fbeaa7ed47\">\n",
       "    <div class=\"colab-df-container\">\n",
       "      <div>\n",
       "<style scoped>\n",
       "    .dataframe tbody tr th:only-of-type {\n",
       "        vertical-align: middle;\n",
       "    }\n",
       "\n",
       "    .dataframe tbody tr th {\n",
       "        vertical-align: top;\n",
       "    }\n",
       "\n",
       "    .dataframe thead th {\n",
       "        text-align: right;\n",
       "    }\n",
       "</style>\n",
       "<table border=\"1\" class=\"dataframe\">\n",
       "  <thead>\n",
       "    <tr style=\"text-align: right;\">\n",
       "      <th></th>\n",
       "      <th>id</th>\n",
       "      <th>text</th>\n",
       "      <th>category</th>\n",
       "    </tr>\n",
       "  </thead>\n",
       "  <tbody>\n",
       "    <tr>\n",
       "      <th>0</th>\n",
       "      <td>tam_test_1</td>\n",
       "      <td>தலைவா STR இதுக்குதான் கதுருந்தோம் மாஸ் தலைவா t...</td>\n",
       "      <td>NOT</td>\n",
       "    </tr>\n",
       "    <tr>\n",
       "      <th>1</th>\n",
       "      <td>tam_test_2</td>\n",
       "      <td>நாயுடு மக்கள் சார்பாக திரைப்படம் வெற்றி பெற வா...</td>\n",
       "      <td>NOT</td>\n",
       "    </tr>\n",
       "    <tr>\n",
       "      <th>2</th>\n",
       "      <td>tam_test_3</td>\n",
       "      <td>தில்லானா முயற்சி  தஞ்சை கோனார்</td>\n",
       "      <td>NOT</td>\n",
       "    </tr>\n",
       "    <tr>\n",
       "      <th>3</th>\n",
       "      <td>tam_test_4</td>\n",
       "      <td>திரௌபதியின் துகிலுறித்த போது காத்த கண்ணனின் யா...</td>\n",
       "      <td>NOT</td>\n",
       "    </tr>\n",
       "    <tr>\n",
       "      <th>4</th>\n",
       "      <td>tam_test_5</td>\n",
       "      <td>நான் தியேட்டர்லே படம் பார்த்து 35 வருஷமாச்சு! ...</td>\n",
       "      <td>NOT</td>\n",
       "    </tr>\n",
       "    <tr>\n",
       "      <th>...</th>\n",
       "      <td>...</td>\n",
       "      <td>...</td>\n",
       "      <td>...</td>\n",
       "    </tr>\n",
       "    <tr>\n",
       "      <th>649</th>\n",
       "      <td>tam_test_650</td>\n",
       "      <td>நான் தலைவரோட ரசிகன்னு சொல்லிடு தலைவரை ஒடசல் போ...</td>\n",
       "      <td>NOT</td>\n",
       "    </tr>\n",
       "    <tr>\n",
       "      <th>650</th>\n",
       "      <td>tam_test_651</td>\n",
       "      <td>வாழ்த்துக்கள்,உண்மை கதை உலகத்துக்கு காட்டிய மோ...</td>\n",
       "      <td>NOT</td>\n",
       "    </tr>\n",
       "    <tr>\n",
       "      <th>651</th>\n",
       "      <td>tam_test_652</td>\n",
       "      <td>குருமா and பா..குஞ்சித் பயலுக கதர்ரது இன்னும் ...</td>\n",
       "      <td>NOT</td>\n",
       "    </tr>\n",
       "    <tr>\n",
       "      <th>652</th>\n",
       "      <td>tam_test_653</td>\n",
       "      <td>வெள்ளார்கள் சார்பாக படம் வெற்றி பெற வாழ்த்துக்...</td>\n",
       "      <td>NOT</td>\n",
       "    </tr>\n",
       "    <tr>\n",
       "      <th>653</th>\n",
       "      <td>tam_test_654</td>\n",
       "      <td>சமீபகாலமாக கால்பந்தாட்டத்தை மையப்படுத்தி தமிழ்...</td>\n",
       "      <td>NOT</td>\n",
       "    </tr>\n",
       "  </tbody>\n",
       "</table>\n",
       "<p>654 rows × 3 columns</p>\n",
       "</div>\n",
       "      <button class=\"colab-df-convert\" onclick=\"convertToInteractive('df-f9a9155f-4083-432a-856e-f1fbeaa7ed47')\"\n",
       "              title=\"Convert this dataframe to an interactive table.\"\n",
       "              style=\"display:none;\">\n",
       "        \n",
       "  <svg xmlns=\"http://www.w3.org/2000/svg\" height=\"24px\"viewBox=\"0 0 24 24\"\n",
       "       width=\"24px\">\n",
       "    <path d=\"M0 0h24v24H0V0z\" fill=\"none\"/>\n",
       "    <path d=\"M18.56 5.44l.94 2.06.94-2.06 2.06-.94-2.06-.94-.94-2.06-.94 2.06-2.06.94zm-11 1L8.5 8.5l.94-2.06 2.06-.94-2.06-.94L8.5 2.5l-.94 2.06-2.06.94zm10 10l.94 2.06.94-2.06 2.06-.94-2.06-.94-.94-2.06-.94 2.06-2.06.94z\"/><path d=\"M17.41 7.96l-1.37-1.37c-.4-.4-.92-.59-1.43-.59-.52 0-1.04.2-1.43.59L10.3 9.45l-7.72 7.72c-.78.78-.78 2.05 0 2.83L4 21.41c.39.39.9.59 1.41.59.51 0 1.02-.2 1.41-.59l7.78-7.78 2.81-2.81c.8-.78.8-2.07 0-2.86zM5.41 20L4 18.59l7.72-7.72 1.47 1.35L5.41 20z\"/>\n",
       "  </svg>\n",
       "      </button>\n",
       "      \n",
       "  <style>\n",
       "    .colab-df-container {\n",
       "      display:flex;\n",
       "      flex-wrap:wrap;\n",
       "      gap: 12px;\n",
       "    }\n",
       "\n",
       "    .colab-df-convert {\n",
       "      background-color: #E8F0FE;\n",
       "      border: none;\n",
       "      border-radius: 50%;\n",
       "      cursor: pointer;\n",
       "      display: none;\n",
       "      fill: #1967D2;\n",
       "      height: 32px;\n",
       "      padding: 0 0 0 0;\n",
       "      width: 32px;\n",
       "    }\n",
       "\n",
       "    .colab-df-convert:hover {\n",
       "      background-color: #E2EBFA;\n",
       "      box-shadow: 0px 1px 2px rgba(60, 64, 67, 0.3), 0px 1px 3px 1px rgba(60, 64, 67, 0.15);\n",
       "      fill: #174EA6;\n",
       "    }\n",
       "\n",
       "    [theme=dark] .colab-df-convert {\n",
       "      background-color: #3B4455;\n",
       "      fill: #D2E3FC;\n",
       "    }\n",
       "\n",
       "    [theme=dark] .colab-df-convert:hover {\n",
       "      background-color: #434B5C;\n",
       "      box-shadow: 0px 1px 3px 1px rgba(0, 0, 0, 0.15);\n",
       "      filter: drop-shadow(0px 1px 2px rgba(0, 0, 0, 0.3));\n",
       "      fill: #FFFFFF;\n",
       "    }\n",
       "  </style>\n",
       "\n",
       "      <script>\n",
       "        const buttonEl =\n",
       "          document.querySelector('#df-f9a9155f-4083-432a-856e-f1fbeaa7ed47 button.colab-df-convert');\n",
       "        buttonEl.style.display =\n",
       "          google.colab.kernel.accessAllowed ? 'block' : 'none';\n",
       "\n",
       "        async function convertToInteractive(key) {\n",
       "          const element = document.querySelector('#df-f9a9155f-4083-432a-856e-f1fbeaa7ed47');\n",
       "          const dataTable =\n",
       "            await google.colab.kernel.invokeFunction('convertToInteractive',\n",
       "                                                     [key], {});\n",
       "          if (!dataTable) return;\n",
       "\n",
       "          const docLinkHtml = 'Like what you see? Visit the ' +\n",
       "            '<a target=\"_blank\" href=https://colab.research.google.com/notebooks/data_table.ipynb>data table notebook</a>'\n",
       "            + ' to learn more about interactive tables.';\n",
       "          element.innerHTML = '';\n",
       "          dataTable['output_type'] = 'display_data';\n",
       "          await google.colab.output.renderOutput(dataTable, element);\n",
       "          const docLink = document.createElement('div');\n",
       "          docLink.innerHTML = docLinkHtml;\n",
       "          element.appendChild(docLink);\n",
       "        }\n",
       "      </script>\n",
       "    </div>\n",
       "  </div>\n",
       "  "
      ],
      "text/plain": [
       "               id                                               text category\n",
       "0      tam_test_1  தலைவா STR இதுக்குதான் கதுருந்தோம் மாஸ் தலைவா t...      NOT\n",
       "1      tam_test_2  நாயுடு மக்கள் சார்பாக திரைப்படம் வெற்றி பெற வா...      NOT\n",
       "2      tam_test_3                     தில்லானா முயற்சி  தஞ்சை கோனார்      NOT\n",
       "3      tam_test_4  திரௌபதியின் துகிலுறித்த போது காத்த கண்ணனின் யா...      NOT\n",
       "4      tam_test_5  நான் தியேட்டர்லே படம் பார்த்து 35 வருஷமாச்சு! ...      NOT\n",
       "..            ...                                                ...      ...\n",
       "649  tam_test_650  நான் தலைவரோட ரசிகன்னு சொல்லிடு தலைவரை ஒடசல் போ...      NOT\n",
       "650  tam_test_651  வாழ்த்துக்கள்,உண்மை கதை உலகத்துக்கு காட்டிய மோ...      NOT\n",
       "651  tam_test_652  குருமா and பா..குஞ்சித் பயலுக கதர்ரது இன்னும் ...      NOT\n",
       "652  tam_test_653  வெள்ளார்கள் சார்பாக படம் வெற்றி பெற வாழ்த்துக்...      NOT\n",
       "653  tam_test_654  சமீபகாலமாக கால்பந்தாட்டத்தை மையப்படுத்தி தமிழ்...      NOT\n",
       "\n",
       "[654 rows x 3 columns]"
      ]
     },
     "execution_count": 52,
     "metadata": {},
     "output_type": "execute_result"
    }
   ],
   "source": [
    "# Logistic Regression\n",
    "\n",
    "predictions = le.inverse_transform(lr_test_pred)\n",
    "\n",
    "dataframe_test_lr = {\n",
    "    'id': dataframe_test['id'],\n",
    "    'text': dataframe_test['text'],\n",
    "    'category': predictions\n",
    "}\n",
    "\n",
    "dataframe_test_lr = pd.DataFrame(dataframe_test_lr)\n",
    "dataframe_test_lr.to_csv(\"Output/TF-IDF-No-Stem-LogisticRegression.csv\")\n",
    "dataframe_test_lr"
   ]
  },
  {
   "cell_type": "code",
   "execution_count": null,
   "metadata": {
    "colab": {
     "base_uri": "https://localhost:8080/",
     "height": 423
    },
    "id": "VArL3xFnPLTV",
    "outputId": "3665b856-edc1-42f9-d8cb-b51859045523"
   },
   "outputs": [
    {
     "data": {
      "text/html": [
       "\n",
       "  <div id=\"df-1bb9d103-80eb-4071-aa6d-0a070d28fdde\">\n",
       "    <div class=\"colab-df-container\">\n",
       "      <div>\n",
       "<style scoped>\n",
       "    .dataframe tbody tr th:only-of-type {\n",
       "        vertical-align: middle;\n",
       "    }\n",
       "\n",
       "    .dataframe tbody tr th {\n",
       "        vertical-align: top;\n",
       "    }\n",
       "\n",
       "    .dataframe thead th {\n",
       "        text-align: right;\n",
       "    }\n",
       "</style>\n",
       "<table border=\"1\" class=\"dataframe\">\n",
       "  <thead>\n",
       "    <tr style=\"text-align: right;\">\n",
       "      <th></th>\n",
       "      <th>id</th>\n",
       "      <th>text</th>\n",
       "      <th>category</th>\n",
       "    </tr>\n",
       "  </thead>\n",
       "  <tbody>\n",
       "    <tr>\n",
       "      <th>0</th>\n",
       "      <td>tam_test_1</td>\n",
       "      <td>தலைவா STR இதுக்குதான் கதுருந்தோம் மாஸ் தலைவா t...</td>\n",
       "      <td>NOT</td>\n",
       "    </tr>\n",
       "    <tr>\n",
       "      <th>1</th>\n",
       "      <td>tam_test_2</td>\n",
       "      <td>நாயுடு மக்கள் சார்பாக திரைப்படம் வெற்றி பெற வா...</td>\n",
       "      <td>NOT</td>\n",
       "    </tr>\n",
       "    <tr>\n",
       "      <th>2</th>\n",
       "      <td>tam_test_3</td>\n",
       "      <td>தில்லானா முயற்சி  தஞ்சை கோனார்</td>\n",
       "      <td>NOT</td>\n",
       "    </tr>\n",
       "    <tr>\n",
       "      <th>3</th>\n",
       "      <td>tam_test_4</td>\n",
       "      <td>திரௌபதியின் துகிலுறித்த போது காத்த கண்ணனின் யா...</td>\n",
       "      <td>NOT</td>\n",
       "    </tr>\n",
       "    <tr>\n",
       "      <th>4</th>\n",
       "      <td>tam_test_5</td>\n",
       "      <td>நான் தியேட்டர்லே படம் பார்த்து 35 வருஷமாச்சு! ...</td>\n",
       "      <td>NOT</td>\n",
       "    </tr>\n",
       "    <tr>\n",
       "      <th>...</th>\n",
       "      <td>...</td>\n",
       "      <td>...</td>\n",
       "      <td>...</td>\n",
       "    </tr>\n",
       "    <tr>\n",
       "      <th>649</th>\n",
       "      <td>tam_test_650</td>\n",
       "      <td>நான் தலைவரோட ரசிகன்னு சொல்லிடு தலைவரை ஒடசல் போ...</td>\n",
       "      <td>NOT</td>\n",
       "    </tr>\n",
       "    <tr>\n",
       "      <th>650</th>\n",
       "      <td>tam_test_651</td>\n",
       "      <td>வாழ்த்துக்கள்,உண்மை கதை உலகத்துக்கு காட்டிய மோ...</td>\n",
       "      <td>NOT</td>\n",
       "    </tr>\n",
       "    <tr>\n",
       "      <th>651</th>\n",
       "      <td>tam_test_652</td>\n",
       "      <td>குருமா and பா..குஞ்சித் பயலுக கதர்ரது இன்னும் ...</td>\n",
       "      <td>NOT</td>\n",
       "    </tr>\n",
       "    <tr>\n",
       "      <th>652</th>\n",
       "      <td>tam_test_653</td>\n",
       "      <td>வெள்ளார்கள் சார்பாக படம் வெற்றி பெற வாழ்த்துக்...</td>\n",
       "      <td>NOT</td>\n",
       "    </tr>\n",
       "    <tr>\n",
       "      <th>653</th>\n",
       "      <td>tam_test_654</td>\n",
       "      <td>சமீபகாலமாக கால்பந்தாட்டத்தை மையப்படுத்தி தமிழ்...</td>\n",
       "      <td>NOT</td>\n",
       "    </tr>\n",
       "  </tbody>\n",
       "</table>\n",
       "<p>654 rows × 3 columns</p>\n",
       "</div>\n",
       "      <button class=\"colab-df-convert\" onclick=\"convertToInteractive('df-1bb9d103-80eb-4071-aa6d-0a070d28fdde')\"\n",
       "              title=\"Convert this dataframe to an interactive table.\"\n",
       "              style=\"display:none;\">\n",
       "        \n",
       "  <svg xmlns=\"http://www.w3.org/2000/svg\" height=\"24px\"viewBox=\"0 0 24 24\"\n",
       "       width=\"24px\">\n",
       "    <path d=\"M0 0h24v24H0V0z\" fill=\"none\"/>\n",
       "    <path d=\"M18.56 5.44l.94 2.06.94-2.06 2.06-.94-2.06-.94-.94-2.06-.94 2.06-2.06.94zm-11 1L8.5 8.5l.94-2.06 2.06-.94-2.06-.94L8.5 2.5l-.94 2.06-2.06.94zm10 10l.94 2.06.94-2.06 2.06-.94-2.06-.94-.94-2.06-.94 2.06-2.06.94z\"/><path d=\"M17.41 7.96l-1.37-1.37c-.4-.4-.92-.59-1.43-.59-.52 0-1.04.2-1.43.59L10.3 9.45l-7.72 7.72c-.78.78-.78 2.05 0 2.83L4 21.41c.39.39.9.59 1.41.59.51 0 1.02-.2 1.41-.59l7.78-7.78 2.81-2.81c.8-.78.8-2.07 0-2.86zM5.41 20L4 18.59l7.72-7.72 1.47 1.35L5.41 20z\"/>\n",
       "  </svg>\n",
       "      </button>\n",
       "      \n",
       "  <style>\n",
       "    .colab-df-container {\n",
       "      display:flex;\n",
       "      flex-wrap:wrap;\n",
       "      gap: 12px;\n",
       "    }\n",
       "\n",
       "    .colab-df-convert {\n",
       "      background-color: #E8F0FE;\n",
       "      border: none;\n",
       "      border-radius: 50%;\n",
       "      cursor: pointer;\n",
       "      display: none;\n",
       "      fill: #1967D2;\n",
       "      height: 32px;\n",
       "      padding: 0 0 0 0;\n",
       "      width: 32px;\n",
       "    }\n",
       "\n",
       "    .colab-df-convert:hover {\n",
       "      background-color: #E2EBFA;\n",
       "      box-shadow: 0px 1px 2px rgba(60, 64, 67, 0.3), 0px 1px 3px 1px rgba(60, 64, 67, 0.15);\n",
       "      fill: #174EA6;\n",
       "    }\n",
       "\n",
       "    [theme=dark] .colab-df-convert {\n",
       "      background-color: #3B4455;\n",
       "      fill: #D2E3FC;\n",
       "    }\n",
       "\n",
       "    [theme=dark] .colab-df-convert:hover {\n",
       "      background-color: #434B5C;\n",
       "      box-shadow: 0px 1px 3px 1px rgba(0, 0, 0, 0.15);\n",
       "      filter: drop-shadow(0px 1px 2px rgba(0, 0, 0, 0.3));\n",
       "      fill: #FFFFFF;\n",
       "    }\n",
       "  </style>\n",
       "\n",
       "      <script>\n",
       "        const buttonEl =\n",
       "          document.querySelector('#df-1bb9d103-80eb-4071-aa6d-0a070d28fdde button.colab-df-convert');\n",
       "        buttonEl.style.display =\n",
       "          google.colab.kernel.accessAllowed ? 'block' : 'none';\n",
       "\n",
       "        async function convertToInteractive(key) {\n",
       "          const element = document.querySelector('#df-1bb9d103-80eb-4071-aa6d-0a070d28fdde');\n",
       "          const dataTable =\n",
       "            await google.colab.kernel.invokeFunction('convertToInteractive',\n",
       "                                                     [key], {});\n",
       "          if (!dataTable) return;\n",
       "\n",
       "          const docLinkHtml = 'Like what you see? Visit the ' +\n",
       "            '<a target=\"_blank\" href=https://colab.research.google.com/notebooks/data_table.ipynb>data table notebook</a>'\n",
       "            + ' to learn more about interactive tables.';\n",
       "          element.innerHTML = '';\n",
       "          dataTable['output_type'] = 'display_data';\n",
       "          await google.colab.output.renderOutput(dataTable, element);\n",
       "          const docLink = document.createElement('div');\n",
       "          docLink.innerHTML = docLinkHtml;\n",
       "          element.appendChild(docLink);\n",
       "        }\n",
       "      </script>\n",
       "    </div>\n",
       "  </div>\n",
       "  "
      ],
      "text/plain": [
       "               id                                               text category\n",
       "0      tam_test_1  தலைவா STR இதுக்குதான் கதுருந்தோம் மாஸ் தலைவா t...      NOT\n",
       "1      tam_test_2  நாயுடு மக்கள் சார்பாக திரைப்படம் வெற்றி பெற வா...      NOT\n",
       "2      tam_test_3                     தில்லானா முயற்சி  தஞ்சை கோனார்      NOT\n",
       "3      tam_test_4  திரௌபதியின் துகிலுறித்த போது காத்த கண்ணனின் யா...      NOT\n",
       "4      tam_test_5  நான் தியேட்டர்லே படம் பார்த்து 35 வருஷமாச்சு! ...      NOT\n",
       "..            ...                                                ...      ...\n",
       "649  tam_test_650  நான் தலைவரோட ரசிகன்னு சொல்லிடு தலைவரை ஒடசல் போ...      NOT\n",
       "650  tam_test_651  வாழ்த்துக்கள்,உண்மை கதை உலகத்துக்கு காட்டிய மோ...      NOT\n",
       "651  tam_test_652  குருமா and பா..குஞ்சித் பயலுக கதர்ரது இன்னும் ...      NOT\n",
       "652  tam_test_653  வெள்ளார்கள் சார்பாக படம் வெற்றி பெற வாழ்த்துக்...      NOT\n",
       "653  tam_test_654  சமீபகாலமாக கால்பந்தாட்டத்தை மையப்படுத்தி தமிழ்...      NOT\n",
       "\n",
       "[654 rows x 3 columns]"
      ]
     },
     "execution_count": 53,
     "metadata": {},
     "output_type": "execute_result"
    }
   ],
   "source": [
    "# Support Vector Machine\n",
    "\n",
    "predictions = le.inverse_transform(svm_test_pred)\n",
    "\n",
    "dataframe_test_svm = {\n",
    "    'id': dataframe_test['id'],\n",
    "    'text': dataframe_test['text'],\n",
    "    'category': predictions\n",
    "}\n",
    "\n",
    "dataframe_test_svm = pd.DataFrame(dataframe_test_svm)\n",
    "dataframe_test_svm.to_csv(\"Output/TF-IDF-No-Stem-SupportVectorMachine.csv\")\n",
    "dataframe_test_svm"
   ]
  },
  {
   "cell_type": "code",
   "execution_count": null,
   "metadata": {
    "colab": {
     "base_uri": "https://localhost:8080/",
     "height": 423
    },
    "id": "rGm0sT-2QIu9",
    "outputId": "d13353c2-fc78-43f8-d978-9fb25819477a"
   },
   "outputs": [
    {
     "data": {
      "text/html": [
       "\n",
       "  <div id=\"df-c6c68a11-0adc-4f83-8387-a9d3b6ef9c8b\">\n",
       "    <div class=\"colab-df-container\">\n",
       "      <div>\n",
       "<style scoped>\n",
       "    .dataframe tbody tr th:only-of-type {\n",
       "        vertical-align: middle;\n",
       "    }\n",
       "\n",
       "    .dataframe tbody tr th {\n",
       "        vertical-align: top;\n",
       "    }\n",
       "\n",
       "    .dataframe thead th {\n",
       "        text-align: right;\n",
       "    }\n",
       "</style>\n",
       "<table border=\"1\" class=\"dataframe\">\n",
       "  <thead>\n",
       "    <tr style=\"text-align: right;\">\n",
       "      <th></th>\n",
       "      <th>id</th>\n",
       "      <th>text</th>\n",
       "      <th>category</th>\n",
       "    </tr>\n",
       "  </thead>\n",
       "  <tbody>\n",
       "    <tr>\n",
       "      <th>0</th>\n",
       "      <td>tam_test_1</td>\n",
       "      <td>தலைவா STR இதுக்குதான் கதுருந்தோம் மாஸ் தலைவா t...</td>\n",
       "      <td>NOT</td>\n",
       "    </tr>\n",
       "    <tr>\n",
       "      <th>1</th>\n",
       "      <td>tam_test_2</td>\n",
       "      <td>நாயுடு மக்கள் சார்பாக திரைப்படம் வெற்றி பெற வா...</td>\n",
       "      <td>OFF</td>\n",
       "    </tr>\n",
       "    <tr>\n",
       "      <th>2</th>\n",
       "      <td>tam_test_3</td>\n",
       "      <td>தில்லானா முயற்சி  தஞ்சை கோனார்</td>\n",
       "      <td>OFF</td>\n",
       "    </tr>\n",
       "    <tr>\n",
       "      <th>3</th>\n",
       "      <td>tam_test_4</td>\n",
       "      <td>திரௌபதியின் துகிலுறித்த போது காத்த கண்ணனின் யா...</td>\n",
       "      <td>NOT</td>\n",
       "    </tr>\n",
       "    <tr>\n",
       "      <th>4</th>\n",
       "      <td>tam_test_5</td>\n",
       "      <td>நான் தியேட்டர்லே படம் பார்த்து 35 வருஷமாச்சு! ...</td>\n",
       "      <td>NOT</td>\n",
       "    </tr>\n",
       "    <tr>\n",
       "      <th>...</th>\n",
       "      <td>...</td>\n",
       "      <td>...</td>\n",
       "      <td>...</td>\n",
       "    </tr>\n",
       "    <tr>\n",
       "      <th>649</th>\n",
       "      <td>tam_test_650</td>\n",
       "      <td>நான் தலைவரோட ரசிகன்னு சொல்லிடு தலைவரை ஒடசல் போ...</td>\n",
       "      <td>NOT</td>\n",
       "    </tr>\n",
       "    <tr>\n",
       "      <th>650</th>\n",
       "      <td>tam_test_651</td>\n",
       "      <td>வாழ்த்துக்கள்,உண்மை கதை உலகத்துக்கு காட்டிய மோ...</td>\n",
       "      <td>NOT</td>\n",
       "    </tr>\n",
       "    <tr>\n",
       "      <th>651</th>\n",
       "      <td>tam_test_652</td>\n",
       "      <td>குருமா and பா..குஞ்சித் பயலுக கதர்ரது இன்னும் ...</td>\n",
       "      <td>NOT</td>\n",
       "    </tr>\n",
       "    <tr>\n",
       "      <th>652</th>\n",
       "      <td>tam_test_653</td>\n",
       "      <td>வெள்ளார்கள் சார்பாக படம் வெற்றி பெற வாழ்த்துக்...</td>\n",
       "      <td>OFF</td>\n",
       "    </tr>\n",
       "    <tr>\n",
       "      <th>653</th>\n",
       "      <td>tam_test_654</td>\n",
       "      <td>சமீபகாலமாக கால்பந்தாட்டத்தை மையப்படுத்தி தமிழ்...</td>\n",
       "      <td>NOT</td>\n",
       "    </tr>\n",
       "  </tbody>\n",
       "</table>\n",
       "<p>654 rows × 3 columns</p>\n",
       "</div>\n",
       "      <button class=\"colab-df-convert\" onclick=\"convertToInteractive('df-c6c68a11-0adc-4f83-8387-a9d3b6ef9c8b')\"\n",
       "              title=\"Convert this dataframe to an interactive table.\"\n",
       "              style=\"display:none;\">\n",
       "        \n",
       "  <svg xmlns=\"http://www.w3.org/2000/svg\" height=\"24px\"viewBox=\"0 0 24 24\"\n",
       "       width=\"24px\">\n",
       "    <path d=\"M0 0h24v24H0V0z\" fill=\"none\"/>\n",
       "    <path d=\"M18.56 5.44l.94 2.06.94-2.06 2.06-.94-2.06-.94-.94-2.06-.94 2.06-2.06.94zm-11 1L8.5 8.5l.94-2.06 2.06-.94-2.06-.94L8.5 2.5l-.94 2.06-2.06.94zm10 10l.94 2.06.94-2.06 2.06-.94-2.06-.94-.94-2.06-.94 2.06-2.06.94z\"/><path d=\"M17.41 7.96l-1.37-1.37c-.4-.4-.92-.59-1.43-.59-.52 0-1.04.2-1.43.59L10.3 9.45l-7.72 7.72c-.78.78-.78 2.05 0 2.83L4 21.41c.39.39.9.59 1.41.59.51 0 1.02-.2 1.41-.59l7.78-7.78 2.81-2.81c.8-.78.8-2.07 0-2.86zM5.41 20L4 18.59l7.72-7.72 1.47 1.35L5.41 20z\"/>\n",
       "  </svg>\n",
       "      </button>\n",
       "      \n",
       "  <style>\n",
       "    .colab-df-container {\n",
       "      display:flex;\n",
       "      flex-wrap:wrap;\n",
       "      gap: 12px;\n",
       "    }\n",
       "\n",
       "    .colab-df-convert {\n",
       "      background-color: #E8F0FE;\n",
       "      border: none;\n",
       "      border-radius: 50%;\n",
       "      cursor: pointer;\n",
       "      display: none;\n",
       "      fill: #1967D2;\n",
       "      height: 32px;\n",
       "      padding: 0 0 0 0;\n",
       "      width: 32px;\n",
       "    }\n",
       "\n",
       "    .colab-df-convert:hover {\n",
       "      background-color: #E2EBFA;\n",
       "      box-shadow: 0px 1px 2px rgba(60, 64, 67, 0.3), 0px 1px 3px 1px rgba(60, 64, 67, 0.15);\n",
       "      fill: #174EA6;\n",
       "    }\n",
       "\n",
       "    [theme=dark] .colab-df-convert {\n",
       "      background-color: #3B4455;\n",
       "      fill: #D2E3FC;\n",
       "    }\n",
       "\n",
       "    [theme=dark] .colab-df-convert:hover {\n",
       "      background-color: #434B5C;\n",
       "      box-shadow: 0px 1px 3px 1px rgba(0, 0, 0, 0.15);\n",
       "      filter: drop-shadow(0px 1px 2px rgba(0, 0, 0, 0.3));\n",
       "      fill: #FFFFFF;\n",
       "    }\n",
       "  </style>\n",
       "\n",
       "      <script>\n",
       "        const buttonEl =\n",
       "          document.querySelector('#df-c6c68a11-0adc-4f83-8387-a9d3b6ef9c8b button.colab-df-convert');\n",
       "        buttonEl.style.display =\n",
       "          google.colab.kernel.accessAllowed ? 'block' : 'none';\n",
       "\n",
       "        async function convertToInteractive(key) {\n",
       "          const element = document.querySelector('#df-c6c68a11-0adc-4f83-8387-a9d3b6ef9c8b');\n",
       "          const dataTable =\n",
       "            await google.colab.kernel.invokeFunction('convertToInteractive',\n",
       "                                                     [key], {});\n",
       "          if (!dataTable) return;\n",
       "\n",
       "          const docLinkHtml = 'Like what you see? Visit the ' +\n",
       "            '<a target=\"_blank\" href=https://colab.research.google.com/notebooks/data_table.ipynb>data table notebook</a>'\n",
       "            + ' to learn more about interactive tables.';\n",
       "          element.innerHTML = '';\n",
       "          dataTable['output_type'] = 'display_data';\n",
       "          await google.colab.output.renderOutput(dataTable, element);\n",
       "          const docLink = document.createElement('div');\n",
       "          docLink.innerHTML = docLinkHtml;\n",
       "          element.appendChild(docLink);\n",
       "        }\n",
       "      </script>\n",
       "    </div>\n",
       "  </div>\n",
       "  "
      ],
      "text/plain": [
       "               id                                               text category\n",
       "0      tam_test_1  தலைவா STR இதுக்குதான் கதுருந்தோம் மாஸ் தலைவா t...      NOT\n",
       "1      tam_test_2  நாயுடு மக்கள் சார்பாக திரைப்படம் வெற்றி பெற வா...      OFF\n",
       "2      tam_test_3                     தில்லானா முயற்சி  தஞ்சை கோனார்      OFF\n",
       "3      tam_test_4  திரௌபதியின் துகிலுறித்த போது காத்த கண்ணனின் யா...      NOT\n",
       "4      tam_test_5  நான் தியேட்டர்லே படம் பார்த்து 35 வருஷமாச்சு! ...      NOT\n",
       "..            ...                                                ...      ...\n",
       "649  tam_test_650  நான் தலைவரோட ரசிகன்னு சொல்லிடு தலைவரை ஒடசல் போ...      NOT\n",
       "650  tam_test_651  வாழ்த்துக்கள்,உண்மை கதை உலகத்துக்கு காட்டிய மோ...      NOT\n",
       "651  tam_test_652  குருமா and பா..குஞ்சித் பயலுக கதர்ரது இன்னும் ...      NOT\n",
       "652  tam_test_653  வெள்ளார்கள் சார்பாக படம் வெற்றி பெற வாழ்த்துக்...      OFF\n",
       "653  tam_test_654  சமீபகாலமாக கால்பந்தாட்டத்தை மையப்படுத்தி தமிழ்...      NOT\n",
       "\n",
       "[654 rows x 3 columns]"
      ]
     },
     "execution_count": 54,
     "metadata": {},
     "output_type": "execute_result"
    }
   ],
   "source": [
    "# Naive Bayes\n",
    "\n",
    "predictions = le.inverse_transform(nb_test_pred)\n",
    "\n",
    "dataframe_test_nb = {\n",
    "    'id': dataframe_test['id'],\n",
    "    'text': dataframe_test['text'],\n",
    "    'category': predictions\n",
    "}\n",
    "\n",
    "dataframe_test_nb = pd.DataFrame(dataframe_test_nb)\n",
    "dataframe_test_nb.to_csv(\"Output/TF-IDF-No-Stem-NaiveBayes.csv\")\n",
    "dataframe_test_nb"
   ]
  },
  {
   "cell_type": "code",
   "execution_count": null,
   "metadata": {
    "colab": {
     "base_uri": "https://localhost:8080/",
     "height": 423
    },
    "id": "7Q5LQhMCSJfa",
    "outputId": "ad95c4b4-3ce7-40fb-c0fc-a559d4646428"
   },
   "outputs": [
    {
     "data": {
      "text/html": [
       "\n",
       "  <div id=\"df-2169e1eb-8f9e-41bb-96aa-f66f9cd93480\">\n",
       "    <div class=\"colab-df-container\">\n",
       "      <div>\n",
       "<style scoped>\n",
       "    .dataframe tbody tr th:only-of-type {\n",
       "        vertical-align: middle;\n",
       "    }\n",
       "\n",
       "    .dataframe tbody tr th {\n",
       "        vertical-align: top;\n",
       "    }\n",
       "\n",
       "    .dataframe thead th {\n",
       "        text-align: right;\n",
       "    }\n",
       "</style>\n",
       "<table border=\"1\" class=\"dataframe\">\n",
       "  <thead>\n",
       "    <tr style=\"text-align: right;\">\n",
       "      <th></th>\n",
       "      <th>id</th>\n",
       "      <th>text</th>\n",
       "      <th>category</th>\n",
       "    </tr>\n",
       "  </thead>\n",
       "  <tbody>\n",
       "    <tr>\n",
       "      <th>0</th>\n",
       "      <td>tam_test_1</td>\n",
       "      <td>தலைவா STR இதுக்குதான் கதுருந்தோம் மாஸ் தலைவா t...</td>\n",
       "      <td>NOT</td>\n",
       "    </tr>\n",
       "    <tr>\n",
       "      <th>1</th>\n",
       "      <td>tam_test_2</td>\n",
       "      <td>நாயுடு மக்கள் சார்பாக திரைப்படம் வெற்றி பெற வா...</td>\n",
       "      <td>NOT</td>\n",
       "    </tr>\n",
       "    <tr>\n",
       "      <th>2</th>\n",
       "      <td>tam_test_3</td>\n",
       "      <td>தில்லானா முயற்சி  தஞ்சை கோனார்</td>\n",
       "      <td>NOT</td>\n",
       "    </tr>\n",
       "    <tr>\n",
       "      <th>3</th>\n",
       "      <td>tam_test_4</td>\n",
       "      <td>திரௌபதியின் துகிலுறித்த போது காத்த கண்ணனின் யா...</td>\n",
       "      <td>NOT</td>\n",
       "    </tr>\n",
       "    <tr>\n",
       "      <th>4</th>\n",
       "      <td>tam_test_5</td>\n",
       "      <td>நான் தியேட்டர்லே படம் பார்த்து 35 வருஷமாச்சு! ...</td>\n",
       "      <td>NOT</td>\n",
       "    </tr>\n",
       "    <tr>\n",
       "      <th>...</th>\n",
       "      <td>...</td>\n",
       "      <td>...</td>\n",
       "      <td>...</td>\n",
       "    </tr>\n",
       "    <tr>\n",
       "      <th>649</th>\n",
       "      <td>tam_test_650</td>\n",
       "      <td>நான் தலைவரோட ரசிகன்னு சொல்லிடு தலைவரை ஒடசல் போ...</td>\n",
       "      <td>NOT</td>\n",
       "    </tr>\n",
       "    <tr>\n",
       "      <th>650</th>\n",
       "      <td>tam_test_651</td>\n",
       "      <td>வாழ்த்துக்கள்,உண்மை கதை உலகத்துக்கு காட்டிய மோ...</td>\n",
       "      <td>NOT</td>\n",
       "    </tr>\n",
       "    <tr>\n",
       "      <th>651</th>\n",
       "      <td>tam_test_652</td>\n",
       "      <td>குருமா and பா..குஞ்சித் பயலுக கதர்ரது இன்னும் ...</td>\n",
       "      <td>NOT</td>\n",
       "    </tr>\n",
       "    <tr>\n",
       "      <th>652</th>\n",
       "      <td>tam_test_653</td>\n",
       "      <td>வெள்ளார்கள் சார்பாக படம் வெற்றி பெற வாழ்த்துக்...</td>\n",
       "      <td>OFF</td>\n",
       "    </tr>\n",
       "    <tr>\n",
       "      <th>653</th>\n",
       "      <td>tam_test_654</td>\n",
       "      <td>சமீபகாலமாக கால்பந்தாட்டத்தை மையப்படுத்தி தமிழ்...</td>\n",
       "      <td>NOT</td>\n",
       "    </tr>\n",
       "  </tbody>\n",
       "</table>\n",
       "<p>654 rows × 3 columns</p>\n",
       "</div>\n",
       "      <button class=\"colab-df-convert\" onclick=\"convertToInteractive('df-2169e1eb-8f9e-41bb-96aa-f66f9cd93480')\"\n",
       "              title=\"Convert this dataframe to an interactive table.\"\n",
       "              style=\"display:none;\">\n",
       "        \n",
       "  <svg xmlns=\"http://www.w3.org/2000/svg\" height=\"24px\"viewBox=\"0 0 24 24\"\n",
       "       width=\"24px\">\n",
       "    <path d=\"M0 0h24v24H0V0z\" fill=\"none\"/>\n",
       "    <path d=\"M18.56 5.44l.94 2.06.94-2.06 2.06-.94-2.06-.94-.94-2.06-.94 2.06-2.06.94zm-11 1L8.5 8.5l.94-2.06 2.06-.94-2.06-.94L8.5 2.5l-.94 2.06-2.06.94zm10 10l.94 2.06.94-2.06 2.06-.94-2.06-.94-.94-2.06-.94 2.06-2.06.94z\"/><path d=\"M17.41 7.96l-1.37-1.37c-.4-.4-.92-.59-1.43-.59-.52 0-1.04.2-1.43.59L10.3 9.45l-7.72 7.72c-.78.78-.78 2.05 0 2.83L4 21.41c.39.39.9.59 1.41.59.51 0 1.02-.2 1.41-.59l7.78-7.78 2.81-2.81c.8-.78.8-2.07 0-2.86zM5.41 20L4 18.59l7.72-7.72 1.47 1.35L5.41 20z\"/>\n",
       "  </svg>\n",
       "      </button>\n",
       "      \n",
       "  <style>\n",
       "    .colab-df-container {\n",
       "      display:flex;\n",
       "      flex-wrap:wrap;\n",
       "      gap: 12px;\n",
       "    }\n",
       "\n",
       "    .colab-df-convert {\n",
       "      background-color: #E8F0FE;\n",
       "      border: none;\n",
       "      border-radius: 50%;\n",
       "      cursor: pointer;\n",
       "      display: none;\n",
       "      fill: #1967D2;\n",
       "      height: 32px;\n",
       "      padding: 0 0 0 0;\n",
       "      width: 32px;\n",
       "    }\n",
       "\n",
       "    .colab-df-convert:hover {\n",
       "      background-color: #E2EBFA;\n",
       "      box-shadow: 0px 1px 2px rgba(60, 64, 67, 0.3), 0px 1px 3px 1px rgba(60, 64, 67, 0.15);\n",
       "      fill: #174EA6;\n",
       "    }\n",
       "\n",
       "    [theme=dark] .colab-df-convert {\n",
       "      background-color: #3B4455;\n",
       "      fill: #D2E3FC;\n",
       "    }\n",
       "\n",
       "    [theme=dark] .colab-df-convert:hover {\n",
       "      background-color: #434B5C;\n",
       "      box-shadow: 0px 1px 3px 1px rgba(0, 0, 0, 0.15);\n",
       "      filter: drop-shadow(0px 1px 2px rgba(0, 0, 0, 0.3));\n",
       "      fill: #FFFFFF;\n",
       "    }\n",
       "  </style>\n",
       "\n",
       "      <script>\n",
       "        const buttonEl =\n",
       "          document.querySelector('#df-2169e1eb-8f9e-41bb-96aa-f66f9cd93480 button.colab-df-convert');\n",
       "        buttonEl.style.display =\n",
       "          google.colab.kernel.accessAllowed ? 'block' : 'none';\n",
       "\n",
       "        async function convertToInteractive(key) {\n",
       "          const element = document.querySelector('#df-2169e1eb-8f9e-41bb-96aa-f66f9cd93480');\n",
       "          const dataTable =\n",
       "            await google.colab.kernel.invokeFunction('convertToInteractive',\n",
       "                                                     [key], {});\n",
       "          if (!dataTable) return;\n",
       "\n",
       "          const docLinkHtml = 'Like what you see? Visit the ' +\n",
       "            '<a target=\"_blank\" href=https://colab.research.google.com/notebooks/data_table.ipynb>data table notebook</a>'\n",
       "            + ' to learn more about interactive tables.';\n",
       "          element.innerHTML = '';\n",
       "          dataTable['output_type'] = 'display_data';\n",
       "          await google.colab.output.renderOutput(dataTable, element);\n",
       "          const docLink = document.createElement('div');\n",
       "          docLink.innerHTML = docLinkHtml;\n",
       "          element.appendChild(docLink);\n",
       "        }\n",
       "      </script>\n",
       "    </div>\n",
       "  </div>\n",
       "  "
      ],
      "text/plain": [
       "               id                                               text category\n",
       "0      tam_test_1  தலைவா STR இதுக்குதான் கதுருந்தோம் மாஸ் தலைவா t...      NOT\n",
       "1      tam_test_2  நாயுடு மக்கள் சார்பாக திரைப்படம் வெற்றி பெற வா...      NOT\n",
       "2      tam_test_3                     தில்லானா முயற்சி  தஞ்சை கோனார்      NOT\n",
       "3      tam_test_4  திரௌபதியின் துகிலுறித்த போது காத்த கண்ணனின் யா...      NOT\n",
       "4      tam_test_5  நான் தியேட்டர்லே படம் பார்த்து 35 வருஷமாச்சு! ...      NOT\n",
       "..            ...                                                ...      ...\n",
       "649  tam_test_650  நான் தலைவரோட ரசிகன்னு சொல்லிடு தலைவரை ஒடசல் போ...      NOT\n",
       "650  tam_test_651  வாழ்த்துக்கள்,உண்மை கதை உலகத்துக்கு காட்டிய மோ...      NOT\n",
       "651  tam_test_652  குருமா and பா..குஞ்சித் பயலுக கதர்ரது இன்னும் ...      NOT\n",
       "652  tam_test_653  வெள்ளார்கள் சார்பாக படம் வெற்றி பெற வாழ்த்துக்...      OFF\n",
       "653  tam_test_654  சமீபகாலமாக கால்பந்தாட்டத்தை மையப்படுத்தி தமிழ்...      NOT\n",
       "\n",
       "[654 rows x 3 columns]"
      ]
     },
     "execution_count": 55,
     "metadata": {},
     "output_type": "execute_result"
    }
   ],
   "source": [
    "# Stochastic Gradient Descent\n",
    "\n",
    "predictions = le.inverse_transform(sgd_test_pred)\n",
    "\n",
    "dataframe_test_sgd = {\n",
    "    'id': dataframe_test['id'],\n",
    "    'text': dataframe_test['text'],\n",
    "    'category': predictions\n",
    "}\n",
    "\n",
    "dataframe_test_sgd = pd.DataFrame(dataframe_test_sgd)\n",
    "dataframe_test_sgd.to_csv(\"Output/TF-IDF-No-Stem-StochasticGradientDescent.csv\")\n",
    "dataframe_test_sgd"
   ]
  },
  {
   "cell_type": "code",
   "execution_count": null,
   "metadata": {
    "colab": {
     "base_uri": "https://localhost:8080/",
     "height": 423
    },
    "id": "75-QmQb-SU2F",
    "outputId": "db4e05df-f9fb-42f2-b7e5-cb2ece129886"
   },
   "outputs": [
    {
     "data": {
      "text/html": [
       "\n",
       "  <div id=\"df-feb62565-2277-4e76-9373-7c84cf9f0971\">\n",
       "    <div class=\"colab-df-container\">\n",
       "      <div>\n",
       "<style scoped>\n",
       "    .dataframe tbody tr th:only-of-type {\n",
       "        vertical-align: middle;\n",
       "    }\n",
       "\n",
       "    .dataframe tbody tr th {\n",
       "        vertical-align: top;\n",
       "    }\n",
       "\n",
       "    .dataframe thead th {\n",
       "        text-align: right;\n",
       "    }\n",
       "</style>\n",
       "<table border=\"1\" class=\"dataframe\">\n",
       "  <thead>\n",
       "    <tr style=\"text-align: right;\">\n",
       "      <th></th>\n",
       "      <th>id</th>\n",
       "      <th>text</th>\n",
       "      <th>category</th>\n",
       "    </tr>\n",
       "  </thead>\n",
       "  <tbody>\n",
       "    <tr>\n",
       "      <th>0</th>\n",
       "      <td>tam_test_1</td>\n",
       "      <td>தலைவா STR இதுக்குதான் கதுருந்தோம் மாஸ் தலைவா t...</td>\n",
       "      <td>NOT</td>\n",
       "    </tr>\n",
       "    <tr>\n",
       "      <th>1</th>\n",
       "      <td>tam_test_2</td>\n",
       "      <td>நாயுடு மக்கள் சார்பாக திரைப்படம் வெற்றி பெற வா...</td>\n",
       "      <td>NOT</td>\n",
       "    </tr>\n",
       "    <tr>\n",
       "      <th>2</th>\n",
       "      <td>tam_test_3</td>\n",
       "      <td>தில்லானா முயற்சி  தஞ்சை கோனார்</td>\n",
       "      <td>NOT</td>\n",
       "    </tr>\n",
       "    <tr>\n",
       "      <th>3</th>\n",
       "      <td>tam_test_4</td>\n",
       "      <td>திரௌபதியின் துகிலுறித்த போது காத்த கண்ணனின் யா...</td>\n",
       "      <td>NOT</td>\n",
       "    </tr>\n",
       "    <tr>\n",
       "      <th>4</th>\n",
       "      <td>tam_test_5</td>\n",
       "      <td>நான் தியேட்டர்லே படம் பார்த்து 35 வருஷமாச்சு! ...</td>\n",
       "      <td>NOT</td>\n",
       "    </tr>\n",
       "    <tr>\n",
       "      <th>...</th>\n",
       "      <td>...</td>\n",
       "      <td>...</td>\n",
       "      <td>...</td>\n",
       "    </tr>\n",
       "    <tr>\n",
       "      <th>649</th>\n",
       "      <td>tam_test_650</td>\n",
       "      <td>நான் தலைவரோட ரசிகன்னு சொல்லிடு தலைவரை ஒடசல் போ...</td>\n",
       "      <td>NOT</td>\n",
       "    </tr>\n",
       "    <tr>\n",
       "      <th>650</th>\n",
       "      <td>tam_test_651</td>\n",
       "      <td>வாழ்த்துக்கள்,உண்மை கதை உலகத்துக்கு காட்டிய மோ...</td>\n",
       "      <td>NOT</td>\n",
       "    </tr>\n",
       "    <tr>\n",
       "      <th>651</th>\n",
       "      <td>tam_test_652</td>\n",
       "      <td>குருமா and பா..குஞ்சித் பயலுக கதர்ரது இன்னும் ...</td>\n",
       "      <td>NOT</td>\n",
       "    </tr>\n",
       "    <tr>\n",
       "      <th>652</th>\n",
       "      <td>tam_test_653</td>\n",
       "      <td>வெள்ளார்கள் சார்பாக படம் வெற்றி பெற வாழ்த்துக்...</td>\n",
       "      <td>NOT</td>\n",
       "    </tr>\n",
       "    <tr>\n",
       "      <th>653</th>\n",
       "      <td>tam_test_654</td>\n",
       "      <td>சமீபகாலமாக கால்பந்தாட்டத்தை மையப்படுத்தி தமிழ்...</td>\n",
       "      <td>NOT</td>\n",
       "    </tr>\n",
       "  </tbody>\n",
       "</table>\n",
       "<p>654 rows × 3 columns</p>\n",
       "</div>\n",
       "      <button class=\"colab-df-convert\" onclick=\"convertToInteractive('df-feb62565-2277-4e76-9373-7c84cf9f0971')\"\n",
       "              title=\"Convert this dataframe to an interactive table.\"\n",
       "              style=\"display:none;\">\n",
       "        \n",
       "  <svg xmlns=\"http://www.w3.org/2000/svg\" height=\"24px\"viewBox=\"0 0 24 24\"\n",
       "       width=\"24px\">\n",
       "    <path d=\"M0 0h24v24H0V0z\" fill=\"none\"/>\n",
       "    <path d=\"M18.56 5.44l.94 2.06.94-2.06 2.06-.94-2.06-.94-.94-2.06-.94 2.06-2.06.94zm-11 1L8.5 8.5l.94-2.06 2.06-.94-2.06-.94L8.5 2.5l-.94 2.06-2.06.94zm10 10l.94 2.06.94-2.06 2.06-.94-2.06-.94-.94-2.06-.94 2.06-2.06.94z\"/><path d=\"M17.41 7.96l-1.37-1.37c-.4-.4-.92-.59-1.43-.59-.52 0-1.04.2-1.43.59L10.3 9.45l-7.72 7.72c-.78.78-.78 2.05 0 2.83L4 21.41c.39.39.9.59 1.41.59.51 0 1.02-.2 1.41-.59l7.78-7.78 2.81-2.81c.8-.78.8-2.07 0-2.86zM5.41 20L4 18.59l7.72-7.72 1.47 1.35L5.41 20z\"/>\n",
       "  </svg>\n",
       "      </button>\n",
       "      \n",
       "  <style>\n",
       "    .colab-df-container {\n",
       "      display:flex;\n",
       "      flex-wrap:wrap;\n",
       "      gap: 12px;\n",
       "    }\n",
       "\n",
       "    .colab-df-convert {\n",
       "      background-color: #E8F0FE;\n",
       "      border: none;\n",
       "      border-radius: 50%;\n",
       "      cursor: pointer;\n",
       "      display: none;\n",
       "      fill: #1967D2;\n",
       "      height: 32px;\n",
       "      padding: 0 0 0 0;\n",
       "      width: 32px;\n",
       "    }\n",
       "\n",
       "    .colab-df-convert:hover {\n",
       "      background-color: #E2EBFA;\n",
       "      box-shadow: 0px 1px 2px rgba(60, 64, 67, 0.3), 0px 1px 3px 1px rgba(60, 64, 67, 0.15);\n",
       "      fill: #174EA6;\n",
       "    }\n",
       "\n",
       "    [theme=dark] .colab-df-convert {\n",
       "      background-color: #3B4455;\n",
       "      fill: #D2E3FC;\n",
       "    }\n",
       "\n",
       "    [theme=dark] .colab-df-convert:hover {\n",
       "      background-color: #434B5C;\n",
       "      box-shadow: 0px 1px 3px 1px rgba(0, 0, 0, 0.15);\n",
       "      filter: drop-shadow(0px 1px 2px rgba(0, 0, 0, 0.3));\n",
       "      fill: #FFFFFF;\n",
       "    }\n",
       "  </style>\n",
       "\n",
       "      <script>\n",
       "        const buttonEl =\n",
       "          document.querySelector('#df-feb62565-2277-4e76-9373-7c84cf9f0971 button.colab-df-convert');\n",
       "        buttonEl.style.display =\n",
       "          google.colab.kernel.accessAllowed ? 'block' : 'none';\n",
       "\n",
       "        async function convertToInteractive(key) {\n",
       "          const element = document.querySelector('#df-feb62565-2277-4e76-9373-7c84cf9f0971');\n",
       "          const dataTable =\n",
       "            await google.colab.kernel.invokeFunction('convertToInteractive',\n",
       "                                                     [key], {});\n",
       "          if (!dataTable) return;\n",
       "\n",
       "          const docLinkHtml = 'Like what you see? Visit the ' +\n",
       "            '<a target=\"_blank\" href=https://colab.research.google.com/notebooks/data_table.ipynb>data table notebook</a>'\n",
       "            + ' to learn more about interactive tables.';\n",
       "          element.innerHTML = '';\n",
       "          dataTable['output_type'] = 'display_data';\n",
       "          await google.colab.output.renderOutput(dataTable, element);\n",
       "          const docLink = document.createElement('div');\n",
       "          docLink.innerHTML = docLinkHtml;\n",
       "          element.appendChild(docLink);\n",
       "        }\n",
       "      </script>\n",
       "    </div>\n",
       "  </div>\n",
       "  "
      ],
      "text/plain": [
       "               id                                               text category\n",
       "0      tam_test_1  தலைவா STR இதுக்குதான் கதுருந்தோம் மாஸ் தலைவா t...      NOT\n",
       "1      tam_test_2  நாயுடு மக்கள் சார்பாக திரைப்படம் வெற்றி பெற வா...      NOT\n",
       "2      tam_test_3                     தில்லானா முயற்சி  தஞ்சை கோனார்      NOT\n",
       "3      tam_test_4  திரௌபதியின் துகிலுறித்த போது காத்த கண்ணனின் யா...      NOT\n",
       "4      tam_test_5  நான் தியேட்டர்லே படம் பார்த்து 35 வருஷமாச்சு! ...      NOT\n",
       "..            ...                                                ...      ...\n",
       "649  tam_test_650  நான் தலைவரோட ரசிகன்னு சொல்லிடு தலைவரை ஒடசல் போ...      NOT\n",
       "650  tam_test_651  வாழ்த்துக்கள்,உண்மை கதை உலகத்துக்கு காட்டிய மோ...      NOT\n",
       "651  tam_test_652  குருமா and பா..குஞ்சித் பயலுக கதர்ரது இன்னும் ...      NOT\n",
       "652  tam_test_653  வெள்ளார்கள் சார்பாக படம் வெற்றி பெற வாழ்த்துக்...      NOT\n",
       "653  tam_test_654  சமீபகாலமாக கால்பந்தாட்டத்தை மையப்படுத்தி தமிழ்...      NOT\n",
       "\n",
       "[654 rows x 3 columns]"
      ]
     },
     "execution_count": 56,
     "metadata": {},
     "output_type": "execute_result"
    }
   ],
   "source": [
    "# K Nearest Neighbours\n",
    "\n",
    "predictions = le.inverse_transform(knn_test_pred)\n",
    "\n",
    "dataframe_test_knn = {\n",
    "    'id': dataframe_test['id'],\n",
    "    'text': dataframe_test['text'],\n",
    "    'category': predictions\n",
    "}\n",
    "\n",
    "dataframe_test_knn = pd.DataFrame(dataframe_test_knn)\n",
    "dataframe_test_knn.to_csv(\"Output/TF-IDF-No-Stem-KNearestNeighbours.csv\")\n",
    "dataframe_test_knn"
   ]
  },
  {
   "cell_type": "code",
   "execution_count": null,
   "metadata": {
    "colab": {
     "base_uri": "https://localhost:8080/",
     "height": 423
    },
    "id": "kkCcFt-bSnA0",
    "outputId": "04749b63-e344-4172-cfa6-44f5057e4aeb"
   },
   "outputs": [
    {
     "data": {
      "text/html": [
       "\n",
       "  <div id=\"df-8c673db5-5866-4651-bda6-cefd047fb339\">\n",
       "    <div class=\"colab-df-container\">\n",
       "      <div>\n",
       "<style scoped>\n",
       "    .dataframe tbody tr th:only-of-type {\n",
       "        vertical-align: middle;\n",
       "    }\n",
       "\n",
       "    .dataframe tbody tr th {\n",
       "        vertical-align: top;\n",
       "    }\n",
       "\n",
       "    .dataframe thead th {\n",
       "        text-align: right;\n",
       "    }\n",
       "</style>\n",
       "<table border=\"1\" class=\"dataframe\">\n",
       "  <thead>\n",
       "    <tr style=\"text-align: right;\">\n",
       "      <th></th>\n",
       "      <th>id</th>\n",
       "      <th>text</th>\n",
       "      <th>category</th>\n",
       "    </tr>\n",
       "  </thead>\n",
       "  <tbody>\n",
       "    <tr>\n",
       "      <th>0</th>\n",
       "      <td>tam_test_1</td>\n",
       "      <td>தலைவா STR இதுக்குதான் கதுருந்தோம் மாஸ் தலைவா t...</td>\n",
       "      <td>NOT</td>\n",
       "    </tr>\n",
       "    <tr>\n",
       "      <th>1</th>\n",
       "      <td>tam_test_2</td>\n",
       "      <td>நாயுடு மக்கள் சார்பாக திரைப்படம் வெற்றி பெற வா...</td>\n",
       "      <td>NOT</td>\n",
       "    </tr>\n",
       "    <tr>\n",
       "      <th>2</th>\n",
       "      <td>tam_test_3</td>\n",
       "      <td>தில்லானா முயற்சி  தஞ்சை கோனார்</td>\n",
       "      <td>NOT</td>\n",
       "    </tr>\n",
       "    <tr>\n",
       "      <th>3</th>\n",
       "      <td>tam_test_4</td>\n",
       "      <td>திரௌபதியின் துகிலுறித்த போது காத்த கண்ணனின் யா...</td>\n",
       "      <td>NOT</td>\n",
       "    </tr>\n",
       "    <tr>\n",
       "      <th>4</th>\n",
       "      <td>tam_test_5</td>\n",
       "      <td>நான் தியேட்டர்லே படம் பார்த்து 35 வருஷமாச்சு! ...</td>\n",
       "      <td>NOT</td>\n",
       "    </tr>\n",
       "    <tr>\n",
       "      <th>...</th>\n",
       "      <td>...</td>\n",
       "      <td>...</td>\n",
       "      <td>...</td>\n",
       "    </tr>\n",
       "    <tr>\n",
       "      <th>649</th>\n",
       "      <td>tam_test_650</td>\n",
       "      <td>நான் தலைவரோட ரசிகன்னு சொல்லிடு தலைவரை ஒடசல் போ...</td>\n",
       "      <td>NOT</td>\n",
       "    </tr>\n",
       "    <tr>\n",
       "      <th>650</th>\n",
       "      <td>tam_test_651</td>\n",
       "      <td>வாழ்த்துக்கள்,உண்மை கதை உலகத்துக்கு காட்டிய மோ...</td>\n",
       "      <td>NOT</td>\n",
       "    </tr>\n",
       "    <tr>\n",
       "      <th>651</th>\n",
       "      <td>tam_test_652</td>\n",
       "      <td>குருமா and பா..குஞ்சித் பயலுக கதர்ரது இன்னும் ...</td>\n",
       "      <td>NOT</td>\n",
       "    </tr>\n",
       "    <tr>\n",
       "      <th>652</th>\n",
       "      <td>tam_test_653</td>\n",
       "      <td>வெள்ளார்கள் சார்பாக படம் வெற்றி பெற வாழ்த்துக்...</td>\n",
       "      <td>NOT</td>\n",
       "    </tr>\n",
       "    <tr>\n",
       "      <th>653</th>\n",
       "      <td>tam_test_654</td>\n",
       "      <td>சமீபகாலமாக கால்பந்தாட்டத்தை மையப்படுத்தி தமிழ்...</td>\n",
       "      <td>NOT</td>\n",
       "    </tr>\n",
       "  </tbody>\n",
       "</table>\n",
       "<p>654 rows × 3 columns</p>\n",
       "</div>\n",
       "      <button class=\"colab-df-convert\" onclick=\"convertToInteractive('df-8c673db5-5866-4651-bda6-cefd047fb339')\"\n",
       "              title=\"Convert this dataframe to an interactive table.\"\n",
       "              style=\"display:none;\">\n",
       "        \n",
       "  <svg xmlns=\"http://www.w3.org/2000/svg\" height=\"24px\"viewBox=\"0 0 24 24\"\n",
       "       width=\"24px\">\n",
       "    <path d=\"M0 0h24v24H0V0z\" fill=\"none\"/>\n",
       "    <path d=\"M18.56 5.44l.94 2.06.94-2.06 2.06-.94-2.06-.94-.94-2.06-.94 2.06-2.06.94zm-11 1L8.5 8.5l.94-2.06 2.06-.94-2.06-.94L8.5 2.5l-.94 2.06-2.06.94zm10 10l.94 2.06.94-2.06 2.06-.94-2.06-.94-.94-2.06-.94 2.06-2.06.94z\"/><path d=\"M17.41 7.96l-1.37-1.37c-.4-.4-.92-.59-1.43-.59-.52 0-1.04.2-1.43.59L10.3 9.45l-7.72 7.72c-.78.78-.78 2.05 0 2.83L4 21.41c.39.39.9.59 1.41.59.51 0 1.02-.2 1.41-.59l7.78-7.78 2.81-2.81c.8-.78.8-2.07 0-2.86zM5.41 20L4 18.59l7.72-7.72 1.47 1.35L5.41 20z\"/>\n",
       "  </svg>\n",
       "      </button>\n",
       "      \n",
       "  <style>\n",
       "    .colab-df-container {\n",
       "      display:flex;\n",
       "      flex-wrap:wrap;\n",
       "      gap: 12px;\n",
       "    }\n",
       "\n",
       "    .colab-df-convert {\n",
       "      background-color: #E8F0FE;\n",
       "      border: none;\n",
       "      border-radius: 50%;\n",
       "      cursor: pointer;\n",
       "      display: none;\n",
       "      fill: #1967D2;\n",
       "      height: 32px;\n",
       "      padding: 0 0 0 0;\n",
       "      width: 32px;\n",
       "    }\n",
       "\n",
       "    .colab-df-convert:hover {\n",
       "      background-color: #E2EBFA;\n",
       "      box-shadow: 0px 1px 2px rgba(60, 64, 67, 0.3), 0px 1px 3px 1px rgba(60, 64, 67, 0.15);\n",
       "      fill: #174EA6;\n",
       "    }\n",
       "\n",
       "    [theme=dark] .colab-df-convert {\n",
       "      background-color: #3B4455;\n",
       "      fill: #D2E3FC;\n",
       "    }\n",
       "\n",
       "    [theme=dark] .colab-df-convert:hover {\n",
       "      background-color: #434B5C;\n",
       "      box-shadow: 0px 1px 3px 1px rgba(0, 0, 0, 0.15);\n",
       "      filter: drop-shadow(0px 1px 2px rgba(0, 0, 0, 0.3));\n",
       "      fill: #FFFFFF;\n",
       "    }\n",
       "  </style>\n",
       "\n",
       "      <script>\n",
       "        const buttonEl =\n",
       "          document.querySelector('#df-8c673db5-5866-4651-bda6-cefd047fb339 button.colab-df-convert');\n",
       "        buttonEl.style.display =\n",
       "          google.colab.kernel.accessAllowed ? 'block' : 'none';\n",
       "\n",
       "        async function convertToInteractive(key) {\n",
       "          const element = document.querySelector('#df-8c673db5-5866-4651-bda6-cefd047fb339');\n",
       "          const dataTable =\n",
       "            await google.colab.kernel.invokeFunction('convertToInteractive',\n",
       "                                                     [key], {});\n",
       "          if (!dataTable) return;\n",
       "\n",
       "          const docLinkHtml = 'Like what you see? Visit the ' +\n",
       "            '<a target=\"_blank\" href=https://colab.research.google.com/notebooks/data_table.ipynb>data table notebook</a>'\n",
       "            + ' to learn more about interactive tables.';\n",
       "          element.innerHTML = '';\n",
       "          dataTable['output_type'] = 'display_data';\n",
       "          await google.colab.output.renderOutput(dataTable, element);\n",
       "          const docLink = document.createElement('div');\n",
       "          docLink.innerHTML = docLinkHtml;\n",
       "          element.appendChild(docLink);\n",
       "        }\n",
       "      </script>\n",
       "    </div>\n",
       "  </div>\n",
       "  "
      ],
      "text/plain": [
       "               id                                               text category\n",
       "0      tam_test_1  தலைவா STR இதுக்குதான் கதுருந்தோம் மாஸ் தலைவா t...      NOT\n",
       "1      tam_test_2  நாயுடு மக்கள் சார்பாக திரைப்படம் வெற்றி பெற வா...      NOT\n",
       "2      tam_test_3                     தில்லானா முயற்சி  தஞ்சை கோனார்      NOT\n",
       "3      tam_test_4  திரௌபதியின் துகிலுறித்த போது காத்த கண்ணனின் யா...      NOT\n",
       "4      tam_test_5  நான் தியேட்டர்லே படம் பார்த்து 35 வருஷமாச்சு! ...      NOT\n",
       "..            ...                                                ...      ...\n",
       "649  tam_test_650  நான் தலைவரோட ரசிகன்னு சொல்லிடு தலைவரை ஒடசல் போ...      NOT\n",
       "650  tam_test_651  வாழ்த்துக்கள்,உண்மை கதை உலகத்துக்கு காட்டிய மோ...      NOT\n",
       "651  tam_test_652  குருமா and பா..குஞ்சித் பயலுக கதர்ரது இன்னும் ...      NOT\n",
       "652  tam_test_653  வெள்ளார்கள் சார்பாக படம் வெற்றி பெற வாழ்த்துக்...      NOT\n",
       "653  tam_test_654  சமீபகாலமாக கால்பந்தாட்டத்தை மையப்படுத்தி தமிழ்...      NOT\n",
       "\n",
       "[654 rows x 3 columns]"
      ]
     },
     "execution_count": 57,
     "metadata": {},
     "output_type": "execute_result"
    }
   ],
   "source": [
    "# Decision Tree\n",
    "\n",
    "predictions = le.inverse_transform(dt_test_pred)\n",
    "\n",
    "dataframe_test_dt = {\n",
    "    'id': dataframe_test['id'],\n",
    "    'text': dataframe_test['text'],\n",
    "    'category': predictions\n",
    "}\n",
    "\n",
    "dataframe_test_dt = pd.DataFrame(dataframe_test_dt)\n",
    "dataframe_test_dt.to_csv(\"Output/TF-IDF-No-Stem-DecisionTree.csv\")\n",
    "dataframe_test_dt"
   ]
  },
  {
   "cell_type": "code",
   "execution_count": null,
   "metadata": {
    "colab": {
     "base_uri": "https://localhost:8080/",
     "height": 423
    },
    "id": "UAFiIVJ5UcwF",
    "outputId": "f8c52d7a-6495-4e41-b61b-bfebf7124069"
   },
   "outputs": [
    {
     "data": {
      "text/html": [
       "\n",
       "  <div id=\"df-67bd75de-8662-4d0e-bfe3-643744d5739a\">\n",
       "    <div class=\"colab-df-container\">\n",
       "      <div>\n",
       "<style scoped>\n",
       "    .dataframe tbody tr th:only-of-type {\n",
       "        vertical-align: middle;\n",
       "    }\n",
       "\n",
       "    .dataframe tbody tr th {\n",
       "        vertical-align: top;\n",
       "    }\n",
       "\n",
       "    .dataframe thead th {\n",
       "        text-align: right;\n",
       "    }\n",
       "</style>\n",
       "<table border=\"1\" class=\"dataframe\">\n",
       "  <thead>\n",
       "    <tr style=\"text-align: right;\">\n",
       "      <th></th>\n",
       "      <th>id</th>\n",
       "      <th>text</th>\n",
       "      <th>category</th>\n",
       "    </tr>\n",
       "  </thead>\n",
       "  <tbody>\n",
       "    <tr>\n",
       "      <th>0</th>\n",
       "      <td>tam_test_1</td>\n",
       "      <td>தலைவா STR இதுக்குதான் கதுருந்தோம் மாஸ் தலைவா t...</td>\n",
       "      <td>NOT</td>\n",
       "    </tr>\n",
       "    <tr>\n",
       "      <th>1</th>\n",
       "      <td>tam_test_2</td>\n",
       "      <td>நாயுடு மக்கள் சார்பாக திரைப்படம் வெற்றி பெற வா...</td>\n",
       "      <td>NOT</td>\n",
       "    </tr>\n",
       "    <tr>\n",
       "      <th>2</th>\n",
       "      <td>tam_test_3</td>\n",
       "      <td>தில்லானா முயற்சி  தஞ்சை கோனார்</td>\n",
       "      <td>NOT</td>\n",
       "    </tr>\n",
       "    <tr>\n",
       "      <th>3</th>\n",
       "      <td>tam_test_4</td>\n",
       "      <td>திரௌபதியின் துகிலுறித்த போது காத்த கண்ணனின் யா...</td>\n",
       "      <td>NOT</td>\n",
       "    </tr>\n",
       "    <tr>\n",
       "      <th>4</th>\n",
       "      <td>tam_test_5</td>\n",
       "      <td>நான் தியேட்டர்லே படம் பார்த்து 35 வருஷமாச்சு! ...</td>\n",
       "      <td>NOT</td>\n",
       "    </tr>\n",
       "    <tr>\n",
       "      <th>...</th>\n",
       "      <td>...</td>\n",
       "      <td>...</td>\n",
       "      <td>...</td>\n",
       "    </tr>\n",
       "    <tr>\n",
       "      <th>649</th>\n",
       "      <td>tam_test_650</td>\n",
       "      <td>நான் தலைவரோட ரசிகன்னு சொல்லிடு தலைவரை ஒடசல் போ...</td>\n",
       "      <td>NOT</td>\n",
       "    </tr>\n",
       "    <tr>\n",
       "      <th>650</th>\n",
       "      <td>tam_test_651</td>\n",
       "      <td>வாழ்த்துக்கள்,உண்மை கதை உலகத்துக்கு காட்டிய மோ...</td>\n",
       "      <td>NOT</td>\n",
       "    </tr>\n",
       "    <tr>\n",
       "      <th>651</th>\n",
       "      <td>tam_test_652</td>\n",
       "      <td>குருமா and பா..குஞ்சித் பயலுக கதர்ரது இன்னும் ...</td>\n",
       "      <td>NOT</td>\n",
       "    </tr>\n",
       "    <tr>\n",
       "      <th>652</th>\n",
       "      <td>tam_test_653</td>\n",
       "      <td>வெள்ளார்கள் சார்பாக படம் வெற்றி பெற வாழ்த்துக்...</td>\n",
       "      <td>NOT</td>\n",
       "    </tr>\n",
       "    <tr>\n",
       "      <th>653</th>\n",
       "      <td>tam_test_654</td>\n",
       "      <td>சமீபகாலமாக கால்பந்தாட்டத்தை மையப்படுத்தி தமிழ்...</td>\n",
       "      <td>NOT</td>\n",
       "    </tr>\n",
       "  </tbody>\n",
       "</table>\n",
       "<p>654 rows × 3 columns</p>\n",
       "</div>\n",
       "      <button class=\"colab-df-convert\" onclick=\"convertToInteractive('df-67bd75de-8662-4d0e-bfe3-643744d5739a')\"\n",
       "              title=\"Convert this dataframe to an interactive table.\"\n",
       "              style=\"display:none;\">\n",
       "        \n",
       "  <svg xmlns=\"http://www.w3.org/2000/svg\" height=\"24px\"viewBox=\"0 0 24 24\"\n",
       "       width=\"24px\">\n",
       "    <path d=\"M0 0h24v24H0V0z\" fill=\"none\"/>\n",
       "    <path d=\"M18.56 5.44l.94 2.06.94-2.06 2.06-.94-2.06-.94-.94-2.06-.94 2.06-2.06.94zm-11 1L8.5 8.5l.94-2.06 2.06-.94-2.06-.94L8.5 2.5l-.94 2.06-2.06.94zm10 10l.94 2.06.94-2.06 2.06-.94-2.06-.94-.94-2.06-.94 2.06-2.06.94z\"/><path d=\"M17.41 7.96l-1.37-1.37c-.4-.4-.92-.59-1.43-.59-.52 0-1.04.2-1.43.59L10.3 9.45l-7.72 7.72c-.78.78-.78 2.05 0 2.83L4 21.41c.39.39.9.59 1.41.59.51 0 1.02-.2 1.41-.59l7.78-7.78 2.81-2.81c.8-.78.8-2.07 0-2.86zM5.41 20L4 18.59l7.72-7.72 1.47 1.35L5.41 20z\"/>\n",
       "  </svg>\n",
       "      </button>\n",
       "      \n",
       "  <style>\n",
       "    .colab-df-container {\n",
       "      display:flex;\n",
       "      flex-wrap:wrap;\n",
       "      gap: 12px;\n",
       "    }\n",
       "\n",
       "    .colab-df-convert {\n",
       "      background-color: #E8F0FE;\n",
       "      border: none;\n",
       "      border-radius: 50%;\n",
       "      cursor: pointer;\n",
       "      display: none;\n",
       "      fill: #1967D2;\n",
       "      height: 32px;\n",
       "      padding: 0 0 0 0;\n",
       "      width: 32px;\n",
       "    }\n",
       "\n",
       "    .colab-df-convert:hover {\n",
       "      background-color: #E2EBFA;\n",
       "      box-shadow: 0px 1px 2px rgba(60, 64, 67, 0.3), 0px 1px 3px 1px rgba(60, 64, 67, 0.15);\n",
       "      fill: #174EA6;\n",
       "    }\n",
       "\n",
       "    [theme=dark] .colab-df-convert {\n",
       "      background-color: #3B4455;\n",
       "      fill: #D2E3FC;\n",
       "    }\n",
       "\n",
       "    [theme=dark] .colab-df-convert:hover {\n",
       "      background-color: #434B5C;\n",
       "      box-shadow: 0px 1px 3px 1px rgba(0, 0, 0, 0.15);\n",
       "      filter: drop-shadow(0px 1px 2px rgba(0, 0, 0, 0.3));\n",
       "      fill: #FFFFFF;\n",
       "    }\n",
       "  </style>\n",
       "\n",
       "      <script>\n",
       "        const buttonEl =\n",
       "          document.querySelector('#df-67bd75de-8662-4d0e-bfe3-643744d5739a button.colab-df-convert');\n",
       "        buttonEl.style.display =\n",
       "          google.colab.kernel.accessAllowed ? 'block' : 'none';\n",
       "\n",
       "        async function convertToInteractive(key) {\n",
       "          const element = document.querySelector('#df-67bd75de-8662-4d0e-bfe3-643744d5739a');\n",
       "          const dataTable =\n",
       "            await google.colab.kernel.invokeFunction('convertToInteractive',\n",
       "                                                     [key], {});\n",
       "          if (!dataTable) return;\n",
       "\n",
       "          const docLinkHtml = 'Like what you see? Visit the ' +\n",
       "            '<a target=\"_blank\" href=https://colab.research.google.com/notebooks/data_table.ipynb>data table notebook</a>'\n",
       "            + ' to learn more about interactive tables.';\n",
       "          element.innerHTML = '';\n",
       "          dataTable['output_type'] = 'display_data';\n",
       "          await google.colab.output.renderOutput(dataTable, element);\n",
       "          const docLink = document.createElement('div');\n",
       "          docLink.innerHTML = docLinkHtml;\n",
       "          element.appendChild(docLink);\n",
       "        }\n",
       "      </script>\n",
       "    </div>\n",
       "  </div>\n",
       "  "
      ],
      "text/plain": [
       "               id                                               text category\n",
       "0      tam_test_1  தலைவா STR இதுக்குதான் கதுருந்தோம் மாஸ் தலைவா t...      NOT\n",
       "1      tam_test_2  நாயுடு மக்கள் சார்பாக திரைப்படம் வெற்றி பெற வா...      NOT\n",
       "2      tam_test_3                     தில்லானா முயற்சி  தஞ்சை கோனார்      NOT\n",
       "3      tam_test_4  திரௌபதியின் துகிலுறித்த போது காத்த கண்ணனின் யா...      NOT\n",
       "4      tam_test_5  நான் தியேட்டர்லே படம் பார்த்து 35 வருஷமாச்சு! ...      NOT\n",
       "..            ...                                                ...      ...\n",
       "649  tam_test_650  நான் தலைவரோட ரசிகன்னு சொல்லிடு தலைவரை ஒடசல் போ...      NOT\n",
       "650  tam_test_651  வாழ்த்துக்கள்,உண்மை கதை உலகத்துக்கு காட்டிய மோ...      NOT\n",
       "651  tam_test_652  குருமா and பா..குஞ்சித் பயலுக கதர்ரது இன்னும் ...      NOT\n",
       "652  tam_test_653  வெள்ளார்கள் சார்பாக படம் வெற்றி பெற வாழ்த்துக்...      NOT\n",
       "653  tam_test_654  சமீபகாலமாக கால்பந்தாட்டத்தை மையப்படுத்தி தமிழ்...      NOT\n",
       "\n",
       "[654 rows x 3 columns]"
      ]
     },
     "execution_count": 58,
     "metadata": {},
     "output_type": "execute_result"
    }
   ],
   "source": [
    "# Random Forest\n",
    "\n",
    "predictions = le.inverse_transform(rf_test_pred)\n",
    "\n",
    "dataframe_test_rf = {\n",
    "    'id': dataframe_test['id'],\n",
    "    'text': dataframe_test['text'],\n",
    "    'category': predictions\n",
    "}\n",
    "\n",
    "dataframe_test_rf = pd.DataFrame(dataframe_test_rf)\n",
    "dataframe_test_rf.to_csv(\"Output/TF-IDF-No-Stem-RandomForest.csv\")\n",
    "dataframe_test_rf"
   ]
  },
  {
   "cell_type": "code",
   "execution_count": null,
   "metadata": {
    "colab": {
     "base_uri": "https://localhost:8080/",
     "height": 423
    },
    "id": "rGHHRWU2UkIf",
    "outputId": "d99d7e6d-60a8-4de1-eea4-fd99b67d5067"
   },
   "outputs": [
    {
     "data": {
      "text/html": [
       "\n",
       "  <div id=\"df-1f00c934-1b3f-4d63-82f9-0a3f67245c05\">\n",
       "    <div class=\"colab-df-container\">\n",
       "      <div>\n",
       "<style scoped>\n",
       "    .dataframe tbody tr th:only-of-type {\n",
       "        vertical-align: middle;\n",
       "    }\n",
       "\n",
       "    .dataframe tbody tr th {\n",
       "        vertical-align: top;\n",
       "    }\n",
       "\n",
       "    .dataframe thead th {\n",
       "        text-align: right;\n",
       "    }\n",
       "</style>\n",
       "<table border=\"1\" class=\"dataframe\">\n",
       "  <thead>\n",
       "    <tr style=\"text-align: right;\">\n",
       "      <th></th>\n",
       "      <th>id</th>\n",
       "      <th>text</th>\n",
       "      <th>category</th>\n",
       "    </tr>\n",
       "  </thead>\n",
       "  <tbody>\n",
       "    <tr>\n",
       "      <th>0</th>\n",
       "      <td>tam_test_1</td>\n",
       "      <td>தலைவா STR இதுக்குதான் கதுருந்தோம் மாஸ் தலைவா t...</td>\n",
       "      <td>NOT</td>\n",
       "    </tr>\n",
       "    <tr>\n",
       "      <th>1</th>\n",
       "      <td>tam_test_2</td>\n",
       "      <td>நாயுடு மக்கள் சார்பாக திரைப்படம் வெற்றி பெற வா...</td>\n",
       "      <td>NOT</td>\n",
       "    </tr>\n",
       "    <tr>\n",
       "      <th>2</th>\n",
       "      <td>tam_test_3</td>\n",
       "      <td>தில்லானா முயற்சி  தஞ்சை கோனார்</td>\n",
       "      <td>NOT</td>\n",
       "    </tr>\n",
       "    <tr>\n",
       "      <th>3</th>\n",
       "      <td>tam_test_4</td>\n",
       "      <td>திரௌபதியின் துகிலுறித்த போது காத்த கண்ணனின் யா...</td>\n",
       "      <td>NOT</td>\n",
       "    </tr>\n",
       "    <tr>\n",
       "      <th>4</th>\n",
       "      <td>tam_test_5</td>\n",
       "      <td>நான் தியேட்டர்லே படம் பார்த்து 35 வருஷமாச்சு! ...</td>\n",
       "      <td>NOT</td>\n",
       "    </tr>\n",
       "    <tr>\n",
       "      <th>...</th>\n",
       "      <td>...</td>\n",
       "      <td>...</td>\n",
       "      <td>...</td>\n",
       "    </tr>\n",
       "    <tr>\n",
       "      <th>649</th>\n",
       "      <td>tam_test_650</td>\n",
       "      <td>நான் தலைவரோட ரசிகன்னு சொல்லிடு தலைவரை ஒடசல் போ...</td>\n",
       "      <td>NOT</td>\n",
       "    </tr>\n",
       "    <tr>\n",
       "      <th>650</th>\n",
       "      <td>tam_test_651</td>\n",
       "      <td>வாழ்த்துக்கள்,உண்மை கதை உலகத்துக்கு காட்டிய மோ...</td>\n",
       "      <td>NOT</td>\n",
       "    </tr>\n",
       "    <tr>\n",
       "      <th>651</th>\n",
       "      <td>tam_test_652</td>\n",
       "      <td>குருமா and பா..குஞ்சித் பயலுக கதர்ரது இன்னும் ...</td>\n",
       "      <td>NOT</td>\n",
       "    </tr>\n",
       "    <tr>\n",
       "      <th>652</th>\n",
       "      <td>tam_test_653</td>\n",
       "      <td>வெள்ளார்கள் சார்பாக படம் வெற்றி பெற வாழ்த்துக்...</td>\n",
       "      <td>NOT</td>\n",
       "    </tr>\n",
       "    <tr>\n",
       "      <th>653</th>\n",
       "      <td>tam_test_654</td>\n",
       "      <td>சமீபகாலமாக கால்பந்தாட்டத்தை மையப்படுத்தி தமிழ்...</td>\n",
       "      <td>NOT</td>\n",
       "    </tr>\n",
       "  </tbody>\n",
       "</table>\n",
       "<p>654 rows × 3 columns</p>\n",
       "</div>\n",
       "      <button class=\"colab-df-convert\" onclick=\"convertToInteractive('df-1f00c934-1b3f-4d63-82f9-0a3f67245c05')\"\n",
       "              title=\"Convert this dataframe to an interactive table.\"\n",
       "              style=\"display:none;\">\n",
       "        \n",
       "  <svg xmlns=\"http://www.w3.org/2000/svg\" height=\"24px\"viewBox=\"0 0 24 24\"\n",
       "       width=\"24px\">\n",
       "    <path d=\"M0 0h24v24H0V0z\" fill=\"none\"/>\n",
       "    <path d=\"M18.56 5.44l.94 2.06.94-2.06 2.06-.94-2.06-.94-.94-2.06-.94 2.06-2.06.94zm-11 1L8.5 8.5l.94-2.06 2.06-.94-2.06-.94L8.5 2.5l-.94 2.06-2.06.94zm10 10l.94 2.06.94-2.06 2.06-.94-2.06-.94-.94-2.06-.94 2.06-2.06.94z\"/><path d=\"M17.41 7.96l-1.37-1.37c-.4-.4-.92-.59-1.43-.59-.52 0-1.04.2-1.43.59L10.3 9.45l-7.72 7.72c-.78.78-.78 2.05 0 2.83L4 21.41c.39.39.9.59 1.41.59.51 0 1.02-.2 1.41-.59l7.78-7.78 2.81-2.81c.8-.78.8-2.07 0-2.86zM5.41 20L4 18.59l7.72-7.72 1.47 1.35L5.41 20z\"/>\n",
       "  </svg>\n",
       "      </button>\n",
       "      \n",
       "  <style>\n",
       "    .colab-df-container {\n",
       "      display:flex;\n",
       "      flex-wrap:wrap;\n",
       "      gap: 12px;\n",
       "    }\n",
       "\n",
       "    .colab-df-convert {\n",
       "      background-color: #E8F0FE;\n",
       "      border: none;\n",
       "      border-radius: 50%;\n",
       "      cursor: pointer;\n",
       "      display: none;\n",
       "      fill: #1967D2;\n",
       "      height: 32px;\n",
       "      padding: 0 0 0 0;\n",
       "      width: 32px;\n",
       "    }\n",
       "\n",
       "    .colab-df-convert:hover {\n",
       "      background-color: #E2EBFA;\n",
       "      box-shadow: 0px 1px 2px rgba(60, 64, 67, 0.3), 0px 1px 3px 1px rgba(60, 64, 67, 0.15);\n",
       "      fill: #174EA6;\n",
       "    }\n",
       "\n",
       "    [theme=dark] .colab-df-convert {\n",
       "      background-color: #3B4455;\n",
       "      fill: #D2E3FC;\n",
       "    }\n",
       "\n",
       "    [theme=dark] .colab-df-convert:hover {\n",
       "      background-color: #434B5C;\n",
       "      box-shadow: 0px 1px 3px 1px rgba(0, 0, 0, 0.15);\n",
       "      filter: drop-shadow(0px 1px 2px rgba(0, 0, 0, 0.3));\n",
       "      fill: #FFFFFF;\n",
       "    }\n",
       "  </style>\n",
       "\n",
       "      <script>\n",
       "        const buttonEl =\n",
       "          document.querySelector('#df-1f00c934-1b3f-4d63-82f9-0a3f67245c05 button.colab-df-convert');\n",
       "        buttonEl.style.display =\n",
       "          google.colab.kernel.accessAllowed ? 'block' : 'none';\n",
       "\n",
       "        async function convertToInteractive(key) {\n",
       "          const element = document.querySelector('#df-1f00c934-1b3f-4d63-82f9-0a3f67245c05');\n",
       "          const dataTable =\n",
       "            await google.colab.kernel.invokeFunction('convertToInteractive',\n",
       "                                                     [key], {});\n",
       "          if (!dataTable) return;\n",
       "\n",
       "          const docLinkHtml = 'Like what you see? Visit the ' +\n",
       "            '<a target=\"_blank\" href=https://colab.research.google.com/notebooks/data_table.ipynb>data table notebook</a>'\n",
       "            + ' to learn more about interactive tables.';\n",
       "          element.innerHTML = '';\n",
       "          dataTable['output_type'] = 'display_data';\n",
       "          await google.colab.output.renderOutput(dataTable, element);\n",
       "          const docLink = document.createElement('div');\n",
       "          docLink.innerHTML = docLinkHtml;\n",
       "          element.appendChild(docLink);\n",
       "        }\n",
       "      </script>\n",
       "    </div>\n",
       "  </div>\n",
       "  "
      ],
      "text/plain": [
       "               id                                               text category\n",
       "0      tam_test_1  தலைவா STR இதுக்குதான் கதுருந்தோம் மாஸ் தலைவா t...      NOT\n",
       "1      tam_test_2  நாயுடு மக்கள் சார்பாக திரைப்படம் வெற்றி பெற வா...      NOT\n",
       "2      tam_test_3                     தில்லானா முயற்சி  தஞ்சை கோனார்      NOT\n",
       "3      tam_test_4  திரௌபதியின் துகிலுறித்த போது காத்த கண்ணனின் யா...      NOT\n",
       "4      tam_test_5  நான் தியேட்டர்லே படம் பார்த்து 35 வருஷமாச்சு! ...      NOT\n",
       "..            ...                                                ...      ...\n",
       "649  tam_test_650  நான் தலைவரோட ரசிகன்னு சொல்லிடு தலைவரை ஒடசல் போ...      NOT\n",
       "650  tam_test_651  வாழ்த்துக்கள்,உண்மை கதை உலகத்துக்கு காட்டிய மோ...      NOT\n",
       "651  tam_test_652  குருமா and பா..குஞ்சித் பயலுக கதர்ரது இன்னும் ...      NOT\n",
       "652  tam_test_653  வெள்ளார்கள் சார்பாக படம் வெற்றி பெற வாழ்த்துக்...      NOT\n",
       "653  tam_test_654  சமீபகாலமாக கால்பந்தாட்டத்தை மையப்படுத்தி தமிழ்...      NOT\n",
       "\n",
       "[654 rows x 3 columns]"
      ]
     },
     "execution_count": 59,
     "metadata": {},
     "output_type": "execute_result"
    }
   ],
   "source": [
    "# Majority Voting\n",
    "\n",
    "predictions = le.inverse_transform(mv_test_pred)\n",
    "\n",
    "dataframe_test_mv = {\n",
    "    'id': dataframe_test['id'],\n",
    "    'text': dataframe_test['text'],\n",
    "    'category': predictions\n",
    "}\n",
    "\n",
    "dataframe_test_mv = pd.DataFrame(dataframe_test_mv)\n",
    "dataframe_test_mv.to_csv(\"Output/TF-IDF-No-Stem-MajorityVoting.csv\")\n",
    "dataframe_test_mv"
   ]
  }
 ],
 "metadata": {
  "colab": {
   "collapsed_sections": [],
   "name": "TF-IDF-Stopword-NOStem.ipynb",
   "provenance": []
  },
  "kernelspec": {
   "display_name": "Python 3 (ipykernel)",
   "language": "python",
   "name": "python3"
  },
  "language_info": {
   "codemirror_mode": {
    "name": "ipython",
    "version": 3
   },
   "file_extension": ".py",
   "mimetype": "text/x-python",
   "name": "python",
   "nbconvert_exporter": "python",
   "pygments_lexer": "ipython3",
   "version": "3.10.1"
  }
 },
 "nbformat": 4,
 "nbformat_minor": 4
}
