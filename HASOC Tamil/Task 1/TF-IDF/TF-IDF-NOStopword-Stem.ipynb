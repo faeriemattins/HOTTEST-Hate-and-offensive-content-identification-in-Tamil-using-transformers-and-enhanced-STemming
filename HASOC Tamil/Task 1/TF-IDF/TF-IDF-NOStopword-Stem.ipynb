{
 "cells": [
  {
   "cell_type": "markdown",
   "metadata": {
    "id": "tnw2XruSMUfw"
   },
   "source": [
    "## **Setting up the Environment**"
   ]
  },
  {
   "cell_type": "code",
   "execution_count": null,
   "metadata": {
    "colab": {
     "base_uri": "https://localhost:8080/"
    },
    "executionInfo": {
     "elapsed": 609,
     "status": "ok",
     "timestamp": 1633520033537,
     "user": {
      "displayName": "Srivarshan 19BAI1078",
      "photoUrl": "https://lh3.googleusercontent.com/a/default-user=s64",
      "userId": "03718411517360748676"
     },
     "user_tz": -330
    },
    "id": "t6waM-ZjYsT_",
    "outputId": "2cd0c4ad-f236-4696-d2d2-429447722cc0"
   },
   "outputs": [
    {
     "name": "stdout",
     "output_type": "stream",
     "text": [
      "Drive already mounted at /content/drive; to attempt to forcibly remount, call drive.mount(\"/content/drive\", force_remount=True).\n"
     ]
    }
   ],
   "source": [
    "from google.colab import drive\n",
    "drive.mount('/content/drive')"
   ]
  },
  {
   "cell_type": "code",
   "execution_count": null,
   "metadata": {
    "colab": {
     "base_uri": "https://localhost:8080/"
    },
    "executionInfo": {
     "elapsed": 10,
     "status": "ok",
     "timestamp": 1633520034061,
     "user": {
      "displayName": "Srivarshan 19BAI1078",
      "photoUrl": "https://lh3.googleusercontent.com/a/default-user=s64",
      "userId": "03718411517360748676"
     },
     "user_tz": -330
    },
    "id": "T8RvuzdIMLuq",
    "outputId": "99b93bfc-474a-43ac-80c1-e83c6b6eafe9"
   },
   "outputs": [
    {
     "name": "stdout",
     "output_type": "stream",
     "text": [
      "/content/drive/MyDrive/Colab Notebooks/Hate-Speech-Detection-in-Tamil/HASOC Tamil/Task 1\n"
     ]
    }
   ],
   "source": [
    "% cd /content/drive/MyDrive/Colab Notebooks/Hate-Speech-Detection-in-Tamil/HASOC Tamil/Task 1"
   ]
  },
  {
   "cell_type": "markdown",
   "metadata": {
    "id": "frsimxN3WIi9"
   },
   "source": [
    "## **Importing Libraries**"
   ]
  },
  {
   "cell_type": "code",
   "execution_count": null,
   "metadata": {
    "id": "FhgD-MP1MvdJ"
   },
   "outputs": [],
   "source": [
    "import pandas as pd\n",
    "\n",
    "import numpy as np\n",
    "\n",
    "from sklearn.preprocessing import LabelEncoder\n",
    "from sklearn.feature_extraction.text import TfidfVectorizer\n",
    "from sklearn.model_selection import train_test_split\n",
    "from sklearn.linear_model import LogisticRegression\n",
    "from sklearn.svm import SVC\n",
    "from sklearn.naive_bayes import GaussianNB\n",
    "from sklearn.linear_model import SGDClassifier\n",
    "from sklearn.neighbors import KNeighborsClassifier\n",
    "from sklearn.tree import DecisionTreeClassifier\n",
    "from sklearn.ensemble import RandomForestClassifier\n",
    "from sklearn.metrics import classification_report"
   ]
  },
  {
   "cell_type": "markdown",
   "metadata": {
    "id": "kNu7cDTsVodb"
   },
   "source": [
    "## **Setting up Stemmer**"
   ]
  },
  {
   "cell_type": "code",
   "execution_count": null,
   "metadata": {
    "colab": {
     "base_uri": "https://localhost:8080/"
    },
    "executionInfo": {
     "elapsed": 12961,
     "status": "ok",
     "timestamp": 1633520049273,
     "user": {
      "displayName": "Srivarshan 19BAI1078",
      "photoUrl": "https://lh3.googleusercontent.com/a/default-user=s64",
      "userId": "03718411517360748676"
     },
     "user_tz": -330
    },
    "id": "KBUKuDLaVsfK",
    "outputId": "3b1f7e35-4976-41c6-9e5e-5614bc4fe1fa"
   },
   "outputs": [
    {
     "name": "stdout",
     "output_type": "stream",
     "text": [
      "/content/drive/MyDrive/Colab Notebooks/Hate-Speech-Detection-in-Tamil/HASOC Tamil/Task 1/tamil-stemmer-build\n",
      "Cloning into 'tamil-stemmer'...\n",
      "remote: Enumerating objects: 88, done.\u001b[K\n",
      "remote: Total 88 (delta 0), reused 0 (delta 0), pack-reused 88\u001b[K\n",
      "Unpacking objects: 100% (88/88), done.\n",
      "/content/drive/My Drive/Colab Notebooks/Hate-Speech-Detection-in-Tamil/HASOC Tamil/Task 1/tamil-stemmer-build/snowball-with-tamil\n",
      "cc -Iinclude -O2 -W -Wall -Wmissing-prototypes -Wmissing-declarations  -c -o compiler/space.o compiler/space.c\n",
      "cc -Iinclude -O2 -W -Wall -Wmissing-prototypes -Wmissing-declarations  -c -o compiler/tokeniser.o compiler/tokeniser.c\n",
      "In file included from \u001b[01m\u001b[Kcompiler/tokeniser.c:6:0\u001b[m\u001b[K:\n",
      "\u001b[01m\u001b[Kcompiler/tokeniser.c:\u001b[m\u001b[K In function ‘\u001b[01m\u001b[Kread_token\u001b[m\u001b[K’:\n",
      "\u001b[01m\u001b[Kcompiler/header.h:8:21:\u001b[m\u001b[K \u001b[01;35m\u001b[Kwarning: \u001b[m\u001b[Kthis statement may fall through [\u001b[01;35m\u001b[K-Wimplicit-fallthrough=\u001b[m\u001b[K]\n",
      " #define unless(C) if\u001b[01;35m\u001b[K(\u001b[m\u001b[K!(C))\n",
      "                     \u001b[01;35m\u001b[K^\u001b[m\u001b[K\n",
      "\u001b[01m\u001b[Kcompiler/tokeniser.c:390:16:\u001b[m\u001b[K \u001b[01;36m\u001b[Knote: \u001b[m\u001b[Kin expansion of macro ‘\u001b[01m\u001b[Kunless\u001b[m\u001b[K’\n",
      "                \u001b[01;36m\u001b[Kunless\u001b[m\u001b[K (t->next == 0) {\n",
      "                \u001b[01;36m\u001b[K^~~~~~\u001b[m\u001b[K\n",
      "\u001b[01m\u001b[Kcompiler/tokeniser.c:401:13:\u001b[m\u001b[K \u001b[01;36m\u001b[Knote: \u001b[m\u001b[Khere\n",
      "             \u001b[01;36m\u001b[Kdefault\u001b[m\u001b[K:\n",
      "             \u001b[01;36m\u001b[K^~~~~~~\u001b[m\u001b[K\n",
      "\u001b[01m\u001b[Kcompiler/tokeniser.c:\u001b[m\u001b[K In function ‘\u001b[01m\u001b[Kwhite_space\u001b[m\u001b[K’:\n",
      "\u001b[01m\u001b[Kcompiler/tokeniser.c:106:34:\u001b[m\u001b[K \u001b[01;35m\u001b[Kwarning: \u001b[m\u001b[Kthis statement may fall through [\u001b[01;35m\u001b[K-Wimplicit-fallthrough=\u001b[m\u001b[K]\n",
      "         case '\\n': \u001b[01;35m\u001b[Kt->line_number++\u001b[m\u001b[K;\n",
      "                    \u001b[01;35m\u001b[K~~~~~~~~~~~~~~^~\u001b[m\u001b[K\n",
      "\u001b[01m\u001b[Kcompiler/tokeniser.c:107:9:\u001b[m\u001b[K \u001b[01;36m\u001b[Knote: \u001b[m\u001b[Khere\n",
      "         \u001b[01;36m\u001b[Kcase\u001b[m\u001b[K '\\r':\n",
      "         \u001b[01;36m\u001b[K^~~~\u001b[m\u001b[K\n",
      "cc -Iinclude -O2 -W -Wall -Wmissing-prototypes -Wmissing-declarations  -c -o compiler/analyser.o compiler/analyser.c\n",
      "\u001b[01m\u001b[Kcompiler/analyser.c:\u001b[m\u001b[K In function ‘\u001b[01m\u001b[Kcheck_name_type\u001b[m\u001b[K’:\n",
      "\u001b[01m\u001b[Kcompiler/analyser.c:210:19:\u001b[m\u001b[K \u001b[01;35m\u001b[Kwarning: \u001b[m\u001b[Kthis ‘\u001b[01m\u001b[Kif\u001b[m\u001b[K’ clause does not guard... [\u001b[01;35m\u001b[K-Wmisleading-indentation\u001b[m\u001b[K]\n",
      "         case 'r': \u001b[01;35m\u001b[Kif\u001b[m\u001b[K (p->type == t_routine ||\n",
      "                   \u001b[01;35m\u001b[K^~\u001b[m\u001b[K\n",
      "\u001b[01m\u001b[Kcompiler/analyser.c:211:54:\u001b[m\u001b[K \u001b[01;36m\u001b[Knote: \u001b[m\u001b[K...this statement, but the latter is misleadingly indented as if it were guarded by the ‘\u001b[01m\u001b[Kif\u001b[m\u001b[K’\n",
      "                       p->type == t_external) return; \u001b[01;36m\u001b[Kbreak\u001b[m\u001b[K;\n",
      "                                                      \u001b[01;36m\u001b[K^~~~~\u001b[m\u001b[K\n",
      "\u001b[01m\u001b[Kcompiler/analyser.c:\u001b[m\u001b[K In function ‘\u001b[01m\u001b[Kread_program\u001b[m\u001b[K’:\n",
      "\u001b[01m\u001b[Kcompiler/analyser.c:859:21:\u001b[m\u001b[K \u001b[01;35m\u001b[Kwarning: \u001b[m\u001b[Kthis ‘\u001b[01m\u001b[Kif\u001b[m\u001b[K’ clause does not guard... [\u001b[01;35m\u001b[K-Wmisleading-indentation\u001b[m\u001b[K]\n",
      "                     \u001b[01;35m\u001b[Kif\u001b[m\u001b[K (q->used && q->definition == 0) error4(a, q); break;\n",
      "                     \u001b[01;35m\u001b[K^~\u001b[m\u001b[K\n",
      "\u001b[01m\u001b[Kcompiler/analyser.c:859:70:\u001b[m\u001b[K \u001b[01;36m\u001b[Knote: \u001b[m\u001b[K...this statement, but the latter is misleadingly indented as if it were guarded by the ‘\u001b[01m\u001b[Kif\u001b[m\u001b[K’\n",
      "                     if (q->used && q->definition == 0) error4(a, q); \u001b[01;36m\u001b[Kbreak\u001b[m\u001b[K;\n",
      "                                                                      \u001b[01;36m\u001b[K^~~~~\u001b[m\u001b[K\n",
      "\u001b[01m\u001b[Kcompiler/analyser.c:861:21:\u001b[m\u001b[K \u001b[01;35m\u001b[Kwarning: \u001b[m\u001b[Kthis ‘\u001b[01m\u001b[Kif\u001b[m\u001b[K’ clause does not guard... [\u001b[01;35m\u001b[K-Wmisleading-indentation\u001b[m\u001b[K]\n",
      "                     \u001b[01;35m\u001b[Kif\u001b[m\u001b[K (q->used && q->grouping == 0) error4(a, q); break;\n",
      "                     \u001b[01;35m\u001b[K^~\u001b[m\u001b[K\n",
      "\u001b[01m\u001b[Kcompiler/analyser.c:861:68:\u001b[m\u001b[K \u001b[01;36m\u001b[Knote: \u001b[m\u001b[K...this statement, but the latter is misleadingly indented as if it were guarded by the ‘\u001b[01m\u001b[Kif\u001b[m\u001b[K’\n",
      "                     if (q->used && q->grouping == 0) error4(a, q); \u001b[01;36m\u001b[Kbreak\u001b[m\u001b[K;\n",
      "                                                                    \u001b[01;36m\u001b[K^~~~~\u001b[m\u001b[K\n",
      "\u001b[01m\u001b[Kcompiler/analyser.c:\u001b[m\u001b[K In function ‘\u001b[01m\u001b[Kread_program_\u001b[m\u001b[K’:\n",
      "\u001b[01m\u001b[Kcompiler/analyser.c:842:20:\u001b[m\u001b[K \u001b[01;35m\u001b[Kwarning: \u001b[m\u001b[Kthis statement may fall through [\u001b[01;35m\u001b[K-Wimplicit-fallthrough=\u001b[m\u001b[K]\n",
      "                 if \u001b[01;35m\u001b[K(\u001b[m\u001b[Kterminator == c_ket) return;\n",
      "                    \u001b[01;35m\u001b[K^\u001b[m\u001b[K\n",
      "\u001b[01m\u001b[Kcompiler/analyser.c:843:13:\u001b[m\u001b[K \u001b[01;36m\u001b[Knote: \u001b[m\u001b[Khere\n",
      "             \u001b[01;36m\u001b[Kdefault\u001b[m\u001b[K:\n",
      "             \u001b[01;36m\u001b[K^~~~~~~\u001b[m\u001b[K\n",
      "\u001b[01m\u001b[Kcompiler/analyser.c:\u001b[m\u001b[K In function ‘\u001b[01m\u001b[Kcheck_name_type\u001b[m\u001b[K’:\n",
      "\u001b[01m\u001b[Kcompiler/analyser.c:209:22:\u001b[m\u001b[K \u001b[01;35m\u001b[Kwarning: \u001b[m\u001b[Kthis statement may fall through [\u001b[01;35m\u001b[K-Wimplicit-fallthrough=\u001b[m\u001b[K]\n",
      "         case 'R': if \u001b[01;35m\u001b[K(\u001b[m\u001b[Kp->type == t_grouping) return;\n",
      "                      \u001b[01;35m\u001b[K^\u001b[m\u001b[K\n",
      "\u001b[01m\u001b[Kcompiler/analyser.c:210:9:\u001b[m\u001b[K \u001b[01;36m\u001b[Knote: \u001b[m\u001b[Khere\n",
      "         \u001b[01;36m\u001b[Kcase\u001b[m\u001b[K 'r': if (p->type == t_routine ||\n",
      "         \u001b[01;36m\u001b[K^~~~\u001b[m\u001b[K\n",
      "\u001b[01m\u001b[Kcompiler/analyser.c:\u001b[m\u001b[K In function ‘\u001b[01m\u001b[Kerror2\u001b[m\u001b[K’:\n",
      "\u001b[01m\u001b[Kcompiler/analyser.c:88:13:\u001b[m\u001b[K \u001b[01;35m\u001b[Kwarning: \u001b[m\u001b[Kthis statement may fall through [\u001b[01;35m\u001b[K-Wimplicit-fallthrough=\u001b[m\u001b[K]\n",
      "             \u001b[01;35m\u001b[Kfprintf(stderr, \"in among(...), \")\u001b[m\u001b[K;\n",
      "             \u001b[01;35m\u001b[K^~~~~~~~~~~~~~~~~~~~~~~~~~~~~~~~~~\u001b[m\u001b[K\n",
      "\u001b[01m\u001b[Kcompiler/analyser.c:89:9:\u001b[m\u001b[K \u001b[01;36m\u001b[Knote: \u001b[m\u001b[Khere\n",
      "         \u001b[01;36m\u001b[Kcase\u001b[m\u001b[K 1:\n",
      "         \u001b[01;36m\u001b[K^~~~\u001b[m\u001b[K\n",
      "\u001b[01m\u001b[Kcompiler/analyser.c:\u001b[m\u001b[K In function ‘\u001b[01m\u001b[Kname_of_type\u001b[m\u001b[K’:\n",
      "\u001b[01m\u001b[Kcompiler/analyser.c:64:19:\u001b[m\u001b[K \u001b[01;35m\u001b[Kwarning: \u001b[m\u001b[Kthis statement may fall through [\u001b[01;35m\u001b[K-Wimplicit-fallthrough=\u001b[m\u001b[K]\n",
      "          default: \u001b[01;35m\u001b[Kfault(1)\u001b[m\u001b[K;\n",
      "                   \u001b[01;35m\u001b[K^~~~~~~~\u001b[m\u001b[K\n",
      "\u001b[01m\u001b[Kcompiler/analyser.c:65:10:\u001b[m\u001b[K \u001b[01;36m\u001b[Knote: \u001b[m\u001b[Khere\n",
      "          \u001b[01;36m\u001b[Kcase\u001b[m\u001b[K 's': return \"string\";\n",
      "          \u001b[01;36m\u001b[K^~~~\u001b[m\u001b[K\n",
      "\u001b[01m\u001b[Kcompiler/analyser.c:\u001b[m\u001b[K In function ‘\u001b[01m\u001b[Kname_of_mode\u001b[m\u001b[K’:\n",
      "\u001b[01m\u001b[Kcompiler/analyser.c:55:19:\u001b[m\u001b[K \u001b[01;35m\u001b[Kwarning: \u001b[m\u001b[Kthis statement may fall through [\u001b[01;35m\u001b[K-Wimplicit-fallthrough=\u001b[m\u001b[K]\n",
      "          default: \u001b[01;35m\u001b[Kfault(0)\u001b[m\u001b[K;\n",
      "                   \u001b[01;35m\u001b[K^~~~~~~~\u001b[m\u001b[K\n",
      "\u001b[01m\u001b[Kcompiler/analyser.c:56:10:\u001b[m\u001b[K \u001b[01;36m\u001b[Knote: \u001b[m\u001b[Khere\n",
      "          \u001b[01;36m\u001b[Kcase\u001b[m\u001b[K m_backward: return \"string backward\";\n",
      "          \u001b[01;36m\u001b[K^~~~\u001b[m\u001b[K\n",
      "\u001b[01m\u001b[Kcompiler/analyser.c:\u001b[m\u001b[K In function ‘\u001b[01m\u001b[Kread_C\u001b[m\u001b[K’:\n",
      "\u001b[01m\u001b[Kcompiler/analyser.c:642:30:\u001b[m\u001b[K \u001b[01;35m\u001b[Kwarning: \u001b[m\u001b[Kthis statement may fall through [\u001b[01;35m\u001b[K-Wimplicit-fallthrough=\u001b[m\u001b[K]\n",
      "                     default: \u001b[01;35m\u001b[Kerror(a, 34)\u001b[m\u001b[K;\n",
      "                              \u001b[01;35m\u001b[K^~~~~~~~~~~~\u001b[m\u001b[K\n",
      "\u001b[01m\u001b[Kcompiler/analyser.c:643:21:\u001b[m\u001b[K \u001b[01;36m\u001b[Knote: \u001b[m\u001b[Khere\n",
      "                     \u001b[01;36m\u001b[Kcase\u001b[m\u001b[K t_string:\n",
      "                     \u001b[01;36m\u001b[K^~~~\u001b[m\u001b[K\n",
      "\u001b[01m\u001b[Kcompiler/analyser.c:607:13:\u001b[m\u001b[K \u001b[01;35m\u001b[Kwarning: \u001b[m\u001b[Kthis statement may fall through [\u001b[01;35m\u001b[K-Wimplicit-fallthrough=\u001b[m\u001b[K]\n",
      "             \u001b[01;35m\u001b[Kcheck_modifyable(a)\u001b[m\u001b[K;\n",
      "             \u001b[01;35m\u001b[K^~~~~~~~~~~~~~~~~~~\u001b[m\u001b[K\n",
      "\u001b[01m\u001b[Kcompiler/analyser.c:608:9:\u001b[m\u001b[K \u001b[01;36m\u001b[Knote: \u001b[m\u001b[Khere\n",
      "         \u001b[01;36m\u001b[Kcase\u001b[m\u001b[K c_next:\n",
      "         \u001b[01;36m\u001b[K^~~~\u001b[m\u001b[K\n",
      "\u001b[01m\u001b[Kcompiler/analyser.c:\u001b[m\u001b[K In function ‘\u001b[01m\u001b[Kread_among\u001b[m\u001b[K’:\n",
      "\u001b[01m\u001b[Kcompiler/analyser.c:536:17:\u001b[m\u001b[K \u001b[01;35m\u001b[Kwarning: \u001b[m\u001b[Kthis statement may fall through [\u001b[01;35m\u001b[K-Wimplicit-fallthrough=\u001b[m\u001b[K]\n",
      "                 \u001b[01;35m\u001b[Kerror(a, 3)\u001b[m\u001b[K;\n",
      "                 \u001b[01;35m\u001b[K^~~~~~~~~~~\u001b[m\u001b[K\n",
      "\u001b[01m\u001b[Kcompiler/analyser.c:537:13:\u001b[m\u001b[K \u001b[01;36m\u001b[Knote: \u001b[m\u001b[Khere\n",
      "             \u001b[01;36m\u001b[Kcase\u001b[m\u001b[K c_ket:\n",
      "             \u001b[01;36m\u001b[K^~~~\u001b[m\u001b[K\n",
      "cc -Iinclude -O2 -W -Wall -Wmissing-prototypes -Wmissing-declarations  -c -o compiler/generator.o compiler/generator.c\n",
      "\u001b[01m\u001b[Kcompiler/generator.c:\u001b[m\u001b[K In function ‘\u001b[01m\u001b[Kwlitarray\u001b[m\u001b[K’:\n",
      "\u001b[01m\u001b[Kcompiler/generator.c:97:32:\u001b[m\u001b[K \u001b[01;35m\u001b[Kwarning: \u001b[m\u001b[Kthis statement may fall through [\u001b[01;35m\u001b[K-Wimplicit-fallthrough=\u001b[m\u001b[K]\n",
      "                     case '\\\\': \u001b[01;35m\u001b[Kwch(g, '\\\\')\u001b[m\u001b[K;\n",
      "                                \u001b[01;35m\u001b[K^~~~~~~~~~~~\u001b[m\u001b[K\n",
      "\u001b[01m\u001b[Kcompiler/generator.c:98:21:\u001b[m\u001b[K \u001b[01;36m\u001b[Knote: \u001b[m\u001b[Khere\n",
      "                     \u001b[01;36m\u001b[Kdefault\u001b[m\u001b[K:   wch(g, ch);\n",
      "                     \u001b[01;36m\u001b[K^~~~~~~\u001b[m\u001b[K\n",
      "cc -Iinclude -O2 -W -Wall -Wmissing-prototypes -Wmissing-declarations  -c -o compiler/driver.o compiler/driver.c\n",
      "cc -Iinclude -O2 -W -Wall -Wmissing-prototypes -Wmissing-declarations  -c -o compiler/generator_java.o compiler/generator_java.c\n",
      "cc -o snowball compiler/space.o compiler/tokeniser.o compiler/analyser.o compiler/generator.o compiler/driver.o compiler/generator_java.o\n",
      "sed 's/@MODULES_H@/modules.h/' libstemmer/libstemmer_c.in >libstemmer/libstemmer.c\n",
      "libstemmer/mkmodules.pl libstemmer/modules.h src_c libstemmer/modules.txt libstemmer/mkinc.mak\n",
      "cp algorithms/danish/stem_ISO_8859_1.sbl algorithms/danish/stem_Unicode.sbl\n",
      "./snowball algorithms/danish/stem_Unicode.sbl -o src_c/stem_UTF_8_danish -eprefix danish_UTF_8_ -r ../runtime -u\n",
      "cp algorithms/dutch/stem_ISO_8859_1.sbl algorithms/dutch/stem_Unicode.sbl\n",
      "./snowball algorithms/dutch/stem_Unicode.sbl -o src_c/stem_UTF_8_dutch -eprefix dutch_UTF_8_ -r ../runtime -u\n",
      "cp algorithms/english/stem_ISO_8859_1.sbl algorithms/english/stem_Unicode.sbl\n",
      "./snowball algorithms/english/stem_Unicode.sbl -o src_c/stem_UTF_8_english -eprefix english_UTF_8_ -r ../runtime -u\n",
      "cp algorithms/finnish/stem_ISO_8859_1.sbl algorithms/finnish/stem_Unicode.sbl\n",
      "./snowball algorithms/finnish/stem_Unicode.sbl -o src_c/stem_UTF_8_finnish -eprefix finnish_UTF_8_ -r ../runtime -u\n",
      "cp algorithms/french/stem_ISO_8859_1.sbl algorithms/french/stem_Unicode.sbl\n",
      "./snowball algorithms/french/stem_Unicode.sbl -o src_c/stem_UTF_8_french -eprefix french_UTF_8_ -r ../runtime -u\n",
      "cp algorithms/german/stem_ISO_8859_1.sbl algorithms/german/stem_Unicode.sbl\n",
      "./snowball algorithms/german/stem_Unicode.sbl -o src_c/stem_UTF_8_german -eprefix german_UTF_8_ -r ../runtime -u\n",
      "cp algorithms/hungarian/stem_ISO_8859_1.sbl algorithms/hungarian/stem_Unicode.sbl\n",
      "./snowball algorithms/hungarian/stem_Unicode.sbl -o src_c/stem_UTF_8_hungarian -eprefix hungarian_UTF_8_ -r ../runtime -u\n",
      "cp algorithms/italian/stem_ISO_8859_1.sbl algorithms/italian/stem_Unicode.sbl\n",
      "./snowball algorithms/italian/stem_Unicode.sbl -o src_c/stem_UTF_8_italian -eprefix italian_UTF_8_ -r ../runtime -u\n",
      "cp algorithms/norwegian/stem_ISO_8859_1.sbl algorithms/norwegian/stem_Unicode.sbl\n",
      "./snowball algorithms/norwegian/stem_Unicode.sbl -o src_c/stem_UTF_8_norwegian -eprefix norwegian_UTF_8_ -r ../runtime -u\n",
      "cp algorithms/porter/stem_ISO_8859_1.sbl algorithms/porter/stem_Unicode.sbl\n",
      "./snowball algorithms/porter/stem_Unicode.sbl -o src_c/stem_UTF_8_porter -eprefix porter_UTF_8_ -r ../runtime -u\n",
      "cp algorithms/portuguese/stem_ISO_8859_1.sbl algorithms/portuguese/stem_Unicode.sbl\n",
      "./snowball algorithms/portuguese/stem_Unicode.sbl -o src_c/stem_UTF_8_portuguese -eprefix portuguese_UTF_8_ -r ../runtime -u\n",
      "./snowball algorithms/romanian/stem_Unicode.sbl -o src_c/stem_UTF_8_romanian -eprefix romanian_UTF_8_ -r ../runtime -u\n",
      "./snowball algorithms/russian/stem_Unicode.sbl -o src_c/stem_UTF_8_russian -eprefix russian_UTF_8_ -r ../runtime -u\n",
      "cp algorithms/spanish/stem_ISO_8859_1.sbl algorithms/spanish/stem_Unicode.sbl\n",
      "./snowball algorithms/spanish/stem_Unicode.sbl -o src_c/stem_UTF_8_spanish -eprefix spanish_UTF_8_ -r ../runtime -u\n",
      "cp algorithms/swedish/stem_ISO_8859_1.sbl algorithms/swedish/stem_Unicode.sbl\n",
      "./snowball algorithms/swedish/stem_Unicode.sbl -o src_c/stem_UTF_8_swedish -eprefix swedish_UTF_8_ -r ../runtime -u\n",
      "./snowball algorithms/tamil/stem_Unicode.sbl -o src_c/stem_UTF_8_tamil -eprefix tamil_UTF_8_ -r ../runtime -u\n",
      "Declared but not used: was_stripped found_vallinam_doubling mark2 mark\n",
      "Declared and defined but not used: vowel_signs uyir itaiyinam mellinam vallinam word_starter q_prefixes q_suffixes suttezhuthu\n",
      "./snowball algorithms/turkish/stem_Unicode.sbl -o src_c/stem_UTF_8_turkish -eprefix turkish_UTF_8_ -r ../runtime -u\n",
      "./snowball algorithms/russian/stem_KOI8_R.sbl -o src_c/stem_KOI8_R_russian -eprefix russian_KOI8_R_ -r ../runtime\n",
      "./snowball algorithms/danish/stem_ISO_8859_1.sbl -o src_c/stem_ISO_8859_1_danish -eprefix danish_ISO_8859_1_ -r ../runtime\n",
      "./snowball algorithms/dutch/stem_ISO_8859_1.sbl -o src_c/stem_ISO_8859_1_dutch -eprefix dutch_ISO_8859_1_ -r ../runtime\n",
      "./snowball algorithms/english/stem_ISO_8859_1.sbl -o src_c/stem_ISO_8859_1_english -eprefix english_ISO_8859_1_ -r ../runtime\n",
      "./snowball algorithms/finnish/stem_ISO_8859_1.sbl -o src_c/stem_ISO_8859_1_finnish -eprefix finnish_ISO_8859_1_ -r ../runtime\n",
      "./snowball algorithms/french/stem_ISO_8859_1.sbl -o src_c/stem_ISO_8859_1_french -eprefix french_ISO_8859_1_ -r ../runtime\n",
      "./snowball algorithms/german/stem_ISO_8859_1.sbl -o src_c/stem_ISO_8859_1_german -eprefix german_ISO_8859_1_ -r ../runtime\n",
      "./snowball algorithms/hungarian/stem_ISO_8859_1.sbl -o src_c/stem_ISO_8859_1_hungarian -eprefix hungarian_ISO_8859_1_ -r ../runtime\n",
      "./snowball algorithms/italian/stem_ISO_8859_1.sbl -o src_c/stem_ISO_8859_1_italian -eprefix italian_ISO_8859_1_ -r ../runtime\n",
      "./snowball algorithms/norwegian/stem_ISO_8859_1.sbl -o src_c/stem_ISO_8859_1_norwegian -eprefix norwegian_ISO_8859_1_ -r ../runtime\n",
      "./snowball algorithms/porter/stem_ISO_8859_1.sbl -o src_c/stem_ISO_8859_1_porter -eprefix porter_ISO_8859_1_ -r ../runtime\n",
      "./snowball algorithms/portuguese/stem_ISO_8859_1.sbl -o src_c/stem_ISO_8859_1_portuguese -eprefix portuguese_ISO_8859_1_ -r ../runtime\n",
      "./snowball algorithms/spanish/stem_ISO_8859_1.sbl -o src_c/stem_ISO_8859_1_spanish -eprefix spanish_ISO_8859_1_ -r ../runtime\n",
      "./snowball algorithms/swedish/stem_ISO_8859_1.sbl -o src_c/stem_ISO_8859_1_swedish -eprefix swedish_ISO_8859_1_ -r ../runtime\n",
      "./snowball algorithms/romanian/stem_ISO_8859_2.sbl -o src_c/stem_ISO_8859_2_romanian -eprefix romanian_ISO_8859_2_ -r ../runtime\n",
      "cc -Iinclude -O2 -W -Wall -Wmissing-prototypes -Wmissing-declarations  -c -o libstemmer/libstemmer.o libstemmer/libstemmer.c\n",
      "cc -Iinclude -O2 -W -Wall -Wmissing-prototypes -Wmissing-declarations  -c -o runtime/api.o runtime/api.c\n",
      "cc -Iinclude -O2 -W -Wall -Wmissing-prototypes -Wmissing-declarations  -c -o runtime/utilities.o runtime/utilities.c\n",
      "cc -Iinclude -O2 -O2 -c -o src_c/stem_UTF_8_danish.o src_c/stem_UTF_8_danish.c -Wall\n",
      "cc -Iinclude -O2 -O2 -c -o src_c/stem_UTF_8_dutch.o src_c/stem_UTF_8_dutch.c -Wall\n",
      "cc -Iinclude -O2 -O2 -c -o src_c/stem_UTF_8_english.o src_c/stem_UTF_8_english.c -Wall\n",
      "cc -Iinclude -O2 -O2 -c -o src_c/stem_UTF_8_finnish.o src_c/stem_UTF_8_finnish.c -Wall\n",
      "cc -Iinclude -O2 -O2 -c -o src_c/stem_UTF_8_french.o src_c/stem_UTF_8_french.c -Wall\n",
      "cc -Iinclude -O2 -O2 -c -o src_c/stem_UTF_8_german.o src_c/stem_UTF_8_german.c -Wall\n",
      "cc -Iinclude -O2 -O2 -c -o src_c/stem_UTF_8_hungarian.o src_c/stem_UTF_8_hungarian.c -Wall\n",
      "cc -Iinclude -O2 -O2 -c -o src_c/stem_UTF_8_italian.o src_c/stem_UTF_8_italian.c -Wall\n",
      "cc -Iinclude -O2 -O2 -c -o src_c/stem_UTF_8_norwegian.o src_c/stem_UTF_8_norwegian.c -Wall\n",
      "cc -Iinclude -O2 -O2 -c -o src_c/stem_UTF_8_porter.o src_c/stem_UTF_8_porter.c -Wall\n",
      "cc -Iinclude -O2 -O2 -c -o src_c/stem_UTF_8_portuguese.o src_c/stem_UTF_8_portuguese.c -Wall\n",
      "cc -Iinclude -O2 -O2 -c -o src_c/stem_UTF_8_romanian.o src_c/stem_UTF_8_romanian.c -Wall\n",
      "cc -Iinclude -O2 -O2 -c -o src_c/stem_UTF_8_russian.o src_c/stem_UTF_8_russian.c -Wall\n",
      "cc -Iinclude -O2 -O2 -c -o src_c/stem_UTF_8_spanish.o src_c/stem_UTF_8_spanish.c -Wall\n",
      "cc -Iinclude -O2 -O2 -c -o src_c/stem_UTF_8_swedish.o src_c/stem_UTF_8_swedish.c -Wall\n",
      "cc -Iinclude -O2 -O2 -c -o src_c/stem_UTF_8_tamil.o src_c/stem_UTF_8_tamil.c -Wall\n",
      "\u001b[01m\u001b[Ksrc_c/stem_UTF_8_tamil.c:56:28:\u001b[m\u001b[K \u001b[01;35m\u001b[Kwarning: \u001b[m\u001b[K‘\u001b[01m\u001b[Kg_uyir\u001b[m\u001b[K’ defined but not used [\u001b[01;35m\u001b[K-Wunused-const-variable=\u001b[m\u001b[K]\n",
      " static const unsigned char \u001b[01;35m\u001b[Kg_uyir\u001b[m\u001b[K[] = { 63, 238 };\n",
      "                            \u001b[01;35m\u001b[K^~~~~~\u001b[m\u001b[K\n",
      "\u001b[01m\u001b[Ksrc_c/stem_UTF_8_tamil.c:54:28:\u001b[m\u001b[K \u001b[01;35m\u001b[Kwarning: \u001b[m\u001b[K‘\u001b[01m\u001b[Kg_vowel_signs\u001b[m\u001b[K’ defined but not used [\u001b[01;35m\u001b[K-Wunused-const-variable=\u001b[m\u001b[K]\n",
      " static const unsigned char \u001b[01;35m\u001b[Kg_vowel_signs\u001b[m\u001b[K[] = { 31, 7 };\n",
      "                            \u001b[01;35m\u001b[K^~~~~~~~~~~~~\u001b[m\u001b[K\n",
      "\u001b[01m\u001b[Ksrc_c/stem_UTF_8_tamil.c:52:28:\u001b[m\u001b[K \u001b[01;35m\u001b[Kwarning: \u001b[m\u001b[K‘\u001b[01m\u001b[Kg_itaiyinam\u001b[m\u001b[K’ defined but not used [\u001b[01;35m\u001b[K-Wunused-const-variable=\u001b[m\u001b[K]\n",
      " static const unsigned char \u001b[01;35m\u001b[Kg_itaiyinam\u001b[m\u001b[K[] = { 123 };\n",
      "                            \u001b[01;35m\u001b[K^~~~~~~~~~~\u001b[m\u001b[K\n",
      "\u001b[01m\u001b[Ksrc_c/stem_UTF_8_tamil.c:50:28:\u001b[m\u001b[K \u001b[01;35m\u001b[Kwarning: \u001b[m\u001b[K‘\u001b[01m\u001b[Kg_mellinam\u001b[m\u001b[K’ defined but not used [\u001b[01;35m\u001b[K-Wunused-const-variable=\u001b[m\u001b[K]\n",
      " static const unsigned char \u001b[01;35m\u001b[Kg_mellinam\u001b[m\u001b[K[] = { 33, 132, 33 };\n",
      "                            \u001b[01;35m\u001b[K^~~~~~~~~~\u001b[m\u001b[K\n",
      "\u001b[01m\u001b[Ksrc_c/stem_UTF_8_tamil.c:48:28:\u001b[m\u001b[K \u001b[01;35m\u001b[Kwarning: \u001b[m\u001b[K‘\u001b[01m\u001b[Kg_vallinam\u001b[m\u001b[K’ defined but not used [\u001b[01;35m\u001b[K-Wunused-const-variable=\u001b[m\u001b[K]\n",
      " static const unsigned char \u001b[01;35m\u001b[Kg_vallinam\u001b[m\u001b[K[] = { 33, 132, 32, 16 };\n",
      "                            \u001b[01;35m\u001b[K^~~~~~~~~~\u001b[m\u001b[K\n",
      "\u001b[01m\u001b[Ksrc_c/stem_UTF_8_tamil.c:46:28:\u001b[m\u001b[K \u001b[01;35m\u001b[Kwarning: \u001b[m\u001b[K‘\u001b[01m\u001b[Kg_suttezhuthu\u001b[m\u001b[K’ defined but not used [\u001b[01;35m\u001b[K-Wunused-const-variable=\u001b[m\u001b[K]\n",
      " static const unsigned char \u001b[01;35m\u001b[Kg_suttezhuthu\u001b[m\u001b[K[] = { 21 };\n",
      "                            \u001b[01;35m\u001b[K^~~~~~~~~~~~~\u001b[m\u001b[K\n",
      "\u001b[01m\u001b[Ksrc_c/stem_UTF_8_tamil.c:44:28:\u001b[m\u001b[K \u001b[01;35m\u001b[Kwarning: \u001b[m\u001b[K‘\u001b[01m\u001b[Kg_word_starter\u001b[m\u001b[K’ defined but not used [\u001b[01;35m\u001b[K-Wunused-const-variable=\u001b[m\u001b[K]\n",
      " static const unsigned char \u001b[01;35m\u001b[Kg_word_starter\u001b[m\u001b[K[] = { 49, 130, 40, 6, 1 };\n",
      "                            \u001b[01;35m\u001b[K^~~~~~~~~~~~~~\u001b[m\u001b[K\n",
      "\u001b[01m\u001b[Ksrc_c/stem_UTF_8_tamil.c:42:28:\u001b[m\u001b[K \u001b[01;35m\u001b[Kwarning: \u001b[m\u001b[K‘\u001b[01m\u001b[Kg_q_prefixes\u001b[m\u001b[K’ defined but not used [\u001b[01;35m\u001b[K-Wunused-const-variable=\u001b[m\u001b[K]\n",
      " static const unsigned char \u001b[01;35m\u001b[Kg_q_prefixes\u001b[m\u001b[K[] = { 1 };\n",
      "                            \u001b[01;35m\u001b[K^~~~~~~~~~~~\u001b[m\u001b[K\n",
      "\u001b[01m\u001b[Ksrc_c/stem_UTF_8_tamil.c:40:28:\u001b[m\u001b[K \u001b[01;35m\u001b[Kwarning: \u001b[m\u001b[K‘\u001b[01m\u001b[Kg_q_suffixes\u001b[m\u001b[K’ defined but not used [\u001b[01;35m\u001b[K-Wunused-const-variable=\u001b[m\u001b[K]\n",
      " static const unsigned char \u001b[01;35m\u001b[Kg_q_suffixes\u001b[m\u001b[K[] = { 1, 34 };\n",
      "                            \u001b[01;35m\u001b[K^~~~~~~~~~~~\u001b[m\u001b[K\n",
      "cc -Iinclude -O2 -O2 -c -o src_c/stem_UTF_8_turkish.o src_c/stem_UTF_8_turkish.c -Wall\n",
      "cc -Iinclude -O2 -O2 -c -o src_c/stem_KOI8_R_russian.o src_c/stem_KOI8_R_russian.c -Wall\n",
      "cc -Iinclude -O2 -O2 -c -o src_c/stem_ISO_8859_1_danish.o src_c/stem_ISO_8859_1_danish.c -Wall\n",
      "cc -Iinclude -O2 -O2 -c -o src_c/stem_ISO_8859_1_dutch.o src_c/stem_ISO_8859_1_dutch.c -Wall\n",
      "cc -Iinclude -O2 -O2 -c -o src_c/stem_ISO_8859_1_english.o src_c/stem_ISO_8859_1_english.c -Wall\n",
      "cc -Iinclude -O2 -O2 -c -o src_c/stem_ISO_8859_1_finnish.o src_c/stem_ISO_8859_1_finnish.c -Wall\n",
      "cc -Iinclude -O2 -O2 -c -o src_c/stem_ISO_8859_1_french.o src_c/stem_ISO_8859_1_french.c -Wall\n",
      "cc -Iinclude -O2 -O2 -c -o src_c/stem_ISO_8859_1_german.o src_c/stem_ISO_8859_1_german.c -Wall\n",
      "cc -Iinclude -O2 -O2 -c -o src_c/stem_ISO_8859_1_hungarian.o src_c/stem_ISO_8859_1_hungarian.c -Wall\n",
      "cc -Iinclude -O2 -O2 -c -o src_c/stem_ISO_8859_1_italian.o src_c/stem_ISO_8859_1_italian.c -Wall\n",
      "cc -Iinclude -O2 -O2 -c -o src_c/stem_ISO_8859_1_norwegian.o src_c/stem_ISO_8859_1_norwegian.c -Wall\n",
      "cc -Iinclude -O2 -O2 -c -o src_c/stem_ISO_8859_1_porter.o src_c/stem_ISO_8859_1_porter.c -Wall\n",
      "cc -Iinclude -O2 -O2 -c -o src_c/stem_ISO_8859_1_portuguese.o src_c/stem_ISO_8859_1_portuguese.c -Wall\n",
      "cc -Iinclude -O2 -O2 -c -o src_c/stem_ISO_8859_1_spanish.o src_c/stem_ISO_8859_1_spanish.c -Wall\n",
      "cc -Iinclude -O2 -O2 -c -o src_c/stem_ISO_8859_1_swedish.o src_c/stem_ISO_8859_1_swedish.c -Wall\n",
      "cc -Iinclude -O2 -O2 -c -o src_c/stem_ISO_8859_2_romanian.o src_c/stem_ISO_8859_2_romanian.c -Wall\n",
      "ar -cru libstemmer.o libstemmer/libstemmer.o runtime/api.o runtime/utilities.o src_c/stem_UTF_8_danish.o src_c/stem_UTF_8_dutch.o src_c/stem_UTF_8_english.o src_c/stem_UTF_8_finnish.o src_c/stem_UTF_8_french.o src_c/stem_UTF_8_german.o src_c/stem_UTF_8_hungarian.o src_c/stem_UTF_8_italian.o src_c/stem_UTF_8_norwegian.o src_c/stem_UTF_8_porter.o src_c/stem_UTF_8_portuguese.o src_c/stem_UTF_8_romanian.o src_c/stem_UTF_8_russian.o src_c/stem_UTF_8_spanish.o src_c/stem_UTF_8_swedish.o src_c/stem_UTF_8_tamil.o src_c/stem_UTF_8_turkish.o src_c/stem_KOI8_R_russian.o src_c/stem_ISO_8859_1_danish.o src_c/stem_ISO_8859_1_dutch.o src_c/stem_ISO_8859_1_english.o src_c/stem_ISO_8859_1_finnish.o src_c/stem_ISO_8859_1_french.o src_c/stem_ISO_8859_1_german.o src_c/stem_ISO_8859_1_hungarian.o src_c/stem_ISO_8859_1_italian.o src_c/stem_ISO_8859_1_norwegian.o src_c/stem_ISO_8859_1_porter.o src_c/stem_ISO_8859_1_portuguese.o src_c/stem_ISO_8859_1_spanish.o src_c/stem_ISO_8859_1_swedish.o src_c/stem_ISO_8859_2_romanian.o\n",
      "ar: `u' modifier ignored since `D' is the default (see `U')\n",
      "cc -Iinclude -O2 -W -Wall -Wmissing-prototypes -Wmissing-declarations  -c -o examples/stemwords.o examples/stemwords.c\n",
      "cc -o stemwords examples/stemwords.o libstemmer.o\n",
      "cp algorithms/german2/stem_ISO_8859_1.sbl algorithms/german2/stem_Unicode.sbl\n",
      "./snowball algorithms/german2/stem_Unicode.sbl -o src_c/stem_UTF_8_german2 -eprefix german2_UTF_8_ -r ../runtime -u\n",
      "cp algorithms/kraaij_pohlmann/stem_ISO_8859_1.sbl algorithms/kraaij_pohlmann/stem_Unicode.sbl\n",
      "./snowball algorithms/kraaij_pohlmann/stem_Unicode.sbl -o src_c/stem_UTF_8_kraaij_pohlmann -eprefix kraaij_pohlmann_UTF_8_ -r ../runtime -u\n",
      "cp algorithms/lovins/stem_ISO_8859_1.sbl algorithms/lovins/stem_Unicode.sbl\n",
      "./snowball algorithms/lovins/stem_Unicode.sbl -o src_c/stem_UTF_8_lovins -eprefix lovins_UTF_8_ -r ../runtime -u\n",
      "cc -Iinclude -O2 -O2 -c -o src_c/stem_UTF_8_german2.o src_c/stem_UTF_8_german2.c -Wall\n",
      "cc -Iinclude -O2 -O2 -c -o src_c/stem_UTF_8_kraaij_pohlmann.o src_c/stem_UTF_8_kraaij_pohlmann.c -Wall\n",
      "cc -Iinclude -O2 -O2 -c -o src_c/stem_UTF_8_lovins.o src_c/stem_UTF_8_lovins.c -Wall\n",
      "rm algorithms/spanish/stem_Unicode.sbl algorithms/porter/stem_Unicode.sbl algorithms/dutch/stem_Unicode.sbl algorithms/kraaij_pohlmann/stem_Unicode.sbl algorithms/danish/stem_Unicode.sbl algorithms/finnish/stem_Unicode.sbl algorithms/hungarian/stem_Unicode.sbl algorithms/italian/stem_Unicode.sbl algorithms/swedish/stem_Unicode.sbl algorithms/lovins/stem_Unicode.sbl algorithms/english/stem_Unicode.sbl algorithms/german/stem_Unicode.sbl algorithms/norwegian/stem_Unicode.sbl algorithms/portuguese/stem_Unicode.sbl algorithms/german2/stem_Unicode.sbl algorithms/french/stem_Unicode.sbl\n",
      "/content/drive/MyDrive/Colab Notebooks/Hate-Speech-Detection-in-Tamil/HASOC Tamil/Task 1\n"
     ]
    }
   ],
   "source": [
    "! rm -r tamil-stemmer-build\n",
    "! rm input.txt\n",
    "! rm output.txt\n",
    "\n",
    "! mkdir tamil-stemmer-build\n",
    "% cd tamil-stemmer-build\n",
    "! git clone https://github.com/rdamodharan/tamil-stemmer.git\n",
    "! tar -zxf tamil-stemmer/snowball-with-tamil.tgz\n",
    "% cd snowball-with-tamil\n",
    "! make\n",
    "\n",
    "% cd /content/drive/MyDrive/Colab Notebooks/Hate-Speech-Detection-in-Tamil/HASOC Tamil/Task 1"
   ]
  },
  {
   "cell_type": "markdown",
   "metadata": {
    "id": "U2vuSnCBWPwP"
   },
   "source": [
    "## **Loading Data**"
   ]
  },
  {
   "cell_type": "code",
   "execution_count": null,
   "metadata": {
    "id": "t96ankzGWRyf"
   },
   "outputs": [],
   "source": [
    "dataframe = pd.read_csv(\"Dataset/tamil_offensive_train.tsv\", sep='\\t')"
   ]
  },
  {
   "cell_type": "code",
   "execution_count": null,
   "metadata": {
    "colab": {
     "base_uri": "https://localhost:8080/",
     "height": 206
    },
    "executionInfo": {
     "elapsed": 18,
     "status": "ok",
     "timestamp": 1633520049276,
     "user": {
      "displayName": "Srivarshan 19BAI1078",
      "photoUrl": "https://lh3.googleusercontent.com/a/default-user=s64",
      "userId": "03718411517360748676"
     },
     "user_tz": -330
    },
    "id": "bqiD6tqiXIWG",
    "outputId": "35b50f63-6ff8-4b6b-8380-895b47e79055"
   },
   "outputs": [
    {
     "data": {
      "text/html": [
       "<div>\n",
       "<style scoped>\n",
       "    .dataframe tbody tr th:only-of-type {\n",
       "        vertical-align: middle;\n",
       "    }\n",
       "\n",
       "    .dataframe tbody tr th {\n",
       "        vertical-align: top;\n",
       "    }\n",
       "\n",
       "    .dataframe thead th {\n",
       "        text-align: right;\n",
       "    }\n",
       "</style>\n",
       "<table border=\"1\" class=\"dataframe\">\n",
       "  <thead>\n",
       "    <tr style=\"text-align: right;\">\n",
       "      <th></th>\n",
       "      <th>id</th>\n",
       "      <th>text</th>\n",
       "      <th>category</th>\n",
       "    </tr>\n",
       "  </thead>\n",
       "  <tbody>\n",
       "    <tr>\n",
       "      <th>0</th>\n",
       "      <td>tam1</td>\n",
       "      <td>திருமலை நாயக்கர் பேரவை சார்பாக படம் வெற்றி பெற...</td>\n",
       "      <td>NOT</td>\n",
       "    </tr>\n",
       "    <tr>\n",
       "      <th>1</th>\n",
       "      <td>tam2</td>\n",
       "      <td>இந்த ட்ரெய்லர் கூட பார்க்கிற மாதிரி இல்லை.. இத...</td>\n",
       "      <td>OFF</td>\n",
       "    </tr>\n",
       "    <tr>\n",
       "      <th>2</th>\n",
       "      <td>tam3</td>\n",
       "      <td>மைசூரு செட்டியார் சமூகத்தின் சார்பாக இப்படம் வ...</td>\n",
       "      <td>NOT</td>\n",
       "    </tr>\n",
       "    <tr>\n",
       "      <th>3</th>\n",
       "      <td>tam4</td>\n",
       "      <td>மொத்த சாதியும் ஒரு சாதிக்கு எதிரா நிக்குது.......</td>\n",
       "      <td>OFF</td>\n",
       "    </tr>\n",
       "    <tr>\n",
       "      <th>4</th>\n",
       "      <td>tam5</td>\n",
       "      <td>only for விஜய் சேதுபதி and STR</td>\n",
       "      <td>NOT</td>\n",
       "    </tr>\n",
       "  </tbody>\n",
       "</table>\n",
       "</div>"
      ],
      "text/plain": [
       "     id                                               text category\n",
       "0  tam1  திருமலை நாயக்கர் பேரவை சார்பாக படம் வெற்றி பெற...      NOT\n",
       "1  tam2  இந்த ட்ரெய்லர் கூட பார்க்கிற மாதிரி இல்லை.. இத...      OFF\n",
       "2  tam3  மைசூரு செட்டியார் சமூகத்தின் சார்பாக இப்படம் வ...      NOT\n",
       "3  tam4  மொத்த சாதியும் ஒரு சாதிக்கு எதிரா நிக்குது.......      OFF\n",
       "4  tam5                     only for விஜய் சேதுபதி and STR      NOT"
      ]
     },
     "execution_count": 6,
     "metadata": {},
     "output_type": "execute_result"
    }
   ],
   "source": [
    "dataframe.head()"
   ]
  },
  {
   "cell_type": "code",
   "execution_count": null,
   "metadata": {
    "colab": {
     "base_uri": "https://localhost:8080/",
     "height": 175
    },
    "executionInfo": {
     "elapsed": 848,
     "status": "ok",
     "timestamp": 1633520050108,
     "user": {
      "displayName": "Srivarshan 19BAI1078",
      "photoUrl": "https://lh3.googleusercontent.com/a/default-user=s64",
      "userId": "03718411517360748676"
     },
     "user_tz": -330
    },
    "id": "wz9txWy-XScR",
    "outputId": "892debb9-761c-464c-83de-35869eef13c3"
   },
   "outputs": [
    {
     "data": {
      "text/html": [
       "<div>\n",
       "<style scoped>\n",
       "    .dataframe tbody tr th:only-of-type {\n",
       "        vertical-align: middle;\n",
       "    }\n",
       "\n",
       "    .dataframe tbody tr th {\n",
       "        vertical-align: top;\n",
       "    }\n",
       "\n",
       "    .dataframe thead th {\n",
       "        text-align: right;\n",
       "    }\n",
       "</style>\n",
       "<table border=\"1\" class=\"dataframe\">\n",
       "  <thead>\n",
       "    <tr style=\"text-align: right;\">\n",
       "      <th></th>\n",
       "      <th>id</th>\n",
       "      <th>text</th>\n",
       "      <th>category</th>\n",
       "    </tr>\n",
       "  </thead>\n",
       "  <tbody>\n",
       "    <tr>\n",
       "      <th>count</th>\n",
       "      <td>5880</td>\n",
       "      <td>5880</td>\n",
       "      <td>5880</td>\n",
       "    </tr>\n",
       "    <tr>\n",
       "      <th>unique</th>\n",
       "      <td>5880</td>\n",
       "      <td>5812</td>\n",
       "      <td>3</td>\n",
       "    </tr>\n",
       "    <tr>\n",
       "      <th>top</th>\n",
       "      <td>tam808</td>\n",
       "      <td>வந்தா ராஜாவா தான் வருவேன்........ ராஜாவா வந்தா...</td>\n",
       "      <td>NOT</td>\n",
       "    </tr>\n",
       "    <tr>\n",
       "      <th>freq</th>\n",
       "      <td>1</td>\n",
       "      <td>5</td>\n",
       "      <td>4724</td>\n",
       "    </tr>\n",
       "  </tbody>\n",
       "</table>\n",
       "</div>"
      ],
      "text/plain": [
       "            id                                               text category\n",
       "count     5880                                               5880     5880\n",
       "unique    5880                                               5812        3\n",
       "top     tam808  வந்தா ராஜாவா தான் வருவேன்........ ராஜாவா வந்தா...      NOT\n",
       "freq         1                                                  5     4724"
      ]
     },
     "execution_count": 7,
     "metadata": {},
     "output_type": "execute_result"
    }
   ],
   "source": [
    "dataframe.describe()"
   ]
  },
  {
   "cell_type": "code",
   "execution_count": null,
   "metadata": {
    "colab": {
     "base_uri": "https://localhost:8080/"
    },
    "executionInfo": {
     "elapsed": 73,
     "status": "ok",
     "timestamp": 1633520050115,
     "user": {
      "displayName": "Srivarshan 19BAI1078",
      "photoUrl": "https://lh3.googleusercontent.com/a/default-user=s64",
      "userId": "03718411517360748676"
     },
     "user_tz": -330
    },
    "id": "vkt5ouYncr9I",
    "outputId": "7398bdde-53ed-44f2-e00f-215526d95435"
   },
   "outputs": [
    {
     "data": {
      "text/plain": [
       "array(['NOT', 'OFF', 'not-Tamil'], dtype=object)"
      ]
     },
     "execution_count": 8,
     "metadata": {},
     "output_type": "execute_result"
    }
   ],
   "source": [
    "dataframe['category'].unique()"
   ]
  },
  {
   "cell_type": "code",
   "execution_count": null,
   "metadata": {
    "colab": {
     "base_uri": "https://localhost:8080/"
    },
    "executionInfo": {
     "elapsed": 63,
     "status": "ok",
     "timestamp": 1633520050116,
     "user": {
      "displayName": "Srivarshan 19BAI1078",
      "photoUrl": "https://lh3.googleusercontent.com/a/default-user=s64",
      "userId": "03718411517360748676"
     },
     "user_tz": -330
    },
    "id": "jOEi-dH7fz4h",
    "outputId": "32ae8512-57a1-4ecb-e968-11ce8408d45c"
   },
   "outputs": [
    {
     "data": {
      "text/plain": [
       "(5880, 3)"
      ]
     },
     "execution_count": 9,
     "metadata": {},
     "output_type": "execute_result"
    }
   ],
   "source": [
    "dataframe.shape"
   ]
  },
  {
   "cell_type": "code",
   "execution_count": null,
   "metadata": {
    "colab": {
     "base_uri": "https://localhost:8080/"
    },
    "executionInfo": {
     "elapsed": 59,
     "status": "ok",
     "timestamp": 1633520050116,
     "user": {
      "displayName": "Srivarshan 19BAI1078",
      "photoUrl": "https://lh3.googleusercontent.com/a/default-user=s64",
      "userId": "03718411517360748676"
     },
     "user_tz": -330
    },
    "id": "i9yjOAHifVLx",
    "outputId": "fdbf58aa-ca1f-4cad-9403-2b4fadd48762"
   },
   "outputs": [
    {
     "data": {
      "text/plain": [
       "array(['NOT', 'OFF'], dtype=object)"
      ]
     },
     "execution_count": 10,
     "metadata": {},
     "output_type": "execute_result"
    }
   ],
   "source": [
    "dataframe = dataframe.loc[dataframe['category'] != 'not-Tamil']\n",
    "dataframe['category'].unique()"
   ]
  },
  {
   "cell_type": "code",
   "execution_count": null,
   "metadata": {
    "colab": {
     "base_uri": "https://localhost:8080/"
    },
    "executionInfo": {
     "elapsed": 54,
     "status": "ok",
     "timestamp": 1633520050117,
     "user": {
      "displayName": "Srivarshan 19BAI1078",
      "photoUrl": "https://lh3.googleusercontent.com/a/default-user=s64",
      "userId": "03718411517360748676"
     },
     "user_tz": -330
    },
    "id": "jpUQgdEpf3Og",
    "outputId": "d21a4fb7-0f4d-4453-a454-fdd8638832c0"
   },
   "outputs": [
    {
     "data": {
      "text/plain": [
       "(5877, 3)"
      ]
     },
     "execution_count": 11,
     "metadata": {},
     "output_type": "execute_result"
    }
   ],
   "source": [
    "dataframe.shape"
   ]
  },
  {
   "cell_type": "code",
   "execution_count": null,
   "metadata": {
    "id": "KWL1S_KhX2Vt"
   },
   "outputs": [],
   "source": [
    "text = dataframe['text']"
   ]
  },
  {
   "cell_type": "code",
   "execution_count": null,
   "metadata": {
    "colab": {
     "base_uri": "https://localhost:8080/"
    },
    "executionInfo": {
     "elapsed": 43,
     "status": "ok",
     "timestamp": 1633520050118,
     "user": {
      "displayName": "Srivarshan 19BAI1078",
      "photoUrl": "https://lh3.googleusercontent.com/a/default-user=s64",
      "userId": "03718411517360748676"
     },
     "user_tz": -330
    },
    "id": "dywNEXswbwMA",
    "outputId": "1fa2e55f-5eeb-4b3f-fa69-cca3160ed0ec"
   },
   "outputs": [
    {
     "data": {
      "text/plain": [
       "0       திருமலை நாயக்கர் பேரவை சார்பாக படம் வெற்றி பெற...\n",
       "1       இந்த ட்ரெய்லர் கூட பார்க்கிற மாதிரி இல்லை.. இத...\n",
       "2       மைசூரு செட்டியார் சமூகத்தின் சார்பாக இப்படம் வ...\n",
       "3       மொத்த சாதியும் ஒரு சாதிக்கு எதிரா நிக்குது.......\n",
       "4                          only for விஜய் சேதுபதி and STR\n",
       "                              ...                        \n",
       "5875    இப்போதான் ஜாதி பிரச்சினை இல்லாம இருக்கு இப்போ ...\n",
       "5876    இது ஒரு சாதி ரீதியான படம் இல்லை தான் செல்லும் ...\n",
       "5877    கதை தெரியவில்லை  இருந்தாலும் மாறுபட்ட சிந்தனை ...\n",
       "5878    அட பரவால்லையே 8.5 டிஸ்லைக்ஸ் போட்ருக்கானுங்க.....\n",
       "5879    உதயநிதிக்கு நடிப்பு வரலனு சொல்ரவங்க லைக் போடுங...\n",
       "Name: text, Length: 5877, dtype: object"
      ]
     },
     "execution_count": 13,
     "metadata": {},
     "output_type": "execute_result"
    }
   ],
   "source": [
    "text"
   ]
  },
  {
   "cell_type": "code",
   "execution_count": null,
   "metadata": {
    "id": "9PWH0DJkb6VM"
   },
   "outputs": [],
   "source": [
    "label = dataframe['category']"
   ]
  },
  {
   "cell_type": "code",
   "execution_count": null,
   "metadata": {
    "colab": {
     "base_uri": "https://localhost:8080/"
    },
    "executionInfo": {
     "elapsed": 36,
     "status": "ok",
     "timestamp": 1633520050119,
     "user": {
      "displayName": "Srivarshan 19BAI1078",
      "photoUrl": "https://lh3.googleusercontent.com/a/default-user=s64",
      "userId": "03718411517360748676"
     },
     "user_tz": -330
    },
    "id": "1UzwkQvQcCf5",
    "outputId": "94714d7e-a6df-4bea-aa58-8c829f1e3d95"
   },
   "outputs": [
    {
     "data": {
      "text/plain": [
       "0       NOT\n",
       "1       OFF\n",
       "2       NOT\n",
       "3       OFF\n",
       "4       NOT\n",
       "       ... \n",
       "5875    NOT\n",
       "5876    NOT\n",
       "5877    NOT\n",
       "5878    OFF\n",
       "5879    NOT\n",
       "Name: category, Length: 5877, dtype: object"
      ]
     },
     "execution_count": 15,
     "metadata": {},
     "output_type": "execute_result"
    }
   ],
   "source": [
    "label"
   ]
  },
  {
   "cell_type": "markdown",
   "metadata": {
    "id": "RmVxtiA4cLo5"
   },
   "source": [
    "## **Data Preprocessing**"
   ]
  },
  {
   "cell_type": "code",
   "execution_count": null,
   "metadata": {
    "colab": {
     "base_uri": "https://localhost:8080/"
    },
    "executionInfo": {
     "elapsed": 31,
     "status": "ok",
     "timestamp": 1633520050119,
     "user": {
      "displayName": "Srivarshan 19BAI1078",
      "photoUrl": "https://lh3.googleusercontent.com/a/default-user=s64",
      "userId": "03718411517360748676"
     },
     "user_tz": -330
    },
    "id": "dgn8Zj_fcDss",
    "outputId": "1effad40-926e-48e2-e2bb-3a9832dfc818"
   },
   "outputs": [
    {
     "data": {
      "text/plain": [
       "array([0, 1, 0, ..., 0, 1, 0])"
      ]
     },
     "execution_count": 16,
     "metadata": {},
     "output_type": "execute_result"
    }
   ],
   "source": [
    "le = LabelEncoder()\n",
    "label = le.fit_transform(label)\n",
    "label"
   ]
  },
  {
   "cell_type": "code",
   "execution_count": null,
   "metadata": {
    "colab": {
     "base_uri": "https://localhost:8080/"
    },
    "executionInfo": {
     "elapsed": 26,
     "status": "ok",
     "timestamp": 1633520050120,
     "user": {
      "displayName": "Srivarshan 19BAI1078",
      "photoUrl": "https://lh3.googleusercontent.com/a/default-user=s64",
      "userId": "03718411517360748676"
     },
     "user_tz": -330
    },
    "id": "ByvQj17ZeIbE",
    "outputId": "b198a4bf-fd78-460d-afac-a8da4699e796"
   },
   "outputs": [
    {
     "data": {
      "text/plain": [
       "array(['திருமலை நாயக்கர் பேரவை சார்பாக படம் வெற்றி பெற வாழ்த்துக்கள்',\n",
       "       'இந்த ட்ரெய்லர் கூட பார்க்கிற மாதிரி இல்லை.. இதை தியேட்டர் ல போய் பார்க்கனுமா.. .',\n",
       "       'மைசூரு செட்டியார் சமூகத்தின் சார்பாக இப்படம் வெற்றிபெற வாழ்த்துகிறேன்',\n",
       "       ...,\n",
       "       'கதை தெரியவில்லை  இருந்தாலும் மாறுபட்ட சிந்தனை வாழ்த்துக்கள்  பறையர் சார்பாக  நன்றி மோகன் ஜி',\n",
       "       'அட பரவால்லையே 8.5 டிஸ்லைக்ஸ் போட்ருக்கானுங்க.. பரவால வயிறு எறிஞ்சி சாவுங்கடா சாவுங்கடா சாக்காடை நாய்ங்களா..இன்னும் நிறைய டிஸ்லைக்ஸ் எதிர் பாக்குறன்..',\n",
       "       'உதயநிதிக்கு நடிப்பு வரலனு சொல்ரவங்க லைக் போடுங்கள் ...'],\n",
       "      dtype=object)"
      ]
     },
     "execution_count": 17,
     "metadata": {},
     "output_type": "execute_result"
    }
   ],
   "source": [
    "text = text.str.replace(r\"[+/#@&*$%:]\",'')\n",
    "text = text.to_numpy()\n",
    "text"
   ]
  },
  {
   "cell_type": "code",
   "execution_count": null,
   "metadata": {
    "colab": {
     "base_uri": "https://localhost:8080/"
    },
    "executionInfo": {
     "elapsed": 30638,
     "status": "ok",
     "timestamp": 1633520080737,
     "user": {
      "displayName": "Srivarshan 19BAI1078",
      "photoUrl": "https://lh3.googleusercontent.com/a/default-user=s64",
      "userId": "03718411517360748676"
     },
     "user_tz": -330
    },
    "id": "TN4btwPwWLQi",
    "outputId": "59905d94-6e00-465b-dbd9-f692867e47c8"
   },
   "outputs": [
    {
     "name": "stdout",
     "output_type": "stream",
     "text": [
      "rm: cannot remove 'input.txt': No such file or directory\n",
      "rm: cannot remove 'output.txt': No such file or directory\n"
     ]
    }
   ],
   "source": [
    "text = text.tolist()\n",
    "\n",
    "! rm input.txt\n",
    "! rm output.txt\n",
    "\n",
    "for i in text:\n",
    "    text_file = open(\"input.txt\", \"a\")\n",
    "    text_file.write(i + '\\n')\n",
    "    text_file.close()"
   ]
  },
  {
   "cell_type": "code",
   "execution_count": null,
   "metadata": {
    "id": "Tgr_3dVDWQFK"
   },
   "outputs": [],
   "source": [
    "! ./tamil-stemmer-build/snowball-with-tamil/stemwords -l ta -i input.txt -o output.txt"
   ]
  },
  {
   "cell_type": "code",
   "execution_count": null,
   "metadata": {
    "id": "a02wqO3SWSRL"
   },
   "outputs": [],
   "source": [
    "text_file = open(\"output.txt\", \"r\")\n",
    "\n",
    "text = []\n",
    "\n",
    "for line in text_file:\n",
    "    text.append(line.strip())"
   ]
  },
  {
   "cell_type": "code",
   "execution_count": null,
   "metadata": {
    "colab": {
     "base_uri": "https://localhost:8080/"
    },
    "executionInfo": {
     "elapsed": 43,
     "status": "ok",
     "timestamp": 1633520081359,
     "user": {
      "displayName": "Srivarshan 19BAI1078",
      "photoUrl": "https://lh3.googleusercontent.com/a/default-user=s64",
      "userId": "03718411517360748676"
     },
     "user_tz": -330
    },
    "id": "C_4kj_OHWU-d",
    "outputId": "ab2c18ae-6ff0-4c43-8a4d-b687d8059922"
   },
   "outputs": [
    {
     "data": {
      "text/plain": [
       "array(['திருமலை நாயக்கர் பேரவை சார்பாக படம் வெற்றி பெற வாழ்',\n",
       "       'த ட்ரெய்லர் கூட பார்க்கிற மாதிரி இல்லை.. இதை தியேட்டர் ல போய் பார்க்கனுமா.. .',\n",
       "       'மைசூரு செட்டியார் சமூகத்தின் சார்பாக இப்படம் வெற்றிபெற வாழ்', ...,\n",
       "       'கதை தெரியவில்லை  இருந்தாலும் மாறுபட்ட சிந்தனை வாழ்த்துக்கள்  பறையர் சார்பாக  நன்றி மோகன் ஜி',\n",
       "       'அட பரவால்லையே 8.5 டிஸ்லைக்ஸ் போட்ருக்கானுங்க.. பரவால வயிறு எறிஞ்சி சாவுங்கடா சாவுங்கடா சாக்காடை நாய்ங்களா..இன்னும் நிறைய டிஸ்லைக்ஸ் எதிர் பாக்குறன்..',\n",
       "       'உதயநிதிக்கு நடிப்பு வரலனு சொல்ரவங்க லைக் போடுங்கள் ...'],\n",
       "      dtype='<U795')"
      ]
     },
     "execution_count": 21,
     "metadata": {},
     "output_type": "execute_result"
    }
   ],
   "source": [
    "text = np.array(text)\n",
    "text"
   ]
  },
  {
   "cell_type": "markdown",
   "metadata": {
    "id": "XqLXVYkpi6wp"
   },
   "source": [
    "## **Feature Extraction**"
   ]
  },
  {
   "cell_type": "code",
   "execution_count": null,
   "metadata": {
    "id": "XuZ0X3gkgL67"
   },
   "outputs": [],
   "source": [
    "vectorizer = TfidfVectorizer(min_df = 5)\n",
    "X = vectorizer.fit_transform(text)\n",
    "X = X.todense()"
   ]
  },
  {
   "cell_type": "code",
   "execution_count": null,
   "metadata": {
    "colab": {
     "base_uri": "https://localhost:8080/"
    },
    "executionInfo": {
     "elapsed": 38,
     "status": "ok",
     "timestamp": 1633520081362,
     "user": {
      "displayName": "Srivarshan 19BAI1078",
      "photoUrl": "https://lh3.googleusercontent.com/a/default-user=s64",
      "userId": "03718411517360748676"
     },
     "user_tz": -330
    },
    "id": "9mbDATAEjNG-",
    "outputId": "bd1f800a-45fe-4f41-b012-92ce2e1da2da"
   },
   "outputs": [
    {
     "data": {
      "text/plain": [
       "(5877, 782)"
      ]
     },
     "execution_count": 23,
     "metadata": {},
     "output_type": "execute_result"
    }
   ],
   "source": [
    "X.shape"
   ]
  },
  {
   "cell_type": "code",
   "execution_count": null,
   "metadata": {
    "colab": {
     "base_uri": "https://localhost:8080/"
    },
    "executionInfo": {
     "elapsed": 34,
     "status": "ok",
     "timestamp": 1633520081364,
     "user": {
      "displayName": "Srivarshan 19BAI1078",
      "photoUrl": "https://lh3.googleusercontent.com/a/default-user=s64",
      "userId": "03718411517360748676"
     },
     "user_tz": -330
    },
    "id": "it8rohkQjNyB",
    "outputId": "c9726de8-0408-40c4-db9e-22f0f4bdca25"
   },
   "outputs": [
    {
     "data": {
      "text/plain": [
       "(5877,)"
      ]
     },
     "execution_count": 24,
     "metadata": {},
     "output_type": "execute_result"
    }
   ],
   "source": [
    "y = label\n",
    "y.shape"
   ]
  },
  {
   "cell_type": "markdown",
   "metadata": {
    "id": "vbkqhGWCkBLd"
   },
   "source": [
    "## **Train Test Split**"
   ]
  },
  {
   "cell_type": "code",
   "execution_count": null,
   "metadata": {
    "id": "-HI0k7Nvj_G9"
   },
   "outputs": [],
   "source": [
    "X_train, X_val, y_train, y_val = train_test_split(X, y, test_size=0.2, random_state=42)"
   ]
  },
  {
   "cell_type": "code",
   "execution_count": null,
   "metadata": {
    "colab": {
     "base_uri": "https://localhost:8080/"
    },
    "executionInfo": {
     "elapsed": 30,
     "status": "ok",
     "timestamp": 1633520081366,
     "user": {
      "displayName": "Srivarshan 19BAI1078",
      "photoUrl": "https://lh3.googleusercontent.com/a/default-user=s64",
      "userId": "03718411517360748676"
     },
     "user_tz": -330
    },
    "id": "cenFKI0jkOWc",
    "outputId": "45a68805-13ca-43d2-f351-f928f2885c11"
   },
   "outputs": [
    {
     "data": {
      "text/plain": [
       "(4701, 782)"
      ]
     },
     "execution_count": 26,
     "metadata": {},
     "output_type": "execute_result"
    }
   ],
   "source": [
    "X_train.shape"
   ]
  },
  {
   "cell_type": "code",
   "execution_count": null,
   "metadata": {
    "colab": {
     "base_uri": "https://localhost:8080/"
    },
    "executionInfo": {
     "elapsed": 25,
     "status": "ok",
     "timestamp": 1633520081367,
     "user": {
      "displayName": "Srivarshan 19BAI1078",
      "photoUrl": "https://lh3.googleusercontent.com/a/default-user=s64",
      "userId": "03718411517360748676"
     },
     "user_tz": -330
    },
    "id": "aYhoZD6TkRef",
    "outputId": "25213674-1808-4f16-caef-612945c4456a"
   },
   "outputs": [
    {
     "data": {
      "text/plain": [
       "(1176, 782)"
      ]
     },
     "execution_count": 27,
     "metadata": {},
     "output_type": "execute_result"
    }
   ],
   "source": [
    "X_val.shape"
   ]
  },
  {
   "cell_type": "markdown",
   "metadata": {
    "id": "N5UcvQlXkXVa"
   },
   "source": [
    "## **Logistic Regression**"
   ]
  },
  {
   "cell_type": "code",
   "execution_count": null,
   "metadata": {
    "colab": {
     "base_uri": "https://localhost:8080/"
    },
    "executionInfo": {
     "elapsed": 333,
     "status": "ok",
     "timestamp": 1633520081679,
     "user": {
      "displayName": "Srivarshan 19BAI1078",
      "photoUrl": "https://lh3.googleusercontent.com/a/default-user=s64",
      "userId": "03718411517360748676"
     },
     "user_tz": -330
    },
    "id": "HhZsD3YSkTKR",
    "outputId": "137edbd3-cfd8-450a-e1f2-b727a1a78c13"
   },
   "outputs": [
    {
     "name": "stdout",
     "output_type": "stream",
     "text": [
      "              precision    recall  f1-score   support\n",
      "\n",
      "           0       0.83      0.98      0.90       950\n",
      "           1       0.64      0.17      0.27       226\n",
      "\n",
      "    accuracy                           0.82      1176\n",
      "   macro avg       0.74      0.57      0.59      1176\n",
      "weighted avg       0.80      0.82      0.78      1176\n",
      "\n"
     ]
    }
   ],
   "source": [
    "lr = LogisticRegression()\n",
    "lr.fit(X_train, y_train)\n",
    "lr_pred = lr.predict(X_val)\n",
    "print(classification_report(y_val, lr_pred))"
   ]
  },
  {
   "cell_type": "markdown",
   "metadata": {
    "id": "CdKnWShLk7A9"
   },
   "source": [
    "## **Support Vector Machine**"
   ]
  },
  {
   "cell_type": "code",
   "execution_count": null,
   "metadata": {
    "colab": {
     "base_uri": "https://localhost:8080/"
    },
    "executionInfo": {
     "elapsed": 21966,
     "status": "ok",
     "timestamp": 1633520103642,
     "user": {
      "displayName": "Srivarshan 19BAI1078",
      "photoUrl": "https://lh3.googleusercontent.com/a/default-user=s64",
      "userId": "03718411517360748676"
     },
     "user_tz": -330
    },
    "id": "aOcFe8gjkw1B",
    "outputId": "6feecef7-0c13-4555-b634-524368749ec2"
   },
   "outputs": [
    {
     "name": "stdout",
     "output_type": "stream",
     "text": [
      "              precision    recall  f1-score   support\n",
      "\n",
      "           0       0.82      0.99      0.90       950\n",
      "           1       0.68      0.09      0.16       226\n",
      "\n",
      "    accuracy                           0.82      1176\n",
      "   macro avg       0.75      0.54      0.53      1176\n",
      "weighted avg       0.79      0.82      0.76      1176\n",
      "\n"
     ]
    }
   ],
   "source": [
    "svm = SVC()\n",
    "svm.fit(X_train, y_train)\n",
    "svm_pred = svm.predict(X_val)\n",
    "print(classification_report(y_val, svm_pred))"
   ]
  },
  {
   "cell_type": "markdown",
   "metadata": {
    "id": "xfkrSN5_lbRf"
   },
   "source": [
    "## **Naive Bayes**"
   ]
  },
  {
   "cell_type": "code",
   "execution_count": null,
   "metadata": {
    "colab": {
     "base_uri": "https://localhost:8080/"
    },
    "executionInfo": {
     "elapsed": 23,
     "status": "ok",
     "timestamp": 1633520103644,
     "user": {
      "displayName": "Srivarshan 19BAI1078",
      "photoUrl": "https://lh3.googleusercontent.com/a/default-user=s64",
      "userId": "03718411517360748676"
     },
     "user_tz": -330
    },
    "id": "-kaapWI5lKiK",
    "outputId": "3750a0f2-6923-4450-fe59-609d8624f1be"
   },
   "outputs": [
    {
     "name": "stdout",
     "output_type": "stream",
     "text": [
      "              precision    recall  f1-score   support\n",
      "\n",
      "           0       0.87      0.24      0.37       950\n",
      "           1       0.21      0.85      0.33       226\n",
      "\n",
      "    accuracy                           0.35      1176\n",
      "   macro avg       0.54      0.54      0.35      1176\n",
      "weighted avg       0.74      0.35      0.37      1176\n",
      "\n"
     ]
    }
   ],
   "source": [
    "nb = GaussianNB()\n",
    "nb.fit(X_train, y_train)\n",
    "nb_pred = nb.predict(X_val)\n",
    "print(classification_report(y_val, nb_pred))"
   ]
  },
  {
   "cell_type": "markdown",
   "metadata": {
    "id": "YsfjY27Alobo"
   },
   "source": [
    "## **Stochastic Gradient Descent**"
   ]
  },
  {
   "cell_type": "code",
   "execution_count": null,
   "metadata": {
    "colab": {
     "base_uri": "https://localhost:8080/"
    },
    "executionInfo": {
     "elapsed": 563,
     "status": "ok",
     "timestamp": 1633520104197,
     "user": {
      "displayName": "Srivarshan 19BAI1078",
      "photoUrl": "https://lh3.googleusercontent.com/a/default-user=s64",
      "userId": "03718411517360748676"
     },
     "user_tz": -330
    },
    "id": "ok42ngKsljSv",
    "outputId": "23b9c114-1d1e-4300-9a53-8909284cb114"
   },
   "outputs": [
    {
     "name": "stdout",
     "output_type": "stream",
     "text": [
      "              precision    recall  f1-score   support\n",
      "\n",
      "           0       0.84      0.95      0.90       950\n",
      "           1       0.57      0.26      0.36       226\n",
      "\n",
      "    accuracy                           0.82      1176\n",
      "   macro avg       0.71      0.61      0.63      1176\n",
      "weighted avg       0.79      0.82      0.79      1176\n",
      "\n"
     ]
    }
   ],
   "source": [
    "sgd = SGDClassifier()\n",
    "sgd.fit(X_train, y_train)\n",
    "sgd_pred = sgd.predict(X_val)\n",
    "print(classification_report(y_val, sgd_pred))"
   ]
  },
  {
   "cell_type": "markdown",
   "metadata": {
    "id": "Nu2lk2QPlwYQ"
   },
   "source": [
    "## **K Nearest Neighbours**"
   ]
  },
  {
   "cell_type": "code",
   "execution_count": null,
   "metadata": {
    "colab": {
     "base_uri": "https://localhost:8080/"
    },
    "executionInfo": {
     "elapsed": 9874,
     "status": "ok",
     "timestamp": 1633520114065,
     "user": {
      "displayName": "Srivarshan 19BAI1078",
      "photoUrl": "https://lh3.googleusercontent.com/a/default-user=s64",
      "userId": "03718411517360748676"
     },
     "user_tz": -330
    },
    "id": "AKBoWITmlttl",
    "outputId": "9b31bc52-d586-4437-d680-6edb0601db51"
   },
   "outputs": [
    {
     "name": "stdout",
     "output_type": "stream",
     "text": [
      "              precision    recall  f1-score   support\n",
      "\n",
      "           0       0.81      0.98      0.89       950\n",
      "           1       0.30      0.03      0.06       226\n",
      "\n",
      "    accuracy                           0.80      1176\n",
      "   macro avg       0.56      0.51      0.47      1176\n",
      "weighted avg       0.71      0.80      0.73      1176\n",
      "\n"
     ]
    }
   ],
   "source": [
    "knn = KNeighborsClassifier()\n",
    "knn.fit(X_train, y_train)\n",
    "knn_pred = knn.predict(X_val)\n",
    "print(classification_report(y_val, knn_pred))"
   ]
  },
  {
   "cell_type": "markdown",
   "metadata": {
    "id": "q31wAt-hl77l"
   },
   "source": [
    "## **Decision Tree**"
   ]
  },
  {
   "cell_type": "code",
   "execution_count": null,
   "metadata": {
    "colab": {
     "base_uri": "https://localhost:8080/"
    },
    "executionInfo": {
     "elapsed": 1959,
     "status": "ok",
     "timestamp": 1633520116011,
     "user": {
      "displayName": "Srivarshan 19BAI1078",
      "photoUrl": "https://lh3.googleusercontent.com/a/default-user=s64",
      "userId": "03718411517360748676"
     },
     "user_tz": -330
    },
    "id": "myZGSkg8l2Sb",
    "outputId": "b8819166-0b2f-40c5-b067-fb7d9884c787"
   },
   "outputs": [
    {
     "name": "stdout",
     "output_type": "stream",
     "text": [
      "              precision    recall  f1-score   support\n",
      "\n",
      "           0       0.84      0.88      0.86       950\n",
      "           1       0.37      0.30      0.33       226\n",
      "\n",
      "    accuracy                           0.77      1176\n",
      "   macro avg       0.60      0.59      0.59      1176\n",
      "weighted avg       0.75      0.77      0.76      1176\n",
      "\n"
     ]
    }
   ],
   "source": [
    "dt = DecisionTreeClassifier()\n",
    "dt.fit(X_train, y_train)\n",
    "dt_pred = dt.predict(X_val)\n",
    "print(classification_report(y_val, dt_pred))"
   ]
  },
  {
   "cell_type": "markdown",
   "metadata": {
    "id": "yix34JvXmDmG"
   },
   "source": [
    "## **Random Forest**"
   ]
  },
  {
   "cell_type": "code",
   "execution_count": null,
   "metadata": {
    "colab": {
     "base_uri": "https://localhost:8080/"
    },
    "executionInfo": {
     "elapsed": 4214,
     "status": "ok",
     "timestamp": 1633520120217,
     "user": {
      "displayName": "Srivarshan 19BAI1078",
      "photoUrl": "https://lh3.googleusercontent.com/a/default-user=s64",
      "userId": "03718411517360748676"
     },
     "user_tz": -330
    },
    "id": "G05xqtlKmB4O",
    "outputId": "3ad2114f-2840-44d1-d5a5-faeefaee847c"
   },
   "outputs": [
    {
     "name": "stdout",
     "output_type": "stream",
     "text": [
      "              precision    recall  f1-score   support\n",
      "\n",
      "           0       0.82      0.98      0.90       950\n",
      "           1       0.59      0.10      0.17       226\n",
      "\n",
      "    accuracy                           0.81      1176\n",
      "   macro avg       0.71      0.54      0.53      1176\n",
      "weighted avg       0.78      0.81      0.76      1176\n",
      "\n"
     ]
    }
   ],
   "source": [
    "rf = RandomForestClassifier()\n",
    "rf.fit(X_train, y_train)\n",
    "rf_pred = rf.predict(X_val)\n",
    "print(classification_report(y_val, rf_pred))"
   ]
  },
  {
   "cell_type": "markdown",
   "metadata": {
    "id": "k_Po22I0mR_U"
   },
   "source": [
    "## **Majority Voting**"
   ]
  },
  {
   "cell_type": "code",
   "execution_count": null,
   "metadata": {
    "colab": {
     "base_uri": "https://localhost:8080/"
    },
    "executionInfo": {
     "elapsed": 59,
     "status": "ok",
     "timestamp": 1633520120220,
     "user": {
      "displayName": "Srivarshan 19BAI1078",
      "photoUrl": "https://lh3.googleusercontent.com/a/default-user=s64",
      "userId": "03718411517360748676"
     },
     "user_tz": -330
    },
    "id": "o8ilW11CnOC7",
    "outputId": "113e36aa-4e0d-47b6-a781-e4223cc6e36e"
   },
   "outputs": [
    {
     "name": "stdout",
     "output_type": "stream",
     "text": [
      "              precision    recall  f1-score   support\n",
      "\n",
      "           0       0.83      0.98      0.90       950\n",
      "           1       0.67      0.14      0.23       226\n",
      "\n",
      "    accuracy                           0.82      1176\n",
      "   macro avg       0.75      0.56      0.56      1176\n",
      "weighted avg       0.80      0.82      0.77      1176\n",
      "\n"
     ]
    }
   ],
   "source": [
    "mv_pred = []\n",
    "\n",
    "for i in range(len(lr_pred)):\n",
    "    one = 0\n",
    "    zero = 0\n",
    "    # Removing KNN and NB from predictions due to poor performance\n",
    "    predictions = [lr_pred[i], svm_pred[i], sgd_pred[i], \n",
    "                   dt_pred[i], rf_pred[i]]\n",
    "    for pred in predictions:\n",
    "        if pred == 1: one += 1\n",
    "        if pred == 0: zero +=1\n",
    "    if one > zero: mv_pred.append(1)\n",
    "    else: mv_pred.append(0)\n",
    "\n",
    "mv_pred = np.array(mv_pred)\n",
    "\n",
    "print(classification_report(y_val, mv_pred))"
   ]
  },
  {
   "cell_type": "markdown",
   "metadata": {
    "id": "26_Z6Um4oyXP"
   },
   "source": [
    "## **Loading Testing Data**"
   ]
  },
  {
   "cell_type": "code",
   "execution_count": null,
   "metadata": {
    "colab": {
     "base_uri": "https://localhost:8080/",
     "height": 206
    },
    "executionInfo": {
     "elapsed": 48,
     "status": "ok",
     "timestamp": 1633520120225,
     "user": {
      "displayName": "Srivarshan 19BAI1078",
      "photoUrl": "https://lh3.googleusercontent.com/a/default-user=s64",
      "userId": "03718411517360748676"
     },
     "user_tz": -330
    },
    "id": "h341S7V8oFf0",
    "outputId": "3620451c-e3b1-4f50-bf73-939e87d1f44b"
   },
   "outputs": [
    {
     "data": {
      "text/html": [
       "<div>\n",
       "<style scoped>\n",
       "    .dataframe tbody tr th:only-of-type {\n",
       "        vertical-align: middle;\n",
       "    }\n",
       "\n",
       "    .dataframe tbody tr th {\n",
       "        vertical-align: top;\n",
       "    }\n",
       "\n",
       "    .dataframe thead th {\n",
       "        text-align: right;\n",
       "    }\n",
       "</style>\n",
       "<table border=\"1\" class=\"dataframe\">\n",
       "  <thead>\n",
       "    <tr style=\"text-align: right;\">\n",
       "      <th></th>\n",
       "      <th>id</th>\n",
       "      <th>text</th>\n",
       "    </tr>\n",
       "  </thead>\n",
       "  <tbody>\n",
       "    <tr>\n",
       "      <th>0</th>\n",
       "      <td>tam_test_1</td>\n",
       "      <td>தலைவா STR இதுக்குதான் கதுருந்தோம் மாஸ் தலைவா t...</td>\n",
       "    </tr>\n",
       "    <tr>\n",
       "      <th>1</th>\n",
       "      <td>tam_test_2</td>\n",
       "      <td>நாயுடு மக்கள் சார்பாக திரைப்படம் வெற்றி பெற வா...</td>\n",
       "    </tr>\n",
       "    <tr>\n",
       "      <th>2</th>\n",
       "      <td>tam_test_3</td>\n",
       "      <td>தில்லானா முயற்சி  தஞ்சை கோனார்</td>\n",
       "    </tr>\n",
       "    <tr>\n",
       "      <th>3</th>\n",
       "      <td>tam_test_4</td>\n",
       "      <td>திரௌபதியின் துகிலுறித்த போது காத்த கண்ணனின் யா...</td>\n",
       "    </tr>\n",
       "    <tr>\n",
       "      <th>4</th>\n",
       "      <td>tam_test_5</td>\n",
       "      <td>நான் தியேட்டர்லே படம் பார்த்து 35 வருஷமாச்சு! ...</td>\n",
       "    </tr>\n",
       "  </tbody>\n",
       "</table>\n",
       "</div>"
      ],
      "text/plain": [
       "           id                                               text\n",
       "0  tam_test_1  தலைவா STR இதுக்குதான் கதுருந்தோம் மாஸ் தலைவா t...\n",
       "1  tam_test_2  நாயுடு மக்கள் சார்பாக திரைப்படம் வெற்றி பெற வா...\n",
       "2  tam_test_3                     தில்லானா முயற்சி  தஞ்சை கோனார்\n",
       "3  tam_test_4  திரௌபதியின் துகிலுறித்த போது காத்த கண்ணனின் யா...\n",
       "4  tam_test_5  நான் தியேட்டர்லே படம் பார்த்து 35 வருஷமாச்சு! ..."
      ]
     },
     "execution_count": 36,
     "metadata": {},
     "output_type": "execute_result"
    }
   ],
   "source": [
    "dataframe_test = pd.read_csv(\n",
    "    \"Dataset/tam_offesive_withoutlabels_test.tsv\", \n",
    "    sep='\\t'\n",
    ")\n",
    "dataframe_test.head()"
   ]
  },
  {
   "cell_type": "code",
   "execution_count": null,
   "metadata": {
    "colab": {
     "base_uri": "https://localhost:8080/",
     "height": 175
    },
    "executionInfo": {
     "elapsed": 46,
     "status": "ok",
     "timestamp": 1633520120228,
     "user": {
      "displayName": "Srivarshan 19BAI1078",
      "photoUrl": "https://lh3.googleusercontent.com/a/default-user=s64",
      "userId": "03718411517360748676"
     },
     "user_tz": -330
    },
    "id": "FZQ-F7pSpHQM",
    "outputId": "8fbbe4f1-8239-4bbb-8cf7-596da7754b24"
   },
   "outputs": [
    {
     "data": {
      "text/html": [
       "<div>\n",
       "<style scoped>\n",
       "    .dataframe tbody tr th:only-of-type {\n",
       "        vertical-align: middle;\n",
       "    }\n",
       "\n",
       "    .dataframe tbody tr th {\n",
       "        vertical-align: top;\n",
       "    }\n",
       "\n",
       "    .dataframe thead th {\n",
       "        text-align: right;\n",
       "    }\n",
       "</style>\n",
       "<table border=\"1\" class=\"dataframe\">\n",
       "  <thead>\n",
       "    <tr style=\"text-align: right;\">\n",
       "      <th></th>\n",
       "      <th>id</th>\n",
       "      <th>text</th>\n",
       "    </tr>\n",
       "  </thead>\n",
       "  <tbody>\n",
       "    <tr>\n",
       "      <th>count</th>\n",
       "      <td>654</td>\n",
       "      <td>654</td>\n",
       "    </tr>\n",
       "    <tr>\n",
       "      <th>unique</th>\n",
       "      <td>654</td>\n",
       "      <td>654</td>\n",
       "    </tr>\n",
       "    <tr>\n",
       "      <th>top</th>\n",
       "      <td>tam_test_167</td>\n",
       "      <td>செம்ம funa இருக்க போகுது</td>\n",
       "    </tr>\n",
       "    <tr>\n",
       "      <th>freq</th>\n",
       "      <td>1</td>\n",
       "      <td>1</td>\n",
       "    </tr>\n",
       "  </tbody>\n",
       "</table>\n",
       "</div>"
      ],
      "text/plain": [
       "                  id                      text\n",
       "count            654                       654\n",
       "unique           654                       654\n",
       "top     tam_test_167  செம்ம funa இருக்க போகுது\n",
       "freq               1                         1"
      ]
     },
     "execution_count": 37,
     "metadata": {},
     "output_type": "execute_result"
    }
   ],
   "source": [
    "dataframe_test.describe()"
   ]
  },
  {
   "cell_type": "code",
   "execution_count": null,
   "metadata": {
    "id": "gjM6M2dQpduy"
   },
   "outputs": [],
   "source": [
    "text_test = dataframe_test['text']"
   ]
  },
  {
   "cell_type": "markdown",
   "metadata": {
    "id": "8wyTwsUpp3WC"
   },
   "source": [
    "## **Test Data Preprocessing**"
   ]
  },
  {
   "cell_type": "code",
   "execution_count": null,
   "metadata": {
    "id": "TYcNf3kHpl9R"
   },
   "outputs": [],
   "source": [
    "text_test = text_test.str.replace(r\"[+/#@&*$%:]\",'')\n",
    "text_test = text_test.to_numpy()"
   ]
  },
  {
   "cell_type": "code",
   "execution_count": null,
   "metadata": {
    "id": "utiH6ze1Yd5f"
   },
   "outputs": [],
   "source": [
    "text_test = text_test.tolist()\n",
    "\n",
    "! rm input.txt\n",
    "! rm output.txt\n",
    "\n",
    "for i in text_test:\n",
    "    text_file = open(\"input.txt\", \"a\")\n",
    "    text_file.write(i + '\\n')\n",
    "    text_file.close()"
   ]
  },
  {
   "cell_type": "code",
   "execution_count": null,
   "metadata": {
    "id": "PtJ4SaPgYdz6"
   },
   "outputs": [],
   "source": [
    "! ./tamil-stemmer-build/snowball-with-tamil/stemwords -l ta -i input.txt -o output.txt"
   ]
  },
  {
   "cell_type": "code",
   "execution_count": null,
   "metadata": {
    "id": "TG-U6xFbYdly"
   },
   "outputs": [],
   "source": [
    "text_file = open(\"output.txt\", \"r\")\n",
    "\n",
    "text_test = []\n",
    "\n",
    "for line in text_file:\n",
    "    text_test.append(line.strip())\n",
    "\n",
    "text_test = np.array(text_test)"
   ]
  },
  {
   "cell_type": "markdown",
   "metadata": {
    "id": "2-gmFFWLrgLr"
   },
   "source": [
    "## **Test Feature Extraction**"
   ]
  },
  {
   "cell_type": "code",
   "execution_count": null,
   "metadata": {
    "id": "4d04uzhhrRtV"
   },
   "outputs": [],
   "source": [
    "vectorizer = TfidfVectorizer(min_df = 5)\n",
    "X_test = vectorizer.fit_transform(text_test)\n",
    "X_test = X_test.todense()"
   ]
  },
  {
   "cell_type": "code",
   "execution_count": null,
   "metadata": {
    "colab": {
     "base_uri": "https://localhost:8080/"
    },
    "executionInfo": {
     "elapsed": 64,
     "status": "ok",
     "timestamp": 1633520124134,
     "user": {
      "displayName": "Srivarshan 19BAI1078",
      "photoUrl": "https://lh3.googleusercontent.com/a/default-user=s64",
      "userId": "03718411517360748676"
     },
     "user_tz": -330
    },
    "id": "5orMZBjWr25i",
    "outputId": "c9f8487d-47bb-4cf4-e378-08491318e0d0"
   },
   "outputs": [
    {
     "data": {
      "text/plain": [
       "(654, 237)"
      ]
     },
     "execution_count": 44,
     "metadata": {},
     "output_type": "execute_result"
    }
   ],
   "source": [
    "X_test.shape"
   ]
  },
  {
   "cell_type": "code",
   "execution_count": null,
   "metadata": {
    "id": "zEbjRMLjiHRz"
   },
   "outputs": [],
   "source": [
    "X_test = X_test.tolist()"
   ]
  },
  {
   "cell_type": "code",
   "execution_count": null,
   "metadata": {
    "id": "w65Q1STMiMjG"
   },
   "outputs": [],
   "source": [
    "for i in range(len(X_test)):\n",
    "    for n in range(545):\n",
    "        X_test[i].append(0)"
   ]
  },
  {
   "cell_type": "code",
   "execution_count": null,
   "metadata": {
    "colab": {
     "base_uri": "https://localhost:8080/"
    },
    "executionInfo": {
     "elapsed": 55,
     "status": "ok",
     "timestamp": 1633520124144,
     "user": {
      "displayName": "Srivarshan 19BAI1078",
      "photoUrl": "https://lh3.googleusercontent.com/a/default-user=s64",
      "userId": "03718411517360748676"
     },
     "user_tz": -330
    },
    "id": "6DE7KDTLiyvz",
    "outputId": "f83089d6-9253-4c07-9c32-58d9d2c0f15c"
   },
   "outputs": [
    {
     "data": {
      "text/plain": [
       "(654, 782)"
      ]
     },
     "execution_count": 47,
     "metadata": {},
     "output_type": "execute_result"
    }
   ],
   "source": [
    "X_test = np.array(X_test)\n",
    "X_test.shape"
   ]
  },
  {
   "cell_type": "markdown",
   "metadata": {
    "id": "Ty5n_1Zatbaw"
   },
   "source": [
    "## **Getting Predictions**"
   ]
  },
  {
   "cell_type": "code",
   "execution_count": null,
   "metadata": {
    "id": "f91wGmBPr4ca"
   },
   "outputs": [],
   "source": [
    "# Logistic Regression\n",
    "lr_test_pred = lr.predict(X_test)\n",
    "\n",
    "# Support Vector Machine\n",
    "svm_test_pred = svm.predict(X_test)\n",
    "\n",
    "# Naive Bayes\n",
    "nb_test_pred = nb.predict(X_test)\n",
    "\n",
    "# Stochastic Gradient Descent\n",
    "sgd_test_pred = sgd.predict(X_test)\n",
    "\n",
    "# K Nearest Neighbours\n",
    "knn_test_pred = knn.predict(X_test)\n",
    "\n",
    "# Decision Tree\n",
    "dt_test_pred = dt.predict(X_test)\n",
    "\n",
    "# Random Forest\n",
    "rf_test_pred = rf.predict(X_test)"
   ]
  },
  {
   "cell_type": "code",
   "execution_count": null,
   "metadata": {
    "id": "B0mPiSmAt2oL"
   },
   "outputs": [],
   "source": [
    "# Majority Voting\n",
    "mv_test_pred = []\n",
    "\n",
    "for i in range(len(lr_test_pred)):\n",
    "    one = 0\n",
    "    zero = 0\n",
    "    predictions = [lr_test_pred[i], svm_test_pred[i], sgd_test_pred[i], \n",
    "                   dt_test_pred[i], rf_test_pred[i]]\n",
    "    for pred in predictions:\n",
    "        if pred == 1: one += 1\n",
    "        if pred == 0: zero +=1\n",
    "    if one > zero: mv_test_pred.append(1)\n",
    "    else: mv_test_pred.append(0)\n",
    "\n",
    "mv_test_pred = np.array(mv_test_pred)"
   ]
  },
  {
   "cell_type": "markdown",
   "metadata": {
    "id": "BVZruN6Kfg2D"
   },
   "source": [
    "## **Evaluating the Predictions**"
   ]
  },
  {
   "cell_type": "code",
   "execution_count": null,
   "metadata": {
    "id": "AJlaHSJ0fZbo"
   },
   "outputs": [],
   "source": [
    "dataframe_eval = pd.read_csv(\n",
    "    \"Dataset/tamil_offensive_test task 1 with labels.tsv\", \n",
    "    sep='\\t'\n",
    ")"
   ]
  },
  {
   "cell_type": "code",
   "execution_count": null,
   "metadata": {
    "id": "DNk-wIsVgA1t"
   },
   "outputs": [],
   "source": [
    "y_test = dataframe_eval['category']\n",
    "y_test = LabelEncoder().fit_transform(y_test)"
   ]
  },
  {
   "cell_type": "code",
   "execution_count": null,
   "metadata": {
    "colab": {
     "base_uri": "https://localhost:8080/"
    },
    "executionInfo": {
     "elapsed": 54,
     "status": "ok",
     "timestamp": 1633520132831,
     "user": {
      "displayName": "Srivarshan 19BAI1078",
      "photoUrl": "https://lh3.googleusercontent.com/a/default-user=s64",
      "userId": "03718411517360748676"
     },
     "user_tz": -330
    },
    "id": "84t3uA9bgSYP",
    "outputId": "66db123f-79b8-4f95-b39e-e7b7904434f4"
   },
   "outputs": [
    {
     "name": "stdout",
     "output_type": "stream",
     "text": [
      "Logistic Regression\n",
      "              precision    recall  f1-score   support\n",
      "\n",
      "           0       0.82      1.00      0.90       536\n",
      "           1       0.00      0.00      0.00       118\n",
      "\n",
      "    accuracy                           0.82       654\n",
      "   macro avg       0.41      0.50      0.45       654\n",
      "weighted avg       0.67      0.82      0.74       654\n",
      "\n"
     ]
    }
   ],
   "source": [
    "print('Logistic Regression')\n",
    "print(classification_report(y_test, lr_test_pred))"
   ]
  },
  {
   "cell_type": "code",
   "execution_count": null,
   "metadata": {
    "colab": {
     "base_uri": "https://localhost:8080/"
    },
    "executionInfo": {
     "elapsed": 50,
     "status": "ok",
     "timestamp": 1633520132832,
     "user": {
      "displayName": "Srivarshan 19BAI1078",
      "photoUrl": "https://lh3.googleusercontent.com/a/default-user=s64",
      "userId": "03718411517360748676"
     },
     "user_tz": -330
    },
    "id": "AF5j7LQCga_w",
    "outputId": "6cf13420-b5eb-4f5a-a7fc-78d7f948a31d"
   },
   "outputs": [
    {
     "name": "stdout",
     "output_type": "stream",
     "text": [
      "Support Vector Machine\n",
      "              precision    recall  f1-score   support\n",
      "\n",
      "           0       0.82      0.99      0.90       536\n",
      "           1       0.00      0.00      0.00       118\n",
      "\n",
      "    accuracy                           0.81       654\n",
      "   macro avg       0.41      0.50      0.45       654\n",
      "weighted avg       0.67      0.81      0.74       654\n",
      "\n"
     ]
    }
   ],
   "source": [
    "print('Support Vector Machine')\n",
    "print(classification_report(y_test, svm_test_pred))"
   ]
  },
  {
   "cell_type": "code",
   "execution_count": null,
   "metadata": {
    "colab": {
     "base_uri": "https://localhost:8080/"
    },
    "executionInfo": {
     "elapsed": 45,
     "status": "ok",
     "timestamp": 1633520132832,
     "user": {
      "displayName": "Srivarshan 19BAI1078",
      "photoUrl": "https://lh3.googleusercontent.com/a/default-user=s64",
      "userId": "03718411517360748676"
     },
     "user_tz": -330
    },
    "id": "2UYECp9not0B",
    "outputId": "5fbf638a-cc33-4cf8-9b16-3328b37d4683"
   },
   "outputs": [
    {
     "name": "stdout",
     "output_type": "stream",
     "text": [
      "Naive Bayes\n",
      "              precision    recall  f1-score   support\n",
      "\n",
      "           0       0.81      0.76      0.78       536\n",
      "           1       0.14      0.18      0.16       118\n",
      "\n",
      "    accuracy                           0.65       654\n",
      "   macro avg       0.47      0.47      0.47       654\n",
      "weighted avg       0.69      0.65      0.67       654\n",
      "\n"
     ]
    }
   ],
   "source": [
    "print('Naive Bayes')\n",
    "print(classification_report(y_test, nb_test_pred))"
   ]
  },
  {
   "cell_type": "code",
   "execution_count": null,
   "metadata": {
    "colab": {
     "base_uri": "https://localhost:8080/"
    },
    "executionInfo": {
     "elapsed": 40,
     "status": "ok",
     "timestamp": 1633520132833,
     "user": {
      "displayName": "Srivarshan 19BAI1078",
      "photoUrl": "https://lh3.googleusercontent.com/a/default-user=s64",
      "userId": "03718411517360748676"
     },
     "user_tz": -330
    },
    "id": "thKlIWo9o134",
    "outputId": "6df55592-0b4f-4027-9db0-b2357122f4bd"
   },
   "outputs": [
    {
     "name": "stdout",
     "output_type": "stream",
     "text": [
      "Stochastic Gradient Descent\n",
      "              precision    recall  f1-score   support\n",
      "\n",
      "           0       0.81      0.93      0.87       536\n",
      "           1       0.11      0.04      0.06       118\n",
      "\n",
      "    accuracy                           0.77       654\n",
      "   macro avg       0.46      0.48      0.46       654\n",
      "weighted avg       0.69      0.77      0.72       654\n",
      "\n"
     ]
    }
   ],
   "source": [
    "print('Stochastic Gradient Descent')\n",
    "print(classification_report(y_test, sgd_test_pred))"
   ]
  },
  {
   "cell_type": "code",
   "execution_count": null,
   "metadata": {
    "colab": {
     "base_uri": "https://localhost:8080/"
    },
    "executionInfo": {
     "elapsed": 36,
     "status": "ok",
     "timestamp": 1633520132834,
     "user": {
      "displayName": "Srivarshan 19BAI1078",
      "photoUrl": "https://lh3.googleusercontent.com/a/default-user=s64",
      "userId": "03718411517360748676"
     },
     "user_tz": -330
    },
    "id": "26jTXtlvpNmf",
    "outputId": "1b76bf35-86d0-41d9-bc6b-ac567bcf0307"
   },
   "outputs": [
    {
     "name": "stdout",
     "output_type": "stream",
     "text": [
      "K Nearest Neighbours\n",
      "              precision    recall  f1-score   support\n",
      "\n",
      "           0       0.82      1.00      0.90       536\n",
      "           1       0.00      0.00      0.00       118\n",
      "\n",
      "    accuracy                           0.82       654\n",
      "   macro avg       0.41      0.50      0.45       654\n",
      "weighted avg       0.67      0.82      0.74       654\n",
      "\n"
     ]
    }
   ],
   "source": [
    "print('K Nearest Neighbours')\n",
    "print(classification_report(y_test, knn_test_pred))"
   ]
  },
  {
   "cell_type": "code",
   "execution_count": null,
   "metadata": {
    "colab": {
     "base_uri": "https://localhost:8080/"
    },
    "executionInfo": {
     "elapsed": 31,
     "status": "ok",
     "timestamp": 1633520132835,
     "user": {
      "displayName": "Srivarshan 19BAI1078",
      "photoUrl": "https://lh3.googleusercontent.com/a/default-user=s64",
      "userId": "03718411517360748676"
     },
     "user_tz": -330
    },
    "id": "8tmpPH2EpUAl",
    "outputId": "c0abfb84-ea9a-4482-bef8-59371c57ab6b"
   },
   "outputs": [
    {
     "name": "stdout",
     "output_type": "stream",
     "text": [
      "Decision Tree\n",
      "              precision    recall  f1-score   support\n",
      "\n",
      "           0       0.81      0.85      0.83       536\n",
      "           1       0.14      0.11      0.12       118\n",
      "\n",
      "    accuracy                           0.72       654\n",
      "   macro avg       0.48      0.48      0.48       654\n",
      "weighted avg       0.69      0.72      0.71       654\n",
      "\n"
     ]
    }
   ],
   "source": [
    "print('Decision Tree')\n",
    "print(classification_report(y_test, dt_test_pred))"
   ]
  },
  {
   "cell_type": "code",
   "execution_count": null,
   "metadata": {
    "colab": {
     "base_uri": "https://localhost:8080/"
    },
    "executionInfo": {
     "elapsed": 26,
     "status": "ok",
     "timestamp": 1633520132835,
     "user": {
      "displayName": "Srivarshan 19BAI1078",
      "photoUrl": "https://lh3.googleusercontent.com/a/default-user=s64",
      "userId": "03718411517360748676"
     },
     "user_tz": -330
    },
    "id": "dOKPy7GppZ6i",
    "outputId": "ded57af9-b018-4e9b-cb61-1805ba567428"
   },
   "outputs": [
    {
     "name": "stdout",
     "output_type": "stream",
     "text": [
      "Random Forest\n",
      "              precision    recall  f1-score   support\n",
      "\n",
      "           0       0.82      0.99      0.90       536\n",
      "           1       0.30      0.03      0.05       118\n",
      "\n",
      "    accuracy                           0.81       654\n",
      "   macro avg       0.56      0.51      0.47       654\n",
      "weighted avg       0.73      0.81      0.74       654\n",
      "\n"
     ]
    }
   ],
   "source": [
    "print('Random Forest')\n",
    "print(classification_report(y_test, rf_test_pred))"
   ]
  },
  {
   "cell_type": "code",
   "execution_count": null,
   "metadata": {
    "colab": {
     "base_uri": "https://localhost:8080/"
    },
    "executionInfo": {
     "elapsed": 20,
     "status": "ok",
     "timestamp": 1633520132836,
     "user": {
      "displayName": "Srivarshan 19BAI1078",
      "photoUrl": "https://lh3.googleusercontent.com/a/default-user=s64",
      "userId": "03718411517360748676"
     },
     "user_tz": -330
    },
    "id": "mW74ZEfyMJrU",
    "outputId": "a3437c57-886e-4ac3-9994-d3acbbe9f517"
   },
   "outputs": [
    {
     "name": "stdout",
     "output_type": "stream",
     "text": [
      "Majority Voting\n",
      "              precision    recall  f1-score   support\n",
      "\n",
      "           0       0.82      0.99      0.89       536\n",
      "           1       0.00      0.00      0.00       118\n",
      "\n",
      "    accuracy                           0.81       654\n",
      "   macro avg       0.41      0.49      0.45       654\n",
      "weighted avg       0.67      0.81      0.73       654\n",
      "\n"
     ]
    }
   ],
   "source": [
    "print('Majority Voting')\n",
    "print(classification_report(y_test, mv_test_pred))"
   ]
  },
  {
   "cell_type": "markdown",
   "metadata": {
    "id": "X0LUcPIaMRz1"
   },
   "source": [
    "## **Saving the Predictions**"
   ]
  },
  {
   "cell_type": "code",
   "execution_count": null,
   "metadata": {
    "colab": {
     "base_uri": "https://localhost:8080/",
     "height": 424
    },
    "executionInfo": {
     "elapsed": 620,
     "status": "ok",
     "timestamp": 1633520133443,
     "user": {
      "displayName": "Srivarshan 19BAI1078",
      "photoUrl": "https://lh3.googleusercontent.com/a/default-user=s64",
      "userId": "03718411517360748676"
     },
     "user_tz": -330
    },
    "id": "y_HVv3UrMNwB",
    "outputId": "db8158f8-a17a-4d1a-87dd-02029e10ba6e"
   },
   "outputs": [
    {
     "data": {
      "text/html": [
       "<div>\n",
       "<style scoped>\n",
       "    .dataframe tbody tr th:only-of-type {\n",
       "        vertical-align: middle;\n",
       "    }\n",
       "\n",
       "    .dataframe tbody tr th {\n",
       "        vertical-align: top;\n",
       "    }\n",
       "\n",
       "    .dataframe thead th {\n",
       "        text-align: right;\n",
       "    }\n",
       "</style>\n",
       "<table border=\"1\" class=\"dataframe\">\n",
       "  <thead>\n",
       "    <tr style=\"text-align: right;\">\n",
       "      <th></th>\n",
       "      <th>id</th>\n",
       "      <th>text</th>\n",
       "      <th>category</th>\n",
       "    </tr>\n",
       "  </thead>\n",
       "  <tbody>\n",
       "    <tr>\n",
       "      <th>0</th>\n",
       "      <td>tam_test_1</td>\n",
       "      <td>தலைவா STR இதுக்குதான் கதுருந்தோம் மாஸ் தலைவா t...</td>\n",
       "      <td>NOT</td>\n",
       "    </tr>\n",
       "    <tr>\n",
       "      <th>1</th>\n",
       "      <td>tam_test_2</td>\n",
       "      <td>நாயுடு மக்கள் சார்பாக திரைப்படம் வெற்றி பெற வா...</td>\n",
       "      <td>NOT</td>\n",
       "    </tr>\n",
       "    <tr>\n",
       "      <th>2</th>\n",
       "      <td>tam_test_3</td>\n",
       "      <td>தில்லானா முயற்சி  தஞ்சை கோனார்</td>\n",
       "      <td>NOT</td>\n",
       "    </tr>\n",
       "    <tr>\n",
       "      <th>3</th>\n",
       "      <td>tam_test_4</td>\n",
       "      <td>திரௌபதியின் துகிலுறித்த போது காத்த கண்ணனின் யா...</td>\n",
       "      <td>NOT</td>\n",
       "    </tr>\n",
       "    <tr>\n",
       "      <th>4</th>\n",
       "      <td>tam_test_5</td>\n",
       "      <td>நான் தியேட்டர்லே படம் பார்த்து 35 வருஷமாச்சு! ...</td>\n",
       "      <td>NOT</td>\n",
       "    </tr>\n",
       "    <tr>\n",
       "      <th>...</th>\n",
       "      <td>...</td>\n",
       "      <td>...</td>\n",
       "      <td>...</td>\n",
       "    </tr>\n",
       "    <tr>\n",
       "      <th>649</th>\n",
       "      <td>tam_test_650</td>\n",
       "      <td>நான் தலைவரோட ரசிகன்னு சொல்லிடு தலைவரை ஒடசல் போ...</td>\n",
       "      <td>NOT</td>\n",
       "    </tr>\n",
       "    <tr>\n",
       "      <th>650</th>\n",
       "      <td>tam_test_651</td>\n",
       "      <td>வாழ்த்துக்கள்,உண்மை கதை உலகத்துக்கு காட்டிய மோ...</td>\n",
       "      <td>NOT</td>\n",
       "    </tr>\n",
       "    <tr>\n",
       "      <th>651</th>\n",
       "      <td>tam_test_652</td>\n",
       "      <td>குருமா and பா..குஞ்சித் பயலுக கதர்ரது இன்னும் ...</td>\n",
       "      <td>NOT</td>\n",
       "    </tr>\n",
       "    <tr>\n",
       "      <th>652</th>\n",
       "      <td>tam_test_653</td>\n",
       "      <td>வெள்ளார்கள் சார்பாக படம் வெற்றி பெற வாழ்த்துக்...</td>\n",
       "      <td>NOT</td>\n",
       "    </tr>\n",
       "    <tr>\n",
       "      <th>653</th>\n",
       "      <td>tam_test_654</td>\n",
       "      <td>சமீபகாலமாக கால்பந்தாட்டத்தை மையப்படுத்தி தமிழ்...</td>\n",
       "      <td>NOT</td>\n",
       "    </tr>\n",
       "  </tbody>\n",
       "</table>\n",
       "<p>654 rows × 3 columns</p>\n",
       "</div>"
      ],
      "text/plain": [
       "               id                                               text category\n",
       "0      tam_test_1  தலைவா STR இதுக்குதான் கதுருந்தோம் மாஸ் தலைவா t...      NOT\n",
       "1      tam_test_2  நாயுடு மக்கள் சார்பாக திரைப்படம் வெற்றி பெற வா...      NOT\n",
       "2      tam_test_3                     தில்லானா முயற்சி  தஞ்சை கோனார்      NOT\n",
       "3      tam_test_4  திரௌபதியின் துகிலுறித்த போது காத்த கண்ணனின் யா...      NOT\n",
       "4      tam_test_5  நான் தியேட்டர்லே படம் பார்த்து 35 வருஷமாச்சு! ...      NOT\n",
       "..            ...                                                ...      ...\n",
       "649  tam_test_650  நான் தலைவரோட ரசிகன்னு சொல்லிடு தலைவரை ஒடசல் போ...      NOT\n",
       "650  tam_test_651  வாழ்த்துக்கள்,உண்மை கதை உலகத்துக்கு காட்டிய மோ...      NOT\n",
       "651  tam_test_652  குருமா and பா..குஞ்சித் பயலுக கதர்ரது இன்னும் ...      NOT\n",
       "652  tam_test_653  வெள்ளார்கள் சார்பாக படம் வெற்றி பெற வாழ்த்துக்...      NOT\n",
       "653  tam_test_654  சமீபகாலமாக கால்பந்தாட்டத்தை மையப்படுத்தி தமிழ்...      NOT\n",
       "\n",
       "[654 rows x 3 columns]"
      ]
     },
     "execution_count": 60,
     "metadata": {},
     "output_type": "execute_result"
    }
   ],
   "source": [
    "# Logistic Regression\n",
    "\n",
    "predictions = le.inverse_transform(lr_test_pred)\n",
    "\n",
    "dataframe_test_lr = {\n",
    "    'id': dataframe_test['id'],\n",
    "    'text': dataframe_test['text'],\n",
    "    'category': predictions\n",
    "}\n",
    "\n",
    "dataframe_test_lr = pd.DataFrame(dataframe_test_lr)\n",
    "dataframe_test_lr.to_csv(\"Output/TF-IDF-LogisticRegression.csv\")\n",
    "dataframe_test_lr"
   ]
  },
  {
   "cell_type": "code",
   "execution_count": null,
   "metadata": {
    "colab": {
     "base_uri": "https://localhost:8080/",
     "height": 424
    },
    "executionInfo": {
     "elapsed": 19,
     "status": "ok",
     "timestamp": 1633520133444,
     "user": {
      "displayName": "Srivarshan 19BAI1078",
      "photoUrl": "https://lh3.googleusercontent.com/a/default-user=s64",
      "userId": "03718411517360748676"
     },
     "user_tz": -330
    },
    "id": "VArL3xFnPLTV",
    "outputId": "07fe3c3d-9a31-4cd6-9d50-28476b873a92"
   },
   "outputs": [
    {
     "data": {
      "text/html": [
       "<div>\n",
       "<style scoped>\n",
       "    .dataframe tbody tr th:only-of-type {\n",
       "        vertical-align: middle;\n",
       "    }\n",
       "\n",
       "    .dataframe tbody tr th {\n",
       "        vertical-align: top;\n",
       "    }\n",
       "\n",
       "    .dataframe thead th {\n",
       "        text-align: right;\n",
       "    }\n",
       "</style>\n",
       "<table border=\"1\" class=\"dataframe\">\n",
       "  <thead>\n",
       "    <tr style=\"text-align: right;\">\n",
       "      <th></th>\n",
       "      <th>id</th>\n",
       "      <th>text</th>\n",
       "      <th>category</th>\n",
       "    </tr>\n",
       "  </thead>\n",
       "  <tbody>\n",
       "    <tr>\n",
       "      <th>0</th>\n",
       "      <td>tam_test_1</td>\n",
       "      <td>தலைவா STR இதுக்குதான் கதுருந்தோம் மாஸ் தலைவா t...</td>\n",
       "      <td>NOT</td>\n",
       "    </tr>\n",
       "    <tr>\n",
       "      <th>1</th>\n",
       "      <td>tam_test_2</td>\n",
       "      <td>நாயுடு மக்கள் சார்பாக திரைப்படம் வெற்றி பெற வா...</td>\n",
       "      <td>NOT</td>\n",
       "    </tr>\n",
       "    <tr>\n",
       "      <th>2</th>\n",
       "      <td>tam_test_3</td>\n",
       "      <td>தில்லானா முயற்சி  தஞ்சை கோனார்</td>\n",
       "      <td>NOT</td>\n",
       "    </tr>\n",
       "    <tr>\n",
       "      <th>3</th>\n",
       "      <td>tam_test_4</td>\n",
       "      <td>திரௌபதியின் துகிலுறித்த போது காத்த கண்ணனின் யா...</td>\n",
       "      <td>NOT</td>\n",
       "    </tr>\n",
       "    <tr>\n",
       "      <th>4</th>\n",
       "      <td>tam_test_5</td>\n",
       "      <td>நான் தியேட்டர்லே படம் பார்த்து 35 வருஷமாச்சு! ...</td>\n",
       "      <td>NOT</td>\n",
       "    </tr>\n",
       "    <tr>\n",
       "      <th>...</th>\n",
       "      <td>...</td>\n",
       "      <td>...</td>\n",
       "      <td>...</td>\n",
       "    </tr>\n",
       "    <tr>\n",
       "      <th>649</th>\n",
       "      <td>tam_test_650</td>\n",
       "      <td>நான் தலைவரோட ரசிகன்னு சொல்லிடு தலைவரை ஒடசல் போ...</td>\n",
       "      <td>NOT</td>\n",
       "    </tr>\n",
       "    <tr>\n",
       "      <th>650</th>\n",
       "      <td>tam_test_651</td>\n",
       "      <td>வாழ்த்துக்கள்,உண்மை கதை உலகத்துக்கு காட்டிய மோ...</td>\n",
       "      <td>NOT</td>\n",
       "    </tr>\n",
       "    <tr>\n",
       "      <th>651</th>\n",
       "      <td>tam_test_652</td>\n",
       "      <td>குருமா and பா..குஞ்சித் பயலுக கதர்ரது இன்னும் ...</td>\n",
       "      <td>NOT</td>\n",
       "    </tr>\n",
       "    <tr>\n",
       "      <th>652</th>\n",
       "      <td>tam_test_653</td>\n",
       "      <td>வெள்ளார்கள் சார்பாக படம் வெற்றி பெற வாழ்த்துக்...</td>\n",
       "      <td>NOT</td>\n",
       "    </tr>\n",
       "    <tr>\n",
       "      <th>653</th>\n",
       "      <td>tam_test_654</td>\n",
       "      <td>சமீபகாலமாக கால்பந்தாட்டத்தை மையப்படுத்தி தமிழ்...</td>\n",
       "      <td>NOT</td>\n",
       "    </tr>\n",
       "  </tbody>\n",
       "</table>\n",
       "<p>654 rows × 3 columns</p>\n",
       "</div>"
      ],
      "text/plain": [
       "               id                                               text category\n",
       "0      tam_test_1  தலைவா STR இதுக்குதான் கதுருந்தோம் மாஸ் தலைவா t...      NOT\n",
       "1      tam_test_2  நாயுடு மக்கள் சார்பாக திரைப்படம் வெற்றி பெற வா...      NOT\n",
       "2      tam_test_3                     தில்லானா முயற்சி  தஞ்சை கோனார்      NOT\n",
       "3      tam_test_4  திரௌபதியின் துகிலுறித்த போது காத்த கண்ணனின் யா...      NOT\n",
       "4      tam_test_5  நான் தியேட்டர்லே படம் பார்த்து 35 வருஷமாச்சு! ...      NOT\n",
       "..            ...                                                ...      ...\n",
       "649  tam_test_650  நான் தலைவரோட ரசிகன்னு சொல்லிடு தலைவரை ஒடசல் போ...      NOT\n",
       "650  tam_test_651  வாழ்த்துக்கள்,உண்மை கதை உலகத்துக்கு காட்டிய மோ...      NOT\n",
       "651  tam_test_652  குருமா and பா..குஞ்சித் பயலுக கதர்ரது இன்னும் ...      NOT\n",
       "652  tam_test_653  வெள்ளார்கள் சார்பாக படம் வெற்றி பெற வாழ்த்துக்...      NOT\n",
       "653  tam_test_654  சமீபகாலமாக கால்பந்தாட்டத்தை மையப்படுத்தி தமிழ்...      NOT\n",
       "\n",
       "[654 rows x 3 columns]"
      ]
     },
     "execution_count": 61,
     "metadata": {},
     "output_type": "execute_result"
    }
   ],
   "source": [
    "# Support Vector Machine\n",
    "\n",
    "predictions = le.inverse_transform(svm_test_pred)\n",
    "\n",
    "dataframe_test_svm = {\n",
    "    'id': dataframe_test['id'],\n",
    "    'text': dataframe_test['text'],\n",
    "    'category': predictions\n",
    "}\n",
    "\n",
    "dataframe_test_svm = pd.DataFrame(dataframe_test_svm)\n",
    "dataframe_test_svm.to_csv(\"Output/TF-IDF-SupportVectorMachine.csv\")\n",
    "dataframe_test_svm"
   ]
  },
  {
   "cell_type": "code",
   "execution_count": null,
   "metadata": {
    "colab": {
     "base_uri": "https://localhost:8080/",
     "height": 424
    },
    "executionInfo": {
     "elapsed": 15,
     "status": "ok",
     "timestamp": 1633520133445,
     "user": {
      "displayName": "Srivarshan 19BAI1078",
      "photoUrl": "https://lh3.googleusercontent.com/a/default-user=s64",
      "userId": "03718411517360748676"
     },
     "user_tz": -330
    },
    "id": "rGm0sT-2QIu9",
    "outputId": "494f726f-8708-4ea2-9390-4a5a4964540c"
   },
   "outputs": [
    {
     "data": {
      "text/html": [
       "<div>\n",
       "<style scoped>\n",
       "    .dataframe tbody tr th:only-of-type {\n",
       "        vertical-align: middle;\n",
       "    }\n",
       "\n",
       "    .dataframe tbody tr th {\n",
       "        vertical-align: top;\n",
       "    }\n",
       "\n",
       "    .dataframe thead th {\n",
       "        text-align: right;\n",
       "    }\n",
       "</style>\n",
       "<table border=\"1\" class=\"dataframe\">\n",
       "  <thead>\n",
       "    <tr style=\"text-align: right;\">\n",
       "      <th></th>\n",
       "      <th>id</th>\n",
       "      <th>text</th>\n",
       "      <th>category</th>\n",
       "    </tr>\n",
       "  </thead>\n",
       "  <tbody>\n",
       "    <tr>\n",
       "      <th>0</th>\n",
       "      <td>tam_test_1</td>\n",
       "      <td>தலைவா STR இதுக்குதான் கதுருந்தோம் மாஸ் தலைவா t...</td>\n",
       "      <td>NOT</td>\n",
       "    </tr>\n",
       "    <tr>\n",
       "      <th>1</th>\n",
       "      <td>tam_test_2</td>\n",
       "      <td>நாயுடு மக்கள் சார்பாக திரைப்படம் வெற்றி பெற வா...</td>\n",
       "      <td>OFF</td>\n",
       "    </tr>\n",
       "    <tr>\n",
       "      <th>2</th>\n",
       "      <td>tam_test_3</td>\n",
       "      <td>தில்லானா முயற்சி  தஞ்சை கோனார்</td>\n",
       "      <td>OFF</td>\n",
       "    </tr>\n",
       "    <tr>\n",
       "      <th>3</th>\n",
       "      <td>tam_test_4</td>\n",
       "      <td>திரௌபதியின் துகிலுறித்த போது காத்த கண்ணனின் யா...</td>\n",
       "      <td>NOT</td>\n",
       "    </tr>\n",
       "    <tr>\n",
       "      <th>4</th>\n",
       "      <td>tam_test_5</td>\n",
       "      <td>நான் தியேட்டர்லே படம் பார்த்து 35 வருஷமாச்சு! ...</td>\n",
       "      <td>NOT</td>\n",
       "    </tr>\n",
       "    <tr>\n",
       "      <th>...</th>\n",
       "      <td>...</td>\n",
       "      <td>...</td>\n",
       "      <td>...</td>\n",
       "    </tr>\n",
       "    <tr>\n",
       "      <th>649</th>\n",
       "      <td>tam_test_650</td>\n",
       "      <td>நான் தலைவரோட ரசிகன்னு சொல்லிடு தலைவரை ஒடசல் போ...</td>\n",
       "      <td>NOT</td>\n",
       "    </tr>\n",
       "    <tr>\n",
       "      <th>650</th>\n",
       "      <td>tam_test_651</td>\n",
       "      <td>வாழ்த்துக்கள்,உண்மை கதை உலகத்துக்கு காட்டிய மோ...</td>\n",
       "      <td>NOT</td>\n",
       "    </tr>\n",
       "    <tr>\n",
       "      <th>651</th>\n",
       "      <td>tam_test_652</td>\n",
       "      <td>குருமா and பா..குஞ்சித் பயலுக கதர்ரது இன்னும் ...</td>\n",
       "      <td>NOT</td>\n",
       "    </tr>\n",
       "    <tr>\n",
       "      <th>652</th>\n",
       "      <td>tam_test_653</td>\n",
       "      <td>வெள்ளார்கள் சார்பாக படம் வெற்றி பெற வாழ்த்துக்...</td>\n",
       "      <td>OFF</td>\n",
       "    </tr>\n",
       "    <tr>\n",
       "      <th>653</th>\n",
       "      <td>tam_test_654</td>\n",
       "      <td>சமீபகாலமாக கால்பந்தாட்டத்தை மையப்படுத்தி தமிழ்...</td>\n",
       "      <td>NOT</td>\n",
       "    </tr>\n",
       "  </tbody>\n",
       "</table>\n",
       "<p>654 rows × 3 columns</p>\n",
       "</div>"
      ],
      "text/plain": [
       "               id                                               text category\n",
       "0      tam_test_1  தலைவா STR இதுக்குதான் கதுருந்தோம் மாஸ் தலைவா t...      NOT\n",
       "1      tam_test_2  நாயுடு மக்கள் சார்பாக திரைப்படம் வெற்றி பெற வா...      OFF\n",
       "2      tam_test_3                     தில்லானா முயற்சி  தஞ்சை கோனார்      OFF\n",
       "3      tam_test_4  திரௌபதியின் துகிலுறித்த போது காத்த கண்ணனின் யா...      NOT\n",
       "4      tam_test_5  நான் தியேட்டர்லே படம் பார்த்து 35 வருஷமாச்சு! ...      NOT\n",
       "..            ...                                                ...      ...\n",
       "649  tam_test_650  நான் தலைவரோட ரசிகன்னு சொல்லிடு தலைவரை ஒடசல் போ...      NOT\n",
       "650  tam_test_651  வாழ்த்துக்கள்,உண்மை கதை உலகத்துக்கு காட்டிய மோ...      NOT\n",
       "651  tam_test_652  குருமா and பா..குஞ்சித் பயலுக கதர்ரது இன்னும் ...      NOT\n",
       "652  tam_test_653  வெள்ளார்கள் சார்பாக படம் வெற்றி பெற வாழ்த்துக்...      OFF\n",
       "653  tam_test_654  சமீபகாலமாக கால்பந்தாட்டத்தை மையப்படுத்தி தமிழ்...      NOT\n",
       "\n",
       "[654 rows x 3 columns]"
      ]
     },
     "execution_count": 62,
     "metadata": {},
     "output_type": "execute_result"
    }
   ],
   "source": [
    "# Naive Bayes\n",
    "\n",
    "predictions = le.inverse_transform(nb_test_pred)\n",
    "\n",
    "dataframe_test_nb = {\n",
    "    'id': dataframe_test['id'],\n",
    "    'text': dataframe_test['text'],\n",
    "    'category': predictions\n",
    "}\n",
    "\n",
    "dataframe_test_nb = pd.DataFrame(dataframe_test_nb)\n",
    "dataframe_test_nb.to_csv(\"Output/TF-IDF-NaiveBayes.csv\")\n",
    "dataframe_test_nb"
   ]
  },
  {
   "cell_type": "code",
   "execution_count": null,
   "metadata": {
    "colab": {
     "base_uri": "https://localhost:8080/",
     "height": 424
    },
    "executionInfo": {
     "elapsed": 595,
     "status": "ok",
     "timestamp": 1633520134027,
     "user": {
      "displayName": "Srivarshan 19BAI1078",
      "photoUrl": "https://lh3.googleusercontent.com/a/default-user=s64",
      "userId": "03718411517360748676"
     },
     "user_tz": -330
    },
    "id": "7Q5LQhMCSJfa",
    "outputId": "3dc01a7e-c1bc-475f-ec55-c7a0e5d72889"
   },
   "outputs": [
    {
     "data": {
      "text/html": [
       "<div>\n",
       "<style scoped>\n",
       "    .dataframe tbody tr th:only-of-type {\n",
       "        vertical-align: middle;\n",
       "    }\n",
       "\n",
       "    .dataframe tbody tr th {\n",
       "        vertical-align: top;\n",
       "    }\n",
       "\n",
       "    .dataframe thead th {\n",
       "        text-align: right;\n",
       "    }\n",
       "</style>\n",
       "<table border=\"1\" class=\"dataframe\">\n",
       "  <thead>\n",
       "    <tr style=\"text-align: right;\">\n",
       "      <th></th>\n",
       "      <th>id</th>\n",
       "      <th>text</th>\n",
       "      <th>category</th>\n",
       "    </tr>\n",
       "  </thead>\n",
       "  <tbody>\n",
       "    <tr>\n",
       "      <th>0</th>\n",
       "      <td>tam_test_1</td>\n",
       "      <td>தலைவா STR இதுக்குதான் கதுருந்தோம் மாஸ் தலைவா t...</td>\n",
       "      <td>NOT</td>\n",
       "    </tr>\n",
       "    <tr>\n",
       "      <th>1</th>\n",
       "      <td>tam_test_2</td>\n",
       "      <td>நாயுடு மக்கள் சார்பாக திரைப்படம் வெற்றி பெற வா...</td>\n",
       "      <td>OFF</td>\n",
       "    </tr>\n",
       "    <tr>\n",
       "      <th>2</th>\n",
       "      <td>tam_test_3</td>\n",
       "      <td>தில்லானா முயற்சி  தஞ்சை கோனார்</td>\n",
       "      <td>NOT</td>\n",
       "    </tr>\n",
       "    <tr>\n",
       "      <th>3</th>\n",
       "      <td>tam_test_4</td>\n",
       "      <td>திரௌபதியின் துகிலுறித்த போது காத்த கண்ணனின் யா...</td>\n",
       "      <td>NOT</td>\n",
       "    </tr>\n",
       "    <tr>\n",
       "      <th>4</th>\n",
       "      <td>tam_test_5</td>\n",
       "      <td>நான் தியேட்டர்லே படம் பார்த்து 35 வருஷமாச்சு! ...</td>\n",
       "      <td>NOT</td>\n",
       "    </tr>\n",
       "    <tr>\n",
       "      <th>...</th>\n",
       "      <td>...</td>\n",
       "      <td>...</td>\n",
       "      <td>...</td>\n",
       "    </tr>\n",
       "    <tr>\n",
       "      <th>649</th>\n",
       "      <td>tam_test_650</td>\n",
       "      <td>நான் தலைவரோட ரசிகன்னு சொல்லிடு தலைவரை ஒடசல் போ...</td>\n",
       "      <td>NOT</td>\n",
       "    </tr>\n",
       "    <tr>\n",
       "      <th>650</th>\n",
       "      <td>tam_test_651</td>\n",
       "      <td>வாழ்த்துக்கள்,உண்மை கதை உலகத்துக்கு காட்டிய மோ...</td>\n",
       "      <td>NOT</td>\n",
       "    </tr>\n",
       "    <tr>\n",
       "      <th>651</th>\n",
       "      <td>tam_test_652</td>\n",
       "      <td>குருமா and பா..குஞ்சித் பயலுக கதர்ரது இன்னும் ...</td>\n",
       "      <td>NOT</td>\n",
       "    </tr>\n",
       "    <tr>\n",
       "      <th>652</th>\n",
       "      <td>tam_test_653</td>\n",
       "      <td>வெள்ளார்கள் சார்பாக படம் வெற்றி பெற வாழ்த்துக்...</td>\n",
       "      <td>OFF</td>\n",
       "    </tr>\n",
       "    <tr>\n",
       "      <th>653</th>\n",
       "      <td>tam_test_654</td>\n",
       "      <td>சமீபகாலமாக கால்பந்தாட்டத்தை மையப்படுத்தி தமிழ்...</td>\n",
       "      <td>NOT</td>\n",
       "    </tr>\n",
       "  </tbody>\n",
       "</table>\n",
       "<p>654 rows × 3 columns</p>\n",
       "</div>"
      ],
      "text/plain": [
       "               id                                               text category\n",
       "0      tam_test_1  தலைவா STR இதுக்குதான் கதுருந்தோம் மாஸ் தலைவா t...      NOT\n",
       "1      tam_test_2  நாயுடு மக்கள் சார்பாக திரைப்படம் வெற்றி பெற வா...      OFF\n",
       "2      tam_test_3                     தில்லானா முயற்சி  தஞ்சை கோனார்      NOT\n",
       "3      tam_test_4  திரௌபதியின் துகிலுறித்த போது காத்த கண்ணனின் யா...      NOT\n",
       "4      tam_test_5  நான் தியேட்டர்லே படம் பார்த்து 35 வருஷமாச்சு! ...      NOT\n",
       "..            ...                                                ...      ...\n",
       "649  tam_test_650  நான் தலைவரோட ரசிகன்னு சொல்லிடு தலைவரை ஒடசல் போ...      NOT\n",
       "650  tam_test_651  வாழ்த்துக்கள்,உண்மை கதை உலகத்துக்கு காட்டிய மோ...      NOT\n",
       "651  tam_test_652  குருமா and பா..குஞ்சித் பயலுக கதர்ரது இன்னும் ...      NOT\n",
       "652  tam_test_653  வெள்ளார்கள் சார்பாக படம் வெற்றி பெற வாழ்த்துக்...      OFF\n",
       "653  tam_test_654  சமீபகாலமாக கால்பந்தாட்டத்தை மையப்படுத்தி தமிழ்...      NOT\n",
       "\n",
       "[654 rows x 3 columns]"
      ]
     },
     "execution_count": 63,
     "metadata": {},
     "output_type": "execute_result"
    }
   ],
   "source": [
    "# Stochastic Gradient Descent\n",
    "\n",
    "predictions = le.inverse_transform(sgd_test_pred)\n",
    "\n",
    "dataframe_test_sgd = {\n",
    "    'id': dataframe_test['id'],\n",
    "    'text': dataframe_test['text'],\n",
    "    'category': predictions\n",
    "}\n",
    "\n",
    "dataframe_test_sgd = pd.DataFrame(dataframe_test_sgd)\n",
    "dataframe_test_sgd.to_csv(\"Output/TF-IDF-StochasticGradientDescent.csv\")\n",
    "dataframe_test_sgd"
   ]
  },
  {
   "cell_type": "code",
   "execution_count": null,
   "metadata": {
    "colab": {
     "base_uri": "https://localhost:8080/",
     "height": 424
    },
    "executionInfo": {
     "elapsed": 10,
     "status": "ok",
     "timestamp": 1633520134029,
     "user": {
      "displayName": "Srivarshan 19BAI1078",
      "photoUrl": "https://lh3.googleusercontent.com/a/default-user=s64",
      "userId": "03718411517360748676"
     },
     "user_tz": -330
    },
    "id": "75-QmQb-SU2F",
    "outputId": "dd2d861a-7246-4e05-fb09-07a1b7ed0759"
   },
   "outputs": [
    {
     "data": {
      "text/html": [
       "<div>\n",
       "<style scoped>\n",
       "    .dataframe tbody tr th:only-of-type {\n",
       "        vertical-align: middle;\n",
       "    }\n",
       "\n",
       "    .dataframe tbody tr th {\n",
       "        vertical-align: top;\n",
       "    }\n",
       "\n",
       "    .dataframe thead th {\n",
       "        text-align: right;\n",
       "    }\n",
       "</style>\n",
       "<table border=\"1\" class=\"dataframe\">\n",
       "  <thead>\n",
       "    <tr style=\"text-align: right;\">\n",
       "      <th></th>\n",
       "      <th>id</th>\n",
       "      <th>text</th>\n",
       "      <th>category</th>\n",
       "    </tr>\n",
       "  </thead>\n",
       "  <tbody>\n",
       "    <tr>\n",
       "      <th>0</th>\n",
       "      <td>tam_test_1</td>\n",
       "      <td>தலைவா STR இதுக்குதான் கதுருந்தோம் மாஸ் தலைவா t...</td>\n",
       "      <td>NOT</td>\n",
       "    </tr>\n",
       "    <tr>\n",
       "      <th>1</th>\n",
       "      <td>tam_test_2</td>\n",
       "      <td>நாயுடு மக்கள் சார்பாக திரைப்படம் வெற்றி பெற வா...</td>\n",
       "      <td>NOT</td>\n",
       "    </tr>\n",
       "    <tr>\n",
       "      <th>2</th>\n",
       "      <td>tam_test_3</td>\n",
       "      <td>தில்லானா முயற்சி  தஞ்சை கோனார்</td>\n",
       "      <td>NOT</td>\n",
       "    </tr>\n",
       "    <tr>\n",
       "      <th>3</th>\n",
       "      <td>tam_test_4</td>\n",
       "      <td>திரௌபதியின் துகிலுறித்த போது காத்த கண்ணனின் யா...</td>\n",
       "      <td>NOT</td>\n",
       "    </tr>\n",
       "    <tr>\n",
       "      <th>4</th>\n",
       "      <td>tam_test_5</td>\n",
       "      <td>நான் தியேட்டர்லே படம் பார்த்து 35 வருஷமாச்சு! ...</td>\n",
       "      <td>NOT</td>\n",
       "    </tr>\n",
       "    <tr>\n",
       "      <th>...</th>\n",
       "      <td>...</td>\n",
       "      <td>...</td>\n",
       "      <td>...</td>\n",
       "    </tr>\n",
       "    <tr>\n",
       "      <th>649</th>\n",
       "      <td>tam_test_650</td>\n",
       "      <td>நான் தலைவரோட ரசிகன்னு சொல்லிடு தலைவரை ஒடசல் போ...</td>\n",
       "      <td>NOT</td>\n",
       "    </tr>\n",
       "    <tr>\n",
       "      <th>650</th>\n",
       "      <td>tam_test_651</td>\n",
       "      <td>வாழ்த்துக்கள்,உண்மை கதை உலகத்துக்கு காட்டிய மோ...</td>\n",
       "      <td>NOT</td>\n",
       "    </tr>\n",
       "    <tr>\n",
       "      <th>651</th>\n",
       "      <td>tam_test_652</td>\n",
       "      <td>குருமா and பா..குஞ்சித் பயலுக கதர்ரது இன்னும் ...</td>\n",
       "      <td>NOT</td>\n",
       "    </tr>\n",
       "    <tr>\n",
       "      <th>652</th>\n",
       "      <td>tam_test_653</td>\n",
       "      <td>வெள்ளார்கள் சார்பாக படம் வெற்றி பெற வாழ்த்துக்...</td>\n",
       "      <td>NOT</td>\n",
       "    </tr>\n",
       "    <tr>\n",
       "      <th>653</th>\n",
       "      <td>tam_test_654</td>\n",
       "      <td>சமீபகாலமாக கால்பந்தாட்டத்தை மையப்படுத்தி தமிழ்...</td>\n",
       "      <td>NOT</td>\n",
       "    </tr>\n",
       "  </tbody>\n",
       "</table>\n",
       "<p>654 rows × 3 columns</p>\n",
       "</div>"
      ],
      "text/plain": [
       "               id                                               text category\n",
       "0      tam_test_1  தலைவா STR இதுக்குதான் கதுருந்தோம் மாஸ் தலைவா t...      NOT\n",
       "1      tam_test_2  நாயுடு மக்கள் சார்பாக திரைப்படம் வெற்றி பெற வா...      NOT\n",
       "2      tam_test_3                     தில்லானா முயற்சி  தஞ்சை கோனார்      NOT\n",
       "3      tam_test_4  திரௌபதியின் துகிலுறித்த போது காத்த கண்ணனின் யா...      NOT\n",
       "4      tam_test_5  நான் தியேட்டர்லே படம் பார்த்து 35 வருஷமாச்சு! ...      NOT\n",
       "..            ...                                                ...      ...\n",
       "649  tam_test_650  நான் தலைவரோட ரசிகன்னு சொல்லிடு தலைவரை ஒடசல் போ...      NOT\n",
       "650  tam_test_651  வாழ்த்துக்கள்,உண்மை கதை உலகத்துக்கு காட்டிய மோ...      NOT\n",
       "651  tam_test_652  குருமா and பா..குஞ்சித் பயலுக கதர்ரது இன்னும் ...      NOT\n",
       "652  tam_test_653  வெள்ளார்கள் சார்பாக படம் வெற்றி பெற வாழ்த்துக்...      NOT\n",
       "653  tam_test_654  சமீபகாலமாக கால்பந்தாட்டத்தை மையப்படுத்தி தமிழ்...      NOT\n",
       "\n",
       "[654 rows x 3 columns]"
      ]
     },
     "execution_count": 64,
     "metadata": {},
     "output_type": "execute_result"
    }
   ],
   "source": [
    "# K Nearest Neighbours\n",
    "\n",
    "predictions = le.inverse_transform(knn_test_pred)\n",
    "\n",
    "dataframe_test_knn = {\n",
    "    'id': dataframe_test['id'],\n",
    "    'text': dataframe_test['text'],\n",
    "    'category': predictions\n",
    "}\n",
    "\n",
    "dataframe_test_knn = pd.DataFrame(dataframe_test_knn)\n",
    "dataframe_test_knn.to_csv(\"Output/TF-IDF-KNearestNeighbours.csv\")\n",
    "dataframe_test_knn"
   ]
  },
  {
   "cell_type": "code",
   "execution_count": null,
   "metadata": {
    "colab": {
     "base_uri": "https://localhost:8080/",
     "height": 424
    },
    "executionInfo": {
     "elapsed": 585,
     "status": "ok",
     "timestamp": 1633520134606,
     "user": {
      "displayName": "Srivarshan 19BAI1078",
      "photoUrl": "https://lh3.googleusercontent.com/a/default-user=s64",
      "userId": "03718411517360748676"
     },
     "user_tz": -330
    },
    "id": "kkCcFt-bSnA0",
    "outputId": "3abaf31c-e9fa-4458-a99f-752cc7668dca"
   },
   "outputs": [
    {
     "data": {
      "text/html": [
       "<div>\n",
       "<style scoped>\n",
       "    .dataframe tbody tr th:only-of-type {\n",
       "        vertical-align: middle;\n",
       "    }\n",
       "\n",
       "    .dataframe tbody tr th {\n",
       "        vertical-align: top;\n",
       "    }\n",
       "\n",
       "    .dataframe thead th {\n",
       "        text-align: right;\n",
       "    }\n",
       "</style>\n",
       "<table border=\"1\" class=\"dataframe\">\n",
       "  <thead>\n",
       "    <tr style=\"text-align: right;\">\n",
       "      <th></th>\n",
       "      <th>id</th>\n",
       "      <th>text</th>\n",
       "      <th>category</th>\n",
       "    </tr>\n",
       "  </thead>\n",
       "  <tbody>\n",
       "    <tr>\n",
       "      <th>0</th>\n",
       "      <td>tam_test_1</td>\n",
       "      <td>தலைவா STR இதுக்குதான் கதுருந்தோம் மாஸ் தலைவா t...</td>\n",
       "      <td>NOT</td>\n",
       "    </tr>\n",
       "    <tr>\n",
       "      <th>1</th>\n",
       "      <td>tam_test_2</td>\n",
       "      <td>நாயுடு மக்கள் சார்பாக திரைப்படம் வெற்றி பெற வா...</td>\n",
       "      <td>NOT</td>\n",
       "    </tr>\n",
       "    <tr>\n",
       "      <th>2</th>\n",
       "      <td>tam_test_3</td>\n",
       "      <td>தில்லானா முயற்சி  தஞ்சை கோனார்</td>\n",
       "      <td>NOT</td>\n",
       "    </tr>\n",
       "    <tr>\n",
       "      <th>3</th>\n",
       "      <td>tam_test_4</td>\n",
       "      <td>திரௌபதியின் துகிலுறித்த போது காத்த கண்ணனின் யா...</td>\n",
       "      <td>NOT</td>\n",
       "    </tr>\n",
       "    <tr>\n",
       "      <th>4</th>\n",
       "      <td>tam_test_5</td>\n",
       "      <td>நான் தியேட்டர்லே படம் பார்த்து 35 வருஷமாச்சு! ...</td>\n",
       "      <td>NOT</td>\n",
       "    </tr>\n",
       "    <tr>\n",
       "      <th>...</th>\n",
       "      <td>...</td>\n",
       "      <td>...</td>\n",
       "      <td>...</td>\n",
       "    </tr>\n",
       "    <tr>\n",
       "      <th>649</th>\n",
       "      <td>tam_test_650</td>\n",
       "      <td>நான் தலைவரோட ரசிகன்னு சொல்லிடு தலைவரை ஒடசல் போ...</td>\n",
       "      <td>NOT</td>\n",
       "    </tr>\n",
       "    <tr>\n",
       "      <th>650</th>\n",
       "      <td>tam_test_651</td>\n",
       "      <td>வாழ்த்துக்கள்,உண்மை கதை உலகத்துக்கு காட்டிய மோ...</td>\n",
       "      <td>NOT</td>\n",
       "    </tr>\n",
       "    <tr>\n",
       "      <th>651</th>\n",
       "      <td>tam_test_652</td>\n",
       "      <td>குருமா and பா..குஞ்சித் பயலுக கதர்ரது இன்னும் ...</td>\n",
       "      <td>NOT</td>\n",
       "    </tr>\n",
       "    <tr>\n",
       "      <th>652</th>\n",
       "      <td>tam_test_653</td>\n",
       "      <td>வெள்ளார்கள் சார்பாக படம் வெற்றி பெற வாழ்த்துக்...</td>\n",
       "      <td>NOT</td>\n",
       "    </tr>\n",
       "    <tr>\n",
       "      <th>653</th>\n",
       "      <td>tam_test_654</td>\n",
       "      <td>சமீபகாலமாக கால்பந்தாட்டத்தை மையப்படுத்தி தமிழ்...</td>\n",
       "      <td>NOT</td>\n",
       "    </tr>\n",
       "  </tbody>\n",
       "</table>\n",
       "<p>654 rows × 3 columns</p>\n",
       "</div>"
      ],
      "text/plain": [
       "               id                                               text category\n",
       "0      tam_test_1  தலைவா STR இதுக்குதான் கதுருந்தோம் மாஸ் தலைவா t...      NOT\n",
       "1      tam_test_2  நாயுடு மக்கள் சார்பாக திரைப்படம் வெற்றி பெற வா...      NOT\n",
       "2      tam_test_3                     தில்லானா முயற்சி  தஞ்சை கோனார்      NOT\n",
       "3      tam_test_4  திரௌபதியின் துகிலுறித்த போது காத்த கண்ணனின் யா...      NOT\n",
       "4      tam_test_5  நான் தியேட்டர்லே படம் பார்த்து 35 வருஷமாச்சு! ...      NOT\n",
       "..            ...                                                ...      ...\n",
       "649  tam_test_650  நான் தலைவரோட ரசிகன்னு சொல்லிடு தலைவரை ஒடசல் போ...      NOT\n",
       "650  tam_test_651  வாழ்த்துக்கள்,உண்மை கதை உலகத்துக்கு காட்டிய மோ...      NOT\n",
       "651  tam_test_652  குருமா and பா..குஞ்சித் பயலுக கதர்ரது இன்னும் ...      NOT\n",
       "652  tam_test_653  வெள்ளார்கள் சார்பாக படம் வெற்றி பெற வாழ்த்துக்...      NOT\n",
       "653  tam_test_654  சமீபகாலமாக கால்பந்தாட்டத்தை மையப்படுத்தி தமிழ்...      NOT\n",
       "\n",
       "[654 rows x 3 columns]"
      ]
     },
     "execution_count": 65,
     "metadata": {},
     "output_type": "execute_result"
    }
   ],
   "source": [
    "# Decision Tree\n",
    "\n",
    "predictions = le.inverse_transform(dt_test_pred)\n",
    "\n",
    "dataframe_test_dt = {\n",
    "    'id': dataframe_test['id'],\n",
    "    'text': dataframe_test['text'],\n",
    "    'category': predictions\n",
    "}\n",
    "\n",
    "dataframe_test_dt = pd.DataFrame(dataframe_test_dt)\n",
    "dataframe_test_dt.to_csv(\"Output/TF-IDF-DecisionTree.csv\")\n",
    "dataframe_test_dt"
   ]
  },
  {
   "cell_type": "code",
   "execution_count": null,
   "metadata": {
    "colab": {
     "base_uri": "https://localhost:8080/",
     "height": 424
    },
    "executionInfo": {
     "elapsed": 19,
     "status": "ok",
     "timestamp": 1633520134606,
     "user": {
      "displayName": "Srivarshan 19BAI1078",
      "photoUrl": "https://lh3.googleusercontent.com/a/default-user=s64",
      "userId": "03718411517360748676"
     },
     "user_tz": -330
    },
    "id": "UAFiIVJ5UcwF",
    "outputId": "a05bba85-dda0-44ae-9c56-35e3f6c956f3"
   },
   "outputs": [
    {
     "data": {
      "text/html": [
       "<div>\n",
       "<style scoped>\n",
       "    .dataframe tbody tr th:only-of-type {\n",
       "        vertical-align: middle;\n",
       "    }\n",
       "\n",
       "    .dataframe tbody tr th {\n",
       "        vertical-align: top;\n",
       "    }\n",
       "\n",
       "    .dataframe thead th {\n",
       "        text-align: right;\n",
       "    }\n",
       "</style>\n",
       "<table border=\"1\" class=\"dataframe\">\n",
       "  <thead>\n",
       "    <tr style=\"text-align: right;\">\n",
       "      <th></th>\n",
       "      <th>id</th>\n",
       "      <th>text</th>\n",
       "      <th>category</th>\n",
       "    </tr>\n",
       "  </thead>\n",
       "  <tbody>\n",
       "    <tr>\n",
       "      <th>0</th>\n",
       "      <td>tam_test_1</td>\n",
       "      <td>தலைவா STR இதுக்குதான் கதுருந்தோம் மாஸ் தலைவா t...</td>\n",
       "      <td>NOT</td>\n",
       "    </tr>\n",
       "    <tr>\n",
       "      <th>1</th>\n",
       "      <td>tam_test_2</td>\n",
       "      <td>நாயுடு மக்கள் சார்பாக திரைப்படம் வெற்றி பெற வா...</td>\n",
       "      <td>NOT</td>\n",
       "    </tr>\n",
       "    <tr>\n",
       "      <th>2</th>\n",
       "      <td>tam_test_3</td>\n",
       "      <td>தில்லானா முயற்சி  தஞ்சை கோனார்</td>\n",
       "      <td>NOT</td>\n",
       "    </tr>\n",
       "    <tr>\n",
       "      <th>3</th>\n",
       "      <td>tam_test_4</td>\n",
       "      <td>திரௌபதியின் துகிலுறித்த போது காத்த கண்ணனின் யா...</td>\n",
       "      <td>NOT</td>\n",
       "    </tr>\n",
       "    <tr>\n",
       "      <th>4</th>\n",
       "      <td>tam_test_5</td>\n",
       "      <td>நான் தியேட்டர்லே படம் பார்த்து 35 வருஷமாச்சு! ...</td>\n",
       "      <td>NOT</td>\n",
       "    </tr>\n",
       "    <tr>\n",
       "      <th>...</th>\n",
       "      <td>...</td>\n",
       "      <td>...</td>\n",
       "      <td>...</td>\n",
       "    </tr>\n",
       "    <tr>\n",
       "      <th>649</th>\n",
       "      <td>tam_test_650</td>\n",
       "      <td>நான் தலைவரோட ரசிகன்னு சொல்லிடு தலைவரை ஒடசல் போ...</td>\n",
       "      <td>NOT</td>\n",
       "    </tr>\n",
       "    <tr>\n",
       "      <th>650</th>\n",
       "      <td>tam_test_651</td>\n",
       "      <td>வாழ்த்துக்கள்,உண்மை கதை உலகத்துக்கு காட்டிய மோ...</td>\n",
       "      <td>NOT</td>\n",
       "    </tr>\n",
       "    <tr>\n",
       "      <th>651</th>\n",
       "      <td>tam_test_652</td>\n",
       "      <td>குருமா and பா..குஞ்சித் பயலுக கதர்ரது இன்னும் ...</td>\n",
       "      <td>NOT</td>\n",
       "    </tr>\n",
       "    <tr>\n",
       "      <th>652</th>\n",
       "      <td>tam_test_653</td>\n",
       "      <td>வெள்ளார்கள் சார்பாக படம் வெற்றி பெற வாழ்த்துக்...</td>\n",
       "      <td>NOT</td>\n",
       "    </tr>\n",
       "    <tr>\n",
       "      <th>653</th>\n",
       "      <td>tam_test_654</td>\n",
       "      <td>சமீபகாலமாக கால்பந்தாட்டத்தை மையப்படுத்தி தமிழ்...</td>\n",
       "      <td>NOT</td>\n",
       "    </tr>\n",
       "  </tbody>\n",
       "</table>\n",
       "<p>654 rows × 3 columns</p>\n",
       "</div>"
      ],
      "text/plain": [
       "               id                                               text category\n",
       "0      tam_test_1  தலைவா STR இதுக்குதான் கதுருந்தோம் மாஸ் தலைவா t...      NOT\n",
       "1      tam_test_2  நாயுடு மக்கள் சார்பாக திரைப்படம் வெற்றி பெற வா...      NOT\n",
       "2      tam_test_3                     தில்லானா முயற்சி  தஞ்சை கோனார்      NOT\n",
       "3      tam_test_4  திரௌபதியின் துகிலுறித்த போது காத்த கண்ணனின் யா...      NOT\n",
       "4      tam_test_5  நான் தியேட்டர்லே படம் பார்த்து 35 வருஷமாச்சு! ...      NOT\n",
       "..            ...                                                ...      ...\n",
       "649  tam_test_650  நான் தலைவரோட ரசிகன்னு சொல்லிடு தலைவரை ஒடசல் போ...      NOT\n",
       "650  tam_test_651  வாழ்த்துக்கள்,உண்மை கதை உலகத்துக்கு காட்டிய மோ...      NOT\n",
       "651  tam_test_652  குருமா and பா..குஞ்சித் பயலுக கதர்ரது இன்னும் ...      NOT\n",
       "652  tam_test_653  வெள்ளார்கள் சார்பாக படம் வெற்றி பெற வாழ்த்துக்...      NOT\n",
       "653  tam_test_654  சமீபகாலமாக கால்பந்தாட்டத்தை மையப்படுத்தி தமிழ்...      NOT\n",
       "\n",
       "[654 rows x 3 columns]"
      ]
     },
     "execution_count": 66,
     "metadata": {},
     "output_type": "execute_result"
    }
   ],
   "source": [
    "# Random Forest\n",
    "\n",
    "predictions = le.inverse_transform(rf_test_pred)\n",
    "\n",
    "dataframe_test_rf = {\n",
    "    'id': dataframe_test['id'],\n",
    "    'text': dataframe_test['text'],\n",
    "    'category': predictions\n",
    "}\n",
    "\n",
    "dataframe_test_rf = pd.DataFrame(dataframe_test_rf)\n",
    "dataframe_test_rf.to_csv(\"Output/TF-IDF-RandomForest.csv\")\n",
    "dataframe_test_rf"
   ]
  },
  {
   "cell_type": "code",
   "execution_count": null,
   "metadata": {
    "colab": {
     "base_uri": "https://localhost:8080/",
     "height": 424
    },
    "executionInfo": {
     "elapsed": 552,
     "status": "ok",
     "timestamp": 1633520135140,
     "user": {
      "displayName": "Srivarshan 19BAI1078",
      "photoUrl": "https://lh3.googleusercontent.com/a/default-user=s64",
      "userId": "03718411517360748676"
     },
     "user_tz": -330
    },
    "id": "rGHHRWU2UkIf",
    "outputId": "4ec9f32a-fd77-4bea-bb6f-a9ee9e6af7f7"
   },
   "outputs": [
    {
     "data": {
      "text/html": [
       "<div>\n",
       "<style scoped>\n",
       "    .dataframe tbody tr th:only-of-type {\n",
       "        vertical-align: middle;\n",
       "    }\n",
       "\n",
       "    .dataframe tbody tr th {\n",
       "        vertical-align: top;\n",
       "    }\n",
       "\n",
       "    .dataframe thead th {\n",
       "        text-align: right;\n",
       "    }\n",
       "</style>\n",
       "<table border=\"1\" class=\"dataframe\">\n",
       "  <thead>\n",
       "    <tr style=\"text-align: right;\">\n",
       "      <th></th>\n",
       "      <th>id</th>\n",
       "      <th>text</th>\n",
       "      <th>category</th>\n",
       "    </tr>\n",
       "  </thead>\n",
       "  <tbody>\n",
       "    <tr>\n",
       "      <th>0</th>\n",
       "      <td>tam_test_1</td>\n",
       "      <td>தலைவா STR இதுக்குதான் கதுருந்தோம் மாஸ் தலைவா t...</td>\n",
       "      <td>NOT</td>\n",
       "    </tr>\n",
       "    <tr>\n",
       "      <th>1</th>\n",
       "      <td>tam_test_2</td>\n",
       "      <td>நாயுடு மக்கள் சார்பாக திரைப்படம் வெற்றி பெற வா...</td>\n",
       "      <td>NOT</td>\n",
       "    </tr>\n",
       "    <tr>\n",
       "      <th>2</th>\n",
       "      <td>tam_test_3</td>\n",
       "      <td>தில்லானா முயற்சி  தஞ்சை கோனார்</td>\n",
       "      <td>NOT</td>\n",
       "    </tr>\n",
       "    <tr>\n",
       "      <th>3</th>\n",
       "      <td>tam_test_4</td>\n",
       "      <td>திரௌபதியின் துகிலுறித்த போது காத்த கண்ணனின் யா...</td>\n",
       "      <td>NOT</td>\n",
       "    </tr>\n",
       "    <tr>\n",
       "      <th>4</th>\n",
       "      <td>tam_test_5</td>\n",
       "      <td>நான் தியேட்டர்லே படம் பார்த்து 35 வருஷமாச்சு! ...</td>\n",
       "      <td>NOT</td>\n",
       "    </tr>\n",
       "    <tr>\n",
       "      <th>...</th>\n",
       "      <td>...</td>\n",
       "      <td>...</td>\n",
       "      <td>...</td>\n",
       "    </tr>\n",
       "    <tr>\n",
       "      <th>649</th>\n",
       "      <td>tam_test_650</td>\n",
       "      <td>நான் தலைவரோட ரசிகன்னு சொல்லிடு தலைவரை ஒடசல் போ...</td>\n",
       "      <td>NOT</td>\n",
       "    </tr>\n",
       "    <tr>\n",
       "      <th>650</th>\n",
       "      <td>tam_test_651</td>\n",
       "      <td>வாழ்த்துக்கள்,உண்மை கதை உலகத்துக்கு காட்டிய மோ...</td>\n",
       "      <td>NOT</td>\n",
       "    </tr>\n",
       "    <tr>\n",
       "      <th>651</th>\n",
       "      <td>tam_test_652</td>\n",
       "      <td>குருமா and பா..குஞ்சித் பயலுக கதர்ரது இன்னும் ...</td>\n",
       "      <td>NOT</td>\n",
       "    </tr>\n",
       "    <tr>\n",
       "      <th>652</th>\n",
       "      <td>tam_test_653</td>\n",
       "      <td>வெள்ளார்கள் சார்பாக படம் வெற்றி பெற வாழ்த்துக்...</td>\n",
       "      <td>NOT</td>\n",
       "    </tr>\n",
       "    <tr>\n",
       "      <th>653</th>\n",
       "      <td>tam_test_654</td>\n",
       "      <td>சமீபகாலமாக கால்பந்தாட்டத்தை மையப்படுத்தி தமிழ்...</td>\n",
       "      <td>NOT</td>\n",
       "    </tr>\n",
       "  </tbody>\n",
       "</table>\n",
       "<p>654 rows × 3 columns</p>\n",
       "</div>"
      ],
      "text/plain": [
       "               id                                               text category\n",
       "0      tam_test_1  தலைவா STR இதுக்குதான் கதுருந்தோம் மாஸ் தலைவா t...      NOT\n",
       "1      tam_test_2  நாயுடு மக்கள் சார்பாக திரைப்படம் வெற்றி பெற வா...      NOT\n",
       "2      tam_test_3                     தில்லானா முயற்சி  தஞ்சை கோனார்      NOT\n",
       "3      tam_test_4  திரௌபதியின் துகிலுறித்த போது காத்த கண்ணனின் யா...      NOT\n",
       "4      tam_test_5  நான் தியேட்டர்லே படம் பார்த்து 35 வருஷமாச்சு! ...      NOT\n",
       "..            ...                                                ...      ...\n",
       "649  tam_test_650  நான் தலைவரோட ரசிகன்னு சொல்லிடு தலைவரை ஒடசல் போ...      NOT\n",
       "650  tam_test_651  வாழ்த்துக்கள்,உண்மை கதை உலகத்துக்கு காட்டிய மோ...      NOT\n",
       "651  tam_test_652  குருமா and பா..குஞ்சித் பயலுக கதர்ரது இன்னும் ...      NOT\n",
       "652  tam_test_653  வெள்ளார்கள் சார்பாக படம் வெற்றி பெற வாழ்த்துக்...      NOT\n",
       "653  tam_test_654  சமீபகாலமாக கால்பந்தாட்டத்தை மையப்படுத்தி தமிழ்...      NOT\n",
       "\n",
       "[654 rows x 3 columns]"
      ]
     },
     "execution_count": 67,
     "metadata": {},
     "output_type": "execute_result"
    }
   ],
   "source": [
    "# Majority Voting\n",
    "\n",
    "predictions = le.inverse_transform(mv_test_pred)\n",
    "\n",
    "dataframe_test_mv = {\n",
    "    'id': dataframe_test['id'],\n",
    "    'text': dataframe_test['text'],\n",
    "    'category': predictions\n",
    "}\n",
    "\n",
    "dataframe_test_mv = pd.DataFrame(dataframe_test_mv)\n",
    "dataframe_test_mv.to_csv(\"Output/TF-IDF-MajorityVoting.csv\")\n",
    "dataframe_test_mv"
   ]
  },
  {
   "cell_type": "code",
   "execution_count": null,
   "metadata": {
    "id": "pqyBAyeyUs1c"
   },
   "outputs": [],
   "source": []
  }
 ],
 "metadata": {
  "colab": {
   "collapsed_sections": [],
   "name": "TF-IDF.ipynb",
   "provenance": []
  },
  "kernelspec": {
   "display_name": "Python 3 (ipykernel)",
   "language": "python",
   "name": "python3"
  },
  "language_info": {
   "codemirror_mode": {
    "name": "ipython",
    "version": 3
   },
   "file_extension": ".py",
   "mimetype": "text/x-python",
   "name": "python",
   "nbconvert_exporter": "python",
   "pygments_lexer": "ipython3",
   "version": "3.10.4"
  }
 },
 "nbformat": 4,
 "nbformat_minor": 1
}
