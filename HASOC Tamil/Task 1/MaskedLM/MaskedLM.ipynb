{
 "cells": [
  {
   "cell_type": "markdown",
   "metadata": {
    "id": "WQuHH8lFOLcP"
   },
   "source": [
    "## **Setting up Development Environment**"
   ]
  },
  {
   "cell_type": "code",
   "execution_count": 1,
   "metadata": {
    "colab": {
     "base_uri": "https://localhost:8080/"
    },
    "executionInfo": {
     "elapsed": 19635,
     "status": "ok",
     "timestamp": 1633566682496,
     "user": {
      "displayName": "Srivarshan 19BAI1078",
      "photoUrl": "https://lh3.googleusercontent.com/a/default-user=s64",
      "userId": "03718411517360748676"
     },
     "user_tz": -330
    },
    "id": "uu4Du1Kh3cFa",
    "outputId": "f8c074d8-562c-4059-c81d-372478bbb06e"
   },
   "outputs": [
    {
     "name": "stdout",
     "output_type": "stream",
     "text": [
      "Mounted at /content/drive\n"
     ]
    }
   ],
   "source": [
    "from google.colab import drive\n",
    "drive.mount('/content/drive')"
   ]
  },
  {
   "cell_type": "code",
   "execution_count": 2,
   "metadata": {
    "colab": {
     "base_uri": "https://localhost:8080/"
    },
    "executionInfo": {
     "elapsed": 1169,
     "status": "ok",
     "timestamp": 1633566756366,
     "user": {
      "displayName": "Srivarshan 19BAI1078",
      "photoUrl": "https://lh3.googleusercontent.com/a/default-user=s64",
      "userId": "03718411517360748676"
     },
     "user_tz": -330
    },
    "id": "B85IYp3yOWLc",
    "outputId": "d80837e8-406a-4cc0-d3af-6d3ed49c4d64"
   },
   "outputs": [
    {
     "name": "stdout",
     "output_type": "stream",
     "text": [
      "/content/drive/MyDrive/Colab Notebooks/Hate-Speech-Detection-in-Tamil/HASOC Tamil/Task 1\n"
     ]
    }
   ],
   "source": [
    "% cd /content/drive/MyDrive/Colab Notebooks/Hate-Speech-Detection-in-Tamil/HASOC Tamil/Task 1"
   ]
  },
  {
   "cell_type": "code",
   "execution_count": 3,
   "metadata": {
    "colab": {
     "base_uri": "https://localhost:8080/"
    },
    "executionInfo": {
     "elapsed": 11830,
     "status": "ok",
     "timestamp": 1633566770781,
     "user": {
      "displayName": "Srivarshan 19BAI1078",
      "photoUrl": "https://lh3.googleusercontent.com/a/default-user=s64",
      "userId": "03718411517360748676"
     },
     "user_tz": -330
    },
    "id": "ZDshMJ7-fkmL",
    "outputId": "82839576-c3b2-48ce-b3c1-153c1662dd63"
   },
   "outputs": [
    {
     "name": "stdout",
     "output_type": "stream",
     "text": [
      "\u001b[K     |████████████████████████████████| 2.9 MB 17.3 MB/s \n",
      "\u001b[K     |████████████████████████████████| 3.3 MB 34.2 MB/s \n",
      "\u001b[K     |████████████████████████████████| 56 kB 4.5 MB/s \n",
      "\u001b[K     |████████████████████████████████| 636 kB 53.2 MB/s \n",
      "\u001b[K     |████████████████████████████████| 895 kB 43.1 MB/s \n",
      "\u001b[K     |████████████████████████████████| 1.2 MB 13.1 MB/s \n",
      "\u001b[?25h"
     ]
    }
   ],
   "source": [
    "! pip install -U -q transformers\n",
    "! pip install -U -q sentencepiece"
   ]
  },
  {
   "cell_type": "markdown",
   "metadata": {
    "id": "eRv9-m1JOdQ5"
   },
   "source": [
    "## **Importing Libraries**"
   ]
  },
  {
   "cell_type": "code",
   "execution_count": 24,
   "metadata": {
    "executionInfo": {
     "elapsed": 865,
     "status": "ok",
     "timestamp": 1633567080416,
     "user": {
      "displayName": "Srivarshan 19BAI1078",
      "photoUrl": "https://lh3.googleusercontent.com/a/default-user=s64",
      "userId": "03718411517360748676"
     },
     "user_tz": -330
    },
    "id": "APy2U3pfObp0"
   },
   "outputs": [],
   "source": [
    "import pandas as pd\n",
    "\n",
    "import numpy as np\n",
    "\n",
    "from sklearn.preprocessing import LabelEncoder\n",
    "from sklearn.feature_extraction.text import TfidfVectorizer\n",
    "from sklearn.model_selection import train_test_split\n",
    "from sklearn.linear_model import LogisticRegression\n",
    "from sklearn.svm import SVC\n",
    "from sklearn.naive_bayes import GaussianNB\n",
    "from sklearn.linear_model import SGDClassifier\n",
    "from sklearn.neighbors import KNeighborsClassifier\n",
    "from sklearn.tree import DecisionTreeClassifier\n",
    "from sklearn.ensemble import RandomForestClassifier\n",
    "from sklearn.metrics import classification_report\n",
    "\n",
    "from transformers import BertModel, BertTokenizer\n",
    "\n",
    "import pickle"
   ]
  },
  {
   "cell_type": "markdown",
   "metadata": {
    "id": "LLyGkLztOiDs"
   },
   "source": [
    "## **Setting up Stemmer**"
   ]
  },
  {
   "cell_type": "code",
   "execution_count": 5,
   "metadata": {
    "colab": {
     "base_uri": "https://localhost:8080/"
    },
    "executionInfo": {
     "elapsed": 28755,
     "status": "ok",
     "timestamp": 1633566890232,
     "user": {
      "displayName": "Srivarshan 19BAI1078",
      "photoUrl": "https://lh3.googleusercontent.com/a/default-user=s64",
      "userId": "03718411517360748676"
     },
     "user_tz": -330
    },
    "id": "sY7J1UyGOgZf",
    "outputId": "ec154999-1a72-4bfe-b9f3-390d1937feee"
   },
   "outputs": [
    {
     "name": "stdout",
     "output_type": "stream",
     "text": [
      "/content/drive/My Drive/Colab Notebooks/Hate-Speech-Detection-in-Tamil/HASOC Tamil/Task 1/tamil-stemmer-build\n",
      "Cloning into 'tamil-stemmer'...\n",
      "remote: Enumerating objects: 88, done.\u001b[K\n",
      "remote: Total 88 (delta 0), reused 0 (delta 0), pack-reused 88\u001b[K\n",
      "Unpacking objects: 100% (88/88), done.\n",
      "/content/drive/My Drive/Colab Notebooks/Hate-Speech-Detection-in-Tamil/HASOC Tamil/Task 1/tamil-stemmer-build/snowball-with-tamil\n",
      "cc -Iinclude -O2 -W -Wall -Wmissing-prototypes -Wmissing-declarations  -c -o compiler/space.o compiler/space.c\n",
      "cc -Iinclude -O2 -W -Wall -Wmissing-prototypes -Wmissing-declarations  -c -o compiler/tokeniser.o compiler/tokeniser.c\n",
      "In file included from \u001b[01m\u001b[Kcompiler/tokeniser.c:6:0\u001b[m\u001b[K:\n",
      "\u001b[01m\u001b[Kcompiler/tokeniser.c:\u001b[m\u001b[K In function ‘\u001b[01m\u001b[Kread_token\u001b[m\u001b[K’:\n",
      "\u001b[01m\u001b[Kcompiler/header.h:8:21:\u001b[m\u001b[K \u001b[01;35m\u001b[Kwarning: \u001b[m\u001b[Kthis statement may fall through [\u001b[01;35m\u001b[K-Wimplicit-fallthrough=\u001b[m\u001b[K]\n",
      " #define unless(C) if\u001b[01;35m\u001b[K(\u001b[m\u001b[K!(C))\n",
      "                     \u001b[01;35m\u001b[K^\u001b[m\u001b[K\n",
      "\u001b[01m\u001b[Kcompiler/tokeniser.c:390:16:\u001b[m\u001b[K \u001b[01;36m\u001b[Knote: \u001b[m\u001b[Kin expansion of macro ‘\u001b[01m\u001b[Kunless\u001b[m\u001b[K’\n",
      "                \u001b[01;36m\u001b[Kunless\u001b[m\u001b[K (t->next == 0) {\n",
      "                \u001b[01;36m\u001b[K^~~~~~\u001b[m\u001b[K\n",
      "\u001b[01m\u001b[Kcompiler/tokeniser.c:401:13:\u001b[m\u001b[K \u001b[01;36m\u001b[Knote: \u001b[m\u001b[Khere\n",
      "             \u001b[01;36m\u001b[Kdefault\u001b[m\u001b[K:\n",
      "             \u001b[01;36m\u001b[K^~~~~~~\u001b[m\u001b[K\n",
      "\u001b[01m\u001b[Kcompiler/tokeniser.c:\u001b[m\u001b[K In function ‘\u001b[01m\u001b[Kwhite_space\u001b[m\u001b[K’:\n",
      "\u001b[01m\u001b[Kcompiler/tokeniser.c:106:34:\u001b[m\u001b[K \u001b[01;35m\u001b[Kwarning: \u001b[m\u001b[Kthis statement may fall through [\u001b[01;35m\u001b[K-Wimplicit-fallthrough=\u001b[m\u001b[K]\n",
      "         case '\\n': \u001b[01;35m\u001b[Kt->line_number++\u001b[m\u001b[K;\n",
      "                    \u001b[01;35m\u001b[K~~~~~~~~~~~~~~^~\u001b[m\u001b[K\n",
      "\u001b[01m\u001b[Kcompiler/tokeniser.c:107:9:\u001b[m\u001b[K \u001b[01;36m\u001b[Knote: \u001b[m\u001b[Khere\n",
      "         \u001b[01;36m\u001b[Kcase\u001b[m\u001b[K '\\r':\n",
      "         \u001b[01;36m\u001b[K^~~~\u001b[m\u001b[K\n",
      "cc -Iinclude -O2 -W -Wall -Wmissing-prototypes -Wmissing-declarations  -c -o compiler/analyser.o compiler/analyser.c\n",
      "\u001b[01m\u001b[Kcompiler/analyser.c:\u001b[m\u001b[K In function ‘\u001b[01m\u001b[Kcheck_name_type\u001b[m\u001b[K’:\n",
      "\u001b[01m\u001b[Kcompiler/analyser.c:210:19:\u001b[m\u001b[K \u001b[01;35m\u001b[Kwarning: \u001b[m\u001b[Kthis ‘\u001b[01m\u001b[Kif\u001b[m\u001b[K’ clause does not guard... [\u001b[01;35m\u001b[K-Wmisleading-indentation\u001b[m\u001b[K]\n",
      "         case 'r': \u001b[01;35m\u001b[Kif\u001b[m\u001b[K (p->type == t_routine ||\n",
      "                   \u001b[01;35m\u001b[K^~\u001b[m\u001b[K\n",
      "\u001b[01m\u001b[Kcompiler/analyser.c:211:54:\u001b[m\u001b[K \u001b[01;36m\u001b[Knote: \u001b[m\u001b[K...this statement, but the latter is misleadingly indented as if it were guarded by the ‘\u001b[01m\u001b[Kif\u001b[m\u001b[K’\n",
      "                       p->type == t_external) return; \u001b[01;36m\u001b[Kbreak\u001b[m\u001b[K;\n",
      "                                                      \u001b[01;36m\u001b[K^~~~~\u001b[m\u001b[K\n",
      "\u001b[01m\u001b[Kcompiler/analyser.c:\u001b[m\u001b[K In function ‘\u001b[01m\u001b[Kread_program\u001b[m\u001b[K’:\n",
      "\u001b[01m\u001b[Kcompiler/analyser.c:859:21:\u001b[m\u001b[K \u001b[01;35m\u001b[Kwarning: \u001b[m\u001b[Kthis ‘\u001b[01m\u001b[Kif\u001b[m\u001b[K’ clause does not guard... [\u001b[01;35m\u001b[K-Wmisleading-indentation\u001b[m\u001b[K]\n",
      "                     \u001b[01;35m\u001b[Kif\u001b[m\u001b[K (q->used && q->definition == 0) error4(a, q); break;\n",
      "                     \u001b[01;35m\u001b[K^~\u001b[m\u001b[K\n",
      "\u001b[01m\u001b[Kcompiler/analyser.c:859:70:\u001b[m\u001b[K \u001b[01;36m\u001b[Knote: \u001b[m\u001b[K...this statement, but the latter is misleadingly indented as if it were guarded by the ‘\u001b[01m\u001b[Kif\u001b[m\u001b[K’\n",
      "                     if (q->used && q->definition == 0) error4(a, q); \u001b[01;36m\u001b[Kbreak\u001b[m\u001b[K;\n",
      "                                                                      \u001b[01;36m\u001b[K^~~~~\u001b[m\u001b[K\n",
      "\u001b[01m\u001b[Kcompiler/analyser.c:861:21:\u001b[m\u001b[K \u001b[01;35m\u001b[Kwarning: \u001b[m\u001b[Kthis ‘\u001b[01m\u001b[Kif\u001b[m\u001b[K’ clause does not guard... [\u001b[01;35m\u001b[K-Wmisleading-indentation\u001b[m\u001b[K]\n",
      "                     \u001b[01;35m\u001b[Kif\u001b[m\u001b[K (q->used && q->grouping == 0) error4(a, q); break;\n",
      "                     \u001b[01;35m\u001b[K^~\u001b[m\u001b[K\n",
      "\u001b[01m\u001b[Kcompiler/analyser.c:861:68:\u001b[m\u001b[K \u001b[01;36m\u001b[Knote: \u001b[m\u001b[K...this statement, but the latter is misleadingly indented as if it were guarded by the ‘\u001b[01m\u001b[Kif\u001b[m\u001b[K’\n",
      "                     if (q->used && q->grouping == 0) error4(a, q); \u001b[01;36m\u001b[Kbreak\u001b[m\u001b[K;\n",
      "                                                                    \u001b[01;36m\u001b[K^~~~~\u001b[m\u001b[K\n",
      "\u001b[01m\u001b[Kcompiler/analyser.c:\u001b[m\u001b[K In function ‘\u001b[01m\u001b[Kread_program_\u001b[m\u001b[K’:\n",
      "\u001b[01m\u001b[Kcompiler/analyser.c:842:20:\u001b[m\u001b[K \u001b[01;35m\u001b[Kwarning: \u001b[m\u001b[Kthis statement may fall through [\u001b[01;35m\u001b[K-Wimplicit-fallthrough=\u001b[m\u001b[K]\n",
      "                 if \u001b[01;35m\u001b[K(\u001b[m\u001b[Kterminator == c_ket) return;\n",
      "                    \u001b[01;35m\u001b[K^\u001b[m\u001b[K\n",
      "\u001b[01m\u001b[Kcompiler/analyser.c:843:13:\u001b[m\u001b[K \u001b[01;36m\u001b[Knote: \u001b[m\u001b[Khere\n",
      "             \u001b[01;36m\u001b[Kdefault\u001b[m\u001b[K:\n",
      "             \u001b[01;36m\u001b[K^~~~~~~\u001b[m\u001b[K\n",
      "\u001b[01m\u001b[Kcompiler/analyser.c:\u001b[m\u001b[K In function ‘\u001b[01m\u001b[Kcheck_name_type\u001b[m\u001b[K’:\n",
      "\u001b[01m\u001b[Kcompiler/analyser.c:209:22:\u001b[m\u001b[K \u001b[01;35m\u001b[Kwarning: \u001b[m\u001b[Kthis statement may fall through [\u001b[01;35m\u001b[K-Wimplicit-fallthrough=\u001b[m\u001b[K]\n",
      "         case 'R': if \u001b[01;35m\u001b[K(\u001b[m\u001b[Kp->type == t_grouping) return;\n",
      "                      \u001b[01;35m\u001b[K^\u001b[m\u001b[K\n",
      "\u001b[01m\u001b[Kcompiler/analyser.c:210:9:\u001b[m\u001b[K \u001b[01;36m\u001b[Knote: \u001b[m\u001b[Khere\n",
      "         \u001b[01;36m\u001b[Kcase\u001b[m\u001b[K 'r': if (p->type == t_routine ||\n",
      "         \u001b[01;36m\u001b[K^~~~\u001b[m\u001b[K\n",
      "\u001b[01m\u001b[Kcompiler/analyser.c:\u001b[m\u001b[K In function ‘\u001b[01m\u001b[Kerror2\u001b[m\u001b[K’:\n",
      "\u001b[01m\u001b[Kcompiler/analyser.c:88:13:\u001b[m\u001b[K \u001b[01;35m\u001b[Kwarning: \u001b[m\u001b[Kthis statement may fall through [\u001b[01;35m\u001b[K-Wimplicit-fallthrough=\u001b[m\u001b[K]\n",
      "             \u001b[01;35m\u001b[Kfprintf(stderr, \"in among(...), \")\u001b[m\u001b[K;\n",
      "             \u001b[01;35m\u001b[K^~~~~~~~~~~~~~~~~~~~~~~~~~~~~~~~~~\u001b[m\u001b[K\n",
      "\u001b[01m\u001b[Kcompiler/analyser.c:89:9:\u001b[m\u001b[K \u001b[01;36m\u001b[Knote: \u001b[m\u001b[Khere\n",
      "         \u001b[01;36m\u001b[Kcase\u001b[m\u001b[K 1:\n",
      "         \u001b[01;36m\u001b[K^~~~\u001b[m\u001b[K\n",
      "\u001b[01m\u001b[Kcompiler/analyser.c:\u001b[m\u001b[K In function ‘\u001b[01m\u001b[Kname_of_type\u001b[m\u001b[K’:\n",
      "\u001b[01m\u001b[Kcompiler/analyser.c:64:19:\u001b[m\u001b[K \u001b[01;35m\u001b[Kwarning: \u001b[m\u001b[Kthis statement may fall through [\u001b[01;35m\u001b[K-Wimplicit-fallthrough=\u001b[m\u001b[K]\n",
      "          default: \u001b[01;35m\u001b[Kfault(1)\u001b[m\u001b[K;\n",
      "                   \u001b[01;35m\u001b[K^~~~~~~~\u001b[m\u001b[K\n",
      "\u001b[01m\u001b[Kcompiler/analyser.c:65:10:\u001b[m\u001b[K \u001b[01;36m\u001b[Knote: \u001b[m\u001b[Khere\n",
      "          \u001b[01;36m\u001b[Kcase\u001b[m\u001b[K 's': return \"string\";\n",
      "          \u001b[01;36m\u001b[K^~~~\u001b[m\u001b[K\n",
      "\u001b[01m\u001b[Kcompiler/analyser.c:\u001b[m\u001b[K In function ‘\u001b[01m\u001b[Kname_of_mode\u001b[m\u001b[K’:\n",
      "\u001b[01m\u001b[Kcompiler/analyser.c:55:19:\u001b[m\u001b[K \u001b[01;35m\u001b[Kwarning: \u001b[m\u001b[Kthis statement may fall through [\u001b[01;35m\u001b[K-Wimplicit-fallthrough=\u001b[m\u001b[K]\n",
      "          default: \u001b[01;35m\u001b[Kfault(0)\u001b[m\u001b[K;\n",
      "                   \u001b[01;35m\u001b[K^~~~~~~~\u001b[m\u001b[K\n",
      "\u001b[01m\u001b[Kcompiler/analyser.c:56:10:\u001b[m\u001b[K \u001b[01;36m\u001b[Knote: \u001b[m\u001b[Khere\n",
      "          \u001b[01;36m\u001b[Kcase\u001b[m\u001b[K m_backward: return \"string backward\";\n",
      "          \u001b[01;36m\u001b[K^~~~\u001b[m\u001b[K\n",
      "\u001b[01m\u001b[Kcompiler/analyser.c:\u001b[m\u001b[K In function ‘\u001b[01m\u001b[Kread_C\u001b[m\u001b[K’:\n",
      "\u001b[01m\u001b[Kcompiler/analyser.c:642:30:\u001b[m\u001b[K \u001b[01;35m\u001b[Kwarning: \u001b[m\u001b[Kthis statement may fall through [\u001b[01;35m\u001b[K-Wimplicit-fallthrough=\u001b[m\u001b[K]\n",
      "                     default: \u001b[01;35m\u001b[Kerror(a, 34)\u001b[m\u001b[K;\n",
      "                              \u001b[01;35m\u001b[K^~~~~~~~~~~~\u001b[m\u001b[K\n",
      "\u001b[01m\u001b[Kcompiler/analyser.c:643:21:\u001b[m\u001b[K \u001b[01;36m\u001b[Knote: \u001b[m\u001b[Khere\n",
      "                     \u001b[01;36m\u001b[Kcase\u001b[m\u001b[K t_string:\n",
      "                     \u001b[01;36m\u001b[K^~~~\u001b[m\u001b[K\n",
      "\u001b[01m\u001b[Kcompiler/analyser.c:607:13:\u001b[m\u001b[K \u001b[01;35m\u001b[Kwarning: \u001b[m\u001b[Kthis statement may fall through [\u001b[01;35m\u001b[K-Wimplicit-fallthrough=\u001b[m\u001b[K]\n",
      "             \u001b[01;35m\u001b[Kcheck_modifyable(a)\u001b[m\u001b[K;\n",
      "             \u001b[01;35m\u001b[K^~~~~~~~~~~~~~~~~~~\u001b[m\u001b[K\n",
      "\u001b[01m\u001b[Kcompiler/analyser.c:608:9:\u001b[m\u001b[K \u001b[01;36m\u001b[Knote: \u001b[m\u001b[Khere\n",
      "         \u001b[01;36m\u001b[Kcase\u001b[m\u001b[K c_next:\n",
      "         \u001b[01;36m\u001b[K^~~~\u001b[m\u001b[K\n",
      "\u001b[01m\u001b[Kcompiler/analyser.c:\u001b[m\u001b[K In function ‘\u001b[01m\u001b[Kread_among\u001b[m\u001b[K’:\n",
      "\u001b[01m\u001b[Kcompiler/analyser.c:536:17:\u001b[m\u001b[K \u001b[01;35m\u001b[Kwarning: \u001b[m\u001b[Kthis statement may fall through [\u001b[01;35m\u001b[K-Wimplicit-fallthrough=\u001b[m\u001b[K]\n",
      "                 \u001b[01;35m\u001b[Kerror(a, 3)\u001b[m\u001b[K;\n",
      "                 \u001b[01;35m\u001b[K^~~~~~~~~~~\u001b[m\u001b[K\n",
      "\u001b[01m\u001b[Kcompiler/analyser.c:537:13:\u001b[m\u001b[K \u001b[01;36m\u001b[Knote: \u001b[m\u001b[Khere\n",
      "             \u001b[01;36m\u001b[Kcase\u001b[m\u001b[K c_ket:\n",
      "             \u001b[01;36m\u001b[K^~~~\u001b[m\u001b[K\n",
      "cc -Iinclude -O2 -W -Wall -Wmissing-prototypes -Wmissing-declarations  -c -o compiler/generator.o compiler/generator.c\n",
      "\u001b[01m\u001b[Kcompiler/generator.c:\u001b[m\u001b[K In function ‘\u001b[01m\u001b[Kwlitarray\u001b[m\u001b[K’:\n",
      "\u001b[01m\u001b[Kcompiler/generator.c:97:32:\u001b[m\u001b[K \u001b[01;35m\u001b[Kwarning: \u001b[m\u001b[Kthis statement may fall through [\u001b[01;35m\u001b[K-Wimplicit-fallthrough=\u001b[m\u001b[K]\n",
      "                     case '\\\\': \u001b[01;35m\u001b[Kwch(g, '\\\\')\u001b[m\u001b[K;\n",
      "                                \u001b[01;35m\u001b[K^~~~~~~~~~~~\u001b[m\u001b[K\n",
      "\u001b[01m\u001b[Kcompiler/generator.c:98:21:\u001b[m\u001b[K \u001b[01;36m\u001b[Knote: \u001b[m\u001b[Khere\n",
      "                     \u001b[01;36m\u001b[Kdefault\u001b[m\u001b[K:   wch(g, ch);\n",
      "                     \u001b[01;36m\u001b[K^~~~~~~\u001b[m\u001b[K\n",
      "cc -Iinclude -O2 -W -Wall -Wmissing-prototypes -Wmissing-declarations  -c -o compiler/driver.o compiler/driver.c\n",
      "cc -Iinclude -O2 -W -Wall -Wmissing-prototypes -Wmissing-declarations  -c -o compiler/generator_java.o compiler/generator_java.c\n",
      "cc -o snowball compiler/space.o compiler/tokeniser.o compiler/analyser.o compiler/generator.o compiler/driver.o compiler/generator_java.o\n",
      "sed 's/@MODULES_H@/modules.h/' libstemmer/libstemmer_c.in >libstemmer/libstemmer.c\n",
      "libstemmer/mkmodules.pl libstemmer/modules.h src_c libstemmer/modules.txt libstemmer/mkinc.mak\n",
      "cp algorithms/danish/stem_ISO_8859_1.sbl algorithms/danish/stem_Unicode.sbl\n",
      "./snowball algorithms/danish/stem_Unicode.sbl -o src_c/stem_UTF_8_danish -eprefix danish_UTF_8_ -r ../runtime -u\n",
      "cp algorithms/dutch/stem_ISO_8859_1.sbl algorithms/dutch/stem_Unicode.sbl\n",
      "./snowball algorithms/dutch/stem_Unicode.sbl -o src_c/stem_UTF_8_dutch -eprefix dutch_UTF_8_ -r ../runtime -u\n",
      "cp algorithms/english/stem_ISO_8859_1.sbl algorithms/english/stem_Unicode.sbl\n",
      "./snowball algorithms/english/stem_Unicode.sbl -o src_c/stem_UTF_8_english -eprefix english_UTF_8_ -r ../runtime -u\n",
      "cp algorithms/finnish/stem_ISO_8859_1.sbl algorithms/finnish/stem_Unicode.sbl\n",
      "./snowball algorithms/finnish/stem_Unicode.sbl -o src_c/stem_UTF_8_finnish -eprefix finnish_UTF_8_ -r ../runtime -u\n",
      "cp algorithms/french/stem_ISO_8859_1.sbl algorithms/french/stem_Unicode.sbl\n",
      "./snowball algorithms/french/stem_Unicode.sbl -o src_c/stem_UTF_8_french -eprefix french_UTF_8_ -r ../runtime -u\n",
      "cp algorithms/german/stem_ISO_8859_1.sbl algorithms/german/stem_Unicode.sbl\n",
      "./snowball algorithms/german/stem_Unicode.sbl -o src_c/stem_UTF_8_german -eprefix german_UTF_8_ -r ../runtime -u\n",
      "cp algorithms/hungarian/stem_ISO_8859_1.sbl algorithms/hungarian/stem_Unicode.sbl\n",
      "./snowball algorithms/hungarian/stem_Unicode.sbl -o src_c/stem_UTF_8_hungarian -eprefix hungarian_UTF_8_ -r ../runtime -u\n",
      "cp algorithms/italian/stem_ISO_8859_1.sbl algorithms/italian/stem_Unicode.sbl\n",
      "./snowball algorithms/italian/stem_Unicode.sbl -o src_c/stem_UTF_8_italian -eprefix italian_UTF_8_ -r ../runtime -u\n",
      "cp algorithms/norwegian/stem_ISO_8859_1.sbl algorithms/norwegian/stem_Unicode.sbl\n",
      "./snowball algorithms/norwegian/stem_Unicode.sbl -o src_c/stem_UTF_8_norwegian -eprefix norwegian_UTF_8_ -r ../runtime -u\n",
      "cp algorithms/porter/stem_ISO_8859_1.sbl algorithms/porter/stem_Unicode.sbl\n",
      "./snowball algorithms/porter/stem_Unicode.sbl -o src_c/stem_UTF_8_porter -eprefix porter_UTF_8_ -r ../runtime -u\n",
      "cp algorithms/portuguese/stem_ISO_8859_1.sbl algorithms/portuguese/stem_Unicode.sbl\n",
      "./snowball algorithms/portuguese/stem_Unicode.sbl -o src_c/stem_UTF_8_portuguese -eprefix portuguese_UTF_8_ -r ../runtime -u\n",
      "./snowball algorithms/romanian/stem_Unicode.sbl -o src_c/stem_UTF_8_romanian -eprefix romanian_UTF_8_ -r ../runtime -u\n",
      "./snowball algorithms/russian/stem_Unicode.sbl -o src_c/stem_UTF_8_russian -eprefix russian_UTF_8_ -r ../runtime -u\n",
      "cp algorithms/spanish/stem_ISO_8859_1.sbl algorithms/spanish/stem_Unicode.sbl\n",
      "./snowball algorithms/spanish/stem_Unicode.sbl -o src_c/stem_UTF_8_spanish -eprefix spanish_UTF_8_ -r ../runtime -u\n",
      "cp algorithms/swedish/stem_ISO_8859_1.sbl algorithms/swedish/stem_Unicode.sbl\n",
      "./snowball algorithms/swedish/stem_Unicode.sbl -o src_c/stem_UTF_8_swedish -eprefix swedish_UTF_8_ -r ../runtime -u\n",
      "./snowball algorithms/tamil/stem_Unicode.sbl -o src_c/stem_UTF_8_tamil -eprefix tamil_UTF_8_ -r ../runtime -u\n",
      "Declared but not used: was_stripped found_vallinam_doubling mark2 mark\n",
      "Declared and defined but not used: vowel_signs uyir itaiyinam mellinam vallinam word_starter q_prefixes q_suffixes suttezhuthu\n",
      "./snowball algorithms/turkish/stem_Unicode.sbl -o src_c/stem_UTF_8_turkish -eprefix turkish_UTF_8_ -r ../runtime -u\n",
      "./snowball algorithms/russian/stem_KOI8_R.sbl -o src_c/stem_KOI8_R_russian -eprefix russian_KOI8_R_ -r ../runtime\n",
      "./snowball algorithms/danish/stem_ISO_8859_1.sbl -o src_c/stem_ISO_8859_1_danish -eprefix danish_ISO_8859_1_ -r ../runtime\n",
      "./snowball algorithms/dutch/stem_ISO_8859_1.sbl -o src_c/stem_ISO_8859_1_dutch -eprefix dutch_ISO_8859_1_ -r ../runtime\n",
      "./snowball algorithms/english/stem_ISO_8859_1.sbl -o src_c/stem_ISO_8859_1_english -eprefix english_ISO_8859_1_ -r ../runtime\n",
      "./snowball algorithms/finnish/stem_ISO_8859_1.sbl -o src_c/stem_ISO_8859_1_finnish -eprefix finnish_ISO_8859_1_ -r ../runtime\n",
      "./snowball algorithms/french/stem_ISO_8859_1.sbl -o src_c/stem_ISO_8859_1_french -eprefix french_ISO_8859_1_ -r ../runtime\n",
      "./snowball algorithms/german/stem_ISO_8859_1.sbl -o src_c/stem_ISO_8859_1_german -eprefix german_ISO_8859_1_ -r ../runtime\n",
      "./snowball algorithms/hungarian/stem_ISO_8859_1.sbl -o src_c/stem_ISO_8859_1_hungarian -eprefix hungarian_ISO_8859_1_ -r ../runtime\n",
      "./snowball algorithms/italian/stem_ISO_8859_1.sbl -o src_c/stem_ISO_8859_1_italian -eprefix italian_ISO_8859_1_ -r ../runtime\n",
      "./snowball algorithms/norwegian/stem_ISO_8859_1.sbl -o src_c/stem_ISO_8859_1_norwegian -eprefix norwegian_ISO_8859_1_ -r ../runtime\n",
      "./snowball algorithms/porter/stem_ISO_8859_1.sbl -o src_c/stem_ISO_8859_1_porter -eprefix porter_ISO_8859_1_ -r ../runtime\n",
      "./snowball algorithms/portuguese/stem_ISO_8859_1.sbl -o src_c/stem_ISO_8859_1_portuguese -eprefix portuguese_ISO_8859_1_ -r ../runtime\n",
      "./snowball algorithms/spanish/stem_ISO_8859_1.sbl -o src_c/stem_ISO_8859_1_spanish -eprefix spanish_ISO_8859_1_ -r ../runtime\n",
      "./snowball algorithms/swedish/stem_ISO_8859_1.sbl -o src_c/stem_ISO_8859_1_swedish -eprefix swedish_ISO_8859_1_ -r ../runtime\n",
      "./snowball algorithms/romanian/stem_ISO_8859_2.sbl -o src_c/stem_ISO_8859_2_romanian -eprefix romanian_ISO_8859_2_ -r ../runtime\n",
      "cc -Iinclude -O2 -W -Wall -Wmissing-prototypes -Wmissing-declarations  -c -o libstemmer/libstemmer.o libstemmer/libstemmer.c\n",
      "cc -Iinclude -O2 -W -Wall -Wmissing-prototypes -Wmissing-declarations  -c -o runtime/api.o runtime/api.c\n",
      "cc -Iinclude -O2 -W -Wall -Wmissing-prototypes -Wmissing-declarations  -c -o runtime/utilities.o runtime/utilities.c\n",
      "cc -Iinclude -O2 -O2 -c -o src_c/stem_UTF_8_danish.o src_c/stem_UTF_8_danish.c -Wall\n",
      "cc -Iinclude -O2 -O2 -c -o src_c/stem_UTF_8_dutch.o src_c/stem_UTF_8_dutch.c -Wall\n",
      "cc -Iinclude -O2 -O2 -c -o src_c/stem_UTF_8_english.o src_c/stem_UTF_8_english.c -Wall\n",
      "cc -Iinclude -O2 -O2 -c -o src_c/stem_UTF_8_finnish.o src_c/stem_UTF_8_finnish.c -Wall\n",
      "cc -Iinclude -O2 -O2 -c -o src_c/stem_UTF_8_french.o src_c/stem_UTF_8_french.c -Wall\n",
      "cc -Iinclude -O2 -O2 -c -o src_c/stem_UTF_8_german.o src_c/stem_UTF_8_german.c -Wall\n",
      "cc -Iinclude -O2 -O2 -c -o src_c/stem_UTF_8_hungarian.o src_c/stem_UTF_8_hungarian.c -Wall\n",
      "cc -Iinclude -O2 -O2 -c -o src_c/stem_UTF_8_italian.o src_c/stem_UTF_8_italian.c -Wall\n",
      "cc -Iinclude -O2 -O2 -c -o src_c/stem_UTF_8_norwegian.o src_c/stem_UTF_8_norwegian.c -Wall\n",
      "cc -Iinclude -O2 -O2 -c -o src_c/stem_UTF_8_porter.o src_c/stem_UTF_8_porter.c -Wall\n",
      "cc -Iinclude -O2 -O2 -c -o src_c/stem_UTF_8_portuguese.o src_c/stem_UTF_8_portuguese.c -Wall\n",
      "cc -Iinclude -O2 -O2 -c -o src_c/stem_UTF_8_romanian.o src_c/stem_UTF_8_romanian.c -Wall\n",
      "cc -Iinclude -O2 -O2 -c -o src_c/stem_UTF_8_russian.o src_c/stem_UTF_8_russian.c -Wall\n",
      "cc -Iinclude -O2 -O2 -c -o src_c/stem_UTF_8_spanish.o src_c/stem_UTF_8_spanish.c -Wall\n",
      "cc -Iinclude -O2 -O2 -c -o src_c/stem_UTF_8_swedish.o src_c/stem_UTF_8_swedish.c -Wall\n",
      "cc -Iinclude -O2 -O2 -c -o src_c/stem_UTF_8_tamil.o src_c/stem_UTF_8_tamil.c -Wall\n",
      "\u001b[01m\u001b[Ksrc_c/stem_UTF_8_tamil.c:56:28:\u001b[m\u001b[K \u001b[01;35m\u001b[Kwarning: \u001b[m\u001b[K‘\u001b[01m\u001b[Kg_uyir\u001b[m\u001b[K’ defined but not used [\u001b[01;35m\u001b[K-Wunused-const-variable=\u001b[m\u001b[K]\n",
      " static const unsigned char \u001b[01;35m\u001b[Kg_uyir\u001b[m\u001b[K[] = { 63, 238 };\n",
      "                            \u001b[01;35m\u001b[K^~~~~~\u001b[m\u001b[K\n",
      "\u001b[01m\u001b[Ksrc_c/stem_UTF_8_tamil.c:54:28:\u001b[m\u001b[K \u001b[01;35m\u001b[Kwarning: \u001b[m\u001b[K‘\u001b[01m\u001b[Kg_vowel_signs\u001b[m\u001b[K’ defined but not used [\u001b[01;35m\u001b[K-Wunused-const-variable=\u001b[m\u001b[K]\n",
      " static const unsigned char \u001b[01;35m\u001b[Kg_vowel_signs\u001b[m\u001b[K[] = { 31, 7 };\n",
      "                            \u001b[01;35m\u001b[K^~~~~~~~~~~~~\u001b[m\u001b[K\n",
      "\u001b[01m\u001b[Ksrc_c/stem_UTF_8_tamil.c:52:28:\u001b[m\u001b[K \u001b[01;35m\u001b[Kwarning: \u001b[m\u001b[K‘\u001b[01m\u001b[Kg_itaiyinam\u001b[m\u001b[K’ defined but not used [\u001b[01;35m\u001b[K-Wunused-const-variable=\u001b[m\u001b[K]\n",
      " static const unsigned char \u001b[01;35m\u001b[Kg_itaiyinam\u001b[m\u001b[K[] = { 123 };\n",
      "                            \u001b[01;35m\u001b[K^~~~~~~~~~~\u001b[m\u001b[K\n",
      "\u001b[01m\u001b[Ksrc_c/stem_UTF_8_tamil.c:50:28:\u001b[m\u001b[K \u001b[01;35m\u001b[Kwarning: \u001b[m\u001b[K‘\u001b[01m\u001b[Kg_mellinam\u001b[m\u001b[K’ defined but not used [\u001b[01;35m\u001b[K-Wunused-const-variable=\u001b[m\u001b[K]\n",
      " static const unsigned char \u001b[01;35m\u001b[Kg_mellinam\u001b[m\u001b[K[] = { 33, 132, 33 };\n",
      "                            \u001b[01;35m\u001b[K^~~~~~~~~~\u001b[m\u001b[K\n",
      "\u001b[01m\u001b[Ksrc_c/stem_UTF_8_tamil.c:48:28:\u001b[m\u001b[K \u001b[01;35m\u001b[Kwarning: \u001b[m\u001b[K‘\u001b[01m\u001b[Kg_vallinam\u001b[m\u001b[K’ defined but not used [\u001b[01;35m\u001b[K-Wunused-const-variable=\u001b[m\u001b[K]\n",
      " static const unsigned char \u001b[01;35m\u001b[Kg_vallinam\u001b[m\u001b[K[] = { 33, 132, 32, 16 };\n",
      "                            \u001b[01;35m\u001b[K^~~~~~~~~~\u001b[m\u001b[K\n",
      "\u001b[01m\u001b[Ksrc_c/stem_UTF_8_tamil.c:46:28:\u001b[m\u001b[K \u001b[01;35m\u001b[Kwarning: \u001b[m\u001b[K‘\u001b[01m\u001b[Kg_suttezhuthu\u001b[m\u001b[K’ defined but not used [\u001b[01;35m\u001b[K-Wunused-const-variable=\u001b[m\u001b[K]\n",
      " static const unsigned char \u001b[01;35m\u001b[Kg_suttezhuthu\u001b[m\u001b[K[] = { 21 };\n",
      "                            \u001b[01;35m\u001b[K^~~~~~~~~~~~~\u001b[m\u001b[K\n",
      "\u001b[01m\u001b[Ksrc_c/stem_UTF_8_tamil.c:44:28:\u001b[m\u001b[K \u001b[01;35m\u001b[Kwarning: \u001b[m\u001b[K‘\u001b[01m\u001b[Kg_word_starter\u001b[m\u001b[K’ defined but not used [\u001b[01;35m\u001b[K-Wunused-const-variable=\u001b[m\u001b[K]\n",
      " static const unsigned char \u001b[01;35m\u001b[Kg_word_starter\u001b[m\u001b[K[] = { 49, 130, 40, 6, 1 };\n",
      "                            \u001b[01;35m\u001b[K^~~~~~~~~~~~~~\u001b[m\u001b[K\n",
      "\u001b[01m\u001b[Ksrc_c/stem_UTF_8_tamil.c:42:28:\u001b[m\u001b[K \u001b[01;35m\u001b[Kwarning: \u001b[m\u001b[K‘\u001b[01m\u001b[Kg_q_prefixes\u001b[m\u001b[K’ defined but not used [\u001b[01;35m\u001b[K-Wunused-const-variable=\u001b[m\u001b[K]\n",
      " static const unsigned char \u001b[01;35m\u001b[Kg_q_prefixes\u001b[m\u001b[K[] = { 1 };\n",
      "                            \u001b[01;35m\u001b[K^~~~~~~~~~~~\u001b[m\u001b[K\n",
      "\u001b[01m\u001b[Ksrc_c/stem_UTF_8_tamil.c:40:28:\u001b[m\u001b[K \u001b[01;35m\u001b[Kwarning: \u001b[m\u001b[K‘\u001b[01m\u001b[Kg_q_suffixes\u001b[m\u001b[K’ defined but not used [\u001b[01;35m\u001b[K-Wunused-const-variable=\u001b[m\u001b[K]\n",
      " static const unsigned char \u001b[01;35m\u001b[Kg_q_suffixes\u001b[m\u001b[K[] = { 1, 34 };\n",
      "                            \u001b[01;35m\u001b[K^~~~~~~~~~~~\u001b[m\u001b[K\n",
      "cc -Iinclude -O2 -O2 -c -o src_c/stem_UTF_8_turkish.o src_c/stem_UTF_8_turkish.c -Wall\n",
      "cc -Iinclude -O2 -O2 -c -o src_c/stem_KOI8_R_russian.o src_c/stem_KOI8_R_russian.c -Wall\n",
      "cc -Iinclude -O2 -O2 -c -o src_c/stem_ISO_8859_1_danish.o src_c/stem_ISO_8859_1_danish.c -Wall\n",
      "cc -Iinclude -O2 -O2 -c -o src_c/stem_ISO_8859_1_dutch.o src_c/stem_ISO_8859_1_dutch.c -Wall\n",
      "cc -Iinclude -O2 -O2 -c -o src_c/stem_ISO_8859_1_english.o src_c/stem_ISO_8859_1_english.c -Wall\n",
      "cc -Iinclude -O2 -O2 -c -o src_c/stem_ISO_8859_1_finnish.o src_c/stem_ISO_8859_1_finnish.c -Wall\n",
      "cc -Iinclude -O2 -O2 -c -o src_c/stem_ISO_8859_1_french.o src_c/stem_ISO_8859_1_french.c -Wall\n",
      "cc -Iinclude -O2 -O2 -c -o src_c/stem_ISO_8859_1_german.o src_c/stem_ISO_8859_1_german.c -Wall\n",
      "cc -Iinclude -O2 -O2 -c -o src_c/stem_ISO_8859_1_hungarian.o src_c/stem_ISO_8859_1_hungarian.c -Wall\n",
      "cc -Iinclude -O2 -O2 -c -o src_c/stem_ISO_8859_1_italian.o src_c/stem_ISO_8859_1_italian.c -Wall\n",
      "cc -Iinclude -O2 -O2 -c -o src_c/stem_ISO_8859_1_norwegian.o src_c/stem_ISO_8859_1_norwegian.c -Wall\n",
      "cc -Iinclude -O2 -O2 -c -o src_c/stem_ISO_8859_1_porter.o src_c/stem_ISO_8859_1_porter.c -Wall\n",
      "cc -Iinclude -O2 -O2 -c -o src_c/stem_ISO_8859_1_portuguese.o src_c/stem_ISO_8859_1_portuguese.c -Wall\n",
      "cc -Iinclude -O2 -O2 -c -o src_c/stem_ISO_8859_1_spanish.o src_c/stem_ISO_8859_1_spanish.c -Wall\n",
      "cc -Iinclude -O2 -O2 -c -o src_c/stem_ISO_8859_1_swedish.o src_c/stem_ISO_8859_1_swedish.c -Wall\n",
      "cc -Iinclude -O2 -O2 -c -o src_c/stem_ISO_8859_2_romanian.o src_c/stem_ISO_8859_2_romanian.c -Wall\n",
      "ar -cru libstemmer.o libstemmer/libstemmer.o runtime/api.o runtime/utilities.o src_c/stem_UTF_8_danish.o src_c/stem_UTF_8_dutch.o src_c/stem_UTF_8_english.o src_c/stem_UTF_8_finnish.o src_c/stem_UTF_8_french.o src_c/stem_UTF_8_german.o src_c/stem_UTF_8_hungarian.o src_c/stem_UTF_8_italian.o src_c/stem_UTF_8_norwegian.o src_c/stem_UTF_8_porter.o src_c/stem_UTF_8_portuguese.o src_c/stem_UTF_8_romanian.o src_c/stem_UTF_8_russian.o src_c/stem_UTF_8_spanish.o src_c/stem_UTF_8_swedish.o src_c/stem_UTF_8_tamil.o src_c/stem_UTF_8_turkish.o src_c/stem_KOI8_R_russian.o src_c/stem_ISO_8859_1_danish.o src_c/stem_ISO_8859_1_dutch.o src_c/stem_ISO_8859_1_english.o src_c/stem_ISO_8859_1_finnish.o src_c/stem_ISO_8859_1_french.o src_c/stem_ISO_8859_1_german.o src_c/stem_ISO_8859_1_hungarian.o src_c/stem_ISO_8859_1_italian.o src_c/stem_ISO_8859_1_norwegian.o src_c/stem_ISO_8859_1_porter.o src_c/stem_ISO_8859_1_portuguese.o src_c/stem_ISO_8859_1_spanish.o src_c/stem_ISO_8859_1_swedish.o src_c/stem_ISO_8859_2_romanian.o\n",
      "ar: `u' modifier ignored since `D' is the default (see `U')\n",
      "cc -Iinclude -O2 -W -Wall -Wmissing-prototypes -Wmissing-declarations  -c -o examples/stemwords.o examples/stemwords.c\n",
      "cc -o stemwords examples/stemwords.o libstemmer.o\n",
      "cp algorithms/german2/stem_ISO_8859_1.sbl algorithms/german2/stem_Unicode.sbl\n",
      "./snowball algorithms/german2/stem_Unicode.sbl -o src_c/stem_UTF_8_german2 -eprefix german2_UTF_8_ -r ../runtime -u\n",
      "cp algorithms/kraaij_pohlmann/stem_ISO_8859_1.sbl algorithms/kraaij_pohlmann/stem_Unicode.sbl\n",
      "./snowball algorithms/kraaij_pohlmann/stem_Unicode.sbl -o src_c/stem_UTF_8_kraaij_pohlmann -eprefix kraaij_pohlmann_UTF_8_ -r ../runtime -u\n",
      "cp algorithms/lovins/stem_ISO_8859_1.sbl algorithms/lovins/stem_Unicode.sbl\n",
      "./snowball algorithms/lovins/stem_Unicode.sbl -o src_c/stem_UTF_8_lovins -eprefix lovins_UTF_8_ -r ../runtime -u\n",
      "cc -Iinclude -O2 -O2 -c -o src_c/stem_UTF_8_german2.o src_c/stem_UTF_8_german2.c -Wall\n",
      "cc -Iinclude -O2 -O2 -c -o src_c/stem_UTF_8_kraaij_pohlmann.o src_c/stem_UTF_8_kraaij_pohlmann.c -Wall\n",
      "cc -Iinclude -O2 -O2 -c -o src_c/stem_UTF_8_lovins.o src_c/stem_UTF_8_lovins.c -Wall\n",
      "rm algorithms/spanish/stem_Unicode.sbl algorithms/porter/stem_Unicode.sbl algorithms/dutch/stem_Unicode.sbl algorithms/kraaij_pohlmann/stem_Unicode.sbl algorithms/danish/stem_Unicode.sbl algorithms/finnish/stem_Unicode.sbl algorithms/hungarian/stem_Unicode.sbl algorithms/italian/stem_Unicode.sbl algorithms/swedish/stem_Unicode.sbl algorithms/lovins/stem_Unicode.sbl algorithms/english/stem_Unicode.sbl algorithms/german/stem_Unicode.sbl algorithms/norwegian/stem_Unicode.sbl algorithms/portuguese/stem_Unicode.sbl algorithms/german2/stem_Unicode.sbl algorithms/french/stem_Unicode.sbl\n",
      "/content/drive/MyDrive/Colab Notebooks/Hate-Speech-Detection-in-Tamil/HASOC Tamil/Task 1\n"
     ]
    }
   ],
   "source": [
    "! rm -r tamil-stemmer-build\n",
    "! rm input.txt\n",
    "! rm output.txt\n",
    "\n",
    "! mkdir tamil-stemmer-build\n",
    "% cd tamil-stemmer-build\n",
    "! git clone https://github.com/rdamodharan/tamil-stemmer.git\n",
    "! tar -zxf tamil-stemmer/snowball-with-tamil.tgz\n",
    "% cd snowball-with-tamil\n",
    "! make\n",
    "\n",
    "% cd /content/drive/MyDrive/Colab Notebooks/Hate-Speech-Detection-in-Tamil/HASOC Tamil/Task 1"
   ]
  },
  {
   "cell_type": "markdown",
   "metadata": {
    "id": "Ob6l5HOZOsZ7"
   },
   "source": [
    "## **Loading Data**"
   ]
  },
  {
   "cell_type": "code",
   "execution_count": 6,
   "metadata": {
    "executionInfo": {
     "elapsed": 1835,
     "status": "ok",
     "timestamp": 1633566904189,
     "user": {
      "displayName": "Srivarshan 19BAI1078",
      "photoUrl": "https://lh3.googleusercontent.com/a/default-user=s64",
      "userId": "03718411517360748676"
     },
     "user_tz": -330
    },
    "id": "_MKm6-4eOpNF"
   },
   "outputs": [],
   "source": [
    "dataframe = pd.read_csv(\"Dataset/tamil_offensive_train.tsv\", sep='\\t')"
   ]
  },
  {
   "cell_type": "code",
   "execution_count": 7,
   "metadata": {
    "colab": {
     "base_uri": "https://localhost:8080/",
     "height": 206
    },
    "executionInfo": {
     "elapsed": 11,
     "status": "ok",
     "timestamp": 1633566905871,
     "user": {
      "displayName": "Srivarshan 19BAI1078",
      "photoUrl": "https://lh3.googleusercontent.com/a/default-user=s64",
      "userId": "03718411517360748676"
     },
     "user_tz": -330
    },
    "id": "9krG1I0nOv4s",
    "outputId": "09ddbd29-1c4e-49ea-d61d-d421b62b94c4"
   },
   "outputs": [
    {
     "data": {
      "text/html": [
       "<div>\n",
       "<style scoped>\n",
       "    .dataframe tbody tr th:only-of-type {\n",
       "        vertical-align: middle;\n",
       "    }\n",
       "\n",
       "    .dataframe tbody tr th {\n",
       "        vertical-align: top;\n",
       "    }\n",
       "\n",
       "    .dataframe thead th {\n",
       "        text-align: right;\n",
       "    }\n",
       "</style>\n",
       "<table border=\"1\" class=\"dataframe\">\n",
       "  <thead>\n",
       "    <tr style=\"text-align: right;\">\n",
       "      <th></th>\n",
       "      <th>id</th>\n",
       "      <th>text</th>\n",
       "      <th>category</th>\n",
       "    </tr>\n",
       "  </thead>\n",
       "  <tbody>\n",
       "    <tr>\n",
       "      <th>0</th>\n",
       "      <td>tam1</td>\n",
       "      <td>திருமலை நாயக்கர் பேரவை சார்பாக படம் வெற்றி பெற...</td>\n",
       "      <td>NOT</td>\n",
       "    </tr>\n",
       "    <tr>\n",
       "      <th>1</th>\n",
       "      <td>tam2</td>\n",
       "      <td>இந்த ட்ரெய்லர் கூட பார்க்கிற மாதிரி இல்லை.. இத...</td>\n",
       "      <td>OFF</td>\n",
       "    </tr>\n",
       "    <tr>\n",
       "      <th>2</th>\n",
       "      <td>tam3</td>\n",
       "      <td>மைசூரு செட்டியார் சமூகத்தின் சார்பாக இப்படம் வ...</td>\n",
       "      <td>NOT</td>\n",
       "    </tr>\n",
       "    <tr>\n",
       "      <th>3</th>\n",
       "      <td>tam4</td>\n",
       "      <td>மொத்த சாதியும் ஒரு சாதிக்கு எதிரா நிக்குது.......</td>\n",
       "      <td>OFF</td>\n",
       "    </tr>\n",
       "    <tr>\n",
       "      <th>4</th>\n",
       "      <td>tam5</td>\n",
       "      <td>only for விஜய் சேதுபதி and STR</td>\n",
       "      <td>NOT</td>\n",
       "    </tr>\n",
       "  </tbody>\n",
       "</table>\n",
       "</div>"
      ],
      "text/plain": [
       "     id                                               text category\n",
       "0  tam1  திருமலை நாயக்கர் பேரவை சார்பாக படம் வெற்றி பெற...      NOT\n",
       "1  tam2  இந்த ட்ரெய்லர் கூட பார்க்கிற மாதிரி இல்லை.. இத...      OFF\n",
       "2  tam3  மைசூரு செட்டியார் சமூகத்தின் சார்பாக இப்படம் வ...      NOT\n",
       "3  tam4  மொத்த சாதியும் ஒரு சாதிக்கு எதிரா நிக்குது.......      OFF\n",
       "4  tam5                     only for விஜய் சேதுபதி and STR      NOT"
      ]
     },
     "execution_count": 7,
     "metadata": {},
     "output_type": "execute_result"
    }
   ],
   "source": [
    "dataframe.head()"
   ]
  },
  {
   "cell_type": "code",
   "execution_count": 8,
   "metadata": {
    "colab": {
     "base_uri": "https://localhost:8080/",
     "height": 175
    },
    "executionInfo": {
     "elapsed": 11,
     "status": "ok",
     "timestamp": 1633566908094,
     "user": {
      "displayName": "Srivarshan 19BAI1078",
      "photoUrl": "https://lh3.googleusercontent.com/a/default-user=s64",
      "userId": "03718411517360748676"
     },
     "user_tz": -330
    },
    "id": "GG8d6pJzOxjX",
    "outputId": "10ad6b55-2d53-4f38-c210-e5c78c835513"
   },
   "outputs": [
    {
     "data": {
      "text/html": [
       "<div>\n",
       "<style scoped>\n",
       "    .dataframe tbody tr th:only-of-type {\n",
       "        vertical-align: middle;\n",
       "    }\n",
       "\n",
       "    .dataframe tbody tr th {\n",
       "        vertical-align: top;\n",
       "    }\n",
       "\n",
       "    .dataframe thead th {\n",
       "        text-align: right;\n",
       "    }\n",
       "</style>\n",
       "<table border=\"1\" class=\"dataframe\">\n",
       "  <thead>\n",
       "    <tr style=\"text-align: right;\">\n",
       "      <th></th>\n",
       "      <th>id</th>\n",
       "      <th>text</th>\n",
       "      <th>category</th>\n",
       "    </tr>\n",
       "  </thead>\n",
       "  <tbody>\n",
       "    <tr>\n",
       "      <th>count</th>\n",
       "      <td>5880</td>\n",
       "      <td>5880</td>\n",
       "      <td>5880</td>\n",
       "    </tr>\n",
       "    <tr>\n",
       "      <th>unique</th>\n",
       "      <td>5880</td>\n",
       "      <td>5812</td>\n",
       "      <td>3</td>\n",
       "    </tr>\n",
       "    <tr>\n",
       "      <th>top</th>\n",
       "      <td>tam2848</td>\n",
       "      <td>வந்தா ராஜாவா தான் வருவேன்........ ராஜாவா வந்தா...</td>\n",
       "      <td>NOT</td>\n",
       "    </tr>\n",
       "    <tr>\n",
       "      <th>freq</th>\n",
       "      <td>1</td>\n",
       "      <td>5</td>\n",
       "      <td>4724</td>\n",
       "    </tr>\n",
       "  </tbody>\n",
       "</table>\n",
       "</div>"
      ],
      "text/plain": [
       "             id                                               text category\n",
       "count      5880                                               5880     5880\n",
       "unique     5880                                               5812        3\n",
       "top     tam2848  வந்தா ராஜாவா தான் வருவேன்........ ராஜாவா வந்தா...      NOT\n",
       "freq          1                                                  5     4724"
      ]
     },
     "execution_count": 8,
     "metadata": {},
     "output_type": "execute_result"
    }
   ],
   "source": [
    "dataframe.describe()"
   ]
  },
  {
   "cell_type": "code",
   "execution_count": 9,
   "metadata": {
    "colab": {
     "base_uri": "https://localhost:8080/"
    },
    "executionInfo": {
     "elapsed": 468,
     "status": "ok",
     "timestamp": 1633566912000,
     "user": {
      "displayName": "Srivarshan 19BAI1078",
      "photoUrl": "https://lh3.googleusercontent.com/a/default-user=s64",
      "userId": "03718411517360748676"
     },
     "user_tz": -330
    },
    "id": "eN25yq9qOzRE",
    "outputId": "576ec143-dab5-4c67-ed4b-869097a1069a"
   },
   "outputs": [
    {
     "data": {
      "text/plain": [
       "array(['NOT', 'OFF', 'not-Tamil'], dtype=object)"
      ]
     },
     "execution_count": 9,
     "metadata": {},
     "output_type": "execute_result"
    }
   ],
   "source": [
    "dataframe['category'].unique()"
   ]
  },
  {
   "cell_type": "code",
   "execution_count": 10,
   "metadata": {
    "colab": {
     "base_uri": "https://localhost:8080/"
    },
    "executionInfo": {
     "elapsed": 10,
     "status": "ok",
     "timestamp": 1633566913700,
     "user": {
      "displayName": "Srivarshan 19BAI1078",
      "photoUrl": "https://lh3.googleusercontent.com/a/default-user=s64",
      "userId": "03718411517360748676"
     },
     "user_tz": -330
    },
    "id": "aZv2qX_IO1cg",
    "outputId": "c962b64d-3bc0-40ff-aab5-d333edc82884"
   },
   "outputs": [
    {
     "data": {
      "text/plain": [
       "(5880, 3)"
      ]
     },
     "execution_count": 10,
     "metadata": {},
     "output_type": "execute_result"
    }
   ],
   "source": [
    "dataframe.shape"
   ]
  },
  {
   "cell_type": "code",
   "execution_count": 11,
   "metadata": {
    "colab": {
     "base_uri": "https://localhost:8080/"
    },
    "executionInfo": {
     "elapsed": 6,
     "status": "ok",
     "timestamp": 1633566915645,
     "user": {
      "displayName": "Srivarshan 19BAI1078",
      "photoUrl": "https://lh3.googleusercontent.com/a/default-user=s64",
      "userId": "03718411517360748676"
     },
     "user_tz": -330
    },
    "id": "_p2ZI6V9O3S6",
    "outputId": "3b572a44-2e00-4bc1-ad87-402c6df67295"
   },
   "outputs": [
    {
     "data": {
      "text/plain": [
       "array(['NOT', 'OFF'], dtype=object)"
      ]
     },
     "execution_count": 11,
     "metadata": {},
     "output_type": "execute_result"
    }
   ],
   "source": [
    "dataframe = dataframe.loc[dataframe['category'] != 'not-Tamil']\n",
    "dataframe['category'].unique()"
   ]
  },
  {
   "cell_type": "code",
   "execution_count": 12,
   "metadata": {
    "colab": {
     "base_uri": "https://localhost:8080/"
    },
    "executionInfo": {
     "elapsed": 514,
     "status": "ok",
     "timestamp": 1633566919425,
     "user": {
      "displayName": "Srivarshan 19BAI1078",
      "photoUrl": "https://lh3.googleusercontent.com/a/default-user=s64",
      "userId": "03718411517360748676"
     },
     "user_tz": -330
    },
    "id": "vbXmfXW2O5UG",
    "outputId": "43eb5456-3948-4553-b26c-06409d77f312"
   },
   "outputs": [
    {
     "data": {
      "text/plain": [
       "(5877, 3)"
      ]
     },
     "execution_count": 12,
     "metadata": {},
     "output_type": "execute_result"
    }
   ],
   "source": [
    "dataframe.shape"
   ]
  },
  {
   "cell_type": "code",
   "execution_count": 13,
   "metadata": {
    "executionInfo": {
     "elapsed": 5,
     "status": "ok",
     "timestamp": 1633566921393,
     "user": {
      "displayName": "Srivarshan 19BAI1078",
      "photoUrl": "https://lh3.googleusercontent.com/a/default-user=s64",
      "userId": "03718411517360748676"
     },
     "user_tz": -330
    },
    "id": "NK_0OsM8PBD1"
   },
   "outputs": [],
   "source": [
    "text = dataframe['text']"
   ]
  },
  {
   "cell_type": "code",
   "execution_count": 14,
   "metadata": {
    "colab": {
     "base_uri": "https://localhost:8080/"
    },
    "executionInfo": {
     "elapsed": 6,
     "status": "ok",
     "timestamp": 1633566923421,
     "user": {
      "displayName": "Srivarshan 19BAI1078",
      "photoUrl": "https://lh3.googleusercontent.com/a/default-user=s64",
      "userId": "03718411517360748676"
     },
     "user_tz": -330
    },
    "id": "Y0Pca_2EPCvx",
    "outputId": "d06d3cf8-15af-457a-e440-45f4c0dc71c1"
   },
   "outputs": [
    {
     "data": {
      "text/plain": [
       "0       திருமலை நாயக்கர் பேரவை சார்பாக படம் வெற்றி பெற...\n",
       "1       இந்த ட்ரெய்லர் கூட பார்க்கிற மாதிரி இல்லை.. இத...\n",
       "2       மைசூரு செட்டியார் சமூகத்தின் சார்பாக இப்படம் வ...\n",
       "3       மொத்த சாதியும் ஒரு சாதிக்கு எதிரா நிக்குது.......\n",
       "4                          only for விஜய் சேதுபதி and STR\n",
       "                              ...                        \n",
       "5875    இப்போதான் ஜாதி பிரச்சினை இல்லாம இருக்கு இப்போ ...\n",
       "5876    இது ஒரு சாதி ரீதியான படம் இல்லை தான் செல்லும் ...\n",
       "5877    கதை தெரியவில்லை  இருந்தாலும் மாறுபட்ட சிந்தனை ...\n",
       "5878    அட பரவால்லையே 8.5 டிஸ்லைக்ஸ் போட்ருக்கானுங்க.....\n",
       "5879    உதயநிதிக்கு நடிப்பு வரலனு சொல்ரவங்க லைக் போடுங...\n",
       "Name: text, Length: 5877, dtype: object"
      ]
     },
     "execution_count": 14,
     "metadata": {},
     "output_type": "execute_result"
    }
   ],
   "source": [
    "text"
   ]
  },
  {
   "cell_type": "code",
   "execution_count": 15,
   "metadata": {
    "executionInfo": {
     "elapsed": 4,
     "status": "ok",
     "timestamp": 1633566925209,
     "user": {
      "displayName": "Srivarshan 19BAI1078",
      "photoUrl": "https://lh3.googleusercontent.com/a/default-user=s64",
      "userId": "03718411517360748676"
     },
     "user_tz": -330
    },
    "id": "pr3rfJryPEnq"
   },
   "outputs": [],
   "source": [
    "label = dataframe['category']"
   ]
  },
  {
   "cell_type": "code",
   "execution_count": 16,
   "metadata": {
    "colab": {
     "base_uri": "https://localhost:8080/"
    },
    "executionInfo": {
     "elapsed": 525,
     "status": "ok",
     "timestamp": 1633566930088,
     "user": {
      "displayName": "Srivarshan 19BAI1078",
      "photoUrl": "https://lh3.googleusercontent.com/a/default-user=s64",
      "userId": "03718411517360748676"
     },
     "user_tz": -330
    },
    "id": "vaoHyNetPGMC",
    "outputId": "a0a3641b-f311-4c9d-e4af-47259aae51de"
   },
   "outputs": [
    {
     "data": {
      "text/plain": [
       "0       NOT\n",
       "1       OFF\n",
       "2       NOT\n",
       "3       OFF\n",
       "4       NOT\n",
       "       ... \n",
       "5875    NOT\n",
       "5876    NOT\n",
       "5877    NOT\n",
       "5878    OFF\n",
       "5879    NOT\n",
       "Name: category, Length: 5877, dtype: object"
      ]
     },
     "execution_count": 16,
     "metadata": {},
     "output_type": "execute_result"
    }
   ],
   "source": [
    "label"
   ]
  },
  {
   "cell_type": "markdown",
   "metadata": {
    "id": "eUnm-JhVPJ2F"
   },
   "source": [
    "## **Data Preprocessing**"
   ]
  },
  {
   "cell_type": "code",
   "execution_count": 17,
   "metadata": {
    "colab": {
     "base_uri": "https://localhost:8080/"
    },
    "executionInfo": {
     "elapsed": 15,
     "status": "ok",
     "timestamp": 1633566934060,
     "user": {
      "displayName": "Srivarshan 19BAI1078",
      "photoUrl": "https://lh3.googleusercontent.com/a/default-user=s64",
      "userId": "03718411517360748676"
     },
     "user_tz": -330
    },
    "id": "nUI5zKCsPHs5",
    "outputId": "271a791f-1891-48da-ac83-0367bbf111df"
   },
   "outputs": [
    {
     "data": {
      "text/plain": [
       "array([0, 1, 0, ..., 0, 1, 0])"
      ]
     },
     "execution_count": 17,
     "metadata": {},
     "output_type": "execute_result"
    }
   ],
   "source": [
    "le = LabelEncoder()\n",
    "label = le.fit_transform(label)\n",
    "label"
   ]
  },
  {
   "cell_type": "code",
   "execution_count": 18,
   "metadata": {
    "colab": {
     "base_uri": "https://localhost:8080/"
    },
    "executionInfo": {
     "elapsed": 12,
     "status": "ok",
     "timestamp": 1633566936204,
     "user": {
      "displayName": "Srivarshan 19BAI1078",
      "photoUrl": "https://lh3.googleusercontent.com/a/default-user=s64",
      "userId": "03718411517360748676"
     },
     "user_tz": -330
    },
    "id": "eoEYaji1PNeN",
    "outputId": "cbe4cfb3-f75d-4167-867e-e64faa614d12"
   },
   "outputs": [
    {
     "data": {
      "text/plain": [
       "array(['திருமலை நாயக்கர் பேரவை சார்பாக படம் வெற்றி பெற வாழ்த்துக்கள்',\n",
       "       'இந்த ட்ரெய்லர் கூட பார்க்கிற மாதிரி இல்லை.. இதை தியேட்டர் ல போய் பார்க்கனுமா.. .',\n",
       "       'மைசூரு செட்டியார் சமூகத்தின் சார்பாக இப்படம் வெற்றிபெற வாழ்த்துகிறேன்',\n",
       "       ...,\n",
       "       'கதை தெரியவில்லை  இருந்தாலும் மாறுபட்ட சிந்தனை வாழ்த்துக்கள்  பறையர் சார்பாக  நன்றி மோகன் ஜி',\n",
       "       'அட பரவால்லையே 8.5 டிஸ்லைக்ஸ் போட்ருக்கானுங்க.. பரவால வயிறு எறிஞ்சி சாவுங்கடா சாவுங்கடா சாக்காடை நாய்ங்களா..இன்னும் நிறைய டிஸ்லைக்ஸ் எதிர் பாக்குறன்..',\n",
       "       'உதயநிதிக்கு நடிப்பு வரலனு சொல்ரவங்க லைக் போடுங்கள் ...'],\n",
       "      dtype=object)"
      ]
     },
     "execution_count": 18,
     "metadata": {},
     "output_type": "execute_result"
    }
   ],
   "source": [
    "text = text.str.replace(r\"[+/#@&*$%:]\",'')\n",
    "text = text.to_numpy()\n",
    "text"
   ]
  },
  {
   "cell_type": "code",
   "execution_count": 19,
   "metadata": {
    "colab": {
     "base_uri": "https://localhost:8080/"
    },
    "executionInfo": {
     "elapsed": 27082,
     "status": "ok",
     "timestamp": 1633566965375,
     "user": {
      "displayName": "Srivarshan 19BAI1078",
      "photoUrl": "https://lh3.googleusercontent.com/a/default-user=s64",
      "userId": "03718411517360748676"
     },
     "user_tz": -330
    },
    "id": "RLeP6SmNPPC2",
    "outputId": "03a42afe-c2ae-4265-c361-ed3226b3ff65"
   },
   "outputs": [
    {
     "name": "stdout",
     "output_type": "stream",
     "text": [
      "rm: cannot remove 'input.txt': No such file or directory\n",
      "rm: cannot remove 'output.txt': No such file or directory\n"
     ]
    }
   ],
   "source": [
    "text = text.tolist()\n",
    "\n",
    "! rm input.txt\n",
    "! rm output.txt\n",
    "\n",
    "for i in text:\n",
    "    text_file = open(\"input.txt\", \"a\")\n",
    "    text_file.write(i + '\\n')\n",
    "    text_file.close()"
   ]
  },
  {
   "cell_type": "code",
   "execution_count": 21,
   "metadata": {
    "executionInfo": {
     "elapsed": 1436,
     "status": "ok",
     "timestamp": 1633566997250,
     "user": {
      "displayName": "Srivarshan 19BAI1078",
      "photoUrl": "https://lh3.googleusercontent.com/a/default-user=s64",
      "userId": "03718411517360748676"
     },
     "user_tz": -330
    },
    "id": "ZcHu02w9PQ3G"
   },
   "outputs": [],
   "source": [
    "! ./tamil-stemmer-build/snowball-with-tamil/stemwords -l ta -i input.txt -o output.txt"
   ]
  },
  {
   "cell_type": "code",
   "execution_count": 22,
   "metadata": {
    "executionInfo": {
     "elapsed": 2,
     "status": "ok",
     "timestamp": 1633566999359,
     "user": {
      "displayName": "Srivarshan 19BAI1078",
      "photoUrl": "https://lh3.googleusercontent.com/a/default-user=s64",
      "userId": "03718411517360748676"
     },
     "user_tz": -330
    },
    "id": "ztseOfdPPS-U"
   },
   "outputs": [],
   "source": [
    "text_file = open(\"output.txt\", \"r\")\n",
    "\n",
    "text = []\n",
    "\n",
    "for line in text_file:\n",
    "    text.append(line.strip())"
   ]
  },
  {
   "cell_type": "code",
   "execution_count": 23,
   "metadata": {
    "executionInfo": {
     "elapsed": 516,
     "status": "ok",
     "timestamp": 1633567010076,
     "user": {
      "displayName": "Srivarshan 19BAI1078",
      "photoUrl": "https://lh3.googleusercontent.com/a/default-user=s64",
      "userId": "03718411517360748676"
     },
     "user_tz": -330
    },
    "id": "t8BoauyXPe9H"
   },
   "outputs": [],
   "source": [
    "# text = np.array(text)\n",
    "# text"
   ]
  },
  {
   "cell_type": "markdown",
   "metadata": {
    "id": "pPrWujPhfLrM"
   },
   "source": [
    "## **Feature Extraction**"
   ]
  },
  {
   "cell_type": "code",
   "execution_count": 25,
   "metadata": {
    "colab": {
     "base_uri": "https://localhost:8080/",
     "height": 249,
     "referenced_widgets": [
      "0502b7e89c4e4cf5a6324f884c1f2064",
      "7ce158abc0e1440b9ffda0a6f3a3c1e8",
      "bb0a50447c80401a9335bb114f6e458c",
      "7f55b36eac794c1eb154bda0a7a7c5aa",
      "3e1bd3c7b1524ed6b16633f6eb2f91af",
      "f6b3b9e85f27416e8edd00cea058fb08",
      "08ad52af64504c60be1a38360db6c6cc",
      "fb556cb2d6394556ae9f86f20a36d3a3",
      "a5991c5d8e9e49139df5a1d23b67098e",
      "15a216dd0e214f078d8cb40a539408cf",
      "45d95bcd1dbe45589f1ce20730667494"
     ]
    },
    "executionInfo": {
     "elapsed": 22430,
     "status": "ok",
     "timestamp": 1633567117043,
     "user": {
      "displayName": "Srivarshan 19BAI1078",
      "photoUrl": "https://lh3.googleusercontent.com/a/default-user=s64",
      "userId": "03718411517360748676"
     },
     "user_tz": -330
    },
    "id": "QKuBIR01fHXW",
    "outputId": "c631ae3c-2dcb-4f5d-9ee6-e58990803ff8"
   },
   "outputs": [
    {
     "data": {
      "application/vnd.jupyter.widget-view+json": {
       "model_id": "0502b7e89c4e4cf5a6324f884c1f2064",
       "version_major": 2,
       "version_minor": 0
      },
      "text/plain": [
       "Downloading:   0%|          | 0.00/226k [00:00<?, ?B/s]"
      ]
     },
     "metadata": {},
     "output_type": "display_data"
    },
    {
     "data": {
      "application/vnd.jupyter.widget-view+json": {
       "model_id": "62bee88f56e94386842adf5241fff1e9",
       "version_major": 2,
       "version_minor": 0
      },
      "text/plain": [
       "Downloading:   0%|          | 0.00/28.0 [00:00<?, ?B/s]"
      ]
     },
     "metadata": {},
     "output_type": "display_data"
    },
    {
     "data": {
      "application/vnd.jupyter.widget-view+json": {
       "model_id": "1d295ad655df437da136a5fde4d8f07f",
       "version_major": 2,
       "version_minor": 0
      },
      "text/plain": [
       "Downloading:   0%|          | 0.00/455k [00:00<?, ?B/s]"
      ]
     },
     "metadata": {},
     "output_type": "display_data"
    },
    {
     "data": {
      "application/vnd.jupyter.widget-view+json": {
       "model_id": "d3dc89288b754a23bcf3b6467440e3ab",
       "version_major": 2,
       "version_minor": 0
      },
      "text/plain": [
       "Downloading:   0%|          | 0.00/570 [00:00<?, ?B/s]"
      ]
     },
     "metadata": {},
     "output_type": "display_data"
    },
    {
     "data": {
      "application/vnd.jupyter.widget-view+json": {
       "model_id": "8e4c4c1b86a54028b856a1108a871857",
       "version_major": 2,
       "version_minor": 0
      },
      "text/plain": [
       "Downloading:   0%|          | 0.00/420M [00:00<?, ?B/s]"
      ]
     },
     "metadata": {},
     "output_type": "display_data"
    },
    {
     "name": "stderr",
     "output_type": "stream",
     "text": [
      "Some weights of the model checkpoint at bert-base-uncased were not used when initializing BertModel: ['cls.predictions.transform.dense.bias', 'cls.seq_relationship.bias', 'cls.predictions.decoder.weight', 'cls.predictions.transform.LayerNorm.bias', 'cls.seq_relationship.weight', 'cls.predictions.transform.LayerNorm.weight', 'cls.predictions.bias', 'cls.predictions.transform.dense.weight']\n",
      "- This IS expected if you are initializing BertModel from the checkpoint of a model trained on another task or with another architecture (e.g. initializing a BertForSequenceClassification model from a BertForPreTraining model).\n",
      "- This IS NOT expected if you are initializing BertModel from the checkpoint of a model that you expect to be exactly identical (initializing a BertForSequenceClassification model from a BertForSequenceClassification model).\n"
     ]
    }
   ],
   "source": [
    "# Load Transformer Model\n",
    "\n",
    "tokenizer = BertTokenizer.from_pretrained('bert-base-uncased')\n",
    "model = BertModel.from_pretrained('bert-base-uncased')"
   ]
  },
  {
   "cell_type": "code",
   "execution_count": 26,
   "metadata": {
    "executionInfo": {
     "elapsed": 459,
     "status": "ok",
     "timestamp": 1633567135742,
     "user": {
      "displayName": "Srivarshan 19BAI1078",
      "photoUrl": "https://lh3.googleusercontent.com/a/default-user=s64",
      "userId": "03718411517360748676"
     },
     "user_tz": -330
    },
    "id": "uZ8EYHrmgZBa"
   },
   "outputs": [],
   "source": [
    "# Sample Output\n",
    "\n",
    "tokenized_input = tokenizer(\n",
    "        text[0],\n",
    "        padding=True,\n",
    "        truncation=False,\n",
    "        return_tensors='pt'\n",
    "    )\n",
    "\n",
    "sample_output = model(**tokenized_input)"
   ]
  },
  {
   "cell_type": "code",
   "execution_count": 27,
   "metadata": {
    "colab": {
     "base_uri": "https://localhost:8080/"
    },
    "executionInfo": {
     "elapsed": 14,
     "status": "ok",
     "timestamp": 1633567137730,
     "user": {
      "displayName": "Srivarshan 19BAI1078",
      "photoUrl": "https://lh3.googleusercontent.com/a/default-user=s64",
      "userId": "03718411517360748676"
     },
     "user_tz": -330
    },
    "id": "xmPnzKAJkD5k",
    "outputId": "1dc10666-245c-4462-e19a-d12340d2f193"
   },
   "outputs": [
    {
     "name": "stdout",
     "output_type": "stream",
     "text": [
      "{'input_ids': tensor([[  101,  1385, 29932, 29927, 29933, 29925, 29928, 29935,  1386, 29931,\n",
      "         29926, 29918, 29918, 29927,  1388, 29934, 29927, 29930, 29935,  1383,\n",
      "         29931, 29927, 29924, 29931, 29918,  1388, 29920, 29925,   100,   100,\n",
      "           100,   102]]), 'token_type_ids': tensor([[0, 0, 0, 0, 0, 0, 0, 0, 0, 0, 0, 0, 0, 0, 0, 0, 0, 0, 0, 0, 0, 0, 0, 0,\n",
      "         0, 0, 0, 0, 0, 0, 0, 0]]), 'attention_mask': tensor([[1, 1, 1, 1, 1, 1, 1, 1, 1, 1, 1, 1, 1, 1, 1, 1, 1, 1, 1, 1, 1, 1, 1, 1,\n",
      "         1, 1, 1, 1, 1, 1, 1, 1]])}\n"
     ]
    }
   ],
   "source": [
    "print(tokenized_input)"
   ]
  },
  {
   "cell_type": "code",
   "execution_count": 28,
   "metadata": {
    "colab": {
     "base_uri": "https://localhost:8080/"
    },
    "executionInfo": {
     "elapsed": 461,
     "status": "ok",
     "timestamp": 1633567144637,
     "user": {
      "displayName": "Srivarshan 19BAI1078",
      "photoUrl": "https://lh3.googleusercontent.com/a/default-user=s64",
      "userId": "03718411517360748676"
     },
     "user_tz": -330
    },
    "id": "FSOktuaVkRr6",
    "outputId": "115cab08-16a3-4267-d411-2f2bf20829a1"
   },
   "outputs": [
    {
     "name": "stdout",
     "output_type": "stream",
     "text": [
      "BaseModelOutputWithPoolingAndCrossAttentions(last_hidden_state=tensor([[[ 0.1405,  0.0550, -0.1941,  ..., -0.4814,  0.9570,  0.2113],\n",
      "         [ 1.5905,  0.2323, -0.3040,  ..., -0.2260,  1.0655,  1.0160],\n",
      "         [ 0.7112,  0.3650, -0.1203,  ..., -0.5350, -0.3113,  0.1863],\n",
      "         ...,\n",
      "         [ 0.8549,  0.8310,  0.0358,  ..., -0.6535,  0.4264,  0.0549],\n",
      "         [ 0.3287,  0.1144, -0.5297,  ..., -0.2318,  0.3357, -0.2327],\n",
      "         [ 0.6983, -0.1180, -0.1193,  ..., -0.0453, -0.0634, -0.2957]]],\n",
      "       grad_fn=<NativeLayerNormBackward>), pooler_output=tensor([[-0.9023, -0.5196, -0.9232,  0.8579,  0.6840, -0.1577,  0.9075,  0.2340,\n",
      "         -0.7281, -1.0000, -0.3105,  0.9208,  0.9818,  0.6952,  0.9063, -0.6957,\n",
      "         -0.3590, -0.6128,  0.3461, -0.7290,  0.7934,  1.0000,  0.1837,  0.2738,\n",
      "          0.6350,  0.9805, -0.6679,  0.9181,  0.9446,  0.6287, -0.7354,  0.2822,\n",
      "         -0.9872, -0.1568, -0.9444, -0.9908,  0.4704, -0.6366, -0.2336, -0.0443,\n",
      "         -0.9059,  0.4268,  1.0000,  0.5646,  0.2593, -0.3590, -1.0000,  0.2976,\n",
      "         -0.8821,  0.8991,  0.7863,  0.8605,  0.3920,  0.6272,  0.5437, -0.4716,\n",
      "          0.1054,  0.2306, -0.3162, -0.5344, -0.6146,  0.5877, -0.9007, -0.8891,\n",
      "          0.7295,  0.7813, -0.0034, -0.3696, -0.2498, -0.0163,  0.8092,  0.3917,\n",
      "         -0.0719, -0.8445,  0.6123,  0.3379, -0.6036,  1.0000, -0.7063, -0.9665,\n",
      "          0.8978,  0.6593,  0.4373, -0.1365,  0.6251, -1.0000,  0.5883, -0.0906,\n",
      "         -0.9880,  0.2881,  0.7209, -0.2450,  0.6932,  0.5059, -0.5210, -0.4153,\n",
      "         -0.5543, -0.8434, -0.4929, -0.6164,  0.1112, -0.3496, -0.3268, -0.2910,\n",
      "          0.3835, -0.4884, -0.6767,  0.7288,  0.0971,  0.7834,  0.3510, -0.3985,\n",
      "          0.5838, -0.9343,  0.6448, -0.4170, -0.9820, -0.5031, -0.9855,  0.7527,\n",
      "         -0.3999, -0.1618,  0.9359, -0.5960,  0.1890, -0.2074, -0.8116, -1.0000,\n",
      "         -0.6741, -0.6457, -0.2621, -0.4529, -0.9824, -0.9631,  0.7325,  0.9340,\n",
      "          0.2442,  0.9998, -0.4182,  0.9188, -0.2619, -0.5696,  0.5347, -0.4786,\n",
      "          0.8452,  0.5086, -0.6594,  0.1250, -0.4412,  0.1763, -0.7048, -0.1741,\n",
      "         -0.7151, -0.9304, -0.5492,  0.9615, -0.7205, -0.9018,  0.0313, -0.2176,\n",
      "         -0.4700,  0.7926,  0.6314,  0.4886, -0.4969,  0.5143,  0.3791,  0.5801,\n",
      "         -0.8976,  0.1290,  0.5307, -0.4894, -0.9035, -0.9735, -0.4600,  0.6464,\n",
      "          0.9846,  0.8418,  0.4091,  0.5393, -0.3836,  0.4379, -0.9564,  0.9734,\n",
      "         -0.4605,  0.1389, -0.5319,  0.6503, -0.8544,  0.2478,  0.8528, -0.4548,\n",
      "         -0.8369, -0.0603, -0.5810, -0.5786, -0.8335,  0.5905, -0.3379, -0.3947,\n",
      "         -0.2084,  0.8824,  0.9813,  0.8421, -0.1414,  0.7772, -0.8901, -0.6708,\n",
      "          0.1598,  0.4115,  0.2901,  0.9927, -0.6415, -0.1081, -0.8963, -0.9841,\n",
      "          0.1042, -0.8716, -0.1102, -0.7071,  0.6769, -0.1772,  0.4825,  0.4515,\n",
      "         -0.9927, -0.8136,  0.5129, -0.4876,  0.4771, -0.2493,  0.7288,  0.9452,\n",
      "         -0.6323,  0.7261,  0.9225, -0.9224, -0.7442,  0.8308, -0.3753,  0.9159,\n",
      "         -0.6213,  0.9935,  0.9189,  0.7333, -0.9425, -0.6626, -0.8485, -0.7021,\n",
      "         -0.3153,  0.2735,  0.8454,  0.4491,  0.4714,  0.1504, -0.5809,  0.9990,\n",
      "         -0.4923, -0.9470,  0.1142, -0.4903, -0.9895,  0.8718,  0.4173,  0.3921,\n",
      "         -0.4421, -0.6613, -0.9337,  0.9362,  0.3722,  0.9920, -0.5551, -0.9653,\n",
      "         -0.7287, -0.9554, -0.1625, -0.4393, -0.2129,  0.1327, -0.9093,  0.6102,\n",
      "          0.5155,  0.5305, -0.8135,  0.9991,  1.0000,  0.9757,  0.8650,  0.9053,\n",
      "         -0.9999, -0.3930,  1.0000, -0.9887, -1.0000, -0.9058, -0.6912,  0.4296,\n",
      "         -1.0000, -0.1800, -0.1939, -0.9177,  0.6898,  0.9822,  0.9969, -1.0000,\n",
      "          0.7646,  0.9476, -0.5543,  0.9390, -0.5559,  0.9604,  0.7245,  0.4513,\n",
      "         -0.2556,  0.4898, -0.9505, -0.9468, -0.5526, -0.6394,  0.9988,  0.1933,\n",
      "         -0.8518, -0.9160,  0.2343,  0.0126,  0.3286, -0.9179, -0.3268,  0.4011,\n",
      "          0.7863,  0.2365,  0.2639, -0.7326,  0.3267,  0.2605,  0.4525,  0.5827,\n",
      "         -0.9547, -0.7382, -0.5727, -0.1293, -0.6337, -0.9471,  0.9532, -0.4863,\n",
      "          0.8445,  1.0000,  0.1432, -0.8377,  0.6437,  0.3346, -0.6190,  1.0000,\n",
      "          0.8733, -0.9746, -0.5711,  0.6687, -0.5352, -0.6145,  0.9990, -0.3085,\n",
      "         -0.6231, -0.2100,  0.9850, -0.9937,  0.9938, -0.9310, -0.9578,  0.9446,\n",
      "          0.9077, -0.5742, -0.7431,  0.3686, -0.7561,  0.3779, -0.9566,  0.6606,\n",
      "          0.5596, -0.1039,  0.8843, -0.8848, -0.5356,  0.3696, -0.4968, -0.1240,\n",
      "          0.9512,  0.6553, -0.2752,  0.0578, -0.2264, -0.1802, -0.9316,  0.6558,\n",
      "          1.0000, -0.2240,  0.5633, -0.3754, -0.1719, -0.1112,  0.6481,  0.5301,\n",
      "         -0.4986, -0.8243,  0.7859, -0.9566, -0.9871,  0.7442,  0.3469, -0.2087,\n",
      "          1.0000,  0.5373,  0.4182,  0.3368,  0.9663,  0.0776,  0.3462,  0.7676,\n",
      "          0.9700, -0.2421,  0.4974,  0.8775, -0.8400, -0.4369, -0.7000,  0.2029,\n",
      "         -0.9337, -0.2370, -0.9417,  0.9495,  0.9469,  0.4883,  0.2826,  0.7258,\n",
      "          1.0000,  0.2026,  0.7201, -0.5847,  0.8872, -0.9999, -0.7451, -0.3419,\n",
      "         -0.0902, -0.8177, -0.3998,  0.3954, -0.9629,  0.6513,  0.7833, -0.9905,\n",
      "         -0.9800, -0.4525,  0.8460,  0.0246, -0.9788, -0.6477, -0.3770,  0.5789,\n",
      "         -0.4803, -0.8708,  0.1612, -0.4252,  0.4820, -0.2113,  0.4914,  0.7784,\n",
      "          0.4900, -0.7595, -0.0104, -0.0332, -0.8736,  0.8214, -0.8862, -0.9058,\n",
      "         -0.2169,  1.0000, -0.6886,  0.9214,  0.7999,  0.7100, -0.4079,  0.1567,\n",
      "          0.9441,  0.4320, -0.7064, -0.8037, -0.8092, -0.5049,  0.7905,  0.5323,\n",
      "          0.7222,  0.7473,  0.5908,  0.1294,  0.0866,  0.2350,  0.9997, -0.5113,\n",
      "         -0.2600, -0.5796, -0.2042, -0.4778, -0.5934,  1.0000,  0.4168,  0.2079,\n",
      "         -0.9907, -0.6865, -0.9215,  1.0000,  0.7826, -0.6928,  0.6936,  0.5498,\n",
      "         -0.1977,  0.8241, -0.3301, -0.1121,  0.2978, -0.0054,  0.9592, -0.5232,\n",
      "         -0.9701, -0.6271,  0.5285, -0.9213,  0.9999, -0.6577, -0.2081, -0.4533,\n",
      "         -0.1604,  0.7600,  0.1801, -0.9644, -0.4135,  0.2927,  0.9713,  0.0785,\n",
      "         -0.5441, -0.9217,  0.8367,  0.6145, -0.7929, -0.9003,  0.9706, -0.9663,\n",
      "          0.6334,  1.0000,  0.3035,  0.2718,  0.2667, -0.5641,  0.3075, -0.1702,\n",
      "          0.7288, -0.9378, -0.5180, -0.3124,  0.5241, -0.4030, -0.1496,  0.6332,\n",
      "          0.2844, -0.4150, -0.5806, -0.2012,  0.4529,  0.9138, -0.4267, -0.3151,\n",
      "          0.2851, -0.0828, -0.9134, -0.4428, -0.4289, -1.0000,  0.6348, -1.0000,\n",
      "          0.7574,  0.2219, -0.2405,  0.6894,  0.4220,  0.6542, -0.7673, -0.7711,\n",
      "          0.2021,  0.7102, -0.4205, -0.4248, -0.8457,  0.4006, -0.1800,  0.4296,\n",
      "         -0.6029,  0.6737, -0.3467,  1.0000,  0.2583, -0.6449, -0.9815,  0.4581,\n",
      "         -0.4036,  1.0000, -0.9579, -0.9362,  0.4331, -0.7681, -0.8678,  0.2930,\n",
      "         -0.0779, -0.7469, -0.8915,  0.9247,  0.8622, -0.4729,  0.5513, -0.3392,\n",
      "         -0.6371,  0.1952,  0.8190,  0.9854,  0.6929,  0.9171, -0.0433, -0.4554,\n",
      "          0.9399,  0.4236,  0.7380,  0.2587,  1.0000,  0.4682, -0.8960, -0.1397,\n",
      "         -0.9771, -0.2556, -0.9628,  0.2296,  0.1744,  0.8414, -0.3600,  0.9528,\n",
      "         -0.6869,  0.1838, -0.4919, -0.4723,  0.4906, -0.8869, -0.9775, -0.9837,\n",
      "          0.6249, -0.4584, -0.0622,  0.3076,  0.2566,  0.4979,  0.4303, -1.0000,\n",
      "          0.9226,  0.5981,  0.8289,  0.9672,  0.7338,  0.5445,  0.3560, -0.9869,\n",
      "         -0.9858, -0.3956, -0.3414,  0.8862,  0.7596,  0.8059,  0.5308, -0.4049,\n",
      "         -0.1838, -0.6061, -0.2314, -0.9918,  0.5373, -0.4074, -0.9805,  0.9369,\n",
      "         -0.0070, -0.2944, -0.1391, -0.7994,  0.9632,  0.7916,  0.6913,  0.1150,\n",
      "          0.6521,  0.8301,  0.9590,  0.9888, -0.8615,  0.8261, -0.6394,  0.6139,\n",
      "          0.3141, -0.9351,  0.1614,  0.2664, -0.5800,  0.4385, -0.3802, -0.9810,\n",
      "          0.2126, -0.2992,  0.6263, -0.4219, -0.1683, -0.6011, -0.0682, -0.5561,\n",
      "         -0.7932,  0.6335,  0.4220,  0.9214,  0.8578, -0.0488, -0.8442, -0.3968,\n",
      "         -0.6636, -0.8924,  0.9432, -0.2874, -0.5225,  0.7989,  0.1084,  0.3156,\n",
      "          0.1402, -0.5244, -0.4169, -0.8392,  0.8257, -0.3238, -0.6472, -0.6688,\n",
      "          0.7728,  0.2769,  1.0000, -0.6750, -0.8314, -0.3197, -0.4988,  0.3226,\n",
      "         -0.5773, -1.0000,  0.5289, -0.5448,  0.7831, -0.6325,  0.8551, -0.5644,\n",
      "         -0.9802, -0.1819,  0.5400,  0.4533, -0.4868, -0.7169,  0.4442, -0.5003,\n",
      "          0.8971,  0.8937, -0.2408,  0.1224,  0.5861, -0.8596, -0.6469,  0.9045]],\n",
      "       grad_fn=<TanhBackward>), hidden_states=None, past_key_values=None, attentions=None, cross_attentions=None)\n"
     ]
    }
   ],
   "source": [
    "print(sample_output)"
   ]
  },
  {
   "cell_type": "code",
   "execution_count": 29,
   "metadata": {
    "colab": {
     "base_uri": "https://localhost:8080/"
    },
    "executionInfo": {
     "elapsed": 481,
     "status": "ok",
     "timestamp": 1633567164809,
     "user": {
      "displayName": "Srivarshan 19BAI1078",
      "photoUrl": "https://lh3.googleusercontent.com/a/default-user=s64",
      "userId": "03718411517360748676"
     },
     "user_tz": -330
    },
    "id": "WPN52SytkMYv",
    "outputId": "75b3b813-efa1-4a45-9db9-2ab76ed9406e"
   },
   "outputs": [
    {
     "name": "stdout",
     "output_type": "stream",
     "text": [
      "(1, 768)\n"
     ]
    }
   ],
   "source": [
    "print(sample_output.pooler_output.cpu().detach().numpy().shape)"
   ]
  },
  {
   "cell_type": "code",
   "execution_count": 30,
   "metadata": {
    "executionInfo": {
     "elapsed": 6355,
     "status": "ok",
     "timestamp": 1633567188219,
     "user": {
      "displayName": "Srivarshan 19BAI1078",
      "photoUrl": "https://lh3.googleusercontent.com/a/default-user=s64",
      "userId": "03718411517360748676"
     },
     "user_tz": -330
    },
    "id": "DSjkcWpAirTg"
   },
   "outputs": [],
   "source": [
    "# Tokenizing Input Data\n",
    "\n",
    "input = []\n",
    "\n",
    "for i in text:\n",
    "    tokenized_input = tokenizer(\n",
    "        i,\n",
    "        padding=True,\n",
    "        truncation=False,\n",
    "        return_tensors='pt'\n",
    "    )\n",
    "    input.append(tokenized_input)"
   ]
  },
  {
   "cell_type": "code",
   "execution_count": 32,
   "metadata": {
    "colab": {
     "base_uri": "https://localhost:8080/"
    },
    "executionInfo": {
     "elapsed": 1161733,
     "status": "ok",
     "timestamp": 1633568850028,
     "user": {
      "displayName": "Srivarshan 19BAI1078",
      "photoUrl": "https://lh3.googleusercontent.com/a/default-user=s64",
      "userId": "03718411517360748676"
     },
     "user_tz": -330
    },
    "id": "04wzA-Qmknyx",
    "outputId": "46ad13ca-b302-47cd-9d36-d915aaffd515"
   },
   "outputs": [
    {
     "name": "stdout",
     "output_type": "stream",
     "text": [
      "./MaskedLM-Embedded-TrainData/output1.pickle done\n",
      "./MaskedLM-Embedded-TrainData/output2.pickle done\n",
      "./MaskedLM-Embedded-TrainData/output3.pickle done\n",
      "./MaskedLM-Embedded-TrainData/output4.pickle done\n",
      "./MaskedLM-Embedded-TrainData/output5.pickle done\n",
      "./MaskedLM-Embedded-TrainData/output6.pickle done\n",
      "./MaskedLM-Embedded-TrainData/output7.pickle done\n",
      "./MaskedLM-Embedded-TrainData/output8.pickle done\n",
      "./MaskedLM-Embedded-TrainData/output9.pickle done\n",
      "./MaskedLM-Embedded-TrainData/output10.pickle done\n",
      "./MaskedLM-Embedded-TrainData/output11.pickle done\n",
      "./MaskedLM-Embedded-TrainData/output12.pickle done\n",
      "./MaskedLM-Embedded-TrainData/output13.pickle done\n",
      "./MaskedLM-Embedded-TrainData/output14.pickle done\n",
      "./MaskedLM-Embedded-TrainData/output15.pickle done\n",
      "./MaskedLM-Embedded-TrainData/output16.pickle done\n",
      "./MaskedLM-Embedded-TrainData/output17.pickle done\n",
      "./MaskedLM-Embedded-TrainData/output18.pickle done\n",
      "./MaskedLM-Embedded-TrainData/output19.pickle done\n",
      "./MaskedLM-Embedded-TrainData/output20.pickle done\n",
      "./MaskedLM-Embedded-TrainData/output21.pickle done\n",
      "./MaskedLM-Embedded-TrainData/output22.pickle done\n",
      "./MaskedLM-Embedded-TrainData/output23.pickle done\n",
      "./MaskedLM-Embedded-TrainData/output24.pickle done\n",
      "./MaskedLM-Embedded-TrainData/output25.pickle done\n",
      "./MaskedLM-Embedded-TrainData/output26.pickle done\n",
      "./MaskedLM-Embedded-TrainData/output27.pickle done\n",
      "./MaskedLM-Embedded-TrainData/output28.pickle done\n",
      "./MaskedLM-Embedded-TrainData/output29.pickle done\n",
      "./MaskedLM-Embedded-TrainData/output30.pickle done\n"
     ]
    }
   ],
   "source": [
    "# Embedding the Input Data\n",
    "\n",
    "output = []\n",
    "\n",
    "j = 1\n",
    "\n",
    "for i in range(len(input)):\n",
    "    \n",
    "    model_output = model(**input[i])\n",
    "    model_output = model_output.pooler_output.cpu().detach().numpy()\n",
    "    output.append(model_output)\n",
    "    \n",
    "    # Saving Embedded Input Data to Disk\n",
    "\n",
    "    if ((i + 1) % 200) == 0:\n",
    "        \n",
    "        file_name = \"./MaskedLM-Embedded-TrainData/output\" + str(j) + \".pickle\"\n",
    "        \n",
    "        with open(file_name, \"wb\") as fp:   \n",
    "            # Pickling\n",
    "            pickle.dump(output, fp)\n",
    "        \n",
    "        print(file_name + \" done\")\n",
    "        output = []\n",
    "        j += 1\n",
    "        \n",
    "file_name = \"./MaskedLM-Embedded-TrainData/output\" + str(j) + \".pickle\"\n",
    "\n",
    "with open(file_name, \"wb\") as fp:   \n",
    "    # Pickling\n",
    "    pickle.dump(output, fp)\n",
    "\n",
    "print(file_name + \" done\")\n",
    "output = []"
   ]
  },
  {
   "cell_type": "code",
   "execution_count": 33,
   "metadata": {
    "colab": {
     "base_uri": "https://localhost:8080/"
    },
    "executionInfo": {
     "elapsed": 549,
     "status": "ok",
     "timestamp": 1633568857733,
     "user": {
      "displayName": "Srivarshan 19BAI1078",
      "photoUrl": "https://lh3.googleusercontent.com/a/default-user=s64",
      "userId": "03718411517360748676"
     },
     "user_tz": -330
    },
    "id": "JiGIzqtKmjeP",
    "outputId": "134126c4-f506-4fa5-9e8f-fb4de2eb28df"
   },
   "outputs": [
    {
     "name": "stdout",
     "output_type": "stream",
     "text": [
      "./MaskedLM-Embedded-TrainData/output1.pickle done\n",
      "./MaskedLM-Embedded-TrainData/output2.pickle done\n",
      "./MaskedLM-Embedded-TrainData/output3.pickle done\n",
      "./MaskedLM-Embedded-TrainData/output4.pickle done\n",
      "./MaskedLM-Embedded-TrainData/output5.pickle done\n",
      "./MaskedLM-Embedded-TrainData/output6.pickle done\n",
      "./MaskedLM-Embedded-TrainData/output7.pickle done\n",
      "./MaskedLM-Embedded-TrainData/output8.pickle done\n",
      "./MaskedLM-Embedded-TrainData/output9.pickle done\n",
      "./MaskedLM-Embedded-TrainData/output10.pickle done\n",
      "./MaskedLM-Embedded-TrainData/output11.pickle done\n",
      "./MaskedLM-Embedded-TrainData/output12.pickle done\n",
      "./MaskedLM-Embedded-TrainData/output13.pickle done\n",
      "./MaskedLM-Embedded-TrainData/output14.pickle done\n",
      "./MaskedLM-Embedded-TrainData/output15.pickle done\n",
      "./MaskedLM-Embedded-TrainData/output16.pickle done\n",
      "./MaskedLM-Embedded-TrainData/output17.pickle done\n",
      "./MaskedLM-Embedded-TrainData/output18.pickle done\n",
      "./MaskedLM-Embedded-TrainData/output19.pickle done\n",
      "./MaskedLM-Embedded-TrainData/output20.pickle done\n",
      "./MaskedLM-Embedded-TrainData/output21.pickle done\n",
      "./MaskedLM-Embedded-TrainData/output22.pickle done\n",
      "./MaskedLM-Embedded-TrainData/output23.pickle done\n",
      "./MaskedLM-Embedded-TrainData/output24.pickle done\n",
      "./MaskedLM-Embedded-TrainData/output25.pickle done\n",
      "./MaskedLM-Embedded-TrainData/output26.pickle done\n",
      "./MaskedLM-Embedded-TrainData/output27.pickle done\n",
      "./MaskedLM-Embedded-TrainData/output28.pickle done\n",
      "./MaskedLM-Embedded-TrainData/output29.pickle done\n",
      "./MaskedLM-Embedded-TrainData/output30.pickle done\n"
     ]
    }
   ],
   "source": [
    "# Loading Embedded Input Data from Disk\n",
    "\n",
    "output = []\n",
    "\n",
    "for i in range(30):\n",
    "    file_name = \"./MaskedLM-Embedded-TrainData/output\" + str(i + 1) + \".pickle\"\n",
    "    with open(file_name, \"rb\") as fp:   #Pickling\n",
    "        file_output = pickle.load(fp)\n",
    "        for x in file_output:\n",
    "            output.append(x)\n",
    "    print(file_name + \" done\")\n",
    "\n",
    "X = output\n",
    "output = []"
   ]
  },
  {
   "cell_type": "code",
   "execution_count": 34,
   "metadata": {
    "colab": {
     "base_uri": "https://localhost:8080/"
    },
    "executionInfo": {
     "elapsed": 552,
     "status": "ok",
     "timestamp": 1633568861986,
     "user": {
      "displayName": "Srivarshan 19BAI1078",
      "photoUrl": "https://lh3.googleusercontent.com/a/default-user=s64",
      "userId": "03718411517360748676"
     },
     "user_tz": -330
    },
    "id": "D8GZw0G4snib",
    "outputId": "321dbb25-c354-41dd-dbdd-4b5718554590"
   },
   "outputs": [
    {
     "data": {
      "text/plain": [
       "(5877, 1, 768)"
      ]
     },
     "execution_count": 34,
     "metadata": {},
     "output_type": "execute_result"
    }
   ],
   "source": [
    "X = np.array(X)\n",
    "X.shape"
   ]
  },
  {
   "cell_type": "code",
   "execution_count": 35,
   "metadata": {
    "colab": {
     "base_uri": "https://localhost:8080/"
    },
    "executionInfo": {
     "elapsed": 465,
     "status": "ok",
     "timestamp": 1633568864846,
     "user": {
      "displayName": "Srivarshan 19BAI1078",
      "photoUrl": "https://lh3.googleusercontent.com/a/default-user=s64",
      "userId": "03718411517360748676"
     },
     "user_tz": -330
    },
    "id": "RVY644kz3fmY",
    "outputId": "c2a9d788-ee2b-4dc0-a2a1-4215dd0cd20d"
   },
   "outputs": [
    {
     "data": {
      "text/plain": [
       "(5877, 768)"
      ]
     },
     "execution_count": 35,
     "metadata": {},
     "output_type": "execute_result"
    }
   ],
   "source": [
    "X = X.reshape(5877, 768)\n",
    "X.shape"
   ]
  },
  {
   "cell_type": "code",
   "execution_count": 36,
   "metadata": {
    "colab": {
     "base_uri": "https://localhost:8080/"
    },
    "executionInfo": {
     "elapsed": 10,
     "status": "ok",
     "timestamp": 1633568867696,
     "user": {
      "displayName": "Srivarshan 19BAI1078",
      "photoUrl": "https://lh3.googleusercontent.com/a/default-user=s64",
      "userId": "03718411517360748676"
     },
     "user_tz": -330
    },
    "id": "Afj3ktv4sh_n",
    "outputId": "52f98267-2813-43e0-db5d-cd40e66517bd"
   },
   "outputs": [
    {
     "data": {
      "text/plain": [
       "(5877,)"
      ]
     },
     "execution_count": 36,
     "metadata": {},
     "output_type": "execute_result"
    }
   ],
   "source": [
    "y = label\n",
    "y.shape"
   ]
  },
  {
   "cell_type": "markdown",
   "metadata": {
    "id": "Yx-irLz_1zqa"
   },
   "source": [
    "## **Train Test Split**"
   ]
  },
  {
   "cell_type": "code",
   "execution_count": 37,
   "metadata": {
    "executionInfo": {
     "elapsed": 473,
     "status": "ok",
     "timestamp": 1633568871775,
     "user": {
      "displayName": "Srivarshan 19BAI1078",
      "photoUrl": "https://lh3.googleusercontent.com/a/default-user=s64",
      "userId": "03718411517360748676"
     },
     "user_tz": -330
    },
    "id": "kKPsOhmVsm6d"
   },
   "outputs": [],
   "source": [
    "X_train, X_val, y_train, y_val = train_test_split(X, y, test_size=0.2, random_state=42)"
   ]
  },
  {
   "cell_type": "code",
   "execution_count": 38,
   "metadata": {
    "colab": {
     "base_uri": "https://localhost:8080/"
    },
    "executionInfo": {
     "elapsed": 7,
     "status": "ok",
     "timestamp": 1633568874241,
     "user": {
      "displayName": "Srivarshan 19BAI1078",
      "photoUrl": "https://lh3.googleusercontent.com/a/default-user=s64",
      "userId": "03718411517360748676"
     },
     "user_tz": -330
    },
    "id": "sLgRQz2K187N",
    "outputId": "e76bf8c5-2650-4822-ac95-40ee609774f0"
   },
   "outputs": [
    {
     "data": {
      "text/plain": [
       "(4701, 768)"
      ]
     },
     "execution_count": 38,
     "metadata": {},
     "output_type": "execute_result"
    }
   ],
   "source": [
    "X_train.shape"
   ]
  },
  {
   "cell_type": "code",
   "execution_count": 39,
   "metadata": {
    "colab": {
     "base_uri": "https://localhost:8080/"
    },
    "executionInfo": {
     "elapsed": 9,
     "status": "ok",
     "timestamp": 1633568876346,
     "user": {
      "displayName": "Srivarshan 19BAI1078",
      "photoUrl": "https://lh3.googleusercontent.com/a/default-user=s64",
      "userId": "03718411517360748676"
     },
     "user_tz": -330
    },
    "id": "jvmxkn1Z1-ij",
    "outputId": "1fe5705a-141f-4f69-c415-5cc0837eb190"
   },
   "outputs": [
    {
     "data": {
      "text/plain": [
       "(1176, 768)"
      ]
     },
     "execution_count": 39,
     "metadata": {},
     "output_type": "execute_result"
    }
   ],
   "source": [
    "X_val.shape"
   ]
  },
  {
   "cell_type": "markdown",
   "metadata": {
    "id": "SCu6BNbhBg7J"
   },
   "source": [
    "## **Logistic Regression**"
   ]
  },
  {
   "cell_type": "code",
   "execution_count": 40,
   "metadata": {
    "colab": {
     "base_uri": "https://localhost:8080/"
    },
    "executionInfo": {
     "elapsed": 466,
     "status": "ok",
     "timestamp": 1633568880371,
     "user": {
      "displayName": "Srivarshan 19BAI1078",
      "photoUrl": "https://lh3.googleusercontent.com/a/default-user=s64",
      "userId": "03718411517360748676"
     },
     "user_tz": -330
    },
    "id": "ywNZ89i9BQn8",
    "outputId": "b939ca89-0dac-413b-ee34-500d8fe7541a"
   },
   "outputs": [
    {
     "name": "stdout",
     "output_type": "stream",
     "text": [
      "              precision    recall  f1-score   support\n",
      "\n",
      "           0       0.81      0.99      0.89       950\n",
      "           1       0.42      0.04      0.08       226\n",
      "\n",
      "    accuracy                           0.80      1176\n",
      "   macro avg       0.61      0.51      0.49      1176\n",
      "weighted avg       0.74      0.80      0.73      1176\n",
      "\n"
     ]
    },
    {
     "name": "stderr",
     "output_type": "stream",
     "text": [
      "/usr/local/lib/python3.7/dist-packages/sklearn/linear_model/_logistic.py:940: ConvergenceWarning: lbfgs failed to converge (status=1):\n",
      "STOP: TOTAL NO. of ITERATIONS REACHED LIMIT.\n",
      "\n",
      "Increase the number of iterations (max_iter) or scale the data as shown in:\n",
      "    https://scikit-learn.org/stable/modules/preprocessing.html\n",
      "Please also refer to the documentation for alternative solver options:\n",
      "    https://scikit-learn.org/stable/modules/linear_model.html#logistic-regression\n",
      "  extra_warning_msg=_LOGISTIC_SOLVER_CONVERGENCE_MSG)\n"
     ]
    }
   ],
   "source": [
    "lr = LogisticRegression()\n",
    "lr.fit(X_train, y_train)\n",
    "lr_pred = lr.predict(X_val)\n",
    "print(classification_report(y_val, lr_pred))"
   ]
  },
  {
   "cell_type": "markdown",
   "metadata": {
    "id": "Ee_0Tw0oEW6y"
   },
   "source": [
    "## **Support Vector Machine**"
   ]
  },
  {
   "cell_type": "code",
   "execution_count": 41,
   "metadata": {
    "colab": {
     "base_uri": "https://localhost:8080/"
    },
    "executionInfo": {
     "elapsed": 13025,
     "status": "ok",
     "timestamp": 1633568908641,
     "user": {
      "displayName": "Srivarshan 19BAI1078",
      "photoUrl": "https://lh3.googleusercontent.com/a/default-user=s64",
      "userId": "03718411517360748676"
     },
     "user_tz": -330
    },
    "id": "mYA73k6CB_Mf",
    "outputId": "4f062c10-98ed-44a2-8e09-0b112c90c724"
   },
   "outputs": [
    {
     "name": "stdout",
     "output_type": "stream",
     "text": [
      "              precision    recall  f1-score   support\n",
      "\n",
      "           0       0.81      1.00      0.89       950\n",
      "           1       0.00      0.00      0.00       226\n",
      "\n",
      "    accuracy                           0.81      1176\n",
      "   macro avg       0.40      0.50      0.45      1176\n",
      "weighted avg       0.65      0.81      0.72      1176\n",
      "\n"
     ]
    },
    {
     "name": "stderr",
     "output_type": "stream",
     "text": [
      "/usr/local/lib/python3.7/dist-packages/sklearn/metrics/_classification.py:1272: UndefinedMetricWarning: Precision and F-score are ill-defined and being set to 0.0 in labels with no predicted samples. Use `zero_division` parameter to control this behavior.\n",
      "  _warn_prf(average, modifier, msg_start, len(result))\n"
     ]
    }
   ],
   "source": [
    "svm = SVC()\n",
    "svm.fit(X_train, y_train)\n",
    "svm_pred = svm.predict(X_val)\n",
    "print(classification_report(y_val, svm_pred))"
   ]
  },
  {
   "cell_type": "markdown",
   "metadata": {
    "id": "Z9CCgjxuEe3P"
   },
   "source": [
    "## **Naive Bayes**"
   ]
  },
  {
   "cell_type": "code",
   "execution_count": 42,
   "metadata": {
    "colab": {
     "base_uri": "https://localhost:8080/"
    },
    "executionInfo": {
     "elapsed": 461,
     "status": "ok",
     "timestamp": 1633568917457,
     "user": {
      "displayName": "Srivarshan 19BAI1078",
      "photoUrl": "https://lh3.googleusercontent.com/a/default-user=s64",
      "userId": "03718411517360748676"
     },
     "user_tz": -330
    },
    "id": "RqPoOLKMEc8H",
    "outputId": "9efed4b4-39f2-4b4c-f216-53bfc5a9acb3"
   },
   "outputs": [
    {
     "name": "stdout",
     "output_type": "stream",
     "text": [
      "              precision    recall  f1-score   support\n",
      "\n",
      "           0       0.82      0.84      0.83       950\n",
      "           1       0.26      0.24      0.25       226\n",
      "\n",
      "    accuracy                           0.72      1176\n",
      "   macro avg       0.54      0.54      0.54      1176\n",
      "weighted avg       0.71      0.72      0.72      1176\n",
      "\n"
     ]
    }
   ],
   "source": [
    "nb = GaussianNB()\n",
    "nb.fit(X_train, y_train)\n",
    "nb_pred = nb.predict(X_val)\n",
    "print(classification_report(y_val, nb_pred))"
   ]
  },
  {
   "cell_type": "markdown",
   "metadata": {
    "id": "LGUczbe8ElKR"
   },
   "source": [
    "## **Stochastic Gradient Descent**"
   ]
  },
  {
   "cell_type": "code",
   "execution_count": 43,
   "metadata": {
    "colab": {
     "base_uri": "https://localhost:8080/"
    },
    "executionInfo": {
     "elapsed": 1423,
     "status": "ok",
     "timestamp": 1633568922580,
     "user": {
      "displayName": "Srivarshan 19BAI1078",
      "photoUrl": "https://lh3.googleusercontent.com/a/default-user=s64",
      "userId": "03718411517360748676"
     },
     "user_tz": -330
    },
    "id": "CAkE_j_XEjat",
    "outputId": "dd79fe8e-6011-4b75-9642-551fec815e21"
   },
   "outputs": [
    {
     "name": "stdout",
     "output_type": "stream",
     "text": [
      "              precision    recall  f1-score   support\n",
      "\n",
      "           0       0.82      0.99      0.89       950\n",
      "           1       0.52      0.07      0.12       226\n",
      "\n",
      "    accuracy                           0.81      1176\n",
      "   macro avg       0.67      0.53      0.51      1176\n",
      "weighted avg       0.76      0.81      0.74      1176\n",
      "\n"
     ]
    }
   ],
   "source": [
    "sgd = SGDClassifier()\n",
    "sgd.fit(X_train, y_train)\n",
    "sgd_pred = sgd.predict(X_val)\n",
    "print(classification_report(y_val, sgd_pred))"
   ]
  },
  {
   "cell_type": "markdown",
   "metadata": {
    "id": "5zlPYaOGErfQ"
   },
   "source": [
    "## **K Nearest Neighbours**"
   ]
  },
  {
   "cell_type": "code",
   "execution_count": 44,
   "metadata": {
    "colab": {
     "base_uri": "https://localhost:8080/"
    },
    "executionInfo": {
     "elapsed": 4088,
     "status": "ok",
     "timestamp": 1633568933477,
     "user": {
      "displayName": "Srivarshan 19BAI1078",
      "photoUrl": "https://lh3.googleusercontent.com/a/default-user=s64",
      "userId": "03718411517360748676"
     },
     "user_tz": -330
    },
    "id": "xbIZOhSeEppS",
    "outputId": "c42a62b3-46e6-456b-fdda-fe1427d3c9ee"
   },
   "outputs": [
    {
     "name": "stdout",
     "output_type": "stream",
     "text": [
      "              precision    recall  f1-score   support\n",
      "\n",
      "           0       0.82      0.94      0.87       950\n",
      "           1       0.31      0.11      0.16       226\n",
      "\n",
      "    accuracy                           0.78      1176\n",
      "   macro avg       0.56      0.53      0.52      1176\n",
      "weighted avg       0.72      0.78      0.74      1176\n",
      "\n"
     ]
    }
   ],
   "source": [
    "knn = KNeighborsClassifier()\n",
    "knn.fit(X_train, y_train)\n",
    "knn_pred = knn.predict(X_val)\n",
    "print(classification_report(y_val, knn_pred))"
   ]
  },
  {
   "cell_type": "markdown",
   "metadata": {
    "id": "7bEDDBXFEv5E"
   },
   "source": [
    "## **Decision tree**"
   ]
  },
  {
   "cell_type": "code",
   "execution_count": 45,
   "metadata": {
    "colab": {
     "base_uri": "https://localhost:8080/"
    },
    "executionInfo": {
     "elapsed": 5421,
     "status": "ok",
     "timestamp": 1633568943196,
     "user": {
      "displayName": "Srivarshan 19BAI1078",
      "photoUrl": "https://lh3.googleusercontent.com/a/default-user=s64",
      "userId": "03718411517360748676"
     },
     "user_tz": -330
    },
    "id": "65p7HgRWEvP4",
    "outputId": "f6ec6412-6818-40fc-d119-c890875b4014"
   },
   "outputs": [
    {
     "name": "stdout",
     "output_type": "stream",
     "text": [
      "              precision    recall  f1-score   support\n",
      "\n",
      "           0       0.82      0.81      0.81       950\n",
      "           1       0.22      0.23      0.23       226\n",
      "\n",
      "    accuracy                           0.70      1176\n",
      "   macro avg       0.52      0.52      0.52      1176\n",
      "weighted avg       0.70      0.70      0.70      1176\n",
      "\n"
     ]
    }
   ],
   "source": [
    "dt = DecisionTreeClassifier()\n",
    "dt.fit(X_train, y_train)\n",
    "dt_pred = dt.predict(X_val)\n",
    "print(classification_report(y_val, dt_pred))"
   ]
  },
  {
   "cell_type": "markdown",
   "metadata": {
    "id": "wA2EAKkxE1c1"
   },
   "source": [
    "## **Random Forest**"
   ]
  },
  {
   "cell_type": "code",
   "execution_count": 46,
   "metadata": {
    "colab": {
     "base_uri": "https://localhost:8080/"
    },
    "executionInfo": {
     "elapsed": 11547,
     "status": "ok",
     "timestamp": 1633568963638,
     "user": {
      "displayName": "Srivarshan 19BAI1078",
      "photoUrl": "https://lh3.googleusercontent.com/a/default-user=s64",
      "userId": "03718411517360748676"
     },
     "user_tz": -330
    },
    "id": "GwpEKhCmEzzE",
    "outputId": "e7641555-d9fd-4ab0-cffc-707b44803a40"
   },
   "outputs": [
    {
     "name": "stdout",
     "output_type": "stream",
     "text": [
      "              precision    recall  f1-score   support\n",
      "\n",
      "           0       0.81      0.99      0.89       950\n",
      "           1       0.44      0.03      0.06       226\n",
      "\n",
      "    accuracy                           0.81      1176\n",
      "   macro avg       0.62      0.51      0.47      1176\n",
      "weighted avg       0.74      0.81      0.73      1176\n",
      "\n"
     ]
    }
   ],
   "source": [
    "rf = RandomForestClassifier()\n",
    "rf.fit(X_train, y_train)\n",
    "rf_pred = rf.predict(X_val)\n",
    "print(classification_report(y_val, rf_pred))"
   ]
  },
  {
   "cell_type": "markdown",
   "metadata": {
    "id": "owkuc16dE7OZ"
   },
   "source": [
    "## **Majority Voting**"
   ]
  },
  {
   "cell_type": "code",
   "execution_count": 47,
   "metadata": {
    "colab": {
     "base_uri": "https://localhost:8080/"
    },
    "executionInfo": {
     "elapsed": 524,
     "status": "ok",
     "timestamp": 1633569155378,
     "user": {
      "displayName": "Srivarshan 19BAI1078",
      "photoUrl": "https://lh3.googleusercontent.com/a/default-user=s64",
      "userId": "03718411517360748676"
     },
     "user_tz": -330
    },
    "id": "oocbjm49E5Sq",
    "outputId": "15a15006-7378-478d-e512-0e6575d75ff7"
   },
   "outputs": [
    {
     "name": "stdout",
     "output_type": "stream",
     "text": [
      "              precision    recall  f1-score   support\n",
      "\n",
      "           0       0.81      0.98      0.89       950\n",
      "           1       0.29      0.04      0.06       226\n",
      "\n",
      "    accuracy                           0.80      1176\n",
      "   macro avg       0.55      0.51      0.47      1176\n",
      "weighted avg       0.71      0.80      0.73      1176\n",
      "\n"
     ]
    }
   ],
   "source": [
    "mv_pred = []\n",
    "\n",
    "for i in range(len(lr_pred)):\n",
    "    one = 0\n",
    "    zero = 0\n",
    "    # Removing SVM & RF from predictions due to poor performance\n",
    "    predictions = [lr_pred[i], nb_pred[i], sgd_pred[i], knn_pred[i], dt_pred[i]]\n",
    "    for pred in predictions:\n",
    "        if pred == 1: one += 1\n",
    "        if pred == 0: zero +=1\n",
    "    if one > zero: mv_pred.append(1)\n",
    "    else: mv_pred.append(0)\n",
    "\n",
    "mv_pred = np.array(mv_pred)\n",
    "\n",
    "print(classification_report(y_val, mv_pred))    "
   ]
  },
  {
   "cell_type": "markdown",
   "metadata": {
    "id": "z-EIDfZKHrVj"
   },
   "source": [
    "## **Loading Testing Data**"
   ]
  },
  {
   "cell_type": "code",
   "execution_count": 48,
   "metadata": {
    "colab": {
     "base_uri": "https://localhost:8080/",
     "height": 206
    },
    "executionInfo": {
     "elapsed": 1213,
     "status": "ok",
     "timestamp": 1633569339149,
     "user": {
      "displayName": "Srivarshan 19BAI1078",
      "photoUrl": "https://lh3.googleusercontent.com/a/default-user=s64",
      "userId": "03718411517360748676"
     },
     "user_tz": -330
    },
    "id": "8Bm4WHV2HmYo",
    "outputId": "33b14087-1f8a-4121-815f-f50de5348c04"
   },
   "outputs": [
    {
     "data": {
      "text/html": [
       "<div>\n",
       "<style scoped>\n",
       "    .dataframe tbody tr th:only-of-type {\n",
       "        vertical-align: middle;\n",
       "    }\n",
       "\n",
       "    .dataframe tbody tr th {\n",
       "        vertical-align: top;\n",
       "    }\n",
       "\n",
       "    .dataframe thead th {\n",
       "        text-align: right;\n",
       "    }\n",
       "</style>\n",
       "<table border=\"1\" class=\"dataframe\">\n",
       "  <thead>\n",
       "    <tr style=\"text-align: right;\">\n",
       "      <th></th>\n",
       "      <th>id</th>\n",
       "      <th>text</th>\n",
       "    </tr>\n",
       "  </thead>\n",
       "  <tbody>\n",
       "    <tr>\n",
       "      <th>0</th>\n",
       "      <td>tam_test_1</td>\n",
       "      <td>தலைவா STR இதுக்குதான் கதுருந்தோம் மாஸ் தலைவா t...</td>\n",
       "    </tr>\n",
       "    <tr>\n",
       "      <th>1</th>\n",
       "      <td>tam_test_2</td>\n",
       "      <td>நாயுடு மக்கள் சார்பாக திரைப்படம் வெற்றி பெற வா...</td>\n",
       "    </tr>\n",
       "    <tr>\n",
       "      <th>2</th>\n",
       "      <td>tam_test_3</td>\n",
       "      <td>தில்லானா முயற்சி  தஞ்சை கோனார்</td>\n",
       "    </tr>\n",
       "    <tr>\n",
       "      <th>3</th>\n",
       "      <td>tam_test_4</td>\n",
       "      <td>திரௌபதியின் துகிலுறித்த போது காத்த கண்ணனின் யா...</td>\n",
       "    </tr>\n",
       "    <tr>\n",
       "      <th>4</th>\n",
       "      <td>tam_test_5</td>\n",
       "      <td>நான் தியேட்டர்லே படம் பார்த்து 35 வருஷமாச்சு! ...</td>\n",
       "    </tr>\n",
       "  </tbody>\n",
       "</table>\n",
       "</div>"
      ],
      "text/plain": [
       "           id                                               text\n",
       "0  tam_test_1  தலைவா STR இதுக்குதான் கதுருந்தோம் மாஸ் தலைவா t...\n",
       "1  tam_test_2  நாயுடு மக்கள் சார்பாக திரைப்படம் வெற்றி பெற வா...\n",
       "2  tam_test_3                     தில்லானா முயற்சி  தஞ்சை கோனார்\n",
       "3  tam_test_4  திரௌபதியின் துகிலுறித்த போது காத்த கண்ணனின் யா...\n",
       "4  tam_test_5  நான் தியேட்டர்லே படம் பார்த்து 35 வருஷமாச்சு! ..."
      ]
     },
     "execution_count": 48,
     "metadata": {},
     "output_type": "execute_result"
    }
   ],
   "source": [
    "dataframe_test = pd.read_csv(\n",
    "    \"Dataset/tam_offesive_withoutlabels_test.tsv\", \n",
    "    sep='\\t'\n",
    ")\n",
    "dataframe_test.head()"
   ]
  },
  {
   "cell_type": "code",
   "execution_count": 49,
   "metadata": {
    "colab": {
     "base_uri": "https://localhost:8080/",
     "height": 175
    },
    "executionInfo": {
     "elapsed": 541,
     "status": "ok",
     "timestamp": 1633569346953,
     "user": {
      "displayName": "Srivarshan 19BAI1078",
      "photoUrl": "https://lh3.googleusercontent.com/a/default-user=s64",
      "userId": "03718411517360748676"
     },
     "user_tz": -330
    },
    "id": "laZqSRuNHvQz",
    "outputId": "2fea9066-322f-432c-b103-e869a9b4e242"
   },
   "outputs": [
    {
     "data": {
      "text/html": [
       "<div>\n",
       "<style scoped>\n",
       "    .dataframe tbody tr th:only-of-type {\n",
       "        vertical-align: middle;\n",
       "    }\n",
       "\n",
       "    .dataframe tbody tr th {\n",
       "        vertical-align: top;\n",
       "    }\n",
       "\n",
       "    .dataframe thead th {\n",
       "        text-align: right;\n",
       "    }\n",
       "</style>\n",
       "<table border=\"1\" class=\"dataframe\">\n",
       "  <thead>\n",
       "    <tr style=\"text-align: right;\">\n",
       "      <th></th>\n",
       "      <th>id</th>\n",
       "      <th>text</th>\n",
       "    </tr>\n",
       "  </thead>\n",
       "  <tbody>\n",
       "    <tr>\n",
       "      <th>count</th>\n",
       "      <td>654</td>\n",
       "      <td>654</td>\n",
       "    </tr>\n",
       "    <tr>\n",
       "      <th>unique</th>\n",
       "      <td>654</td>\n",
       "      <td>654</td>\n",
       "    </tr>\n",
       "    <tr>\n",
       "      <th>top</th>\n",
       "      <td>tam_test_285</td>\n",
       "      <td>யாதவர் கோனார் சார்பாக திரைப்படம் வெற்றியடைய வா...</td>\n",
       "    </tr>\n",
       "    <tr>\n",
       "      <th>freq</th>\n",
       "      <td>1</td>\n",
       "      <td>1</td>\n",
       "    </tr>\n",
       "  </tbody>\n",
       "</table>\n",
       "</div>"
      ],
      "text/plain": [
       "                  id                                               text\n",
       "count            654                                                654\n",
       "unique           654                                                654\n",
       "top     tam_test_285  யாதவர் கோனார் சார்பாக திரைப்படம் வெற்றியடைய வா...\n",
       "freq               1                                                  1"
      ]
     },
     "execution_count": 49,
     "metadata": {},
     "output_type": "execute_result"
    }
   ],
   "source": [
    "dataframe_test.describe()"
   ]
  },
  {
   "cell_type": "code",
   "execution_count": 50,
   "metadata": {
    "executionInfo": {
     "elapsed": 478,
     "status": "ok",
     "timestamp": 1633569349841,
     "user": {
      "displayName": "Srivarshan 19BAI1078",
      "photoUrl": "https://lh3.googleusercontent.com/a/default-user=s64",
      "userId": "03718411517360748676"
     },
     "user_tz": -330
    },
    "id": "781biQVoHxCq"
   },
   "outputs": [],
   "source": [
    "text_test = dataframe_test['text']"
   ]
  },
  {
   "cell_type": "markdown",
   "metadata": {
    "id": "Ymi3Y32-IYH0"
   },
   "source": [
    "## **Test Data Preprocessing**"
   ]
  },
  {
   "cell_type": "code",
   "execution_count": 51,
   "metadata": {
    "executionInfo": {
     "elapsed": 10,
     "status": "ok",
     "timestamp": 1633569352976,
     "user": {
      "displayName": "Srivarshan 19BAI1078",
      "photoUrl": "https://lh3.googleusercontent.com/a/default-user=s64",
      "userId": "03718411517360748676"
     },
     "user_tz": -330
    },
    "id": "vpcPA6csIWu2"
   },
   "outputs": [],
   "source": [
    "text_test = text_test.str.replace(r\"[+/#@&*$%:]\",'')\n",
    "text_test = text_test.to_numpy()"
   ]
  },
  {
   "cell_type": "code",
   "execution_count": 52,
   "metadata": {
    "executionInfo": {
     "elapsed": 3619,
     "status": "ok",
     "timestamp": 1633569358805,
     "user": {
      "displayName": "Srivarshan 19BAI1078",
      "photoUrl": "https://lh3.googleusercontent.com/a/default-user=s64",
      "userId": "03718411517360748676"
     },
     "user_tz": -330
    },
    "id": "hqNAhwfuIcgL"
   },
   "outputs": [],
   "source": [
    "text_test = text_test.tolist()\n",
    "\n",
    "! rm input.txt\n",
    "! rm output.txt\n",
    "\n",
    "for i in text_test:\n",
    "    text_file = open(\"input.txt\", \"a\")\n",
    "    text_file.write(i + '\\n')\n",
    "    text_file.close()"
   ]
  },
  {
   "cell_type": "code",
   "execution_count": 53,
   "metadata": {
    "executionInfo": {
     "elapsed": 493,
     "status": "ok",
     "timestamp": 1633569363977,
     "user": {
      "displayName": "Srivarshan 19BAI1078",
      "photoUrl": "https://lh3.googleusercontent.com/a/default-user=s64",
      "userId": "03718411517360748676"
     },
     "user_tz": -330
    },
    "id": "vpCsoAX0IeTG"
   },
   "outputs": [],
   "source": [
    "! ./tamil-stemmer-build/snowball-with-tamil/stemwords -l ta -i input.txt -o output.txt"
   ]
  },
  {
   "cell_type": "code",
   "execution_count": 54,
   "metadata": {
    "executionInfo": {
     "elapsed": 696,
     "status": "ok",
     "timestamp": 1633569367005,
     "user": {
      "displayName": "Srivarshan 19BAI1078",
      "photoUrl": "https://lh3.googleusercontent.com/a/default-user=s64",
      "userId": "03718411517360748676"
     },
     "user_tz": -330
    },
    "id": "012bYE92IhF1"
   },
   "outputs": [],
   "source": [
    "text_file = open(\"output.txt\", \"r\")\n",
    "\n",
    "text_test = []\n",
    "\n",
    "for line in text_file:\n",
    "    text_test.append(line.strip())\n",
    "\n",
    "text_test = np.array(text_test)"
   ]
  },
  {
   "cell_type": "markdown",
   "metadata": {
    "id": "xA2vfLvcIkpU"
   },
   "source": [
    "## **Test Feature Extraction**"
   ]
  },
  {
   "cell_type": "code",
   "execution_count": 55,
   "metadata": {
    "colab": {
     "base_uri": "https://localhost:8080/"
    },
    "executionInfo": {
     "elapsed": 5241,
     "status": "ok",
     "timestamp": 1633569376721,
     "user": {
      "displayName": "Srivarshan 19BAI1078",
      "photoUrl": "https://lh3.googleusercontent.com/a/default-user=s64",
      "userId": "03718411517360748676"
     },
     "user_tz": -330
    },
    "id": "e9ZvZq5FIjMS",
    "outputId": "8d32abc7-a7a1-4d68-d0bc-2c536203ddf4"
   },
   "outputs": [
    {
     "name": "stderr",
     "output_type": "stream",
     "text": [
      "Some weights of the model checkpoint at bert-base-uncased were not used when initializing BertModel: ['cls.predictions.transform.dense.bias', 'cls.seq_relationship.bias', 'cls.predictions.decoder.weight', 'cls.predictions.transform.LayerNorm.bias', 'cls.seq_relationship.weight', 'cls.predictions.transform.LayerNorm.weight', 'cls.predictions.bias', 'cls.predictions.transform.dense.weight']\n",
      "- This IS expected if you are initializing BertModel from the checkpoint of a model trained on another task or with another architecture (e.g. initializing a BertForSequenceClassification model from a BertForPreTraining model).\n",
      "- This IS NOT expected if you are initializing BertModel from the checkpoint of a model that you expect to be exactly identical (initializing a BertForSequenceClassification model from a BertForSequenceClassification model).\n"
     ]
    }
   ],
   "source": [
    "# Load Transformer Model\n",
    "\n",
    "tokenizer = BertTokenizer.from_pretrained('bert-base-uncased')\n",
    "model = BertModel.from_pretrained('bert-base-uncased')"
   ]
  },
  {
   "cell_type": "code",
   "execution_count": 56,
   "metadata": {
    "executionInfo": {
     "elapsed": 554,
     "status": "ok",
     "timestamp": 1633569379372,
     "user": {
      "displayName": "Srivarshan 19BAI1078",
      "photoUrl": "https://lh3.googleusercontent.com/a/default-user=s64",
      "userId": "03718411517360748676"
     },
     "user_tz": -330
    },
    "id": "9MeZTCfrIvuG"
   },
   "outputs": [],
   "source": [
    "# Sample Output\n",
    "\n",
    "tokenized_input = tokenizer(\n",
    "        text_test[0],\n",
    "        padding=True,\n",
    "        truncation=False,\n",
    "        return_tensors='pt'\n",
    "    )\n",
    "\n",
    "sample_output = model(**tokenized_input)"
   ]
  },
  {
   "cell_type": "code",
   "execution_count": 57,
   "metadata": {
    "colab": {
     "base_uri": "https://localhost:8080/"
    },
    "executionInfo": {
     "elapsed": 8,
     "status": "ok",
     "timestamp": 1633569381639,
     "user": {
      "displayName": "Srivarshan 19BAI1078",
      "photoUrl": "https://lh3.googleusercontent.com/a/default-user=s64",
      "userId": "03718411517360748676"
     },
     "user_tz": -330
    },
    "id": "3C_ZSq9iI1rS",
    "outputId": "36b4816e-59a6-4055-dcbf-0d9e20b30f08"
   },
   "outputs": [
    {
     "name": "stdout",
     "output_type": "stream",
     "text": [
      "{'input_ids': tensor([[  101,  1385, 29928, 29935, 29930, 29931,  2358,  2099,   100,  1382,\n",
      "         29921, 29933, 29927, 29933, 29922, 29921, 29934, 29931, 29925,   100,\n",
      "          1385, 29928, 29935, 29930, 29931,  4067,  4160, 10507,  2615,  1384,\n",
      "         29925,   102]]), 'token_type_ids': tensor([[0, 0, 0, 0, 0, 0, 0, 0, 0, 0, 0, 0, 0, 0, 0, 0, 0, 0, 0, 0, 0, 0, 0, 0,\n",
      "         0, 0, 0, 0, 0, 0, 0, 0]]), 'attention_mask': tensor([[1, 1, 1, 1, 1, 1, 1, 1, 1, 1, 1, 1, 1, 1, 1, 1, 1, 1, 1, 1, 1, 1, 1, 1,\n",
      "         1, 1, 1, 1, 1, 1, 1, 1]])}\n"
     ]
    }
   ],
   "source": [
    "print(tokenized_input)"
   ]
  },
  {
   "cell_type": "code",
   "execution_count": 58,
   "metadata": {
    "colab": {
     "base_uri": "https://localhost:8080/"
    },
    "executionInfo": {
     "elapsed": 9,
     "status": "ok",
     "timestamp": 1633569383795,
     "user": {
      "displayName": "Srivarshan 19BAI1078",
      "photoUrl": "https://lh3.googleusercontent.com/a/default-user=s64",
      "userId": "03718411517360748676"
     },
     "user_tz": -330
    },
    "id": "cgDXMGPYI5-T",
    "outputId": "2c5650e6-8f98-4e4d-fd52-e8b42ca14eb6"
   },
   "outputs": [
    {
     "name": "stdout",
     "output_type": "stream",
     "text": [
      "BaseModelOutputWithPoolingAndCrossAttentions(last_hidden_state=tensor([[[ 0.0939,  0.2106,  0.0053,  ..., -0.4066,  0.7523,  0.4290],\n",
      "         [ 1.6898,  0.3115,  0.4428,  ..., -0.6327,  1.1047,  0.7044],\n",
      "         [ 1.3675,  0.0346,  0.3108,  ..., -0.7238,  0.0593, -0.2793],\n",
      "         ...,\n",
      "         [ 0.7220,  0.6052,  0.2196,  ..., -0.1907,  0.4102,  0.0523],\n",
      "         [ 0.6027,  0.3920, -0.0771,  ..., -0.6663,  0.5205,  0.1245],\n",
      "         [ 0.8972, -0.0625,  0.0607,  ...,  0.0166, -0.2023, -0.1346]]],\n",
      "       grad_fn=<NativeLayerNormBackward>), pooler_output=tensor([[-0.8986, -0.4847, -0.8926,  0.7951,  0.5359, -0.1429,  0.8855,  0.2578,\n",
      "         -0.6553, -1.0000, -0.1332,  0.8387,  0.9742,  0.5990,  0.8848, -0.6668,\n",
      "         -0.2435, -0.5333,  0.3219, -0.6996,  0.6893,  0.9999,  0.3453,  0.3542,\n",
      "          0.5762,  0.9451, -0.5264,  0.8814,  0.9375,  0.6622, -0.7199,  0.2741,\n",
      "         -0.9763, -0.1788, -0.8953, -0.9868,  0.3925, -0.6778, -0.1756, -0.0303,\n",
      "         -0.8545,  0.3694,  1.0000,  0.2409,  0.0889, -0.3590, -1.0000,  0.2719,\n",
      "         -0.8565,  0.8265,  0.6790,  0.7710,  0.3165,  0.5269,  0.4886, -0.2426,\n",
      "         -0.0167,  0.2030, -0.2675, -0.5518, -0.5876,  0.4659, -0.7965, -0.9055,\n",
      "          0.4977,  0.6787,  0.0229, -0.3636, -0.1812, -0.0104,  0.8192,  0.2912,\n",
      "         -0.1898, -0.8176,  0.5520,  0.2935, -0.6362,  1.0000, -0.6225, -0.9509,\n",
      "          0.8018,  0.5653,  0.5080, -0.1511,  0.5383, -1.0000,  0.5588, -0.0832,\n",
      "         -0.9819,  0.2959,  0.6318, -0.2020,  0.5489,  0.5673, -0.5483, -0.3880,\n",
      "         -0.4682, -0.6603, -0.4623, -0.5223,  0.0017, -0.2869, -0.2715, -0.3205,\n",
      "          0.2991, -0.4865, -0.5185,  0.7144,  0.0677,  0.7331,  0.4413, -0.4132,\n",
      "          0.5188, -0.9294,  0.6213, -0.3498, -0.9731, -0.6086, -0.9746,  0.7340,\n",
      "         -0.1910, -0.0962,  0.9286, -0.3144,  0.2790, -0.1231, -0.7170, -1.0000,\n",
      "         -0.6163, -0.5019, -0.2256, -0.3145, -0.9745, -0.9421,  0.7050,  0.9265,\n",
      "          0.2177,  0.9998, -0.3735,  0.9037, -0.1982, -0.4779,  0.3434, -0.5011,\n",
      "          0.7520,  0.3758, -0.7099,  0.1427, -0.3686,  0.1406, -0.5198, -0.2745,\n",
      "         -0.6407, -0.8943, -0.5560,  0.9453, -0.5152, -0.8403,  0.1138, -0.2238,\n",
      "         -0.4458,  0.8316,  0.5155,  0.3981, -0.3175,  0.4635,  0.3600,  0.4941,\n",
      "         -0.8656,  0.1185,  0.4863, -0.4328, -0.8266, -0.9666, -0.3915,  0.6523,\n",
      "          0.9776,  0.8162,  0.3636,  0.4803, -0.4057,  0.3538, -0.9344,  0.9660,\n",
      "         -0.3630,  0.1723, -0.1633,  0.5908, -0.8275,  0.1024,  0.8563, -0.4024,\n",
      "         -0.8276, -0.0480, -0.5668, -0.5385, -0.6901,  0.6090, -0.2733, -0.4150,\n",
      "         -0.1087,  0.8571,  0.9786,  0.7539, -0.1467,  0.6834, -0.8828, -0.4966,\n",
      "          0.2038,  0.3469,  0.2577,  0.9878, -0.5246, -0.1359, -0.9010, -0.9785,\n",
      "          0.0343, -0.8149, -0.0517, -0.7199,  0.5674,  0.0160,  0.4734,  0.3880,\n",
      "         -0.9870, -0.7533,  0.3882, -0.4524,  0.4579, -0.2380,  0.5659,  0.9090,\n",
      "         -0.6023,  0.6236,  0.8938, -0.8301, -0.7085,  0.8180, -0.3238,  0.9085,\n",
      "         -0.6113,  0.9951,  0.8737,  0.6283, -0.9242, -0.5402, -0.8613, -0.6429,\n",
      "         -0.2065,  0.1349,  0.8065,  0.5689,  0.4052,  0.1899, -0.5917,  0.9971,\n",
      "         -0.2886, -0.9235,  0.0842, -0.3721, -0.9816,  0.7537,  0.3786,  0.0450,\n",
      "         -0.4766, -0.6352, -0.8941,  0.9317,  0.2658,  0.9905, -0.3149, -0.9424,\n",
      "         -0.6434, -0.9099, -0.1884, -0.3460, -0.0590,  0.0124, -0.8843,  0.4890,\n",
      "          0.5103,  0.4997, -0.7202,  0.9975,  1.0000,  0.9619,  0.8389,  0.8906,\n",
      "         -0.9992, -0.2432,  1.0000, -0.9691, -1.0000, -0.8974, -0.6894,  0.4104,\n",
      "         -1.0000, -0.1431, -0.1496, -0.8917,  0.4783,  0.9727,  0.9919, -1.0000,\n",
      "          0.8470,  0.9288, -0.6447,  0.8172, -0.4618,  0.9544,  0.6138,  0.4204,\n",
      "         -0.2492,  0.4882, -0.9051, -0.9209, -0.3681, -0.3819,  0.9958,  0.1722,\n",
      "         -0.8225, -0.8972,  0.1490,  0.0548,  0.1971, -0.9160, -0.2697,  0.2660,\n",
      "          0.7112,  0.1602,  0.2759, -0.7173,  0.2637,  0.0793,  0.5107,  0.6525,\n",
      "         -0.9488, -0.7525, -0.4785, -0.1317, -0.5522, -0.9344,  0.9472, -0.4407,\n",
      "          0.7557,  1.0000,  0.0174, -0.8399,  0.5321,  0.2888, -0.4186,  1.0000,\n",
      "          0.7829, -0.9656, -0.6404,  0.6204, -0.4930, -0.5715,  0.9994, -0.2441,\n",
      "         -0.5180,  0.0057,  0.9709, -0.9886,  0.9838, -0.9104, -0.9334,  0.9383,\n",
      "          0.8610, -0.4162, -0.7892,  0.2700, -0.7095,  0.3069, -0.9474,  0.6318,\n",
      "          0.4550, -0.1055,  0.8318, -0.8937, -0.5977,  0.3706, -0.3720, -0.1567,\n",
      "          0.8997,  0.6248, -0.2470,  0.0829, -0.2137, -0.1219, -0.9366,  0.4772,\n",
      "          1.0000, -0.2269,  0.3354, -0.4136, -0.1725, -0.2176,  0.5909,  0.5175,\n",
      "         -0.4228, -0.8583,  0.5659, -0.9223, -0.9795,  0.7084,  0.3240, -0.2309,\n",
      "          1.0000,  0.4328,  0.3549,  0.3007,  0.9271,  0.1025,  0.5482,  0.6591,\n",
      "          0.9494, -0.2451,  0.5972,  0.8528, -0.7044, -0.3941, -0.6787,  0.1139,\n",
      "         -0.8978, -0.1446, -0.9289,  0.9255,  0.8998,  0.4563,  0.2236,  0.5495,\n",
      "          1.0000,  0.1510,  0.7001, -0.4606,  0.8253, -0.9992, -0.7014, -0.3439,\n",
      "         -0.0182, -0.7378, -0.3103,  0.3015, -0.9567,  0.5887,  0.5713, -0.9807,\n",
      "         -0.9745, -0.3338,  0.8269, -0.0329, -0.9385, -0.5552, -0.4131,  0.5155,\n",
      "         -0.4078, -0.8565,  0.1890, -0.3762,  0.5156, -0.3144,  0.5667,  0.6944,\n",
      "          0.5455, -0.5911, -0.0082,  0.0037, -0.8229,  0.7583, -0.8562, -0.7934,\n",
      "         -0.1907,  1.0000, -0.5589,  0.8436,  0.7720,  0.6030, -0.3667,  0.1203,\n",
      "          0.8784,  0.3220, -0.6523, -0.6869, -0.6838, -0.4764,  0.7359,  0.1578,\n",
      "          0.6690,  0.7167,  0.5382,  0.1441,  0.0615,  0.1629,  0.9992, -0.3631,\n",
      "         -0.2418, -0.5850, -0.1194, -0.4225, -0.4721,  1.0000,  0.4212,  0.1869,\n",
      "         -0.9876, -0.5810, -0.9302,  1.0000,  0.7449, -0.8505,  0.6386,  0.5459,\n",
      "         -0.1855,  0.7800, -0.3024, -0.1044,  0.2114,  0.0275,  0.9424, -0.4664,\n",
      "         -0.9502, -0.6394,  0.4938, -0.8984,  0.9996, -0.6433, -0.1861, -0.3737,\n",
      "         -0.0431,  0.7400,  0.1219, -0.9640, -0.3004,  0.1515,  0.9598,  0.1381,\n",
      "         -0.5992, -0.8869,  0.7256,  0.5692, -0.6382, -0.8882,  0.9530, -0.9605,\n",
      "          0.5152,  1.0000,  0.3637,  0.1239,  0.2306, -0.5308,  0.2495, -0.0013,\n",
      "          0.6603, -0.9180, -0.3854, -0.2652,  0.4873, -0.3175, -0.1849,  0.6245,\n",
      "          0.2039, -0.5148, -0.5768, -0.1018,  0.4221,  0.8572, -0.3641, -0.2773,\n",
      "          0.1649, -0.0987, -0.8860, -0.3613, -0.4015, -0.9999,  0.5850, -1.0000,\n",
      "          0.5234,  0.1994, -0.2278,  0.6692,  0.2966,  0.5141, -0.7063, -0.6461,\n",
      "          0.2523,  0.6849, -0.3427, -0.3152, -0.7647,  0.3539, -0.1413,  0.4076,\n",
      "         -0.5219,  0.6656, -0.2382,  1.0000,  0.1609, -0.5737, -0.9688,  0.3855,\n",
      "         -0.3436,  1.0000, -0.9308, -0.9077,  0.3890, -0.7362, -0.7931,  0.2750,\n",
      "         -0.0716, -0.7507, -0.8303,  0.9086,  0.8447, -0.5407,  0.3673, -0.3084,\n",
      "         -0.6177,  0.1594,  0.7495,  0.9739,  0.5682,  0.8879,  0.0596, -0.1995,\n",
      "          0.9258,  0.3110,  0.7098,  0.2517,  1.0000,  0.3961, -0.8999,  0.1328,\n",
      "         -0.9685, -0.2384, -0.9493,  0.1439,  0.1488,  0.8193, -0.3154,  0.9315,\n",
      "         -0.5365,  0.1289, -0.2777, -0.2743,  0.3537, -0.8719, -0.9688, -0.9757,\n",
      "          0.5206, -0.4921, -0.0847,  0.2620,  0.2780,  0.4232,  0.4043, -1.0000,\n",
      "          0.8973,  0.5638,  0.7329,  0.9495,  0.6727,  0.4288,  0.3613, -0.9798,\n",
      "         -0.9664, -0.3746, -0.3461,  0.8613,  0.7370,  0.6941,  0.4490, -0.4120,\n",
      "         -0.2893, -0.4091, -0.1832, -0.9870,  0.4714, -0.3956, -0.9702,  0.9031,\n",
      "         -0.0496, -0.2269,  0.0183, -0.7010,  0.9565,  0.8619,  0.6559,  0.0549,\n",
      "          0.5570,  0.8284,  0.9616,  0.9854, -0.8096,  0.7949, -0.5257,  0.5166,\n",
      "          0.2168, -0.9342,  0.1377,  0.1641, -0.4545,  0.3797, -0.2915, -0.9725,\n",
      "          0.3315, -0.1956,  0.6075, -0.3540, -0.0755, -0.5740, -0.1506, -0.6730,\n",
      "         -0.7344,  0.6754,  0.3317,  0.8916,  0.7267, -0.0278, -0.8142, -0.3449,\n",
      "         -0.5867, -0.8804,  0.9318, -0.1425, -0.4063,  0.6464,  0.0069,  0.4167,\n",
      "          0.1351, -0.4965, -0.3452, -0.7931,  0.8659, -0.2539, -0.5415, -0.6055,\n",
      "          0.7382,  0.2349,  0.9999, -0.6101, -0.7681, -0.3206, -0.4300,  0.3421,\n",
      "         -0.4248, -1.0000,  0.5045, -0.4836,  0.6882, -0.4314,  0.7291, -0.4708,\n",
      "         -0.9737, -0.1692,  0.4001,  0.3113, -0.5429, -0.6400,  0.5759, -0.4622,\n",
      "          0.8037,  0.8728, -0.1366,  0.1137,  0.6610, -0.7601, -0.6276,  0.8505]],\n",
      "       grad_fn=<TanhBackward>), hidden_states=None, past_key_values=None, attentions=None, cross_attentions=None)\n"
     ]
    }
   ],
   "source": [
    "print(sample_output)"
   ]
  },
  {
   "cell_type": "code",
   "execution_count": 59,
   "metadata": {
    "colab": {
     "base_uri": "https://localhost:8080/"
    },
    "executionInfo": {
     "elapsed": 11,
     "status": "ok",
     "timestamp": 1633569387340,
     "user": {
      "displayName": "Srivarshan 19BAI1078",
      "photoUrl": "https://lh3.googleusercontent.com/a/default-user=s64",
      "userId": "03718411517360748676"
     },
     "user_tz": -330
    },
    "id": "hmz0ugkzJF4a",
    "outputId": "ab133967-bcc2-490b-8f2d-a912ca25e72f"
   },
   "outputs": [
    {
     "name": "stdout",
     "output_type": "stream",
     "text": [
      "(1, 768)\n"
     ]
    }
   ],
   "source": [
    "print(sample_output.pooler_output.cpu().detach().numpy().shape)"
   ]
  },
  {
   "cell_type": "code",
   "execution_count": 60,
   "metadata": {
    "executionInfo": {
     "elapsed": 727,
     "status": "ok",
     "timestamp": 1633569389921,
     "user": {
      "displayName": "Srivarshan 19BAI1078",
      "photoUrl": "https://lh3.googleusercontent.com/a/default-user=s64",
      "userId": "03718411517360748676"
     },
     "user_tz": -330
    },
    "id": "uu5rNQCnJHhW"
   },
   "outputs": [],
   "source": [
    "# Tokenizing Test Input Data\n",
    "\n",
    "input = []\n",
    "\n",
    "for i in text_test:\n",
    "    tokenized_input = tokenizer(\n",
    "        i,\n",
    "        padding=True,\n",
    "        truncation=False,\n",
    "        return_tensors='pt'\n",
    "    )\n",
    "    input.append(tokenized_input)"
   ]
  },
  {
   "cell_type": "code",
   "execution_count": 61,
   "metadata": {
    "colab": {
     "base_uri": "https://localhost:8080/"
    },
    "executionInfo": {
     "elapsed": 130952,
     "status": "ok",
     "timestamp": 1633569531999,
     "user": {
      "displayName": "Srivarshan 19BAI1078",
      "photoUrl": "https://lh3.googleusercontent.com/a/default-user=s64",
      "userId": "03718411517360748676"
     },
     "user_tz": -330
    },
    "id": "4uGocE2BJMcp",
    "outputId": "5bb7f20e-17fa-43f1-8a63-ee183c92da5d"
   },
   "outputs": [
    {
     "name": "stdout",
     "output_type": "stream",
     "text": [
      "./MaskedLM-Embedded-TestData/output1.pickle done\n",
      "./MaskedLM-Embedded-TestData/output2.pickle done\n",
      "./MaskedLM-Embedded-TestData/output3.pickle done\n",
      "./MaskedLM-Embedded-TestData/output4.pickle done\n"
     ]
    }
   ],
   "source": [
    "# Embedding the Test Input Data\n",
    "\n",
    "output = []\n",
    "\n",
    "j = 1\n",
    "\n",
    "for i in range(len(input)):\n",
    "    \n",
    "    model_output = model(**input[i])\n",
    "    model_output = model_output.pooler_output.cpu().detach().numpy()\n",
    "    output.append(model_output)\n",
    "    \n",
    "    # Saving Embedded Test Input Data to Disk\n",
    "\n",
    "    if ((i + 1) % 200) == 0:\n",
    "        \n",
    "        file_name = \"./MaskedLM-Embedded-TestData/output\" + str(j) + \".pickle\"\n",
    "        \n",
    "        with open(file_name, \"wb\") as fp:   \n",
    "            # Pickling\n",
    "            pickle.dump(output, fp)\n",
    "        \n",
    "        print(file_name + \" done\")\n",
    "        output = []\n",
    "        j += 1\n",
    "        \n",
    "file_name = \"./MaskedLM-Embedded-TestData/output\" + str(j) + \".pickle\"\n",
    "\n",
    "with open(file_name, \"wb\") as fp:   \n",
    "    # Pickling\n",
    "    pickle.dump(output, fp)\n",
    "\n",
    "print(file_name + \" done\")\n",
    "output = []"
   ]
  },
  {
   "cell_type": "code",
   "execution_count": 62,
   "metadata": {
    "colab": {
     "base_uri": "https://localhost:8080/"
    },
    "executionInfo": {
     "elapsed": 463,
     "status": "ok",
     "timestamp": 1633569539656,
     "user": {
      "displayName": "Srivarshan 19BAI1078",
      "photoUrl": "https://lh3.googleusercontent.com/a/default-user=s64",
      "userId": "03718411517360748676"
     },
     "user_tz": -330
    },
    "id": "autP-jUzKmLm",
    "outputId": "77b99edf-b2d3-4d98-a0d5-9958eeed74e4"
   },
   "outputs": [
    {
     "name": "stdout",
     "output_type": "stream",
     "text": [
      "./MaskedLM-Embedded-TestData/output1.pickle done\n",
      "./MaskedLM-Embedded-TestData/output2.pickle done\n",
      "./MaskedLM-Embedded-TestData/output3.pickle done\n",
      "./MaskedLM-Embedded-TestData/output4.pickle done\n"
     ]
    }
   ],
   "source": [
    "# Loading Embedded Input Test Data from Disk\n",
    "\n",
    "output = []\n",
    "\n",
    "for i in range(4):\n",
    "    file_name = \"./MaskedLM-Embedded-TestData/output\" + str(i + 1) + \".pickle\"\n",
    "    with open(file_name, \"rb\") as fp:   #Pickling\n",
    "        file_output = pickle.load(fp)\n",
    "        for x in file_output:\n",
    "            output.append(x)\n",
    "    print(file_name + \" done\")\n",
    "\n",
    "X_test = output\n",
    "output = []"
   ]
  },
  {
   "cell_type": "code",
   "execution_count": 63,
   "metadata": {
    "colab": {
     "base_uri": "https://localhost:8080/"
    },
    "executionInfo": {
     "elapsed": 8,
     "status": "ok",
     "timestamp": 1633569543027,
     "user": {
      "displayName": "Srivarshan 19BAI1078",
      "photoUrl": "https://lh3.googleusercontent.com/a/default-user=s64",
      "userId": "03718411517360748676"
     },
     "user_tz": -330
    },
    "id": "iCTb8MZrNBHJ",
    "outputId": "1f0fe4dc-67da-4b90-92c9-c93b1b49ef43"
   },
   "outputs": [
    {
     "data": {
      "text/plain": [
       "(654, 1, 768)"
      ]
     },
     "execution_count": 63,
     "metadata": {},
     "output_type": "execute_result"
    }
   ],
   "source": [
    "X_test = np.array(X_test)\n",
    "X_test.shape"
   ]
  },
  {
   "cell_type": "code",
   "execution_count": 64,
   "metadata": {
    "colab": {
     "base_uri": "https://localhost:8080/"
    },
    "executionInfo": {
     "elapsed": 8,
     "status": "ok",
     "timestamp": 1633569544661,
     "user": {
      "displayName": "Srivarshan 19BAI1078",
      "photoUrl": "https://lh3.googleusercontent.com/a/default-user=s64",
      "userId": "03718411517360748676"
     },
     "user_tz": -330
    },
    "id": "ElFbLnhCNEw_",
    "outputId": "e3edb67a-1619-42e0-9d33-490edc483941"
   },
   "outputs": [
    {
     "data": {
      "text/plain": [
       "(654, 768)"
      ]
     },
     "execution_count": 64,
     "metadata": {},
     "output_type": "execute_result"
    }
   ],
   "source": [
    "X_test = X_test.reshape(654, 768)\n",
    "X_test.shape"
   ]
  },
  {
   "cell_type": "markdown",
   "metadata": {
    "id": "wNDrYlgMNMCG"
   },
   "source": [
    "## **Getting Predictions**"
   ]
  },
  {
   "cell_type": "code",
   "execution_count": 65,
   "metadata": {
    "executionInfo": {
     "elapsed": 3521,
     "status": "ok",
     "timestamp": 1633569553017,
     "user": {
      "displayName": "Srivarshan 19BAI1078",
      "photoUrl": "https://lh3.googleusercontent.com/a/default-user=s64",
      "userId": "03718411517360748676"
     },
     "user_tz": -330
    },
    "id": "SGEem_mrNKcK"
   },
   "outputs": [],
   "source": [
    "# Logistic Regression\n",
    "lr_test_pred = lr.predict(X_test)\n",
    "\n",
    "# Support Vector Machine\n",
    "svm_test_pred = svm.predict(X_test)\n",
    "\n",
    "# Naive Bayes\n",
    "nb_test_pred = nb.predict(X_test)\n",
    "\n",
    "# Stochastic Gradient Descent\n",
    "sgd_test_pred = sgd.predict(X_test)\n",
    "\n",
    "# K Nearest Neighbours\n",
    "knn_test_pred = knn.predict(X_test)\n",
    "\n",
    "# Decision Tree\n",
    "dt_test_pred = dt.predict(X_test)\n",
    "\n",
    "# Random Forest\n",
    "rf_test_pred = rf.predict(X_test)"
   ]
  },
  {
   "cell_type": "code",
   "execution_count": 66,
   "metadata": {
    "executionInfo": {
     "elapsed": 515,
     "status": "ok",
     "timestamp": 1633569560516,
     "user": {
      "displayName": "Srivarshan 19BAI1078",
      "photoUrl": "https://lh3.googleusercontent.com/a/default-user=s64",
      "userId": "03718411517360748676"
     },
     "user_tz": -330
    },
    "id": "25FeqaRANRS4"
   },
   "outputs": [],
   "source": [
    "# Majority Voting\n",
    "mv_test_pred = []\n",
    "\n",
    "for i in range(len(lr_test_pred)):\n",
    "    one = 0\n",
    "    zero = 0\n",
    "    predictions = predictions = [lr_test_pred[i], nb_test_pred[i], sgd_test_pred[i], knn_test_pred[i], dt_test_pred[i]]\n",
    "    for pred in predictions:\n",
    "        if pred == 1: one += 1\n",
    "        if pred == 0: zero +=1\n",
    "    if one > zero: mv_test_pred.append(1)\n",
    "    else: mv_test_pred.append(0)\n",
    "\n",
    "mv_test_pred = np.array(mv_test_pred)"
   ]
  },
  {
   "cell_type": "markdown",
   "metadata": {
    "id": "LDn6XGBxNgiQ"
   },
   "source": [
    "## **Evaluating the Predictions**"
   ]
  },
  {
   "cell_type": "code",
   "execution_count": 67,
   "metadata": {
    "executionInfo": {
     "elapsed": 944,
     "status": "ok",
     "timestamp": 1633569564876,
     "user": {
      "displayName": "Srivarshan 19BAI1078",
      "photoUrl": "https://lh3.googleusercontent.com/a/default-user=s64",
      "userId": "03718411517360748676"
     },
     "user_tz": -330
    },
    "id": "E6Z9uog3Nele"
   },
   "outputs": [],
   "source": [
    "dataframe_eval = pd.read_csv(\n",
    "    \"Dataset/tamil_offensive_test task 1 with labels.tsv\", \n",
    "    sep='\\t'\n",
    ")"
   ]
  },
  {
   "cell_type": "code",
   "execution_count": 68,
   "metadata": {
    "executionInfo": {
     "elapsed": 7,
     "status": "ok",
     "timestamp": 1633569564879,
     "user": {
      "displayName": "Srivarshan 19BAI1078",
      "photoUrl": "https://lh3.googleusercontent.com/a/default-user=s64",
      "userId": "03718411517360748676"
     },
     "user_tz": -330
    },
    "id": "QQKEuIXSNk65"
   },
   "outputs": [],
   "source": [
    "y_test = dataframe_eval['category']\n",
    "y_test = LabelEncoder().fit_transform(y_test)"
   ]
  },
  {
   "cell_type": "code",
   "execution_count": 69,
   "metadata": {
    "colab": {
     "base_uri": "https://localhost:8080/"
    },
    "executionInfo": {
     "elapsed": 459,
     "status": "ok",
     "timestamp": 1633569567657,
     "user": {
      "displayName": "Srivarshan 19BAI1078",
      "photoUrl": "https://lh3.googleusercontent.com/a/default-user=s64",
      "userId": "03718411517360748676"
     },
     "user_tz": -330
    },
    "id": "Q80-1PAMNmn9",
    "outputId": "41c8bd9d-a6ea-4ef5-d1ae-63cb1f50738a"
   },
   "outputs": [
    {
     "name": "stdout",
     "output_type": "stream",
     "text": [
      "Logistic Regression\n",
      "              precision    recall  f1-score   support\n",
      "\n",
      "           0       0.83      0.99      0.90       536\n",
      "           1       0.60      0.10      0.17       118\n",
      "\n",
      "    accuracy                           0.83       654\n",
      "   macro avg       0.72      0.54      0.54       654\n",
      "weighted avg       0.79      0.83      0.77       654\n",
      "\n"
     ]
    }
   ],
   "source": [
    "print('Logistic Regression')\n",
    "print(classification_report(y_test, lr_test_pred))"
   ]
  },
  {
   "cell_type": "code",
   "execution_count": 70,
   "metadata": {
    "colab": {
     "base_uri": "https://localhost:8080/"
    },
    "executionInfo": {
     "elapsed": 14,
     "status": "ok",
     "timestamp": 1633569569164,
     "user": {
      "displayName": "Srivarshan 19BAI1078",
      "photoUrl": "https://lh3.googleusercontent.com/a/default-user=s64",
      "userId": "03718411517360748676"
     },
     "user_tz": -330
    },
    "id": "evQC4UmHNpRy",
    "outputId": "101beadd-2859-44f0-b697-c4771b0a68ba"
   },
   "outputs": [
    {
     "name": "stdout",
     "output_type": "stream",
     "text": [
      "Support Vector Machine\n",
      "              precision    recall  f1-score   support\n",
      "\n",
      "           0       0.82      1.00      0.90       536\n",
      "           1       0.00      0.00      0.00       118\n",
      "\n",
      "    accuracy                           0.82       654\n",
      "   macro avg       0.41      0.50      0.45       654\n",
      "weighted avg       0.67      0.82      0.74       654\n",
      "\n"
     ]
    },
    {
     "name": "stderr",
     "output_type": "stream",
     "text": [
      "/usr/local/lib/python3.7/dist-packages/sklearn/metrics/_classification.py:1272: UndefinedMetricWarning: Precision and F-score are ill-defined and being set to 0.0 in labels with no predicted samples. Use `zero_division` parameter to control this behavior.\n",
      "  _warn_prf(average, modifier, msg_start, len(result))\n"
     ]
    }
   ],
   "source": [
    "print('Support Vector Machine')\n",
    "print(classification_report(y_test, svm_test_pred))"
   ]
  },
  {
   "cell_type": "code",
   "execution_count": 71,
   "metadata": {
    "colab": {
     "base_uri": "https://localhost:8080/"
    },
    "executionInfo": {
     "elapsed": 13,
     "status": "ok",
     "timestamp": 1633569569855,
     "user": {
      "displayName": "Srivarshan 19BAI1078",
      "photoUrl": "https://lh3.googleusercontent.com/a/default-user=s64",
      "userId": "03718411517360748676"
     },
     "user_tz": -330
    },
    "id": "gdpoHKmFNruS",
    "outputId": "32cfb4d3-a652-40b7-bf31-94f2593c4e6b"
   },
   "outputs": [
    {
     "name": "stdout",
     "output_type": "stream",
     "text": [
      "Naive Bayes\n",
      "              precision    recall  f1-score   support\n",
      "\n",
      "           0       0.85      0.82      0.83       536\n",
      "           1       0.29      0.35      0.32       118\n",
      "\n",
      "    accuracy                           0.73       654\n",
      "   macro avg       0.57      0.58      0.58       654\n",
      "weighted avg       0.75      0.73      0.74       654\n",
      "\n"
     ]
    }
   ],
   "source": [
    "print('Naive Bayes')\n",
    "print(classification_report(y_test, nb_test_pred))"
   ]
  },
  {
   "cell_type": "code",
   "execution_count": 72,
   "metadata": {
    "colab": {
     "base_uri": "https://localhost:8080/"
    },
    "executionInfo": {
     "elapsed": 15,
     "status": "ok",
     "timestamp": 1633569570534,
     "user": {
      "displayName": "Srivarshan 19BAI1078",
      "photoUrl": "https://lh3.googleusercontent.com/a/default-user=s64",
      "userId": "03718411517360748676"
     },
     "user_tz": -330
    },
    "id": "9hVax89INtsD",
    "outputId": "770ed6da-ae51-4ecb-d5ff-89cdb81caace"
   },
   "outputs": [
    {
     "name": "stdout",
     "output_type": "stream",
     "text": [
      "Stochastic Gradient Descent\n",
      "              precision    recall  f1-score   support\n",
      "\n",
      "           0       0.83      0.97      0.89       536\n",
      "           1       0.35      0.08      0.12       118\n",
      "\n",
      "    accuracy                           0.81       654\n",
      "   macro avg       0.59      0.52      0.51       654\n",
      "weighted avg       0.74      0.81      0.75       654\n",
      "\n"
     ]
    }
   ],
   "source": [
    "print('Stochastic Gradient Descent')\n",
    "print(classification_report(y_test, sgd_test_pred))"
   ]
  },
  {
   "cell_type": "code",
   "execution_count": 73,
   "metadata": {
    "colab": {
     "base_uri": "https://localhost:8080/"
    },
    "executionInfo": {
     "elapsed": 24,
     "status": "ok",
     "timestamp": 1633569571506,
     "user": {
      "displayName": "Srivarshan 19BAI1078",
      "photoUrl": "https://lh3.googleusercontent.com/a/default-user=s64",
      "userId": "03718411517360748676"
     },
     "user_tz": -330
    },
    "id": "NcwoRB_bNwH9",
    "outputId": "051598a9-231f-45d5-a567-0228475e66a5"
   },
   "outputs": [
    {
     "name": "stdout",
     "output_type": "stream",
     "text": [
      "K Nearest Neighbours\n",
      "              precision    recall  f1-score   support\n",
      "\n",
      "           0       0.82      0.94      0.88       536\n",
      "           1       0.24      0.08      0.13       118\n",
      "\n",
      "    accuracy                           0.79       654\n",
      "   macro avg       0.53      0.51      0.50       654\n",
      "weighted avg       0.72      0.79      0.74       654\n",
      "\n"
     ]
    }
   ],
   "source": [
    "print('K Nearest Neighbours')\n",
    "print(classification_report(y_test, knn_test_pred))"
   ]
  },
  {
   "cell_type": "code",
   "execution_count": 74,
   "metadata": {
    "colab": {
     "base_uri": "https://localhost:8080/"
    },
    "executionInfo": {
     "elapsed": 17,
     "status": "ok",
     "timestamp": 1633569571507,
     "user": {
      "displayName": "Srivarshan 19BAI1078",
      "photoUrl": "https://lh3.googleusercontent.com/a/default-user=s64",
      "userId": "03718411517360748676"
     },
     "user_tz": -330
    },
    "id": "mTFbtvuPNx9C",
    "outputId": "3cf0558f-f0f6-44c2-bf58-5590c169c3d6"
   },
   "outputs": [
    {
     "name": "stdout",
     "output_type": "stream",
     "text": [
      "Decision Tree\n",
      "              precision    recall  f1-score   support\n",
      "\n",
      "           0       0.83      0.83      0.83       536\n",
      "           1       0.24      0.25      0.24       118\n",
      "\n",
      "    accuracy                           0.72       654\n",
      "   macro avg       0.54      0.54      0.54       654\n",
      "weighted avg       0.73      0.72      0.73       654\n",
      "\n"
     ]
    }
   ],
   "source": [
    "print('Decision Tree')\n",
    "print(classification_report(y_test, dt_test_pred))"
   ]
  },
  {
   "cell_type": "code",
   "execution_count": 75,
   "metadata": {
    "colab": {
     "base_uri": "https://localhost:8080/"
    },
    "executionInfo": {
     "elapsed": 12,
     "status": "ok",
     "timestamp": 1633569571508,
     "user": {
      "displayName": "Srivarshan 19BAI1078",
      "photoUrl": "https://lh3.googleusercontent.com/a/default-user=s64",
      "userId": "03718411517360748676"
     },
     "user_tz": -330
    },
    "id": "0TfnO-ZINztQ",
    "outputId": "2591e489-32a1-47a9-b179-03d60892934c"
   },
   "outputs": [
    {
     "name": "stdout",
     "output_type": "stream",
     "text": [
      "Random Forest\n",
      "              precision    recall  f1-score   support\n",
      "\n",
      "           0       0.82      0.99      0.90       536\n",
      "           1       0.38      0.03      0.05       118\n",
      "\n",
      "    accuracy                           0.82       654\n",
      "   macro avg       0.60      0.51      0.47       654\n",
      "weighted avg       0.74      0.82      0.74       654\n",
      "\n"
     ]
    }
   ],
   "source": [
    "print('Random Forest')\n",
    "print(classification_report(y_test, rf_test_pred))"
   ]
  },
  {
   "cell_type": "code",
   "execution_count": 76,
   "metadata": {
    "colab": {
     "base_uri": "https://localhost:8080/"
    },
    "executionInfo": {
     "elapsed": 11,
     "status": "ok",
     "timestamp": 1633569572082,
     "user": {
      "displayName": "Srivarshan 19BAI1078",
      "photoUrl": "https://lh3.googleusercontent.com/a/default-user=s64",
      "userId": "03718411517360748676"
     },
     "user_tz": -330
    },
    "id": "zIy9SNkaN17N",
    "outputId": "cea04d30-418f-4df4-eb46-425dafc0b988"
   },
   "outputs": [
    {
     "name": "stdout",
     "output_type": "stream",
     "text": [
      "Majority Voting\n",
      "              precision    recall  f1-score   support\n",
      "\n",
      "           0       0.83      0.98      0.90       536\n",
      "           1       0.43      0.08      0.13       118\n",
      "\n",
      "    accuracy                           0.81       654\n",
      "   macro avg       0.63      0.53      0.51       654\n",
      "weighted avg       0.76      0.81      0.76       654\n",
      "\n"
     ]
    }
   ],
   "source": [
    "print('Majority Voting')\n",
    "print(classification_report(y_test, mv_test_pred))"
   ]
  },
  {
   "cell_type": "markdown",
   "metadata": {
    "id": "4LwXIdR1N_00"
   },
   "source": [
    "## **Saving the Predictions**"
   ]
  },
  {
   "cell_type": "code",
   "execution_count": 77,
   "metadata": {
    "colab": {
     "base_uri": "https://localhost:8080/",
     "height": 424
    },
    "executionInfo": {
     "elapsed": 802,
     "status": "ok",
     "timestamp": 1633569612325,
     "user": {
      "displayName": "Srivarshan 19BAI1078",
      "photoUrl": "https://lh3.googleusercontent.com/a/default-user=s64",
      "userId": "03718411517360748676"
     },
     "user_tz": -330
    },
    "id": "OQmTRFCyN6M-",
    "outputId": "1f25f599-58e4-4371-96be-503bb4c50460"
   },
   "outputs": [
    {
     "data": {
      "text/html": [
       "<div>\n",
       "<style scoped>\n",
       "    .dataframe tbody tr th:only-of-type {\n",
       "        vertical-align: middle;\n",
       "    }\n",
       "\n",
       "    .dataframe tbody tr th {\n",
       "        vertical-align: top;\n",
       "    }\n",
       "\n",
       "    .dataframe thead th {\n",
       "        text-align: right;\n",
       "    }\n",
       "</style>\n",
       "<table border=\"1\" class=\"dataframe\">\n",
       "  <thead>\n",
       "    <tr style=\"text-align: right;\">\n",
       "      <th></th>\n",
       "      <th>id</th>\n",
       "      <th>text</th>\n",
       "      <th>category</th>\n",
       "    </tr>\n",
       "  </thead>\n",
       "  <tbody>\n",
       "    <tr>\n",
       "      <th>0</th>\n",
       "      <td>tam_test_1</td>\n",
       "      <td>தலைவா STR இதுக்குதான் கதுருந்தோம் மாஸ் தலைவா t...</td>\n",
       "      <td>NOT</td>\n",
       "    </tr>\n",
       "    <tr>\n",
       "      <th>1</th>\n",
       "      <td>tam_test_2</td>\n",
       "      <td>நாயுடு மக்கள் சார்பாக திரைப்படம் வெற்றி பெற வா...</td>\n",
       "      <td>NOT</td>\n",
       "    </tr>\n",
       "    <tr>\n",
       "      <th>2</th>\n",
       "      <td>tam_test_3</td>\n",
       "      <td>தில்லானா முயற்சி  தஞ்சை கோனார்</td>\n",
       "      <td>NOT</td>\n",
       "    </tr>\n",
       "    <tr>\n",
       "      <th>3</th>\n",
       "      <td>tam_test_4</td>\n",
       "      <td>திரௌபதியின் துகிலுறித்த போது காத்த கண்ணனின் யா...</td>\n",
       "      <td>NOT</td>\n",
       "    </tr>\n",
       "    <tr>\n",
       "      <th>4</th>\n",
       "      <td>tam_test_5</td>\n",
       "      <td>நான் தியேட்டர்லே படம் பார்த்து 35 வருஷமாச்சு! ...</td>\n",
       "      <td>NOT</td>\n",
       "    </tr>\n",
       "    <tr>\n",
       "      <th>...</th>\n",
       "      <td>...</td>\n",
       "      <td>...</td>\n",
       "      <td>...</td>\n",
       "    </tr>\n",
       "    <tr>\n",
       "      <th>649</th>\n",
       "      <td>tam_test_650</td>\n",
       "      <td>நான் தலைவரோட ரசிகன்னு சொல்லிடு தலைவரை ஒடசல் போ...</td>\n",
       "      <td>NOT</td>\n",
       "    </tr>\n",
       "    <tr>\n",
       "      <th>650</th>\n",
       "      <td>tam_test_651</td>\n",
       "      <td>வாழ்த்துக்கள்,உண்மை கதை உலகத்துக்கு காட்டிய மோ...</td>\n",
       "      <td>NOT</td>\n",
       "    </tr>\n",
       "    <tr>\n",
       "      <th>651</th>\n",
       "      <td>tam_test_652</td>\n",
       "      <td>குருமா and பா..குஞ்சித் பயலுக கதர்ரது இன்னும் ...</td>\n",
       "      <td>NOT</td>\n",
       "    </tr>\n",
       "    <tr>\n",
       "      <th>652</th>\n",
       "      <td>tam_test_653</td>\n",
       "      <td>வெள்ளார்கள் சார்பாக படம் வெற்றி பெற வாழ்த்துக்...</td>\n",
       "      <td>NOT</td>\n",
       "    </tr>\n",
       "    <tr>\n",
       "      <th>653</th>\n",
       "      <td>tam_test_654</td>\n",
       "      <td>சமீபகாலமாக கால்பந்தாட்டத்தை மையப்படுத்தி தமிழ்...</td>\n",
       "      <td>NOT</td>\n",
       "    </tr>\n",
       "  </tbody>\n",
       "</table>\n",
       "<p>654 rows × 3 columns</p>\n",
       "</div>"
      ],
      "text/plain": [
       "               id                                               text category\n",
       "0      tam_test_1  தலைவா STR இதுக்குதான் கதுருந்தோம் மாஸ் தலைவா t...      NOT\n",
       "1      tam_test_2  நாயுடு மக்கள் சார்பாக திரைப்படம் வெற்றி பெற வா...      NOT\n",
       "2      tam_test_3                     தில்லானா முயற்சி  தஞ்சை கோனார்      NOT\n",
       "3      tam_test_4  திரௌபதியின் துகிலுறித்த போது காத்த கண்ணனின் யா...      NOT\n",
       "4      tam_test_5  நான் தியேட்டர்லே படம் பார்த்து 35 வருஷமாச்சு! ...      NOT\n",
       "..            ...                                                ...      ...\n",
       "649  tam_test_650  நான் தலைவரோட ரசிகன்னு சொல்லிடு தலைவரை ஒடசல் போ...      NOT\n",
       "650  tam_test_651  வாழ்த்துக்கள்,உண்மை கதை உலகத்துக்கு காட்டிய மோ...      NOT\n",
       "651  tam_test_652  குருமா and பா..குஞ்சித் பயலுக கதர்ரது இன்னும் ...      NOT\n",
       "652  tam_test_653  வெள்ளார்கள் சார்பாக படம் வெற்றி பெற வாழ்த்துக்...      NOT\n",
       "653  tam_test_654  சமீபகாலமாக கால்பந்தாட்டத்தை மையப்படுத்தி தமிழ்...      NOT\n",
       "\n",
       "[654 rows x 3 columns]"
      ]
     },
     "execution_count": 77,
     "metadata": {},
     "output_type": "execute_result"
    }
   ],
   "source": [
    "# Logistic Regression\n",
    "\n",
    "predictions = le.inverse_transform(lr_test_pred)\n",
    "\n",
    "dataframe_test_lr = {\n",
    "    'id': dataframe_test['id'],\n",
    "    'text': dataframe_test['text'],\n",
    "    'category': predictions\n",
    "}\n",
    "\n",
    "dataframe_test_lr = pd.DataFrame(dataframe_test_lr)\n",
    "dataframe_test_lr.to_csv(\"Output/MaskedLM-LogisticRegression.csv\")\n",
    "dataframe_test_lr"
   ]
  },
  {
   "cell_type": "code",
   "execution_count": 78,
   "metadata": {
    "colab": {
     "base_uri": "https://localhost:8080/",
     "height": 424
    },
    "executionInfo": {
     "elapsed": 830,
     "status": "ok",
     "timestamp": 1633569615385,
     "user": {
      "displayName": "Srivarshan 19BAI1078",
      "photoUrl": "https://lh3.googleusercontent.com/a/default-user=s64",
      "userId": "03718411517360748676"
     },
     "user_tz": -330
    },
    "id": "2SB12KdmOGsr",
    "outputId": "c966e82a-5309-4453-f6b0-27c6e36c1fb0"
   },
   "outputs": [
    {
     "data": {
      "text/html": [
       "<div>\n",
       "<style scoped>\n",
       "    .dataframe tbody tr th:only-of-type {\n",
       "        vertical-align: middle;\n",
       "    }\n",
       "\n",
       "    .dataframe tbody tr th {\n",
       "        vertical-align: top;\n",
       "    }\n",
       "\n",
       "    .dataframe thead th {\n",
       "        text-align: right;\n",
       "    }\n",
       "</style>\n",
       "<table border=\"1\" class=\"dataframe\">\n",
       "  <thead>\n",
       "    <tr style=\"text-align: right;\">\n",
       "      <th></th>\n",
       "      <th>id</th>\n",
       "      <th>text</th>\n",
       "      <th>category</th>\n",
       "    </tr>\n",
       "  </thead>\n",
       "  <tbody>\n",
       "    <tr>\n",
       "      <th>0</th>\n",
       "      <td>tam_test_1</td>\n",
       "      <td>தலைவா STR இதுக்குதான் கதுருந்தோம் மாஸ் தலைவா t...</td>\n",
       "      <td>NOT</td>\n",
       "    </tr>\n",
       "    <tr>\n",
       "      <th>1</th>\n",
       "      <td>tam_test_2</td>\n",
       "      <td>நாயுடு மக்கள் சார்பாக திரைப்படம் வெற்றி பெற வா...</td>\n",
       "      <td>NOT</td>\n",
       "    </tr>\n",
       "    <tr>\n",
       "      <th>2</th>\n",
       "      <td>tam_test_3</td>\n",
       "      <td>தில்லானா முயற்சி  தஞ்சை கோனார்</td>\n",
       "      <td>NOT</td>\n",
       "    </tr>\n",
       "    <tr>\n",
       "      <th>3</th>\n",
       "      <td>tam_test_4</td>\n",
       "      <td>திரௌபதியின் துகிலுறித்த போது காத்த கண்ணனின் யா...</td>\n",
       "      <td>NOT</td>\n",
       "    </tr>\n",
       "    <tr>\n",
       "      <th>4</th>\n",
       "      <td>tam_test_5</td>\n",
       "      <td>நான் தியேட்டர்லே படம் பார்த்து 35 வருஷமாச்சு! ...</td>\n",
       "      <td>NOT</td>\n",
       "    </tr>\n",
       "    <tr>\n",
       "      <th>...</th>\n",
       "      <td>...</td>\n",
       "      <td>...</td>\n",
       "      <td>...</td>\n",
       "    </tr>\n",
       "    <tr>\n",
       "      <th>649</th>\n",
       "      <td>tam_test_650</td>\n",
       "      <td>நான் தலைவரோட ரசிகன்னு சொல்லிடு தலைவரை ஒடசல் போ...</td>\n",
       "      <td>NOT</td>\n",
       "    </tr>\n",
       "    <tr>\n",
       "      <th>650</th>\n",
       "      <td>tam_test_651</td>\n",
       "      <td>வாழ்த்துக்கள்,உண்மை கதை உலகத்துக்கு காட்டிய மோ...</td>\n",
       "      <td>NOT</td>\n",
       "    </tr>\n",
       "    <tr>\n",
       "      <th>651</th>\n",
       "      <td>tam_test_652</td>\n",
       "      <td>குருமா and பா..குஞ்சித் பயலுக கதர்ரது இன்னும் ...</td>\n",
       "      <td>NOT</td>\n",
       "    </tr>\n",
       "    <tr>\n",
       "      <th>652</th>\n",
       "      <td>tam_test_653</td>\n",
       "      <td>வெள்ளார்கள் சார்பாக படம் வெற்றி பெற வாழ்த்துக்...</td>\n",
       "      <td>NOT</td>\n",
       "    </tr>\n",
       "    <tr>\n",
       "      <th>653</th>\n",
       "      <td>tam_test_654</td>\n",
       "      <td>சமீபகாலமாக கால்பந்தாட்டத்தை மையப்படுத்தி தமிழ்...</td>\n",
       "      <td>NOT</td>\n",
       "    </tr>\n",
       "  </tbody>\n",
       "</table>\n",
       "<p>654 rows × 3 columns</p>\n",
       "</div>"
      ],
      "text/plain": [
       "               id                                               text category\n",
       "0      tam_test_1  தலைவா STR இதுக்குதான் கதுருந்தோம் மாஸ் தலைவா t...      NOT\n",
       "1      tam_test_2  நாயுடு மக்கள் சார்பாக திரைப்படம் வெற்றி பெற வா...      NOT\n",
       "2      tam_test_3                     தில்லானா முயற்சி  தஞ்சை கோனார்      NOT\n",
       "3      tam_test_4  திரௌபதியின் துகிலுறித்த போது காத்த கண்ணனின் யா...      NOT\n",
       "4      tam_test_5  நான் தியேட்டர்லே படம் பார்த்து 35 வருஷமாச்சு! ...      NOT\n",
       "..            ...                                                ...      ...\n",
       "649  tam_test_650  நான் தலைவரோட ரசிகன்னு சொல்லிடு தலைவரை ஒடசல் போ...      NOT\n",
       "650  tam_test_651  வாழ்த்துக்கள்,உண்மை கதை உலகத்துக்கு காட்டிய மோ...      NOT\n",
       "651  tam_test_652  குருமா and பா..குஞ்சித் பயலுக கதர்ரது இன்னும் ...      NOT\n",
       "652  tam_test_653  வெள்ளார்கள் சார்பாக படம் வெற்றி பெற வாழ்த்துக்...      NOT\n",
       "653  tam_test_654  சமீபகாலமாக கால்பந்தாட்டத்தை மையப்படுத்தி தமிழ்...      NOT\n",
       "\n",
       "[654 rows x 3 columns]"
      ]
     },
     "execution_count": 78,
     "metadata": {},
     "output_type": "execute_result"
    }
   ],
   "source": [
    "# Support Vector Machine\n",
    "\n",
    "predictions = le.inverse_transform(svm_test_pred)\n",
    "\n",
    "dataframe_test_svm = {\n",
    "    'id': dataframe_test['id'],\n",
    "    'text': dataframe_test['text'],\n",
    "    'category': predictions\n",
    "}\n",
    "\n",
    "dataframe_test_svm = pd.DataFrame(dataframe_test_svm)\n",
    "dataframe_test_svm.to_csv(\"Output/MaskedLM-SupportVectorMachine.csv\")\n",
    "dataframe_test_svm"
   ]
  },
  {
   "cell_type": "code",
   "execution_count": 79,
   "metadata": {
    "colab": {
     "base_uri": "https://localhost:8080/",
     "height": 424
    },
    "executionInfo": {
     "elapsed": 14,
     "status": "ok",
     "timestamp": 1633569615388,
     "user": {
      "displayName": "Srivarshan 19BAI1078",
      "photoUrl": "https://lh3.googleusercontent.com/a/default-user=s64",
      "userId": "03718411517360748676"
     },
     "user_tz": -330
    },
    "id": "yBatwZUvOMxG",
    "outputId": "d53fed1b-ba29-4b55-b32a-ebfc36cdee28"
   },
   "outputs": [
    {
     "data": {
      "text/html": [
       "<div>\n",
       "<style scoped>\n",
       "    .dataframe tbody tr th:only-of-type {\n",
       "        vertical-align: middle;\n",
       "    }\n",
       "\n",
       "    .dataframe tbody tr th {\n",
       "        vertical-align: top;\n",
       "    }\n",
       "\n",
       "    .dataframe thead th {\n",
       "        text-align: right;\n",
       "    }\n",
       "</style>\n",
       "<table border=\"1\" class=\"dataframe\">\n",
       "  <thead>\n",
       "    <tr style=\"text-align: right;\">\n",
       "      <th></th>\n",
       "      <th>id</th>\n",
       "      <th>text</th>\n",
       "      <th>category</th>\n",
       "    </tr>\n",
       "  </thead>\n",
       "  <tbody>\n",
       "    <tr>\n",
       "      <th>0</th>\n",
       "      <td>tam_test_1</td>\n",
       "      <td>தலைவா STR இதுக்குதான் கதுருந்தோம் மாஸ் தலைவா t...</td>\n",
       "      <td>NOT</td>\n",
       "    </tr>\n",
       "    <tr>\n",
       "      <th>1</th>\n",
       "      <td>tam_test_2</td>\n",
       "      <td>நாயுடு மக்கள் சார்பாக திரைப்படம் வெற்றி பெற வா...</td>\n",
       "      <td>NOT</td>\n",
       "    </tr>\n",
       "    <tr>\n",
       "      <th>2</th>\n",
       "      <td>tam_test_3</td>\n",
       "      <td>தில்லானா முயற்சி  தஞ்சை கோனார்</td>\n",
       "      <td>NOT</td>\n",
       "    </tr>\n",
       "    <tr>\n",
       "      <th>3</th>\n",
       "      <td>tam_test_4</td>\n",
       "      <td>திரௌபதியின் துகிலுறித்த போது காத்த கண்ணனின் யா...</td>\n",
       "      <td>NOT</td>\n",
       "    </tr>\n",
       "    <tr>\n",
       "      <th>4</th>\n",
       "      <td>tam_test_5</td>\n",
       "      <td>நான் தியேட்டர்லே படம் பார்த்து 35 வருஷமாச்சு! ...</td>\n",
       "      <td>NOT</td>\n",
       "    </tr>\n",
       "    <tr>\n",
       "      <th>...</th>\n",
       "      <td>...</td>\n",
       "      <td>...</td>\n",
       "      <td>...</td>\n",
       "    </tr>\n",
       "    <tr>\n",
       "      <th>649</th>\n",
       "      <td>tam_test_650</td>\n",
       "      <td>நான் தலைவரோட ரசிகன்னு சொல்லிடு தலைவரை ஒடசல் போ...</td>\n",
       "      <td>OFF</td>\n",
       "    </tr>\n",
       "    <tr>\n",
       "      <th>650</th>\n",
       "      <td>tam_test_651</td>\n",
       "      <td>வாழ்த்துக்கள்,உண்மை கதை உலகத்துக்கு காட்டிய மோ...</td>\n",
       "      <td>NOT</td>\n",
       "    </tr>\n",
       "    <tr>\n",
       "      <th>651</th>\n",
       "      <td>tam_test_652</td>\n",
       "      <td>குருமா and பா..குஞ்சித் பயலுக கதர்ரது இன்னும் ...</td>\n",
       "      <td>OFF</td>\n",
       "    </tr>\n",
       "    <tr>\n",
       "      <th>652</th>\n",
       "      <td>tam_test_653</td>\n",
       "      <td>வெள்ளார்கள் சார்பாக படம் வெற்றி பெற வாழ்த்துக்...</td>\n",
       "      <td>NOT</td>\n",
       "    </tr>\n",
       "    <tr>\n",
       "      <th>653</th>\n",
       "      <td>tam_test_654</td>\n",
       "      <td>சமீபகாலமாக கால்பந்தாட்டத்தை மையப்படுத்தி தமிழ்...</td>\n",
       "      <td>NOT</td>\n",
       "    </tr>\n",
       "  </tbody>\n",
       "</table>\n",
       "<p>654 rows × 3 columns</p>\n",
       "</div>"
      ],
      "text/plain": [
       "               id                                               text category\n",
       "0      tam_test_1  தலைவா STR இதுக்குதான் கதுருந்தோம் மாஸ் தலைவா t...      NOT\n",
       "1      tam_test_2  நாயுடு மக்கள் சார்பாக திரைப்படம் வெற்றி பெற வா...      NOT\n",
       "2      tam_test_3                     தில்லானா முயற்சி  தஞ்சை கோனார்      NOT\n",
       "3      tam_test_4  திரௌபதியின் துகிலுறித்த போது காத்த கண்ணனின் யா...      NOT\n",
       "4      tam_test_5  நான் தியேட்டர்லே படம் பார்த்து 35 வருஷமாச்சு! ...      NOT\n",
       "..            ...                                                ...      ...\n",
       "649  tam_test_650  நான் தலைவரோட ரசிகன்னு சொல்லிடு தலைவரை ஒடசல் போ...      OFF\n",
       "650  tam_test_651  வாழ்த்துக்கள்,உண்மை கதை உலகத்துக்கு காட்டிய மோ...      NOT\n",
       "651  tam_test_652  குருமா and பா..குஞ்சித் பயலுக கதர்ரது இன்னும் ...      OFF\n",
       "652  tam_test_653  வெள்ளார்கள் சார்பாக படம் வெற்றி பெற வாழ்த்துக்...      NOT\n",
       "653  tam_test_654  சமீபகாலமாக கால்பந்தாட்டத்தை மையப்படுத்தி தமிழ்...      NOT\n",
       "\n",
       "[654 rows x 3 columns]"
      ]
     },
     "execution_count": 79,
     "metadata": {},
     "output_type": "execute_result"
    }
   ],
   "source": [
    "# Naive Bayes\n",
    "\n",
    "predictions = le.inverse_transform(nb_test_pred)\n",
    "\n",
    "dataframe_test_nb = {\n",
    "    'id': dataframe_test['id'],\n",
    "    'text': dataframe_test['text'],\n",
    "    'category': predictions\n",
    "}\n",
    "\n",
    "dataframe_test_nb = pd.DataFrame(dataframe_test_nb)\n",
    "dataframe_test_nb.to_csv(\"Output/MaskedLM-NaiveBayes.csv\")\n",
    "dataframe_test_nb"
   ]
  },
  {
   "cell_type": "code",
   "execution_count": 80,
   "metadata": {
    "colab": {
     "base_uri": "https://localhost:8080/",
     "height": 424
    },
    "executionInfo": {
     "elapsed": 21,
     "status": "ok",
     "timestamp": 1633569616046,
     "user": {
      "displayName": "Srivarshan 19BAI1078",
      "photoUrl": "https://lh3.googleusercontent.com/a/default-user=s64",
      "userId": "03718411517360748676"
     },
     "user_tz": -330
    },
    "id": "GhNcLJ4tOQgB",
    "outputId": "86fe366a-1509-4207-8fae-6e79caa9161f"
   },
   "outputs": [
    {
     "data": {
      "text/html": [
       "<div>\n",
       "<style scoped>\n",
       "    .dataframe tbody tr th:only-of-type {\n",
       "        vertical-align: middle;\n",
       "    }\n",
       "\n",
       "    .dataframe tbody tr th {\n",
       "        vertical-align: top;\n",
       "    }\n",
       "\n",
       "    .dataframe thead th {\n",
       "        text-align: right;\n",
       "    }\n",
       "</style>\n",
       "<table border=\"1\" class=\"dataframe\">\n",
       "  <thead>\n",
       "    <tr style=\"text-align: right;\">\n",
       "      <th></th>\n",
       "      <th>id</th>\n",
       "      <th>text</th>\n",
       "      <th>category</th>\n",
       "    </tr>\n",
       "  </thead>\n",
       "  <tbody>\n",
       "    <tr>\n",
       "      <th>0</th>\n",
       "      <td>tam_test_1</td>\n",
       "      <td>தலைவா STR இதுக்குதான் கதுருந்தோம் மாஸ் தலைவா t...</td>\n",
       "      <td>NOT</td>\n",
       "    </tr>\n",
       "    <tr>\n",
       "      <th>1</th>\n",
       "      <td>tam_test_2</td>\n",
       "      <td>நாயுடு மக்கள் சார்பாக திரைப்படம் வெற்றி பெற வா...</td>\n",
       "      <td>NOT</td>\n",
       "    </tr>\n",
       "    <tr>\n",
       "      <th>2</th>\n",
       "      <td>tam_test_3</td>\n",
       "      <td>தில்லானா முயற்சி  தஞ்சை கோனார்</td>\n",
       "      <td>NOT</td>\n",
       "    </tr>\n",
       "    <tr>\n",
       "      <th>3</th>\n",
       "      <td>tam_test_4</td>\n",
       "      <td>திரௌபதியின் துகிலுறித்த போது காத்த கண்ணனின் யா...</td>\n",
       "      <td>NOT</td>\n",
       "    </tr>\n",
       "    <tr>\n",
       "      <th>4</th>\n",
       "      <td>tam_test_5</td>\n",
       "      <td>நான் தியேட்டர்லே படம் பார்த்து 35 வருஷமாச்சு! ...</td>\n",
       "      <td>NOT</td>\n",
       "    </tr>\n",
       "    <tr>\n",
       "      <th>...</th>\n",
       "      <td>...</td>\n",
       "      <td>...</td>\n",
       "      <td>...</td>\n",
       "    </tr>\n",
       "    <tr>\n",
       "      <th>649</th>\n",
       "      <td>tam_test_650</td>\n",
       "      <td>நான் தலைவரோட ரசிகன்னு சொல்லிடு தலைவரை ஒடசல் போ...</td>\n",
       "      <td>NOT</td>\n",
       "    </tr>\n",
       "    <tr>\n",
       "      <th>650</th>\n",
       "      <td>tam_test_651</td>\n",
       "      <td>வாழ்த்துக்கள்,உண்மை கதை உலகத்துக்கு காட்டிய மோ...</td>\n",
       "      <td>NOT</td>\n",
       "    </tr>\n",
       "    <tr>\n",
       "      <th>651</th>\n",
       "      <td>tam_test_652</td>\n",
       "      <td>குருமா and பா..குஞ்சித் பயலுக கதர்ரது இன்னும் ...</td>\n",
       "      <td>NOT</td>\n",
       "    </tr>\n",
       "    <tr>\n",
       "      <th>652</th>\n",
       "      <td>tam_test_653</td>\n",
       "      <td>வெள்ளார்கள் சார்பாக படம் வெற்றி பெற வாழ்த்துக்...</td>\n",
       "      <td>NOT</td>\n",
       "    </tr>\n",
       "    <tr>\n",
       "      <th>653</th>\n",
       "      <td>tam_test_654</td>\n",
       "      <td>சமீபகாலமாக கால்பந்தாட்டத்தை மையப்படுத்தி தமிழ்...</td>\n",
       "      <td>NOT</td>\n",
       "    </tr>\n",
       "  </tbody>\n",
       "</table>\n",
       "<p>654 rows × 3 columns</p>\n",
       "</div>"
      ],
      "text/plain": [
       "               id                                               text category\n",
       "0      tam_test_1  தலைவா STR இதுக்குதான் கதுருந்தோம் மாஸ் தலைவா t...      NOT\n",
       "1      tam_test_2  நாயுடு மக்கள் சார்பாக திரைப்படம் வெற்றி பெற வா...      NOT\n",
       "2      tam_test_3                     தில்லானா முயற்சி  தஞ்சை கோனார்      NOT\n",
       "3      tam_test_4  திரௌபதியின் துகிலுறித்த போது காத்த கண்ணனின் யா...      NOT\n",
       "4      tam_test_5  நான் தியேட்டர்லே படம் பார்த்து 35 வருஷமாச்சு! ...      NOT\n",
       "..            ...                                                ...      ...\n",
       "649  tam_test_650  நான் தலைவரோட ரசிகன்னு சொல்லிடு தலைவரை ஒடசல் போ...      NOT\n",
       "650  tam_test_651  வாழ்த்துக்கள்,உண்மை கதை உலகத்துக்கு காட்டிய மோ...      NOT\n",
       "651  tam_test_652  குருமா and பா..குஞ்சித் பயலுக கதர்ரது இன்னும் ...      NOT\n",
       "652  tam_test_653  வெள்ளார்கள் சார்பாக படம் வெற்றி பெற வாழ்த்துக்...      NOT\n",
       "653  tam_test_654  சமீபகாலமாக கால்பந்தாட்டத்தை மையப்படுத்தி தமிழ்...      NOT\n",
       "\n",
       "[654 rows x 3 columns]"
      ]
     },
     "execution_count": 80,
     "metadata": {},
     "output_type": "execute_result"
    }
   ],
   "source": [
    "# Stochastic Gradient Descent\n",
    "\n",
    "predictions = le.inverse_transform(sgd_test_pred)\n",
    "\n",
    "dataframe_test_sgd = {\n",
    "    'id': dataframe_test['id'],\n",
    "    'text': dataframe_test['text'],\n",
    "    'category': predictions\n",
    "}\n",
    "\n",
    "dataframe_test_sgd = pd.DataFrame(dataframe_test_sgd)\n",
    "dataframe_test_sgd.to_csv(\"Output/MaskedLM-StochasticGradientDescent.csv\")\n",
    "dataframe_test_sgd"
   ]
  },
  {
   "cell_type": "code",
   "execution_count": 81,
   "metadata": {
    "colab": {
     "base_uri": "https://localhost:8080/",
     "height": 424
    },
    "executionInfo": {
     "elapsed": 19,
     "status": "ok",
     "timestamp": 1633569616048,
     "user": {
      "displayName": "Srivarshan 19BAI1078",
      "photoUrl": "https://lh3.googleusercontent.com/a/default-user=s64",
      "userId": "03718411517360748676"
     },
     "user_tz": -330
    },
    "id": "WhoRZ4atOUIp",
    "outputId": "fd016339-2aa8-4e85-f781-1b3455f6e0d8"
   },
   "outputs": [
    {
     "data": {
      "text/html": [
       "<div>\n",
       "<style scoped>\n",
       "    .dataframe tbody tr th:only-of-type {\n",
       "        vertical-align: middle;\n",
       "    }\n",
       "\n",
       "    .dataframe tbody tr th {\n",
       "        vertical-align: top;\n",
       "    }\n",
       "\n",
       "    .dataframe thead th {\n",
       "        text-align: right;\n",
       "    }\n",
       "</style>\n",
       "<table border=\"1\" class=\"dataframe\">\n",
       "  <thead>\n",
       "    <tr style=\"text-align: right;\">\n",
       "      <th></th>\n",
       "      <th>id</th>\n",
       "      <th>text</th>\n",
       "      <th>category</th>\n",
       "    </tr>\n",
       "  </thead>\n",
       "  <tbody>\n",
       "    <tr>\n",
       "      <th>0</th>\n",
       "      <td>tam_test_1</td>\n",
       "      <td>தலைவா STR இதுக்குதான் கதுருந்தோம் மாஸ் தலைவா t...</td>\n",
       "      <td>NOT</td>\n",
       "    </tr>\n",
       "    <tr>\n",
       "      <th>1</th>\n",
       "      <td>tam_test_2</td>\n",
       "      <td>நாயுடு மக்கள் சார்பாக திரைப்படம் வெற்றி பெற வா...</td>\n",
       "      <td>NOT</td>\n",
       "    </tr>\n",
       "    <tr>\n",
       "      <th>2</th>\n",
       "      <td>tam_test_3</td>\n",
       "      <td>தில்லானா முயற்சி  தஞ்சை கோனார்</td>\n",
       "      <td>NOT</td>\n",
       "    </tr>\n",
       "    <tr>\n",
       "      <th>3</th>\n",
       "      <td>tam_test_4</td>\n",
       "      <td>திரௌபதியின் துகிலுறித்த போது காத்த கண்ணனின் யா...</td>\n",
       "      <td>NOT</td>\n",
       "    </tr>\n",
       "    <tr>\n",
       "      <th>4</th>\n",
       "      <td>tam_test_5</td>\n",
       "      <td>நான் தியேட்டர்லே படம் பார்த்து 35 வருஷமாச்சு! ...</td>\n",
       "      <td>NOT</td>\n",
       "    </tr>\n",
       "    <tr>\n",
       "      <th>...</th>\n",
       "      <td>...</td>\n",
       "      <td>...</td>\n",
       "      <td>...</td>\n",
       "    </tr>\n",
       "    <tr>\n",
       "      <th>649</th>\n",
       "      <td>tam_test_650</td>\n",
       "      <td>நான் தலைவரோட ரசிகன்னு சொல்லிடு தலைவரை ஒடசல் போ...</td>\n",
       "      <td>NOT</td>\n",
       "    </tr>\n",
       "    <tr>\n",
       "      <th>650</th>\n",
       "      <td>tam_test_651</td>\n",
       "      <td>வாழ்த்துக்கள்,உண்மை கதை உலகத்துக்கு காட்டிய மோ...</td>\n",
       "      <td>NOT</td>\n",
       "    </tr>\n",
       "    <tr>\n",
       "      <th>651</th>\n",
       "      <td>tam_test_652</td>\n",
       "      <td>குருமா and பா..குஞ்சித் பயலுக கதர்ரது இன்னும் ...</td>\n",
       "      <td>NOT</td>\n",
       "    </tr>\n",
       "    <tr>\n",
       "      <th>652</th>\n",
       "      <td>tam_test_653</td>\n",
       "      <td>வெள்ளார்கள் சார்பாக படம் வெற்றி பெற வாழ்த்துக்...</td>\n",
       "      <td>NOT</td>\n",
       "    </tr>\n",
       "    <tr>\n",
       "      <th>653</th>\n",
       "      <td>tam_test_654</td>\n",
       "      <td>சமீபகாலமாக கால்பந்தாட்டத்தை மையப்படுத்தி தமிழ்...</td>\n",
       "      <td>NOT</td>\n",
       "    </tr>\n",
       "  </tbody>\n",
       "</table>\n",
       "<p>654 rows × 3 columns</p>\n",
       "</div>"
      ],
      "text/plain": [
       "               id                                               text category\n",
       "0      tam_test_1  தலைவா STR இதுக்குதான் கதுருந்தோம் மாஸ் தலைவா t...      NOT\n",
       "1      tam_test_2  நாயுடு மக்கள் சார்பாக திரைப்படம் வெற்றி பெற வா...      NOT\n",
       "2      tam_test_3                     தில்லானா முயற்சி  தஞ்சை கோனார்      NOT\n",
       "3      tam_test_4  திரௌபதியின் துகிலுறித்த போது காத்த கண்ணனின் யா...      NOT\n",
       "4      tam_test_5  நான் தியேட்டர்லே படம் பார்த்து 35 வருஷமாச்சு! ...      NOT\n",
       "..            ...                                                ...      ...\n",
       "649  tam_test_650  நான் தலைவரோட ரசிகன்னு சொல்லிடு தலைவரை ஒடசல் போ...      NOT\n",
       "650  tam_test_651  வாழ்த்துக்கள்,உண்மை கதை உலகத்துக்கு காட்டிய மோ...      NOT\n",
       "651  tam_test_652  குருமா and பா..குஞ்சித் பயலுக கதர்ரது இன்னும் ...      NOT\n",
       "652  tam_test_653  வெள்ளார்கள் சார்பாக படம் வெற்றி பெற வாழ்த்துக்...      NOT\n",
       "653  tam_test_654  சமீபகாலமாக கால்பந்தாட்டத்தை மையப்படுத்தி தமிழ்...      NOT\n",
       "\n",
       "[654 rows x 3 columns]"
      ]
     },
     "execution_count": 81,
     "metadata": {},
     "output_type": "execute_result"
    }
   ],
   "source": [
    "# K Nearest Neighbours\n",
    "\n",
    "predictions = le.inverse_transform(knn_test_pred)\n",
    "\n",
    "dataframe_test_knn = {\n",
    "    'id': dataframe_test['id'],\n",
    "    'text': dataframe_test['text'],\n",
    "    'category': predictions\n",
    "}\n",
    "\n",
    "dataframe_test_knn = pd.DataFrame(dataframe_test_knn)\n",
    "dataframe_test_knn.to_csv(\"Output/MaskedLM-KNearestNeighbours.csv\")\n",
    "dataframe_test_knn"
   ]
  },
  {
   "cell_type": "code",
   "execution_count": 82,
   "metadata": {
    "colab": {
     "base_uri": "https://localhost:8080/",
     "height": 424
    },
    "executionInfo": {
     "elapsed": 17,
     "status": "ok",
     "timestamp": 1633569616049,
     "user": {
      "displayName": "Srivarshan 19BAI1078",
      "photoUrl": "https://lh3.googleusercontent.com/a/default-user=s64",
      "userId": "03718411517360748676"
     },
     "user_tz": -330
    },
    "id": "QKxZREKAOXgR",
    "outputId": "4a299c3c-e64f-4706-f6b3-bdd9cb384dc3"
   },
   "outputs": [
    {
     "data": {
      "text/html": [
       "<div>\n",
       "<style scoped>\n",
       "    .dataframe tbody tr th:only-of-type {\n",
       "        vertical-align: middle;\n",
       "    }\n",
       "\n",
       "    .dataframe tbody tr th {\n",
       "        vertical-align: top;\n",
       "    }\n",
       "\n",
       "    .dataframe thead th {\n",
       "        text-align: right;\n",
       "    }\n",
       "</style>\n",
       "<table border=\"1\" class=\"dataframe\">\n",
       "  <thead>\n",
       "    <tr style=\"text-align: right;\">\n",
       "      <th></th>\n",
       "      <th>id</th>\n",
       "      <th>text</th>\n",
       "      <th>category</th>\n",
       "    </tr>\n",
       "  </thead>\n",
       "  <tbody>\n",
       "    <tr>\n",
       "      <th>0</th>\n",
       "      <td>tam_test_1</td>\n",
       "      <td>தலைவா STR இதுக்குதான் கதுருந்தோம் மாஸ் தலைவா t...</td>\n",
       "      <td>OFF</td>\n",
       "    </tr>\n",
       "    <tr>\n",
       "      <th>1</th>\n",
       "      <td>tam_test_2</td>\n",
       "      <td>நாயுடு மக்கள் சார்பாக திரைப்படம் வெற்றி பெற வா...</td>\n",
       "      <td>NOT</td>\n",
       "    </tr>\n",
       "    <tr>\n",
       "      <th>2</th>\n",
       "      <td>tam_test_3</td>\n",
       "      <td>தில்லானா முயற்சி  தஞ்சை கோனார்</td>\n",
       "      <td>NOT</td>\n",
       "    </tr>\n",
       "    <tr>\n",
       "      <th>3</th>\n",
       "      <td>tam_test_4</td>\n",
       "      <td>திரௌபதியின் துகிலுறித்த போது காத்த கண்ணனின் யா...</td>\n",
       "      <td>NOT</td>\n",
       "    </tr>\n",
       "    <tr>\n",
       "      <th>4</th>\n",
       "      <td>tam_test_5</td>\n",
       "      <td>நான் தியேட்டர்லே படம் பார்த்து 35 வருஷமாச்சு! ...</td>\n",
       "      <td>NOT</td>\n",
       "    </tr>\n",
       "    <tr>\n",
       "      <th>...</th>\n",
       "      <td>...</td>\n",
       "      <td>...</td>\n",
       "      <td>...</td>\n",
       "    </tr>\n",
       "    <tr>\n",
       "      <th>649</th>\n",
       "      <td>tam_test_650</td>\n",
       "      <td>நான் தலைவரோட ரசிகன்னு சொல்லிடு தலைவரை ஒடசல் போ...</td>\n",
       "      <td>OFF</td>\n",
       "    </tr>\n",
       "    <tr>\n",
       "      <th>650</th>\n",
       "      <td>tam_test_651</td>\n",
       "      <td>வாழ்த்துக்கள்,உண்மை கதை உலகத்துக்கு காட்டிய மோ...</td>\n",
       "      <td>NOT</td>\n",
       "    </tr>\n",
       "    <tr>\n",
       "      <th>651</th>\n",
       "      <td>tam_test_652</td>\n",
       "      <td>குருமா and பா..குஞ்சித் பயலுக கதர்ரது இன்னும் ...</td>\n",
       "      <td>NOT</td>\n",
       "    </tr>\n",
       "    <tr>\n",
       "      <th>652</th>\n",
       "      <td>tam_test_653</td>\n",
       "      <td>வெள்ளார்கள் சார்பாக படம் வெற்றி பெற வாழ்த்துக்...</td>\n",
       "      <td>NOT</td>\n",
       "    </tr>\n",
       "    <tr>\n",
       "      <th>653</th>\n",
       "      <td>tam_test_654</td>\n",
       "      <td>சமீபகாலமாக கால்பந்தாட்டத்தை மையப்படுத்தி தமிழ்...</td>\n",
       "      <td>OFF</td>\n",
       "    </tr>\n",
       "  </tbody>\n",
       "</table>\n",
       "<p>654 rows × 3 columns</p>\n",
       "</div>"
      ],
      "text/plain": [
       "               id                                               text category\n",
       "0      tam_test_1  தலைவா STR இதுக்குதான் கதுருந்தோம் மாஸ் தலைவா t...      OFF\n",
       "1      tam_test_2  நாயுடு மக்கள் சார்பாக திரைப்படம் வெற்றி பெற வா...      NOT\n",
       "2      tam_test_3                     தில்லானா முயற்சி  தஞ்சை கோனார்      NOT\n",
       "3      tam_test_4  திரௌபதியின் துகிலுறித்த போது காத்த கண்ணனின் யா...      NOT\n",
       "4      tam_test_5  நான் தியேட்டர்லே படம் பார்த்து 35 வருஷமாச்சு! ...      NOT\n",
       "..            ...                                                ...      ...\n",
       "649  tam_test_650  நான் தலைவரோட ரசிகன்னு சொல்லிடு தலைவரை ஒடசல் போ...      OFF\n",
       "650  tam_test_651  வாழ்த்துக்கள்,உண்மை கதை உலகத்துக்கு காட்டிய மோ...      NOT\n",
       "651  tam_test_652  குருமா and பா..குஞ்சித் பயலுக கதர்ரது இன்னும் ...      NOT\n",
       "652  tam_test_653  வெள்ளார்கள் சார்பாக படம் வெற்றி பெற வாழ்த்துக்...      NOT\n",
       "653  tam_test_654  சமீபகாலமாக கால்பந்தாட்டத்தை மையப்படுத்தி தமிழ்...      OFF\n",
       "\n",
       "[654 rows x 3 columns]"
      ]
     },
     "execution_count": 82,
     "metadata": {},
     "output_type": "execute_result"
    }
   ],
   "source": [
    "# Decision Tree\n",
    "\n",
    "predictions = le.inverse_transform(dt_test_pred)\n",
    "\n",
    "dataframe_test_dt = {\n",
    "    'id': dataframe_test['id'],\n",
    "    'text': dataframe_test['text'],\n",
    "    'category': predictions\n",
    "}\n",
    "\n",
    "dataframe_test_dt = pd.DataFrame(dataframe_test_dt)\n",
    "dataframe_test_dt.to_csv(\"Output/MaskedLM-DecisionTree.csv\")\n",
    "dataframe_test_dt"
   ]
  },
  {
   "cell_type": "code",
   "execution_count": 83,
   "metadata": {
    "colab": {
     "base_uri": "https://localhost:8080/",
     "height": 424
    },
    "executionInfo": {
     "elapsed": 16,
     "status": "ok",
     "timestamp": 1633569616050,
     "user": {
      "displayName": "Srivarshan 19BAI1078",
      "photoUrl": "https://lh3.googleusercontent.com/a/default-user=s64",
      "userId": "03718411517360748676"
     },
     "user_tz": -330
    },
    "id": "AtEa4WtzOdQn",
    "outputId": "83b96818-3554-4faf-afa1-94fede46f627"
   },
   "outputs": [
    {
     "data": {
      "text/html": [
       "<div>\n",
       "<style scoped>\n",
       "    .dataframe tbody tr th:only-of-type {\n",
       "        vertical-align: middle;\n",
       "    }\n",
       "\n",
       "    .dataframe tbody tr th {\n",
       "        vertical-align: top;\n",
       "    }\n",
       "\n",
       "    .dataframe thead th {\n",
       "        text-align: right;\n",
       "    }\n",
       "</style>\n",
       "<table border=\"1\" class=\"dataframe\">\n",
       "  <thead>\n",
       "    <tr style=\"text-align: right;\">\n",
       "      <th></th>\n",
       "      <th>id</th>\n",
       "      <th>text</th>\n",
       "      <th>category</th>\n",
       "    </tr>\n",
       "  </thead>\n",
       "  <tbody>\n",
       "    <tr>\n",
       "      <th>0</th>\n",
       "      <td>tam_test_1</td>\n",
       "      <td>தலைவா STR இதுக்குதான் கதுருந்தோம் மாஸ் தலைவா t...</td>\n",
       "      <td>NOT</td>\n",
       "    </tr>\n",
       "    <tr>\n",
       "      <th>1</th>\n",
       "      <td>tam_test_2</td>\n",
       "      <td>நாயுடு மக்கள் சார்பாக திரைப்படம் வெற்றி பெற வா...</td>\n",
       "      <td>NOT</td>\n",
       "    </tr>\n",
       "    <tr>\n",
       "      <th>2</th>\n",
       "      <td>tam_test_3</td>\n",
       "      <td>தில்லானா முயற்சி  தஞ்சை கோனார்</td>\n",
       "      <td>NOT</td>\n",
       "    </tr>\n",
       "    <tr>\n",
       "      <th>3</th>\n",
       "      <td>tam_test_4</td>\n",
       "      <td>திரௌபதியின் துகிலுறித்த போது காத்த கண்ணனின் யா...</td>\n",
       "      <td>NOT</td>\n",
       "    </tr>\n",
       "    <tr>\n",
       "      <th>4</th>\n",
       "      <td>tam_test_5</td>\n",
       "      <td>நான் தியேட்டர்லே படம் பார்த்து 35 வருஷமாச்சு! ...</td>\n",
       "      <td>NOT</td>\n",
       "    </tr>\n",
       "    <tr>\n",
       "      <th>...</th>\n",
       "      <td>...</td>\n",
       "      <td>...</td>\n",
       "      <td>...</td>\n",
       "    </tr>\n",
       "    <tr>\n",
       "      <th>649</th>\n",
       "      <td>tam_test_650</td>\n",
       "      <td>நான் தலைவரோட ரசிகன்னு சொல்லிடு தலைவரை ஒடசல் போ...</td>\n",
       "      <td>NOT</td>\n",
       "    </tr>\n",
       "    <tr>\n",
       "      <th>650</th>\n",
       "      <td>tam_test_651</td>\n",
       "      <td>வாழ்த்துக்கள்,உண்மை கதை உலகத்துக்கு காட்டிய மோ...</td>\n",
       "      <td>NOT</td>\n",
       "    </tr>\n",
       "    <tr>\n",
       "      <th>651</th>\n",
       "      <td>tam_test_652</td>\n",
       "      <td>குருமா and பா..குஞ்சித் பயலுக கதர்ரது இன்னும் ...</td>\n",
       "      <td>NOT</td>\n",
       "    </tr>\n",
       "    <tr>\n",
       "      <th>652</th>\n",
       "      <td>tam_test_653</td>\n",
       "      <td>வெள்ளார்கள் சார்பாக படம் வெற்றி பெற வாழ்த்துக்...</td>\n",
       "      <td>NOT</td>\n",
       "    </tr>\n",
       "    <tr>\n",
       "      <th>653</th>\n",
       "      <td>tam_test_654</td>\n",
       "      <td>சமீபகாலமாக கால்பந்தாட்டத்தை மையப்படுத்தி தமிழ்...</td>\n",
       "      <td>NOT</td>\n",
       "    </tr>\n",
       "  </tbody>\n",
       "</table>\n",
       "<p>654 rows × 3 columns</p>\n",
       "</div>"
      ],
      "text/plain": [
       "               id                                               text category\n",
       "0      tam_test_1  தலைவா STR இதுக்குதான் கதுருந்தோம் மாஸ் தலைவா t...      NOT\n",
       "1      tam_test_2  நாயுடு மக்கள் சார்பாக திரைப்படம் வெற்றி பெற வா...      NOT\n",
       "2      tam_test_3                     தில்லானா முயற்சி  தஞ்சை கோனார்      NOT\n",
       "3      tam_test_4  திரௌபதியின் துகிலுறித்த போது காத்த கண்ணனின் யா...      NOT\n",
       "4      tam_test_5  நான் தியேட்டர்லே படம் பார்த்து 35 வருஷமாச்சு! ...      NOT\n",
       "..            ...                                                ...      ...\n",
       "649  tam_test_650  நான் தலைவரோட ரசிகன்னு சொல்லிடு தலைவரை ஒடசல் போ...      NOT\n",
       "650  tam_test_651  வாழ்த்துக்கள்,உண்மை கதை உலகத்துக்கு காட்டிய மோ...      NOT\n",
       "651  tam_test_652  குருமா and பா..குஞ்சித் பயலுக கதர்ரது இன்னும் ...      NOT\n",
       "652  tam_test_653  வெள்ளார்கள் சார்பாக படம் வெற்றி பெற வாழ்த்துக்...      NOT\n",
       "653  tam_test_654  சமீபகாலமாக கால்பந்தாட்டத்தை மையப்படுத்தி தமிழ்...      NOT\n",
       "\n",
       "[654 rows x 3 columns]"
      ]
     },
     "execution_count": 83,
     "metadata": {},
     "output_type": "execute_result"
    }
   ],
   "source": [
    "# Random Forest\n",
    "\n",
    "predictions = le.inverse_transform(rf_test_pred)\n",
    "\n",
    "dataframe_test_rf = {\n",
    "    'id': dataframe_test['id'],\n",
    "    'text': dataframe_test['text'],\n",
    "    'category': predictions\n",
    "}\n",
    "\n",
    "dataframe_test_rf = pd.DataFrame(dataframe_test_rf)\n",
    "dataframe_test_rf.to_csv(\"Output/MaskedLM-RandomForest.csv\")\n",
    "dataframe_test_rf"
   ]
  },
  {
   "cell_type": "code",
   "execution_count": 84,
   "metadata": {
    "colab": {
     "base_uri": "https://localhost:8080/",
     "height": 424
    },
    "executionInfo": {
     "elapsed": 9,
     "status": "ok",
     "timestamp": 1633569616555,
     "user": {
      "displayName": "Srivarshan 19BAI1078",
      "photoUrl": "https://lh3.googleusercontent.com/a/default-user=s64",
      "userId": "03718411517360748676"
     },
     "user_tz": -330
    },
    "id": "pZdEL3mSOhBk",
    "outputId": "e248448b-d2a5-406b-c19e-8896e906a6bf"
   },
   "outputs": [
    {
     "data": {
      "text/html": [
       "<div>\n",
       "<style scoped>\n",
       "    .dataframe tbody tr th:only-of-type {\n",
       "        vertical-align: middle;\n",
       "    }\n",
       "\n",
       "    .dataframe tbody tr th {\n",
       "        vertical-align: top;\n",
       "    }\n",
       "\n",
       "    .dataframe thead th {\n",
       "        text-align: right;\n",
       "    }\n",
       "</style>\n",
       "<table border=\"1\" class=\"dataframe\">\n",
       "  <thead>\n",
       "    <tr style=\"text-align: right;\">\n",
       "      <th></th>\n",
       "      <th>id</th>\n",
       "      <th>text</th>\n",
       "      <th>category</th>\n",
       "    </tr>\n",
       "  </thead>\n",
       "  <tbody>\n",
       "    <tr>\n",
       "      <th>0</th>\n",
       "      <td>tam_test_1</td>\n",
       "      <td>தலைவா STR இதுக்குதான் கதுருந்தோம் மாஸ் தலைவா t...</td>\n",
       "      <td>NOT</td>\n",
       "    </tr>\n",
       "    <tr>\n",
       "      <th>1</th>\n",
       "      <td>tam_test_2</td>\n",
       "      <td>நாயுடு மக்கள் சார்பாக திரைப்படம் வெற்றி பெற வா...</td>\n",
       "      <td>NOT</td>\n",
       "    </tr>\n",
       "    <tr>\n",
       "      <th>2</th>\n",
       "      <td>tam_test_3</td>\n",
       "      <td>தில்லானா முயற்சி  தஞ்சை கோனார்</td>\n",
       "      <td>NOT</td>\n",
       "    </tr>\n",
       "    <tr>\n",
       "      <th>3</th>\n",
       "      <td>tam_test_4</td>\n",
       "      <td>திரௌபதியின் துகிலுறித்த போது காத்த கண்ணனின் யா...</td>\n",
       "      <td>NOT</td>\n",
       "    </tr>\n",
       "    <tr>\n",
       "      <th>4</th>\n",
       "      <td>tam_test_5</td>\n",
       "      <td>நான் தியேட்டர்லே படம் பார்த்து 35 வருஷமாச்சு! ...</td>\n",
       "      <td>NOT</td>\n",
       "    </tr>\n",
       "    <tr>\n",
       "      <th>...</th>\n",
       "      <td>...</td>\n",
       "      <td>...</td>\n",
       "      <td>...</td>\n",
       "    </tr>\n",
       "    <tr>\n",
       "      <th>649</th>\n",
       "      <td>tam_test_650</td>\n",
       "      <td>நான் தலைவரோட ரசிகன்னு சொல்லிடு தலைவரை ஒடசல் போ...</td>\n",
       "      <td>NOT</td>\n",
       "    </tr>\n",
       "    <tr>\n",
       "      <th>650</th>\n",
       "      <td>tam_test_651</td>\n",
       "      <td>வாழ்த்துக்கள்,உண்மை கதை உலகத்துக்கு காட்டிய மோ...</td>\n",
       "      <td>NOT</td>\n",
       "    </tr>\n",
       "    <tr>\n",
       "      <th>651</th>\n",
       "      <td>tam_test_652</td>\n",
       "      <td>குருமா and பா..குஞ்சித் பயலுக கதர்ரது இன்னும் ...</td>\n",
       "      <td>NOT</td>\n",
       "    </tr>\n",
       "    <tr>\n",
       "      <th>652</th>\n",
       "      <td>tam_test_653</td>\n",
       "      <td>வெள்ளார்கள் சார்பாக படம் வெற்றி பெற வாழ்த்துக்...</td>\n",
       "      <td>NOT</td>\n",
       "    </tr>\n",
       "    <tr>\n",
       "      <th>653</th>\n",
       "      <td>tam_test_654</td>\n",
       "      <td>சமீபகாலமாக கால்பந்தாட்டத்தை மையப்படுத்தி தமிழ்...</td>\n",
       "      <td>NOT</td>\n",
       "    </tr>\n",
       "  </tbody>\n",
       "</table>\n",
       "<p>654 rows × 3 columns</p>\n",
       "</div>"
      ],
      "text/plain": [
       "               id                                               text category\n",
       "0      tam_test_1  தலைவா STR இதுக்குதான் கதுருந்தோம் மாஸ் தலைவா t...      NOT\n",
       "1      tam_test_2  நாயுடு மக்கள் சார்பாக திரைப்படம் வெற்றி பெற வா...      NOT\n",
       "2      tam_test_3                     தில்லானா முயற்சி  தஞ்சை கோனார்      NOT\n",
       "3      tam_test_4  திரௌபதியின் துகிலுறித்த போது காத்த கண்ணனின் யா...      NOT\n",
       "4      tam_test_5  நான் தியேட்டர்லே படம் பார்த்து 35 வருஷமாச்சு! ...      NOT\n",
       "..            ...                                                ...      ...\n",
       "649  tam_test_650  நான் தலைவரோட ரசிகன்னு சொல்லிடு தலைவரை ஒடசல் போ...      NOT\n",
       "650  tam_test_651  வாழ்த்துக்கள்,உண்மை கதை உலகத்துக்கு காட்டிய மோ...      NOT\n",
       "651  tam_test_652  குருமா and பா..குஞ்சித் பயலுக கதர்ரது இன்னும் ...      NOT\n",
       "652  tam_test_653  வெள்ளார்கள் சார்பாக படம் வெற்றி பெற வாழ்த்துக்...      NOT\n",
       "653  tam_test_654  சமீபகாலமாக கால்பந்தாட்டத்தை மையப்படுத்தி தமிழ்...      NOT\n",
       "\n",
       "[654 rows x 3 columns]"
      ]
     },
     "execution_count": 84,
     "metadata": {},
     "output_type": "execute_result"
    }
   ],
   "source": [
    "# Majority Voting\n",
    "\n",
    "predictions = le.inverse_transform(mv_test_pred)\n",
    "\n",
    "dataframe_test_mv = {\n",
    "    'id': dataframe_test['id'],\n",
    "    'text': dataframe_test['text'],\n",
    "    'category': predictions\n",
    "}\n",
    "\n",
    "dataframe_test_mv = pd.DataFrame(dataframe_test_mv)\n",
    "dataframe_test_mv.to_csv(\"Output/MaskedLM-MajorityVoting.csv\")\n",
    "dataframe_test_mv"
   ]
  },
  {
   "cell_type": "code",
   "execution_count": null,
   "metadata": {
    "id": "4MLaa5ZBOj-g"
   },
   "outputs": [],
   "source": []
  }
 ],
 "metadata": {
  "accelerator": "GPU",
  "colab": {
   "authorship_tag": "ABX9TyMCFxIXrF2TiXpfSGb4ay+H",
   "collapsed_sections": [],
   "mount_file_id": "1EX38qhNi1UCK-6JcHMLrQOHKf3CwQKEN",
   "name": "MaskedLM.ipynb",
   "provenance": []
  },
  "kernelspec": {
   "display_name": "Python 3 (ipykernel)",
   "language": "python",
   "name": "python3"
  },
  "language_info": {
   "codemirror_mode": {
    "name": "ipython",
    "version": 3
   },
   "file_extension": ".py",
   "mimetype": "text/x-python",
   "name": "python",
   "nbconvert_exporter": "python",
   "pygments_lexer": "ipython3",
   "version": "3.10.1"
  },
  "widgets": {
   "application/vnd.jupyter.widget-state+json": {
    "0502b7e89c4e4cf5a6324f884c1f2064": {
     "model_module": "@jupyter-widgets/controls",
     "model_module_version": "1.5.0",
     "model_name": "HBoxModel",
     "state": {
      "_dom_classes": [],
      "_model_module": "@jupyter-widgets/controls",
      "_model_module_version": "1.5.0",
      "_model_name": "HBoxModel",
      "_view_count": null,
      "_view_module": "@jupyter-widgets/controls",
      "_view_module_version": "1.5.0",
      "_view_name": "HBoxView",
      "box_style": "",
      "children": [
       "IPY_MODEL_bb0a50447c80401a9335bb114f6e458c",
       "IPY_MODEL_7f55b36eac794c1eb154bda0a7a7c5aa",
       "IPY_MODEL_3e1bd3c7b1524ed6b16633f6eb2f91af"
      ],
      "layout": "IPY_MODEL_7ce158abc0e1440b9ffda0a6f3a3c1e8"
     }
    },
    "08ad52af64504c60be1a38360db6c6cc": {
     "model_module": "@jupyter-widgets/base",
     "model_module_version": "1.2.0",
     "model_name": "LayoutModel",
     "state": {
      "_model_module": "@jupyter-widgets/base",
      "_model_module_version": "1.2.0",
      "_model_name": "LayoutModel",
      "_view_count": null,
      "_view_module": "@jupyter-widgets/base",
      "_view_module_version": "1.2.0",
      "_view_name": "LayoutView",
      "align_content": null,
      "align_items": null,
      "align_self": null,
      "border": null,
      "bottom": null,
      "display": null,
      "flex": null,
      "flex_flow": null,
      "grid_area": null,
      "grid_auto_columns": null,
      "grid_auto_flow": null,
      "grid_auto_rows": null,
      "grid_column": null,
      "grid_gap": null,
      "grid_row": null,
      "grid_template_areas": null,
      "grid_template_columns": null,
      "grid_template_rows": null,
      "height": null,
      "justify_content": null,
      "justify_items": null,
      "left": null,
      "margin": null,
      "max_height": null,
      "max_width": null,
      "min_height": null,
      "min_width": null,
      "object_fit": null,
      "object_position": null,
      "order": null,
      "overflow": null,
      "overflow_x": null,
      "overflow_y": null,
      "padding": null,
      "right": null,
      "top": null,
      "visibility": null,
      "width": null
     }
    },
    "15a216dd0e214f078d8cb40a539408cf": {
     "model_module": "@jupyter-widgets/controls",
     "model_module_version": "1.5.0",
     "model_name": "DescriptionStyleModel",
     "state": {
      "_model_module": "@jupyter-widgets/controls",
      "_model_module_version": "1.5.0",
      "_model_name": "DescriptionStyleModel",
      "_view_count": null,
      "_view_module": "@jupyter-widgets/base",
      "_view_module_version": "1.2.0",
      "_view_name": "StyleView",
      "description_width": ""
     }
    },
    "3e1bd3c7b1524ed6b16633f6eb2f91af": {
     "model_module": "@jupyter-widgets/controls",
     "model_module_version": "1.5.0",
     "model_name": "HTMLModel",
     "state": {
      "_dom_classes": [],
      "_model_module": "@jupyter-widgets/controls",
      "_model_module_version": "1.5.0",
      "_model_name": "HTMLModel",
      "_view_count": null,
      "_view_module": "@jupyter-widgets/controls",
      "_view_module_version": "1.5.0",
      "_view_name": "HTMLView",
      "description": "",
      "description_tooltip": null,
      "layout": "IPY_MODEL_45d95bcd1dbe45589f1ce20730667494",
      "placeholder": "​",
      "style": "IPY_MODEL_15a216dd0e214f078d8cb40a539408cf",
      "value": " 226k/226k [00:00&lt;00:00, 699kB/s]"
     }
    },
    "45d95bcd1dbe45589f1ce20730667494": {
     "model_module": "@jupyter-widgets/base",
     "model_module_version": "1.2.0",
     "model_name": "LayoutModel",
     "state": {
      "_model_module": "@jupyter-widgets/base",
      "_model_module_version": "1.2.0",
      "_model_name": "LayoutModel",
      "_view_count": null,
      "_view_module": "@jupyter-widgets/base",
      "_view_module_version": "1.2.0",
      "_view_name": "LayoutView",
      "align_content": null,
      "align_items": null,
      "align_self": null,
      "border": null,
      "bottom": null,
      "display": null,
      "flex": null,
      "flex_flow": null,
      "grid_area": null,
      "grid_auto_columns": null,
      "grid_auto_flow": null,
      "grid_auto_rows": null,
      "grid_column": null,
      "grid_gap": null,
      "grid_row": null,
      "grid_template_areas": null,
      "grid_template_columns": null,
      "grid_template_rows": null,
      "height": null,
      "justify_content": null,
      "justify_items": null,
      "left": null,
      "margin": null,
      "max_height": null,
      "max_width": null,
      "min_height": null,
      "min_width": null,
      "object_fit": null,
      "object_position": null,
      "order": null,
      "overflow": null,
      "overflow_x": null,
      "overflow_y": null,
      "padding": null,
      "right": null,
      "top": null,
      "visibility": null,
      "width": null
     }
    },
    "7ce158abc0e1440b9ffda0a6f3a3c1e8": {
     "model_module": "@jupyter-widgets/base",
     "model_module_version": "1.2.0",
     "model_name": "LayoutModel",
     "state": {
      "_model_module": "@jupyter-widgets/base",
      "_model_module_version": "1.2.0",
      "_model_name": "LayoutModel",
      "_view_count": null,
      "_view_module": "@jupyter-widgets/base",
      "_view_module_version": "1.2.0",
      "_view_name": "LayoutView",
      "align_content": null,
      "align_items": null,
      "align_self": null,
      "border": null,
      "bottom": null,
      "display": null,
      "flex": null,
      "flex_flow": null,
      "grid_area": null,
      "grid_auto_columns": null,
      "grid_auto_flow": null,
      "grid_auto_rows": null,
      "grid_column": null,
      "grid_gap": null,
      "grid_row": null,
      "grid_template_areas": null,
      "grid_template_columns": null,
      "grid_template_rows": null,
      "height": null,
      "justify_content": null,
      "justify_items": null,
      "left": null,
      "margin": null,
      "max_height": null,
      "max_width": null,
      "min_height": null,
      "min_width": null,
      "object_fit": null,
      "object_position": null,
      "order": null,
      "overflow": null,
      "overflow_x": null,
      "overflow_y": null,
      "padding": null,
      "right": null,
      "top": null,
      "visibility": null,
      "width": null
     }
    },
    "7f55b36eac794c1eb154bda0a7a7c5aa": {
     "model_module": "@jupyter-widgets/controls",
     "model_module_version": "1.5.0",
     "model_name": "FloatProgressModel",
     "state": {
      "_dom_classes": [],
      "_model_module": "@jupyter-widgets/controls",
      "_model_module_version": "1.5.0",
      "_model_name": "FloatProgressModel",
      "_view_count": null,
      "_view_module": "@jupyter-widgets/controls",
      "_view_module_version": "1.5.0",
      "_view_name": "ProgressView",
      "bar_style": "success",
      "description": "",
      "description_tooltip": null,
      "layout": "IPY_MODEL_a5991c5d8e9e49139df5a1d23b67098e",
      "max": 231508,
      "min": 0,
      "orientation": "horizontal",
      "style": "IPY_MODEL_fb556cb2d6394556ae9f86f20a36d3a3",
      "value": 231508
     }
    },
    "a5991c5d8e9e49139df5a1d23b67098e": {
     "model_module": "@jupyter-widgets/base",
     "model_module_version": "1.2.0",
     "model_name": "LayoutModel",
     "state": {
      "_model_module": "@jupyter-widgets/base",
      "_model_module_version": "1.2.0",
      "_model_name": "LayoutModel",
      "_view_count": null,
      "_view_module": "@jupyter-widgets/base",
      "_view_module_version": "1.2.0",
      "_view_name": "LayoutView",
      "align_content": null,
      "align_items": null,
      "align_self": null,
      "border": null,
      "bottom": null,
      "display": null,
      "flex": null,
      "flex_flow": null,
      "grid_area": null,
      "grid_auto_columns": null,
      "grid_auto_flow": null,
      "grid_auto_rows": null,
      "grid_column": null,
      "grid_gap": null,
      "grid_row": null,
      "grid_template_areas": null,
      "grid_template_columns": null,
      "grid_template_rows": null,
      "height": null,
      "justify_content": null,
      "justify_items": null,
      "left": null,
      "margin": null,
      "max_height": null,
      "max_width": null,
      "min_height": null,
      "min_width": null,
      "object_fit": null,
      "object_position": null,
      "order": null,
      "overflow": null,
      "overflow_x": null,
      "overflow_y": null,
      "padding": null,
      "right": null,
      "top": null,
      "visibility": null,
      "width": null
     }
    },
    "bb0a50447c80401a9335bb114f6e458c": {
     "model_module": "@jupyter-widgets/controls",
     "model_module_version": "1.5.0",
     "model_name": "HTMLModel",
     "state": {
      "_dom_classes": [],
      "_model_module": "@jupyter-widgets/controls",
      "_model_module_version": "1.5.0",
      "_model_name": "HTMLModel",
      "_view_count": null,
      "_view_module": "@jupyter-widgets/controls",
      "_view_module_version": "1.5.0",
      "_view_name": "HTMLView",
      "description": "",
      "description_tooltip": null,
      "layout": "IPY_MODEL_08ad52af64504c60be1a38360db6c6cc",
      "placeholder": "​",
      "style": "IPY_MODEL_f6b3b9e85f27416e8edd00cea058fb08",
      "value": "Downloading: 100%"
     }
    },
    "f6b3b9e85f27416e8edd00cea058fb08": {
     "model_module": "@jupyter-widgets/controls",
     "model_module_version": "1.5.0",
     "model_name": "DescriptionStyleModel",
     "state": {
      "_model_module": "@jupyter-widgets/controls",
      "_model_module_version": "1.5.0",
      "_model_name": "DescriptionStyleModel",
      "_view_count": null,
      "_view_module": "@jupyter-widgets/base",
      "_view_module_version": "1.2.0",
      "_view_name": "StyleView",
      "description_width": ""
     }
    },
    "fb556cb2d6394556ae9f86f20a36d3a3": {
     "model_module": "@jupyter-widgets/controls",
     "model_module_version": "1.5.0",
     "model_name": "ProgressStyleModel",
     "state": {
      "_model_module": "@jupyter-widgets/controls",
      "_model_module_version": "1.5.0",
      "_model_name": "ProgressStyleModel",
      "_view_count": null,
      "_view_module": "@jupyter-widgets/base",
      "_view_module_version": "1.2.0",
      "_view_name": "StyleView",
      "bar_color": null,
      "description_width": ""
     }
    }
   }
  }
 },
 "nbformat": 4,
 "nbformat_minor": 4
}
